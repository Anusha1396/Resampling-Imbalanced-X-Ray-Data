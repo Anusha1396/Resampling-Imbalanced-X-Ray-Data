{
  "cells": [
    {
      "cell_type": "markdown",
      "metadata": {
        "id": "BXS9KIo58Ggv"
      },
      "source": [
        "# **Import Libraries**"
      ]
    },
    {
      "cell_type": "code",
      "execution_count": 1,
      "metadata": {
        "id": "XDKv76qPFoE5"
      },
      "outputs": [],
      "source": [
        "%matplotlib inline\n",
        "import numpy as np # linear algebra\n",
        "import pandas as pd # data processing, CSV file I/O (e.g. pd.read_csv)\n",
        "from glob import glob \n",
        "import matplotlib.pyplot as plt\n",
        "import os\n",
        "import pandas as pd\n",
        "import seaborn as sns\n",
        "from skimage.util import montage as montage2d\n",
        "from skimage.io import imread\n",
        "import matplotlib.gridspec as gridspec\n",
        "import matplotlib.ticker as ticker\n",
        "sns.set_style('whitegrid')"
      ]
    },
    {
      "cell_type": "markdown",
      "metadata": {
        "id": "R3NRmgKQ8LlE"
      },
      "source": [
        "# **Import Dataset**"
      ]
    },
    {
      "cell_type": "code",
      "execution_count": 2,
      "metadata": {
        "colab": {
          "base_uri": "https://localhost:8080/"
        },
        "id": "5ElR-cIVFraN",
        "outputId": "3a17992d-3ed8-4dbb-87c0-647a8e1215a1"
      },
      "outputs": [
        {
          "output_type": "stream",
          "name": "stdout",
          "text": [
            "Scans found: 112120 , Total Headers 112120\n"
          ]
        }
      ],
      "source": [
        "\n",
        "all_xray_df = pd.read_csv('/content/drive/MyDrive/Data_Entry_2017_v2020.csv')\n",
        "all_xray_df.sample(5)\n",
        "all_image_paths =  glob('/content/drive/MyDrive/Images/image*/*.png')\n",
        "print('Scans found:', len(all_image_paths), ', Total Headers', all_xray_df.shape[0])"
      ]
    },
    {
      "cell_type": "code",
      "execution_count": 3,
      "metadata": {
        "colab": {
          "base_uri": "https://localhost:8080/",
          "height": 205
        },
        "id": "rwCtgeSOFtW2",
        "outputId": "8d870c7a-c840-4a3a-f263-45fe4dd9fdce"
      },
      "outputs": [
        {
          "output_type": "execute_result",
          "data": {
            "text/html": [
              "\n",
              "  <div id=\"df-8fe29188-6ffc-41dd-bc06-1c060cb4f2ae\">\n",
              "    <div class=\"colab-df-container\">\n",
              "      <div>\n",
              "<style scoped>\n",
              "    .dataframe tbody tr th:only-of-type {\n",
              "        vertical-align: middle;\n",
              "    }\n",
              "\n",
              "    .dataframe tbody tr th {\n",
              "        vertical-align: top;\n",
              "    }\n",
              "\n",
              "    .dataframe thead th {\n",
              "        text-align: right;\n",
              "    }\n",
              "</style>\n",
              "<table border=\"1\" class=\"dataframe\">\n",
              "  <thead>\n",
              "    <tr style=\"text-align: right;\">\n",
              "      <th></th>\n",
              "      <th>Image Index</th>\n",
              "      <th>Finding Labels</th>\n",
              "      <th>Follow-up #</th>\n",
              "      <th>Patient ID</th>\n",
              "      <th>Patient Age</th>\n",
              "      <th>Patient Gender</th>\n",
              "      <th>View Position</th>\n",
              "      <th>OriginalImage[Width</th>\n",
              "      <th>Height]</th>\n",
              "      <th>OriginalImagePixelSpacing[x</th>\n",
              "      <th>y]</th>\n",
              "      <th>path</th>\n",
              "      <th>Pneumonia</th>\n",
              "      <th>Patient Male</th>\n",
              "    </tr>\n",
              "  </thead>\n",
              "  <tbody>\n",
              "    <tr>\n",
              "      <th>24162</th>\n",
              "      <td>00006342_006.png</td>\n",
              "      <td>Infiltration</td>\n",
              "      <td>6</td>\n",
              "      <td>6342</td>\n",
              "      <td>53</td>\n",
              "      <td>M</td>\n",
              "      <td>PA</td>\n",
              "      <td>2992</td>\n",
              "      <td>2991</td>\n",
              "      <td>0.143000</td>\n",
              "      <td>0.143000</td>\n",
              "      <td>/content/drive/MyDrive/Images/image3/00006342_...</td>\n",
              "      <td>False</td>\n",
              "      <td>1.0</td>\n",
              "    </tr>\n",
              "    <tr>\n",
              "      <th>110921</th>\n",
              "      <td>00030250_000.png</td>\n",
              "      <td>No Finding</td>\n",
              "      <td>0</td>\n",
              "      <td>30250</td>\n",
              "      <td>45</td>\n",
              "      <td>F</td>\n",
              "      <td>PA</td>\n",
              "      <td>2021</td>\n",
              "      <td>2021</td>\n",
              "      <td>0.194311</td>\n",
              "      <td>0.194311</td>\n",
              "      <td>/content/drive/MyDrive/Images/image12/00030250...</td>\n",
              "      <td>False</td>\n",
              "      <td>0.0</td>\n",
              "    </tr>\n",
              "    <tr>\n",
              "      <th>68740</th>\n",
              "      <td>00016971_016.png</td>\n",
              "      <td>Effusion|Mass</td>\n",
              "      <td>16</td>\n",
              "      <td>16971</td>\n",
              "      <td>64</td>\n",
              "      <td>M</td>\n",
              "      <td>PA</td>\n",
              "      <td>2992</td>\n",
              "      <td>2991</td>\n",
              "      <td>0.143000</td>\n",
              "      <td>0.143000</td>\n",
              "      <td>/content/drive/MyDrive/Images/image8/00016971_...</td>\n",
              "      <td>False</td>\n",
              "      <td>1.0</td>\n",
              "    </tr>\n",
              "  </tbody>\n",
              "</table>\n",
              "</div>\n",
              "      <button class=\"colab-df-convert\" onclick=\"convertToInteractive('df-8fe29188-6ffc-41dd-bc06-1c060cb4f2ae')\"\n",
              "              title=\"Convert this dataframe to an interactive table.\"\n",
              "              style=\"display:none;\">\n",
              "        \n",
              "  <svg xmlns=\"http://www.w3.org/2000/svg\" height=\"24px\"viewBox=\"0 0 24 24\"\n",
              "       width=\"24px\">\n",
              "    <path d=\"M0 0h24v24H0V0z\" fill=\"none\"/>\n",
              "    <path d=\"M18.56 5.44l.94 2.06.94-2.06 2.06-.94-2.06-.94-.94-2.06-.94 2.06-2.06.94zm-11 1L8.5 8.5l.94-2.06 2.06-.94-2.06-.94L8.5 2.5l-.94 2.06-2.06.94zm10 10l.94 2.06.94-2.06 2.06-.94-2.06-.94-.94-2.06-.94 2.06-2.06.94z\"/><path d=\"M17.41 7.96l-1.37-1.37c-.4-.4-.92-.59-1.43-.59-.52 0-1.04.2-1.43.59L10.3 9.45l-7.72 7.72c-.78.78-.78 2.05 0 2.83L4 21.41c.39.39.9.59 1.41.59.51 0 1.02-.2 1.41-.59l7.78-7.78 2.81-2.81c.8-.78.8-2.07 0-2.86zM5.41 20L4 18.59l7.72-7.72 1.47 1.35L5.41 20z\"/>\n",
              "  </svg>\n",
              "      </button>\n",
              "      \n",
              "  <style>\n",
              "    .colab-df-container {\n",
              "      display:flex;\n",
              "      flex-wrap:wrap;\n",
              "      gap: 12px;\n",
              "    }\n",
              "\n",
              "    .colab-df-convert {\n",
              "      background-color: #E8F0FE;\n",
              "      border: none;\n",
              "      border-radius: 50%;\n",
              "      cursor: pointer;\n",
              "      display: none;\n",
              "      fill: #1967D2;\n",
              "      height: 32px;\n",
              "      padding: 0 0 0 0;\n",
              "      width: 32px;\n",
              "    }\n",
              "\n",
              "    .colab-df-convert:hover {\n",
              "      background-color: #E2EBFA;\n",
              "      box-shadow: 0px 1px 2px rgba(60, 64, 67, 0.3), 0px 1px 3px 1px rgba(60, 64, 67, 0.15);\n",
              "      fill: #174EA6;\n",
              "    }\n",
              "\n",
              "    [theme=dark] .colab-df-convert {\n",
              "      background-color: #3B4455;\n",
              "      fill: #D2E3FC;\n",
              "    }\n",
              "\n",
              "    [theme=dark] .colab-df-convert:hover {\n",
              "      background-color: #434B5C;\n",
              "      box-shadow: 0px 1px 3px 1px rgba(0, 0, 0, 0.15);\n",
              "      filter: drop-shadow(0px 1px 2px rgba(0, 0, 0, 0.3));\n",
              "      fill: #FFFFFF;\n",
              "    }\n",
              "  </style>\n",
              "\n",
              "      <script>\n",
              "        const buttonEl =\n",
              "          document.querySelector('#df-8fe29188-6ffc-41dd-bc06-1c060cb4f2ae button.colab-df-convert');\n",
              "        buttonEl.style.display =\n",
              "          google.colab.kernel.accessAllowed ? 'block' : 'none';\n",
              "\n",
              "        async function convertToInteractive(key) {\n",
              "          const element = document.querySelector('#df-8fe29188-6ffc-41dd-bc06-1c060cb4f2ae');\n",
              "          const dataTable =\n",
              "            await google.colab.kernel.invokeFunction('convertToInteractive',\n",
              "                                                     [key], {});\n",
              "          if (!dataTable) return;\n",
              "\n",
              "          const docLinkHtml = 'Like what you see? Visit the ' +\n",
              "            '<a target=\"_blank\" href=https://colab.research.google.com/notebooks/data_table.ipynb>data table notebook</a>'\n",
              "            + ' to learn more about interactive tables.';\n",
              "          element.innerHTML = '';\n",
              "          dataTable['output_type'] = 'display_data';\n",
              "          await google.colab.output.renderOutput(dataTable, element);\n",
              "          const docLink = document.createElement('div');\n",
              "          docLink.innerHTML = docLinkHtml;\n",
              "          element.appendChild(docLink);\n",
              "        }\n",
              "      </script>\n",
              "    </div>\n",
              "  </div>\n",
              "  "
            ],
            "text/plain": [
              "             Image Index Finding Labels  ...  Pneumonia  Patient Male\n",
              "24162   00006342_006.png   Infiltration  ...      False           1.0\n",
              "110921  00030250_000.png     No Finding  ...      False           0.0\n",
              "68740   00016971_016.png  Effusion|Mass  ...      False           1.0\n",
              "\n",
              "[3 rows x 14 columns]"
            ]
          },
          "metadata": {},
          "execution_count": 3
        }
      ],
      "source": [
        "img_paths = {os.path.basename(x): x for x in all_image_paths}\n",
        "all_xray_df['path'] = all_xray_df['Image Index'].map(img_paths.get)\n",
        "all_xray_df['Pneumonia'] = all_xray_df['Finding Labels'].map(lambda x: 'Pneumonia' in x)\n",
        "all_xray_df['Patient Age'] = np.clip(all_xray_df['Patient Age'], 5, 100)\n",
        "all_xray_df['Patient Male'] = all_xray_df['Patient Gender'].map(lambda x: x.upper()=='M').astype('float32')\n",
        "all_xray_df.sample(3)"
      ]
    },
    {
      "cell_type": "code",
      "execution_count": 4,
      "metadata": {
        "colab": {
          "base_uri": "https://localhost:8080/",
          "height": 626
        },
        "id": "gFyTcuPlFzr2",
        "outputId": "1d9f26d6-7ea0-4262-c503-3ef75b060687"
      },
      "outputs": [
        {
          "output_type": "display_data",
          "data": {
            "image/png": "[encoded data removed]",
            "text/plain": [
              "<Figure size 1080x720 with 2 Axes>"
            ]
          },
          "metadata": {
            "needs_background": "light"
          }
        }
      ],
      "source": [
        "pathology_list = ['Cardiomegaly','Emphysema','Effusion','Hernia','Nodule','Pneumothorax','Atelectasis','Pleural_Thickening','Mass','Edema','Consolidation','Infiltration','Fibrosis','Pneumonia']\n",
        "for pathology in pathology_list :\n",
        "    all_xray_df[pathology] = all_xray_df['Finding Labels'].apply(lambda x: 1 if pathology in x else 0)\n",
        "plt.figure(figsize=(15,10))\n",
        "gs = gridspec.GridSpec(8,1)\n",
        "ax1 = plt.subplot(gs[:7, :])\n",
        "ax2 = plt.subplot(gs[7, :])\n",
        "data1 = pd.melt(all_xray_df,\n",
        "             id_vars=['Patient Gender'],\n",
        "             value_vars = list(pathology_list),\n",
        "             var_name = 'Category',\n",
        "             value_name = 'Count')\n",
        "data1 = data1.loc[data1.Count>0]\n",
        "g=sns.countplot(y='Category',hue='Patient Gender',data=data1, ax=ax1, order = data1['Category'].value_counts().index)\n",
        "ax1.set( ylabel=\"\",xlabel=\"\")\n",
        "ax1.legend(fontsize=20)\n",
        "ax1.set_title('X Ray partition (total number = 121120)',fontsize=18);\n",
        "\n",
        "all_xray_df['Nothing']=all_xray_df['Finding Labels'].apply(lambda x: 1 if 'No Finding' in x else 0)\n",
        "\n",
        "data2 = pd.melt(all_xray_df,\n",
        "             id_vars=['Patient Gender'],\n",
        "             value_vars = list(['Nothing']),\n",
        "             var_name = 'Category',\n",
        "             value_name = 'Count')\n",
        "data2 = data2.loc[data2.Count>0]\n",
        "g=sns.countplot(y='Category',hue='Patient Gender',data=data2,ax=ax2)\n",
        "ax2.set( ylabel=\"\",xlabel=\"Number of decease\")\n",
        "ax2.legend('')\n",
        "plt.subplots_adjust(hspace=.5)\n",
        "all_xray_df['Pneumonia'] = all_xray_df['Finding Labels'].map(lambda x: 'Pneumonia' in x)"
      ]
    },
    {
      "cell_type": "markdown",
      "metadata": {
        "id": "1zNi6xsI2E2d"
      },
      "source": [
        "## **NO FINDINGS**"
      ]
    },
    {
      "cell_type": "code",
      "execution_count": null,
      "metadata": {
        "colab": {
          "base_uri": "https://localhost:8080/",
          "height": 266
        },
        "id": "Y94vfJC0F6EV",
        "outputId": "936e6cc0-7a57-427e-f9e6-bdd776902b91"
      },
      "outputs": [
        {
          "name": "stdout",
          "output_type": "stream",
          "text": [
            "1    60361\n",
            "0    51759\n",
            "Name: Nothing, dtype: int64\n"
          ]
        },
        {
          "data": {
            "text/plain": [
              "<seaborn.axisgrid.PairGrid at 0x7f40c0f63310>"
            ]
          },
          "execution_count": 5,
          "metadata": {},
          "output_type": "execute_result"
        },
        {
          "data": {
            "image/png": "[encoded data removed]",
            "text/plain": [
              "<Figure size 227.375x180 with 2 Axes>"
            ]
          },
          "metadata": {},
          "output_type": "display_data"
        }
      ],
      "source": [
        "positive_cases = np.sum(all_xray_df['Nothing']==True)//2\n",
        "oversample_factor = 4 # maximum number of cases in negative group so it isn't super rare\n",
        "more_balanced_df = all_xray_df.groupby(['Nothing']).apply(lambda x: x.sample(min(oversample_factor*positive_cases, x.shape[0]), \n",
        "                                                                                   replace = False)\n",
        "                                                      ).reset_index(drop = True)\n",
        "\n",
        "print(more_balanced_df['Nothing'].value_counts())\n",
        "sns.pairplot(more_balanced_df[['Patient Age', 'Nothing']], hue='Nothing')"
      ]
    },
    {
      "cell_type": "code",
      "execution_count": null,
      "metadata": {
        "colab": {
          "base_uri": "https://localhost:8080/",
          "height": 240
        },
        "id": "NeWTj6EmF8X-",
        "outputId": "4923c605-0412-4229-b5be-b3f05f0f97f4"
      },
      "outputs": [
        {
          "name": "stdout",
          "output_type": "stream",
          "text": [
            "train 78484 validation 20181 test 13455\n",
            "train 1    42253\n",
            "0    36231\n",
            "Name: Nothing, dtype: int64\n",
            "test 1    7244\n",
            "0    6211\n",
            "Name: Nothing, dtype: int64\n"
          ]
        },
        {
          "data": {
            "text/html": [
              "<div>\n",
              "<style scoped>\n",
              "    .dataframe tbody tr th:only-of-type {\n",
              "        vertical-align: middle;\n",
              "    }\n",
              "\n",
              "    .dataframe tbody tr th {\n",
              "        vertical-align: top;\n",
              "    }\n",
              "\n",
              "    .dataframe thead th {\n",
              "        text-align: right;\n",
              "    }\n",
              "</style>\n",
              "<table border=\"1\" class=\"dataframe\">\n",
              "  <thead>\n",
              "    <tr style=\"text-align: right;\">\n",
              "      <th></th>\n",
              "      <th>Image Index</th>\n",
              "      <th>Finding Labels</th>\n",
              "      <th>Follow-up #</th>\n",
              "      <th>Patient ID</th>\n",
              "      <th>Patient Age</th>\n",
              "      <th>Patient Gender</th>\n",
              "      <th>View Position</th>\n",
              "      <th>OriginalImage[Width</th>\n",
              "      <th>Height]</th>\n",
              "      <th>OriginalImagePixelSpacing[x</th>\n",
              "      <th>y]</th>\n",
              "      <th>path</th>\n",
              "      <th>Pneumonia</th>\n",
              "      <th>Patient Male</th>\n",
              "      <th>Cardiomegaly</th>\n",
              "      <th>Emphysema</th>\n",
              "      <th>Effusion</th>\n",
              "      <th>Hernia</th>\n",
              "      <th>Nodule</th>\n",
              "      <th>Pneumothorax</th>\n",
              "      <th>Atelectasis</th>\n",
              "      <th>Pleural_Thickening</th>\n",
              "      <th>Mass</th>\n",
              "      <th>Edema</th>\n",
              "      <th>Consolidation</th>\n",
              "      <th>Infiltration</th>\n",
              "      <th>Fibrosis</th>\n",
              "      <th>Nothing</th>\n",
              "    </tr>\n",
              "  </thead>\n",
              "  <tbody>\n",
              "    <tr>\n",
              "      <th>20332</th>\n",
              "      <td>00020922_002.png</td>\n",
              "      <td>Cardiomegaly|Consolidation|Effusion</td>\n",
              "      <td>0</td>\n",
              "      <td>20922</td>\n",
              "      <td>49</td>\n",
              "      <td>M</td>\n",
              "      <td>AP</td>\n",
              "      <td>3056</td>\n",
              "      <td>2544</td>\n",
              "      <td>0.139</td>\n",
              "      <td>0.139</td>\n",
              "      <td>/content/drive/MyDrive/Images/image9/00020922_...</td>\n",
              "      <td>False</td>\n",
              "      <td>1.0</td>\n",
              "      <td>1</td>\n",
              "      <td>0</td>\n",
              "      <td>1</td>\n",
              "      <td>0</td>\n",
              "      <td>0</td>\n",
              "      <td>0</td>\n",
              "      <td>0</td>\n",
              "      <td>0</td>\n",
              "      <td>0</td>\n",
              "      <td>0</td>\n",
              "      <td>1</td>\n",
              "      <td>0</td>\n",
              "      <td>0</td>\n",
              "      <td>0</td>\n",
              "    </tr>\n",
              "  </tbody>\n",
              "</table>\n",
              "</div>"
            ],
            "text/plain": [
              "            Image Index                       Finding Labels  ...  Fibrosis  Nothing\n",
              "20332  00020922_002.png  Cardiomegaly|Consolidation|Effusion  ...         0        0\n",
              "\n",
              "[1 rows x 28 columns]"
            ]
          },
          "execution_count": 10,
          "metadata": {},
          "output_type": "execute_result"
        }
      ],
      "source": [
        "from sklearn.model_selection import train_test_split\n",
        "raw_train_df, test_valid_df = train_test_split(more_balanced_df, \n",
        "                                   test_size = 0.30, \n",
        "                                   random_state = 2018,\n",
        "                                   stratify = more_balanced_df[['Nothing']])\n",
        "valid_df, test_df = train_test_split(test_valid_df, \n",
        "                                   test_size = 0.40, \n",
        "                                   random_state = 2018,\n",
        "                                   stratify = test_valid_df[['Nothing']])\n",
        "print('train', raw_train_df.shape[0], 'validation', valid_df.shape[0], 'test', test_df.shape[0])\n",
        "print('train', raw_train_df['Nothing'].value_counts())\n",
        "print('test', test_df['Nothing'].value_counts())\n",
        "raw_train_df.sample(1)"
      ]
    },
    {
      "cell_type": "markdown",
      "metadata": {
        "id": "7AvtJHdB7elK"
      },
      "source": [
        "# *Oversampling*"
      ]
    },
    {
      "cell_type": "code",
      "execution_count": null,
      "metadata": {
        "colab": {
          "base_uri": "https://localhost:8080/"
        },
        "id": "P6bSO7VOF-MG",
        "outputId": "78dee10b-f322-4d2d-c197-fc078c747b72"
      },
      "outputs": [
        {
          "name": "stdout",
          "output_type": "stream",
          "text": [
            "New Data Size: 120000 Old Size: 78484\n"
          ]
        }
      ],
      "source": [
        "train_df = raw_train_df.groupby(['Nothing']).apply(lambda x: x.sample(60000, replace = True)\n",
        "                                                      ).reset_index(drop = True)\n",
        "print('New Data Size:', train_df.shape[0], 'Old Size:', raw_train_df.shape[0])"
      ]
    },
    {
      "cell_type": "code",
      "execution_count": null,
      "metadata": {
        "id": "AYFdTMN17W5X"
      },
      "outputs": [],
      "source": [
        "from keras.preprocessing.image import ImageDataGenerator\n",
        "idg = ImageDataGenerator(zoom_range=0.2,\n",
        "                           fill_mode='nearest',\n",
        "                           rotation_range=25,  \n",
        "                           width_shift_range=0.25,  \n",
        "                           height_shift_range=0.25,  \n",
        "                           vertical_flip=False, \n",
        "                           horizontal_flip=True,\n",
        "                           shear_range = 0.2,\n",
        "                           samplewise_center=False, \n",
        "                           samplewise_std_normalization=False)\n"
      ]
    },
    {
      "cell_type": "code",
      "execution_count": null,
      "metadata": {
        "id": "soGdxyj47W5Y"
      },
      "outputs": [],
      "source": [
        "SEED= 10\n",
        "IMG_SIZE = (128, 128) \n",
        "####\n",
        "def flow_from_dataframe(imgDatGen, df, batch_size, seed, img_size):\n",
        "    #gc.collect()\n",
        "    gen_img = imgDatGen.flow_from_dataframe(dataframe=more_balanced_df,\n",
        "        x_col='path', y_col='Nothing',\n",
        "        batch_size=batch_size, seed=seed, shuffle=True, class_mode='other',\n",
        "        target_size=img_size, color_mode='grayscale',\n",
        "        drop_duplicates=False)\n",
        "\n",
        "    \n",
        "        \n",
        "    while True:\n",
        "        X1i = gen_img.next()\n",
        "        #X2i = gen_img.next()\n",
        "        #gc.collect()\n",
        "        yield [X1i[0], X1i[1]]"
      ]
    },
    {
      "cell_type": "code",
      "execution_count": null,
      "metadata": {
        "id": "4R0mr1xI7W5Y"
      },
      "outputs": [],
      "source": [
        "flow = flow_from_dataframe(idg, more_balanced_df, 7151, SEED, IMG_SIZE)"
      ]
    },
    {
      "cell_type": "code",
      "execution_count": null,
      "metadata": {
        "colab": {
          "base_uri": "https://localhost:8080/"
        },
        "id": "nfmYSQPN7W5Z",
        "outputId": "4ccbb7d9-fec9-4d8c-9562-70d809004653"
      },
      "outputs": [
        {
          "name": "stderr",
          "output_type": "stream",
          "text": [
            "--- Logging error ---\n",
            "Traceback (most recent call last):\n",
            "  File \"/usr/lib/python3.7/logging/__init__.py\", line 1025, in emit\n",
            "    msg = self.format(record)\n",
            "  File \"/usr/lib/python3.7/logging/__init__.py\", line 869, in format\n",
            "    return fmt.format(record)\n",
            "  File \"/usr/lib/python3.7/logging/__init__.py\", line 608, in format\n",
            "    record.message = record.getMessage()\n",
            "  File \"/usr/lib/python3.7/logging/__init__.py\", line 369, in getMessage\n",
            "    msg = msg % self.args\n",
            "TypeError: not all arguments converted during string formatting\n",
            "Call stack:\n",
            "  File \"/usr/lib/python3.7/runpy.py\", line 193, in _run_module_as_main\n",
            "    \"__main__\", mod_spec)\n",
            "  File \"/usr/lib/python3.7/runpy.py\", line 85, in _run_code\n",
            "    exec(code, run_globals)\n",
            "  File \"/usr/local/lib/python3.7/dist-packages/ipykernel_launcher.py\", line 16, in <module>\n",
            "    app.launch_new_instance()\n",
            "  File \"/usr/local/lib/python3.7/dist-packages/traitlets/config/application.py\", line 846, in launch_instance\n",
            "    app.start()\n",
            "  File \"/usr/local/lib/python3.7/dist-packages/ipykernel/kernelapp.py\", line 499, in start\n",
            "    self.io_loop.start()\n",
            "  File \"/usr/local/lib/python3.7/dist-packages/tornado/platform/asyncio.py\", line 132, in start\n",
            "    self.asyncio_loop.run_forever()\n",
            "  File \"/usr/lib/python3.7/asyncio/base_events.py\", line 541, in run_forever\n",
            "    self._run_once()\n",
            "  File \"/usr/lib/python3.7/asyncio/base_events.py\", line 1786, in _run_once\n",
            "    handle._run()\n",
            "  File \"/usr/lib/python3.7/asyncio/events.py\", line 88, in _run\n",
            "    self._context.run(self._callback, *self._args)\n",
            "  File \"/usr/local/lib/python3.7/dist-packages/tornado/platform/asyncio.py\", line 122, in _handle_events\n",
            "    handler_func(fileobj, events)\n",
            "  File \"/usr/local/lib/python3.7/dist-packages/tornado/stack_context.py\", line 300, in null_wrapper\n",
            "    return fn(*args, **kwargs)\n",
            "  File \"/usr/local/lib/python3.7/dist-packages/zmq/eventloop/zmqstream.py\", line 452, in _handle_events\n",
            "    self._handle_recv()\n",
            "  File \"/usr/local/lib/python3.7/dist-packages/zmq/eventloop/zmqstream.py\", line 481, in _handle_recv\n",
            "    self._run_callback(callback, msg)\n",
            "  File \"/usr/local/lib/python3.7/dist-packages/zmq/eventloop/zmqstream.py\", line 431, in _run_callback\n",
            "    callback(*args, **kwargs)\n",
            "  File \"/usr/local/lib/python3.7/dist-packages/tornado/stack_context.py\", line 300, in null_wrapper\n",
            "    return fn(*args, **kwargs)\n",
            "  File \"/usr/local/lib/python3.7/dist-packages/ipykernel/kernelbase.py\", line 283, in dispatcher\n",
            "    return self.dispatch_shell(stream, msg)\n",
            "  File \"/usr/local/lib/python3.7/dist-packages/ipykernel/kernelbase.py\", line 233, in dispatch_shell\n",
            "    handler(stream, idents, msg)\n",
            "  File \"/usr/local/lib/python3.7/dist-packages/ipykernel/kernelbase.py\", line 399, in execute_request\n",
            "    user_expressions, allow_stdin)\n",
            "  File \"/usr/local/lib/python3.7/dist-packages/ipykernel/ipkernel.py\", line 208, in do_execute\n",
            "    res = shell.run_cell(code, store_history=store_history, silent=silent)\n",
            "  File \"/usr/local/lib/python3.7/dist-packages/ipykernel/zmqshell.py\", line 537, in run_cell\n",
            "    return super(ZMQInteractiveShell, self).run_cell(*args, **kwargs)\n",
            "  File \"/usr/local/lib/python3.7/dist-packages/IPython/core/interactiveshell.py\", line 2718, in run_cell\n",
            "    interactivity=interactivity, compiler=compiler, result=result)\n",
            "  File \"/usr/local/lib/python3.7/dist-packages/IPython/core/interactiveshell.py\", line 2822, in run_ast_nodes\n",
            "    if self.run_code(code, result):\n",
            "  File \"/usr/local/lib/python3.7/dist-packages/IPython/core/interactiveshell.py\", line 2882, in run_code\n",
            "    exec(code_obj, self.user_global_ns, self.user_ns)\n",
            "  File \"<ipython-input-18-710bbcbe35c6>\", line 1, in <module>\n",
            "    t,y= next(flow)\n",
            "  File \"<ipython-input-16-32ffa8d1e7aa>\", line 10, in flow_from_dataframe\n",
            "    drop_duplicates=False)\n",
            "  File \"/usr/local/lib/python3.7/dist-packages/keras/preprocessing/image.py\", line 1109, in flow_from_dataframe\n",
            "    '`class_mode` \"raw\".', DeprecationWarning)\n",
            "  File \"/usr/local/lib/python3.7/dist-packages/tensorflow/python/platform/tf_logging.py\", line 178, in warning\n",
            "    get_logger().warning(msg, *args, **kwargs)\n",
            "Message: '`class_mode` \"other\" is deprecated, please use `class_mode` \"raw\".'\n",
            "Arguments: (<class 'DeprecationWarning'>,)\n",
            "--- Logging error ---\n",
            "Traceback (most recent call last):\n",
            "  File \"/usr/lib/python3.7/logging/__init__.py\", line 1025, in emit\n",
            "    msg = self.format(record)\n",
            "  File \"/usr/lib/python3.7/logging/__init__.py\", line 869, in format\n",
            "    return fmt.format(record)\n",
            "  File \"/usr/lib/python3.7/logging/__init__.py\", line 608, in format\n",
            "    record.message = record.getMessage()\n",
            "  File \"/usr/lib/python3.7/logging/__init__.py\", line 369, in getMessage\n",
            "    msg = msg % self.args\n",
            "TypeError: not all arguments converted during string formatting\n",
            "Call stack:\n",
            "  File \"/usr/lib/python3.7/runpy.py\", line 193, in _run_module_as_main\n",
            "    \"__main__\", mod_spec)\n",
            "  File \"/usr/lib/python3.7/runpy.py\", line 85, in _run_code\n",
            "    exec(code, run_globals)\n",
            "  File \"/usr/local/lib/python3.7/dist-packages/ipykernel_launcher.py\", line 16, in <module>\n",
            "    app.launch_new_instance()\n",
            "  File \"/usr/local/lib/python3.7/dist-packages/traitlets/config/application.py\", line 846, in launch_instance\n",
            "    app.start()\n",
            "  File \"/usr/local/lib/python3.7/dist-packages/ipykernel/kernelapp.py\", line 499, in start\n",
            "    self.io_loop.start()\n",
            "  File \"/usr/local/lib/python3.7/dist-packages/tornado/platform/asyncio.py\", line 132, in start\n",
            "    self.asyncio_loop.run_forever()\n",
            "  File \"/usr/lib/python3.7/asyncio/base_events.py\", line 541, in run_forever\n",
            "    self._run_once()\n",
            "  File \"/usr/lib/python3.7/asyncio/base_events.py\", line 1786, in _run_once\n",
            "    handle._run()\n",
            "  File \"/usr/lib/python3.7/asyncio/events.py\", line 88, in _run\n",
            "    self._context.run(self._callback, *self._args)\n",
            "  File \"/usr/local/lib/python3.7/dist-packages/tornado/platform/asyncio.py\", line 122, in _handle_events\n",
            "    handler_func(fileobj, events)\n",
            "  File \"/usr/local/lib/python3.7/dist-packages/tornado/stack_context.py\", line 300, in null_wrapper\n",
            "    return fn(*args, **kwargs)\n",
            "  File \"/usr/local/lib/python3.7/dist-packages/zmq/eventloop/zmqstream.py\", line 452, in _handle_events\n",
            "    self._handle_recv()\n",
            "  File \"/usr/local/lib/python3.7/dist-packages/zmq/eventloop/zmqstream.py\", line 481, in _handle_recv\n",
            "    self._run_callback(callback, msg)\n",
            "  File \"/usr/local/lib/python3.7/dist-packages/zmq/eventloop/zmqstream.py\", line 431, in _run_callback\n",
            "    callback(*args, **kwargs)\n",
            "  File \"/usr/local/lib/python3.7/dist-packages/tornado/stack_context.py\", line 300, in null_wrapper\n",
            "    return fn(*args, **kwargs)\n",
            "  File \"/usr/local/lib/python3.7/dist-packages/ipykernel/kernelbase.py\", line 283, in dispatcher\n",
            "    return self.dispatch_shell(stream, msg)\n",
            "  File \"/usr/local/lib/python3.7/dist-packages/ipykernel/kernelbase.py\", line 233, in dispatch_shell\n",
            "    handler(stream, idents, msg)\n",
            "  File \"/usr/local/lib/python3.7/dist-packages/ipykernel/kernelbase.py\", line 399, in execute_request\n",
            "    user_expressions, allow_stdin)\n",
            "  File \"/usr/local/lib/python3.7/dist-packages/ipykernel/ipkernel.py\", line 208, in do_execute\n",
            "    res = shell.run_cell(code, store_history=store_history, silent=silent)\n",
            "  File \"/usr/local/lib/python3.7/dist-packages/ipykernel/zmqshell.py\", line 537, in run_cell\n",
            "    return super(ZMQInteractiveShell, self).run_cell(*args, **kwargs)\n",
            "  File \"/usr/local/lib/python3.7/dist-packages/IPython/core/interactiveshell.py\", line 2718, in run_cell\n",
            "    interactivity=interactivity, compiler=compiler, result=result)\n",
            "  File \"/usr/local/lib/python3.7/dist-packages/IPython/core/interactiveshell.py\", line 2822, in run_ast_nodes\n",
            "    if self.run_code(code, result):\n",
            "  File \"/usr/local/lib/python3.7/dist-packages/IPython/core/interactiveshell.py\", line 2882, in run_code\n",
            "    exec(code_obj, self.user_global_ns, self.user_ns)\n",
            "  File \"<ipython-input-18-710bbcbe35c6>\", line 1, in <module>\n",
            "    t,y= next(flow)\n",
            "  File \"<ipython-input-16-32ffa8d1e7aa>\", line 10, in flow_from_dataframe\n",
            "    drop_duplicates=False)\n",
            "  File \"/usr/local/lib/python3.7/dist-packages/keras/preprocessing/image.py\", line 1115, in flow_from_dataframe\n",
            "    DeprecationWarning)\n",
            "  File \"/usr/local/lib/python3.7/dist-packages/tensorflow/python/platform/tf_logging.py\", line 178, in warning\n",
            "    get_logger().warning(msg, *args, **kwargs)\n",
            "Message: 'drop_duplicates is deprecated, you can drop duplicates by using the pandas.DataFrame.drop_duplicates method.'\n",
            "Arguments: (<class 'DeprecationWarning'>,)\n"
          ]
        },
        {
          "name": "stdout",
          "output_type": "stream",
          "text": [
            "Found 112120 validated image filenames.\n"
          ]
        }
      ],
      "source": [
        "t,y= next(flow)"
      ]
    },
    {
      "cell_type": "code",
      "execution_count": null,
      "metadata": {
        "id": "ZWSTc5Ym7W5Z"
      },
      "outputs": [],
      "source": [
        "from sklearn.model_selection import train_test_split\n",
        "X_train, X_test, y_train, y_test = train_test_split(t,y, \n",
        "                                   test_size = 0.30, \n",
        "                                   random_state = 2018)\n"
      ]
    },
    {
      "cell_type": "markdown",
      "metadata": {
        "id": "gYFqclfm8X-t"
      },
      "source": [
        "# **TRAIN MODEL**"
      ]
    },
    {
      "cell_type": "code",
      "execution_count": null,
      "metadata": {
        "colab": {
          "base_uri": "https://localhost:8080/"
        },
        "id": "KGEDKVIs7W5a",
        "outputId": "73b57539-4b49-4fd6-8a3b-972f921f2449"
      },
      "outputs": [
        {
          "name": "stdout",
          "output_type": "stream",
          "text": [
            "Model: \"sequential\"\n",
            "_________________________________________________________________\n",
            " Layer (type)                Output Shape              Param #   \n",
            "=================================================================\n",
            " mobilenet_1.00_128 (Functio  (None, 4, 4, 1024)       3228288   \n",
            " nal)                                                            \n",
            "                                                                 \n",
            " global_average_pooling2d (G  (None, 1024)             0         \n",
            " lobalAveragePooling2D)                                          \n",
            "                                                                 \n",
            " dropout (Dropout)           (None, 1024)              0         \n",
            "                                                                 \n",
            " dense (Dense)               (None, 512)               524800    \n",
            "                                                                 \n",
            " dropout_1 (Dropout)         (None, 512)               0         \n",
            "                                                                 \n",
            " dense_1 (Dense)             (None, 1)                 513       \n",
            "                                                                 \n",
            "=================================================================\n",
            "Total params: 3,753,601\n",
            "Trainable params: 3,731,713\n",
            "Non-trainable params: 21,888\n",
            "_________________________________________________________________\n"
          ]
        }
      ],
      "source": [
        "from keras.applications.mobilenet import MobileNet\n",
        "from keras.layers import GlobalAveragePooling2D, Dense, Dropout, Flatten\n",
        "from keras.models import Sequential\n",
        "mobilenet_model = MobileNet(input_shape =  X_train.shape[1:], \n",
        "                                 include_top = False, weights = None)\n",
        "mobilenet_GAP_model = Sequential()\n",
        "mobilenet_GAP_model.add(mobilenet_model)\n",
        "mobilenet_GAP_model.add(GlobalAveragePooling2D())\n",
        "mobilenet_GAP_model.add(Dropout(0.5))\n",
        "mobilenet_GAP_model.add(Dense(512))\n",
        "mobilenet_GAP_model.add(Dropout(0.5))\n",
        "mobilenet_GAP_model.add(Dense(1, activation = 'sigmoid'))\n",
        "mobilenet_GAP_model.compile(optimizer = 'adam', loss = 'binary_crossentropy',\n",
        "                           metrics = ['binary_accuracy', 'mae'])\n",
        "mobilenet_GAP_model.summary()"
      ]
    },
    {
      "cell_type": "code",
      "execution_count": null,
      "metadata": {
        "id": "ywmddU-n7W5a"
      },
      "outputs": [],
      "source": [
        "from keras.callbacks import ModelCheckpoint, LearningRateScheduler, EarlyStopping, ReduceLROnPlateau\n",
        "weight_path=\"{}_weights.best.hdf5\".format('xray_class')\n",
        "\n",
        "checkpoint = ModelCheckpoint(weight_path, monitor='val_loss', verbose=1, \n",
        "                             save_best_only=True, mode='min', save_weights_only = True)\n",
        "\n",
        "early = EarlyStopping(monitor=\"val_loss\", \n",
        "                      mode=\"min\", \n",
        "                      patience=3)\n",
        "callbacks_list = [checkpoint, early]"
      ]
    },
    {
      "cell_type": "code",
      "execution_count": null,
      "metadata": {
        "colab": {
          "base_uri": "https://localhost:8080/"
        },
        "id": "cKulwakl7W5a",
        "outputId": "9ade9044-6def-4ae4-f6e2-fdf095ab5637"
      },
      "outputs": [
        {
          "name": "stdout",
          "output_type": "stream",
          "text": [
            "Epoch 1/10\n",
            "10/10 [==============================] - ETA: 0s - loss: 2.1242 - binary_accuracy: 0.4967 - mae: 0.5022 \n",
            "Epoch 00001: val_loss improved from inf to 0.69779, saving model to xray_class_weights.best.hdf5\n",
            "10/10 [==============================] - 300s 29s/step - loss: 2.1242 - binary_accuracy: 0.4967 - mae: 0.5022 - val_loss: 0.6978 - val_binary_accuracy: 0.4562 - val_mae: 0.5019\n",
            "Epoch 2/10\n",
            "10/10 [==============================] - ETA: 0s - loss: 1.0295 - binary_accuracy: 0.5033 - mae: 0.4986 \n",
            "Epoch 00002: val_loss improved from 0.69779 to 0.69064, saving model to xray_class_weights.best.hdf5\n",
            "10/10 [==============================] - 288s 29s/step - loss: 1.0295 - binary_accuracy: 0.5033 - mae: 0.4986 - val_loss: 0.6906 - val_binary_accuracy: 0.5438 - val_mae: 0.4984\n",
            "Epoch 3/10\n",
            "10/10 [==============================] - ETA: 0s - loss: 0.8487 - binary_accuracy: 0.4909 - mae: 0.5053 \n",
            "Epoch 00003: val_loss improved from 0.69064 to 0.68980, saving model to xray_class_weights.best.hdf5\n",
            "10/10 [==============================] - 288s 29s/step - loss: 0.8487 - binary_accuracy: 0.4909 - mae: 0.5053 - val_loss: 0.6898 - val_binary_accuracy: 0.5438 - val_mae: 0.4948\n",
            "Epoch 4/10\n",
            "10/10 [==============================] - ETA: 0s - loss: 0.7914 - binary_accuracy: 0.5281 - mae: 0.4892 \n",
            "Epoch 00004: val_loss did not improve from 0.68980\n",
            "10/10 [==============================] - 287s 29s/step - loss: 0.7914 - binary_accuracy: 0.5281 - mae: 0.4892 - val_loss: 0.6909 - val_binary_accuracy: 0.5438 - val_mae: 0.4987\n",
            "Epoch 5/10\n",
            "10/10 [==============================] - ETA: 0s - loss: 0.7949 - binary_accuracy: 0.5389 - mae: 0.4869 \n",
            "Epoch 00005: val_loss improved from 0.68980 to 0.68954, saving model to xray_class_weights.best.hdf5\n",
            "10/10 [==============================] - 288s 29s/step - loss: 0.7949 - binary_accuracy: 0.5389 - mae: 0.4869 - val_loss: 0.6895 - val_binary_accuracy: 0.5438 - val_mae: 0.4971\n",
            "Epoch 6/10\n",
            "10/10 [==============================] - ETA: 0s - loss: 0.7758 - binary_accuracy: 0.5986 - mae: 0.4693 \n",
            "Epoch 00006: val_loss improved from 0.68954 to 0.68932, saving model to xray_class_weights.best.hdf5\n",
            "10/10 [==============================] - 285s 29s/step - loss: 0.7758 - binary_accuracy: 0.5986 - mae: 0.4693 - val_loss: 0.6893 - val_binary_accuracy: 0.5438 - val_mae: 0.4959\n",
            "Epoch 7/10\n",
            "10/10 [==============================] - ETA: 0s - loss: 0.6201 - binary_accuracy: 0.7291 - mae: 0.3862 \n",
            "Epoch 00007: val_loss did not improve from 0.68932\n",
            "10/10 [==============================] - 298s 30s/step - loss: 0.6201 - binary_accuracy: 0.7291 - mae: 0.3862 - val_loss: 0.6895 - val_binary_accuracy: 0.5438 - val_mae: 0.4971\n",
            "Epoch 8/10\n",
            "10/10 [==============================] - ETA: 0s - loss: 0.6065 - binary_accuracy: 0.7151 - mae: 0.3445 \n",
            "Epoch 00008: val_loss did not improve from 0.68932\n",
            "10/10 [==============================] - 307s 31s/step - loss: 0.6065 - binary_accuracy: 0.7151 - mae: 0.3445 - val_loss: 0.6896 - val_binary_accuracy: 0.5438 - val_mae: 0.4950\n",
            "Epoch 9/10\n",
            "10/10 [==============================] - ETA: 0s - loss: 0.6771 - binary_accuracy: 0.6621 - mae: 0.4252 \n",
            "Epoch 00009: val_loss did not improve from 0.68932\n",
            "10/10 [==============================] - 301s 30s/step - loss: 0.6771 - binary_accuracy: 0.6621 - mae: 0.4252 - val_loss: 0.6895 - val_binary_accuracy: 0.5438 - val_mae: 0.4970\n"
          ]
        }
      ],
      "source": [
        "history_mobilenet_GAP = mobilenet_GAP_model.fit(X_train,y_train,\n",
        "                                  steps_per_epoch=10,\n",
        "                                  validation_data = (X_test, y_test), \n",
        "                                  epochs = 10, \n",
        "                                  callbacks = callbacks_list)"
      ]
    },
    {
      "cell_type": "code",
      "execution_count": null,
      "metadata": {
        "colab": {
          "base_uri": "https://localhost:8080/"
        },
        "id": "iQmHzKCy7W5b",
        "outputId": "f0f1ce71-1976-4da1-84e1-41bd7c7e8ac8"
      },
      "outputs": [
        {
          "name": "stdout",
          "output_type": "stream",
          "text": [
            "68/68 [==============================] - 24s 344ms/step\n"
          ]
        }
      ],
      "source": [
        "pred_Y = mobilenet_GAP_model.predict(X_test, \n",
        "                          batch_size = 32, \n",
        "                          verbose = True)"
      ]
    },
    {
      "cell_type": "code",
      "execution_count": null,
      "metadata": {
        "colab": {
          "base_uri": "https://localhost:8080/"
        },
        "id": "ph4tQulD7W5b",
        "outputId": "ef46f5c8-98ef-405c-f06d-3aaf7e7fdbc6"
      },
      "outputs": [
        {
          "data": {
            "text/plain": [
              "array([[0.5343948],\n",
              "       [0.5343948],\n",
              "       [0.5343948],\n",
              "       ...,\n",
              "       [0.5343948],\n",
              "       [0.5343948],\n",
              "       [0.5343948]], dtype=float32)"
            ]
          },
          "execution_count": 24,
          "metadata": {},
          "output_type": "execute_result"
        }
      ],
      "source": [
        "pred_Y"
      ]
    },
    {
      "cell_type": "code",
      "execution_count": null,
      "metadata": {
        "colab": {
          "base_uri": "https://localhost:8080/"
        },
        "id": "mTY_8QOh7W5b",
        "outputId": "f95d05f7-404d-457a-c4c2-f11d6ed6205c"
      },
      "outputs": [
        {
          "data": {
            "text/plain": [
              "array([0.5343948], dtype=float32)"
            ]
          },
          "execution_count": 29,
          "metadata": {},
          "output_type": "execute_result"
        }
      ],
      "source": [
        "min(pred_Y)"
      ]
    },
    {
      "cell_type": "markdown",
      "metadata": {
        "id": "u-5Dan8i8dRI"
      },
      "source": [
        "# **Accuracy**"
      ]
    },
    {
      "cell_type": "code",
      "execution_count": null,
      "metadata": {
        "colab": {
          "base_uri": "https://localhost:8080/"
        },
        "id": "mwZbTRjL7W5c",
        "outputId": "045fe1f7-411b-4ac8-869e-a6d1900e58e4"
      },
      "outputs": [
        {
          "name": "stdout",
          "output_type": "stream",
          "text": [
            "test accuracy =  0.5438024401664734\n"
          ]
        }
      ],
      "source": [
        "print('test accuracy = ',mobilenet_GAP_model.evaluate(X_test,y_test, verbose=0)[1])"
      ]
    },
    {
      "cell_type": "code",
      "execution_count": null,
      "metadata": {
        "colab": {
          "base_uri": "https://localhost:8080/"
        },
        "id": "CU9hJqne7W5c",
        "outputId": "affda3ee-c49a-4e52-dda4-3c633b648a39"
      },
      "outputs": [
        {
          "name": "stdout",
          "output_type": "stream",
          "text": [
            "roc score =  0.5\n"
          ]
        }
      ],
      "source": [
        "from sklearn.metrics import roc_auc_score\n",
        "print('roc score = ',roc_auc_score(y_test.astype(int), pred_Y))"
      ]
    },
    {
      "cell_type": "markdown",
      "metadata": {
        "id": "ZKdtx1o88gQu"
      },
      "source": [
        "# **Classification Report**"
      ]
    },
    {
      "cell_type": "code",
      "execution_count": null,
      "metadata": {
        "colab": {
          "base_uri": "https://localhost:8080/",
          "height": 555
        },
        "id": "xtgelsIP7W5c",
        "outputId": "e0712666-5f0d-4a63-921e-0e11a7ffed93"
      },
      "outputs": [
        {
          "name": "stdout",
          "output_type": "stream",
          "text": [
            "              precision    recall  f1-score   support\n",
            "\n",
            "    Findings       0.00      0.00      0.00       979\n",
            " No Findings       0.54      1.00      0.70      1167\n",
            "\n",
            "    accuracy                           0.54      2146\n",
            "   macro avg       0.27      0.50      0.35      2146\n",
            "weighted avg       0.30      0.54      0.38      2146\n",
            "\n"
          ]
        },
        {
          "name": "stderr",
          "output_type": "stream",
          "text": [
            "/usr/local/lib/python3.7/dist-packages/sklearn/metrics/_classification.py:1308: UndefinedMetricWarning: Precision and F-score are ill-defined and being set to 0.0 in labels with no predicted samples. Use `zero_division` parameter to control this behavior.\n",
            "  _warn_prf(average, modifier, msg_start, len(result))\n",
            "/usr/local/lib/python3.7/dist-packages/sklearn/metrics/_classification.py:1308: UndefinedMetricWarning: Precision and F-score are ill-defined and being set to 0.0 in labels with no predicted samples. Use `zero_division` parameter to control this behavior.\n",
            "  _warn_prf(average, modifier, msg_start, len(result))\n",
            "/usr/local/lib/python3.7/dist-packages/sklearn/metrics/_classification.py:1308: UndefinedMetricWarning: Precision and F-score are ill-defined and being set to 0.0 in labels with no predicted samples. Use `zero_division` parameter to control this behavior.\n",
            "  _warn_prf(average, modifier, msg_start, len(result))\n"
          ]
        },
        {
          "data": {
            "image/png": "[encoded data removed]",
            "text/plain": [
              "<Figure size 288x288 with 1 Axes>"
            ]
          },
          "metadata": {},
          "output_type": "display_data"
        }
      ],
      "source": [
        "from sklearn.metrics import classification_report, confusion_matrix\n",
        "plt.matshow(confusion_matrix(y_test, pred_Y>0.5343945))\n",
        "print(classification_report(y_test, pred_Y>0.5343945, target_names = ['Findings', 'No Findings']))"
      ]
    },
    {
      "cell_type": "markdown",
      "metadata": {
        "id": "yrAXm8hU34_s"
      },
      "source": [
        "## **Atelectasis**"
      ]
    },
    {
      "cell_type": "code",
      "execution_count": null,
      "metadata": {
        "colab": {
          "base_uri": "https://localhost:8080/",
          "height": 266
        },
        "id": "X6HA4a2P35zG",
        "outputId": "75445d49-f6c5-46d6-977a-4d774d54b3b8"
      },
      "outputs": [
        {
          "name": "stdout",
          "output_type": "stream",
          "text": [
            "0    23116\n",
            "1    11559\n",
            "Name: Atelectasis, dtype: int64\n"
          ]
        },
        {
          "data": {
            "text/plain": [
              "<seaborn.axisgrid.PairGrid at 0x7ff223a25810>"
            ]
          },
          "execution_count": 5,
          "metadata": {},
          "output_type": "execute_result"
        },
        {
          "data": {
            "image/png": "[encoded data removed]",
            "text/plain": [
              "<Figure size 242.625x180 with 2 Axes>"
            ]
          },
          "metadata": {},
          "output_type": "display_data"
        }
      ],
      "source": [
        "positive_cases = np.sum(all_xray_df['Atelectasis']==True)//2\n",
        "oversample_factor = 4 # maximum number of cases in negative group so it isn't super rare\n",
        "more_balanced_df = all_xray_df.groupby(['Atelectasis']).apply(lambda x: x.sample(min(oversample_factor*positive_cases, x.shape[0]), \n",
        "                                                                                   replace = False)\n",
        "                                                      ).reset_index(drop = True)\n",
        "\n",
        "print(more_balanced_df['Atelectasis'].value_counts())\n",
        "sns.pairplot(more_balanced_df[['Patient Age', 'Atelectasis']], hue='Atelectasis')"
      ]
    },
    {
      "cell_type": "code",
      "execution_count": null,
      "metadata": {
        "colab": {
          "base_uri": "https://localhost:8080/",
          "height": 257
        },
        "id": "V_HgORPp35zH",
        "outputId": "6d730c76-819d-415b-a26f-aabaa2bde1f0"
      },
      "outputs": [
        {
          "name": "stdout",
          "output_type": "stream",
          "text": [
            "train 24272 validation 6241 test 4162\n",
            "train 0    16181\n",
            "1     8091\n",
            "Name: Atelectasis, dtype: int64\n",
            "test 0    2775\n",
            "1    1387\n",
            "Name: Atelectasis, dtype: int64\n"
          ]
        },
        {
          "data": {
            "text/html": [
              "<div>\n",
              "<style scoped>\n",
              "    .dataframe tbody tr th:only-of-type {\n",
              "        vertical-align: middle;\n",
              "    }\n",
              "\n",
              "    .dataframe tbody tr th {\n",
              "        vertical-align: top;\n",
              "    }\n",
              "\n",
              "    .dataframe thead th {\n",
              "        text-align: right;\n",
              "    }\n",
              "</style>\n",
              "<table border=\"1\" class=\"dataframe\">\n",
              "  <thead>\n",
              "    <tr style=\"text-align: right;\">\n",
              "      <th></th>\n",
              "      <th>Image Index</th>\n",
              "      <th>Finding Labels</th>\n",
              "      <th>Follow-up #</th>\n",
              "      <th>Patient ID</th>\n",
              "      <th>Patient Age</th>\n",
              "      <th>Patient Gender</th>\n",
              "      <th>View Position</th>\n",
              "      <th>OriginalImage[Width</th>\n",
              "      <th>Height]</th>\n",
              "      <th>OriginalImagePixelSpacing[x</th>\n",
              "      <th>y]</th>\n",
              "      <th>path</th>\n",
              "      <th>Pneumonia</th>\n",
              "      <th>Patient Male</th>\n",
              "      <th>Cardiomegaly</th>\n",
              "      <th>Emphysema</th>\n",
              "      <th>Effusion</th>\n",
              "      <th>Hernia</th>\n",
              "      <th>Nodule</th>\n",
              "      <th>Pneumothorax</th>\n",
              "      <th>Atelectasis</th>\n",
              "      <th>Pleural_Thickening</th>\n",
              "      <th>Mass</th>\n",
              "      <th>Edema</th>\n",
              "      <th>Consolidation</th>\n",
              "      <th>Infiltration</th>\n",
              "      <th>Fibrosis</th>\n",
              "      <th>Nothing</th>\n",
              "    </tr>\n",
              "  </thead>\n",
              "  <tbody>\n",
              "    <tr>\n",
              "      <th>4259</th>\n",
              "      <td>00019124_127.png</td>\n",
              "      <td>No Finding</td>\n",
              "      <td>56</td>\n",
              "      <td>19124</td>\n",
              "      <td>51</td>\n",
              "      <td>F</td>\n",
              "      <td>PA</td>\n",
              "      <td>2582</td>\n",
              "      <td>2991</td>\n",
              "      <td>0.143</td>\n",
              "      <td>0.143</td>\n",
              "      <td>/content/drive/MyDrive/Images/image9/00019124_...</td>\n",
              "      <td>False</td>\n",
              "      <td>0.0</td>\n",
              "      <td>0</td>\n",
              "      <td>0</td>\n",
              "      <td>0</td>\n",
              "      <td>0</td>\n",
              "      <td>0</td>\n",
              "      <td>0</td>\n",
              "      <td>0</td>\n",
              "      <td>0</td>\n",
              "      <td>0</td>\n",
              "      <td>0</td>\n",
              "      <td>0</td>\n",
              "      <td>0</td>\n",
              "      <td>0</td>\n",
              "      <td>1</td>\n",
              "    </tr>\n",
              "  </tbody>\n",
              "</table>\n",
              "</div>"
            ],
            "text/plain": [
              "           Image Index Finding Labels  ...  Fibrosis  Nothing\n",
              "4259  00019124_127.png     No Finding  ...         0        1\n",
              "\n",
              "[1 rows x 28 columns]"
            ]
          },
          "execution_count": 6,
          "metadata": {},
          "output_type": "execute_result"
        }
      ],
      "source": [
        "from sklearn.model_selection import train_test_split\n",
        "raw_train_df, test_valid_df = train_test_split(more_balanced_df, \n",
        "                                   test_size = 0.30, \n",
        "                                   random_state = 2018,\n",
        "                                   stratify = more_balanced_df[['Atelectasis']])\n",
        "valid_df, test_df = train_test_split(test_valid_df, \n",
        "                                   test_size = 0.40, \n",
        "                                   random_state = 2018,\n",
        "                                   stratify = test_valid_df[['Atelectasis']])\n",
        "print('train', raw_train_df.shape[0], 'validation', valid_df.shape[0], 'test', test_df.shape[0])\n",
        "print('train', raw_train_df['Atelectasis'].value_counts())\n",
        "print('test', test_df['Atelectasis'].value_counts())\n",
        "raw_train_df.sample(1)"
      ]
    },
    {
      "cell_type": "markdown",
      "metadata": {
        "id": "zKbGBi0d71r6"
      },
      "source": [
        "# *Oversampling*"
      ]
    },
    {
      "cell_type": "code",
      "execution_count": null,
      "metadata": {
        "colab": {
          "base_uri": "https://localhost:8080/"
        },
        "id": "tpoXkPRm35zH",
        "outputId": "8da7dfe2-f6e4-4035-cbfb-fe6d007a4c9a"
      },
      "outputs": [
        {
          "name": "stdout",
          "output_type": "stream",
          "text": [
            "New Data Size: 120000 Old Size: 24272\n"
          ]
        }
      ],
      "source": [
        "train_df = raw_train_df.groupby(['Atelectasis']).apply(lambda x: x.sample(60000, replace = True)\n",
        "                                                      ).reset_index(drop = True)\n",
        "print('New Data Size:', train_df.shape[0], 'Old Size:', raw_train_df.shape[0])"
      ]
    },
    {
      "cell_type": "code",
      "execution_count": null,
      "metadata": {
        "id": "KF_Q1Uih35zI"
      },
      "outputs": [],
      "source": [
        "from keras.preprocessing.image import ImageDataGenerator\n",
        "idg = ImageDataGenerator(zoom_range=0.2,\n",
        "                           fill_mode='nearest',\n",
        "                           rotation_range=25,  \n",
        "                           width_shift_range=0.25,  \n",
        "                           height_shift_range=0.25,  \n",
        "                           vertical_flip=False, \n",
        "                           horizontal_flip=True,\n",
        "                           shear_range = 0.2,\n",
        "                           samplewise_center=False, \n",
        "                           samplewise_std_normalization=False)\n"
      ]
    },
    {
      "cell_type": "code",
      "execution_count": null,
      "metadata": {
        "id": "lAoLmnsT35zI"
      },
      "outputs": [],
      "source": [
        "SEED= 10\n",
        "IMG_SIZE = (128, 128) \n",
        "####\n",
        "def flow_from_dataframe(imgDatGen, df, batch_size, seed, img_size):\n",
        "    #gc.collect()\n",
        "    gen_img = imgDatGen.flow_from_dataframe(dataframe=more_balanced_df,\n",
        "        x_col='path', y_col='Atelectasis',\n",
        "        batch_size=batch_size, seed=seed, shuffle=True, class_mode='other',\n",
        "        target_size=img_size, color_mode='grayscale',\n",
        "        drop_duplicates=False)\n",
        "\n",
        "    \n",
        "        \n",
        "    while True:\n",
        "        X1i = gen_img.next()\n",
        "        #X2i = gen_img.next()\n",
        "        #gc.collect()\n",
        "        yield [X1i[0], X1i[1]]"
      ]
    },
    {
      "cell_type": "code",
      "execution_count": null,
      "metadata": {
        "id": "Lq1XmTux35zJ"
      },
      "outputs": [],
      "source": [
        "flow = flow_from_dataframe(idg, more_balanced_df, 7151, SEED, IMG_SIZE)"
      ]
    },
    {
      "cell_type": "code",
      "execution_count": null,
      "metadata": {
        "colab": {
          "base_uri": "https://localhost:8080/"
        },
        "id": "efTyLftP35zJ",
        "outputId": "2d75695b-a948-42e9-e26b-d4e43affa09f"
      },
      "outputs": [
        {
          "name": "stderr",
          "output_type": "stream",
          "text": [
            "--- Logging error ---\n",
            "Traceback (most recent call last):\n",
            "  File \"/usr/lib/python3.7/logging/__init__.py\", line 1025, in emit\n",
            "    msg = self.format(record)\n",
            "  File \"/usr/lib/python3.7/logging/__init__.py\", line 869, in format\n",
            "    return fmt.format(record)\n",
            "  File \"/usr/lib/python3.7/logging/__init__.py\", line 608, in format\n",
            "    record.message = record.getMessage()\n",
            "  File \"/usr/lib/python3.7/logging/__init__.py\", line 369, in getMessage\n",
            "    msg = msg % self.args\n",
            "TypeError: not all arguments converted during string formatting\n",
            "Call stack:\n",
            "  File \"/usr/lib/python3.7/runpy.py\", line 193, in _run_module_as_main\n",
            "    \"__main__\", mod_spec)\n",
            "  File \"/usr/lib/python3.7/runpy.py\", line 85, in _run_code\n",
            "    exec(code, run_globals)\n",
            "  File \"/usr/local/lib/python3.7/dist-packages/ipykernel_launcher.py\", line 16, in <module>\n",
            "    app.launch_new_instance()\n",
            "  File \"/usr/local/lib/python3.7/dist-packages/traitlets/config/application.py\", line 846, in launch_instance\n",
            "    app.start()\n",
            "  File \"/usr/local/lib/python3.7/dist-packages/ipykernel/kernelapp.py\", line 499, in start\n",
            "    self.io_loop.start()\n",
            "  File \"/usr/local/lib/python3.7/dist-packages/tornado/platform/asyncio.py\", line 132, in start\n",
            "    self.asyncio_loop.run_forever()\n",
            "  File \"/usr/lib/python3.7/asyncio/base_events.py\", line 541, in run_forever\n",
            "    self._run_once()\n",
            "  File \"/usr/lib/python3.7/asyncio/base_events.py\", line 1786, in _run_once\n",
            "    handle._run()\n",
            "  File \"/usr/lib/python3.7/asyncio/events.py\", line 88, in _run\n",
            "    self._context.run(self._callback, *self._args)\n",
            "  File \"/usr/local/lib/python3.7/dist-packages/tornado/ioloop.py\", line 758, in _run_callback\n",
            "    ret = callback()\n",
            "  File \"/usr/local/lib/python3.7/dist-packages/tornado/stack_context.py\", line 300, in null_wrapper\n",
            "    return fn(*args, **kwargs)\n",
            "  File \"/usr/local/lib/python3.7/dist-packages/zmq/eventloop/zmqstream.py\", line 536, in <lambda>\n",
            "    self.io_loop.add_callback(lambda: self._handle_events(self.socket, 0))\n",
            "  File \"/usr/local/lib/python3.7/dist-packages/zmq/eventloop/zmqstream.py\", line 452, in _handle_events\n",
            "    self._handle_recv()\n",
            "  File \"/usr/local/lib/python3.7/dist-packages/zmq/eventloop/zmqstream.py\", line 481, in _handle_recv\n",
            "    self._run_callback(callback, msg)\n",
            "  File \"/usr/local/lib/python3.7/dist-packages/zmq/eventloop/zmqstream.py\", line 431, in _run_callback\n",
            "    callback(*args, **kwargs)\n",
            "  File \"/usr/local/lib/python3.7/dist-packages/tornado/stack_context.py\", line 300, in null_wrapper\n",
            "    return fn(*args, **kwargs)\n",
            "  File \"/usr/local/lib/python3.7/dist-packages/ipykernel/kernelbase.py\", line 283, in dispatcher\n",
            "    return self.dispatch_shell(stream, msg)\n",
            "  File \"/usr/local/lib/python3.7/dist-packages/ipykernel/kernelbase.py\", line 233, in dispatch_shell\n",
            "    handler(stream, idents, msg)\n",
            "  File \"/usr/local/lib/python3.7/dist-packages/ipykernel/kernelbase.py\", line 399, in execute_request\n",
            "    user_expressions, allow_stdin)\n",
            "  File \"/usr/local/lib/python3.7/dist-packages/ipykernel/ipkernel.py\", line 208, in do_execute\n",
            "    res = shell.run_cell(code, store_history=store_history, silent=silent)\n",
            "  File \"/usr/local/lib/python3.7/dist-packages/ipykernel/zmqshell.py\", line 537, in run_cell\n",
            "    return super(ZMQInteractiveShell, self).run_cell(*args, **kwargs)\n",
            "  File \"/usr/local/lib/python3.7/dist-packages/IPython/core/interactiveshell.py\", line 2718, in run_cell\n",
            "    interactivity=interactivity, compiler=compiler, result=result)\n",
            "  File \"/usr/local/lib/python3.7/dist-packages/IPython/core/interactiveshell.py\", line 2822, in run_ast_nodes\n",
            "    if self.run_code(code, result):\n",
            "  File \"/usr/local/lib/python3.7/dist-packages/IPython/core/interactiveshell.py\", line 2882, in run_code\n",
            "    exec(code_obj, self.user_global_ns, self.user_ns)\n",
            "  File \"<ipython-input-11-710bbcbe35c6>\", line 1, in <module>\n",
            "    t,y= next(flow)\n",
            "  File \"<ipython-input-9-4981844833de>\", line 10, in flow_from_dataframe\n",
            "    drop_duplicates=False)\n",
            "  File \"/usr/local/lib/python3.7/dist-packages/keras/preprocessing/image.py\", line 1109, in flow_from_dataframe\n",
            "    '`class_mode` \"raw\".', DeprecationWarning)\n",
            "  File \"/usr/local/lib/python3.7/dist-packages/tensorflow/python/platform/tf_logging.py\", line 178, in warning\n",
            "    get_logger().warning(msg, *args, **kwargs)\n",
            "Message: '`class_mode` \"other\" is deprecated, please use `class_mode` \"raw\".'\n",
            "Arguments: (<class 'DeprecationWarning'>,)\n",
            "--- Logging error ---\n",
            "Traceback (most recent call last):\n",
            "  File \"/usr/lib/python3.7/logging/__init__.py\", line 1025, in emit\n",
            "    msg = self.format(record)\n",
            "  File \"/usr/lib/python3.7/logging/__init__.py\", line 869, in format\n",
            "    return fmt.format(record)\n",
            "  File \"/usr/lib/python3.7/logging/__init__.py\", line 608, in format\n",
            "    record.message = record.getMessage()\n",
            "  File \"/usr/lib/python3.7/logging/__init__.py\", line 369, in getMessage\n",
            "    msg = msg % self.args\n",
            "TypeError: not all arguments converted during string formatting\n",
            "Call stack:\n",
            "  File \"/usr/lib/python3.7/runpy.py\", line 193, in _run_module_as_main\n",
            "    \"__main__\", mod_spec)\n",
            "  File \"/usr/lib/python3.7/runpy.py\", line 85, in _run_code\n",
            "    exec(code, run_globals)\n",
            "  File \"/usr/local/lib/python3.7/dist-packages/ipykernel_launcher.py\", line 16, in <module>\n",
            "    app.launch_new_instance()\n",
            "  File \"/usr/local/lib/python3.7/dist-packages/traitlets/config/application.py\", line 846, in launch_instance\n",
            "    app.start()\n",
            "  File \"/usr/local/lib/python3.7/dist-packages/ipykernel/kernelapp.py\", line 499, in start\n",
            "    self.io_loop.start()\n",
            "  File \"/usr/local/lib/python3.7/dist-packages/tornado/platform/asyncio.py\", line 132, in start\n",
            "    self.asyncio_loop.run_forever()\n",
            "  File \"/usr/lib/python3.7/asyncio/base_events.py\", line 541, in run_forever\n",
            "    self._run_once()\n",
            "  File \"/usr/lib/python3.7/asyncio/base_events.py\", line 1786, in _run_once\n",
            "    handle._run()\n",
            "  File \"/usr/lib/python3.7/asyncio/events.py\", line 88, in _run\n",
            "    self._context.run(self._callback, *self._args)\n",
            "  File \"/usr/local/lib/python3.7/dist-packages/tornado/ioloop.py\", line 758, in _run_callback\n",
            "    ret = callback()\n",
            "  File \"/usr/local/lib/python3.7/dist-packages/tornado/stack_context.py\", line 300, in null_wrapper\n",
            "    return fn(*args, **kwargs)\n",
            "  File \"/usr/local/lib/python3.7/dist-packages/zmq/eventloop/zmqstream.py\", line 536, in <lambda>\n",
            "    self.io_loop.add_callback(lambda: self._handle_events(self.socket, 0))\n",
            "  File \"/usr/local/lib/python3.7/dist-packages/zmq/eventloop/zmqstream.py\", line 452, in _handle_events\n",
            "    self._handle_recv()\n",
            "  File \"/usr/local/lib/python3.7/dist-packages/zmq/eventloop/zmqstream.py\", line 481, in _handle_recv\n",
            "    self._run_callback(callback, msg)\n",
            "  File \"/usr/local/lib/python3.7/dist-packages/zmq/eventloop/zmqstream.py\", line 431, in _run_callback\n",
            "    callback(*args, **kwargs)\n",
            "  File \"/usr/local/lib/python3.7/dist-packages/tornado/stack_context.py\", line 300, in null_wrapper\n",
            "    return fn(*args, **kwargs)\n",
            "  File \"/usr/local/lib/python3.7/dist-packages/ipykernel/kernelbase.py\", line 283, in dispatcher\n",
            "    return self.dispatch_shell(stream, msg)\n",
            "  File \"/usr/local/lib/python3.7/dist-packages/ipykernel/kernelbase.py\", line 233, in dispatch_shell\n",
            "    handler(stream, idents, msg)\n",
            "  File \"/usr/local/lib/python3.7/dist-packages/ipykernel/kernelbase.py\", line 399, in execute_request\n",
            "    user_expressions, allow_stdin)\n",
            "  File \"/usr/local/lib/python3.7/dist-packages/ipykernel/ipkernel.py\", line 208, in do_execute\n",
            "    res = shell.run_cell(code, store_history=store_history, silent=silent)\n",
            "  File \"/usr/local/lib/python3.7/dist-packages/ipykernel/zmqshell.py\", line 537, in run_cell\n",
            "    return super(ZMQInteractiveShell, self).run_cell(*args, **kwargs)\n",
            "  File \"/usr/local/lib/python3.7/dist-packages/IPython/core/interactiveshell.py\", line 2718, in run_cell\n",
            "    interactivity=interactivity, compiler=compiler, result=result)\n",
            "  File \"/usr/local/lib/python3.7/dist-packages/IPython/core/interactiveshell.py\", line 2822, in run_ast_nodes\n",
            "    if self.run_code(code, result):\n",
            "  File \"/usr/local/lib/python3.7/dist-packages/IPython/core/interactiveshell.py\", line 2882, in run_code\n",
            "    exec(code_obj, self.user_global_ns, self.user_ns)\n",
            "  File \"<ipython-input-11-710bbcbe35c6>\", line 1, in <module>\n",
            "    t,y= next(flow)\n",
            "  File \"<ipython-input-9-4981844833de>\", line 10, in flow_from_dataframe\n",
            "    drop_duplicates=False)\n",
            "  File \"/usr/local/lib/python3.7/dist-packages/keras/preprocessing/image.py\", line 1115, in flow_from_dataframe\n",
            "    DeprecationWarning)\n",
            "  File \"/usr/local/lib/python3.7/dist-packages/tensorflow/python/platform/tf_logging.py\", line 178, in warning\n",
            "    get_logger().warning(msg, *args, **kwargs)\n",
            "Message: 'drop_duplicates is deprecated, you can drop duplicates by using the pandas.DataFrame.drop_duplicates method.'\n",
            "Arguments: (<class 'DeprecationWarning'>,)\n"
          ]
        },
        {
          "name": "stdout",
          "output_type": "stream",
          "text": [
            "Found 34675 validated image filenames.\n"
          ]
        }
      ],
      "source": [
        "t,y= next(flow)"
      ]
    },
    {
      "cell_type": "code",
      "execution_count": null,
      "metadata": {
        "id": "XK4oiVKl35zK"
      },
      "outputs": [],
      "source": [
        "from sklearn.model_selection import train_test_split\n",
        "X_train, X_test, y_train, y_test = train_test_split(t,y, \n",
        "                                   test_size = 0.30, \n",
        "                                   random_state = 2018)\n"
      ]
    },
    {
      "cell_type": "code",
      "execution_count": null,
      "metadata": {
        "colab": {
          "base_uri": "https://localhost:8080/"
        },
        "id": "_PEF47Rr35zL",
        "outputId": "f41433ba-be25-4104-f73d-8b031b770239"
      },
      "outputs": [
        {
          "name": "stdout",
          "output_type": "stream",
          "text": [
            "Model: \"sequential\"\n",
            "_________________________________________________________________\n",
            " Layer (type)                Output Shape              Param #   \n",
            "=================================================================\n",
            " mobilenet_1.00_128 (Functio  (None, 4, 4, 1024)       3228288   \n",
            " nal)                                                            \n",
            "                                                                 \n",
            " global_average_pooling2d (G  (None, 1024)             0         \n",
            " lobalAveragePooling2D)                                          \n",
            "                                                                 \n",
            " dropout (Dropout)           (None, 1024)              0         \n",
            "                                                                 \n",
            " dense (Dense)               (None, 512)               524800    \n",
            "                                                                 \n",
            " dropout_1 (Dropout)         (None, 512)               0         \n",
            "                                                                 \n",
            " dense_1 (Dense)             (None, 1)                 513       \n",
            "                                                                 \n",
            "=================================================================\n",
            "Total params: 3,753,601\n",
            "Trainable params: 3,731,713\n",
            "Non-trainable params: 21,888\n",
            "_________________________________________________________________\n"
          ]
        }
      ],
      "source": [
        "from keras.applications.mobilenet import MobileNet\n",
        "from keras.layers import GlobalAveragePooling2D, Dense, Dropout, Flatten\n",
        "from keras.models import Sequential\n",
        "mobilenet_model = MobileNet(input_shape =  X_train.shape[1:], \n",
        "                                 include_top = False, weights = None)\n",
        "mobilenet_GAP_model = Sequential()\n",
        "mobilenet_GAP_model.add(mobilenet_model)\n",
        "mobilenet_GAP_model.add(GlobalAveragePooling2D())\n",
        "mobilenet_GAP_model.add(Dropout(0.5))\n",
        "mobilenet_GAP_model.add(Dense(512))\n",
        "mobilenet_GAP_model.add(Dropout(0.5))\n",
        "mobilenet_GAP_model.add(Dense(1, activation = 'sigmoid'))\n",
        "mobilenet_GAP_model.compile(optimizer = 'adam', loss = 'binary_crossentropy',\n",
        "                           metrics = ['binary_accuracy', 'mae'])\n",
        "mobilenet_GAP_model.summary()"
      ]
    },
    {
      "cell_type": "code",
      "execution_count": null,
      "metadata": {
        "id": "XUfJnLlg35zL"
      },
      "outputs": [],
      "source": [
        "from keras.callbacks import ModelCheckpoint, LearningRateScheduler, EarlyStopping, ReduceLROnPlateau\n",
        "weight_path=\"{}_weights.best.hdf5\".format('xray_class')\n",
        "\n",
        "checkpoint = ModelCheckpoint(weight_path, monitor='val_loss', verbose=1, \n",
        "                             save_best_only=True, mode='min', save_weights_only = True)\n",
        "\n",
        "early = EarlyStopping(monitor=\"val_loss\", \n",
        "                      mode=\"min\", \n",
        "                      patience=3)\n",
        "callbacks_list = [checkpoint, early]"
      ]
    },
    {
      "cell_type": "code",
      "execution_count": null,
      "metadata": {
        "colab": {
          "base_uri": "https://localhost:8080/"
        },
        "id": "7klJfZJa35zL",
        "outputId": "333c3de7-1c48-4164-b14d-c819a7c1cda5"
      },
      "outputs": [
        {
          "name": "stdout",
          "output_type": "stream",
          "text": [
            "Epoch 1/10\n",
            "10/10 [==============================] - ETA: 0s - loss: 1.4650 - binary_accuracy: 0.5504 - mae: 0.4487 \n",
            "Epoch 00001: val_loss improved from inf to 0.69147, saving model to xray_class_weights.best.hdf5\n",
            "10/10 [==============================] - 373s 37s/step - loss: 1.4650 - binary_accuracy: 0.5504 - mae: 0.4487 - val_loss: 0.6915 - val_binary_accuracy: 0.6794 - val_mae: 0.4992\n",
            "Epoch 2/10\n",
            "10/10 [==============================] - ETA: 0s - loss: 0.8493 - binary_accuracy: 0.5918 - mae: 0.4320 \n",
            "Epoch 00002: val_loss improved from 0.69147 to 0.67860, saving model to xray_class_weights.best.hdf5\n",
            "10/10 [==============================] - 367s 37s/step - loss: 0.8493 - binary_accuracy: 0.5918 - mae: 0.4320 - val_loss: 0.6786 - val_binary_accuracy: 0.6794 - val_mae: 0.4923\n",
            "Epoch 3/10\n",
            "10/10 [==============================] - ETA: 0s - loss: 0.7420 - binary_accuracy: 0.6068 - mae: 0.4379 \n",
            "Epoch 00003: val_loss did not improve from 0.67860\n",
            "10/10 [==============================] - 361s 36s/step - loss: 0.7420 - binary_accuracy: 0.6068 - mae: 0.4379 - val_loss: 0.6804 - val_binary_accuracy: 0.6794 - val_mae: 0.4933\n",
            "Epoch 4/10\n",
            "10/10 [==============================] - ETA: 0s - loss: 0.7208 - binary_accuracy: 0.6150 - mae: 0.4302 \n",
            "Epoch 00004: val_loss improved from 0.67860 to 0.66834, saving model to xray_class_weights.best.hdf5\n",
            "10/10 [==============================] - 364s 36s/step - loss: 0.7208 - binary_accuracy: 0.6150 - mae: 0.4302 - val_loss: 0.6683 - val_binary_accuracy: 0.6794 - val_mae: 0.4861\n",
            "Epoch 5/10\n",
            "10/10 [==============================] - ETA: 0s - loss: 0.6916 - binary_accuracy: 0.6172 - mae: 0.4328 \n",
            "Epoch 00005: val_loss improved from 0.66834 to 0.66794, saving model to xray_class_weights.best.hdf5\n",
            "10/10 [==============================] - 371s 38s/step - loss: 0.6916 - binary_accuracy: 0.6172 - mae: 0.4328 - val_loss: 0.6679 - val_binary_accuracy: 0.6794 - val_mae: 0.4859\n",
            "Epoch 6/10\n",
            "10/10 [==============================] - ETA: 0s - loss: 0.6608 - binary_accuracy: 0.6458 - mae: 0.4185 \n",
            "Epoch 00006: val_loss improved from 0.66794 to 0.66392, saving model to xray_class_weights.best.hdf5\n",
            "10/10 [==============================] - 362s 37s/step - loss: 0.6608 - binary_accuracy: 0.6458 - mae: 0.4185 - val_loss: 0.6639 - val_binary_accuracy: 0.6794 - val_mae: 0.4832\n",
            "Epoch 7/10\n",
            "10/10 [==============================] - ETA: 0s - loss: 0.6538 - binary_accuracy: 0.6505 - mae: 0.4162 \n",
            "Epoch 00007: val_loss improved from 0.66392 to 0.64791, saving model to xray_class_weights.best.hdf5\n",
            "10/10 [==============================] - 368s 37s/step - loss: 0.6538 - binary_accuracy: 0.6505 - mae: 0.4162 - val_loss: 0.6479 - val_binary_accuracy: 0.6794 - val_mae: 0.4710\n",
            "Epoch 8/10\n",
            "10/10 [==============================] - ETA: 0s - loss: 0.6096 - binary_accuracy: 0.6835 - mae: 0.3792 \n",
            "Epoch 00008: val_loss did not improve from 0.64791\n",
            "10/10 [==============================] - 366s 37s/step - loss: 0.6096 - binary_accuracy: 0.6835 - mae: 0.3792 - val_loss: 0.6595 - val_binary_accuracy: 0.6794 - val_mae: 0.4802\n",
            "Epoch 9/10\n",
            "10/10 [==============================] - ETA: 0s - loss: 0.5097 - binary_accuracy: 0.7556 - mae: 0.3158 \n",
            "Epoch 00009: val_loss improved from 0.64791 to 0.62862, saving model to xray_class_weights.best.hdf5\n",
            "10/10 [==============================] - 363s 36s/step - loss: 0.5097 - binary_accuracy: 0.7556 - mae: 0.3158 - val_loss: 0.6286 - val_binary_accuracy: 0.6794 - val_mae: 0.4443\n",
            "Epoch 10/10\n",
            "10/10 [==============================] - ETA: 0s - loss: 0.4112 - binary_accuracy: 0.8164 - mae: 0.2340 \n",
            "Epoch 00010: val_loss improved from 0.62862 to 0.62752, saving model to xray_class_weights.best.hdf5\n",
            "10/10 [==============================] - 366s 37s/step - loss: 0.4112 - binary_accuracy: 0.8164 - mae: 0.2340 - val_loss: 0.6275 - val_binary_accuracy: 0.6794 - val_mae: 0.4323\n"
          ]
        }
      ],
      "source": [
        "history_mobilenet_GAP = mobilenet_GAP_model.fit(X_train,y_train,\n",
        "                                  steps_per_epoch=10,\n",
        "                                  validation_data = (X_test, y_test), \n",
        "                                  epochs = 10, \n",
        "                                  callbacks = callbacks_list)"
      ]
    },
    {
      "cell_type": "code",
      "execution_count": null,
      "metadata": {
        "colab": {
          "base_uri": "https://localhost:8080/"
        },
        "id": "RtV4zkGJ35zM",
        "outputId": "4d4d3134-a45f-403f-960e-2219a4dcf2fe"
      },
      "outputs": [
        {
          "name": "stdout",
          "output_type": "stream",
          "text": [
            "68/68 [==============================] - 24s 346ms/step\n"
          ]
        }
      ],
      "source": [
        "pred_Y = mobilenet_GAP_model.predict(X_test, \n",
        "                          batch_size = 32, \n",
        "                          verbose = True)"
      ]
    },
    {
      "cell_type": "code",
      "execution_count": null,
      "metadata": {
        "colab": {
          "base_uri": "https://localhost:8080/"
        },
        "id": "1YMVw-5035zM",
        "outputId": "7973729c-f0b2-402a-ef60-38568562c95c"
      },
      "outputs": [
        {
          "data": {
            "text/plain": [
              "array([[0.31119406],\n",
              "       [0.31119406],\n",
              "       [0.31119406],\n",
              "       ...,\n",
              "       [0.31119406],\n",
              "       [0.31119406],\n",
              "       [0.31119406]], dtype=float32)"
            ]
          },
          "execution_count": 17,
          "metadata": {},
          "output_type": "execute_result"
        }
      ],
      "source": [
        "pred_Y"
      ]
    },
    {
      "cell_type": "code",
      "execution_count": null,
      "metadata": {
        "colab": {
          "base_uri": "https://localhost:8080/"
        },
        "id": "PjTVlzh835zM",
        "outputId": "29bad352-b2f7-4b7e-d20c-8e25f2eb5a8a"
      },
      "outputs": [
        {
          "data": {
            "text/plain": [
              "array([0.31119406], dtype=float32)"
            ]
          },
          "execution_count": 18,
          "metadata": {},
          "output_type": "execute_result"
        }
      ],
      "source": [
        "min(pred_Y)"
      ]
    },
    {
      "cell_type": "code",
      "execution_count": null,
      "metadata": {
        "colab": {
          "base_uri": "https://localhost:8080/"
        },
        "id": "l2JE1VRE35zN",
        "outputId": "456435cc-21af-4baa-938c-08a0390c5133"
      },
      "outputs": [
        {
          "name": "stdout",
          "output_type": "stream",
          "text": [
            "test accuracy =  0.67940354347229\n"
          ]
        }
      ],
      "source": [
        "print('test accuracy = ',mobilenet_GAP_model.evaluate(X_test,y_test, verbose=0)[1])"
      ]
    },
    {
      "cell_type": "code",
      "execution_count": null,
      "metadata": {
        "colab": {
          "base_uri": "https://localhost:8080/"
        },
        "id": "q5_mo1xk35zN",
        "outputId": "45482dd2-65a7-4a5a-9c4d-16b4d1d7c6e5"
      },
      "outputs": [
        {
          "name": "stdout",
          "output_type": "stream",
          "text": [
            "roc score =  0.4994776214629789\n"
          ]
        }
      ],
      "source": [
        "from sklearn.metrics import roc_auc_score\n",
        "print('roc score = ',roc_auc_score(y_test.astype(int), pred_Y))"
      ]
    },
    {
      "cell_type": "code",
      "execution_count": null,
      "metadata": {
        "colab": {
          "base_uri": "https://localhost:8080/",
          "height": 430
        },
        "id": "lPw1wHo635zO",
        "outputId": "57d91baa-1d55-45c2-f7d0-d08229130833"
      },
      "outputs": [
        {
          "name": "stdout",
          "output_type": "stream",
          "text": [
            "                precision    recall  f1-score   support\n",
            "\n",
            "No Atelectasis       0.68      0.99      0.81      1458\n",
            "   Atelectasis       0.29      0.01      0.01       688\n",
            "\n",
            "      accuracy                           0.68      2146\n",
            "     macro avg       0.48      0.50      0.41      2146\n",
            "  weighted avg       0.55      0.68      0.55      2146\n",
            "\n"
          ]
        },
        {
          "data": {
            "image/png": "[encoded data removed]",
            "text/plain": [
              "<Figure size 288x288 with 1 Axes>"
            ]
          },
          "metadata": {},
          "output_type": "display_data"
        }
      ],
      "source": [
        "from sklearn.metrics import classification_report, confusion_matrix\n",
        "plt.matshow(confusion_matrix(y_test, pred_Y>0.31119406))\n",
        "print(classification_report(y_test, pred_Y>0.31119406, target_names = ['No Atelectasis', 'Atelectasis']))"
      ]
    },
    {
      "cell_type": "markdown",
      "metadata": {
        "id": "H_dk4ZMs1l6R"
      },
      "source": [
        "## **Cardiomegaly**"
      ]
    },
    {
      "cell_type": "code",
      "execution_count": null,
      "metadata": {
        "colab": {
          "base_uri": "https://localhost:8080/",
          "height": 266
        },
        "id": "RyTZKWai1nUd",
        "outputId": "80f7ff30-c2de-4413-999a-b611452980ed"
      },
      "outputs": [
        {
          "name": "stdout",
          "output_type": "stream",
          "text": [
            "0    5552\n",
            "1    2776\n",
            "Name: Cardiomegaly, dtype: int64\n"
          ]
        },
        {
          "data": {
            "text/plain": [
              "<seaborn.axisgrid.PairGrid at 0x7ff1b1cda6d0>"
            ]
          },
          "execution_count": 22,
          "metadata": {},
          "output_type": "execute_result"
        },
        {
          "data": {
            "image/png": "[encoded data removed]",
            "text/plain": [
              "<Figure size 257.25x180 with 2 Axes>"
            ]
          },
          "metadata": {},
          "output_type": "display_data"
        }
      ],
      "source": [
        "positive_cases = np.sum(all_xray_df['Cardiomegaly']==True)//2\n",
        "oversample_factor = 4 # maximum number of cases in negative group so it isn't super rare\n",
        "more_balanced_df = all_xray_df.groupby(['Cardiomegaly']).apply(lambda x: x.sample(min(oversample_factor*positive_cases, x.shape[0]), \n",
        "                                                                                   replace = False)\n",
        "                                                      ).reset_index(drop = True)\n",
        "\n",
        "print(more_balanced_df['Cardiomegaly'].value_counts())\n",
        "sns.pairplot(more_balanced_df[['Patient Age', 'Cardiomegaly']], hue='Cardiomegaly')"
      ]
    },
    {
      "cell_type": "code",
      "execution_count": null,
      "metadata": {
        "colab": {
          "base_uri": "https://localhost:8080/",
          "height": 240
        },
        "id": "W6un8lHO1nUe",
        "outputId": "10659137-8e94-4e40-df9f-43ec4fe058ac"
      },
      "outputs": [
        {
          "name": "stdout",
          "output_type": "stream",
          "text": [
            "train 5829 validation 1499 test 1000\n",
            "train 0    3886\n",
            "1    1943\n",
            "Name: Cardiomegaly, dtype: int64\n",
            "test 0    667\n",
            "1    333\n",
            "Name: Cardiomegaly, dtype: int64\n"
          ]
        },
        {
          "data": {
            "text/html": [
              "<div>\n",
              "<style scoped>\n",
              "    .dataframe tbody tr th:only-of-type {\n",
              "        vertical-align: middle;\n",
              "    }\n",
              "\n",
              "    .dataframe tbody tr th {\n",
              "        vertical-align: top;\n",
              "    }\n",
              "\n",
              "    .dataframe thead th {\n",
              "        text-align: right;\n",
              "    }\n",
              "</style>\n",
              "<table border=\"1\" class=\"dataframe\">\n",
              "  <thead>\n",
              "    <tr style=\"text-align: right;\">\n",
              "      <th></th>\n",
              "      <th>Image Index</th>\n",
              "      <th>Finding Labels</th>\n",
              "      <th>Follow-up #</th>\n",
              "      <th>Patient ID</th>\n",
              "      <th>Patient Age</th>\n",
              "      <th>Patient Gender</th>\n",
              "      <th>View Position</th>\n",
              "      <th>OriginalImage[Width</th>\n",
              "      <th>Height]</th>\n",
              "      <th>OriginalImagePixelSpacing[x</th>\n",
              "      <th>y]</th>\n",
              "      <th>path</th>\n",
              "      <th>Pneumonia</th>\n",
              "      <th>Patient Male</th>\n",
              "      <th>Cardiomegaly</th>\n",
              "      <th>Emphysema</th>\n",
              "      <th>Effusion</th>\n",
              "      <th>Hernia</th>\n",
              "      <th>Nodule</th>\n",
              "      <th>Pneumothorax</th>\n",
              "      <th>Atelectasis</th>\n",
              "      <th>Pleural_Thickening</th>\n",
              "      <th>Mass</th>\n",
              "      <th>Edema</th>\n",
              "      <th>Consolidation</th>\n",
              "      <th>Infiltration</th>\n",
              "      <th>Fibrosis</th>\n",
              "      <th>Nothing</th>\n",
              "    </tr>\n",
              "  </thead>\n",
              "  <tbody>\n",
              "    <tr>\n",
              "      <th>6680</th>\n",
              "      <td>00009717_002.png</td>\n",
              "      <td>Cardiomegaly</td>\n",
              "      <td>2</td>\n",
              "      <td>9717</td>\n",
              "      <td>48</td>\n",
              "      <td>M</td>\n",
              "      <td>PA</td>\n",
              "      <td>2992</td>\n",
              "      <td>2991</td>\n",
              "      <td>0.143</td>\n",
              "      <td>0.143</td>\n",
              "      <td>/content/drive/MyDrive/Images/image5/00009717_...</td>\n",
              "      <td>False</td>\n",
              "      <td>1.0</td>\n",
              "      <td>1</td>\n",
              "      <td>0</td>\n",
              "      <td>0</td>\n",
              "      <td>0</td>\n",
              "      <td>0</td>\n",
              "      <td>0</td>\n",
              "      <td>0</td>\n",
              "      <td>0</td>\n",
              "      <td>0</td>\n",
              "      <td>0</td>\n",
              "      <td>0</td>\n",
              "      <td>0</td>\n",
              "      <td>0</td>\n",
              "      <td>0</td>\n",
              "    </tr>\n",
              "  </tbody>\n",
              "</table>\n",
              "</div>"
            ],
            "text/plain": [
              "           Image Index Finding Labels  ...  Fibrosis  Nothing\n",
              "6680  00009717_002.png   Cardiomegaly  ...         0        0\n",
              "\n",
              "[1 rows x 28 columns]"
            ]
          },
          "execution_count": 23,
          "metadata": {},
          "output_type": "execute_result"
        }
      ],
      "source": [
        "from sklearn.model_selection import train_test_split\n",
        "raw_train_df, test_valid_df = train_test_split(more_balanced_df, \n",
        "                                   test_size = 0.30, \n",
        "                                   random_state = 2018,\n",
        "                                   stratify = more_balanced_df[['Cardiomegaly']])\n",
        "valid_df, test_df = train_test_split(test_valid_df, \n",
        "                                   test_size = 0.40, \n",
        "                                   random_state = 2018,\n",
        "                                   stratify = test_valid_df[['Cardiomegaly']])\n",
        "print('train', raw_train_df.shape[0], 'validation', valid_df.shape[0], 'test', test_df.shape[0])\n",
        "print('train', raw_train_df['Cardiomegaly'].value_counts())\n",
        "print('test', test_df['Cardiomegaly'].value_counts())\n",
        "raw_train_df.sample(1)"
      ]
    },
    {
      "cell_type": "markdown",
      "metadata": {
        "id": "L-UuXC6D7zVQ"
      },
      "source": [
        "# *Oversampling*"
      ]
    },
    {
      "cell_type": "code",
      "execution_count": null,
      "metadata": {
        "colab": {
          "base_uri": "https://localhost:8080/"
        },
        "id": "Bv1HUAd71nUf",
        "outputId": "f1dbe8bc-8bf7-41e1-a1fb-e18d30aa880d"
      },
      "outputs": [
        {
          "name": "stdout",
          "output_type": "stream",
          "text": [
            "New Data Size: 120000 Old Size: 5829\n"
          ]
        }
      ],
      "source": [
        "train_df = raw_train_df.groupby(['Cardiomegaly']).apply(lambda x: x.sample(60000, replace = True)\n",
        "                                                      ).reset_index(drop = True)\n",
        "print('New Data Size:', train_df.shape[0], 'Old Size:', raw_train_df.shape[0])"
      ]
    },
    {
      "cell_type": "code",
      "execution_count": null,
      "metadata": {
        "id": "S6LL5cBZ1nUf"
      },
      "outputs": [],
      "source": [
        "from keras.preprocessing.image import ImageDataGenerator\n",
        "idg = ImageDataGenerator(zoom_range=0.2,\n",
        "                           fill_mode='nearest',\n",
        "                           rotation_range=25,  \n",
        "                           width_shift_range=0.25,  \n",
        "                           height_shift_range=0.25,  \n",
        "                           vertical_flip=False, \n",
        "                           horizontal_flip=True,\n",
        "                           shear_range = 0.2,\n",
        "                           samplewise_center=False, \n",
        "                           samplewise_std_normalization=False)\n"
      ]
    },
    {
      "cell_type": "code",
      "execution_count": null,
      "metadata": {
        "id": "VkQWApdx1nUg"
      },
      "outputs": [],
      "source": [
        "SEED= 10\n",
        "IMG_SIZE = (128, 128) \n",
        "####\n",
        "def flow_from_dataframe(imgDatGen, df, batch_size, seed, img_size):\n",
        "    #gc.collect()\n",
        "    gen_img = imgDatGen.flow_from_dataframe(dataframe=more_balanced_df,\n",
        "        x_col='path', y_col='Cardiomegaly',\n",
        "        batch_size=batch_size, seed=seed, shuffle=True, class_mode='other',\n",
        "        target_size=img_size, color_mode='grayscale',\n",
        "        drop_duplicates=False)\n",
        "\n",
        "    \n",
        "        \n",
        "    while True:\n",
        "        X1i = gen_img.next()\n",
        "        #X2i = gen_img.next()\n",
        "        #gc.collect()\n",
        "        yield [X1i[0], X1i[1]]"
      ]
    },
    {
      "cell_type": "code",
      "execution_count": null,
      "metadata": {
        "id": "Ry1tUdn91nUi"
      },
      "outputs": [],
      "source": [
        "flow = flow_from_dataframe(idg, more_balanced_df, 7151, SEED, IMG_SIZE)"
      ]
    },
    {
      "cell_type": "code",
      "execution_count": null,
      "metadata": {
        "colab": {
          "base_uri": "https://localhost:8080/"
        },
        "id": "YcUVS4MX1nUj",
        "outputId": "14656b39-5ae9-42f6-85aa-15248e3cb25a"
      },
      "outputs": [
        {
          "name": "stderr",
          "output_type": "stream",
          "text": [
            "--- Logging error ---\n",
            "Traceback (most recent call last):\n",
            "  File \"/usr/lib/python3.7/logging/__init__.py\", line 1025, in emit\n",
            "    msg = self.format(record)\n",
            "  File \"/usr/lib/python3.7/logging/__init__.py\", line 869, in format\n",
            "    return fmt.format(record)\n",
            "  File \"/usr/lib/python3.7/logging/__init__.py\", line 608, in format\n",
            "    record.message = record.getMessage()\n",
            "  File \"/usr/lib/python3.7/logging/__init__.py\", line 369, in getMessage\n",
            "    msg = msg % self.args\n",
            "TypeError: not all arguments converted during string formatting\n",
            "Call stack:\n",
            "  File \"/usr/lib/python3.7/runpy.py\", line 193, in _run_module_as_main\n",
            "    \"__main__\", mod_spec)\n",
            "  File \"/usr/lib/python3.7/runpy.py\", line 85, in _run_code\n",
            "    exec(code, run_globals)\n",
            "  File \"/usr/local/lib/python3.7/dist-packages/ipykernel_launcher.py\", line 16, in <module>\n",
            "    app.launch_new_instance()\n",
            "  File \"/usr/local/lib/python3.7/dist-packages/traitlets/config/application.py\", line 846, in launch_instance\n",
            "    app.start()\n",
            "  File \"/usr/local/lib/python3.7/dist-packages/ipykernel/kernelapp.py\", line 499, in start\n",
            "    self.io_loop.start()\n",
            "  File \"/usr/local/lib/python3.7/dist-packages/tornado/platform/asyncio.py\", line 132, in start\n",
            "    self.asyncio_loop.run_forever()\n",
            "  File \"/usr/lib/python3.7/asyncio/base_events.py\", line 541, in run_forever\n",
            "    self._run_once()\n",
            "  File \"/usr/lib/python3.7/asyncio/base_events.py\", line 1786, in _run_once\n",
            "    handle._run()\n",
            "  File \"/usr/lib/python3.7/asyncio/events.py\", line 88, in _run\n",
            "    self._context.run(self._callback, *self._args)\n",
            "  File \"/usr/local/lib/python3.7/dist-packages/tornado/platform/asyncio.py\", line 122, in _handle_events\n",
            "    handler_func(fileobj, events)\n",
            "  File \"/usr/local/lib/python3.7/dist-packages/tornado/stack_context.py\", line 300, in null_wrapper\n",
            "    return fn(*args, **kwargs)\n",
            "  File \"/usr/local/lib/python3.7/dist-packages/zmq/eventloop/zmqstream.py\", line 452, in _handle_events\n",
            "    self._handle_recv()\n",
            "  File \"/usr/local/lib/python3.7/dist-packages/zmq/eventloop/zmqstream.py\", line 481, in _handle_recv\n",
            "    self._run_callback(callback, msg)\n",
            "  File \"/usr/local/lib/python3.7/dist-packages/zmq/eventloop/zmqstream.py\", line 431, in _run_callback\n",
            "    callback(*args, **kwargs)\n",
            "  File \"/usr/local/lib/python3.7/dist-packages/tornado/stack_context.py\", line 300, in null_wrapper\n",
            "    return fn(*args, **kwargs)\n",
            "  File \"/usr/local/lib/python3.7/dist-packages/ipykernel/kernelbase.py\", line 283, in dispatcher\n",
            "    return self.dispatch_shell(stream, msg)\n",
            "  File \"/usr/local/lib/python3.7/dist-packages/ipykernel/kernelbase.py\", line 233, in dispatch_shell\n",
            "    handler(stream, idents, msg)\n",
            "  File \"/usr/local/lib/python3.7/dist-packages/ipykernel/kernelbase.py\", line 399, in execute_request\n",
            "    user_expressions, allow_stdin)\n",
            "  File \"/usr/local/lib/python3.7/dist-packages/ipykernel/ipkernel.py\", line 208, in do_execute\n",
            "    res = shell.run_cell(code, store_history=store_history, silent=silent)\n",
            "  File \"/usr/local/lib/python3.7/dist-packages/ipykernel/zmqshell.py\", line 537, in run_cell\n",
            "    return super(ZMQInteractiveShell, self).run_cell(*args, **kwargs)\n",
            "  File \"/usr/local/lib/python3.7/dist-packages/IPython/core/interactiveshell.py\", line 2718, in run_cell\n",
            "    interactivity=interactivity, compiler=compiler, result=result)\n",
            "  File \"/usr/local/lib/python3.7/dist-packages/IPython/core/interactiveshell.py\", line 2822, in run_ast_nodes\n",
            "    if self.run_code(code, result):\n",
            "  File \"/usr/local/lib/python3.7/dist-packages/IPython/core/interactiveshell.py\", line 2882, in run_code\n",
            "    exec(code_obj, self.user_global_ns, self.user_ns)\n",
            "  File \"<ipython-input-28-710bbcbe35c6>\", line 1, in <module>\n",
            "    t,y= next(flow)\n",
            "  File \"<ipython-input-26-df4ed87f83af>\", line 10, in flow_from_dataframe\n",
            "    drop_duplicates=False)\n",
            "  File \"/usr/local/lib/python3.7/dist-packages/keras/preprocessing/image.py\", line 1109, in flow_from_dataframe\n",
            "    '`class_mode` \"raw\".', DeprecationWarning)\n",
            "  File \"/usr/local/lib/python3.7/dist-packages/tensorflow/python/platform/tf_logging.py\", line 178, in warning\n",
            "    get_logger().warning(msg, *args, **kwargs)\n",
            "Message: '`class_mode` \"other\" is deprecated, please use `class_mode` \"raw\".'\n",
            "Arguments: (<class 'DeprecationWarning'>,)\n",
            "--- Logging error ---\n",
            "Traceback (most recent call last):\n",
            "  File \"/usr/lib/python3.7/logging/__init__.py\", line 1025, in emit\n",
            "    msg = self.format(record)\n",
            "  File \"/usr/lib/python3.7/logging/__init__.py\", line 869, in format\n",
            "    return fmt.format(record)\n",
            "  File \"/usr/lib/python3.7/logging/__init__.py\", line 608, in format\n",
            "    record.message = record.getMessage()\n",
            "  File \"/usr/lib/python3.7/logging/__init__.py\", line 369, in getMessage\n",
            "    msg = msg % self.args\n",
            "TypeError: not all arguments converted during string formatting\n",
            "Call stack:\n",
            "  File \"/usr/lib/python3.7/runpy.py\", line 193, in _run_module_as_main\n",
            "    \"__main__\", mod_spec)\n",
            "  File \"/usr/lib/python3.7/runpy.py\", line 85, in _run_code\n",
            "    exec(code, run_globals)\n",
            "  File \"/usr/local/lib/python3.7/dist-packages/ipykernel_launcher.py\", line 16, in <module>\n",
            "    app.launch_new_instance()\n",
            "  File \"/usr/local/lib/python3.7/dist-packages/traitlets/config/application.py\", line 846, in launch_instance\n",
            "    app.start()\n",
            "  File \"/usr/local/lib/python3.7/dist-packages/ipykernel/kernelapp.py\", line 499, in start\n",
            "    self.io_loop.start()\n",
            "  File \"/usr/local/lib/python3.7/dist-packages/tornado/platform/asyncio.py\", line 132, in start\n",
            "    self.asyncio_loop.run_forever()\n",
            "  File \"/usr/lib/python3.7/asyncio/base_events.py\", line 541, in run_forever\n",
            "    self._run_once()\n",
            "  File \"/usr/lib/python3.7/asyncio/base_events.py\", line 1786, in _run_once\n",
            "    handle._run()\n",
            "  File \"/usr/lib/python3.7/asyncio/events.py\", line 88, in _run\n",
            "    self._context.run(self._callback, *self._args)\n",
            "  File \"/usr/local/lib/python3.7/dist-packages/tornado/platform/asyncio.py\", line 122, in _handle_events\n",
            "    handler_func(fileobj, events)\n",
            "  File \"/usr/local/lib/python3.7/dist-packages/tornado/stack_context.py\", line 300, in null_wrapper\n",
            "    return fn(*args, **kwargs)\n",
            "  File \"/usr/local/lib/python3.7/dist-packages/zmq/eventloop/zmqstream.py\", line 452, in _handle_events\n",
            "    self._handle_recv()\n",
            "  File \"/usr/local/lib/python3.7/dist-packages/zmq/eventloop/zmqstream.py\", line 481, in _handle_recv\n",
            "    self._run_callback(callback, msg)\n",
            "  File \"/usr/local/lib/python3.7/dist-packages/zmq/eventloop/zmqstream.py\", line 431, in _run_callback\n",
            "    callback(*args, **kwargs)\n",
            "  File \"/usr/local/lib/python3.7/dist-packages/tornado/stack_context.py\", line 300, in null_wrapper\n",
            "    return fn(*args, **kwargs)\n",
            "  File \"/usr/local/lib/python3.7/dist-packages/ipykernel/kernelbase.py\", line 283, in dispatcher\n",
            "    return self.dispatch_shell(stream, msg)\n",
            "  File \"/usr/local/lib/python3.7/dist-packages/ipykernel/kernelbase.py\", line 233, in dispatch_shell\n",
            "    handler(stream, idents, msg)\n",
            "  File \"/usr/local/lib/python3.7/dist-packages/ipykernel/kernelbase.py\", line 399, in execute_request\n",
            "    user_expressions, allow_stdin)\n",
            "  File \"/usr/local/lib/python3.7/dist-packages/ipykernel/ipkernel.py\", line 208, in do_execute\n",
            "    res = shell.run_cell(code, store_history=store_history, silent=silent)\n",
            "  File \"/usr/local/lib/python3.7/dist-packages/ipykernel/zmqshell.py\", line 537, in run_cell\n",
            "    return super(ZMQInteractiveShell, self).run_cell(*args, **kwargs)\n",
            "  File \"/usr/local/lib/python3.7/dist-packages/IPython/core/interactiveshell.py\", line 2718, in run_cell\n",
            "    interactivity=interactivity, compiler=compiler, result=result)\n",
            "  File \"/usr/local/lib/python3.7/dist-packages/IPython/core/interactiveshell.py\", line 2822, in run_ast_nodes\n",
            "    if self.run_code(code, result):\n",
            "  File \"/usr/local/lib/python3.7/dist-packages/IPython/core/interactiveshell.py\", line 2882, in run_code\n",
            "    exec(code_obj, self.user_global_ns, self.user_ns)\n",
            "  File \"<ipython-input-28-710bbcbe35c6>\", line 1, in <module>\n",
            "    t,y= next(flow)\n",
            "  File \"<ipython-input-26-df4ed87f83af>\", line 10, in flow_from_dataframe\n",
            "    drop_duplicates=False)\n",
            "  File \"/usr/local/lib/python3.7/dist-packages/keras/preprocessing/image.py\", line 1115, in flow_from_dataframe\n",
            "    DeprecationWarning)\n",
            "  File \"/usr/local/lib/python3.7/dist-packages/tensorflow/python/platform/tf_logging.py\", line 178, in warning\n",
            "    get_logger().warning(msg, *args, **kwargs)\n",
            "Message: 'drop_duplicates is deprecated, you can drop duplicates by using the pandas.DataFrame.drop_duplicates method.'\n",
            "Arguments: (<class 'DeprecationWarning'>,)\n"
          ]
        },
        {
          "name": "stdout",
          "output_type": "stream",
          "text": [
            "Found 8328 validated image filenames.\n"
          ]
        }
      ],
      "source": [
        "t,y= next(flow)"
      ]
    },
    {
      "cell_type": "code",
      "execution_count": null,
      "metadata": {
        "id": "iE8rJ6tC1nUl"
      },
      "outputs": [],
      "source": [
        "from sklearn.model_selection import train_test_split\n",
        "X_train, X_test, y_train, y_test = train_test_split(t,y, \n",
        "                                   test_size = 0.30, \n",
        "                                   random_state = 2018)\n"
      ]
    },
    {
      "cell_type": "code",
      "execution_count": null,
      "metadata": {
        "colab": {
          "base_uri": "https://localhost:8080/"
        },
        "id": "e54xEk7X1nUm",
        "outputId": "30f1573a-f69b-4e9c-dfb6-fc675ac08013"
      },
      "outputs": [
        {
          "name": "stdout",
          "output_type": "stream",
          "text": [
            "Model: \"sequential_1\"\n",
            "_________________________________________________________________\n",
            " Layer (type)                Output Shape              Param #   \n",
            "=================================================================\n",
            " mobilenet_1.00_128 (Functio  (None, 4, 4, 1024)       3228288   \n",
            " nal)                                                            \n",
            "                                                                 \n",
            " global_average_pooling2d_1   (None, 1024)             0         \n",
            " (GlobalAveragePooling2D)                                        \n",
            "                                                                 \n",
            " dropout_2 (Dropout)         (None, 1024)              0         \n",
            "                                                                 \n",
            " dense_2 (Dense)             (None, 512)               524800    \n",
            "                                                                 \n",
            " dropout_3 (Dropout)         (None, 512)               0         \n",
            "                                                                 \n",
            " dense_3 (Dense)             (None, 1)                 513       \n",
            "                                                                 \n",
            "=================================================================\n",
            "Total params: 3,753,601\n",
            "Trainable params: 3,731,713\n",
            "Non-trainable params: 21,888\n",
            "_________________________________________________________________\n"
          ]
        }
      ],
      "source": [
        "from keras.applications.mobilenet import MobileNet\n",
        "from keras.layers import GlobalAveragePooling2D, Dense, Dropout, Flatten\n",
        "from keras.models import Sequential\n",
        "mobilenet_model = MobileNet(input_shape =  X_train.shape[1:], \n",
        "                                 include_top = False, weights = None)\n",
        "mobilenet_GAP_model = Sequential()\n",
        "mobilenet_GAP_model.add(mobilenet_model)\n",
        "mobilenet_GAP_model.add(GlobalAveragePooling2D())\n",
        "mobilenet_GAP_model.add(Dropout(0.5))\n",
        "mobilenet_GAP_model.add(Dense(512))\n",
        "mobilenet_GAP_model.add(Dropout(0.5))\n",
        "mobilenet_GAP_model.add(Dense(1, activation = 'sigmoid'))\n",
        "mobilenet_GAP_model.compile(optimizer = 'adam', loss = 'binary_crossentropy',\n",
        "                           metrics = ['binary_accuracy', 'mae'])\n",
        "mobilenet_GAP_model.summary()"
      ]
    },
    {
      "cell_type": "code",
      "execution_count": null,
      "metadata": {
        "id": "kajzji1u1nUn"
      },
      "outputs": [],
      "source": [
        "from keras.callbacks import ModelCheckpoint, LearningRateScheduler, EarlyStopping, ReduceLROnPlateau\n",
        "weight_path=\"{}_weights.best.hdf5\".format('xray_class')\n",
        "\n",
        "checkpoint = ModelCheckpoint(weight_path, monitor='val_loss', verbose=1, \n",
        "                             save_best_only=True, mode='min', save_weights_only = True)\n",
        "\n",
        "early = EarlyStopping(monitor=\"val_loss\", \n",
        "                      mode=\"min\", \n",
        "                      patience=3)\n",
        "callbacks_list = [checkpoint, early]"
      ]
    },
    {
      "cell_type": "code",
      "execution_count": null,
      "metadata": {
        "colab": {
          "base_uri": "https://localhost:8080/"
        },
        "id": "9EcuulD_1nUn",
        "outputId": "aa73cf3e-a99b-4182-8986-0ec7e018dad1"
      },
      "outputs": [
        {
          "name": "stdout",
          "output_type": "stream",
          "text": [
            "Epoch 1/10\n",
            "10/10 [==============================] - ETA: 0s - loss: 1.4681 - binary_accuracy: 0.5874 - mae: 0.4212 \n",
            "Epoch 00001: val_loss improved from inf to 0.69755, saving model to xray_class_weights.best.hdf5\n",
            "10/10 [==============================] - 380s 38s/step - loss: 1.4681 - binary_accuracy: 0.5874 - mae: 0.4212 - val_loss: 0.6975 - val_binary_accuracy: 0.3453 - val_mae: 0.5022\n",
            "Epoch 2/10\n",
            "10/10 [==============================] - ETA: 0s - loss: 0.8863 - binary_accuracy: 0.5680 - mae: 0.4478 \n",
            "Epoch 00002: val_loss improved from 0.69755 to 0.69067, saving model to xray_class_weights.best.hdf5\n",
            "10/10 [==============================] - 361s 36s/step - loss: 0.8863 - binary_accuracy: 0.5680 - mae: 0.4478 - val_loss: 0.6907 - val_binary_accuracy: 0.6547 - val_mae: 0.4987\n",
            "Epoch 3/10\n",
            "10/10 [==============================] - ETA: 0s - loss: 0.7849 - binary_accuracy: 0.6224 - mae: 0.4260 \n",
            "Epoch 00003: val_loss improved from 0.69067 to 0.68296, saving model to xray_class_weights.best.hdf5\n",
            "10/10 [==============================] - 373s 38s/step - loss: 0.7849 - binary_accuracy: 0.6224 - mae: 0.4260 - val_loss: 0.6830 - val_binary_accuracy: 0.6547 - val_mae: 0.4946\n",
            "Epoch 4/10\n",
            "10/10 [==============================] - ETA: 0s - loss: 0.6977 - binary_accuracy: 0.6346 - mae: 0.4232 \n",
            "Epoch 00004: val_loss improved from 0.68296 to 0.67050, saving model to xray_class_weights.best.hdf5\n",
            "10/10 [==============================] - 370s 37s/step - loss: 0.6977 - binary_accuracy: 0.6346 - mae: 0.4232 - val_loss: 0.6705 - val_binary_accuracy: 0.6547 - val_mae: 0.4869\n",
            "Epoch 5/10\n",
            "10/10 [==============================] - ETA: 0s - loss: 0.6479 - binary_accuracy: 0.6657 - mae: 0.3997 \n",
            "Epoch 00005: val_loss improved from 0.67050 to 0.65923, saving model to xray_class_weights.best.hdf5\n",
            "10/10 [==============================] - 366s 37s/step - loss: 0.6479 - binary_accuracy: 0.6657 - mae: 0.3997 - val_loss: 0.6592 - val_binary_accuracy: 0.6547 - val_mae: 0.4782\n",
            "Epoch 6/10\n",
            "10/10 [==============================] - ETA: 0s - loss: 0.5897 - binary_accuracy: 0.6991 - mae: 0.3700 \n",
            "Epoch 00006: val_loss improved from 0.65923 to 0.64718, saving model to xray_class_weights.best.hdf5\n",
            "10/10 [==============================] - 373s 38s/step - loss: 0.5897 - binary_accuracy: 0.6991 - mae: 0.3700 - val_loss: 0.6472 - val_binary_accuracy: 0.6547 - val_mae: 0.4631\n",
            "Epoch 7/10\n",
            "10/10 [==============================] - ETA: 0s - loss: 0.5177 - binary_accuracy: 0.7339 - mae: 0.3291 \n",
            "Epoch 00007: val_loss improved from 0.64718 to 0.64519, saving model to xray_class_weights.best.hdf5\n",
            "10/10 [==============================] - 364s 37s/step - loss: 0.5177 - binary_accuracy: 0.7339 - mae: 0.3291 - val_loss: 0.6452 - val_binary_accuracy: 0.6547 - val_mae: 0.4466\n",
            "Epoch 8/10\n",
            "10/10 [==============================] - ETA: 0s - loss: 0.4310 - binary_accuracy: 0.7976 - mae: 0.2715 \n",
            "Epoch 00008: val_loss did not improve from 0.64519\n",
            "10/10 [==============================] - 371s 38s/step - loss: 0.4310 - binary_accuracy: 0.7976 - mae: 0.2715 - val_loss: 0.6576 - val_binary_accuracy: 0.6547 - val_mae: 0.4293\n",
            "Epoch 9/10\n",
            "10/10 [==============================] - ETA: 0s - loss: 0.4498 - binary_accuracy: 0.7900 - mae: 0.2577 \n",
            "Epoch 00009: val_loss did not improve from 0.64519\n",
            "10/10 [==============================] - 369s 37s/step - loss: 0.4498 - binary_accuracy: 0.7900 - mae: 0.2577 - val_loss: 0.6564 - val_binary_accuracy: 0.6547 - val_mae: 0.4303\n",
            "Epoch 10/10\n",
            "10/10 [==============================] - ETA: 0s - loss: 0.5063 - binary_accuracy: 0.7510 - mae: 0.3179 \n",
            "Epoch 00010: val_loss did not improve from 0.64519\n",
            "10/10 [==============================] - 365s 37s/step - loss: 0.5063 - binary_accuracy: 0.7510 - mae: 0.3179 - val_loss: 0.6453 - val_binary_accuracy: 0.6547 - val_mae: 0.4461\n"
          ]
        }
      ],
      "source": [
        "history_mobilenet_GAP = mobilenet_GAP_model.fit(X_train,y_train,\n",
        "                                  steps_per_epoch=10,\n",
        "                                  validation_data = (X_test, y_test), \n",
        "                                  epochs = 10, \n",
        "                                  callbacks = callbacks_list)"
      ]
    },
    {
      "cell_type": "code",
      "execution_count": null,
      "metadata": {
        "colab": {
          "base_uri": "https://localhost:8080/"
        },
        "id": "OODvPxoA1nUo",
        "outputId": "485997f4-4bbf-4249-b108-e9f859058f65"
      },
      "outputs": [
        {
          "name": "stdout",
          "output_type": "stream",
          "text": [
            "68/68 [==============================] - 24s 349ms/step\n"
          ]
        }
      ],
      "source": [
        "pred_Y = mobilenet_GAP_model.predict(X_test, \n",
        "                          batch_size = 32, \n",
        "                          verbose = True)"
      ]
    },
    {
      "cell_type": "code",
      "execution_count": null,
      "metadata": {
        "colab": {
          "base_uri": "https://localhost:8080/"
        },
        "id": "boEd9Sh51nUp",
        "outputId": "6652c929-a430-4131-d68e-48494293bf9d"
      },
      "outputs": [
        {
          "data": {
            "text/plain": [
              "array([[0.32580483],\n",
              "       [0.32580483],\n",
              "       [0.32580483],\n",
              "       ...,\n",
              "       [0.32580483],\n",
              "       [0.32580483],\n",
              "       [0.32580483]], dtype=float32)"
            ]
          },
          "execution_count": 34,
          "metadata": {},
          "output_type": "execute_result"
        }
      ],
      "source": [
        "pred_Y"
      ]
    },
    {
      "cell_type": "code",
      "execution_count": null,
      "metadata": {
        "colab": {
          "base_uri": "https://localhost:8080/"
        },
        "id": "NihsISmg1nUp",
        "outputId": "c56f35c9-b42b-4bef-e6c2-0902c262727c"
      },
      "outputs": [
        {
          "data": {
            "text/plain": [
              "array([0.32580477], dtype=float32)"
            ]
          },
          "execution_count": 35,
          "metadata": {},
          "output_type": "execute_result"
        }
      ],
      "source": [
        "min(pred_Y)"
      ]
    },
    {
      "cell_type": "code",
      "execution_count": null,
      "metadata": {
        "colab": {
          "base_uri": "https://localhost:8080/"
        },
        "id": "02xcs2A51nUq",
        "outputId": "503014ab-0560-410d-cfb8-2ec5a63bac7c"
      },
      "outputs": [
        {
          "name": "stdout",
          "output_type": "stream",
          "text": [
            "test accuracy =  0.6547064185142517\n"
          ]
        }
      ],
      "source": [
        "print('test accuracy = ',mobilenet_GAP_model.evaluate(X_test,y_test, verbose=0)[1])"
      ]
    },
    {
      "cell_type": "code",
      "execution_count": null,
      "metadata": {
        "colab": {
          "base_uri": "https://localhost:8080/"
        },
        "id": "S6Q5zZGT1nUq",
        "outputId": "affda3ee-c49a-4e52-dda4-3c633b648a39"
      },
      "outputs": [
        {
          "name": "stdout",
          "output_type": "stream",
          "text": [
            "roc score =  0.5\n"
          ]
        }
      ],
      "source": [
        "from sklearn.metrics import roc_auc_score\n",
        "print('roc score = ',roc_auc_score(y_test.astype(int), pred_Y))"
      ]
    },
    {
      "cell_type": "code",
      "execution_count": null,
      "metadata": {
        "colab": {
          "base_uri": "https://localhost:8080/",
          "height": 430
        },
        "id": "e-mjCKDs1nUq",
        "outputId": "10b172e2-a4f2-4499-b05e-d11654d3a043"
      },
      "outputs": [
        {
          "name": "stdout",
          "output_type": "stream",
          "text": [
            "                 precision    recall  f1-score   support\n",
            "\n",
            "No Cardiomegaly       0.64      0.05      0.09      1405\n",
            "   Cardiomegaly       0.34      0.95      0.51       741\n",
            "\n",
            "       accuracy                           0.36      2146\n",
            "      macro avg       0.49      0.50      0.30      2146\n",
            "   weighted avg       0.54      0.36      0.24      2146\n",
            "\n"
          ]
        },
        {
          "data": {
            "image/png": "[encoded data removed]",
            "text/plain": [
              "<Figure size 288x288 with 1 Axes>"
            ]
          },
          "metadata": {},
          "output_type": "display_data"
        }
      ],
      "source": [
        "from sklearn.metrics import classification_report, confusion_matrix\n",
        "plt.matshow(confusion_matrix(y_test, pred_Y>0.32580477))\n",
        "print(classification_report(y_test, pred_Y>0.32580477, target_names = ['No Cardiomegaly', 'Cardiomegaly']))"
      ]
    },
    {
      "cell_type": "markdown",
      "metadata": {
        "id": "0_8kw9fo2TBF"
      },
      "source": [
        "## **Consolidation**"
      ]
    },
    {
      "cell_type": "code",
      "execution_count": null,
      "metadata": {
        "colab": {
          "base_uri": "https://localhost:8080/",
          "height": 266
        },
        "id": "EDXV8DVr2T4U",
        "outputId": "cfd89ebc-70bf-4c5d-a20e-800b382b1513"
      },
      "outputs": [
        {
          "name": "stdout",
          "output_type": "stream",
          "text": [
            "0    9332\n",
            "1    4667\n",
            "Name: Consolidation, dtype: int64\n"
          ]
        },
        {
          "data": {
            "text/plain": [
              "<seaborn.axisgrid.PairGrid at 0x7ff1a91c0850>"
            ]
          },
          "execution_count": 38,
          "metadata": {},
          "output_type": "execute_result"
        },
        {
          "data": {
            "image/png": "[encoded data removed]",
            "text/plain": [
              "<Figure size 255.875x180 with 2 Axes>"
            ]
          },
          "metadata": {},
          "output_type": "display_data"
        }
      ],
      "source": [
        "positive_cases = np.sum(all_xray_df['Consolidation']==True)//2\n",
        "oversample_factor = 4 # maximum number of cases in negative group so it isn't super rare\n",
        "more_balanced_df = all_xray_df.groupby(['Consolidation']).apply(lambda x: x.sample(min(oversample_factor*positive_cases, x.shape[0]), \n",
        "                                                                                   replace = False)\n",
        "                                                      ).reset_index(drop = True)\n",
        "\n",
        "print(more_balanced_df['Consolidation'].value_counts())\n",
        "sns.pairplot(more_balanced_df[['Patient Age', 'Consolidation']], hue='Consolidation')"
      ]
    },
    {
      "cell_type": "code",
      "execution_count": null,
      "metadata": {
        "colab": {
          "base_uri": "https://localhost:8080/",
          "height": 240
        },
        "id": "9W9CbCzb2T4W",
        "outputId": "82235ad5-ed10-4f5e-c6ba-e9e4709508fe"
      },
      "outputs": [
        {
          "name": "stdout",
          "output_type": "stream",
          "text": [
            "train 9799 validation 2520 test 1680\n",
            "train 0    6532\n",
            "1    3267\n",
            "Name: Consolidation, dtype: int64\n",
            "test 0    1120\n",
            "1     560\n",
            "Name: Consolidation, dtype: int64\n"
          ]
        },
        {
          "data": {
            "text/html": [
              "<div>\n",
              "<style scoped>\n",
              "    .dataframe tbody tr th:only-of-type {\n",
              "        vertical-align: middle;\n",
              "    }\n",
              "\n",
              "    .dataframe tbody tr th {\n",
              "        vertical-align: top;\n",
              "    }\n",
              "\n",
              "    .dataframe thead th {\n",
              "        text-align: right;\n",
              "    }\n",
              "</style>\n",
              "<table border=\"1\" class=\"dataframe\">\n",
              "  <thead>\n",
              "    <tr style=\"text-align: right;\">\n",
              "      <th></th>\n",
              "      <th>Image Index</th>\n",
              "      <th>Finding Labels</th>\n",
              "      <th>Follow-up #</th>\n",
              "      <th>Patient ID</th>\n",
              "      <th>Patient Age</th>\n",
              "      <th>Patient Gender</th>\n",
              "      <th>View Position</th>\n",
              "      <th>OriginalImage[Width</th>\n",
              "      <th>Height]</th>\n",
              "      <th>OriginalImagePixelSpacing[x</th>\n",
              "      <th>y]</th>\n",
              "      <th>path</th>\n",
              "      <th>Pneumonia</th>\n",
              "      <th>Patient Male</th>\n",
              "      <th>Cardiomegaly</th>\n",
              "      <th>Emphysema</th>\n",
              "      <th>Effusion</th>\n",
              "      <th>Hernia</th>\n",
              "      <th>Nodule</th>\n",
              "      <th>Pneumothorax</th>\n",
              "      <th>Atelectasis</th>\n",
              "      <th>Pleural_Thickening</th>\n",
              "      <th>Mass</th>\n",
              "      <th>Edema</th>\n",
              "      <th>Consolidation</th>\n",
              "      <th>Infiltration</th>\n",
              "      <th>Fibrosis</th>\n",
              "      <th>Nothing</th>\n",
              "    </tr>\n",
              "  </thead>\n",
              "  <tbody>\n",
              "    <tr>\n",
              "      <th>1573</th>\n",
              "      <td>00011966_018.png</td>\n",
              "      <td>Infiltration</td>\n",
              "      <td>18</td>\n",
              "      <td>11966</td>\n",
              "      <td>22</td>\n",
              "      <td>M</td>\n",
              "      <td>AP</td>\n",
              "      <td>2500</td>\n",
              "      <td>2048</td>\n",
              "      <td>0.168</td>\n",
              "      <td>0.168</td>\n",
              "      <td>/content/drive/MyDrive/Images/image6/00011966_...</td>\n",
              "      <td>False</td>\n",
              "      <td>1.0</td>\n",
              "      <td>0</td>\n",
              "      <td>0</td>\n",
              "      <td>0</td>\n",
              "      <td>0</td>\n",
              "      <td>0</td>\n",
              "      <td>0</td>\n",
              "      <td>0</td>\n",
              "      <td>0</td>\n",
              "      <td>0</td>\n",
              "      <td>0</td>\n",
              "      <td>0</td>\n",
              "      <td>1</td>\n",
              "      <td>0</td>\n",
              "      <td>0</td>\n",
              "    </tr>\n",
              "  </tbody>\n",
              "</table>\n",
              "</div>"
            ],
            "text/plain": [
              "           Image Index Finding Labels  ...  Fibrosis  Nothing\n",
              "1573  00011966_018.png   Infiltration  ...         0        0\n",
              "\n",
              "[1 rows x 28 columns]"
            ]
          },
          "execution_count": 39,
          "metadata": {},
          "output_type": "execute_result"
        }
      ],
      "source": [
        "from sklearn.model_selection import train_test_split\n",
        "raw_train_df, test_valid_df = train_test_split(more_balanced_df, \n",
        "                                   test_size = 0.30, \n",
        "                                   random_state = 2018,\n",
        "                                   stratify = more_balanced_df[['Consolidation']])\n",
        "valid_df, test_df = train_test_split(test_valid_df, \n",
        "                                   test_size = 0.40, \n",
        "                                   random_state = 2018,\n",
        "                                   stratify = test_valid_df[['Consolidation']])\n",
        "print('train', raw_train_df.shape[0], 'validation', valid_df.shape[0], 'test', test_df.shape[0])\n",
        "print('train', raw_train_df['Consolidation'].value_counts())\n",
        "print('test', test_df['Consolidation'].value_counts())\n",
        "raw_train_df.sample(1)"
      ]
    },
    {
      "cell_type": "code",
      "execution_count": null,
      "metadata": {
        "colab": {
          "base_uri": "https://localhost:8080/"
        },
        "id": "BZtzpVw12T4X",
        "outputId": "d1df6a06-2d36-415c-c8c4-5f07ca167b9d"
      },
      "outputs": [
        {
          "name": "stdout",
          "output_type": "stream",
          "text": [
            "New Data Size: 120000 Old Size: 9799\n"
          ]
        }
      ],
      "source": [
        "train_df = raw_train_df.groupby(['Consolidation']).apply(lambda x: x.sample(60000, replace = True)\n",
        "                                                      ).reset_index(drop = True)\n",
        "print('New Data Size:', train_df.shape[0], 'Old Size:', raw_train_df.shape[0])"
      ]
    },
    {
      "cell_type": "code",
      "execution_count": null,
      "metadata": {
        "id": "oAn-ghGt2T4Y"
      },
      "outputs": [],
      "source": [
        "from keras.preprocessing.image import ImageDataGenerator\n",
        "idg = ImageDataGenerator(zoom_range=0.2,\n",
        "                           fill_mode='nearest',\n",
        "                           rotation_range=25,  \n",
        "                           width_shift_range=0.25,  \n",
        "                           height_shift_range=0.25,  \n",
        "                           vertical_flip=False, \n",
        "                           horizontal_flip=True,\n",
        "                           shear_range = 0.2,\n",
        "                           samplewise_center=False, \n",
        "                           samplewise_std_normalization=False)\n"
      ]
    },
    {
      "cell_type": "code",
      "execution_count": null,
      "metadata": {
        "id": "s52ruF9c2T4Z"
      },
      "outputs": [],
      "source": [
        "SEED= 10\n",
        "IMG_SIZE = (128, 128) \n",
        "####\n",
        "def flow_from_dataframe(imgDatGen, df, batch_size, seed, img_size):\n",
        "    #gc.collect()\n",
        "    gen_img = imgDatGen.flow_from_dataframe(dataframe=more_balanced_df,\n",
        "        x_col='path', y_col='Consolidation',\n",
        "        batch_size=batch_size, seed=seed, shuffle=True, class_mode='other',\n",
        "        target_size=img_size, color_mode='grayscale',\n",
        "        drop_duplicates=False)\n",
        "\n",
        "    \n",
        "        \n",
        "    while True:\n",
        "        X1i = gen_img.next()\n",
        "        #X2i = gen_img.next()\n",
        "        #gc.collect()\n",
        "        yield [X1i[0], X1i[1]]"
      ]
    },
    {
      "cell_type": "code",
      "execution_count": null,
      "metadata": {
        "id": "RRESXEV22T4a"
      },
      "outputs": [],
      "source": [
        "flow = flow_from_dataframe(idg, more_balanced_df, 7151, SEED, IMG_SIZE)"
      ]
    },
    {
      "cell_type": "code",
      "execution_count": null,
      "metadata": {
        "colab": {
          "base_uri": "https://localhost:8080/"
        },
        "id": "Paj0nKZb2T4b",
        "outputId": "b63740e7-ad31-4b01-bf47-1155bd850d72"
      },
      "outputs": [
        {
          "name": "stderr",
          "output_type": "stream",
          "text": [
            "--- Logging error ---\n",
            "Traceback (most recent call last):\n",
            "  File \"/usr/lib/python3.7/logging/__init__.py\", line 1025, in emit\n",
            "    msg = self.format(record)\n",
            "  File \"/usr/lib/python3.7/logging/__init__.py\", line 869, in format\n",
            "    return fmt.format(record)\n",
            "  File \"/usr/lib/python3.7/logging/__init__.py\", line 608, in format\n",
            "    record.message = record.getMessage()\n",
            "  File \"/usr/lib/python3.7/logging/__init__.py\", line 369, in getMessage\n",
            "    msg = msg % self.args\n",
            "TypeError: not all arguments converted during string formatting\n",
            "Call stack:\n",
            "  File \"/usr/lib/python3.7/runpy.py\", line 193, in _run_module_as_main\n",
            "    \"__main__\", mod_spec)\n",
            "  File \"/usr/lib/python3.7/runpy.py\", line 85, in _run_code\n",
            "    exec(code, run_globals)\n",
            "  File \"/usr/local/lib/python3.7/dist-packages/ipykernel_launcher.py\", line 16, in <module>\n",
            "    app.launch_new_instance()\n",
            "  File \"/usr/local/lib/python3.7/dist-packages/traitlets/config/application.py\", line 846, in launch_instance\n",
            "    app.start()\n",
            "  File \"/usr/local/lib/python3.7/dist-packages/ipykernel/kernelapp.py\", line 499, in start\n",
            "    self.io_loop.start()\n",
            "  File \"/usr/local/lib/python3.7/dist-packages/tornado/platform/asyncio.py\", line 132, in start\n",
            "    self.asyncio_loop.run_forever()\n",
            "  File \"/usr/lib/python3.7/asyncio/base_events.py\", line 541, in run_forever\n",
            "    self._run_once()\n",
            "  File \"/usr/lib/python3.7/asyncio/base_events.py\", line 1786, in _run_once\n",
            "    handle._run()\n",
            "  File \"/usr/lib/python3.7/asyncio/events.py\", line 88, in _run\n",
            "    self._context.run(self._callback, *self._args)\n",
            "  File \"/usr/local/lib/python3.7/dist-packages/tornado/platform/asyncio.py\", line 122, in _handle_events\n",
            "    handler_func(fileobj, events)\n",
            "  File \"/usr/local/lib/python3.7/dist-packages/tornado/stack_context.py\", line 300, in null_wrapper\n",
            "    return fn(*args, **kwargs)\n",
            "  File \"/usr/local/lib/python3.7/dist-packages/zmq/eventloop/zmqstream.py\", line 452, in _handle_events\n",
            "    self._handle_recv()\n",
            "  File \"/usr/local/lib/python3.7/dist-packages/zmq/eventloop/zmqstream.py\", line 481, in _handle_recv\n",
            "    self._run_callback(callback, msg)\n",
            "  File \"/usr/local/lib/python3.7/dist-packages/zmq/eventloop/zmqstream.py\", line 431, in _run_callback\n",
            "    callback(*args, **kwargs)\n",
            "  File \"/usr/local/lib/python3.7/dist-packages/tornado/stack_context.py\", line 300, in null_wrapper\n",
            "    return fn(*args, **kwargs)\n",
            "  File \"/usr/local/lib/python3.7/dist-packages/ipykernel/kernelbase.py\", line 283, in dispatcher\n",
            "    return self.dispatch_shell(stream, msg)\n",
            "  File \"/usr/local/lib/python3.7/dist-packages/ipykernel/kernelbase.py\", line 233, in dispatch_shell\n",
            "    handler(stream, idents, msg)\n",
            "  File \"/usr/local/lib/python3.7/dist-packages/ipykernel/kernelbase.py\", line 399, in execute_request\n",
            "    user_expressions, allow_stdin)\n",
            "  File \"/usr/local/lib/python3.7/dist-packages/ipykernel/ipkernel.py\", line 208, in do_execute\n",
            "    res = shell.run_cell(code, store_history=store_history, silent=silent)\n",
            "  File \"/usr/local/lib/python3.7/dist-packages/ipykernel/zmqshell.py\", line 537, in run_cell\n",
            "    return super(ZMQInteractiveShell, self).run_cell(*args, **kwargs)\n",
            "  File \"/usr/local/lib/python3.7/dist-packages/IPython/core/interactiveshell.py\", line 2718, in run_cell\n",
            "    interactivity=interactivity, compiler=compiler, result=result)\n",
            "  File \"/usr/local/lib/python3.7/dist-packages/IPython/core/interactiveshell.py\", line 2822, in run_ast_nodes\n",
            "    if self.run_code(code, result):\n",
            "  File \"/usr/local/lib/python3.7/dist-packages/IPython/core/interactiveshell.py\", line 2882, in run_code\n",
            "    exec(code_obj, self.user_global_ns, self.user_ns)\n",
            "  File \"<ipython-input-44-710bbcbe35c6>\", line 1, in <module>\n",
            "    t,y= next(flow)\n",
            "  File \"<ipython-input-42-65acee2fa3b7>\", line 10, in flow_from_dataframe\n",
            "    drop_duplicates=False)\n",
            "  File \"/usr/local/lib/python3.7/dist-packages/keras/preprocessing/image.py\", line 1109, in flow_from_dataframe\n",
            "    '`class_mode` \"raw\".', DeprecationWarning)\n",
            "  File \"/usr/local/lib/python3.7/dist-packages/tensorflow/python/platform/tf_logging.py\", line 178, in warning\n",
            "    get_logger().warning(msg, *args, **kwargs)\n",
            "Message: '`class_mode` \"other\" is deprecated, please use `class_mode` \"raw\".'\n",
            "Arguments: (<class 'DeprecationWarning'>,)\n",
            "--- Logging error ---\n",
            "Traceback (most recent call last):\n",
            "  File \"/usr/lib/python3.7/logging/__init__.py\", line 1025, in emit\n",
            "    msg = self.format(record)\n",
            "  File \"/usr/lib/python3.7/logging/__init__.py\", line 869, in format\n",
            "    return fmt.format(record)\n",
            "  File \"/usr/lib/python3.7/logging/__init__.py\", line 608, in format\n",
            "    record.message = record.getMessage()\n",
            "  File \"/usr/lib/python3.7/logging/__init__.py\", line 369, in getMessage\n",
            "    msg = msg % self.args\n",
            "TypeError: not all arguments converted during string formatting\n",
            "Call stack:\n",
            "  File \"/usr/lib/python3.7/runpy.py\", line 193, in _run_module_as_main\n",
            "    \"__main__\", mod_spec)\n",
            "  File \"/usr/lib/python3.7/runpy.py\", line 85, in _run_code\n",
            "    exec(code, run_globals)\n",
            "  File \"/usr/local/lib/python3.7/dist-packages/ipykernel_launcher.py\", line 16, in <module>\n",
            "    app.launch_new_instance()\n",
            "  File \"/usr/local/lib/python3.7/dist-packages/traitlets/config/application.py\", line 846, in launch_instance\n",
            "    app.start()\n",
            "  File \"/usr/local/lib/python3.7/dist-packages/ipykernel/kernelapp.py\", line 499, in start\n",
            "    self.io_loop.start()\n",
            "  File \"/usr/local/lib/python3.7/dist-packages/tornado/platform/asyncio.py\", line 132, in start\n",
            "    self.asyncio_loop.run_forever()\n",
            "  File \"/usr/lib/python3.7/asyncio/base_events.py\", line 541, in run_forever\n",
            "    self._run_once()\n",
            "  File \"/usr/lib/python3.7/asyncio/base_events.py\", line 1786, in _run_once\n",
            "    handle._run()\n",
            "  File \"/usr/lib/python3.7/asyncio/events.py\", line 88, in _run\n",
            "    self._context.run(self._callback, *self._args)\n",
            "  File \"/usr/local/lib/python3.7/dist-packages/tornado/platform/asyncio.py\", line 122, in _handle_events\n",
            "    handler_func(fileobj, events)\n",
            "  File \"/usr/local/lib/python3.7/dist-packages/tornado/stack_context.py\", line 300, in null_wrapper\n",
            "    return fn(*args, **kwargs)\n",
            "  File \"/usr/local/lib/python3.7/dist-packages/zmq/eventloop/zmqstream.py\", line 452, in _handle_events\n",
            "    self._handle_recv()\n",
            "  File \"/usr/local/lib/python3.7/dist-packages/zmq/eventloop/zmqstream.py\", line 481, in _handle_recv\n",
            "    self._run_callback(callback, msg)\n",
            "  File \"/usr/local/lib/python3.7/dist-packages/zmq/eventloop/zmqstream.py\", line 431, in _run_callback\n",
            "    callback(*args, **kwargs)\n",
            "  File \"/usr/local/lib/python3.7/dist-packages/tornado/stack_context.py\", line 300, in null_wrapper\n",
            "    return fn(*args, **kwargs)\n",
            "  File \"/usr/local/lib/python3.7/dist-packages/ipykernel/kernelbase.py\", line 283, in dispatcher\n",
            "    return self.dispatch_shell(stream, msg)\n",
            "  File \"/usr/local/lib/python3.7/dist-packages/ipykernel/kernelbase.py\", line 233, in dispatch_shell\n",
            "    handler(stream, idents, msg)\n",
            "  File \"/usr/local/lib/python3.7/dist-packages/ipykernel/kernelbase.py\", line 399, in execute_request\n",
            "    user_expressions, allow_stdin)\n",
            "  File \"/usr/local/lib/python3.7/dist-packages/ipykernel/ipkernel.py\", line 208, in do_execute\n",
            "    res = shell.run_cell(code, store_history=store_history, silent=silent)\n",
            "  File \"/usr/local/lib/python3.7/dist-packages/ipykernel/zmqshell.py\", line 537, in run_cell\n",
            "    return super(ZMQInteractiveShell, self).run_cell(*args, **kwargs)\n",
            "  File \"/usr/local/lib/python3.7/dist-packages/IPython/core/interactiveshell.py\", line 2718, in run_cell\n",
            "    interactivity=interactivity, compiler=compiler, result=result)\n",
            "  File \"/usr/local/lib/python3.7/dist-packages/IPython/core/interactiveshell.py\", line 2822, in run_ast_nodes\n",
            "    if self.run_code(code, result):\n",
            "  File \"/usr/local/lib/python3.7/dist-packages/IPython/core/interactiveshell.py\", line 2882, in run_code\n",
            "    exec(code_obj, self.user_global_ns, self.user_ns)\n",
            "  File \"<ipython-input-44-710bbcbe35c6>\", line 1, in <module>\n",
            "    t,y= next(flow)\n",
            "  File \"<ipython-input-42-65acee2fa3b7>\", line 10, in flow_from_dataframe\n",
            "    drop_duplicates=False)\n",
            "  File \"/usr/local/lib/python3.7/dist-packages/keras/preprocessing/image.py\", line 1115, in flow_from_dataframe\n",
            "    DeprecationWarning)\n",
            "  File \"/usr/local/lib/python3.7/dist-packages/tensorflow/python/platform/tf_logging.py\", line 178, in warning\n",
            "    get_logger().warning(msg, *args, **kwargs)\n",
            "Message: 'drop_duplicates is deprecated, you can drop duplicates by using the pandas.DataFrame.drop_duplicates method.'\n",
            "Arguments: (<class 'DeprecationWarning'>,)\n"
          ]
        },
        {
          "name": "stdout",
          "output_type": "stream",
          "text": [
            "Found 13999 validated image filenames.\n"
          ]
        }
      ],
      "source": [
        "t,y= next(flow)"
      ]
    },
    {
      "cell_type": "code",
      "execution_count": null,
      "metadata": {
        "id": "_pZPfPoC2T4c"
      },
      "outputs": [],
      "source": [
        "from sklearn.model_selection import train_test_split\n",
        "X_train, X_test, y_train, y_test = train_test_split(t,y, \n",
        "                                   test_size = 0.30, \n",
        "                                   random_state = 2018)\n"
      ]
    },
    {
      "cell_type": "code",
      "execution_count": null,
      "metadata": {
        "colab": {
          "base_uri": "https://localhost:8080/"
        },
        "id": "Ni9xtzz-2T4d",
        "outputId": "d256e107-23d4-4a2c-ad43-87870a189b4a"
      },
      "outputs": [
        {
          "name": "stdout",
          "output_type": "stream",
          "text": [
            "Model: \"sequential_2\"\n",
            "_________________________________________________________________\n",
            " Layer (type)                Output Shape              Param #   \n",
            "=================================================================\n",
            " mobilenet_1.00_128 (Functio  (None, 4, 4, 1024)       3228288   \n",
            " nal)                                                            \n",
            "                                                                 \n",
            " global_average_pooling2d_2   (None, 1024)             0         \n",
            " (GlobalAveragePooling2D)                                        \n",
            "                                                                 \n",
            " dropout_4 (Dropout)         (None, 1024)              0         \n",
            "                                                                 \n",
            " dense_4 (Dense)             (None, 512)               524800    \n",
            "                                                                 \n",
            " dropout_5 (Dropout)         (None, 512)               0         \n",
            "                                                                 \n",
            " dense_5 (Dense)             (None, 1)                 513       \n",
            "                                                                 \n",
            "=================================================================\n",
            "Total params: 3,753,601\n",
            "Trainable params: 3,731,713\n",
            "Non-trainable params: 21,888\n",
            "_________________________________________________________________\n"
          ]
        }
      ],
      "source": [
        "from keras.applications.mobilenet import MobileNet\n",
        "from keras.layers import GlobalAveragePooling2D, Dense, Dropout, Flatten\n",
        "from keras.models import Sequential\n",
        "mobilenet_model = MobileNet(input_shape =  X_train.shape[1:], \n",
        "                                 include_top = False, weights = None)\n",
        "mobilenet_GAP_model = Sequential()\n",
        "mobilenet_GAP_model.add(mobilenet_model)\n",
        "mobilenet_GAP_model.add(GlobalAveragePooling2D())\n",
        "mobilenet_GAP_model.add(Dropout(0.5))\n",
        "mobilenet_GAP_model.add(Dense(512))\n",
        "mobilenet_GAP_model.add(Dropout(0.5))\n",
        "mobilenet_GAP_model.add(Dense(1, activation = 'sigmoid'))\n",
        "mobilenet_GAP_model.compile(optimizer = 'adam', loss = 'binary_crossentropy',\n",
        "                           metrics = ['binary_accuracy', 'mae'])\n",
        "mobilenet_GAP_model.summary()"
      ]
    },
    {
      "cell_type": "code",
      "execution_count": null,
      "metadata": {
        "id": "Tu0gRHpp2T4e"
      },
      "outputs": [],
      "source": [
        "from keras.callbacks import ModelCheckpoint, LearningRateScheduler, EarlyStopping, ReduceLROnPlateau\n",
        "weight_path=\"{}_weights.best.hdf5\".format('xray_class')\n",
        "\n",
        "checkpoint = ModelCheckpoint(weight_path, monitor='val_loss', verbose=1, \n",
        "                             save_best_only=True, mode='min', save_weights_only = True)\n",
        "\n",
        "early = EarlyStopping(monitor=\"val_loss\", \n",
        "                      mode=\"min\", \n",
        "                      patience=3)\n",
        "callbacks_list = [checkpoint, early]"
      ]
    },
    {
      "cell_type": "code",
      "execution_count": null,
      "metadata": {
        "colab": {
          "base_uri": "https://localhost:8080/"
        },
        "id": "0ktwY3XI2T4e",
        "outputId": "33e76099-613a-48b5-cb40-e10abb256347"
      },
      "outputs": [
        {
          "name": "stdout",
          "output_type": "stream",
          "text": [
            "Epoch 1/10\n",
            "10/10 [==============================] - ETA: 0s - loss: 1.4587 - binary_accuracy: 0.5910 - mae: 0.4137 \n",
            "Epoch 00001: val_loss improved from inf to 0.69555, saving model to xray_class_weights.best.hdf5\n",
            "10/10 [==============================] - 382s 37s/step - loss: 1.4587 - binary_accuracy: 0.5910 - mae: 0.4137 - val_loss: 0.6955 - val_binary_accuracy: 0.3225 - val_mae: 0.5012\n",
            "Epoch 2/10\n",
            "10/10 [==============================] - ETA: 0s - loss: 0.8339 - binary_accuracy: 0.6000 - mae: 0.4262 \n",
            "Epoch 00002: val_loss did not improve from 0.69555\n",
            "10/10 [==============================] - 376s 38s/step - loss: 0.8339 - binary_accuracy: 0.6000 - mae: 0.4262 - val_loss: 0.7012 - val_binary_accuracy: 0.3225 - val_mae: 0.5039\n",
            "Epoch 3/10\n",
            "10/10 [==============================] - ETA: 0s - loss: 0.7337 - binary_accuracy: 0.6194 - mae: 0.4195 \n",
            "Epoch 00003: val_loss improved from 0.69555 to 0.69346, saving model to xray_class_weights.best.hdf5\n",
            "10/10 [==============================] - 369s 37s/step - loss: 0.7337 - binary_accuracy: 0.6194 - mae: 0.4195 - val_loss: 0.6935 - val_binary_accuracy: 0.3225 - val_mae: 0.5002\n",
            "Epoch 4/10\n",
            "10/10 [==============================] - ETA: 0s - loss: 0.6663 - binary_accuracy: 0.6380 - mae: 0.4083 \n",
            "Epoch 00004: val_loss improved from 0.69346 to 0.67986, saving model to xray_class_weights.best.hdf5\n",
            "10/10 [==============================] - 375s 38s/step - loss: 0.6663 - binary_accuracy: 0.6380 - mae: 0.4083 - val_loss: 0.6799 - val_binary_accuracy: 0.6775 - val_mae: 0.4930\n",
            "Epoch 5/10\n",
            "10/10 [==============================] - ETA: 0s - loss: 0.5895 - binary_accuracy: 0.6783 - mae: 0.3815 \n",
            "Epoch 00005: val_loss did not improve from 0.67986\n",
            "10/10 [==============================] - 383s 39s/step - loss: 0.5895 - binary_accuracy: 0.6783 - mae: 0.3815 - val_loss: 0.6839 - val_binary_accuracy: 0.6775 - val_mae: 0.4952\n",
            "Epoch 6/10\n",
            "10/10 [==============================] - ETA: 0s - loss: 0.4740 - binary_accuracy: 0.7522 - mae: 0.3114 \n",
            "Epoch 00006: val_loss did not improve from 0.67986\n",
            "10/10 [==============================] - 368s 37s/step - loss: 0.4740 - binary_accuracy: 0.7522 - mae: 0.3114 - val_loss: 0.7159 - val_binary_accuracy: 0.3225 - val_mae: 0.5105\n",
            "Epoch 7/10\n",
            "10/10 [==============================] - ETA: 0s - loss: 0.3794 - binary_accuracy: 0.8264 - mae: 0.2327 \n",
            "Epoch 00007: val_loss did not improve from 0.67986\n",
            "10/10 [==============================] - 373s 38s/step - loss: 0.3794 - binary_accuracy: 0.8264 - mae: 0.2327 - val_loss: 0.6957 - val_binary_accuracy: 0.3225 - val_mae: 0.5013\n"
          ]
        }
      ],
      "source": [
        "history_mobilenet_GAP = mobilenet_GAP_model.fit(X_train,y_train,\n",
        "                                  steps_per_epoch=10,\n",
        "                                  validation_data = (X_test, y_test), \n",
        "                                  epochs = 10, \n",
        "                                  callbacks = callbacks_list)"
      ]
    },
    {
      "cell_type": "code",
      "execution_count": null,
      "metadata": {
        "colab": {
          "base_uri": "https://localhost:8080/"
        },
        "id": "4Q0qZtxy2T4f",
        "outputId": "9646f583-e638-42ac-802e-e8108556ad62"
      },
      "outputs": [
        {
          "name": "stdout",
          "output_type": "stream",
          "text": [
            "68/68 [==============================] - 24s 352ms/step\n"
          ]
        }
      ],
      "source": [
        "pred_Y = mobilenet_GAP_model.predict(X_test, \n",
        "                          batch_size = 32, \n",
        "                          verbose = True)"
      ]
    },
    {
      "cell_type": "code",
      "execution_count": null,
      "metadata": {
        "colab": {
          "base_uri": "https://localhost:8080/"
        },
        "id": "NUmokwuL2T4g",
        "outputId": "b354a5f4-5cbc-4f95-a235-4527ea13f3be"
      },
      "outputs": [
        {
          "data": {
            "text/plain": [
              "array([[0.5035797],\n",
              "       [0.5035797],\n",
              "       [0.5035797],\n",
              "       ...,\n",
              "       [0.5035797],\n",
              "       [0.5035797],\n",
              "       [0.5035797]], dtype=float32)"
            ]
          },
          "execution_count": 50,
          "metadata": {},
          "output_type": "execute_result"
        }
      ],
      "source": [
        "pred_Y"
      ]
    },
    {
      "cell_type": "code",
      "execution_count": null,
      "metadata": {
        "colab": {
          "base_uri": "https://localhost:8080/"
        },
        "id": "bJY8W_Lc2T4h",
        "outputId": "f1843f23-49df-4b41-84ef-a6ec2cd072d8"
      },
      "outputs": [
        {
          "data": {
            "text/plain": [
              "array([0.5035797], dtype=float32)"
            ]
          },
          "execution_count": 51,
          "metadata": {},
          "output_type": "execute_result"
        }
      ],
      "source": [
        "min(pred_Y)"
      ]
    },
    {
      "cell_type": "code",
      "execution_count": null,
      "metadata": {
        "colab": {
          "base_uri": "https://localhost:8080/"
        },
        "id": "jWT9sPP12T4h",
        "outputId": "47584cf5-c53e-40f4-ca83-3102c5655918"
      },
      "outputs": [
        {
          "name": "stdout",
          "output_type": "stream",
          "text": [
            "test accuracy =  0.3224603831768036\n"
          ]
        }
      ],
      "source": [
        "print('test accuracy = ',mobilenet_GAP_model.evaluate(X_test,y_test, verbose=0)[1])"
      ]
    },
    {
      "cell_type": "code",
      "execution_count": null,
      "metadata": {
        "colab": {
          "base_uri": "https://localhost:8080/"
        },
        "id": "DUJUp0gM2T4i",
        "outputId": "ceb63213-2e3d-401c-f60d-daba5ce8f582"
      },
      "outputs": [
        {
          "name": "stdout",
          "output_type": "stream",
          "text": [
            "roc score =  0.5\n"
          ]
        }
      ],
      "source": [
        "from sklearn.metrics import roc_auc_score\n",
        "print('roc score = ',roc_auc_score(y_test.astype(int), pred_Y))"
      ]
    },
    {
      "cell_type": "code",
      "execution_count": null,
      "metadata": {
        "colab": {
          "base_uri": "https://localhost:8080/",
          "height": 554
        },
        "id": "106YMZs82T4j",
        "outputId": "d8d31742-7d2b-4083-81e6-eadccb09da53"
      },
      "outputs": [
        {
          "name": "stdout",
          "output_type": "stream",
          "text": [
            "                  precision    recall  f1-score   support\n",
            "\n",
            "No Consolidation       0.00      0.00      0.00      1454\n",
            "   Consolidation       0.32      1.00      0.49       692\n",
            "\n",
            "        accuracy                           0.32      2146\n",
            "       macro avg       0.16      0.50      0.24      2146\n",
            "    weighted avg       0.10      0.32      0.16      2146\n",
            "\n"
          ]
        },
        {
          "name": "stderr",
          "output_type": "stream",
          "text": [
            "/usr/local/lib/python3.7/dist-packages/sklearn/metrics/_classification.py:1308: UndefinedMetricWarning: Precision and F-score are ill-defined and being set to 0.0 in labels with no predicted samples. Use `zero_division` parameter to control this behavior.\n",
            "  _warn_prf(average, modifier, msg_start, len(result))\n",
            "/usr/local/lib/python3.7/dist-packages/sklearn/metrics/_classification.py:1308: UndefinedMetricWarning: Precision and F-score are ill-defined and being set to 0.0 in labels with no predicted samples. Use `zero_division` parameter to control this behavior.\n",
            "  _warn_prf(average, modifier, msg_start, len(result))\n",
            "/usr/local/lib/python3.7/dist-packages/sklearn/metrics/_classification.py:1308: UndefinedMetricWarning: Precision and F-score are ill-defined and being set to 0.0 in labels with no predicted samples. Use `zero_division` parameter to control this behavior.\n",
            "  _warn_prf(average, modifier, msg_start, len(result))\n"
          ]
        },
        {
          "data": {
            "image/png": "[encoded data removed]",
            "text/plain": [
              "<Figure size 288x288 with 1 Axes>"
            ]
          },
          "metadata": {},
          "output_type": "display_data"
        }
      ],
      "source": [
        "from sklearn.metrics import classification_report, confusion_matrix\n",
        "plt.matshow(confusion_matrix(y_test, pred_Y>0.4035797))\n",
        "print(classification_report(y_test, pred_Y>0.4035797, target_names = ['No Consolidation', 'Consolidation']))"
      ]
    },
    {
      "cell_type": "markdown",
      "metadata": {
        "id": "SEQ1mxBc2U2a"
      },
      "source": [
        "## **Edema**"
      ]
    },
    {
      "cell_type": "code",
      "execution_count": null,
      "metadata": {
        "colab": {
          "base_uri": "https://localhost:8080/",
          "height": 266
        },
        "id": "-URJGE4n2VYH",
        "outputId": "e7648482-ccd6-4a09-a309-2fd0ad67642d"
      },
      "outputs": [
        {
          "name": "stdout",
          "output_type": "stream",
          "text": [
            "0    4604\n",
            "1    2303\n",
            "Name: Edema, dtype: int64\n"
          ]
        },
        {
          "data": {
            "text/plain": [
              "<seaborn.axisgrid.PairGrid at 0x7ff1a8d74550>"
            ]
          },
          "execution_count": 56,
          "metadata": {},
          "output_type": "execute_result"
        },
        {
          "data": {
            "image/png": "[encoded data removed]",
            "text/plain": [
              "<Figure size 222.5x180 with 2 Axes>"
            ]
          },
          "metadata": {},
          "output_type": "display_data"
        }
      ],
      "source": [
        "positive_cases = np.sum(all_xray_df['Edema']==True)//2\n",
        "oversample_factor = 4 # maximum number of cases in negative group so it isn't super rare\n",
        "more_balanced_df = all_xray_df.groupby(['Edema']).apply(lambda x: x.sample(min(oversample_factor*positive_cases, x.shape[0]), \n",
        "                                                                                   replace = False)\n",
        "                                                      ).reset_index(drop = True)\n",
        "\n",
        "print(more_balanced_df['Edema'].value_counts())\n",
        "sns.pairplot(more_balanced_df[['Patient Age', 'Edema']], hue='Edema')"
      ]
    },
    {
      "cell_type": "code",
      "execution_count": null,
      "metadata": {
        "colab": {
          "base_uri": "https://localhost:8080/",
          "height": 240
        },
        "id": "XscR4XVb2VYI",
        "outputId": "70e8ad72-45e4-42a5-ee26-f28f8ee1020f"
      },
      "outputs": [
        {
          "name": "stdout",
          "output_type": "stream",
          "text": [
            "train 4834 validation 1243 test 830\n",
            "train 0    3222\n",
            "1    1612\n",
            "Name: Edema, dtype: int64\n",
            "test 0    553\n",
            "1    277\n",
            "Name: Edema, dtype: int64\n"
          ]
        },
        {
          "data": {
            "text/html": [
              "<div>\n",
              "<style scoped>\n",
              "    .dataframe tbody tr th:only-of-type {\n",
              "        vertical-align: middle;\n",
              "    }\n",
              "\n",
              "    .dataframe tbody tr th {\n",
              "        vertical-align: top;\n",
              "    }\n",
              "\n",
              "    .dataframe thead th {\n",
              "        text-align: right;\n",
              "    }\n",
              "</style>\n",
              "<table border=\"1\" class=\"dataframe\">\n",
              "  <thead>\n",
              "    <tr style=\"text-align: right;\">\n",
              "      <th></th>\n",
              "      <th>Image Index</th>\n",
              "      <th>Finding Labels</th>\n",
              "      <th>Follow-up #</th>\n",
              "      <th>Patient ID</th>\n",
              "      <th>Patient Age</th>\n",
              "      <th>Patient Gender</th>\n",
              "      <th>View Position</th>\n",
              "      <th>OriginalImage[Width</th>\n",
              "      <th>Height]</th>\n",
              "      <th>OriginalImagePixelSpacing[x</th>\n",
              "      <th>y]</th>\n",
              "      <th>path</th>\n",
              "      <th>Pneumonia</th>\n",
              "      <th>Patient Male</th>\n",
              "      <th>Cardiomegaly</th>\n",
              "      <th>Emphysema</th>\n",
              "      <th>Effusion</th>\n",
              "      <th>Hernia</th>\n",
              "      <th>Nodule</th>\n",
              "      <th>Pneumothorax</th>\n",
              "      <th>Atelectasis</th>\n",
              "      <th>Pleural_Thickening</th>\n",
              "      <th>Mass</th>\n",
              "      <th>Edema</th>\n",
              "      <th>Consolidation</th>\n",
              "      <th>Infiltration</th>\n",
              "      <th>Fibrosis</th>\n",
              "      <th>Nothing</th>\n",
              "    </tr>\n",
              "  </thead>\n",
              "  <tbody>\n",
              "    <tr>\n",
              "      <th>5765</th>\n",
              "      <td>00014058_002.png</td>\n",
              "      <td>Edema</td>\n",
              "      <td>12</td>\n",
              "      <td>14058</td>\n",
              "      <td>55</td>\n",
              "      <td>M</td>\n",
              "      <td>PA</td>\n",
              "      <td>1940</td>\n",
              "      <td>2021</td>\n",
              "      <td>0.194311</td>\n",
              "      <td>0.194311</td>\n",
              "      <td>/content/drive/MyDrive/Images/image7/00014058_...</td>\n",
              "      <td>False</td>\n",
              "      <td>1.0</td>\n",
              "      <td>0</td>\n",
              "      <td>0</td>\n",
              "      <td>0</td>\n",
              "      <td>0</td>\n",
              "      <td>0</td>\n",
              "      <td>0</td>\n",
              "      <td>0</td>\n",
              "      <td>0</td>\n",
              "      <td>0</td>\n",
              "      <td>1</td>\n",
              "      <td>0</td>\n",
              "      <td>0</td>\n",
              "      <td>0</td>\n",
              "      <td>0</td>\n",
              "    </tr>\n",
              "  </tbody>\n",
              "</table>\n",
              "</div>"
            ],
            "text/plain": [
              "           Image Index Finding Labels  ...  Fibrosis  Nothing\n",
              "5765  00014058_002.png          Edema  ...         0        0\n",
              "\n",
              "[1 rows x 28 columns]"
            ]
          },
          "execution_count": 57,
          "metadata": {},
          "output_type": "execute_result"
        }
      ],
      "source": [
        "from sklearn.model_selection import train_test_split\n",
        "raw_train_df, test_valid_df = train_test_split(more_balanced_df, \n",
        "                                   test_size = 0.30, \n",
        "                                   random_state = 2018,\n",
        "                                   stratify = more_balanced_df[['Edema']])\n",
        "valid_df, test_df = train_test_split(test_valid_df, \n",
        "                                   test_size = 0.40, \n",
        "                                   random_state = 2018,\n",
        "                                   stratify = test_valid_df[['Edema']])\n",
        "print('train', raw_train_df.shape[0], 'validation', valid_df.shape[0], 'test', test_df.shape[0])\n",
        "print('train', raw_train_df['Edema'].value_counts())\n",
        "print('test', test_df['Edema'].value_counts())\n",
        "raw_train_df.sample(1)"
      ]
    },
    {
      "cell_type": "code",
      "execution_count": null,
      "metadata": {
        "colab": {
          "base_uri": "https://localhost:8080/"
        },
        "id": "1NerNvhe2VYK",
        "outputId": "e1a2ab94-7d07-4893-b1eb-e44b12243443"
      },
      "outputs": [
        {
          "name": "stdout",
          "output_type": "stream",
          "text": [
            "New Data Size: 120000 Old Size: 4834\n"
          ]
        }
      ],
      "source": [
        "train_df = raw_train_df.groupby(['Edema']).apply(lambda x: x.sample(60000, replace = True)\n",
        "                                                      ).reset_index(drop = True)\n",
        "print('New Data Size:', train_df.shape[0], 'Old Size:', raw_train_df.shape[0])"
      ]
    },
    {
      "cell_type": "code",
      "execution_count": null,
      "metadata": {
        "id": "NkZmNTQT2VYL"
      },
      "outputs": [],
      "source": [
        "from keras.preprocessing.image import ImageDataGenerator\n",
        "idg = ImageDataGenerator(zoom_range=0.2,\n",
        "                           fill_mode='nearest',\n",
        "                           rotation_range=25,  \n",
        "                           width_shift_range=0.25,  \n",
        "                           height_shift_range=0.25,  \n",
        "                           vertical_flip=False, \n",
        "                           horizontal_flip=True,\n",
        "                           shear_range = 0.2,\n",
        "                           samplewise_center=False, \n",
        "                           samplewise_std_normalization=False)\n"
      ]
    },
    {
      "cell_type": "code",
      "execution_count": null,
      "metadata": {
        "id": "u7EhAoy12VYM"
      },
      "outputs": [],
      "source": [
        "SEED= 10\n",
        "IMG_SIZE = (128, 128) \n",
        "####\n",
        "def flow_from_dataframe(imgDatGen, df, batch_size, seed, img_size):\n",
        "    #gc.collect()\n",
        "    gen_img = imgDatGen.flow_from_dataframe(dataframe=more_balanced_df,\n",
        "        x_col='path', y_col='Edema',\n",
        "        batch_size=batch_size, seed=seed, shuffle=True, class_mode='other',\n",
        "        target_size=img_size, color_mode='grayscale',\n",
        "        drop_duplicates=False)\n",
        "\n",
        "    \n",
        "        \n",
        "    while True:\n",
        "        X1i = gen_img.next()\n",
        "        #X2i = gen_img.next()\n",
        "        #gc.collect()\n",
        "        yield [X1i[0], X1i[1]]"
      ]
    },
    {
      "cell_type": "code",
      "execution_count": null,
      "metadata": {
        "id": "L0Qf6jOT2VYM"
      },
      "outputs": [],
      "source": [
        "flow = flow_from_dataframe(idg, more_balanced_df, 7151, SEED, IMG_SIZE)"
      ]
    },
    {
      "cell_type": "code",
      "execution_count": null,
      "metadata": {
        "colab": {
          "base_uri": "https://localhost:8080/"
        },
        "id": "NjCj3IS_2VYN",
        "outputId": "a7576f58-5e9c-492e-cea7-31ee8ef5945f"
      },
      "outputs": [
        {
          "name": "stderr",
          "output_type": "stream",
          "text": [
            "--- Logging error ---\n",
            "Traceback (most recent call last):\n",
            "  File \"/usr/lib/python3.7/logging/__init__.py\", line 1025, in emit\n",
            "    msg = self.format(record)\n",
            "  File \"/usr/lib/python3.7/logging/__init__.py\", line 869, in format\n",
            "    return fmt.format(record)\n",
            "  File \"/usr/lib/python3.7/logging/__init__.py\", line 608, in format\n",
            "    record.message = record.getMessage()\n",
            "  File \"/usr/lib/python3.7/logging/__init__.py\", line 369, in getMessage\n",
            "    msg = msg % self.args\n",
            "TypeError: not all arguments converted during string formatting\n",
            "Call stack:\n",
            "  File \"/usr/lib/python3.7/runpy.py\", line 193, in _run_module_as_main\n",
            "    \"__main__\", mod_spec)\n",
            "  File \"/usr/lib/python3.7/runpy.py\", line 85, in _run_code\n",
            "    exec(code, run_globals)\n",
            "  File \"/usr/local/lib/python3.7/dist-packages/ipykernel_launcher.py\", line 16, in <module>\n",
            "    app.launch_new_instance()\n",
            "  File \"/usr/local/lib/python3.7/dist-packages/traitlets/config/application.py\", line 846, in launch_instance\n",
            "    app.start()\n",
            "  File \"/usr/local/lib/python3.7/dist-packages/ipykernel/kernelapp.py\", line 499, in start\n",
            "    self.io_loop.start()\n",
            "  File \"/usr/local/lib/python3.7/dist-packages/tornado/platform/asyncio.py\", line 132, in start\n",
            "    self.asyncio_loop.run_forever()\n",
            "  File \"/usr/lib/python3.7/asyncio/base_events.py\", line 541, in run_forever\n",
            "    self._run_once()\n",
            "  File \"/usr/lib/python3.7/asyncio/base_events.py\", line 1786, in _run_once\n",
            "    handle._run()\n",
            "  File \"/usr/lib/python3.7/asyncio/events.py\", line 88, in _run\n",
            "    self._context.run(self._callback, *self._args)\n",
            "  File \"/usr/local/lib/python3.7/dist-packages/tornado/platform/asyncio.py\", line 122, in _handle_events\n",
            "    handler_func(fileobj, events)\n",
            "  File \"/usr/local/lib/python3.7/dist-packages/tornado/stack_context.py\", line 300, in null_wrapper\n",
            "    return fn(*args, **kwargs)\n",
            "  File \"/usr/local/lib/python3.7/dist-packages/zmq/eventloop/zmqstream.py\", line 452, in _handle_events\n",
            "    self._handle_recv()\n",
            "  File \"/usr/local/lib/python3.7/dist-packages/zmq/eventloop/zmqstream.py\", line 481, in _handle_recv\n",
            "    self._run_callback(callback, msg)\n",
            "  File \"/usr/local/lib/python3.7/dist-packages/zmq/eventloop/zmqstream.py\", line 431, in _run_callback\n",
            "    callback(*args, **kwargs)\n",
            "  File \"/usr/local/lib/python3.7/dist-packages/tornado/stack_context.py\", line 300, in null_wrapper\n",
            "    return fn(*args, **kwargs)\n",
            "  File \"/usr/local/lib/python3.7/dist-packages/ipykernel/kernelbase.py\", line 283, in dispatcher\n",
            "    return self.dispatch_shell(stream, msg)\n",
            "  File \"/usr/local/lib/python3.7/dist-packages/ipykernel/kernelbase.py\", line 233, in dispatch_shell\n",
            "    handler(stream, idents, msg)\n",
            "  File \"/usr/local/lib/python3.7/dist-packages/ipykernel/kernelbase.py\", line 399, in execute_request\n",
            "    user_expressions, allow_stdin)\n",
            "  File \"/usr/local/lib/python3.7/dist-packages/ipykernel/ipkernel.py\", line 208, in do_execute\n",
            "    res = shell.run_cell(code, store_history=store_history, silent=silent)\n",
            "  File \"/usr/local/lib/python3.7/dist-packages/ipykernel/zmqshell.py\", line 537, in run_cell\n",
            "    return super(ZMQInteractiveShell, self).run_cell(*args, **kwargs)\n",
            "  File \"/usr/local/lib/python3.7/dist-packages/IPython/core/interactiveshell.py\", line 2718, in run_cell\n",
            "    interactivity=interactivity, compiler=compiler, result=result)\n",
            "  File \"/usr/local/lib/python3.7/dist-packages/IPython/core/interactiveshell.py\", line 2822, in run_ast_nodes\n",
            "    if self.run_code(code, result):\n",
            "  File \"/usr/local/lib/python3.7/dist-packages/IPython/core/interactiveshell.py\", line 2882, in run_code\n",
            "    exec(code_obj, self.user_global_ns, self.user_ns)\n",
            "  File \"<ipython-input-62-710bbcbe35c6>\", line 1, in <module>\n",
            "    t,y= next(flow)\n",
            "  File \"<ipython-input-60-e093d0319eb3>\", line 10, in flow_from_dataframe\n",
            "    drop_duplicates=False)\n",
            "  File \"/usr/local/lib/python3.7/dist-packages/keras/preprocessing/image.py\", line 1109, in flow_from_dataframe\n",
            "    '`class_mode` \"raw\".', DeprecationWarning)\n",
            "  File \"/usr/local/lib/python3.7/dist-packages/tensorflow/python/platform/tf_logging.py\", line 178, in warning\n",
            "    get_logger().warning(msg, *args, **kwargs)\n",
            "Message: '`class_mode` \"other\" is deprecated, please use `class_mode` \"raw\".'\n",
            "Arguments: (<class 'DeprecationWarning'>,)\n",
            "--- Logging error ---\n",
            "Traceback (most recent call last):\n",
            "  File \"/usr/lib/python3.7/logging/__init__.py\", line 1025, in emit\n",
            "    msg = self.format(record)\n",
            "  File \"/usr/lib/python3.7/logging/__init__.py\", line 869, in format\n",
            "    return fmt.format(record)\n",
            "  File \"/usr/lib/python3.7/logging/__init__.py\", line 608, in format\n",
            "    record.message = record.getMessage()\n",
            "  File \"/usr/lib/python3.7/logging/__init__.py\", line 369, in getMessage\n",
            "    msg = msg % self.args\n",
            "TypeError: not all arguments converted during string formatting\n",
            "Call stack:\n",
            "  File \"/usr/lib/python3.7/runpy.py\", line 193, in _run_module_as_main\n",
            "    \"__main__\", mod_spec)\n",
            "  File \"/usr/lib/python3.7/runpy.py\", line 85, in _run_code\n",
            "    exec(code, run_globals)\n",
            "  File \"/usr/local/lib/python3.7/dist-packages/ipykernel_launcher.py\", line 16, in <module>\n",
            "    app.launch_new_instance()\n",
            "  File \"/usr/local/lib/python3.7/dist-packages/traitlets/config/application.py\", line 846, in launch_instance\n",
            "    app.start()\n",
            "  File \"/usr/local/lib/python3.7/dist-packages/ipykernel/kernelapp.py\", line 499, in start\n",
            "    self.io_loop.start()\n",
            "  File \"/usr/local/lib/python3.7/dist-packages/tornado/platform/asyncio.py\", line 132, in start\n",
            "    self.asyncio_loop.run_forever()\n",
            "  File \"/usr/lib/python3.7/asyncio/base_events.py\", line 541, in run_forever\n",
            "    self._run_once()\n",
            "  File \"/usr/lib/python3.7/asyncio/base_events.py\", line 1786, in _run_once\n",
            "    handle._run()\n",
            "  File \"/usr/lib/python3.7/asyncio/events.py\", line 88, in _run\n",
            "    self._context.run(self._callback, *self._args)\n",
            "  File \"/usr/local/lib/python3.7/dist-packages/tornado/platform/asyncio.py\", line 122, in _handle_events\n",
            "    handler_func(fileobj, events)\n",
            "  File \"/usr/local/lib/python3.7/dist-packages/tornado/stack_context.py\", line 300, in null_wrapper\n",
            "    return fn(*args, **kwargs)\n",
            "  File \"/usr/local/lib/python3.7/dist-packages/zmq/eventloop/zmqstream.py\", line 452, in _handle_events\n",
            "    self._handle_recv()\n",
            "  File \"/usr/local/lib/python3.7/dist-packages/zmq/eventloop/zmqstream.py\", line 481, in _handle_recv\n",
            "    self._run_callback(callback, msg)\n",
            "  File \"/usr/local/lib/python3.7/dist-packages/zmq/eventloop/zmqstream.py\", line 431, in _run_callback\n",
            "    callback(*args, **kwargs)\n",
            "  File \"/usr/local/lib/python3.7/dist-packages/tornado/stack_context.py\", line 300, in null_wrapper\n",
            "    return fn(*args, **kwargs)\n",
            "  File \"/usr/local/lib/python3.7/dist-packages/ipykernel/kernelbase.py\", line 283, in dispatcher\n",
            "    return self.dispatch_shell(stream, msg)\n",
            "  File \"/usr/local/lib/python3.7/dist-packages/ipykernel/kernelbase.py\", line 233, in dispatch_shell\n",
            "    handler(stream, idents, msg)\n",
            "  File \"/usr/local/lib/python3.7/dist-packages/ipykernel/kernelbase.py\", line 399, in execute_request\n",
            "    user_expressions, allow_stdin)\n",
            "  File \"/usr/local/lib/python3.7/dist-packages/ipykernel/ipkernel.py\", line 208, in do_execute\n",
            "    res = shell.run_cell(code, store_history=store_history, silent=silent)\n",
            "  File \"/usr/local/lib/python3.7/dist-packages/ipykernel/zmqshell.py\", line 537, in run_cell\n",
            "    return super(ZMQInteractiveShell, self).run_cell(*args, **kwargs)\n",
            "  File \"/usr/local/lib/python3.7/dist-packages/IPython/core/interactiveshell.py\", line 2718, in run_cell\n",
            "    interactivity=interactivity, compiler=compiler, result=result)\n",
            "  File \"/usr/local/lib/python3.7/dist-packages/IPython/core/interactiveshell.py\", line 2822, in run_ast_nodes\n",
            "    if self.run_code(code, result):\n",
            "  File \"/usr/local/lib/python3.7/dist-packages/IPython/core/interactiveshell.py\", line 2882, in run_code\n",
            "    exec(code_obj, self.user_global_ns, self.user_ns)\n",
            "  File \"<ipython-input-62-710bbcbe35c6>\", line 1, in <module>\n",
            "    t,y= next(flow)\n",
            "  File \"<ipython-input-60-e093d0319eb3>\", line 10, in flow_from_dataframe\n",
            "    drop_duplicates=False)\n",
            "  File \"/usr/local/lib/python3.7/dist-packages/keras/preprocessing/image.py\", line 1115, in flow_from_dataframe\n",
            "    DeprecationWarning)\n",
            "  File \"/usr/local/lib/python3.7/dist-packages/tensorflow/python/platform/tf_logging.py\", line 178, in warning\n",
            "    get_logger().warning(msg, *args, **kwargs)\n",
            "Message: 'drop_duplicates is deprecated, you can drop duplicates by using the pandas.DataFrame.drop_duplicates method.'\n",
            "Arguments: (<class 'DeprecationWarning'>,)\n"
          ]
        },
        {
          "name": "stdout",
          "output_type": "stream",
          "text": [
            "Found 6907 validated image filenames.\n"
          ]
        }
      ],
      "source": [
        "t,y= next(flow)"
      ]
    },
    {
      "cell_type": "code",
      "execution_count": null,
      "metadata": {
        "id": "rC29db_d2VYO"
      },
      "outputs": [],
      "source": [
        "from sklearn.model_selection import train_test_split\n",
        "X_train, X_test, y_train, y_test = train_test_split(t,y, \n",
        "                                   test_size = 0.30, \n",
        "                                   random_state = 2018)\n"
      ]
    },
    {
      "cell_type": "code",
      "execution_count": null,
      "metadata": {
        "colab": {
          "base_uri": "https://localhost:8080/"
        },
        "id": "d-5Fxc9r2VYO",
        "outputId": "4d0fe54b-ef1b-439a-b5a9-b1590b746c91"
      },
      "outputs": [
        {
          "name": "stdout",
          "output_type": "stream",
          "text": [
            "Model: \"sequential_3\"\n",
            "_________________________________________________________________\n",
            " Layer (type)                Output Shape              Param #   \n",
            "=================================================================\n",
            " mobilenet_1.00_128 (Functio  (None, 4, 4, 1024)       3228288   \n",
            " nal)                                                            \n",
            "                                                                 \n",
            " global_average_pooling2d_3   (None, 1024)             0         \n",
            " (GlobalAveragePooling2D)                                        \n",
            "                                                                 \n",
            " dropout_6 (Dropout)         (None, 1024)              0         \n",
            "                                                                 \n",
            " dense_6 (Dense)             (None, 512)               524800    \n",
            "                                                                 \n",
            " dropout_7 (Dropout)         (None, 512)               0         \n",
            "                                                                 \n",
            " dense_7 (Dense)             (None, 1)                 513       \n",
            "                                                                 \n",
            "=================================================================\n",
            "Total params: 3,753,601\n",
            "Trainable params: 3,731,713\n",
            "Non-trainable params: 21,888\n",
            "_________________________________________________________________\n"
          ]
        }
      ],
      "source": [
        "from keras.applications.mobilenet import MobileNet\n",
        "from keras.layers import GlobalAveragePooling2D, Dense, Dropout, Flatten\n",
        "from keras.models import Sequential\n",
        "mobilenet_model = MobileNet(input_shape =  X_train.shape[1:], \n",
        "                                 include_top = False, weights = None)\n",
        "mobilenet_GAP_model = Sequential()\n",
        "mobilenet_GAP_model.add(mobilenet_model)\n",
        "mobilenet_GAP_model.add(GlobalAveragePooling2D())\n",
        "mobilenet_GAP_model.add(Dropout(0.5))\n",
        "mobilenet_GAP_model.add(Dense(512))\n",
        "mobilenet_GAP_model.add(Dropout(0.5))\n",
        "mobilenet_GAP_model.add(Dense(1, activation = 'sigmoid'))\n",
        "mobilenet_GAP_model.compile(optimizer = 'adam', loss = 'binary_crossentropy',\n",
        "                           metrics = ['binary_accuracy', 'mae'])\n",
        "mobilenet_GAP_model.summary()"
      ]
    },
    {
      "cell_type": "code",
      "execution_count": null,
      "metadata": {
        "id": "cp6FD1Mj2VYP"
      },
      "outputs": [],
      "source": [
        "from keras.callbacks import ModelCheckpoint, LearningRateScheduler, EarlyStopping, ReduceLROnPlateau\n",
        "weight_path=\"{}_weights.best.hdf5\".format('xray_class')\n",
        "\n",
        "checkpoint = ModelCheckpoint(weight_path, monitor='val_loss', verbose=1, \n",
        "                             save_best_only=True, mode='min', save_weights_only = True)\n",
        "\n",
        "early = EarlyStopping(monitor=\"val_loss\", \n",
        "                      mode=\"min\", \n",
        "                      patience=3)\n",
        "callbacks_list = [checkpoint, early]"
      ]
    },
    {
      "cell_type": "code",
      "execution_count": null,
      "metadata": {
        "colab": {
          "base_uri": "https://localhost:8080/"
        },
        "id": "m617RKDs2VYQ",
        "outputId": "2bc35626-61fd-413a-c18e-87873e047a97"
      },
      "outputs": [
        {
          "name": "stdout",
          "output_type": "stream",
          "text": [
            "Epoch 1/10\n",
            "10/10 [==============================] - ETA: 0s - loss: 1.5385 - binary_accuracy: 0.5972 - mae: 0.4088 \n",
            "Epoch 00001: val_loss improved from inf to 0.68299, saving model to xray_class_weights.best.hdf5\n",
            "10/10 [==============================] - 369s 36s/step - loss: 1.5385 - binary_accuracy: 0.5972 - mae: 0.4088 - val_loss: 0.6830 - val_binary_accuracy: 0.6686 - val_mae: 0.4947\n",
            "Epoch 2/10\n",
            "10/10 [==============================] - ETA: 0s - loss: 0.7483 - binary_accuracy: 0.6113 - mae: 0.4101 \n",
            "Epoch 00002: val_loss did not improve from 0.68299\n",
            "10/10 [==============================] - 366s 37s/step - loss: 0.7483 - binary_accuracy: 0.6113 - mae: 0.4101 - val_loss: 0.6872 - val_binary_accuracy: 0.6686 - val_mae: 0.4969\n",
            "Epoch 3/10\n",
            "10/10 [==============================] - ETA: 0s - loss: 0.6549 - binary_accuracy: 0.6572 - mae: 0.3903 \n",
            "Epoch 00003: val_loss improved from 0.68299 to 0.67488, saving model to xray_class_weights.best.hdf5\n",
            "10/10 [==============================] - 368s 37s/step - loss: 0.6549 - binary_accuracy: 0.6572 - mae: 0.3903 - val_loss: 0.6749 - val_binary_accuracy: 0.6686 - val_mae: 0.4900\n",
            "Epoch 4/10\n",
            "10/10 [==============================] - ETA: 0s - loss: 0.6224 - binary_accuracy: 0.6823 - mae: 0.3712 \n",
            "Epoch 00004: val_loss did not improve from 0.67488\n",
            "10/10 [==============================] - 359s 36s/step - loss: 0.6224 - binary_accuracy: 0.6823 - mae: 0.3712 - val_loss: 0.6761 - val_binary_accuracy: 0.6686 - val_mae: 0.4908\n",
            "Epoch 5/10\n",
            "10/10 [==============================] - ETA: 0s - loss: 0.5720 - binary_accuracy: 0.7114 - mae: 0.3530 \n",
            "Epoch 00005: val_loss did not improve from 0.67488\n",
            "10/10 [==============================] - 369s 37s/step - loss: 0.5720 - binary_accuracy: 0.7114 - mae: 0.3530 - val_loss: 0.6775 - val_binary_accuracy: 0.6686 - val_mae: 0.4915\n",
            "Epoch 6/10\n",
            "10/10 [==============================] - ETA: 0s - loss: 0.5041 - binary_accuracy: 0.7528 - mae: 0.3188 \n",
            "Epoch 00006: val_loss improved from 0.67488 to 0.65686, saving model to xray_class_weights.best.hdf5\n",
            "10/10 [==============================] - 360s 36s/step - loss: 0.5041 - binary_accuracy: 0.7528 - mae: 0.3188 - val_loss: 0.6569 - val_binary_accuracy: 0.6686 - val_mae: 0.4775\n",
            "Epoch 7/10\n",
            "10/10 [==============================] - ETA: 0s - loss: 0.4070 - binary_accuracy: 0.8103 - mae: 0.2510 \n",
            "Epoch 00007: val_loss did not improve from 0.65686\n",
            "10/10 [==============================] - 367s 37s/step - loss: 0.4070 - binary_accuracy: 0.8103 - mae: 0.2510 - val_loss: 0.6692 - val_binary_accuracy: 0.6686 - val_mae: 0.4864\n",
            "Epoch 8/10\n",
            "10/10 [==============================] - ETA: 0s - loss: 0.3639 - binary_accuracy: 0.8374 - mae: 0.2123 \n",
            "Epoch 00008: val_loss did not improve from 0.65686\n",
            "10/10 [==============================] - 370s 37s/step - loss: 0.3639 - binary_accuracy: 0.8374 - mae: 0.2123 - val_loss: 0.6612 - val_binary_accuracy: 0.6686 - val_mae: 0.4809\n",
            "Epoch 9/10\n",
            "10/10 [==============================] - ETA: 0s - loss: 0.3140 - binary_accuracy: 0.8666 - mae: 0.1918 \n",
            "Epoch 00009: val_loss did not improve from 0.65686\n",
            "10/10 [==============================] - 364s 37s/step - loss: 0.3140 - binary_accuracy: 0.8666 - mae: 0.1918 - val_loss: 0.6573 - val_binary_accuracy: 0.6686 - val_mae: 0.4778\n"
          ]
        }
      ],
      "source": [
        "history_mobilenet_GAP = mobilenet_GAP_model.fit(X_train,y_train,\n",
        "                                  steps_per_epoch=10,\n",
        "                                  validation_data = (X_test, y_test), \n",
        "                                  epochs = 10, \n",
        "                                  callbacks = callbacks_list)"
      ]
    },
    {
      "cell_type": "code",
      "execution_count": null,
      "metadata": {
        "colab": {
          "base_uri": "https://localhost:8080/"
        },
        "id": "o3NljIbJ2VYR",
        "outputId": "b3043fec-a02e-4d22-c5f6-f8e2a238b9af"
      },
      "outputs": [
        {
          "name": "stdout",
          "output_type": "stream",
          "text": [
            "65/65 [==============================] - 24s 357ms/step\n"
          ]
        }
      ],
      "source": [
        "pred_Y = mobilenet_GAP_model.predict(X_test, \n",
        "                          batch_size = 32, \n",
        "                          verbose = True)"
      ]
    },
    {
      "cell_type": "code",
      "execution_count": null,
      "metadata": {
        "colab": {
          "base_uri": "https://localhost:8080/"
        },
        "id": "NL36_6vt2VYS",
        "outputId": "75ed18c7-5669-474a-d740-7cf57dbf999b"
      },
      "outputs": [
        {
          "data": {
            "text/plain": [
              "array([[0.43426156],\n",
              "       [0.43426156],\n",
              "       [0.43426156],\n",
              "       ...,\n",
              "       [0.43426156],\n",
              "       [0.43426156],\n",
              "       [0.43426156]], dtype=float32)"
            ]
          },
          "execution_count": 68,
          "metadata": {},
          "output_type": "execute_result"
        }
      ],
      "source": [
        "pred_Y"
      ]
    },
    {
      "cell_type": "code",
      "execution_count": null,
      "metadata": {
        "colab": {
          "base_uri": "https://localhost:8080/"
        },
        "id": "gNZvEQ0R2VYT",
        "outputId": "419e8f10-eeef-408b-e667-b0b73ed77dd0"
      },
      "outputs": [
        {
          "data": {
            "text/plain": [
              "array([0.43426156], dtype=float32)"
            ]
          },
          "execution_count": 69,
          "metadata": {},
          "output_type": "execute_result"
        }
      ],
      "source": [
        "min(pred_Y)"
      ]
    },
    {
      "cell_type": "code",
      "execution_count": null,
      "metadata": {
        "colab": {
          "base_uri": "https://localhost:8080/"
        },
        "id": "0u0UCmL92VYT",
        "outputId": "feb9bc10-89f4-42fb-d80f-38f4bce9be29"
      },
      "outputs": [
        {
          "name": "stdout",
          "output_type": "stream",
          "text": [
            "test accuracy =  0.6685962080955505\n"
          ]
        }
      ],
      "source": [
        "print('test accuracy = ',mobilenet_GAP_model.evaluate(X_test,y_test, verbose=0)[1])"
      ]
    },
    {
      "cell_type": "code",
      "execution_count": null,
      "metadata": {
        "colab": {
          "base_uri": "https://localhost:8080/"
        },
        "id": "PjMqu6ax2VYU",
        "outputId": "b5ea3f3c-473e-4ee0-89a0-68a775cb034a"
      },
      "outputs": [
        {
          "name": "stdout",
          "output_type": "stream",
          "text": [
            "roc score =  0.4975755685362672\n"
          ]
        }
      ],
      "source": [
        "from sklearn.metrics import roc_auc_score\n",
        "print('roc score = ',roc_auc_score(y_test.astype(int), pred_Y))"
      ]
    },
    {
      "cell_type": "code",
      "execution_count": null,
      "metadata": {
        "colab": {
          "base_uri": "https://localhost:8080/",
          "height": 430
        },
        "id": "T19ZdF7C2VYV",
        "outputId": "ca8644f6-af00-45ba-f318-06f982fa8052"
      },
      "outputs": [
        {
          "name": "stdout",
          "output_type": "stream",
          "text": [
            "              precision    recall  f1-score   support\n",
            "\n",
            "    No Edema       0.67      0.97      0.79      1386\n",
            "       Edema       0.29      0.02      0.04       687\n",
            "\n",
            "    accuracy                           0.66      2073\n",
            "   macro avg       0.48      0.50      0.42      2073\n",
            "weighted avg       0.54      0.66      0.54      2073\n",
            "\n"
          ]
        },
        {
          "data": {
            "image/png": "[encoded data removed]",
            "text/plain": [
              "<Figure size 288x288 with 1 Axes>"
            ]
          },
          "metadata": {},
          "output_type": "display_data"
        }
      ],
      "source": [
        "from sklearn.metrics import classification_report, confusion_matrix\n",
        "plt.matshow(confusion_matrix(y_test, pred_Y>0.43426156))\n",
        "print(classification_report(y_test, pred_Y>0.43426156, target_names = ['No Edema', ' Edema']))"
      ]
    },
    {
      "cell_type": "markdown",
      "metadata": {
        "id": "cGTza3yr2WQH"
      },
      "source": [
        "## **Effusion**"
      ]
    },
    {
      "cell_type": "code",
      "execution_count": null,
      "metadata": {
        "colab": {
          "base_uri": "https://localhost:8080/",
          "height": 266
        },
        "id": "WC_AJCqq2Wue",
        "outputId": "6e4c4b03-adeb-4aef-ed23-baa30704e0cc"
      },
      "outputs": [
        {
          "name": "stdout",
          "output_type": "stream",
          "text": [
            "0    26632\n",
            "1    13317\n",
            "Name: Effusion, dtype: int64\n"
          ]
        },
        {
          "data": {
            "text/plain": [
              "<seaborn.axisgrid.PairGrid at 0x7ff1abec6c10>"
            ]
          },
          "execution_count": 73,
          "metadata": {},
          "output_type": "execute_result"
        },
        {
          "data": {
            "image/png": "[encoded data removed]",
            "text/plain": [
              "<Figure size 228.375x180 with 2 Axes>"
            ]
          },
          "metadata": {},
          "output_type": "display_data"
        }
      ],
      "source": [
        "positive_cases = np.sum(all_xray_df['Effusion']==True)//2\n",
        "oversample_factor = 4 # maximum number of cases in negative group so it isn't super rare\n",
        "more_balanced_df = all_xray_df.groupby(['Effusion']).apply(lambda x: x.sample(min(oversample_factor*positive_cases, x.shape[0]), \n",
        "                                                                                   replace = False)\n",
        "                                                      ).reset_index(drop = True)\n",
        "\n",
        "print(more_balanced_df['Effusion'].value_counts())\n",
        "sns.pairplot(more_balanced_df[['Patient Age', 'Effusion']], hue='Effusion')"
      ]
    },
    {
      "cell_type": "code",
      "execution_count": null,
      "metadata": {
        "colab": {
          "base_uri": "https://localhost:8080/",
          "height": 257
        },
        "id": "RGDogyHs2Wuf",
        "outputId": "ed1b2c30-12d0-4905-bfda-dc4fa15daa9e"
      },
      "outputs": [
        {
          "name": "stdout",
          "output_type": "stream",
          "text": [
            "train 27964 validation 7191 test 4794\n",
            "train 0    18642\n",
            "1     9322\n",
            "Name: Effusion, dtype: int64\n",
            "test 0    3196\n",
            "1    1598\n",
            "Name: Effusion, dtype: int64\n"
          ]
        },
        {
          "data": {
            "text/html": [
              "<div>\n",
              "<style scoped>\n",
              "    .dataframe tbody tr th:only-of-type {\n",
              "        vertical-align: middle;\n",
              "    }\n",
              "\n",
              "    .dataframe tbody tr th {\n",
              "        vertical-align: top;\n",
              "    }\n",
              "\n",
              "    .dataframe thead th {\n",
              "        text-align: right;\n",
              "    }\n",
              "</style>\n",
              "<table border=\"1\" class=\"dataframe\">\n",
              "  <thead>\n",
              "    <tr style=\"text-align: right;\">\n",
              "      <th></th>\n",
              "      <th>Image Index</th>\n",
              "      <th>Finding Labels</th>\n",
              "      <th>Follow-up #</th>\n",
              "      <th>Patient ID</th>\n",
              "      <th>Patient Age</th>\n",
              "      <th>Patient Gender</th>\n",
              "      <th>View Position</th>\n",
              "      <th>OriginalImage[Width</th>\n",
              "      <th>Height]</th>\n",
              "      <th>OriginalImagePixelSpacing[x</th>\n",
              "      <th>y]</th>\n",
              "      <th>path</th>\n",
              "      <th>Pneumonia</th>\n",
              "      <th>Patient Male</th>\n",
              "      <th>Cardiomegaly</th>\n",
              "      <th>Emphysema</th>\n",
              "      <th>Effusion</th>\n",
              "      <th>Hernia</th>\n",
              "      <th>Nodule</th>\n",
              "      <th>Pneumothorax</th>\n",
              "      <th>Atelectasis</th>\n",
              "      <th>Pleural_Thickening</th>\n",
              "      <th>Mass</th>\n",
              "      <th>Edema</th>\n",
              "      <th>Consolidation</th>\n",
              "      <th>Infiltration</th>\n",
              "      <th>Fibrosis</th>\n",
              "      <th>Nothing</th>\n",
              "    </tr>\n",
              "  </thead>\n",
              "  <tbody>\n",
              "    <tr>\n",
              "      <th>25481</th>\n",
              "      <td>00002704_010.png</td>\n",
              "      <td>No Finding</td>\n",
              "      <td>10</td>\n",
              "      <td>2704</td>\n",
              "      <td>38</td>\n",
              "      <td>F</td>\n",
              "      <td>AP</td>\n",
              "      <td>2500</td>\n",
              "      <td>2048</td>\n",
              "      <td>0.168</td>\n",
              "      <td>0.168</td>\n",
              "      <td>/content/drive/MyDrive/Images/image2/00002704_...</td>\n",
              "      <td>False</td>\n",
              "      <td>0.0</td>\n",
              "      <td>0</td>\n",
              "      <td>0</td>\n",
              "      <td>0</td>\n",
              "      <td>0</td>\n",
              "      <td>0</td>\n",
              "      <td>0</td>\n",
              "      <td>0</td>\n",
              "      <td>0</td>\n",
              "      <td>0</td>\n",
              "      <td>0</td>\n",
              "      <td>0</td>\n",
              "      <td>0</td>\n",
              "      <td>0</td>\n",
              "      <td>1</td>\n",
              "    </tr>\n",
              "  </tbody>\n",
              "</table>\n",
              "</div>"
            ],
            "text/plain": [
              "            Image Index Finding Labels  ...  Fibrosis  Nothing\n",
              "25481  00002704_010.png     No Finding  ...         0        1\n",
              "\n",
              "[1 rows x 28 columns]"
            ]
          },
          "execution_count": 74,
          "metadata": {},
          "output_type": "execute_result"
        }
      ],
      "source": [
        "from sklearn.model_selection import train_test_split\n",
        "raw_train_df, test_valid_df = train_test_split(more_balanced_df, \n",
        "                                   test_size = 0.30, \n",
        "                                   random_state = 2018,\n",
        "                                   stratify = more_balanced_df[['Effusion']])\n",
        "valid_df, test_df = train_test_split(test_valid_df, \n",
        "                                   test_size = 0.40, \n",
        "                                   random_state = 2018,\n",
        "                                   stratify = test_valid_df[['Effusion']])\n",
        "print('train', raw_train_df.shape[0], 'validation', valid_df.shape[0], 'test', test_df.shape[0])\n",
        "print('train', raw_train_df['Effusion'].value_counts())\n",
        "print('test', test_df['Effusion'].value_counts())\n",
        "raw_train_df.sample(1)"
      ]
    },
    {
      "cell_type": "code",
      "execution_count": null,
      "metadata": {
        "colab": {
          "base_uri": "https://localhost:8080/"
        },
        "id": "6nenMQZ32Wuf",
        "outputId": "4cdafb40-95e6-4728-ab6f-c784794946dd"
      },
      "outputs": [
        {
          "name": "stdout",
          "output_type": "stream",
          "text": [
            "New Data Size: 120000 Old Size: 27964\n"
          ]
        }
      ],
      "source": [
        "train_df = raw_train_df.groupby(['Effusion']).apply(lambda x: x.sample(60000, replace = True)\n",
        "                                                      ).reset_index(drop = True)\n",
        "print('New Data Size:', train_df.shape[0], 'Old Size:', raw_train_df.shape[0])"
      ]
    },
    {
      "cell_type": "code",
      "execution_count": null,
      "metadata": {
        "id": "MrVJoNFa2Wuf"
      },
      "outputs": [],
      "source": [
        "from keras.preprocessing.image import ImageDataGenerator\n",
        "idg = ImageDataGenerator(zoom_range=0.2,\n",
        "                           fill_mode='nearest',\n",
        "                           rotation_range=25,  \n",
        "                           width_shift_range=0.25,  \n",
        "                           height_shift_range=0.25,  \n",
        "                           vertical_flip=False, \n",
        "                           horizontal_flip=True,\n",
        "                           shear_range = 0.2,\n",
        "                           samplewise_center=False, \n",
        "                           samplewise_std_normalization=False)\n"
      ]
    },
    {
      "cell_type": "code",
      "execution_count": null,
      "metadata": {
        "id": "ZKmEgqDZ2Wug"
      },
      "outputs": [],
      "source": [
        "SEED= 10\n",
        "IMG_SIZE = (128, 128) \n",
        "####\n",
        "def flow_from_dataframe(imgDatGen, df, batch_size, seed, img_size):\n",
        "    #gc.collect()\n",
        "    gen_img = imgDatGen.flow_from_dataframe(dataframe=more_balanced_df,\n",
        "        x_col='path', y_col='Effusion',\n",
        "        batch_size=batch_size, seed=seed, shuffle=True, class_mode='other',\n",
        "        target_size=img_size, color_mode='grayscale',\n",
        "        drop_duplicates=False)\n",
        "\n",
        "    \n",
        "        \n",
        "    while True:\n",
        "        X1i = gen_img.next()\n",
        "        #X2i = gen_img.next()\n",
        "        #gc.collect()\n",
        "        yield [X1i[0], X1i[1]]"
      ]
    },
    {
      "cell_type": "code",
      "execution_count": null,
      "metadata": {
        "id": "TaRWt68c2Wug"
      },
      "outputs": [],
      "source": [
        "flow = flow_from_dataframe(idg, more_balanced_df, 7151, SEED, IMG_SIZE)"
      ]
    },
    {
      "cell_type": "code",
      "execution_count": null,
      "metadata": {
        "colab": {
          "base_uri": "https://localhost:8080/"
        },
        "id": "WTkF3nPD2Wug",
        "outputId": "b2aa2c5a-b2ce-47e9-9ff9-290befcbbd9a"
      },
      "outputs": [
        {
          "name": "stderr",
          "output_type": "stream",
          "text": [
            "--- Logging error ---\n",
            "Traceback (most recent call last):\n",
            "  File \"/usr/lib/python3.7/logging/__init__.py\", line 1025, in emit\n",
            "    msg = self.format(record)\n",
            "  File \"/usr/lib/python3.7/logging/__init__.py\", line 869, in format\n",
            "    return fmt.format(record)\n",
            "  File \"/usr/lib/python3.7/logging/__init__.py\", line 608, in format\n",
            "    record.message = record.getMessage()\n",
            "  File \"/usr/lib/python3.7/logging/__init__.py\", line 369, in getMessage\n",
            "    msg = msg % self.args\n",
            "TypeError: not all arguments converted during string formatting\n",
            "Call stack:\n",
            "  File \"/usr/lib/python3.7/runpy.py\", line 193, in _run_module_as_main\n",
            "    \"__main__\", mod_spec)\n",
            "  File \"/usr/lib/python3.7/runpy.py\", line 85, in _run_code\n",
            "    exec(code, run_globals)\n",
            "  File \"/usr/local/lib/python3.7/dist-packages/ipykernel_launcher.py\", line 16, in <module>\n",
            "    app.launch_new_instance()\n",
            "  File \"/usr/local/lib/python3.7/dist-packages/traitlets/config/application.py\", line 846, in launch_instance\n",
            "    app.start()\n",
            "  File \"/usr/local/lib/python3.7/dist-packages/ipykernel/kernelapp.py\", line 499, in start\n",
            "    self.io_loop.start()\n",
            "  File \"/usr/local/lib/python3.7/dist-packages/tornado/platform/asyncio.py\", line 132, in start\n",
            "    self.asyncio_loop.run_forever()\n",
            "  File \"/usr/lib/python3.7/asyncio/base_events.py\", line 541, in run_forever\n",
            "    self._run_once()\n",
            "  File \"/usr/lib/python3.7/asyncio/base_events.py\", line 1786, in _run_once\n",
            "    handle._run()\n",
            "  File \"/usr/lib/python3.7/asyncio/events.py\", line 88, in _run\n",
            "    self._context.run(self._callback, *self._args)\n",
            "  File \"/usr/local/lib/python3.7/dist-packages/tornado/platform/asyncio.py\", line 122, in _handle_events\n",
            "    handler_func(fileobj, events)\n",
            "  File \"/usr/local/lib/python3.7/dist-packages/tornado/stack_context.py\", line 300, in null_wrapper\n",
            "    return fn(*args, **kwargs)\n",
            "  File \"/usr/local/lib/python3.7/dist-packages/zmq/eventloop/zmqstream.py\", line 452, in _handle_events\n",
            "    self._handle_recv()\n",
            "  File \"/usr/local/lib/python3.7/dist-packages/zmq/eventloop/zmqstream.py\", line 481, in _handle_recv\n",
            "    self._run_callback(callback, msg)\n",
            "  File \"/usr/local/lib/python3.7/dist-packages/zmq/eventloop/zmqstream.py\", line 431, in _run_callback\n",
            "    callback(*args, **kwargs)\n",
            "  File \"/usr/local/lib/python3.7/dist-packages/tornado/stack_context.py\", line 300, in null_wrapper\n",
            "    return fn(*args, **kwargs)\n",
            "  File \"/usr/local/lib/python3.7/dist-packages/ipykernel/kernelbase.py\", line 283, in dispatcher\n",
            "    return self.dispatch_shell(stream, msg)\n",
            "  File \"/usr/local/lib/python3.7/dist-packages/ipykernel/kernelbase.py\", line 233, in dispatch_shell\n",
            "    handler(stream, idents, msg)\n",
            "  File \"/usr/local/lib/python3.7/dist-packages/ipykernel/kernelbase.py\", line 399, in execute_request\n",
            "    user_expressions, allow_stdin)\n",
            "  File \"/usr/local/lib/python3.7/dist-packages/ipykernel/ipkernel.py\", line 208, in do_execute\n",
            "    res = shell.run_cell(code, store_history=store_history, silent=silent)\n",
            "  File \"/usr/local/lib/python3.7/dist-packages/ipykernel/zmqshell.py\", line 537, in run_cell\n",
            "    return super(ZMQInteractiveShell, self).run_cell(*args, **kwargs)\n",
            "  File \"/usr/local/lib/python3.7/dist-packages/IPython/core/interactiveshell.py\", line 2718, in run_cell\n",
            "    interactivity=interactivity, compiler=compiler, result=result)\n",
            "  File \"/usr/local/lib/python3.7/dist-packages/IPython/core/interactiveshell.py\", line 2822, in run_ast_nodes\n",
            "    if self.run_code(code, result):\n",
            "  File \"/usr/local/lib/python3.7/dist-packages/IPython/core/interactiveshell.py\", line 2882, in run_code\n",
            "    exec(code_obj, self.user_global_ns, self.user_ns)\n",
            "  File \"<ipython-input-79-710bbcbe35c6>\", line 1, in <module>\n",
            "    t,y= next(flow)\n",
            "  File \"<ipython-input-77-4548b04ae416>\", line 10, in flow_from_dataframe\n",
            "    drop_duplicates=False)\n",
            "  File \"/usr/local/lib/python3.7/dist-packages/keras/preprocessing/image.py\", line 1109, in flow_from_dataframe\n",
            "    '`class_mode` \"raw\".', DeprecationWarning)\n",
            "  File \"/usr/local/lib/python3.7/dist-packages/tensorflow/python/platform/tf_logging.py\", line 178, in warning\n",
            "    get_logger().warning(msg, *args, **kwargs)\n",
            "Message: '`class_mode` \"other\" is deprecated, please use `class_mode` \"raw\".'\n",
            "Arguments: (<class 'DeprecationWarning'>,)\n",
            "--- Logging error ---\n",
            "Traceback (most recent call last):\n",
            "  File \"/usr/lib/python3.7/logging/__init__.py\", line 1025, in emit\n",
            "    msg = self.format(record)\n",
            "  File \"/usr/lib/python3.7/logging/__init__.py\", line 869, in format\n",
            "    return fmt.format(record)\n",
            "  File \"/usr/lib/python3.7/logging/__init__.py\", line 608, in format\n",
            "    record.message = record.getMessage()\n",
            "  File \"/usr/lib/python3.7/logging/__init__.py\", line 369, in getMessage\n",
            "    msg = msg % self.args\n",
            "TypeError: not all arguments converted during string formatting\n",
            "Call stack:\n",
            "  File \"/usr/lib/python3.7/runpy.py\", line 193, in _run_module_as_main\n",
            "    \"__main__\", mod_spec)\n",
            "  File \"/usr/lib/python3.7/runpy.py\", line 85, in _run_code\n",
            "    exec(code, run_globals)\n",
            "  File \"/usr/local/lib/python3.7/dist-packages/ipykernel_launcher.py\", line 16, in <module>\n",
            "    app.launch_new_instance()\n",
            "  File \"/usr/local/lib/python3.7/dist-packages/traitlets/config/application.py\", line 846, in launch_instance\n",
            "    app.start()\n",
            "  File \"/usr/local/lib/python3.7/dist-packages/ipykernel/kernelapp.py\", line 499, in start\n",
            "    self.io_loop.start()\n",
            "  File \"/usr/local/lib/python3.7/dist-packages/tornado/platform/asyncio.py\", line 132, in start\n",
            "    self.asyncio_loop.run_forever()\n",
            "  File \"/usr/lib/python3.7/asyncio/base_events.py\", line 541, in run_forever\n",
            "    self._run_once()\n",
            "  File \"/usr/lib/python3.7/asyncio/base_events.py\", line 1786, in _run_once\n",
            "    handle._run()\n",
            "  File \"/usr/lib/python3.7/asyncio/events.py\", line 88, in _run\n",
            "    self._context.run(self._callback, *self._args)\n",
            "  File \"/usr/local/lib/python3.7/dist-packages/tornado/platform/asyncio.py\", line 122, in _handle_events\n",
            "    handler_func(fileobj, events)\n",
            "  File \"/usr/local/lib/python3.7/dist-packages/tornado/stack_context.py\", line 300, in null_wrapper\n",
            "    return fn(*args, **kwargs)\n",
            "  File \"/usr/local/lib/python3.7/dist-packages/zmq/eventloop/zmqstream.py\", line 452, in _handle_events\n",
            "    self._handle_recv()\n",
            "  File \"/usr/local/lib/python3.7/dist-packages/zmq/eventloop/zmqstream.py\", line 481, in _handle_recv\n",
            "    self._run_callback(callback, msg)\n",
            "  File \"/usr/local/lib/python3.7/dist-packages/zmq/eventloop/zmqstream.py\", line 431, in _run_callback\n",
            "    callback(*args, **kwargs)\n",
            "  File \"/usr/local/lib/python3.7/dist-packages/tornado/stack_context.py\", line 300, in null_wrapper\n",
            "    return fn(*args, **kwargs)\n",
            "  File \"/usr/local/lib/python3.7/dist-packages/ipykernel/kernelbase.py\", line 283, in dispatcher\n",
            "    return self.dispatch_shell(stream, msg)\n",
            "  File \"/usr/local/lib/python3.7/dist-packages/ipykernel/kernelbase.py\", line 233, in dispatch_shell\n",
            "    handler(stream, idents, msg)\n",
            "  File \"/usr/local/lib/python3.7/dist-packages/ipykernel/kernelbase.py\", line 399, in execute_request\n",
            "    user_expressions, allow_stdin)\n",
            "  File \"/usr/local/lib/python3.7/dist-packages/ipykernel/ipkernel.py\", line 208, in do_execute\n",
            "    res = shell.run_cell(code, store_history=store_history, silent=silent)\n",
            "  File \"/usr/local/lib/python3.7/dist-packages/ipykernel/zmqshell.py\", line 537, in run_cell\n",
            "    return super(ZMQInteractiveShell, self).run_cell(*args, **kwargs)\n",
            "  File \"/usr/local/lib/python3.7/dist-packages/IPython/core/interactiveshell.py\", line 2718, in run_cell\n",
            "    interactivity=interactivity, compiler=compiler, result=result)\n",
            "  File \"/usr/local/lib/python3.7/dist-packages/IPython/core/interactiveshell.py\", line 2822, in run_ast_nodes\n",
            "    if self.run_code(code, result):\n",
            "  File \"/usr/local/lib/python3.7/dist-packages/IPython/core/interactiveshell.py\", line 2882, in run_code\n",
            "    exec(code_obj, self.user_global_ns, self.user_ns)\n",
            "  File \"<ipython-input-79-710bbcbe35c6>\", line 1, in <module>\n",
            "    t,y= next(flow)\n",
            "  File \"<ipython-input-77-4548b04ae416>\", line 10, in flow_from_dataframe\n",
            "    drop_duplicates=False)\n",
            "  File \"/usr/local/lib/python3.7/dist-packages/keras/preprocessing/image.py\", line 1115, in flow_from_dataframe\n",
            "    DeprecationWarning)\n",
            "  File \"/usr/local/lib/python3.7/dist-packages/tensorflow/python/platform/tf_logging.py\", line 178, in warning\n",
            "    get_logger().warning(msg, *args, **kwargs)\n",
            "Message: 'drop_duplicates is deprecated, you can drop duplicates by using the pandas.DataFrame.drop_duplicates method.'\n",
            "Arguments: (<class 'DeprecationWarning'>,)\n"
          ]
        },
        {
          "name": "stdout",
          "output_type": "stream",
          "text": [
            "Found 39949 validated image filenames.\n"
          ]
        }
      ],
      "source": [
        "t,y= next(flow)"
      ]
    },
    {
      "cell_type": "code",
      "execution_count": null,
      "metadata": {
        "id": "Mq22B_ww2Wug"
      },
      "outputs": [],
      "source": [
        "from sklearn.model_selection import train_test_split\n",
        "X_train, X_test, y_train, y_test = train_test_split(t,y, \n",
        "                                   test_size = 0.30, \n",
        "                                   random_state = 2018)\n"
      ]
    },
    {
      "cell_type": "code",
      "execution_count": null,
      "metadata": {
        "colab": {
          "base_uri": "https://localhost:8080/"
        },
        "id": "9d2i8_Er2Wug",
        "outputId": "39e14ffe-459e-45ef-9f41-665bbe88e19d"
      },
      "outputs": [
        {
          "name": "stdout",
          "output_type": "stream",
          "text": [
            "Model: \"sequential_4\"\n",
            "_________________________________________________________________\n",
            " Layer (type)                Output Shape              Param #   \n",
            "=================================================================\n",
            " mobilenet_1.00_128 (Functio  (None, 4, 4, 1024)       3228288   \n",
            " nal)                                                            \n",
            "                                                                 \n",
            " global_average_pooling2d_4   (None, 1024)             0         \n",
            " (GlobalAveragePooling2D)                                        \n",
            "                                                                 \n",
            " dropout_8 (Dropout)         (None, 1024)              0         \n",
            "                                                                 \n",
            " dense_8 (Dense)             (None, 512)               524800    \n",
            "                                                                 \n",
            " dropout_9 (Dropout)         (None, 512)               0         \n",
            "                                                                 \n",
            " dense_9 (Dense)             (None, 1)                 513       \n",
            "                                                                 \n",
            "=================================================================\n",
            "Total params: 3,753,601\n",
            "Trainable params: 3,731,713\n",
            "Non-trainable params: 21,888\n",
            "_________________________________________________________________\n"
          ]
        }
      ],
      "source": [
        "from keras.applications.mobilenet import MobileNet\n",
        "from keras.layers import GlobalAveragePooling2D, Dense, Dropout, Flatten\n",
        "from keras.models import Sequential\n",
        "mobilenet_model = MobileNet(input_shape =  X_train.shape[1:], \n",
        "                                 include_top = False, weights = None)\n",
        "mobilenet_GAP_model = Sequential()\n",
        "mobilenet_GAP_model.add(mobilenet_model)\n",
        "mobilenet_GAP_model.add(GlobalAveragePooling2D())\n",
        "mobilenet_GAP_model.add(Dropout(0.5))\n",
        "mobilenet_GAP_model.add(Dense(512))\n",
        "mobilenet_GAP_model.add(Dropout(0.5))\n",
        "mobilenet_GAP_model.add(Dense(1, activation = 'sigmoid'))\n",
        "mobilenet_GAP_model.compile(optimizer = 'adam', loss = 'binary_crossentropy',\n",
        "                           metrics = ['binary_accuracy', 'mae'])\n",
        "mobilenet_GAP_model.summary()"
      ]
    },
    {
      "cell_type": "code",
      "execution_count": null,
      "metadata": {
        "id": "X906KF212Wuh"
      },
      "outputs": [],
      "source": [
        "from keras.callbacks import ModelCheckpoint, LearningRateScheduler, EarlyStopping, ReduceLROnPlateau\n",
        "weight_path=\"{}_weights.best.hdf5\".format('xray_class')\n",
        "\n",
        "checkpoint = ModelCheckpoint(weight_path, monitor='val_loss', verbose=1, \n",
        "                             save_best_only=True, mode='min', save_weights_only = True)\n",
        "\n",
        "early = EarlyStopping(monitor=\"val_loss\", \n",
        "                      mode=\"min\", \n",
        "                      patience=3)\n",
        "callbacks_list = [checkpoint, early]"
      ]
    },
    {
      "cell_type": "code",
      "execution_count": null,
      "metadata": {
        "colab": {
          "base_uri": "https://localhost:8080/"
        },
        "id": "fqNkXw8Q2Wuh",
        "outputId": "0aec90b7-dc51-46ad-83e4-69542625dabd"
      },
      "outputs": [
        {
          "name": "stdout",
          "output_type": "stream",
          "text": [
            "Epoch 1/10\n",
            "10/10 [==============================] - ETA: 0s - loss: 1.7476 - binary_accuracy: 0.5914 - mae: 0.4182 \n",
            "Epoch 00001: val_loss improved from inf to 0.69250, saving model to xray_class_weights.best.hdf5\n",
            "10/10 [==============================] - 384s 38s/step - loss: 1.7476 - binary_accuracy: 0.5914 - mae: 0.4182 - val_loss: 0.6925 - val_binary_accuracy: 0.6771 - val_mae: 0.4997\n",
            "Epoch 2/10\n",
            "10/10 [==============================] - ETA: 0s - loss: 0.9434 - binary_accuracy: 0.5876 - mae: 0.4347 \n",
            "Epoch 00002: val_loss improved from 0.69250 to 0.69087, saving model to xray_class_weights.best.hdf5\n",
            "10/10 [==============================] - 363s 37s/step - loss: 0.9434 - binary_accuracy: 0.5876 - mae: 0.4347 - val_loss: 0.6909 - val_binary_accuracy: 0.6771 - val_mae: 0.4988\n",
            "Epoch 3/10\n",
            "10/10 [==============================] - ETA: 0s - loss: 0.8035 - binary_accuracy: 0.6040 - mae: 0.4371 \n",
            "Epoch 00003: val_loss improved from 0.69087 to 0.67639, saving model to xray_class_weights.best.hdf5\n",
            "10/10 [==============================] - 366s 37s/step - loss: 0.8035 - binary_accuracy: 0.6040 - mae: 0.4371 - val_loss: 0.6764 - val_binary_accuracy: 0.6771 - val_mae: 0.4910\n",
            "Epoch 4/10\n",
            "10/10 [==============================] - ETA: 0s - loss: 0.7033 - binary_accuracy: 0.6330 - mae: 0.4325 \n",
            "Epoch 00004: val_loss improved from 0.67639 to 0.66397, saving model to xray_class_weights.best.hdf5\n",
            "10/10 [==============================] - 361s 36s/step - loss: 0.7033 - binary_accuracy: 0.6330 - mae: 0.4325 - val_loss: 0.6640 - val_binary_accuracy: 0.6771 - val_mae: 0.4832\n",
            "Epoch 5/10\n",
            "10/10 [==============================] - ETA: 0s - loss: 0.6454 - binary_accuracy: 0.6579 - mae: 0.4145 \n",
            "Epoch 00005: val_loss improved from 0.66397 to 0.65498, saving model to xray_class_weights.best.hdf5\n",
            "10/10 [==============================] - 404s 41s/step - loss: 0.6454 - binary_accuracy: 0.6579 - mae: 0.4145 - val_loss: 0.6550 - val_binary_accuracy: 0.6771 - val_mae: 0.4767\n",
            "Epoch 6/10\n",
            "10/10 [==============================] - ETA: 0s - loss: 0.5851 - binary_accuracy: 0.6911 - mae: 0.3791 \n",
            "Epoch 00006: val_loss did not improve from 0.65498\n",
            "10/10 [==============================] - 396s 40s/step - loss: 0.5851 - binary_accuracy: 0.6911 - mae: 0.3791 - val_loss: 0.6673 - val_binary_accuracy: 0.6771 - val_mae: 0.4854\n",
            "Epoch 7/10\n",
            "10/10 [==============================] - ETA: 0s - loss: 0.4848 - binary_accuracy: 0.7674 - mae: 0.3101 \n",
            "Epoch 00007: val_loss did not improve from 0.65498\n",
            "10/10 [==============================] - 398s 40s/step - loss: 0.4848 - binary_accuracy: 0.7674 - mae: 0.3101 - val_loss: 0.6854 - val_binary_accuracy: 0.6771 - val_mae: 0.4960\n",
            "Epoch 8/10\n",
            "10/10 [==============================] - ETA: 0s - loss: 0.3720 - binary_accuracy: 0.8356 - mae: 0.2390 \n",
            "Epoch 00008: val_loss did not improve from 0.65498\n",
            "10/10 [==============================] - 376s 38s/step - loss: 0.3720 - binary_accuracy: 0.8356 - mae: 0.2390 - val_loss: 0.6678 - val_binary_accuracy: 0.6771 - val_mae: 0.4857\n"
          ]
        }
      ],
      "source": [
        "history_mobilenet_GAP = mobilenet_GAP_model.fit(X_train,y_train,\n",
        "                                  steps_per_epoch=10,\n",
        "                                  validation_data = (X_test, y_test), \n",
        "                                  epochs = 10, \n",
        "                                  callbacks = callbacks_list)"
      ]
    },
    {
      "cell_type": "code",
      "execution_count": null,
      "metadata": {
        "colab": {
          "base_uri": "https://localhost:8080/"
        },
        "id": "eTy2V6nj2Wuh",
        "outputId": "a88819e6-861f-4421-9733-f53ae645445b"
      },
      "outputs": [
        {
          "name": "stdout",
          "output_type": "stream",
          "text": [
            "68/68 [==============================] - 25s 353ms/step\n"
          ]
        }
      ],
      "source": [
        "pred_Y = mobilenet_GAP_model.predict(X_test, \n",
        "                          batch_size = 32, \n",
        "                          verbose = True)"
      ]
    },
    {
      "cell_type": "code",
      "execution_count": null,
      "metadata": {
        "colab": {
          "base_uri": "https://localhost:8080/"
        },
        "id": "e8WoZajB2Wuh",
        "outputId": "c9c8e564-84a3-454f-8d9d-32c691459bbf"
      },
      "outputs": [
        {
          "data": {
            "text/plain": [
              "array([[0.45961887],\n",
              "       [0.45961887],\n",
              "       [0.45961887],\n",
              "       ...,\n",
              "       [0.45961887],\n",
              "       [0.4596189 ],\n",
              "       [0.45961887]], dtype=float32)"
            ]
          },
          "execution_count": 85,
          "metadata": {},
          "output_type": "execute_result"
        }
      ],
      "source": [
        "pred_Y"
      ]
    },
    {
      "cell_type": "code",
      "execution_count": null,
      "metadata": {
        "colab": {
          "base_uri": "https://localhost:8080/"
        },
        "id": "o0hAuvYV2Wui",
        "outputId": "6707809c-085f-4f77-ac65-047a410ee567"
      },
      "outputs": [
        {
          "data": {
            "text/plain": [
              "array([0.45961887], dtype=float32)"
            ]
          },
          "execution_count": 86,
          "metadata": {},
          "output_type": "execute_result"
        }
      ],
      "source": [
        "min(pred_Y)"
      ]
    },
    {
      "cell_type": "code",
      "execution_count": null,
      "metadata": {
        "colab": {
          "base_uri": "https://localhost:8080/"
        },
        "id": "BX3tBf0d2Wui",
        "outputId": "dbd40711-6562-4c2a-b64b-a46bef0231a6"
      },
      "outputs": [
        {
          "name": "stdout",
          "output_type": "stream",
          "text": [
            "test accuracy =  0.67707359790802\n"
          ]
        }
      ],
      "source": [
        "print('test accuracy = ',mobilenet_GAP_model.evaluate(X_test,y_test, verbose=0)[1])"
      ]
    },
    {
      "cell_type": "code",
      "execution_count": null,
      "metadata": {
        "colab": {
          "base_uri": "https://localhost:8080/"
        },
        "id": "8_83WXj52Wui",
        "outputId": "e85b8809-9cbf-4e80-d775-fc0c723a61dc"
      },
      "outputs": [
        {
          "name": "stdout",
          "output_type": "stream",
          "text": [
            "roc score =  0.5005323116128346\n"
          ]
        }
      ],
      "source": [
        "from sklearn.metrics import roc_auc_score\n",
        "print('roc score = ',roc_auc_score(y_test.astype(int), pred_Y))"
      ]
    },
    {
      "cell_type": "code",
      "execution_count": null,
      "metadata": {
        "colab": {
          "base_uri": "https://localhost:8080/",
          "height": 430
        },
        "id": "3eDo1H752Wui",
        "outputId": "60e82c60-15e2-4b04-9add-e9c74dbb46fc"
      },
      "outputs": [
        {
          "name": "stdout",
          "output_type": "stream",
          "text": [
            "              precision    recall  f1-score   support\n",
            "\n",
            " No Effusion       0.68      0.98      0.80      1453\n",
            "    Effusion       0.33      0.02      0.04       693\n",
            "\n",
            "    accuracy                           0.67      2146\n",
            "   macro avg       0.51      0.50      0.42      2146\n",
            "weighted avg       0.57      0.67      0.56      2146\n",
            "\n"
          ]
        },
        {
          "data": {
            "image/png": "[encoded data removed]",
            "text/plain": [
              "<Figure size 288x288 with 1 Axes>"
            ]
          },
          "metadata": {},
          "output_type": "display_data"
        }
      ],
      "source": [
        "from sklearn.metrics import classification_report, confusion_matrix\n",
        "plt.matshow(confusion_matrix(y_test, pred_Y>0.45961887))\n",
        "print(classification_report(y_test, pred_Y>0.45961887, target_names = ['No Effusion', ' Effusion']))"
      ]
    },
    {
      "cell_type": "markdown",
      "metadata": {
        "id": "Jf4j4YaA2XrT"
      },
      "source": [
        "## **Emphysema**"
      ]
    },
    {
      "cell_type": "code",
      "execution_count": null,
      "metadata": {
        "colab": {
          "base_uri": "https://localhost:8080/",
          "height": 266
        },
        "id": "1ya9Isk92YLg",
        "outputId": "3b35601e-ec8d-40f9-93a1-55a6b6d2d245"
      },
      "outputs": [
        {
          "output_type": "stream",
          "name": "stdout",
          "text": [
            "0    5032\n",
            "1    2516\n",
            "Name: Emphysema, dtype: int64\n"
          ]
        },
        {
          "output_type": "execute_result",
          "data": {
            "text/plain": [
              "<seaborn.axisgrid.PairGrid at 0x7f7b749eb5d0>"
            ]
          },
          "metadata": {},
          "execution_count": 6
        },
        {
          "output_type": "display_data",
          "data": {
            "image/png": "[encoded data removed]",
            "text/plain": [
              "<Figure size 249.5x180 with 2 Axes>"
            ]
          },
          "metadata": {}
        }
      ],
      "source": [
        "positive_cases = np.sum(all_xray_df['Emphysema']==True)//2\n",
        "oversample_factor = 4 # maximum number of cases in negative group so it isn't super rare\n",
        "more_balanced_df = all_xray_df.groupby(['Emphysema']).apply(lambda x: x.sample(min(oversample_factor*positive_cases, x.shape[0]), \n",
        "                                                                                   replace = False)\n",
        "                                                      ).reset_index(drop = True)\n",
        "\n",
        "print(more_balanced_df['Emphysema'].value_counts())\n",
        "sns.pairplot(more_balanced_df[['Patient Age', 'Emphysema']], hue='Emphysema')"
      ]
    },
    {
      "cell_type": "code",
      "execution_count": null,
      "metadata": {
        "colab": {
          "base_uri": "https://localhost:8080/",
          "height": 301
        },
        "id": "Bf_ZVvXT2YLh",
        "outputId": "a54f984f-7922-4d14-8267-f463bf04981d"
      },
      "outputs": [
        {
          "output_type": "stream",
          "name": "stdout",
          "text": [
            "train 5283 validation 1359 test 906\n",
            "train 0    3522\n",
            "1    1761\n",
            "Name: Emphysema, dtype: int64\n",
            "test 0    604\n",
            "1    302\n",
            "Name: Emphysema, dtype: int64\n"
          ]
        },
        {
          "output_type": "execute_result",
          "data": {
            "text/html": [
              "\n",
              "  <div id=\"df-f3cf3c32-60bc-4f60-955f-4cfb983c0f94\">\n",
              "    <div class=\"colab-df-container\">\n",
              "      <div>\n",
              "<style scoped>\n",
              "    .dataframe tbody tr th:only-of-type {\n",
              "        vertical-align: middle;\n",
              "    }\n",
              "\n",
              "    .dataframe tbody tr th {\n",
              "        vertical-align: top;\n",
              "    }\n",
              "\n",
              "    .dataframe thead th {\n",
              "        text-align: right;\n",
              "    }\n",
              "</style>\n",
              "<table border=\"1\" class=\"dataframe\">\n",
              "  <thead>\n",
              "    <tr style=\"text-align: right;\">\n",
              "      <th></th>\n",
              "      <th>Image Index</th>\n",
              "      <th>Finding Labels</th>\n",
              "      <th>Follow-up #</th>\n",
              "      <th>Patient ID</th>\n",
              "      <th>Patient Age</th>\n",
              "      <th>Patient Gender</th>\n",
              "      <th>View Position</th>\n",
              "      <th>OriginalImage[Width</th>\n",
              "      <th>Height]</th>\n",
              "      <th>OriginalImagePixelSpacing[x</th>\n",
              "      <th>y]</th>\n",
              "      <th>path</th>\n",
              "      <th>Pneumonia</th>\n",
              "      <th>Patient Male</th>\n",
              "      <th>Cardiomegaly</th>\n",
              "      <th>Emphysema</th>\n",
              "      <th>Effusion</th>\n",
              "      <th>Hernia</th>\n",
              "      <th>Nodule</th>\n",
              "      <th>Pneumothorax</th>\n",
              "      <th>Atelectasis</th>\n",
              "      <th>Pleural_Thickening</th>\n",
              "      <th>Mass</th>\n",
              "      <th>Edema</th>\n",
              "      <th>Consolidation</th>\n",
              "      <th>Infiltration</th>\n",
              "      <th>Fibrosis</th>\n",
              "      <th>Nothing</th>\n",
              "    </tr>\n",
              "  </thead>\n",
              "  <tbody>\n",
              "    <tr>\n",
              "      <th>4623</th>\n",
              "      <td>00003723_000.png</td>\n",
              "      <td>No Finding</td>\n",
              "      <td>0</td>\n",
              "      <td>3723</td>\n",
              "      <td>59</td>\n",
              "      <td>F</td>\n",
              "      <td>PA</td>\n",
              "      <td>2048</td>\n",
              "      <td>2500</td>\n",
              "      <td>0.171</td>\n",
              "      <td>0.171</td>\n",
              "      <td>/content/drive/MyDrive/Images/image2/00003723_...</td>\n",
              "      <td>False</td>\n",
              "      <td>0.0</td>\n",
              "      <td>0</td>\n",
              "      <td>0</td>\n",
              "      <td>0</td>\n",
              "      <td>0</td>\n",
              "      <td>0</td>\n",
              "      <td>0</td>\n",
              "      <td>0</td>\n",
              "      <td>0</td>\n",
              "      <td>0</td>\n",
              "      <td>0</td>\n",
              "      <td>0</td>\n",
              "      <td>0</td>\n",
              "      <td>0</td>\n",
              "      <td>1</td>\n",
              "    </tr>\n",
              "  </tbody>\n",
              "</table>\n",
              "</div>\n",
              "      <button class=\"colab-df-convert\" onclick=\"convertToInteractive('df-f3cf3c32-60bc-4f60-955f-4cfb983c0f94')\"\n",
              "              title=\"Convert this dataframe to an interactive table.\"\n",
              "              style=\"display:none;\">\n",
              "        \n",
              "  <svg xmlns=\"http://www.w3.org/2000/svg\" height=\"24px\"viewBox=\"0 0 24 24\"\n",
              "       width=\"24px\">\n",
              "    <path d=\"M0 0h24v24H0V0z\" fill=\"none\"/>\n",
              "    <path d=\"M18.56 5.44l.94 2.06.94-2.06 2.06-.94-2.06-.94-.94-2.06-.94 2.06-2.06.94zm-11 1L8.5 8.5l.94-2.06 2.06-.94-2.06-.94L8.5 2.5l-.94 2.06-2.06.94zm10 10l.94 2.06.94-2.06 2.06-.94-2.06-.94-.94-2.06-.94 2.06-2.06.94z\"/><path d=\"M17.41 7.96l-1.37-1.37c-.4-.4-.92-.59-1.43-.59-.52 0-1.04.2-1.43.59L10.3 9.45l-7.72 7.72c-.78.78-.78 2.05 0 2.83L4 21.41c.39.39.9.59 1.41.59.51 0 1.02-.2 1.41-.59l7.78-7.78 2.81-2.81c.8-.78.8-2.07 0-2.86zM5.41 20L4 18.59l7.72-7.72 1.47 1.35L5.41 20z\"/>\n",
              "  </svg>\n",
              "      </button>\n",
              "      \n",
              "  <style>\n",
              "    .colab-df-container {\n",
              "      display:flex;\n",
              "      flex-wrap:wrap;\n",
              "      gap: 12px;\n",
              "    }\n",
              "\n",
              "    .colab-df-convert {\n",
              "      background-color: #E8F0FE;\n",
              "      border: none;\n",
              "      border-radius: 50%;\n",
              "      cursor: pointer;\n",
              "      display: none;\n",
              "      fill: #1967D2;\n",
              "      height: 32px;\n",
              "      padding: 0 0 0 0;\n",
              "      width: 32px;\n",
              "    }\n",
              "\n",
              "    .colab-df-convert:hover {\n",
              "      background-color: #E2EBFA;\n",
              "      box-shadow: 0px 1px 2px rgba(60, 64, 67, 0.3), 0px 1px 3px 1px rgba(60, 64, 67, 0.15);\n",
              "      fill: #174EA6;\n",
              "    }\n",
              "\n",
              "    [theme=dark] .colab-df-convert {\n",
              "      background-color: #3B4455;\n",
              "      fill: #D2E3FC;\n",
              "    }\n",
              "\n",
              "    [theme=dark] .colab-df-convert:hover {\n",
              "      background-color: #434B5C;\n",
              "      box-shadow: 0px 1px 3px 1px rgba(0, 0, 0, 0.15);\n",
              "      filter: drop-shadow(0px 1px 2px rgba(0, 0, 0, 0.3));\n",
              "      fill: #FFFFFF;\n",
              "    }\n",
              "  </style>\n",
              "\n",
              "      <script>\n",
              "        const buttonEl =\n",
              "          document.querySelector('#df-f3cf3c32-60bc-4f60-955f-4cfb983c0f94 button.colab-df-convert');\n",
              "        buttonEl.style.display =\n",
              "          google.colab.kernel.accessAllowed ? 'block' : 'none';\n",
              "\n",
              "        async function convertToInteractive(key) {\n",
              "          const element = document.querySelector('#df-f3cf3c32-60bc-4f60-955f-4cfb983c0f94');\n",
              "          const dataTable =\n",
              "            await google.colab.kernel.invokeFunction('convertToInteractive',\n",
              "                                                     [key], {});\n",
              "          if (!dataTable) return;\n",
              "\n",
              "          const docLinkHtml = 'Like what you see? Visit the ' +\n",
              "            '<a target=\"_blank\" href=https://colab.research.google.com/notebooks/data_table.ipynb>data table notebook</a>'\n",
              "            + ' to learn more about interactive tables.';\n",
              "          element.innerHTML = '';\n",
              "          dataTable['output_type'] = 'display_data';\n",
              "          await google.colab.output.renderOutput(dataTable, element);\n",
              "          const docLink = document.createElement('div');\n",
              "          docLink.innerHTML = docLinkHtml;\n",
              "          element.appendChild(docLink);\n",
              "        }\n",
              "      </script>\n",
              "    </div>\n",
              "  </div>\n",
              "  "
            ],
            "text/plain": [
              "           Image Index Finding Labels  ...  Fibrosis  Nothing\n",
              "4623  00003723_000.png     No Finding  ...         0        1\n",
              "\n",
              "[1 rows x 28 columns]"
            ]
          },
          "metadata": {},
          "execution_count": 7
        }
      ],
      "source": [
        "from sklearn.model_selection import train_test_split\n",
        "raw_train_df, test_valid_df = train_test_split(more_balanced_df, \n",
        "                                   test_size = 0.30, \n",
        "                                   random_state = 2018,\n",
        "                                   stratify = more_balanced_df[['Emphysema']])\n",
        "valid_df, test_df = train_test_split(test_valid_df, \n",
        "                                   test_size = 0.40, \n",
        "                                   random_state = 2018,\n",
        "                                   stratify = test_valid_df[['Emphysema']])\n",
        "print('train', raw_train_df.shape[0], 'validation', valid_df.shape[0], 'test', test_df.shape[0])\n",
        "print('train', raw_train_df['Emphysema'].value_counts())\n",
        "print('test', test_df['Emphysema'].value_counts())\n",
        "raw_train_df.sample(1)"
      ]
    },
    {
      "cell_type": "code",
      "execution_count": null,
      "metadata": {
        "colab": {
          "base_uri": "https://localhost:8080/"
        },
        "id": "r_BaM0S-2YLh",
        "outputId": "c4b2a5f3-117d-4adf-a3fa-66bfd525d08b"
      },
      "outputs": [
        {
          "output_type": "stream",
          "name": "stdout",
          "text": [
            "New Data Size: 120000 Old Size: 5283\n"
          ]
        }
      ],
      "source": [
        "train_df = raw_train_df.groupby(['Emphysema']).apply(lambda x: x.sample(60000, replace = True)\n",
        "                                                      ).reset_index(drop = True)\n",
        "print('New Data Size:', train_df.shape[0], 'Old Size:', raw_train_df.shape[0])"
      ]
    },
    {
      "cell_type": "code",
      "execution_count": null,
      "metadata": {
        "id": "MuLqYYGH2YLh"
      },
      "outputs": [],
      "source": [
        "from keras.preprocessing.image import ImageDataGenerator\n",
        "idg = ImageDataGenerator(zoom_range=0.2,\n",
        "                           fill_mode='nearest',\n",
        "                           rotation_range=25,  \n",
        "                           width_shift_range=0.25,  \n",
        "                           height_shift_range=0.25,  \n",
        "                           vertical_flip=False, \n",
        "                           horizontal_flip=True,\n",
        "                           shear_range = 0.2,\n",
        "                           samplewise_center=False, \n",
        "                           samplewise_std_normalization=False)\n"
      ]
    },
    {
      "cell_type": "code",
      "execution_count": null,
      "metadata": {
        "id": "GhZzyT2D2YLi"
      },
      "outputs": [],
      "source": [
        "SEED= 10\n",
        "IMG_SIZE = (128, 128) \n",
        "####\n",
        "def flow_from_dataframe(imgDatGen, df, batch_size, seed, img_size):\n",
        "    #gc.collect()\n",
        "    gen_img = imgDatGen.flow_from_dataframe(dataframe=more_balanced_df,\n",
        "        x_col='path', y_col='Emphysema',\n",
        "        batch_size=batch_size, seed=seed, shuffle=True, class_mode='other',\n",
        "        target_size=img_size, color_mode='grayscale',\n",
        "        drop_duplicates=False)\n",
        "\n",
        "    \n",
        "        \n",
        "    while True:\n",
        "        X1i = gen_img.next()\n",
        "        #X2i = gen_img.next()\n",
        "        #gc.collect()\n",
        "        yield [X1i[0], X1i[1]]"
      ]
    },
    {
      "cell_type": "code",
      "execution_count": null,
      "metadata": {
        "id": "kaUWri082YLi"
      },
      "outputs": [],
      "source": [
        "flow = flow_from_dataframe(idg, more_balanced_df, 7151, SEED, IMG_SIZE)"
      ]
    },
    {
      "cell_type": "code",
      "execution_count": null,
      "metadata": {
        "colab": {
          "base_uri": "https://localhost:8080/"
        },
        "id": "5pvugDJG2YLi",
        "outputId": "65e360d4-fd03-477f-bb79-5db1c1b5a3c3"
      },
      "outputs": [
        {
          "metadata": {
            "tags": null
          },
          "name": "stderr",
          "output_type": "stream",
          "text": [
            "--- Logging error ---\n",
            "Traceback (most recent call last):\n",
            "  File \"/usr/lib/python3.7/logging/__init__.py\", line 1025, in emit\n",
            "    msg = self.format(record)\n",
            "  File \"/usr/lib/python3.7/logging/__init__.py\", line 869, in format\n",
            "    return fmt.format(record)\n",
            "  File \"/usr/lib/python3.7/logging/__init__.py\", line 608, in format\n",
            "    record.message = record.getMessage()\n",
            "  File \"/usr/lib/python3.7/logging/__init__.py\", line 369, in getMessage\n",
            "    msg = msg % self.args\n",
            "TypeError: not all arguments converted during string formatting\n",
            "Call stack:\n",
            "  File \"/usr/lib/python3.7/runpy.py\", line 193, in _run_module_as_main\n",
            "    \"__main__\", mod_spec)\n",
            "  File \"/usr/lib/python3.7/runpy.py\", line 85, in _run_code\n",
            "    exec(code, run_globals)\n",
            "  File \"/usr/local/lib/python3.7/dist-packages/ipykernel_launcher.py\", line 16, in <module>\n",
            "    app.launch_new_instance()\n",
            "  File \"/usr/local/lib/python3.7/dist-packages/traitlets/config/application.py\", line 846, in launch_instance\n",
            "    app.start()\n",
            "  File \"/usr/local/lib/python3.7/dist-packages/ipykernel/kernelapp.py\", line 499, in start\n",
            "    self.io_loop.start()\n",
            "  File \"/usr/local/lib/python3.7/dist-packages/tornado/platform/asyncio.py\", line 132, in start\n",
            "    self.asyncio_loop.run_forever()\n",
            "  File \"/usr/lib/python3.7/asyncio/base_events.py\", line 541, in run_forever\n",
            "    self._run_once()\n",
            "  File \"/usr/lib/python3.7/asyncio/base_events.py\", line 1786, in _run_once\n",
            "    handle._run()\n",
            "  File \"/usr/lib/python3.7/asyncio/events.py\", line 88, in _run\n",
            "    self._context.run(self._callback, *self._args)\n",
            "  File \"/usr/local/lib/python3.7/dist-packages/tornado/ioloop.py\", line 758, in _run_callback\n",
            "    ret = callback()\n",
            "  File \"/usr/local/lib/python3.7/dist-packages/tornado/stack_context.py\", line 300, in null_wrapper\n",
            "    return fn(*args, **kwargs)\n",
            "  File \"/usr/local/lib/python3.7/dist-packages/zmq/eventloop/zmqstream.py\", line 536, in <lambda>\n",
            "    self.io_loop.add_callback(lambda: self._handle_events(self.socket, 0))\n",
            "  File \"/usr/local/lib/python3.7/dist-packages/zmq/eventloop/zmqstream.py\", line 452, in _handle_events\n",
            "    self._handle_recv()\n",
            "  File \"/usr/local/lib/python3.7/dist-packages/zmq/eventloop/zmqstream.py\", line 481, in _handle_recv\n",
            "    self._run_callback(callback, msg)\n",
            "  File \"/usr/local/lib/python3.7/dist-packages/zmq/eventloop/zmqstream.py\", line 431, in _run_callback\n",
            "    callback(*args, **kwargs)\n",
            "  File \"/usr/local/lib/python3.7/dist-packages/tornado/stack_context.py\", line 300, in null_wrapper\n",
            "    return fn(*args, **kwargs)\n",
            "  File \"/usr/local/lib/python3.7/dist-packages/ipykernel/kernelbase.py\", line 283, in dispatcher\n",
            "    return self.dispatch_shell(stream, msg)\n",
            "  File \"/usr/local/lib/python3.7/dist-packages/ipykernel/kernelbase.py\", line 233, in dispatch_shell\n",
            "    handler(stream, idents, msg)\n",
            "  File \"/usr/local/lib/python3.7/dist-packages/ipykernel/kernelbase.py\", line 399, in execute_request\n",
            "    user_expressions, allow_stdin)\n",
            "  File \"/usr/local/lib/python3.7/dist-packages/ipykernel/ipkernel.py\", line 208, in do_execute\n",
            "    res = shell.run_cell(code, store_history=store_history, silent=silent)\n",
            "  File \"/usr/local/lib/python3.7/dist-packages/ipykernel/zmqshell.py\", line 537, in run_cell\n",
            "    return super(ZMQInteractiveShell, self).run_cell(*args, **kwargs)\n",
            "  File \"/usr/local/lib/python3.7/dist-packages/IPython/core/interactiveshell.py\", line 2718, in run_cell\n",
            "    interactivity=interactivity, compiler=compiler, result=result)\n",
            "  File \"/usr/local/lib/python3.7/dist-packages/IPython/core/interactiveshell.py\", line 2822, in run_ast_nodes\n",
            "    if self.run_code(code, result):\n",
            "  File \"/usr/local/lib/python3.7/dist-packages/IPython/core/interactiveshell.py\", line 2882, in run_code\n",
            "    exec(code_obj, self.user_global_ns, self.user_ns)\n",
            "  File \"<ipython-input-12-710bbcbe35c6>\", line 1, in <module>\n",
            "    t,y= next(flow)\n",
            "  File \"<ipython-input-10-35e2989434df>\", line 10, in flow_from_dataframe\n",
            "    drop_duplicates=False)\n",
            "  File \"/usr/local/lib/python3.7/dist-packages/keras/preprocessing/image.py\", line 1109, in flow_from_dataframe\n",
            "    '`class_mode` \"raw\".', DeprecationWarning)\n",
            "  File \"/usr/local/lib/python3.7/dist-packages/tensorflow/python/platform/tf_logging.py\", line 178, in warning\n",
            "    get_logger().warning(msg, *args, **kwargs)\n",
            "Message: '`class_mode` \"other\" is deprecated, please use `class_mode` \"raw\".'\n",
            "Arguments: (<class 'DeprecationWarning'>,)\n",
            "--- Logging error ---\n",
            "Traceback (most recent call last):\n",
            "  File \"/usr/lib/python3.7/logging/__init__.py\", line 1025, in emit\n",
            "    msg = self.format(record)\n",
            "  File \"/usr/lib/python3.7/logging/__init__.py\", line 869, in format\n",
            "    return fmt.format(record)\n",
            "  File \"/usr/lib/python3.7/logging/__init__.py\", line 608, in format\n",
            "    record.message = record.getMessage()\n",
            "  File \"/usr/lib/python3.7/logging/__init__.py\", line 369, in getMessage\n",
            "    msg = msg % self.args\n",
            "TypeError: not all arguments converted during string formatting\n",
            "Call stack:\n",
            "  File \"/usr/lib/python3.7/runpy.py\", line 193, in _run_module_as_main\n",
            "    \"__main__\", mod_spec)\n",
            "  File \"/usr/lib/python3.7/runpy.py\", line 85, in _run_code\n",
            "    exec(code, run_globals)\n",
            "  File \"/usr/local/lib/python3.7/dist-packages/ipykernel_launcher.py\", line 16, in <module>\n",
            "    app.launch_new_instance()\n",
            "  File \"/usr/local/lib/python3.7/dist-packages/traitlets/config/application.py\", line 846, in launch_instance\n",
            "    app.start()\n",
            "  File \"/usr/local/lib/python3.7/dist-packages/ipykernel/kernelapp.py\", line 499, in start\n",
            "    self.io_loop.start()\n",
            "  File \"/usr/local/lib/python3.7/dist-packages/tornado/platform/asyncio.py\", line 132, in start\n",
            "    self.asyncio_loop.run_forever()\n",
            "  File \"/usr/lib/python3.7/asyncio/base_events.py\", line 541, in run_forever\n",
            "    self._run_once()\n",
            "  File \"/usr/lib/python3.7/asyncio/base_events.py\", line 1786, in _run_once\n",
            "    handle._run()\n",
            "  File \"/usr/lib/python3.7/asyncio/events.py\", line 88, in _run\n",
            "    self._context.run(self._callback, *self._args)\n",
            "  File \"/usr/local/lib/python3.7/dist-packages/tornado/ioloop.py\", line 758, in _run_callback\n",
            "    ret = callback()\n",
            "  File \"/usr/local/lib/python3.7/dist-packages/tornado/stack_context.py\", line 300, in null_wrapper\n",
            "    return fn(*args, **kwargs)\n",
            "  File \"/usr/local/lib/python3.7/dist-packages/zmq/eventloop/zmqstream.py\", line 536, in <lambda>\n",
            "    self.io_loop.add_callback(lambda: self._handle_events(self.socket, 0))\n",
            "  File \"/usr/local/lib/python3.7/dist-packages/zmq/eventloop/zmqstream.py\", line 452, in _handle_events\n",
            "    self._handle_recv()\n",
            "  File \"/usr/local/lib/python3.7/dist-packages/zmq/eventloop/zmqstream.py\", line 481, in _handle_recv\n",
            "    self._run_callback(callback, msg)\n",
            "  File \"/usr/local/lib/python3.7/dist-packages/zmq/eventloop/zmqstream.py\", line 431, in _run_callback\n",
            "    callback(*args, **kwargs)\n",
            "  File \"/usr/local/lib/python3.7/dist-packages/tornado/stack_context.py\", line 300, in null_wrapper\n",
            "    return fn(*args, **kwargs)\n",
            "  File \"/usr/local/lib/python3.7/dist-packages/ipykernel/kernelbase.py\", line 283, in dispatcher\n",
            "    return self.dispatch_shell(stream, msg)\n",
            "  File \"/usr/local/lib/python3.7/dist-packages/ipykernel/kernelbase.py\", line 233, in dispatch_shell\n",
            "    handler(stream, idents, msg)\n",
            "  File \"/usr/local/lib/python3.7/dist-packages/ipykernel/kernelbase.py\", line 399, in execute_request\n",
            "    user_expressions, allow_stdin)\n",
            "  File \"/usr/local/lib/python3.7/dist-packages/ipykernel/ipkernel.py\", line 208, in do_execute\n",
            "    res = shell.run_cell(code, store_history=store_history, silent=silent)\n",
            "  File \"/usr/local/lib/python3.7/dist-packages/ipykernel/zmqshell.py\", line 537, in run_cell\n",
            "    return super(ZMQInteractiveShell, self).run_cell(*args, **kwargs)\n",
            "  File \"/usr/local/lib/python3.7/dist-packages/IPython/core/interactiveshell.py\", line 2718, in run_cell\n",
            "    interactivity=interactivity, compiler=compiler, result=result)\n",
            "  File \"/usr/local/lib/python3.7/dist-packages/IPython/core/interactiveshell.py\", line 2822, in run_ast_nodes\n",
            "    if self.run_code(code, result):\n",
            "  File \"/usr/local/lib/python3.7/dist-packages/IPython/core/interactiveshell.py\", line 2882, in run_code\n",
            "    exec(code_obj, self.user_global_ns, self.user_ns)\n",
            "  File \"<ipython-input-12-710bbcbe35c6>\", line 1, in <module>\n",
            "    t,y= next(flow)\n",
            "  File \"<ipython-input-10-35e2989434df>\", line 10, in flow_from_dataframe\n",
            "    drop_duplicates=False)\n",
            "  File \"/usr/local/lib/python3.7/dist-packages/keras/preprocessing/image.py\", line 1115, in flow_from_dataframe\n",
            "    DeprecationWarning)\n",
            "  File \"/usr/local/lib/python3.7/dist-packages/tensorflow/python/platform/tf_logging.py\", line 178, in warning\n",
            "    get_logger().warning(msg, *args, **kwargs)\n",
            "Message: 'drop_duplicates is deprecated, you can drop duplicates by using the pandas.DataFrame.drop_duplicates method.'\n",
            "Arguments: (<class 'DeprecationWarning'>,)\n"
          ]
        },
        {
          "metadata": {
            "tags": null
          },
          "name": "stdout",
          "output_type": "stream",
          "text": [
            "Found 7548 validated image filenames.\n"
          ]
        }
      ],
      "source": [
        "t,y= next(flow)"
      ]
    },
    {
      "cell_type": "code",
      "execution_count": null,
      "metadata": {
        "id": "KZaCpGOT2YLi"
      },
      "outputs": [],
      "source": [
        "from sklearn.model_selection import train_test_split\n",
        "X_train, X_test, y_train, y_test = train_test_split(t,y, \n",
        "                                   test_size = 0.30, \n",
        "                                   random_state = 2018)\n"
      ]
    },
    {
      "cell_type": "code",
      "execution_count": null,
      "metadata": {
        "colab": {
          "base_uri": "https://localhost:8080/"
        },
        "id": "zqt4879e2YLi",
        "outputId": "3fe462de-f69d-4224-b74c-e93a84a5d170"
      },
      "outputs": [
        {
          "output_type": "stream",
          "name": "stdout",
          "text": [
            "Model: \"sequential\"\n",
            "_________________________________________________________________\n",
            " Layer (type)                Output Shape              Param #   \n",
            "=================================================================\n",
            " mobilenet_1.00_128 (Functio  (None, 4, 4, 1024)       3228288   \n",
            " nal)                                                            \n",
            "                                                                 \n",
            " global_average_pooling2d (G  (None, 1024)             0         \n",
            " lobalAveragePooling2D)                                          \n",
            "                                                                 \n",
            " dropout (Dropout)           (None, 1024)              0         \n",
            "                                                                 \n",
            " dense (Dense)               (None, 512)               524800    \n",
            "                                                                 \n",
            " dropout_1 (Dropout)         (None, 512)               0         \n",
            "                                                                 \n",
            " dense_1 (Dense)             (None, 1)                 513       \n",
            "                                                                 \n",
            "=================================================================\n",
            "Total params: 3,753,601\n",
            "Trainable params: 3,731,713\n",
            "Non-trainable params: 21,888\n",
            "_________________________________________________________________\n"
          ]
        }
      ],
      "source": [
        "from keras.applications.mobilenet import MobileNet\n",
        "from keras.layers import GlobalAveragePooling2D, Dense, Dropout, Flatten\n",
        "from keras.models import Sequential\n",
        "mobilenet_model = MobileNet(input_shape =  X_train.shape[1:], \n",
        "                                 include_top = False, weights = None)\n",
        "mobilenet_GAP_model = Sequential()\n",
        "mobilenet_GAP_model.add(mobilenet_model)\n",
        "mobilenet_GAP_model.add(GlobalAveragePooling2D())\n",
        "mobilenet_GAP_model.add(Dropout(0.5))\n",
        "mobilenet_GAP_model.add(Dense(512))\n",
        "mobilenet_GAP_model.add(Dropout(0.5))\n",
        "mobilenet_GAP_model.add(Dense(1, activation = 'sigmoid'))\n",
        "mobilenet_GAP_model.compile(optimizer = 'adam', loss = 'binary_crossentropy',\n",
        "                           metrics = ['binary_accuracy', 'mae'])\n",
        "mobilenet_GAP_model.summary()"
      ]
    },
    {
      "cell_type": "code",
      "execution_count": null,
      "metadata": {
        "id": "LDH3PW4QoklM"
      },
      "outputs": [],
      "source": [
        "from keras.callbacks import ModelCheckpoint, LearningRateScheduler, EarlyStopping, ReduceLROnPlateau\n",
        "weight_path=\"{}_weights.best.hdf5\".format('xray_class')\n",
        "\n",
        "checkpoint = ModelCheckpoint(weight_path, monitor='val_loss', verbose=1, \n",
        "                             save_best_only=True, mode='min', save_weights_only = True)\n",
        "\n",
        "early = EarlyStopping(monitor=\"val_loss\", \n",
        "                      mode=\"min\", \n",
        "                      patience=3)\n",
        "callbacks_list = [checkpoint, early]"
      ]
    },
    {
      "cell_type": "code",
      "execution_count": null,
      "metadata": {
        "colab": {
          "base_uri": "https://localhost:8080/"
        },
        "id": "jnyulaOi2YLj",
        "outputId": "3c9658b9-4b06-4e18-80bf-52ef9e12f7b0"
      },
      "outputs": [
        {
          "output_type": "stream",
          "name": "stdout",
          "text": [
            "Epoch 1/10\n",
            "10/10 [==============================] - ETA: 0s - loss: 1.7851 - binary_accuracy: 0.5874 - mae: 0.4230 \n",
            "Epoch 00001: val_loss improved from inf to 0.68665, saving model to xray_class_weights.best.hdf5\n",
            "10/10 [==============================] - 364s 36s/step - loss: 1.7851 - binary_accuracy: 0.5874 - mae: 0.4230 - val_loss: 0.6866 - val_binary_accuracy: 0.6612 - val_mae: 0.4966\n",
            "Epoch 2/10\n",
            "10/10 [==============================] - ETA: 0s - loss: 0.8414 - binary_accuracy: 0.5874 - mae: 0.4391 \n",
            "Epoch 00002: val_loss improved from 0.68665 to 0.67762, saving model to xray_class_weights.best.hdf5\n",
            "10/10 [==============================] - 360s 36s/step - loss: 0.8414 - binary_accuracy: 0.5874 - mae: 0.4391 - val_loss: 0.6776 - val_binary_accuracy: 0.6612 - val_mae: 0.4916\n",
            "Epoch 3/10\n",
            "10/10 [==============================] - ETA: 0s - loss: 0.7867 - binary_accuracy: 0.6066 - mae: 0.4449 \n",
            "Epoch 00003: val_loss improved from 0.67762 to 0.65922, saving model to xray_class_weights.best.hdf5\n",
            "10/10 [==============================] - 349s 35s/step - loss: 0.7867 - binary_accuracy: 0.6066 - mae: 0.4449 - val_loss: 0.6592 - val_binary_accuracy: 0.6612 - val_mae: 0.4788\n",
            "Epoch 4/10\n",
            "10/10 [==============================] - ETA: 0s - loss: 0.7085 - binary_accuracy: 0.6270 - mae: 0.4358 \n",
            "Epoch 00004: val_loss improved from 0.65922 to 0.65438, saving model to xray_class_weights.best.hdf5\n",
            "10/10 [==============================] - 352s 35s/step - loss: 0.7085 - binary_accuracy: 0.6270 - mae: 0.4358 - val_loss: 0.6544 - val_binary_accuracy: 0.6612 - val_mae: 0.4745\n",
            "Epoch 5/10\n",
            "10/10 [==============================] - ETA: 0s - loss: 0.6817 - binary_accuracy: 0.6715 - mae: 0.4172 \n",
            "Epoch 00005: val_loss did not improve from 0.65438\n",
            "10/10 [==============================] - 344s 35s/step - loss: 0.6817 - binary_accuracy: 0.6715 - mae: 0.4172 - val_loss: 0.6594 - val_binary_accuracy: 0.6612 - val_mae: 0.4790\n",
            "Epoch 6/10\n",
            "10/10 [==============================] - ETA: 0s - loss: 0.5959 - binary_accuracy: 0.7027 - mae: 0.3740 \n",
            "Epoch 00006: val_loss did not improve from 0.65438\n",
            "10/10 [==============================] - 345s 35s/step - loss: 0.5959 - binary_accuracy: 0.7027 - mae: 0.3740 - val_loss: 0.6650 - val_binary_accuracy: 0.6612 - val_mae: 0.4832\n",
            "Epoch 7/10\n",
            "10/10 [==============================] - ETA: 0s - loss: 0.5308 - binary_accuracy: 0.7514 - mae: 0.3185 \n",
            "Epoch 00007: val_loss improved from 0.65438 to 0.65334, saving model to xray_class_weights.best.hdf5\n",
            "10/10 [==============================] - 338s 34s/step - loss: 0.5308 - binary_accuracy: 0.7514 - mae: 0.3185 - val_loss: 0.6533 - val_binary_accuracy: 0.6612 - val_mae: 0.4735\n",
            "Epoch 8/10\n",
            "10/10 [==============================] - ETA: 0s - loss: 0.5387 - binary_accuracy: 0.7445 - mae: 0.3247 \n",
            "Epoch 00008: val_loss improved from 0.65334 to 0.64895, saving model to xray_class_weights.best.hdf5\n",
            "10/10 [==============================] - 344s 35s/step - loss: 0.5387 - binary_accuracy: 0.7445 - mae: 0.3247 - val_loss: 0.6490 - val_binary_accuracy: 0.6612 - val_mae: 0.4687\n",
            "Epoch 9/10\n",
            "10/10 [==============================] - ETA: 0s - loss: 0.5373 - binary_accuracy: 0.7483 - mae: 0.3338 \n",
            "Epoch 00009: val_loss did not improve from 0.64895\n",
            "10/10 [==============================] - 340s 34s/step - loss: 0.5373 - binary_accuracy: 0.7483 - mae: 0.3338 - val_loss: 0.6508 - val_binary_accuracy: 0.6612 - val_mae: 0.4708\n",
            "Epoch 10/10\n",
            "10/10 [==============================] - ETA: 0s - loss: 0.3821 - binary_accuracy: 0.8376 - mae: 0.2399 \n",
            "Epoch 00010: val_loss improved from 0.64895 to 0.64131, saving model to xray_class_weights.best.hdf5\n",
            "10/10 [==============================] - 348s 35s/step - loss: 0.3821 - binary_accuracy: 0.8376 - mae: 0.2399 - val_loss: 0.6413 - val_binary_accuracy: 0.6612 - val_mae: 0.4552\n"
          ]
        }
      ],
      "source": [
        "history_mobilenet_GAP = mobilenet_GAP_model.fit(X_train,y_train,\n",
        "                                  steps_per_epoch=10,\n",
        "                                  validation_data = (X_test, y_test), \n",
        "                                  epochs = 10, \n",
        "                                  callbacks = callbacks_list)"
      ]
    },
    {
      "cell_type": "code",
      "execution_count": null,
      "metadata": {
        "colab": {
          "base_uri": "https://localhost:8080/"
        },
        "id": "AD-QkHB22YLj",
        "outputId": "9ea9624c-4437-4942-de4e-5681d622b9b7"
      },
      "outputs": [
        {
          "output_type": "stream",
          "name": "stdout",
          "text": [
            "68/68 [==============================] - 24s 340ms/step\n"
          ]
        }
      ],
      "source": [
        "pred_Y = mobilenet_GAP_model.predict(X_test, \n",
        "                          batch_size = 32, \n",
        "                          verbose = True)"
      ]
    },
    {
      "cell_type": "code",
      "execution_count": null,
      "metadata": {
        "colab": {
          "base_uri": "https://localhost:8080/"
        },
        "id": "vhza3_542YLj",
        "outputId": "adf46695-63ef-4fc7-e7ce-2458e4a3a588"
      },
      "outputs": [
        {
          "output_type": "execute_result",
          "data": {
            "text/plain": [
              "array([[0.36108774],\n",
              "       [0.36108774],\n",
              "       [0.36108774],\n",
              "       ...,\n",
              "       [0.36108774],\n",
              "       [0.36108774],\n",
              "       [0.36108774]], dtype=float32)"
            ]
          },
          "metadata": {},
          "execution_count": 18
        }
      ],
      "source": [
        "pred_Y"
      ]
    },
    {
      "cell_type": "code",
      "execution_count": null,
      "metadata": {
        "colab": {
          "base_uri": "https://localhost:8080/"
        },
        "id": "2w33awfY2YLk",
        "outputId": "506f0257-3e66-41a7-970f-2d38c46fcafe"
      },
      "outputs": [
        {
          "output_type": "execute_result",
          "data": {
            "text/plain": [
              "array([0.36108774], dtype=float32)"
            ]
          },
          "metadata": {},
          "execution_count": 19
        }
      ],
      "source": [
        "min(pred_Y)"
      ]
    },
    {
      "cell_type": "code",
      "execution_count": null,
      "metadata": {
        "colab": {
          "base_uri": "https://localhost:8080/"
        },
        "id": "MKFweaDj2YLl",
        "outputId": "04f2989f-b6cd-44e9-c305-bcbf9d607aff"
      },
      "outputs": [
        {
          "output_type": "stream",
          "name": "stdout",
          "text": [
            "test accuracy =  0.661230206489563\n"
          ]
        }
      ],
      "source": [
        "print('test accuracy = ',mobilenet_GAP_model.evaluate(X_test,y_test, verbose=0)[1])"
      ]
    },
    {
      "cell_type": "code",
      "execution_count": null,
      "metadata": {
        "colab": {
          "base_uri": "https://localhost:8080/"
        },
        "id": "dEYdVE9G2YLm",
        "outputId": "bfba97e8-182c-4954-f986-09cf7e3dcd4c"
      },
      "outputs": [
        {
          "output_type": "stream",
          "name": "stdout",
          "text": [
            "roc score =  0.5032182611114826\n"
          ]
        }
      ],
      "source": [
        "from sklearn.metrics import roc_auc_score\n",
        "print('roc score = ',roc_auc_score(y_test.astype(int), pred_Y))"
      ]
    },
    {
      "cell_type": "code",
      "execution_count": null,
      "metadata": {
        "colab": {
          "base_uri": "https://localhost:8080/",
          "height": 430
        },
        "id": "D4BP1kJU2YLn",
        "outputId": "d02c0326-803e-4f3c-e6f6-8a712318b0f3"
      },
      "outputs": [
        {
          "output_type": "stream",
          "name": "stdout",
          "text": [
            "              precision    recall  f1-score   support\n",
            "\n",
            "No Emphysema       0.66      0.98      0.79      1419\n",
            "   Emphysema       0.41      0.02      0.05       727\n",
            "\n",
            "    accuracy                           0.66      2146\n",
            "   macro avg       0.54      0.50      0.42      2146\n",
            "weighted avg       0.58      0.66      0.54      2146\n",
            "\n"
          ]
        },
        {
          "output_type": "display_data",
          "data": {
            "image/png": "[encoded data removed]",
            "text/plain": [
              "<Figure size 288x288 with 1 Axes>"
            ]
          },
          "metadata": {}
        }
      ],
      "source": [
        "from sklearn.metrics import classification_report, confusion_matrix\n",
        "plt.matshow(confusion_matrix(y_test, pred_Y>0.36108774))\n",
        "print(classification_report(y_test, pred_Y>0.36108774, target_names = ['No Emphysema', 'Emphysema']))"
      ]
    },
    {
      "cell_type": "markdown",
      "metadata": {
        "id": "xnW0WsQT2ZJv"
      },
      "source": [
        "## **Fibrosis**"
      ]
    },
    {
      "cell_type": "code",
      "execution_count": null,
      "metadata": {
        "colab": {
          "base_uri": "https://localhost:8080/",
          "height": 266
        },
        "id": "jvjEM4O82Zpe",
        "outputId": "1ebfbf0e-a311-4c7f-d90e-9f9a41653a82"
      },
      "outputs": [
        {
          "output_type": "stream",
          "name": "stdout",
          "text": [
            "0    3372\n",
            "1    1686\n",
            "Name: Fibrosis, dtype: int64\n"
          ]
        },
        {
          "output_type": "execute_result",
          "data": {
            "text/plain": [
              "<seaborn.axisgrid.PairGrid at 0x7f7b04017b10>"
            ]
          },
          "metadata": {},
          "execution_count": 23
        },
        {
          "output_type": "display_data",
          "data": {
            "image/png": "[encoded data removed]",
            "text/plain": [
              "<Figure size 225.375x180 with 2 Axes>"
            ]
          },
          "metadata": {}
        }
      ],
      "source": [
        "positive_cases = np.sum(all_xray_df['Fibrosis']==True)//2\n",
        "oversample_factor = 4 # maximum number of cases in negative group so it isn't super rare\n",
        "more_balanced_df = all_xray_df.groupby(['Fibrosis']).apply(lambda x: x.sample(min(oversample_factor*positive_cases, x.shape[0]), \n",
        "                                                                                   replace = False)\n",
        "                                                      ).reset_index(drop = True)\n",
        "\n",
        "print(more_balanced_df['Fibrosis'].value_counts())\n",
        "sns.pairplot(more_balanced_df[['Patient Age', 'Fibrosis']], hue='Fibrosis')"
      ]
    },
    {
      "cell_type": "code",
      "execution_count": null,
      "metadata": {
        "colab": {
          "base_uri": "https://localhost:8080/",
          "height": 301
        },
        "id": "vCjXv6302Zpe",
        "outputId": "bde74b18-ab50-4ff4-d7f4-561612deda02"
      },
      "outputs": [
        {
          "output_type": "stream",
          "name": "stdout",
          "text": [
            "train 3540 validation 910 test 608\n",
            "train 0    2360\n",
            "1    1180\n",
            "Name: Fibrosis, dtype: int64\n",
            "test 0    405\n",
            "1    203\n",
            "Name: Fibrosis, dtype: int64\n"
          ]
        },
        {
          "output_type": "execute_result",
          "data": {
            "text/html": [
              "\n",
              "  <div id=\"df-009a0a5f-8101-4168-b9b9-3c132db95bb1\">\n",
              "    <div class=\"colab-df-container\">\n",
              "      <div>\n",
              "<style scoped>\n",
              "    .dataframe tbody tr th:only-of-type {\n",
              "        vertical-align: middle;\n",
              "    }\n",
              "\n",
              "    .dataframe tbody tr th {\n",
              "        vertical-align: top;\n",
              "    }\n",
              "\n",
              "    .dataframe thead th {\n",
              "        text-align: right;\n",
              "    }\n",
              "</style>\n",
              "<table border=\"1\" class=\"dataframe\">\n",
              "  <thead>\n",
              "    <tr style=\"text-align: right;\">\n",
              "      <th></th>\n",
              "      <th>Image Index</th>\n",
              "      <th>Finding Labels</th>\n",
              "      <th>Follow-up #</th>\n",
              "      <th>Patient ID</th>\n",
              "      <th>Patient Age</th>\n",
              "      <th>Patient Gender</th>\n",
              "      <th>View Position</th>\n",
              "      <th>OriginalImage[Width</th>\n",
              "      <th>Height]</th>\n",
              "      <th>OriginalImagePixelSpacing[x</th>\n",
              "      <th>y]</th>\n",
              "      <th>path</th>\n",
              "      <th>Pneumonia</th>\n",
              "      <th>Patient Male</th>\n",
              "      <th>Cardiomegaly</th>\n",
              "      <th>Emphysema</th>\n",
              "      <th>Effusion</th>\n",
              "      <th>Hernia</th>\n",
              "      <th>Nodule</th>\n",
              "      <th>Pneumothorax</th>\n",
              "      <th>Atelectasis</th>\n",
              "      <th>Pleural_Thickening</th>\n",
              "      <th>Mass</th>\n",
              "      <th>Edema</th>\n",
              "      <th>Consolidation</th>\n",
              "      <th>Infiltration</th>\n",
              "      <th>Fibrosis</th>\n",
              "      <th>Nothing</th>\n",
              "    </tr>\n",
              "  </thead>\n",
              "  <tbody>\n",
              "    <tr>\n",
              "      <th>155</th>\n",
              "      <td>00011235_007.png</td>\n",
              "      <td>No Finding</td>\n",
              "      <td>7</td>\n",
              "      <td>11235</td>\n",
              "      <td>68</td>\n",
              "      <td>M</td>\n",
              "      <td>PA</td>\n",
              "      <td>2992</td>\n",
              "      <td>2991</td>\n",
              "      <td>0.143</td>\n",
              "      <td>0.143</td>\n",
              "      <td>/content/drive/MyDrive/Images/image5/00011235_...</td>\n",
              "      <td>False</td>\n",
              "      <td>1.0</td>\n",
              "      <td>0</td>\n",
              "      <td>0</td>\n",
              "      <td>0</td>\n",
              "      <td>0</td>\n",
              "      <td>0</td>\n",
              "      <td>0</td>\n",
              "      <td>0</td>\n",
              "      <td>0</td>\n",
              "      <td>0</td>\n",
              "      <td>0</td>\n",
              "      <td>0</td>\n",
              "      <td>0</td>\n",
              "      <td>0</td>\n",
              "      <td>1</td>\n",
              "    </tr>\n",
              "  </tbody>\n",
              "</table>\n",
              "</div>\n",
              "      <button class=\"colab-df-convert\" onclick=\"convertToInteractive('df-009a0a5f-8101-4168-b9b9-3c132db95bb1')\"\n",
              "              title=\"Convert this dataframe to an interactive table.\"\n",
              "              style=\"display:none;\">\n",
              "        \n",
              "  <svg xmlns=\"http://www.w3.org/2000/svg\" height=\"24px\"viewBox=\"0 0 24 24\"\n",
              "       width=\"24px\">\n",
              "    <path d=\"M0 0h24v24H0V0z\" fill=\"none\"/>\n",
              "    <path d=\"M18.56 5.44l.94 2.06.94-2.06 2.06-.94-2.06-.94-.94-2.06-.94 2.06-2.06.94zm-11 1L8.5 8.5l.94-2.06 2.06-.94-2.06-.94L8.5 2.5l-.94 2.06-2.06.94zm10 10l.94 2.06.94-2.06 2.06-.94-2.06-.94-.94-2.06-.94 2.06-2.06.94z\"/><path d=\"M17.41 7.96l-1.37-1.37c-.4-.4-.92-.59-1.43-.59-.52 0-1.04.2-1.43.59L10.3 9.45l-7.72 7.72c-.78.78-.78 2.05 0 2.83L4 21.41c.39.39.9.59 1.41.59.51 0 1.02-.2 1.41-.59l7.78-7.78 2.81-2.81c.8-.78.8-2.07 0-2.86zM5.41 20L4 18.59l7.72-7.72 1.47 1.35L5.41 20z\"/>\n",
              "  </svg>\n",
              "      </button>\n",
              "      \n",
              "  <style>\n",
              "    .colab-df-container {\n",
              "      display:flex;\n",
              "      flex-wrap:wrap;\n",
              "      gap: 12px;\n",
              "    }\n",
              "\n",
              "    .colab-df-convert {\n",
              "      background-color: #E8F0FE;\n",
              "      border: none;\n",
              "      border-radius: 50%;\n",
              "      cursor: pointer;\n",
              "      display: none;\n",
              "      fill: #1967D2;\n",
              "      height: 32px;\n",
              "      padding: 0 0 0 0;\n",
              "      width: 32px;\n",
              "    }\n",
              "\n",
              "    .colab-df-convert:hover {\n",
              "      background-color: #E2EBFA;\n",
              "      box-shadow: 0px 1px 2px rgba(60, 64, 67, 0.3), 0px 1px 3px 1px rgba(60, 64, 67, 0.15);\n",
              "      fill: #174EA6;\n",
              "    }\n",
              "\n",
              "    [theme=dark] .colab-df-convert {\n",
              "      background-color: #3B4455;\n",
              "      fill: #D2E3FC;\n",
              "    }\n",
              "\n",
              "    [theme=dark] .colab-df-convert:hover {\n",
              "      background-color: #434B5C;\n",
              "      box-shadow: 0px 1px 3px 1px rgba(0, 0, 0, 0.15);\n",
              "      filter: drop-shadow(0px 1px 2px rgba(0, 0, 0, 0.3));\n",
              "      fill: #FFFFFF;\n",
              "    }\n",
              "  </style>\n",
              "\n",
              "      <script>\n",
              "        const buttonEl =\n",
              "          document.querySelector('#df-009a0a5f-8101-4168-b9b9-3c132db95bb1 button.colab-df-convert');\n",
              "        buttonEl.style.display =\n",
              "          google.colab.kernel.accessAllowed ? 'block' : 'none';\n",
              "\n",
              "        async function convertToInteractive(key) {\n",
              "          const element = document.querySelector('#df-009a0a5f-8101-4168-b9b9-3c132db95bb1');\n",
              "          const dataTable =\n",
              "            await google.colab.kernel.invokeFunction('convertToInteractive',\n",
              "                                                     [key], {});\n",
              "          if (!dataTable) return;\n",
              "\n",
              "          const docLinkHtml = 'Like what you see? Visit the ' +\n",
              "            '<a target=\"_blank\" href=https://colab.research.google.com/notebooks/data_table.ipynb>data table notebook</a>'\n",
              "            + ' to learn more about interactive tables.';\n",
              "          element.innerHTML = '';\n",
              "          dataTable['output_type'] = 'display_data';\n",
              "          await google.colab.output.renderOutput(dataTable, element);\n",
              "          const docLink = document.createElement('div');\n",
              "          docLink.innerHTML = docLinkHtml;\n",
              "          element.appendChild(docLink);\n",
              "        }\n",
              "      </script>\n",
              "    </div>\n",
              "  </div>\n",
              "  "
            ],
            "text/plain": [
              "          Image Index Finding Labels  ...  Fibrosis  Nothing\n",
              "155  00011235_007.png     No Finding  ...         0        1\n",
              "\n",
              "[1 rows x 28 columns]"
            ]
          },
          "metadata": {},
          "execution_count": 24
        }
      ],
      "source": [
        "from sklearn.model_selection import train_test_split\n",
        "raw_train_df, test_valid_df = train_test_split(more_balanced_df, \n",
        "                                   test_size = 0.30, \n",
        "                                   random_state = 2018,\n",
        "                                   stratify = more_balanced_df[['Fibrosis']])\n",
        "valid_df, test_df = train_test_split(test_valid_df, \n",
        "                                   test_size = 0.40, \n",
        "                                   random_state = 2018,\n",
        "                                   stratify = test_valid_df[['Fibrosis']])\n",
        "print('train', raw_train_df.shape[0], 'validation', valid_df.shape[0], 'test', test_df.shape[0])\n",
        "print('train', raw_train_df['Fibrosis'].value_counts())\n",
        "print('test', test_df['Fibrosis'].value_counts())\n",
        "raw_train_df.sample(1)"
      ]
    },
    {
      "cell_type": "code",
      "execution_count": null,
      "metadata": {
        "colab": {
          "base_uri": "https://localhost:8080/"
        },
        "id": "4Y_8laP22Zpf",
        "outputId": "7032c0be-ac42-4495-a093-bc84f9c4b838"
      },
      "outputs": [
        {
          "output_type": "stream",
          "name": "stdout",
          "text": [
            "New Data Size: 120000 Old Size: 3540\n"
          ]
        }
      ],
      "source": [
        "train_df = raw_train_df.groupby(['Fibrosis']).apply(lambda x: x.sample(60000, replace = True)\n",
        "                                                      ).reset_index(drop = True)\n",
        "print('New Data Size:', train_df.shape[0], 'Old Size:', raw_train_df.shape[0])"
      ]
    },
    {
      "cell_type": "code",
      "execution_count": null,
      "metadata": {
        "id": "2FpJDjim2Zpf"
      },
      "outputs": [],
      "source": [
        "from keras.preprocessing.image import ImageDataGenerator\n",
        "idg = ImageDataGenerator(zoom_range=0.2,\n",
        "                           fill_mode='nearest',\n",
        "                           rotation_range=25,  \n",
        "                           width_shift_range=0.25,  \n",
        "                           height_shift_range=0.25,  \n",
        "                           vertical_flip=False, \n",
        "                           horizontal_flip=True,\n",
        "                           shear_range = 0.2,\n",
        "                           samplewise_center=False, \n",
        "                           samplewise_std_normalization=False)\n"
      ]
    },
    {
      "cell_type": "code",
      "execution_count": null,
      "metadata": {
        "id": "TsTyCZht2Zpf"
      },
      "outputs": [],
      "source": [
        "SEED= 10\n",
        "IMG_SIZE = (128, 128) \n",
        "####\n",
        "def flow_from_dataframe(imgDatGen, df, batch_size, seed, img_size):\n",
        "    #gc.collect()\n",
        "    gen_img = imgDatGen.flow_from_dataframe(dataframe=more_balanced_df,\n",
        "        x_col='path', y_col='Fibrosis',\n",
        "        batch_size=batch_size, seed=seed, shuffle=True, class_mode='other',\n",
        "        target_size=img_size, color_mode='grayscale',\n",
        "        drop_duplicates=False)\n",
        "\n",
        "    \n",
        "        \n",
        "    while True:\n",
        "        X1i = gen_img.next()\n",
        "        #X2i = gen_img.next()\n",
        "        #gc.collect()\n",
        "        yield [X1i[0], X1i[1]]"
      ]
    },
    {
      "cell_type": "code",
      "execution_count": null,
      "metadata": {
        "id": "jAT_YfeZ2Zpf"
      },
      "outputs": [],
      "source": [
        "flow = flow_from_dataframe(idg, more_balanced_df, 7151, SEED, IMG_SIZE)"
      ]
    },
    {
      "cell_type": "code",
      "execution_count": null,
      "metadata": {
        "colab": {
          "base_uri": "https://localhost:8080/"
        },
        "id": "BZ-j4rzq2Zpg",
        "outputId": "a9d28665-1941-4b78-9a45-4fc2abed4560"
      },
      "outputs": [
        {
          "output_type": "stream",
          "name": "stderr",
          "text": [
            "--- Logging error ---\n",
            "Traceback (most recent call last):\n",
            "  File \"/usr/lib/python3.7/logging/__init__.py\", line 1025, in emit\n",
            "    msg = self.format(record)\n",
            "  File \"/usr/lib/python3.7/logging/__init__.py\", line 869, in format\n",
            "    return fmt.format(record)\n",
            "  File \"/usr/lib/python3.7/logging/__init__.py\", line 608, in format\n",
            "    record.message = record.getMessage()\n",
            "  File \"/usr/lib/python3.7/logging/__init__.py\", line 369, in getMessage\n",
            "    msg = msg % self.args\n",
            "TypeError: not all arguments converted during string formatting\n",
            "Call stack:\n",
            "  File \"/usr/lib/python3.7/runpy.py\", line 193, in _run_module_as_main\n",
            "    \"__main__\", mod_spec)\n",
            "  File \"/usr/lib/python3.7/runpy.py\", line 85, in _run_code\n",
            "    exec(code, run_globals)\n",
            "  File \"/usr/local/lib/python3.7/dist-packages/ipykernel_launcher.py\", line 16, in <module>\n",
            "    app.launch_new_instance()\n",
            "  File \"/usr/local/lib/python3.7/dist-packages/traitlets/config/application.py\", line 846, in launch_instance\n",
            "    app.start()\n",
            "  File \"/usr/local/lib/python3.7/dist-packages/ipykernel/kernelapp.py\", line 499, in start\n",
            "    self.io_loop.start()\n",
            "  File \"/usr/local/lib/python3.7/dist-packages/tornado/platform/asyncio.py\", line 132, in start\n",
            "    self.asyncio_loop.run_forever()\n",
            "  File \"/usr/lib/python3.7/asyncio/base_events.py\", line 541, in run_forever\n",
            "    self._run_once()\n",
            "  File \"/usr/lib/python3.7/asyncio/base_events.py\", line 1786, in _run_once\n",
            "    handle._run()\n",
            "  File \"/usr/lib/python3.7/asyncio/events.py\", line 88, in _run\n",
            "    self._context.run(self._callback, *self._args)\n",
            "  File \"/usr/local/lib/python3.7/dist-packages/tornado/platform/asyncio.py\", line 122, in _handle_events\n",
            "    handler_func(fileobj, events)\n",
            "  File \"/usr/local/lib/python3.7/dist-packages/tornado/stack_context.py\", line 300, in null_wrapper\n",
            "    return fn(*args, **kwargs)\n",
            "  File \"/usr/local/lib/python3.7/dist-packages/zmq/eventloop/zmqstream.py\", line 452, in _handle_events\n",
            "    self._handle_recv()\n",
            "  File \"/usr/local/lib/python3.7/dist-packages/zmq/eventloop/zmqstream.py\", line 481, in _handle_recv\n",
            "    self._run_callback(callback, msg)\n",
            "  File \"/usr/local/lib/python3.7/dist-packages/zmq/eventloop/zmqstream.py\", line 431, in _run_callback\n",
            "    callback(*args, **kwargs)\n",
            "  File \"/usr/local/lib/python3.7/dist-packages/tornado/stack_context.py\", line 300, in null_wrapper\n",
            "    return fn(*args, **kwargs)\n",
            "  File \"/usr/local/lib/python3.7/dist-packages/ipykernel/kernelbase.py\", line 283, in dispatcher\n",
            "    return self.dispatch_shell(stream, msg)\n",
            "  File \"/usr/local/lib/python3.7/dist-packages/ipykernel/kernelbase.py\", line 233, in dispatch_shell\n",
            "    handler(stream, idents, msg)\n",
            "  File \"/usr/local/lib/python3.7/dist-packages/ipykernel/kernelbase.py\", line 399, in execute_request\n",
            "    user_expressions, allow_stdin)\n",
            "  File \"/usr/local/lib/python3.7/dist-packages/ipykernel/ipkernel.py\", line 208, in do_execute\n",
            "    res = shell.run_cell(code, store_history=store_history, silent=silent)\n",
            "  File \"/usr/local/lib/python3.7/dist-packages/ipykernel/zmqshell.py\", line 537, in run_cell\n",
            "    return super(ZMQInteractiveShell, self).run_cell(*args, **kwargs)\n",
            "  File \"/usr/local/lib/python3.7/dist-packages/IPython/core/interactiveshell.py\", line 2718, in run_cell\n",
            "    interactivity=interactivity, compiler=compiler, result=result)\n",
            "  File \"/usr/local/lib/python3.7/dist-packages/IPython/core/interactiveshell.py\", line 2822, in run_ast_nodes\n",
            "    if self.run_code(code, result):\n",
            "  File \"/usr/local/lib/python3.7/dist-packages/IPython/core/interactiveshell.py\", line 2882, in run_code\n",
            "    exec(code_obj, self.user_global_ns, self.user_ns)\n",
            "  File \"<ipython-input-29-710bbcbe35c6>\", line 1, in <module>\n",
            "    t,y= next(flow)\n",
            "  File \"<ipython-input-27-45e6e08a3945>\", line 10, in flow_from_dataframe\n",
            "    drop_duplicates=False)\n",
            "  File \"/usr/local/lib/python3.7/dist-packages/keras/preprocessing/image.py\", line 1109, in flow_from_dataframe\n",
            "    '`class_mode` \"raw\".', DeprecationWarning)\n",
            "  File \"/usr/local/lib/python3.7/dist-packages/tensorflow/python/platform/tf_logging.py\", line 178, in warning\n",
            "    get_logger().warning(msg, *args, **kwargs)\n",
            "Message: '`class_mode` \"other\" is deprecated, please use `class_mode` \"raw\".'\n",
            "Arguments: (<class 'DeprecationWarning'>,)\n",
            "--- Logging error ---\n",
            "Traceback (most recent call last):\n",
            "  File \"/usr/lib/python3.7/logging/__init__.py\", line 1025, in emit\n",
            "    msg = self.format(record)\n",
            "  File \"/usr/lib/python3.7/logging/__init__.py\", line 869, in format\n",
            "    return fmt.format(record)\n",
            "  File \"/usr/lib/python3.7/logging/__init__.py\", line 608, in format\n",
            "    record.message = record.getMessage()\n",
            "  File \"/usr/lib/python3.7/logging/__init__.py\", line 369, in getMessage\n",
            "    msg = msg % self.args\n",
            "TypeError: not all arguments converted during string formatting\n",
            "Call stack:\n",
            "  File \"/usr/lib/python3.7/runpy.py\", line 193, in _run_module_as_main\n",
            "    \"__main__\", mod_spec)\n",
            "  File \"/usr/lib/python3.7/runpy.py\", line 85, in _run_code\n",
            "    exec(code, run_globals)\n",
            "  File \"/usr/local/lib/python3.7/dist-packages/ipykernel_launcher.py\", line 16, in <module>\n",
            "    app.launch_new_instance()\n",
            "  File \"/usr/local/lib/python3.7/dist-packages/traitlets/config/application.py\", line 846, in launch_instance\n",
            "    app.start()\n",
            "  File \"/usr/local/lib/python3.7/dist-packages/ipykernel/kernelapp.py\", line 499, in start\n",
            "    self.io_loop.start()\n",
            "  File \"/usr/local/lib/python3.7/dist-packages/tornado/platform/asyncio.py\", line 132, in start\n",
            "    self.asyncio_loop.run_forever()\n",
            "  File \"/usr/lib/python3.7/asyncio/base_events.py\", line 541, in run_forever\n",
            "    self._run_once()\n",
            "  File \"/usr/lib/python3.7/asyncio/base_events.py\", line 1786, in _run_once\n",
            "    handle._run()\n",
            "  File \"/usr/lib/python3.7/asyncio/events.py\", line 88, in _run\n",
            "    self._context.run(self._callback, *self._args)\n",
            "  File \"/usr/local/lib/python3.7/dist-packages/tornado/platform/asyncio.py\", line 122, in _handle_events\n",
            "    handler_func(fileobj, events)\n",
            "  File \"/usr/local/lib/python3.7/dist-packages/tornado/stack_context.py\", line 300, in null_wrapper\n",
            "    return fn(*args, **kwargs)\n",
            "  File \"/usr/local/lib/python3.7/dist-packages/zmq/eventloop/zmqstream.py\", line 452, in _handle_events\n",
            "    self._handle_recv()\n",
            "  File \"/usr/local/lib/python3.7/dist-packages/zmq/eventloop/zmqstream.py\", line 481, in _handle_recv\n",
            "    self._run_callback(callback, msg)\n",
            "  File \"/usr/local/lib/python3.7/dist-packages/zmq/eventloop/zmqstream.py\", line 431, in _run_callback\n",
            "    callback(*args, **kwargs)\n",
            "  File \"/usr/local/lib/python3.7/dist-packages/tornado/stack_context.py\", line 300, in null_wrapper\n",
            "    return fn(*args, **kwargs)\n",
            "  File \"/usr/local/lib/python3.7/dist-packages/ipykernel/kernelbase.py\", line 283, in dispatcher\n",
            "    return self.dispatch_shell(stream, msg)\n",
            "  File \"/usr/local/lib/python3.7/dist-packages/ipykernel/kernelbase.py\", line 233, in dispatch_shell\n",
            "    handler(stream, idents, msg)\n",
            "  File \"/usr/local/lib/python3.7/dist-packages/ipykernel/kernelbase.py\", line 399, in execute_request\n",
            "    user_expressions, allow_stdin)\n",
            "  File \"/usr/local/lib/python3.7/dist-packages/ipykernel/ipkernel.py\", line 208, in do_execute\n",
            "    res = shell.run_cell(code, store_history=store_history, silent=silent)\n",
            "  File \"/usr/local/lib/python3.7/dist-packages/ipykernel/zmqshell.py\", line 537, in run_cell\n",
            "    return super(ZMQInteractiveShell, self).run_cell(*args, **kwargs)\n",
            "  File \"/usr/local/lib/python3.7/dist-packages/IPython/core/interactiveshell.py\", line 2718, in run_cell\n",
            "    interactivity=interactivity, compiler=compiler, result=result)\n",
            "  File \"/usr/local/lib/python3.7/dist-packages/IPython/core/interactiveshell.py\", line 2822, in run_ast_nodes\n",
            "    if self.run_code(code, result):\n",
            "  File \"/usr/local/lib/python3.7/dist-packages/IPython/core/interactiveshell.py\", line 2882, in run_code\n",
            "    exec(code_obj, self.user_global_ns, self.user_ns)\n",
            "  File \"<ipython-input-29-710bbcbe35c6>\", line 1, in <module>\n",
            "    t,y= next(flow)\n",
            "  File \"<ipython-input-27-45e6e08a3945>\", line 10, in flow_from_dataframe\n",
            "    drop_duplicates=False)\n",
            "  File \"/usr/local/lib/python3.7/dist-packages/keras/preprocessing/image.py\", line 1115, in flow_from_dataframe\n",
            "    DeprecationWarning)\n",
            "  File \"/usr/local/lib/python3.7/dist-packages/tensorflow/python/platform/tf_logging.py\", line 178, in warning\n",
            "    get_logger().warning(msg, *args, **kwargs)\n",
            "Message: 'drop_duplicates is deprecated, you can drop duplicates by using the pandas.DataFrame.drop_duplicates method.'\n",
            "Arguments: (<class 'DeprecationWarning'>,)\n"
          ]
        },
        {
          "output_type": "stream",
          "name": "stdout",
          "text": [
            "Found 5058 validated image filenames.\n"
          ]
        }
      ],
      "source": [
        "t,y= next(flow)"
      ]
    },
    {
      "cell_type": "code",
      "execution_count": null,
      "metadata": {
        "id": "gzyKS4Io2Zpg"
      },
      "outputs": [],
      "source": [
        "from sklearn.model_selection import train_test_split\n",
        "X_train, X_test, y_train, y_test = train_test_split(t,y, \n",
        "                                   test_size = 0.30, \n",
        "                                   random_state = 2018)\n"
      ]
    },
    {
      "cell_type": "code",
      "execution_count": null,
      "metadata": {
        "colab": {
          "base_uri": "https://localhost:8080/"
        },
        "id": "14YAsyxV2Zpg",
        "outputId": "2ed07c4e-4e1f-4f02-ef7b-c6c90c81b2bb"
      },
      "outputs": [
        {
          "output_type": "stream",
          "name": "stdout",
          "text": [
            "Model: \"sequential_1\"\n",
            "_________________________________________________________________\n",
            " Layer (type)                Output Shape              Param #   \n",
            "=================================================================\n",
            " mobilenet_1.00_128 (Functio  (None, 4, 4, 1024)       3228288   \n",
            " nal)                                                            \n",
            "                                                                 \n",
            " global_average_pooling2d_1   (None, 1024)             0         \n",
            " (GlobalAveragePooling2D)                                        \n",
            "                                                                 \n",
            " dropout_2 (Dropout)         (None, 1024)              0         \n",
            "                                                                 \n",
            " dense_2 (Dense)             (None, 512)               524800    \n",
            "                                                                 \n",
            " dropout_3 (Dropout)         (None, 512)               0         \n",
            "                                                                 \n",
            " dense_3 (Dense)             (None, 1)                 513       \n",
            "                                                                 \n",
            "=================================================================\n",
            "Total params: 3,753,601\n",
            "Trainable params: 3,731,713\n",
            "Non-trainable params: 21,888\n",
            "_________________________________________________________________\n"
          ]
        }
      ],
      "source": [
        "from keras.applications.mobilenet import MobileNet\n",
        "from keras.layers import GlobalAveragePooling2D, Dense, Dropout, Flatten\n",
        "from keras.models import Sequential\n",
        "mobilenet_model = MobileNet(input_shape =  X_train.shape[1:], \n",
        "                                 include_top = False, weights = None)\n",
        "mobilenet_GAP_model = Sequential()\n",
        "mobilenet_GAP_model.add(mobilenet_model)\n",
        "mobilenet_GAP_model.add(GlobalAveragePooling2D())\n",
        "mobilenet_GAP_model.add(Dropout(0.5))\n",
        "mobilenet_GAP_model.add(Dense(512))\n",
        "mobilenet_GAP_model.add(Dropout(0.5))\n",
        "mobilenet_GAP_model.add(Dense(1, activation = 'sigmoid'))\n",
        "mobilenet_GAP_model.compile(optimizer = 'adam', loss = 'binary_crossentropy',\n",
        "                           metrics = ['binary_accuracy', 'mae'])\n",
        "mobilenet_GAP_model.summary()"
      ]
    },
    {
      "cell_type": "code",
      "execution_count": null,
      "metadata": {
        "id": "ALuw6h8Z2Zph"
      },
      "outputs": [],
      "source": [
        "from keras.callbacks import ModelCheckpoint, LearningRateScheduler, EarlyStopping, ReduceLROnPlateau\n",
        "weight_path=\"{}_weights.best.hdf5\".format('xray_class')\n",
        "\n",
        "checkpoint = ModelCheckpoint(weight_path, monitor='val_loss', verbose=1, \n",
        "                             save_best_only=True, mode='min', save_weights_only = True)\n",
        "\n",
        "early = EarlyStopping(monitor=\"val_loss\", \n",
        "                      mode=\"min\", \n",
        "                      patience=3)\n",
        "callbacks_list = [checkpoint, early]"
      ]
    },
    {
      "cell_type": "code",
      "execution_count": null,
      "metadata": {
        "colab": {
          "base_uri": "https://localhost:8080/"
        },
        "id": "-8SgCAIV2Zph",
        "outputId": "6faee664-aa7b-4534-a78f-6e9f47dbd81d"
      },
      "outputs": [
        {
          "output_type": "stream",
          "name": "stdout",
          "text": [
            "Epoch 1/10\n",
            "10/10 [==============================] - ETA: 0s - loss: 1.2674 - binary_accuracy: 0.5653 - mae: 0.4450 \n",
            "Epoch 00001: val_loss improved from inf to 0.68042, saving model to xray_class_weights.best.hdf5\n",
            "10/10 [==============================] - 248s 25s/step - loss: 1.2674 - binary_accuracy: 0.5653 - mae: 0.4450 - val_loss: 0.6804 - val_binary_accuracy: 0.6647 - val_mae: 0.4932\n",
            "Epoch 2/10\n",
            "10/10 [==============================] - ETA: 0s - loss: 0.9223 - binary_accuracy: 0.5946 - mae: 0.4290 \n",
            "Epoch 00002: val_loss improved from 0.68042 to 0.66302, saving model to xray_class_weights.best.hdf5\n",
            "10/10 [==============================] - 240s 24s/step - loss: 0.9223 - binary_accuracy: 0.5946 - mae: 0.4290 - val_loss: 0.6630 - val_binary_accuracy: 0.6647 - val_mae: 0.4820\n",
            "Epoch 3/10\n",
            "10/10 [==============================] - ETA: 0s - loss: 0.8693 - binary_accuracy: 0.6257 - mae: 0.4186 \n",
            "Epoch 00003: val_loss improved from 0.66302 to 0.65650, saving model to xray_class_weights.best.hdf5\n",
            "10/10 [==============================] - 239s 24s/step - loss: 0.8693 - binary_accuracy: 0.6257 - mae: 0.4186 - val_loss: 0.6565 - val_binary_accuracy: 0.6647 - val_mae: 0.4768\n",
            "Epoch 4/10\n",
            "10/10 [==============================] - ETA: 0s - loss: 0.7036 - binary_accuracy: 0.6421 - mae: 0.4053 \n",
            "Epoch 00004: val_loss improved from 0.65650 to 0.65104, saving model to xray_class_weights.best.hdf5\n",
            "10/10 [==============================] - 244s 25s/step - loss: 0.7036 - binary_accuracy: 0.6421 - mae: 0.4053 - val_loss: 0.6510 - val_binary_accuracy: 0.6647 - val_mae: 0.4718\n",
            "Epoch 5/10\n",
            "10/10 [==============================] - ETA: 0s - loss: 0.5957 - binary_accuracy: 0.7073 - mae: 0.3621 \n",
            "Epoch 00005: val_loss improved from 0.65104 to 0.64787, saving model to xray_class_weights.best.hdf5\n",
            "10/10 [==============================] - 240s 24s/step - loss: 0.5957 - binary_accuracy: 0.7073 - mae: 0.3621 - val_loss: 0.6479 - val_binary_accuracy: 0.6647 - val_mae: 0.4683\n",
            "Epoch 6/10\n",
            "10/10 [==============================] - ETA: 0s - loss: 0.3954 - binary_accuracy: 0.8345 - mae: 0.2438 \n",
            "Epoch 00006: val_loss improved from 0.64787 to 0.64296, saving model to xray_class_weights.best.hdf5\n",
            "10/10 [==============================] - 242s 24s/step - loss: 0.3954 - binary_accuracy: 0.8345 - mae: 0.2438 - val_loss: 0.6430 - val_binary_accuracy: 0.6647 - val_mae: 0.4618\n",
            "Epoch 7/10\n",
            "10/10 [==============================] - ETA: 0s - loss: 0.2997 - binary_accuracy: 0.8819 - mae: 0.1666 \n",
            "Epoch 00007: val_loss improved from 0.64296 to 0.64033, saving model to xray_class_weights.best.hdf5\n",
            "10/10 [==============================] - 246s 24s/step - loss: 0.2997 - binary_accuracy: 0.8819 - mae: 0.1666 - val_loss: 0.6403 - val_binary_accuracy: 0.6647 - val_mae: 0.4350\n",
            "Epoch 8/10\n",
            "10/10 [==============================] - ETA: 0s - loss: 0.3844 - binary_accuracy: 0.8410 - mae: 0.1965 \n",
            "Epoch 00008: val_loss improved from 0.64033 to 0.63788, saving model to xray_class_weights.best.hdf5\n",
            "10/10 [==============================] - 240s 24s/step - loss: 0.3844 - binary_accuracy: 0.8410 - mae: 0.1965 - val_loss: 0.6379 - val_binary_accuracy: 0.6647 - val_mae: 0.4451\n",
            "Epoch 9/10\n",
            "10/10 [==============================] - ETA: 0s - loss: 0.4273 - binary_accuracy: 0.8189 - mae: 0.2391 \n",
            "Epoch 00009: val_loss did not improve from 0.63788\n",
            "10/10 [==============================] - 245s 25s/step - loss: 0.4273 - binary_accuracy: 0.8189 - mae: 0.2391 - val_loss: 0.6391 - val_binary_accuracy: 0.6647 - val_mae: 0.4535\n",
            "Epoch 10/10\n",
            "10/10 [==============================] - ETA: 0s - loss: 0.3612 - binary_accuracy: 0.8429 - mae: 0.2210 \n",
            "Epoch 00010: val_loss did not improve from 0.63788\n",
            "10/10 [==============================] - 242s 24s/step - loss: 0.3612 - binary_accuracy: 0.8429 - mae: 0.2210 - val_loss: 0.6409 - val_binary_accuracy: 0.6647 - val_mae: 0.4338\n"
          ]
        }
      ],
      "source": [
        "history_mobilenet_GAP = mobilenet_GAP_model.fit(X_train,y_train,\n",
        "                                  steps_per_epoch=10,\n",
        "                                  validation_data = (X_test, y_test), \n",
        "                                  epochs = 10, \n",
        "                                  callbacks = callbacks_list)"
      ]
    },
    {
      "cell_type": "code",
      "execution_count": null,
      "metadata": {
        "colab": {
          "base_uri": "https://localhost:8080/"
        },
        "id": "gU4mNTBL2Zph",
        "outputId": "313fdcdf-d39a-44af-d287-c9cdaec03411"
      },
      "outputs": [
        {
          "output_type": "stream",
          "name": "stdout",
          "text": [
            "48/48 [==============================] - 17s 334ms/step\n"
          ]
        }
      ],
      "source": [
        "pred_Y = mobilenet_GAP_model.predict(X_test, \n",
        "                          batch_size = 32, \n",
        "                          verbose = True)"
      ]
    },
    {
      "cell_type": "code",
      "execution_count": null,
      "metadata": {
        "colab": {
          "base_uri": "https://localhost:8080/"
        },
        "id": "TO_xmXSI2Zph",
        "outputId": "fd32dce5-21dd-41da-dca4-b40739c30cd5"
      },
      "outputs": [
        {
          "output_type": "execute_result",
          "data": {
            "text/plain": [
              "array([[0.2990173 ],\n",
              "       [0.2990173 ],\n",
              "       [0.2990173 ],\n",
              "       ...,\n",
              "       [0.2990173 ],\n",
              "       [0.29901737],\n",
              "       [0.29901737]], dtype=float32)"
            ]
          },
          "metadata": {},
          "execution_count": 35
        }
      ],
      "source": [
        "pred_Y"
      ]
    },
    {
      "cell_type": "code",
      "execution_count": null,
      "metadata": {
        "colab": {
          "base_uri": "https://localhost:8080/"
        },
        "id": "4rEiaXim2Zpi",
        "outputId": "b8765b12-a0e9-4f40-c8d2-eb03edfef7db"
      },
      "outputs": [
        {
          "output_type": "execute_result",
          "data": {
            "text/plain": [
              "array([0.29901728], dtype=float32)"
            ]
          },
          "metadata": {},
          "execution_count": 36
        }
      ],
      "source": [
        "min(pred_Y)"
      ]
    },
    {
      "cell_type": "code",
      "execution_count": null,
      "metadata": {
        "colab": {
          "base_uri": "https://localhost:8080/"
        },
        "id": "Iz8CEJZw2Zpi",
        "outputId": "8ede086c-709b-4b7d-c006-63cf97a5accc"
      },
      "outputs": [
        {
          "output_type": "stream",
          "name": "stdout",
          "text": [
            "test accuracy =  0.664690375328064\n"
          ]
        }
      ],
      "source": [
        "print('test accuracy = ',mobilenet_GAP_model.evaluate(X_test,y_test, verbose=0)[1])"
      ]
    },
    {
      "cell_type": "code",
      "execution_count": null,
      "metadata": {
        "colab": {
          "base_uri": "https://localhost:8080/"
        },
        "id": "2oXd3zlc2Zpi",
        "outputId": "b0be62fb-a6be-4bb6-914c-6b94986c1c00"
      },
      "outputs": [
        {
          "output_type": "stream",
          "name": "stdout",
          "text": [
            "roc score =  0.5135158816233466\n"
          ]
        }
      ],
      "source": [
        "from sklearn.metrics import roc_auc_score\n",
        "print('roc score = ',roc_auc_score(y_test.astype(int), pred_Y))"
      ]
    },
    {
      "cell_type": "code",
      "execution_count": null,
      "metadata": {
        "colab": {
          "base_uri": "https://localhost:8080/",
          "height": 430
        },
        "id": "Qx8QKSIM2Zpj",
        "outputId": "bec88fe3-ad34-4cb7-cf03-818c5b619d56"
      },
      "outputs": [
        {
          "output_type": "stream",
          "name": "stdout",
          "text": [
            "              precision    recall  f1-score   support\n",
            "\n",
            " No Fibrosis       0.76      0.05      0.09      1009\n",
            "    Fibrosis       0.34      0.97      0.50       509\n",
            "\n",
            "    accuracy                           0.36      1518\n",
            "   macro avg       0.55      0.51      0.30      1518\n",
            "weighted avg       0.62      0.36      0.23      1518\n",
            "\n"
          ]
        },
        {
          "output_type": "display_data",
          "data": {
            "image/png": "[encoded data removed]",
            "text/plain": [
              "<Figure size 288x288 with 1 Axes>"
            ]
          },
          "metadata": {}
        }
      ],
      "source": [
        "from sklearn.metrics import classification_report, confusion_matrix\n",
        "plt.matshow(confusion_matrix(y_test, pred_Y>0.29901728))\n",
        "print(classification_report(y_test, pred_Y>0.29901728, target_names = ['No Fibrosis', 'Fibrosis']))"
      ]
    },
    {
      "cell_type": "markdown",
      "metadata": {
        "id": "FbNxkcjB2aZL"
      },
      "source": [
        "## **Hernia**"
      ]
    },
    {
      "cell_type": "code",
      "execution_count": null,
      "metadata": {
        "colab": {
          "base_uri": "https://localhost:8080/",
          "height": 266
        },
        "id": "xnDrRdGF2a2H",
        "outputId": "f0e01cc6-3fd9-4cb9-be24-ad5befdaa0f2"
      },
      "outputs": [
        {
          "output_type": "stream",
          "name": "stdout",
          "text": [
            "0    452\n",
            "1    227\n",
            "Name: Hernia, dtype: int64\n"
          ]
        },
        {
          "output_type": "execute_result",
          "data": {
            "text/plain": [
              "<seaborn.axisgrid.PairGrid at 0x7f7afb92b390>"
            ]
          },
          "metadata": {},
          "execution_count": 40
        },
        {
          "output_type": "display_data",
          "data": {
            "image/png": "[encoded data removed]",
            "text/plain": [
              "<Figure size 221x180 with 2 Axes>"
            ]
          },
          "metadata": {}
        }
      ],
      "source": [
        "positive_cases = np.sum(all_xray_df['Hernia']==True)//2\n",
        "oversample_factor = 4 # maximum number of cases in negative group so it isn't super rare\n",
        "more_balanced_df = all_xray_df.groupby(['Hernia']).apply(lambda x: x.sample(min(oversample_factor*positive_cases, x.shape[0]), \n",
        "                                                                                   replace = False)\n",
        "                                                      ).reset_index(drop = True)\n",
        "\n",
        "print(more_balanced_df['Hernia'].value_counts())\n",
        "sns.pairplot(more_balanced_df[['Patient Age', 'Hernia']], hue='Hernia')"
      ]
    },
    {
      "cell_type": "code",
      "execution_count": null,
      "metadata": {
        "colab": {
          "base_uri": "https://localhost:8080/",
          "height": 284
        },
        "id": "cZSKFb6Y2a2J",
        "outputId": "bab3d8da-c45e-4551-a141-7aa2b6adb5f5"
      },
      "outputs": [
        {
          "output_type": "stream",
          "name": "stdout",
          "text": [
            "train 475 validation 122 test 82\n",
            "train 0    316\n",
            "1    159\n",
            "Name: Hernia, dtype: int64\n",
            "test 0    55\n",
            "1    27\n",
            "Name: Hernia, dtype: int64\n"
          ]
        },
        {
          "output_type": "execute_result",
          "data": {
            "text/html": [
              "\n",
              "  <div id=\"df-d812104d-54dd-434f-a28e-ce9d7dbb8b18\">\n",
              "    <div class=\"colab-df-container\">\n",
              "      <div>\n",
              "<style scoped>\n",
              "    .dataframe tbody tr th:only-of-type {\n",
              "        vertical-align: middle;\n",
              "    }\n",
              "\n",
              "    .dataframe tbody tr th {\n",
              "        vertical-align: top;\n",
              "    }\n",
              "\n",
              "    .dataframe thead th {\n",
              "        text-align: right;\n",
              "    }\n",
              "</style>\n",
              "<table border=\"1\" class=\"dataframe\">\n",
              "  <thead>\n",
              "    <tr style=\"text-align: right;\">\n",
              "      <th></th>\n",
              "      <th>Image Index</th>\n",
              "      <th>Finding Labels</th>\n",
              "      <th>Follow-up #</th>\n",
              "      <th>Patient ID</th>\n",
              "      <th>Patient Age</th>\n",
              "      <th>Patient Gender</th>\n",
              "      <th>View Position</th>\n",
              "      <th>OriginalImage[Width</th>\n",
              "      <th>Height]</th>\n",
              "      <th>OriginalImagePixelSpacing[x</th>\n",
              "      <th>y]</th>\n",
              "      <th>path</th>\n",
              "      <th>Pneumonia</th>\n",
              "      <th>Patient Male</th>\n",
              "      <th>Cardiomegaly</th>\n",
              "      <th>Emphysema</th>\n",
              "      <th>Effusion</th>\n",
              "      <th>Hernia</th>\n",
              "      <th>Nodule</th>\n",
              "      <th>Pneumothorax</th>\n",
              "      <th>Atelectasis</th>\n",
              "      <th>Pleural_Thickening</th>\n",
              "      <th>Mass</th>\n",
              "      <th>Edema</th>\n",
              "      <th>Consolidation</th>\n",
              "      <th>Infiltration</th>\n",
              "      <th>Fibrosis</th>\n",
              "      <th>Nothing</th>\n",
              "    </tr>\n",
              "  </thead>\n",
              "  <tbody>\n",
              "    <tr>\n",
              "      <th>175</th>\n",
              "      <td>00021552_016.png</td>\n",
              "      <td>Atelectasis|Infiltration|Mass|Pleural_Thickening</td>\n",
              "      <td>3</td>\n",
              "      <td>21552</td>\n",
              "      <td>50</td>\n",
              "      <td>M</td>\n",
              "      <td>PA</td>\n",
              "      <td>2992</td>\n",
              "      <td>2991</td>\n",
              "      <td>0.143</td>\n",
              "      <td>0.143</td>\n",
              "      <td>/content/drive/MyDrive/Images/image10/00021552...</td>\n",
              "      <td>False</td>\n",
              "      <td>1.0</td>\n",
              "      <td>0</td>\n",
              "      <td>0</td>\n",
              "      <td>0</td>\n",
              "      <td>0</td>\n",
              "      <td>0</td>\n",
              "      <td>0</td>\n",
              "      <td>1</td>\n",
              "      <td>1</td>\n",
              "      <td>1</td>\n",
              "      <td>0</td>\n",
              "      <td>0</td>\n",
              "      <td>1</td>\n",
              "      <td>0</td>\n",
              "      <td>0</td>\n",
              "    </tr>\n",
              "  </tbody>\n",
              "</table>\n",
              "</div>\n",
              "      <button class=\"colab-df-convert\" onclick=\"convertToInteractive('df-d812104d-54dd-434f-a28e-ce9d7dbb8b18')\"\n",
              "              title=\"Convert this dataframe to an interactive table.\"\n",
              "              style=\"display:none;\">\n",
              "        \n",
              "  <svg xmlns=\"http://www.w3.org/2000/svg\" height=\"24px\"viewBox=\"0 0 24 24\"\n",
              "       width=\"24px\">\n",
              "    <path d=\"M0 0h24v24H0V0z\" fill=\"none\"/>\n",
              "    <path d=\"M18.56 5.44l.94 2.06.94-2.06 2.06-.94-2.06-.94-.94-2.06-.94 2.06-2.06.94zm-11 1L8.5 8.5l.94-2.06 2.06-.94-2.06-.94L8.5 2.5l-.94 2.06-2.06.94zm10 10l.94 2.06.94-2.06 2.06-.94-2.06-.94-.94-2.06-.94 2.06-2.06.94z\"/><path d=\"M17.41 7.96l-1.37-1.37c-.4-.4-.92-.59-1.43-.59-.52 0-1.04.2-1.43.59L10.3 9.45l-7.72 7.72c-.78.78-.78 2.05 0 2.83L4 21.41c.39.39.9.59 1.41.59.51 0 1.02-.2 1.41-.59l7.78-7.78 2.81-2.81c.8-.78.8-2.07 0-2.86zM5.41 20L4 18.59l7.72-7.72 1.47 1.35L5.41 20z\"/>\n",
              "  </svg>\n",
              "      </button>\n",
              "      \n",
              "  <style>\n",
              "    .colab-df-container {\n",
              "      display:flex;\n",
              "      flex-wrap:wrap;\n",
              "      gap: 12px;\n",
              "    }\n",
              "\n",
              "    .colab-df-convert {\n",
              "      background-color: #E8F0FE;\n",
              "      border: none;\n",
              "      border-radius: 50%;\n",
              "      cursor: pointer;\n",
              "      display: none;\n",
              "      fill: #1967D2;\n",
              "      height: 32px;\n",
              "      padding: 0 0 0 0;\n",
              "      width: 32px;\n",
              "    }\n",
              "\n",
              "    .colab-df-convert:hover {\n",
              "      background-color: #E2EBFA;\n",
              "      box-shadow: 0px 1px 2px rgba(60, 64, 67, 0.3), 0px 1px 3px 1px rgba(60, 64, 67, 0.15);\n",
              "      fill: #174EA6;\n",
              "    }\n",
              "\n",
              "    [theme=dark] .colab-df-convert {\n",
              "      background-color: #3B4455;\n",
              "      fill: #D2E3FC;\n",
              "    }\n",
              "\n",
              "    [theme=dark] .colab-df-convert:hover {\n",
              "      background-color: #434B5C;\n",
              "      box-shadow: 0px 1px 3px 1px rgba(0, 0, 0, 0.15);\n",
              "      filter: drop-shadow(0px 1px 2px rgba(0, 0, 0, 0.3));\n",
              "      fill: #FFFFFF;\n",
              "    }\n",
              "  </style>\n",
              "\n",
              "      <script>\n",
              "        const buttonEl =\n",
              "          document.querySelector('#df-d812104d-54dd-434f-a28e-ce9d7dbb8b18 button.colab-df-convert');\n",
              "        buttonEl.style.display =\n",
              "          google.colab.kernel.accessAllowed ? 'block' : 'none';\n",
              "\n",
              "        async function convertToInteractive(key) {\n",
              "          const element = document.querySelector('#df-d812104d-54dd-434f-a28e-ce9d7dbb8b18');\n",
              "          const dataTable =\n",
              "            await google.colab.kernel.invokeFunction('convertToInteractive',\n",
              "                                                     [key], {});\n",
              "          if (!dataTable) return;\n",
              "\n",
              "          const docLinkHtml = 'Like what you see? Visit the ' +\n",
              "            '<a target=\"_blank\" href=https://colab.research.google.com/notebooks/data_table.ipynb>data table notebook</a>'\n",
              "            + ' to learn more about interactive tables.';\n",
              "          element.innerHTML = '';\n",
              "          dataTable['output_type'] = 'display_data';\n",
              "          await google.colab.output.renderOutput(dataTable, element);\n",
              "          const docLink = document.createElement('div');\n",
              "          docLink.innerHTML = docLinkHtml;\n",
              "          element.appendChild(docLink);\n",
              "        }\n",
              "      </script>\n",
              "    </div>\n",
              "  </div>\n",
              "  "
            ],
            "text/plain": [
              "          Image Index  ... Nothing\n",
              "175  00021552_016.png  ...       0\n",
              "\n",
              "[1 rows x 28 columns]"
            ]
          },
          "metadata": {},
          "execution_count": 41
        }
      ],
      "source": [
        "from sklearn.model_selection import train_test_split\n",
        "raw_train_df, test_valid_df = train_test_split(more_balanced_df, \n",
        "                                   test_size = 0.30, \n",
        "                                   random_state = 2018,\n",
        "                                   stratify = more_balanced_df[['Hernia']])\n",
        "valid_df, test_df = train_test_split(test_valid_df, \n",
        "                                   test_size = 0.40, \n",
        "                                   random_state = 2018,\n",
        "                                   stratify = test_valid_df[['Hernia']])\n",
        "print('train', raw_train_df.shape[0], 'validation', valid_df.shape[0], 'test', test_df.shape[0])\n",
        "print('train', raw_train_df['Hernia'].value_counts())\n",
        "print('test', test_df['Hernia'].value_counts())\n",
        "raw_train_df.sample(1)"
      ]
    },
    {
      "cell_type": "code",
      "execution_count": null,
      "metadata": {
        "colab": {
          "base_uri": "https://localhost:8080/"
        },
        "id": "rNrUL3JT2a2J",
        "outputId": "153e736e-83e5-4269-fba8-8928aee0e822"
      },
      "outputs": [
        {
          "output_type": "stream",
          "name": "stdout",
          "text": [
            "New Data Size: 120000 Old Size: 475\n"
          ]
        }
      ],
      "source": [
        "train_df = raw_train_df.groupby(['Hernia']).apply(lambda x: x.sample(60000, replace = True)\n",
        "                                                      ).reset_index(drop = True)\n",
        "print('New Data Size:', train_df.shape[0], 'Old Size:', raw_train_df.shape[0])"
      ]
    },
    {
      "cell_type": "code",
      "execution_count": null,
      "metadata": {
        "id": "ebwJuQdx2a2K"
      },
      "outputs": [],
      "source": [
        "from keras.preprocessing.image import ImageDataGenerator\n",
        "idg = ImageDataGenerator(zoom_range=0.2,\n",
        "                           fill_mode='nearest',\n",
        "                           rotation_range=25,  \n",
        "                           width_shift_range=0.25,  \n",
        "                           height_shift_range=0.25,  \n",
        "                           vertical_flip=False, \n",
        "                           horizontal_flip=True,\n",
        "                           shear_range = 0.2,\n",
        "                           samplewise_center=False, \n",
        "                           samplewise_std_normalization=False)\n"
      ]
    },
    {
      "cell_type": "code",
      "execution_count": null,
      "metadata": {
        "id": "xqX1c6Ra2a2L"
      },
      "outputs": [],
      "source": [
        "SEED= 10\n",
        "IMG_SIZE = (128, 128) \n",
        "####\n",
        "def flow_from_dataframe(imgDatGen, df, batch_size, seed, img_size):\n",
        "    #gc.collect()\n",
        "    gen_img = imgDatGen.flow_from_dataframe(dataframe=more_balanced_df,\n",
        "        x_col='path', y_col='Hernia',\n",
        "        batch_size=batch_size, seed=seed, shuffle=True, class_mode='other',\n",
        "        target_size=img_size, color_mode='grayscale',\n",
        "        drop_duplicates=False)\n",
        "\n",
        "    \n",
        "        \n",
        "    while True:\n",
        "        X1i = gen_img.next()\n",
        "        #X2i = gen_img.next()\n",
        "        #gc.collect()\n",
        "        yield [X1i[0], X1i[1]]"
      ]
    },
    {
      "cell_type": "code",
      "execution_count": null,
      "metadata": {
        "id": "S3-Q34h82a2M"
      },
      "outputs": [],
      "source": [
        "flow = flow_from_dataframe(idg, more_balanced_df, 7151, SEED, IMG_SIZE)"
      ]
    },
    {
      "cell_type": "code",
      "execution_count": null,
      "metadata": {
        "colab": {
          "base_uri": "https://localhost:8080/"
        },
        "id": "I_cmA3Md2a2M",
        "outputId": "e374b0fe-2ca2-4fbc-d503-a58c3d33d876"
      },
      "outputs": [
        {
          "metadata": {
            "tags": null
          },
          "name": "stderr",
          "output_type": "stream",
          "text": [
            "--- Logging error ---\n",
            "Traceback (most recent call last):\n",
            "  File \"/usr/lib/python3.7/logging/__init__.py\", line 1025, in emit\n",
            "    msg = self.format(record)\n",
            "  File \"/usr/lib/python3.7/logging/__init__.py\", line 869, in format\n",
            "    return fmt.format(record)\n",
            "  File \"/usr/lib/python3.7/logging/__init__.py\", line 608, in format\n",
            "    record.message = record.getMessage()\n",
            "  File \"/usr/lib/python3.7/logging/__init__.py\", line 369, in getMessage\n",
            "    msg = msg % self.args\n",
            "TypeError: not all arguments converted during string formatting\n",
            "Call stack:\n",
            "  File \"/usr/lib/python3.7/runpy.py\", line 193, in _run_module_as_main\n",
            "    \"__main__\", mod_spec)\n",
            "  File \"/usr/lib/python3.7/runpy.py\", line 85, in _run_code\n",
            "    exec(code, run_globals)\n",
            "  File \"/usr/local/lib/python3.7/dist-packages/ipykernel_launcher.py\", line 16, in <module>\n",
            "    app.launch_new_instance()\n",
            "  File \"/usr/local/lib/python3.7/dist-packages/traitlets/config/application.py\", line 846, in launch_instance\n",
            "    app.start()\n",
            "  File \"/usr/local/lib/python3.7/dist-packages/ipykernel/kernelapp.py\", line 499, in start\n",
            "    self.io_loop.start()\n",
            "  File \"/usr/local/lib/python3.7/dist-packages/tornado/platform/asyncio.py\", line 132, in start\n",
            "    self.asyncio_loop.run_forever()\n",
            "  File \"/usr/lib/python3.7/asyncio/base_events.py\", line 541, in run_forever\n",
            "    self._run_once()\n",
            "  File \"/usr/lib/python3.7/asyncio/base_events.py\", line 1786, in _run_once\n",
            "    handle._run()\n",
            "  File \"/usr/lib/python3.7/asyncio/events.py\", line 88, in _run\n",
            "    self._context.run(self._callback, *self._args)\n",
            "  File \"/usr/local/lib/python3.7/dist-packages/tornado/platform/asyncio.py\", line 122, in _handle_events\n",
            "    handler_func(fileobj, events)\n",
            "  File \"/usr/local/lib/python3.7/dist-packages/tornado/stack_context.py\", line 300, in null_wrapper\n",
            "    return fn(*args, **kwargs)\n",
            "  File \"/usr/local/lib/python3.7/dist-packages/zmq/eventloop/zmqstream.py\", line 452, in _handle_events\n",
            "    self._handle_recv()\n",
            "  File \"/usr/local/lib/python3.7/dist-packages/zmq/eventloop/zmqstream.py\", line 481, in _handle_recv\n",
            "    self._run_callback(callback, msg)\n",
            "  File \"/usr/local/lib/python3.7/dist-packages/zmq/eventloop/zmqstream.py\", line 431, in _run_callback\n",
            "    callback(*args, **kwargs)\n",
            "  File \"/usr/local/lib/python3.7/dist-packages/tornado/stack_context.py\", line 300, in null_wrapper\n",
            "    return fn(*args, **kwargs)\n",
            "  File \"/usr/local/lib/python3.7/dist-packages/ipykernel/kernelbase.py\", line 283, in dispatcher\n",
            "    return self.dispatch_shell(stream, msg)\n",
            "  File \"/usr/local/lib/python3.7/dist-packages/ipykernel/kernelbase.py\", line 233, in dispatch_shell\n",
            "    handler(stream, idents, msg)\n",
            "  File \"/usr/local/lib/python3.7/dist-packages/ipykernel/kernelbase.py\", line 399, in execute_request\n",
            "    user_expressions, allow_stdin)\n",
            "  File \"/usr/local/lib/python3.7/dist-packages/ipykernel/ipkernel.py\", line 208, in do_execute\n",
            "    res = shell.run_cell(code, store_history=store_history, silent=silent)\n",
            "  File \"/usr/local/lib/python3.7/dist-packages/ipykernel/zmqshell.py\", line 537, in run_cell\n",
            "    return super(ZMQInteractiveShell, self).run_cell(*args, **kwargs)\n",
            "  File \"/usr/local/lib/python3.7/dist-packages/IPython/core/interactiveshell.py\", line 2718, in run_cell\n",
            "    interactivity=interactivity, compiler=compiler, result=result)\n",
            "  File \"/usr/local/lib/python3.7/dist-packages/IPython/core/interactiveshell.py\", line 2822, in run_ast_nodes\n",
            "    if self.run_code(code, result):\n",
            "  File \"/usr/local/lib/python3.7/dist-packages/IPython/core/interactiveshell.py\", line 2882, in run_code\n",
            "    exec(code_obj, self.user_global_ns, self.user_ns)\n",
            "  File \"<ipython-input-46-710bbcbe35c6>\", line 1, in <module>\n",
            "    t,y= next(flow)\n",
            "  File \"<ipython-input-44-5c17a1f09a1f>\", line 10, in flow_from_dataframe\n",
            "    drop_duplicates=False)\n",
            "  File \"/usr/local/lib/python3.7/dist-packages/keras/preprocessing/image.py\", line 1109, in flow_from_dataframe\n",
            "    '`class_mode` \"raw\".', DeprecationWarning)\n",
            "  File \"/usr/local/lib/python3.7/dist-packages/tensorflow/python/platform/tf_logging.py\", line 178, in warning\n",
            "    get_logger().warning(msg, *args, **kwargs)\n",
            "Message: '`class_mode` \"other\" is deprecated, please use `class_mode` \"raw\".'\n",
            "Arguments: (<class 'DeprecationWarning'>,)\n",
            "--- Logging error ---\n",
            "Traceback (most recent call last):\n",
            "  File \"/usr/lib/python3.7/logging/__init__.py\", line 1025, in emit\n",
            "    msg = self.format(record)\n",
            "  File \"/usr/lib/python3.7/logging/__init__.py\", line 869, in format\n",
            "    return fmt.format(record)\n",
            "  File \"/usr/lib/python3.7/logging/__init__.py\", line 608, in format\n",
            "    record.message = record.getMessage()\n",
            "  File \"/usr/lib/python3.7/logging/__init__.py\", line 369, in getMessage\n",
            "    msg = msg % self.args\n",
            "TypeError: not all arguments converted during string formatting\n",
            "Call stack:\n",
            "  File \"/usr/lib/python3.7/runpy.py\", line 193, in _run_module_as_main\n",
            "    \"__main__\", mod_spec)\n",
            "  File \"/usr/lib/python3.7/runpy.py\", line 85, in _run_code\n",
            "    exec(code, run_globals)\n",
            "  File \"/usr/local/lib/python3.7/dist-packages/ipykernel_launcher.py\", line 16, in <module>\n",
            "    app.launch_new_instance()\n",
            "  File \"/usr/local/lib/python3.7/dist-packages/traitlets/config/application.py\", line 846, in launch_instance\n",
            "    app.start()\n",
            "  File \"/usr/local/lib/python3.7/dist-packages/ipykernel/kernelapp.py\", line 499, in start\n",
            "    self.io_loop.start()\n",
            "  File \"/usr/local/lib/python3.7/dist-packages/tornado/platform/asyncio.py\", line 132, in start\n",
            "    self.asyncio_loop.run_forever()\n",
            "  File \"/usr/lib/python3.7/asyncio/base_events.py\", line 541, in run_forever\n",
            "    self._run_once()\n",
            "  File \"/usr/lib/python3.7/asyncio/base_events.py\", line 1786, in _run_once\n",
            "    handle._run()\n",
            "  File \"/usr/lib/python3.7/asyncio/events.py\", line 88, in _run\n",
            "    self._context.run(self._callback, *self._args)\n",
            "  File \"/usr/local/lib/python3.7/dist-packages/tornado/platform/asyncio.py\", line 122, in _handle_events\n",
            "    handler_func(fileobj, events)\n",
            "  File \"/usr/local/lib/python3.7/dist-packages/tornado/stack_context.py\", line 300, in null_wrapper\n",
            "    return fn(*args, **kwargs)\n",
            "  File \"/usr/local/lib/python3.7/dist-packages/zmq/eventloop/zmqstream.py\", line 452, in _handle_events\n",
            "    self._handle_recv()\n",
            "  File \"/usr/local/lib/python3.7/dist-packages/zmq/eventloop/zmqstream.py\", line 481, in _handle_recv\n",
            "    self._run_callback(callback, msg)\n",
            "  File \"/usr/local/lib/python3.7/dist-packages/zmq/eventloop/zmqstream.py\", line 431, in _run_callback\n",
            "    callback(*args, **kwargs)\n",
            "  File \"/usr/local/lib/python3.7/dist-packages/tornado/stack_context.py\", line 300, in null_wrapper\n",
            "    return fn(*args, **kwargs)\n",
            "  File \"/usr/local/lib/python3.7/dist-packages/ipykernel/kernelbase.py\", line 283, in dispatcher\n",
            "    return self.dispatch_shell(stream, msg)\n",
            "  File \"/usr/local/lib/python3.7/dist-packages/ipykernel/kernelbase.py\", line 233, in dispatch_shell\n",
            "    handler(stream, idents, msg)\n",
            "  File \"/usr/local/lib/python3.7/dist-packages/ipykernel/kernelbase.py\", line 399, in execute_request\n",
            "    user_expressions, allow_stdin)\n",
            "  File \"/usr/local/lib/python3.7/dist-packages/ipykernel/ipkernel.py\", line 208, in do_execute\n",
            "    res = shell.run_cell(code, store_history=store_history, silent=silent)\n",
            "  File \"/usr/local/lib/python3.7/dist-packages/ipykernel/zmqshell.py\", line 537, in run_cell\n",
            "    return super(ZMQInteractiveShell, self).run_cell(*args, **kwargs)\n",
            "  File \"/usr/local/lib/python3.7/dist-packages/IPython/core/interactiveshell.py\", line 2718, in run_cell\n",
            "    interactivity=interactivity, compiler=compiler, result=result)\n",
            "  File \"/usr/local/lib/python3.7/dist-packages/IPython/core/interactiveshell.py\", line 2822, in run_ast_nodes\n",
            "    if self.run_code(code, result):\n",
            "  File \"/usr/local/lib/python3.7/dist-packages/IPython/core/interactiveshell.py\", line 2882, in run_code\n",
            "    exec(code_obj, self.user_global_ns, self.user_ns)\n",
            "  File \"<ipython-input-46-710bbcbe35c6>\", line 1, in <module>\n",
            "    t,y= next(flow)\n",
            "  File \"<ipython-input-44-5c17a1f09a1f>\", line 10, in flow_from_dataframe\n",
            "    drop_duplicates=False)\n",
            "  File \"/usr/local/lib/python3.7/dist-packages/keras/preprocessing/image.py\", line 1115, in flow_from_dataframe\n",
            "    DeprecationWarning)\n",
            "  File \"/usr/local/lib/python3.7/dist-packages/tensorflow/python/platform/tf_logging.py\", line 178, in warning\n",
            "    get_logger().warning(msg, *args, **kwargs)\n",
            "Message: 'drop_duplicates is deprecated, you can drop duplicates by using the pandas.DataFrame.drop_duplicates method.'\n",
            "Arguments: (<class 'DeprecationWarning'>,)\n"
          ]
        },
        {
          "metadata": {
            "tags": null
          },
          "name": "stdout",
          "output_type": "stream",
          "text": [
            "Found 679 validated image filenames.\n"
          ]
        }
      ],
      "source": [
        "t,y= next(flow)"
      ]
    },
    {
      "cell_type": "code",
      "execution_count": null,
      "metadata": {
        "id": "pbQDhoh02a2M"
      },
      "outputs": [],
      "source": [
        "from sklearn.model_selection import train_test_split\n",
        "X_train, X_test, y_train, y_test = train_test_split(t,y, \n",
        "                                   test_size = 0.30, \n",
        "                                   random_state = 2018)\n"
      ]
    },
    {
      "cell_type": "code",
      "execution_count": null,
      "metadata": {
        "colab": {
          "base_uri": "https://localhost:8080/"
        },
        "id": "zGM26vBN2a2M",
        "outputId": "12ff5251-b31c-45b2-eb80-1cf3f3b35c7c"
      },
      "outputs": [
        {
          "output_type": "stream",
          "name": "stdout",
          "text": [
            "Model: \"sequential_2\"\n",
            "_________________________________________________________________\n",
            " Layer (type)                Output Shape              Param #   \n",
            "=================================================================\n",
            " mobilenet_1.00_128 (Functio  (None, 4, 4, 1024)       3228288   \n",
            " nal)                                                            \n",
            "                                                                 \n",
            " global_average_pooling2d_2   (None, 1024)             0         \n",
            " (GlobalAveragePooling2D)                                        \n",
            "                                                                 \n",
            " dropout_4 (Dropout)         (None, 1024)              0         \n",
            "                                                                 \n",
            " dense_4 (Dense)             (None, 512)               524800    \n",
            "                                                                 \n",
            " dropout_5 (Dropout)         (None, 512)               0         \n",
            "                                                                 \n",
            " dense_5 (Dense)             (None, 1)                 513       \n",
            "                                                                 \n",
            "=================================================================\n",
            "Total params: 3,753,601\n",
            "Trainable params: 3,731,713\n",
            "Non-trainable params: 21,888\n",
            "_________________________________________________________________\n"
          ]
        }
      ],
      "source": [
        "from keras.applications.mobilenet import MobileNet\n",
        "from keras.layers import GlobalAveragePooling2D, Dense, Dropout, Flatten\n",
        "from keras.models import Sequential\n",
        "mobilenet_model = MobileNet(input_shape =  X_train.shape[1:], \n",
        "                                 include_top = False, weights = None)\n",
        "mobilenet_GAP_model = Sequential()\n",
        "mobilenet_GAP_model.add(mobilenet_model)\n",
        "mobilenet_GAP_model.add(GlobalAveragePooling2D())\n",
        "mobilenet_GAP_model.add(Dropout(0.5))\n",
        "mobilenet_GAP_model.add(Dense(512))\n",
        "mobilenet_GAP_model.add(Dropout(0.5))\n",
        "mobilenet_GAP_model.add(Dense(1, activation = 'sigmoid'))\n",
        "mobilenet_GAP_model.compile(optimizer = 'adam', loss = 'binary_crossentropy',\n",
        "                           metrics = ['binary_accuracy', 'mae'])\n",
        "mobilenet_GAP_model.summary()"
      ]
    },
    {
      "cell_type": "code",
      "execution_count": null,
      "metadata": {
        "id": "zTAKXY2d2a2N"
      },
      "outputs": [],
      "source": [
        "from keras.callbacks import ModelCheckpoint, LearningRateScheduler, EarlyStopping, ReduceLROnPlateau\n",
        "weight_path=\"{}_weights.best.hdf5\".format('xray_class')\n",
        "\n",
        "checkpoint = ModelCheckpoint(weight_path, monitor='val_loss', verbose=1, \n",
        "                             save_best_only=True, mode='min', save_weights_only = True)\n",
        "\n",
        "early = EarlyStopping(monitor=\"val_loss\", \n",
        "                      mode=\"min\", \n",
        "                      patience=3)\n",
        "callbacks_list = [checkpoint, early]"
      ]
    },
    {
      "cell_type": "code",
      "execution_count": null,
      "metadata": {
        "colab": {
          "base_uri": "https://localhost:8080/"
        },
        "id": "b1I-ecyA2a2N",
        "outputId": "879e548c-c866-4aef-d729-ce689b7ae2ea"
      },
      "outputs": [
        {
          "output_type": "stream",
          "name": "stdout",
          "text": [
            "Epoch 1/10\n",
            "10/10 [==============================] - ETA: 0s - loss: 1.4305 - binary_accuracy: 0.5789 - mae: 0.4107\n",
            "Epoch 00001: val_loss improved from inf to 0.68628, saving model to xray_class_weights.best.hdf5\n",
            "10/10 [==============================] - 35s 3s/step - loss: 1.4305 - binary_accuracy: 0.5789 - mae: 0.4107 - val_loss: 0.6863 - val_binary_accuracy: 0.6225 - val_mae: 0.4963\n",
            "Epoch 2/10\n",
            "10/10 [==============================] - ETA: 0s - loss: 0.8081 - binary_accuracy: 0.6358 - mae: 0.3806\n",
            "Epoch 00002: val_loss did not improve from 0.68628\n",
            "10/10 [==============================] - 33s 3s/step - loss: 0.8081 - binary_accuracy: 0.6358 - mae: 0.3806 - val_loss: 0.6901 - val_binary_accuracy: 0.6225 - val_mae: 0.4985\n",
            "Epoch 3/10\n",
            "10/10 [==============================] - ETA: 0s - loss: 0.7185 - binary_accuracy: 0.6842 - mae: 0.3716\n",
            "Epoch 00003: val_loss improved from 0.68628 to 0.67875, saving model to xray_class_weights.best.hdf5\n",
            "10/10 [==============================] - 35s 4s/step - loss: 0.7185 - binary_accuracy: 0.6842 - mae: 0.3716 - val_loss: 0.6787 - val_binary_accuracy: 0.6225 - val_mae: 0.4917\n",
            "Epoch 4/10\n",
            "10/10 [==============================] - ETA: 0s - loss: 0.6743 - binary_accuracy: 0.6926 - mae: 0.3406\n",
            "Epoch 00004: val_loss improved from 0.67875 to 0.67475, saving model to xray_class_weights.best.hdf5\n",
            "10/10 [==============================] - 31s 3s/step - loss: 0.6743 - binary_accuracy: 0.6926 - mae: 0.3406 - val_loss: 0.6748 - val_binary_accuracy: 0.6225 - val_mae: 0.4887\n",
            "Epoch 5/10\n",
            "10/10 [==============================] - ETA: 0s - loss: 0.5581 - binary_accuracy: 0.7958 - mae: 0.2650\n",
            "Epoch 00005: val_loss did not improve from 0.67475\n",
            "10/10 [==============================] - 31s 3s/step - loss: 0.5581 - binary_accuracy: 0.7958 - mae: 0.2650 - val_loss: 0.6757 - val_binary_accuracy: 0.6225 - val_mae: 0.4895\n",
            "Epoch 6/10\n",
            "10/10 [==============================] - ETA: 0s - loss: 0.5421 - binary_accuracy: 0.7937 - mae: 0.2456\n",
            "Epoch 00006: val_loss improved from 0.67475 to 0.66406, saving model to xray_class_weights.best.hdf5\n",
            "10/10 [==============================] - 32s 3s/step - loss: 0.5421 - binary_accuracy: 0.7937 - mae: 0.2456 - val_loss: 0.6641 - val_binary_accuracy: 0.6225 - val_mae: 0.4641\n",
            "Epoch 7/10\n",
            "10/10 [==============================] - ETA: 0s - loss: 0.5789 - binary_accuracy: 0.7747 - mae: 0.2377\n",
            "Epoch 00007: val_loss improved from 0.66406 to 0.66333, saving model to xray_class_weights.best.hdf5\n",
            "10/10 [==============================] - 32s 3s/step - loss: 0.5789 - binary_accuracy: 0.7747 - mae: 0.2377 - val_loss: 0.6633 - val_binary_accuracy: 0.6225 - val_mae: 0.4661\n",
            "Epoch 8/10\n",
            "10/10 [==============================] - ETA: 0s - loss: 0.4846 - binary_accuracy: 0.8168 - mae: 0.2056\n",
            "Epoch 00008: val_loss did not improve from 0.66333\n",
            "10/10 [==============================] - 31s 3s/step - loss: 0.4846 - binary_accuracy: 0.8168 - mae: 0.2056 - val_loss: 0.6989 - val_binary_accuracy: 0.3775 - val_mae: 0.5028\n",
            "Epoch 9/10\n",
            "10/10 [==============================] - ETA: 0s - loss: 0.2650 - binary_accuracy: 0.9095 - mae: 0.1412\n",
            "Epoch 00009: val_loss did not improve from 0.66333\n",
            "10/10 [==============================] - 32s 3s/step - loss: 0.2650 - binary_accuracy: 0.9095 - mae: 0.1412 - val_loss: 0.6913 - val_binary_accuracy: 0.6225 - val_mae: 0.4431\n",
            "Epoch 10/10\n",
            "10/10 [==============================] - ETA: 0s - loss: 0.1764 - binary_accuracy: 0.9326 - mae: 0.0923\n",
            "Epoch 00010: val_loss did not improve from 0.66333\n",
            "10/10 [==============================] - 31s 3s/step - loss: 0.1764 - binary_accuracy: 0.9326 - mae: 0.0923 - val_loss: 0.7145 - val_binary_accuracy: 0.6225 - val_mae: 0.4347\n"
          ]
        }
      ],
      "source": [
        "history_mobilenet_GAP = mobilenet_GAP_model.fit(X_train,y_train,\n",
        "                                  steps_per_epoch=10,\n",
        "                                  validation_data = (X_test, y_test), \n",
        "                                  epochs = 10, \n",
        "                                  callbacks = callbacks_list)"
      ]
    },
    {
      "cell_type": "code",
      "execution_count": null,
      "metadata": {
        "id": "LSLItS9x2a2O"
      },
      "outputs": [],
      "source": [
        "pred_Y = mobilenet_GAP_model.predict(X_test, \n",
        "                          batch_size = 32, \n",
        "                          verbose = True)"
      ]
    },
    {
      "cell_type": "code",
      "execution_count": null,
      "metadata": {
        "colab": {
          "base_uri": "https://localhost:8080/"
        },
        "id": "NNtc-cpb2a2O",
        "outputId": "77e58174-be50-4626-aa2c-a59c05505d14"
      },
      "outputs": [
        {
          "output_type": "execute_result",
          "data": {
            "text/plain": [
              "array([[0.23362523],\n",
              "       [0.23362523],\n",
              "       [0.23362523],\n",
              "       [0.23362523],\n",
              "       [0.23362523],\n",
              "       [0.23362523],\n",
              "       [0.23362523],\n",
              "       [0.23362523],\n",
              "       [0.23362523],\n",
              "       [0.23362523],\n",
              "       [0.23362523],\n",
              "       [0.23362523],\n",
              "       [0.23362523],\n",
              "       [0.23362523],\n",
              "       [0.23362523],\n",
              "       [0.23362523],\n",
              "       [0.23362523],\n",
              "       [0.23362523],\n",
              "       [0.23362523],\n",
              "       [0.23362523],\n",
              "       [0.23362523],\n",
              "       [0.23362523],\n",
              "       [0.23362523],\n",
              "       [0.23362523],\n",
              "       [0.23362523],\n",
              "       [0.23362523],\n",
              "       [0.23362523],\n",
              "       [0.23362523],\n",
              "       [0.23362523],\n",
              "       [0.23362523],\n",
              "       [0.23362523],\n",
              "       [0.23362523],\n",
              "       [0.23362523],\n",
              "       [0.23362523],\n",
              "       [0.23362523],\n",
              "       [0.23362523],\n",
              "       [0.23362523],\n",
              "       [0.23362523],\n",
              "       [0.23362523],\n",
              "       [0.23362523],\n",
              "       [0.23362523],\n",
              "       [0.23362523],\n",
              "       [0.23362523],\n",
              "       [0.23362523],\n",
              "       [0.23362523],\n",
              "       [0.23362523],\n",
              "       [0.23362523],\n",
              "       [0.23362523],\n",
              "       [0.23362523],\n",
              "       [0.23362523],\n",
              "       [0.23362523],\n",
              "       [0.23362523],\n",
              "       [0.23362523],\n",
              "       [0.23362523],\n",
              "       [0.23362523],\n",
              "       [0.23362523],\n",
              "       [0.23362523],\n",
              "       [0.23362523],\n",
              "       [0.23362523],\n",
              "       [0.23362523],\n",
              "       [0.23362523],\n",
              "       [0.23362523],\n",
              "       [0.23362523],\n",
              "       [0.23362523],\n",
              "       [0.23362523],\n",
              "       [0.23362523],\n",
              "       [0.23362523],\n",
              "       [0.23362523],\n",
              "       [0.23362523],\n",
              "       [0.23362523],\n",
              "       [0.23362523],\n",
              "       [0.23362523],\n",
              "       [0.23362523],\n",
              "       [0.23362523],\n",
              "       [0.23362523],\n",
              "       [0.23362523],\n",
              "       [0.23362523],\n",
              "       [0.23362523],\n",
              "       [0.23362523],\n",
              "       [0.23362523],\n",
              "       [0.23362523],\n",
              "       [0.23362523],\n",
              "       [0.23362523],\n",
              "       [0.23362523],\n",
              "       [0.23362523],\n",
              "       [0.23362523],\n",
              "       [0.23362523],\n",
              "       [0.23362523],\n",
              "       [0.23362523],\n",
              "       [0.23362523],\n",
              "       [0.23362523],\n",
              "       [0.23362523],\n",
              "       [0.23362523],\n",
              "       [0.23362523],\n",
              "       [0.23362523],\n",
              "       [0.23362523],\n",
              "       [0.23362523],\n",
              "       [0.23362523],\n",
              "       [0.23362523],\n",
              "       [0.23362523],\n",
              "       [0.23362523],\n",
              "       [0.23362523],\n",
              "       [0.23362523],\n",
              "       [0.23362523],\n",
              "       [0.23362523],\n",
              "       [0.23362523],\n",
              "       [0.23362523],\n",
              "       [0.23362523],\n",
              "       [0.23362523],\n",
              "       [0.23362523],\n",
              "       [0.23362523],\n",
              "       [0.23362523],\n",
              "       [0.23362523],\n",
              "       [0.23362523],\n",
              "       [0.23362523],\n",
              "       [0.23362523],\n",
              "       [0.23362523],\n",
              "       [0.23362523],\n",
              "       [0.23362523],\n",
              "       [0.23362523],\n",
              "       [0.23362523],\n",
              "       [0.23362523],\n",
              "       [0.23362523],\n",
              "       [0.23362523],\n",
              "       [0.23362523],\n",
              "       [0.23362523],\n",
              "       [0.23362523],\n",
              "       [0.23362523],\n",
              "       [0.23362523],\n",
              "       [0.23362523],\n",
              "       [0.23362523],\n",
              "       [0.23362523],\n",
              "       [0.23362523],\n",
              "       [0.23362523],\n",
              "       [0.23362523],\n",
              "       [0.23362523],\n",
              "       [0.23362523],\n",
              "       [0.23362523],\n",
              "       [0.23362523],\n",
              "       [0.23362523],\n",
              "       [0.23362523],\n",
              "       [0.23362523],\n",
              "       [0.23362523],\n",
              "       [0.23362523],\n",
              "       [0.23362523],\n",
              "       [0.23362523],\n",
              "       [0.23362523],\n",
              "       [0.23362523],\n",
              "       [0.23362523],\n",
              "       [0.23362523],\n",
              "       [0.23362523],\n",
              "       [0.23362523],\n",
              "       [0.23362523],\n",
              "       [0.23362523],\n",
              "       [0.23362523],\n",
              "       [0.23362523],\n",
              "       [0.23362523],\n",
              "       [0.23362523],\n",
              "       [0.23362523],\n",
              "       [0.23362523],\n",
              "       [0.23362523],\n",
              "       [0.23362523],\n",
              "       [0.23362523],\n",
              "       [0.23362523],\n",
              "       [0.23362523],\n",
              "       [0.23362523],\n",
              "       [0.23362523],\n",
              "       [0.23362523],\n",
              "       [0.23362523],\n",
              "       [0.23362523],\n",
              "       [0.23362523],\n",
              "       [0.23362523],\n",
              "       [0.23362523],\n",
              "       [0.23362523],\n",
              "       [0.23362523],\n",
              "       [0.23362523],\n",
              "       [0.23362523],\n",
              "       [0.23362523],\n",
              "       [0.23362523],\n",
              "       [0.23362523],\n",
              "       [0.23362523],\n",
              "       [0.23362523],\n",
              "       [0.23362523],\n",
              "       [0.23362523],\n",
              "       [0.23362523],\n",
              "       [0.23362523],\n",
              "       [0.23362523],\n",
              "       [0.23362523],\n",
              "       [0.23362523],\n",
              "       [0.23362523],\n",
              "       [0.23362523],\n",
              "       [0.23362523],\n",
              "       [0.23362523],\n",
              "       [0.23362523],\n",
              "       [0.23362523],\n",
              "       [0.23362523],\n",
              "       [0.23362523],\n",
              "       [0.23362523],\n",
              "       [0.23362523],\n",
              "       [0.23362523],\n",
              "       [0.23362523],\n",
              "       [0.23362523],\n",
              "       [0.23362523],\n",
              "       [0.23362523]], dtype=float32)"
            ]
          },
          "metadata": {},
          "execution_count": 56
        }
      ],
      "source": [
        "pred_Y"
      ]
    },
    {
      "cell_type": "code",
      "execution_count": null,
      "metadata": {
        "colab": {
          "base_uri": "https://localhost:8080/"
        },
        "id": "R_0jEPLM2a2O",
        "outputId": "030e9270-34f1-4dad-a19b-004f99df8796"
      },
      "outputs": [
        {
          "output_type": "execute_result",
          "data": {
            "text/plain": [
              "array([0.23362523], dtype=float32)"
            ]
          },
          "metadata": {},
          "execution_count": 57
        }
      ],
      "source": [
        "min(pred_Y)"
      ]
    },
    {
      "cell_type": "code",
      "execution_count": null,
      "metadata": {
        "id": "MlJYC7gh2a2P"
      },
      "outputs": [],
      "source": [
        "print('test accuracy = ',mobilenet_GAP_model.evaluate(X_test,y_test, verbose=0)[1])"
      ]
    },
    {
      "cell_type": "code",
      "execution_count": null,
      "metadata": {
        "colab": {
          "base_uri": "https://localhost:8080/"
        },
        "id": "PPB3qzq02a2P",
        "outputId": "ea99a29b-7cfe-44b1-86d2-078dce20633e"
      },
      "outputs": [
        {
          "output_type": "stream",
          "name": "stdout",
          "text": [
            "roc score =  0.5\n",
            "roc score =  0.5\n"
          ]
        }
      ],
      "source": [
        "from sklearn.metrics import roc_auc_score\n",
        "print('roc score = ',roc_auc_score(y_test.astype(int), pred_Y))"
      ]
    },
    {
      "cell_type": "code",
      "execution_count": null,
      "metadata": {
        "colab": {
          "base_uri": "https://localhost:8080/",
          "height": 554
        },
        "id": "PNZzcJZB2a2P",
        "outputId": "e20cef53-e761-4084-f0fe-44ed4485b739"
      },
      "outputs": [
        {
          "output_type": "stream",
          "name": "stdout",
          "text": [
            "              precision    recall  f1-score   support\n",
            "\n",
            "   No Hernia       0.62      1.00      0.77       127\n",
            "      Hernia       0.00      0.00      0.00        77\n",
            "\n",
            "    accuracy                           0.62       204\n",
            "   macro avg       0.31      0.50      0.38       204\n",
            "weighted avg       0.39      0.62      0.48       204\n",
            "\n"
          ]
        },
        {
          "output_type": "stream",
          "name": "stderr",
          "text": [
            "/usr/local/lib/python3.7/dist-packages/sklearn/metrics/_classification.py:1308: UndefinedMetricWarning: Precision and F-score are ill-defined and being set to 0.0 in labels with no predicted samples. Use `zero_division` parameter to control this behavior.\n",
            "  _warn_prf(average, modifier, msg_start, len(result))\n",
            "/usr/local/lib/python3.7/dist-packages/sklearn/metrics/_classification.py:1308: UndefinedMetricWarning: Precision and F-score are ill-defined and being set to 0.0 in labels with no predicted samples. Use `zero_division` parameter to control this behavior.\n",
            "  _warn_prf(average, modifier, msg_start, len(result))\n",
            "/usr/local/lib/python3.7/dist-packages/sklearn/metrics/_classification.py:1308: UndefinedMetricWarning: Precision and F-score are ill-defined and being set to 0.0 in labels with no predicted samples. Use `zero_division` parameter to control this behavior.\n",
            "  _warn_prf(average, modifier, msg_start, len(result))\n"
          ]
        },
        {
          "output_type": "display_data",
          "data": {
            "image/png": "[encoded data removed]",
            "text/plain": [
              "<Figure size 288x288 with 1 Axes>"
            ]
          },
          "metadata": {}
        }
      ],
      "source": [
        "from sklearn.metrics import classification_report, confusion_matrix\n",
        "plt.matshow(confusion_matrix(y_test, pred_Y>0.23362523))\n",
        "print(classification_report(y_test, pred_Y>0.23362523, target_names = ['No Hernia', 'Hernia']))"
      ]
    },
    {
      "cell_type": "markdown",
      "metadata": {
        "id": "tAhl9reS2bsz"
      },
      "source": [
        "## **Infiltration**"
      ]
    },
    {
      "cell_type": "code",
      "execution_count": null,
      "metadata": {
        "colab": {
          "base_uri": "https://localhost:8080/",
          "height": 266
        },
        "id": "DCZQZgwU2cO4",
        "outputId": "96099410-09af-43b3-b3f9-f530eb35a77c"
      },
      "outputs": [
        {
          "output_type": "stream",
          "name": "stdout",
          "text": [
            "0    39788\n",
            "1    19894\n",
            "Name: Infiltration, dtype: int64\n"
          ]
        },
        {
          "output_type": "execute_result",
          "data": {
            "text/plain": [
              "<seaborn.axisgrid.PairGrid at 0x7f7afcd94a50>"
            ]
          },
          "metadata": {},
          "execution_count": 59
        },
        {
          "output_type": "display_data",
          "data": {
            "image/png": "[encoded data removed]",
            "text/plain": [
              "<Figure size 239.875x180 with 2 Axes>"
            ]
          },
          "metadata": {}
        }
      ],
      "source": [
        "positive_cases = np.sum(all_xray_df['Infiltration']==True)//2\n",
        "oversample_factor = 4 # maximum number of cases in negative group so it isn't super rare\n",
        "more_balanced_df = all_xray_df.groupby(['Infiltration']).apply(lambda x: x.sample(min(oversample_factor*positive_cases, x.shape[0]), \n",
        "                                                                                   replace = False)\n",
        "                                                      ).reset_index(drop = True)\n",
        "\n",
        "print(more_balanced_df['Infiltration'].value_counts())\n",
        "sns.pairplot(more_balanced_df[['Patient Age', 'Infiltration']], hue='Infiltration')"
      ]
    },
    {
      "cell_type": "code",
      "execution_count": null,
      "metadata": {
        "colab": {
          "base_uri": "https://localhost:8080/",
          "height": 301
        },
        "id": "9iZB1Dz92cO5",
        "outputId": "d1bb29b8-39c4-4727-944d-09e81ce5215a"
      },
      "outputs": [
        {
          "output_type": "stream",
          "name": "stdout",
          "text": [
            "train 41777 validation 10743 test 7162\n",
            "train 0    27851\n",
            "1    13926\n",
            "Name: Infiltration, dtype: int64\n",
            "test 0    4775\n",
            "1    2387\n",
            "Name: Infiltration, dtype: int64\n"
          ]
        },
        {
          "output_type": "execute_result",
          "data": {
            "text/html": [
              "\n",
              "  <div id=\"df-8991d9d4-2731-49f6-9277-0b22712e55e4\">\n",
              "    <div class=\"colab-df-container\">\n",
              "      <div>\n",
              "<style scoped>\n",
              "    .dataframe tbody tr th:only-of-type {\n",
              "        vertical-align: middle;\n",
              "    }\n",
              "\n",
              "    .dataframe tbody tr th {\n",
              "        vertical-align: top;\n",
              "    }\n",
              "\n",
              "    .dataframe thead th {\n",
              "        text-align: right;\n",
              "    }\n",
              "</style>\n",
              "<table border=\"1\" class=\"dataframe\">\n",
              "  <thead>\n",
              "    <tr style=\"text-align: right;\">\n",
              "      <th></th>\n",
              "      <th>Image Index</th>\n",
              "      <th>Finding Labels</th>\n",
              "      <th>Follow-up #</th>\n",
              "      <th>Patient ID</th>\n",
              "      <th>Patient Age</th>\n",
              "      <th>Patient Gender</th>\n",
              "      <th>View Position</th>\n",
              "      <th>OriginalImage[Width</th>\n",
              "      <th>Height]</th>\n",
              "      <th>OriginalImagePixelSpacing[x</th>\n",
              "      <th>y]</th>\n",
              "      <th>path</th>\n",
              "      <th>Pneumonia</th>\n",
              "      <th>Patient Male</th>\n",
              "      <th>Cardiomegaly</th>\n",
              "      <th>Emphysema</th>\n",
              "      <th>Effusion</th>\n",
              "      <th>Hernia</th>\n",
              "      <th>Nodule</th>\n",
              "      <th>Pneumothorax</th>\n",
              "      <th>Atelectasis</th>\n",
              "      <th>Pleural_Thickening</th>\n",
              "      <th>Mass</th>\n",
              "      <th>Edema</th>\n",
              "      <th>Consolidation</th>\n",
              "      <th>Infiltration</th>\n",
              "      <th>Fibrosis</th>\n",
              "      <th>Nothing</th>\n",
              "    </tr>\n",
              "  </thead>\n",
              "  <tbody>\n",
              "    <tr>\n",
              "      <th>34171</th>\n",
              "      <td>00005520_000.png</td>\n",
              "      <td>No Finding</td>\n",
              "      <td>0</td>\n",
              "      <td>5520</td>\n",
              "      <td>42</td>\n",
              "      <td>M</td>\n",
              "      <td>PA</td>\n",
              "      <td>2048</td>\n",
              "      <td>2500</td>\n",
              "      <td>0.168</td>\n",
              "      <td>0.168</td>\n",
              "      <td>/content/drive/MyDrive/Images/image3/00005520_...</td>\n",
              "      <td>False</td>\n",
              "      <td>1.0</td>\n",
              "      <td>0</td>\n",
              "      <td>0</td>\n",
              "      <td>0</td>\n",
              "      <td>0</td>\n",
              "      <td>0</td>\n",
              "      <td>0</td>\n",
              "      <td>0</td>\n",
              "      <td>0</td>\n",
              "      <td>0</td>\n",
              "      <td>0</td>\n",
              "      <td>0</td>\n",
              "      <td>0</td>\n",
              "      <td>0</td>\n",
              "      <td>1</td>\n",
              "    </tr>\n",
              "  </tbody>\n",
              "</table>\n",
              "</div>\n",
              "      <button class=\"colab-df-convert\" onclick=\"convertToInteractive('df-8991d9d4-2731-49f6-9277-0b22712e55e4')\"\n",
              "              title=\"Convert this dataframe to an interactive table.\"\n",
              "              style=\"display:none;\">\n",
              "        \n",
              "  <svg xmlns=\"http://www.w3.org/2000/svg\" height=\"24px\"viewBox=\"0 0 24 24\"\n",
              "       width=\"24px\">\n",
              "    <path d=\"M0 0h24v24H0V0z\" fill=\"none\"/>\n",
              "    <path d=\"M18.56 5.44l.94 2.06.94-2.06 2.06-.94-2.06-.94-.94-2.06-.94 2.06-2.06.94zm-11 1L8.5 8.5l.94-2.06 2.06-.94-2.06-.94L8.5 2.5l-.94 2.06-2.06.94zm10 10l.94 2.06.94-2.06 2.06-.94-2.06-.94-.94-2.06-.94 2.06-2.06.94z\"/><path d=\"M17.41 7.96l-1.37-1.37c-.4-.4-.92-.59-1.43-.59-.52 0-1.04.2-1.43.59L10.3 9.45l-7.72 7.72c-.78.78-.78 2.05 0 2.83L4 21.41c.39.39.9.59 1.41.59.51 0 1.02-.2 1.41-.59l7.78-7.78 2.81-2.81c.8-.78.8-2.07 0-2.86zM5.41 20L4 18.59l7.72-7.72 1.47 1.35L5.41 20z\"/>\n",
              "  </svg>\n",
              "      </button>\n",
              "      \n",
              "  <style>\n",
              "    .colab-df-container {\n",
              "      display:flex;\n",
              "      flex-wrap:wrap;\n",
              "      gap: 12px;\n",
              "    }\n",
              "\n",
              "    .colab-df-convert {\n",
              "      background-color: #E8F0FE;\n",
              "      border: none;\n",
              "      border-radius: 50%;\n",
              "      cursor: pointer;\n",
              "      display: none;\n",
              "      fill: #1967D2;\n",
              "      height: 32px;\n",
              "      padding: 0 0 0 0;\n",
              "      width: 32px;\n",
              "    }\n",
              "\n",
              "    .colab-df-convert:hover {\n",
              "      background-color: #E2EBFA;\n",
              "      box-shadow: 0px 1px 2px rgba(60, 64, 67, 0.3), 0px 1px 3px 1px rgba(60, 64, 67, 0.15);\n",
              "      fill: #174EA6;\n",
              "    }\n",
              "\n",
              "    [theme=dark] .colab-df-convert {\n",
              "      background-color: #3B4455;\n",
              "      fill: #D2E3FC;\n",
              "    }\n",
              "\n",
              "    [theme=dark] .colab-df-convert:hover {\n",
              "      background-color: #434B5C;\n",
              "      box-shadow: 0px 1px 3px 1px rgba(0, 0, 0, 0.15);\n",
              "      filter: drop-shadow(0px 1px 2px rgba(0, 0, 0, 0.3));\n",
              "      fill: #FFFFFF;\n",
              "    }\n",
              "  </style>\n",
              "\n",
              "      <script>\n",
              "        const buttonEl =\n",
              "          document.querySelector('#df-8991d9d4-2731-49f6-9277-0b22712e55e4 button.colab-df-convert');\n",
              "        buttonEl.style.display =\n",
              "          google.colab.kernel.accessAllowed ? 'block' : 'none';\n",
              "\n",
              "        async function convertToInteractive(key) {\n",
              "          const element = document.querySelector('#df-8991d9d4-2731-49f6-9277-0b22712e55e4');\n",
              "          const dataTable =\n",
              "            await google.colab.kernel.invokeFunction('convertToInteractive',\n",
              "                                                     [key], {});\n",
              "          if (!dataTable) return;\n",
              "\n",
              "          const docLinkHtml = 'Like what you see? Visit the ' +\n",
              "            '<a target=\"_blank\" href=https://colab.research.google.com/notebooks/data_table.ipynb>data table notebook</a>'\n",
              "            + ' to learn more about interactive tables.';\n",
              "          element.innerHTML = '';\n",
              "          dataTable['output_type'] = 'display_data';\n",
              "          await google.colab.output.renderOutput(dataTable, element);\n",
              "          const docLink = document.createElement('div');\n",
              "          docLink.innerHTML = docLinkHtml;\n",
              "          element.appendChild(docLink);\n",
              "        }\n",
              "      </script>\n",
              "    </div>\n",
              "  </div>\n",
              "  "
            ],
            "text/plain": [
              "            Image Index Finding Labels  ...  Fibrosis  Nothing\n",
              "34171  00005520_000.png     No Finding  ...         0        1\n",
              "\n",
              "[1 rows x 28 columns]"
            ]
          },
          "metadata": {},
          "execution_count": 60
        }
      ],
      "source": [
        "from sklearn.model_selection import train_test_split\n",
        "raw_train_df, test_valid_df = train_test_split(more_balanced_df, \n",
        "                                   test_size = 0.30, \n",
        "                                   random_state = 2018,\n",
        "                                   stratify = more_balanced_df[['Infiltration']])\n",
        "valid_df, test_df = train_test_split(test_valid_df, \n",
        "                                   test_size = 0.40, \n",
        "                                   random_state = 2018,\n",
        "                                   stratify = test_valid_df[['Infiltration']])\n",
        "print('train', raw_train_df.shape[0], 'validation', valid_df.shape[0], 'test', test_df.shape[0])\n",
        "print('train', raw_train_df['Infiltration'].value_counts())\n",
        "print('test', test_df['Infiltration'].value_counts())\n",
        "raw_train_df.sample(1)"
      ]
    },
    {
      "cell_type": "code",
      "execution_count": null,
      "metadata": {
        "colab": {
          "base_uri": "https://localhost:8080/"
        },
        "id": "qhDB9Zr12cO5",
        "outputId": "7eb3c87d-5837-46a2-bde4-6585aa997831"
      },
      "outputs": [
        {
          "output_type": "stream",
          "name": "stdout",
          "text": [
            "New Data Size: 120000 Old Size: 41777\n"
          ]
        }
      ],
      "source": [
        "train_df = raw_train_df.groupby(['Infiltration']).apply(lambda x: x.sample(60000, replace = True)\n",
        "                                                      ).reset_index(drop = True)\n",
        "print('New Data Size:', train_df.shape[0], 'Old Size:', raw_train_df.shape[0])"
      ]
    },
    {
      "cell_type": "code",
      "execution_count": null,
      "metadata": {
        "id": "r2PFBVt_2cO5"
      },
      "outputs": [],
      "source": [
        "from keras.preprocessing.image import ImageDataGenerator\n",
        "idg = ImageDataGenerator(zoom_range=0.2,\n",
        "                           fill_mode='nearest',\n",
        "                           rotation_range=25,  \n",
        "                           width_shift_range=0.25,  \n",
        "                           height_shift_range=0.25,  \n",
        "                           vertical_flip=False, \n",
        "                           horizontal_flip=True,\n",
        "                           shear_range = 0.2,\n",
        "                           samplewise_center=False, \n",
        "                           samplewise_std_normalization=False)\n"
      ]
    },
    {
      "cell_type": "code",
      "execution_count": null,
      "metadata": {
        "id": "uM4bVZO-2cO6"
      },
      "outputs": [],
      "source": [
        "SEED= 10\n",
        "IMG_SIZE = (128, 128) \n",
        "####\n",
        "def flow_from_dataframe(imgDatGen, df, batch_size, seed, img_size):\n",
        "    #gc.collect()\n",
        "    gen_img = imgDatGen.flow_from_dataframe(dataframe=more_balanced_df,\n",
        "        x_col='path', y_col='Infiltration',\n",
        "        batch_size=batch_size, seed=seed, shuffle=True, class_mode='other',\n",
        "        target_size=img_size, color_mode='grayscale',\n",
        "        drop_duplicates=False)\n",
        "\n",
        "    \n",
        "        \n",
        "    while True:\n",
        "        X1i = gen_img.next()\n",
        "        #X2i = gen_img.next()\n",
        "        #gc.collect()\n",
        "        yield [X1i[0], X1i[1]]"
      ]
    },
    {
      "cell_type": "code",
      "execution_count": null,
      "metadata": {
        "id": "iWqgsRtM2cO6"
      },
      "outputs": [],
      "source": [
        "flow = flow_from_dataframe(idg, more_balanced_df, 7151, SEED, IMG_SIZE)"
      ]
    },
    {
      "cell_type": "code",
      "execution_count": null,
      "metadata": {
        "colab": {
          "base_uri": "https://localhost:8080/"
        },
        "id": "d0pvrNWT2cO6",
        "outputId": "61263615-e1c8-4ac3-98cc-f4342eadc36b"
      },
      "outputs": [
        {
          "metadata": {
            "tags": null
          },
          "name": "stderr",
          "output_type": "stream",
          "text": [
            "--- Logging error ---\n",
            "Traceback (most recent call last):\n",
            "  File \"/usr/lib/python3.7/logging/__init__.py\", line 1025, in emit\n",
            "    msg = self.format(record)\n",
            "  File \"/usr/lib/python3.7/logging/__init__.py\", line 869, in format\n",
            "    return fmt.format(record)\n",
            "  File \"/usr/lib/python3.7/logging/__init__.py\", line 608, in format\n",
            "    record.message = record.getMessage()\n",
            "  File \"/usr/lib/python3.7/logging/__init__.py\", line 369, in getMessage\n",
            "    msg = msg % self.args\n",
            "TypeError: not all arguments converted during string formatting\n",
            "Call stack:\n",
            "  File \"/usr/lib/python3.7/runpy.py\", line 193, in _run_module_as_main\n",
            "    \"__main__\", mod_spec)\n",
            "  File \"/usr/lib/python3.7/runpy.py\", line 85, in _run_code\n",
            "    exec(code, run_globals)\n",
            "  File \"/usr/local/lib/python3.7/dist-packages/ipykernel_launcher.py\", line 16, in <module>\n",
            "    app.launch_new_instance()\n",
            "  File \"/usr/local/lib/python3.7/dist-packages/traitlets/config/application.py\", line 846, in launch_instance\n",
            "    app.start()\n",
            "  File \"/usr/local/lib/python3.7/dist-packages/ipykernel/kernelapp.py\", line 499, in start\n",
            "    self.io_loop.start()\n",
            "  File \"/usr/local/lib/python3.7/dist-packages/tornado/platform/asyncio.py\", line 132, in start\n",
            "    self.asyncio_loop.run_forever()\n",
            "  File \"/usr/lib/python3.7/asyncio/base_events.py\", line 541, in run_forever\n",
            "    self._run_once()\n",
            "  File \"/usr/lib/python3.7/asyncio/base_events.py\", line 1786, in _run_once\n",
            "    handle._run()\n",
            "  File \"/usr/lib/python3.7/asyncio/events.py\", line 88, in _run\n",
            "    self._context.run(self._callback, *self._args)\n",
            "  File \"/usr/local/lib/python3.7/dist-packages/tornado/platform/asyncio.py\", line 122, in _handle_events\n",
            "    handler_func(fileobj, events)\n",
            "  File \"/usr/local/lib/python3.7/dist-packages/tornado/stack_context.py\", line 300, in null_wrapper\n",
            "    return fn(*args, **kwargs)\n",
            "  File \"/usr/local/lib/python3.7/dist-packages/zmq/eventloop/zmqstream.py\", line 452, in _handle_events\n",
            "    self._handle_recv()\n",
            "  File \"/usr/local/lib/python3.7/dist-packages/zmq/eventloop/zmqstream.py\", line 481, in _handle_recv\n",
            "    self._run_callback(callback, msg)\n",
            "  File \"/usr/local/lib/python3.7/dist-packages/zmq/eventloop/zmqstream.py\", line 431, in _run_callback\n",
            "    callback(*args, **kwargs)\n",
            "  File \"/usr/local/lib/python3.7/dist-packages/tornado/stack_context.py\", line 300, in null_wrapper\n",
            "    return fn(*args, **kwargs)\n",
            "  File \"/usr/local/lib/python3.7/dist-packages/ipykernel/kernelbase.py\", line 283, in dispatcher\n",
            "    return self.dispatch_shell(stream, msg)\n",
            "  File \"/usr/local/lib/python3.7/dist-packages/ipykernel/kernelbase.py\", line 233, in dispatch_shell\n",
            "    handler(stream, idents, msg)\n",
            "  File \"/usr/local/lib/python3.7/dist-packages/ipykernel/kernelbase.py\", line 399, in execute_request\n",
            "    user_expressions, allow_stdin)\n",
            "  File \"/usr/local/lib/python3.7/dist-packages/ipykernel/ipkernel.py\", line 208, in do_execute\n",
            "    res = shell.run_cell(code, store_history=store_history, silent=silent)\n",
            "  File \"/usr/local/lib/python3.7/dist-packages/ipykernel/zmqshell.py\", line 537, in run_cell\n",
            "    return super(ZMQInteractiveShell, self).run_cell(*args, **kwargs)\n",
            "  File \"/usr/local/lib/python3.7/dist-packages/IPython/core/interactiveshell.py\", line 2718, in run_cell\n",
            "    interactivity=interactivity, compiler=compiler, result=result)\n",
            "  File \"/usr/local/lib/python3.7/dist-packages/IPython/core/interactiveshell.py\", line 2822, in run_ast_nodes\n",
            "    if self.run_code(code, result):\n",
            "  File \"/usr/local/lib/python3.7/dist-packages/IPython/core/interactiveshell.py\", line 2882, in run_code\n",
            "    exec(code_obj, self.user_global_ns, self.user_ns)\n",
            "  File \"<ipython-input-65-710bbcbe35c6>\", line 1, in <module>\n",
            "    t,y= next(flow)\n",
            "  File \"<ipython-input-63-4f5f12cd4fc1>\", line 10, in flow_from_dataframe\n",
            "    drop_duplicates=False)\n",
            "  File \"/usr/local/lib/python3.7/dist-packages/keras/preprocessing/image.py\", line 1109, in flow_from_dataframe\n",
            "    '`class_mode` \"raw\".', DeprecationWarning)\n",
            "  File \"/usr/local/lib/python3.7/dist-packages/tensorflow/python/platform/tf_logging.py\", line 178, in warning\n",
            "    get_logger().warning(msg, *args, **kwargs)\n",
            "Message: '`class_mode` \"other\" is deprecated, please use `class_mode` \"raw\".'\n",
            "Arguments: (<class 'DeprecationWarning'>,)\n",
            "--- Logging error ---\n",
            "Traceback (most recent call last):\n",
            "  File \"/usr/lib/python3.7/logging/__init__.py\", line 1025, in emit\n",
            "    msg = self.format(record)\n",
            "  File \"/usr/lib/python3.7/logging/__init__.py\", line 869, in format\n",
            "    return fmt.format(record)\n",
            "  File \"/usr/lib/python3.7/logging/__init__.py\", line 608, in format\n",
            "    record.message = record.getMessage()\n",
            "  File \"/usr/lib/python3.7/logging/__init__.py\", line 369, in getMessage\n",
            "    msg = msg % self.args\n",
            "TypeError: not all arguments converted during string formatting\n",
            "Call stack:\n",
            "  File \"/usr/lib/python3.7/runpy.py\", line 193, in _run_module_as_main\n",
            "    \"__main__\", mod_spec)\n",
            "  File \"/usr/lib/python3.7/runpy.py\", line 85, in _run_code\n",
            "    exec(code, run_globals)\n",
            "  File \"/usr/local/lib/python3.7/dist-packages/ipykernel_launcher.py\", line 16, in <module>\n",
            "    app.launch_new_instance()\n",
            "  File \"/usr/local/lib/python3.7/dist-packages/traitlets/config/application.py\", line 846, in launch_instance\n",
            "    app.start()\n",
            "  File \"/usr/local/lib/python3.7/dist-packages/ipykernel/kernelapp.py\", line 499, in start\n",
            "    self.io_loop.start()\n",
            "  File \"/usr/local/lib/python3.7/dist-packages/tornado/platform/asyncio.py\", line 132, in start\n",
            "    self.asyncio_loop.run_forever()\n",
            "  File \"/usr/lib/python3.7/asyncio/base_events.py\", line 541, in run_forever\n",
            "    self._run_once()\n",
            "  File \"/usr/lib/python3.7/asyncio/base_events.py\", line 1786, in _run_once\n",
            "    handle._run()\n",
            "  File \"/usr/lib/python3.7/asyncio/events.py\", line 88, in _run\n",
            "    self._context.run(self._callback, *self._args)\n",
            "  File \"/usr/local/lib/python3.7/dist-packages/tornado/platform/asyncio.py\", line 122, in _handle_events\n",
            "    handler_func(fileobj, events)\n",
            "  File \"/usr/local/lib/python3.7/dist-packages/tornado/stack_context.py\", line 300, in null_wrapper\n",
            "    return fn(*args, **kwargs)\n",
            "  File \"/usr/local/lib/python3.7/dist-packages/zmq/eventloop/zmqstream.py\", line 452, in _handle_events\n",
            "    self._handle_recv()\n",
            "  File \"/usr/local/lib/python3.7/dist-packages/zmq/eventloop/zmqstream.py\", line 481, in _handle_recv\n",
            "    self._run_callback(callback, msg)\n",
            "  File \"/usr/local/lib/python3.7/dist-packages/zmq/eventloop/zmqstream.py\", line 431, in _run_callback\n",
            "    callback(*args, **kwargs)\n",
            "  File \"/usr/local/lib/python3.7/dist-packages/tornado/stack_context.py\", line 300, in null_wrapper\n",
            "    return fn(*args, **kwargs)\n",
            "  File \"/usr/local/lib/python3.7/dist-packages/ipykernel/kernelbase.py\", line 283, in dispatcher\n",
            "    return self.dispatch_shell(stream, msg)\n",
            "  File \"/usr/local/lib/python3.7/dist-packages/ipykernel/kernelbase.py\", line 233, in dispatch_shell\n",
            "    handler(stream, idents, msg)\n",
            "  File \"/usr/local/lib/python3.7/dist-packages/ipykernel/kernelbase.py\", line 399, in execute_request\n",
            "    user_expressions, allow_stdin)\n",
            "  File \"/usr/local/lib/python3.7/dist-packages/ipykernel/ipkernel.py\", line 208, in do_execute\n",
            "    res = shell.run_cell(code, store_history=store_history, silent=silent)\n",
            "  File \"/usr/local/lib/python3.7/dist-packages/ipykernel/zmqshell.py\", line 537, in run_cell\n",
            "    return super(ZMQInteractiveShell, self).run_cell(*args, **kwargs)\n",
            "  File \"/usr/local/lib/python3.7/dist-packages/IPython/core/interactiveshell.py\", line 2718, in run_cell\n",
            "    interactivity=interactivity, compiler=compiler, result=result)\n",
            "  File \"/usr/local/lib/python3.7/dist-packages/IPython/core/interactiveshell.py\", line 2822, in run_ast_nodes\n",
            "    if self.run_code(code, result):\n",
            "  File \"/usr/local/lib/python3.7/dist-packages/IPython/core/interactiveshell.py\", line 2882, in run_code\n",
            "    exec(code_obj, self.user_global_ns, self.user_ns)\n",
            "  File \"<ipython-input-65-710bbcbe35c6>\", line 1, in <module>\n",
            "    t,y= next(flow)\n",
            "  File \"<ipython-input-63-4f5f12cd4fc1>\", line 10, in flow_from_dataframe\n",
            "    drop_duplicates=False)\n",
            "  File \"/usr/local/lib/python3.7/dist-packages/keras/preprocessing/image.py\", line 1115, in flow_from_dataframe\n",
            "    DeprecationWarning)\n",
            "  File \"/usr/local/lib/python3.7/dist-packages/tensorflow/python/platform/tf_logging.py\", line 178, in warning\n",
            "    get_logger().warning(msg, *args, **kwargs)\n",
            "Message: 'drop_duplicates is deprecated, you can drop duplicates by using the pandas.DataFrame.drop_duplicates method.'\n",
            "Arguments: (<class 'DeprecationWarning'>,)\n"
          ]
        },
        {
          "metadata": {
            "tags": null
          },
          "name": "stdout",
          "output_type": "stream",
          "text": [
            "Found 59682 validated image filenames.\n"
          ]
        }
      ],
      "source": [
        "t,y= next(flow)"
      ]
    },
    {
      "cell_type": "code",
      "execution_count": null,
      "metadata": {
        "id": "HOC2aZ3r2cO7"
      },
      "outputs": [],
      "source": [
        "from sklearn.model_selection import train_test_split\n",
        "X_train, X_test, y_train, y_test = train_test_split(t,y, \n",
        "                                   test_size = 0.30, \n",
        "                                   random_state = 2018)\n"
      ]
    },
    {
      "cell_type": "code",
      "execution_count": null,
      "metadata": {
        "colab": {
          "base_uri": "https://localhost:8080/"
        },
        "id": "MpAa-U3b2cO7",
        "outputId": "1eb2c2c7-21b1-4462-f57e-9e46ac62415f"
      },
      "outputs": [
        {
          "output_type": "stream",
          "name": "stdout",
          "text": [
            "Model: \"sequential_3\"\n",
            "_________________________________________________________________\n",
            " Layer (type)                Output Shape              Param #   \n",
            "=================================================================\n",
            " mobilenet_1.00_128 (Functio  (None, 4, 4, 1024)       3228288   \n",
            " nal)                                                            \n",
            "                                                                 \n",
            " global_average_pooling2d_3   (None, 1024)             0         \n",
            " (GlobalAveragePooling2D)                                        \n",
            "                                                                 \n",
            " dropout_6 (Dropout)         (None, 1024)              0         \n",
            "                                                                 \n",
            " dense_6 (Dense)             (None, 512)               524800    \n",
            "                                                                 \n",
            " dropout_7 (Dropout)         (None, 512)               0         \n",
            "                                                                 \n",
            " dense_7 (Dense)             (None, 1)                 513       \n",
            "                                                                 \n",
            "=================================================================\n",
            "Total params: 3,753,601\n",
            "Trainable params: 3,731,713\n",
            "Non-trainable params: 21,888\n",
            "_________________________________________________________________\n"
          ]
        }
      ],
      "source": [
        "from keras.applications.mobilenet import MobileNet\n",
        "from keras.layers import GlobalAveragePooling2D, Dense, Dropout, Flatten\n",
        "from keras.models import Sequential\n",
        "mobilenet_model = MobileNet(input_shape =  X_train.shape[1:], \n",
        "                                 include_top = False, weights = None)\n",
        "mobilenet_GAP_model = Sequential()\n",
        "mobilenet_GAP_model.add(mobilenet_model)\n",
        "mobilenet_GAP_model.add(GlobalAveragePooling2D())\n",
        "mobilenet_GAP_model.add(Dropout(0.5))\n",
        "mobilenet_GAP_model.add(Dense(512))\n",
        "mobilenet_GAP_model.add(Dropout(0.5))\n",
        "mobilenet_GAP_model.add(Dense(1, activation = 'sigmoid'))\n",
        "mobilenet_GAP_model.compile(optimizer = 'adam', loss = 'binary_crossentropy',\n",
        "                           metrics = ['binary_accuracy', 'mae'])\n",
        "mobilenet_GAP_model.summary()"
      ]
    },
    {
      "cell_type": "code",
      "execution_count": null,
      "metadata": {
        "id": "ZiON7d4K2cO8"
      },
      "outputs": [],
      "source": [
        "from keras.callbacks import ModelCheckpoint, LearningRateScheduler, EarlyStopping, ReduceLROnPlateau\n",
        "weight_path=\"{}_weights.best.hdf5\".format('xray_class')\n",
        "\n",
        "checkpoint = ModelCheckpoint(weight_path, monitor='val_loss', verbose=1, \n",
        "                             save_best_only=True, mode='min', save_weights_only = True)\n",
        "\n",
        "early = EarlyStopping(monitor=\"val_loss\", \n",
        "                      mode=\"min\", \n",
        "                      patience=3)\n",
        "callbacks_list = [checkpoint, early]"
      ]
    },
    {
      "cell_type": "code",
      "execution_count": null,
      "metadata": {
        "colab": {
          "base_uri": "https://localhost:8080/"
        },
        "id": "0QfyIoBk2cO8",
        "outputId": "10e760e6-3694-48f4-eba2-147fc18f16ea"
      },
      "outputs": [
        {
          "output_type": "stream",
          "name": "stdout",
          "text": [
            "Epoch 1/10\n",
            "10/10 [==============================] - ETA: 0s - loss: 2.4505 - binary_accuracy: 0.5810 - mae: 0.4242 \n",
            "Epoch 00001: val_loss improved from inf to 0.70556, saving model to xray_class_weights.best.hdf5\n",
            "10/10 [==============================] - 360s 36s/step - loss: 2.4505 - binary_accuracy: 0.5810 - mae: 0.4242 - val_loss: 0.7056 - val_binary_accuracy: 0.3341 - val_mae: 0.5059\n",
            "Epoch 2/10\n",
            "10/10 [==============================] - ETA: 0s - loss: 1.2420 - binary_accuracy: 0.5493 - mae: 0.4650 \n",
            "Epoch 00002: val_loss improved from 0.70556 to 0.69203, saving model to xray_class_weights.best.hdf5\n",
            "10/10 [==============================] - 348s 35s/step - loss: 1.2420 - binary_accuracy: 0.5493 - mae: 0.4650 - val_loss: 0.6920 - val_binary_accuracy: 0.6659 - val_mae: 0.4994\n",
            "Epoch 3/10\n",
            "10/10 [==============================] - ETA: 0s - loss: 0.8382 - binary_accuracy: 0.5606 - mae: 0.4633 \n",
            "Epoch 00003: val_loss improved from 0.69203 to 0.65767, saving model to xray_class_weights.best.hdf5\n",
            "10/10 [==============================] - 344s 34s/step - loss: 0.8382 - binary_accuracy: 0.5606 - mae: 0.4633 - val_loss: 0.6577 - val_binary_accuracy: 0.6659 - val_mae: 0.4779\n",
            "Epoch 4/10\n",
            "10/10 [==============================] - ETA: 0s - loss: 0.7603 - binary_accuracy: 0.6154 - mae: 0.4512 \n",
            "Epoch 00004: val_loss did not improve from 0.65767\n",
            "10/10 [==============================] - 346s 35s/step - loss: 0.7603 - binary_accuracy: 0.6154 - mae: 0.4512 - val_loss: 0.6605 - val_binary_accuracy: 0.6659 - val_mae: 0.4802\n",
            "Epoch 5/10\n",
            "10/10 [==============================] - ETA: 0s - loss: 0.7076 - binary_accuracy: 0.6521 - mae: 0.4313 \n",
            "Epoch 00005: val_loss did not improve from 0.65767\n",
            "10/10 [==============================] - 342s 34s/step - loss: 0.7076 - binary_accuracy: 0.6521 - mae: 0.4313 - val_loss: 0.6622 - val_binary_accuracy: 0.6659 - val_mae: 0.4814\n",
            "Epoch 6/10\n",
            "10/10 [==============================] - ETA: 0s - loss: 0.6691 - binary_accuracy: 0.6388 - mae: 0.4348 \n",
            "Epoch 00006: val_loss improved from 0.65767 to 0.64918, saving model to xray_class_weights.best.hdf5\n",
            "10/10 [==============================] - 349s 35s/step - loss: 0.6691 - binary_accuracy: 0.6388 - mae: 0.4348 - val_loss: 0.6492 - val_binary_accuracy: 0.6659 - val_mae: 0.4701\n",
            "Epoch 7/10\n",
            "10/10 [==============================] - ETA: 0s - loss: 0.6238 - binary_accuracy: 0.6783 - mae: 0.4126 \n",
            "Epoch 00007: val_loss did not improve from 0.64918\n",
            "10/10 [==============================] - 340s 34s/step - loss: 0.6238 - binary_accuracy: 0.6783 - mae: 0.4126 - val_loss: 0.6560 - val_binary_accuracy: 0.6659 - val_mae: 0.4765\n",
            "Epoch 8/10\n",
            "10/10 [==============================] - ETA: 0s - loss: 0.5186 - binary_accuracy: 0.7682 - mae: 0.3299 \n",
            "Epoch 00008: val_loss did not improve from 0.64918\n",
            "10/10 [==============================] - 345s 35s/step - loss: 0.5186 - binary_accuracy: 0.7682 - mae: 0.3299 - val_loss: 0.6581 - val_binary_accuracy: 0.6659 - val_mae: 0.4783\n",
            "Epoch 9/10\n",
            "10/10 [==============================] - ETA: 0s - loss: 0.5489 - binary_accuracy: 0.7508 - mae: 0.3166 \n",
            "Epoch 00009: val_loss did not improve from 0.64918\n",
            "10/10 [==============================] - 336s 34s/step - loss: 0.5489 - binary_accuracy: 0.7508 - mae: 0.3166 - val_loss: 0.6746 - val_binary_accuracy: 0.6659 - val_mae: 0.4898\n"
          ]
        }
      ],
      "source": [
        "history_mobilenet_GAP = mobilenet_GAP_model.fit(X_train,y_train,\n",
        "                                  steps_per_epoch=10,\n",
        "                                  validation_data = (X_test, y_test), \n",
        "                                  epochs = 10, \n",
        "                                  callbacks = callbacks_list)"
      ]
    },
    {
      "cell_type": "code",
      "execution_count": null,
      "metadata": {
        "colab": {
          "base_uri": "https://localhost:8080/"
        },
        "id": "p_ElqcT92cO8",
        "outputId": "23ea10d8-211e-4efa-e700-a93184d758ec"
      },
      "outputs": [
        {
          "output_type": "stream",
          "name": "stdout",
          "text": [
            "68/68 [==============================] - 22s 320ms/step\n"
          ]
        }
      ],
      "source": [
        "pred_Y = mobilenet_GAP_model.predict(X_test, \n",
        "                          batch_size = 32, \n",
        "                          verbose = True)"
      ]
    },
    {
      "cell_type": "code",
      "execution_count": null,
      "metadata": {
        "colab": {
          "base_uri": "https://localhost:8080/"
        },
        "id": "A3RsgiaE2cO9",
        "outputId": "77960213-8def-4fbb-ba9d-11b75e1bc70f"
      },
      "outputs": [
        {
          "output_type": "execute_result",
          "data": {
            "text/plain": [
              "array([[0.4691919],\n",
              "       [0.4691919],\n",
              "       [0.4691919],\n",
              "       ...,\n",
              "       [0.4691919],\n",
              "       [0.4691919],\n",
              "       [0.4691919]], dtype=float32)"
            ]
          },
          "metadata": {},
          "execution_count": 71
        }
      ],
      "source": [
        "pred_Y"
      ]
    },
    {
      "cell_type": "code",
      "execution_count": null,
      "metadata": {
        "colab": {
          "base_uri": "https://localhost:8080/"
        },
        "id": "z4w0satl2cO9",
        "outputId": "74775ace-e8d7-46bb-a35c-83c5da9ed935"
      },
      "outputs": [
        {
          "output_type": "execute_result",
          "data": {
            "text/plain": [
              "array([0.46919188], dtype=float32)"
            ]
          },
          "metadata": {},
          "execution_count": 72
        }
      ],
      "source": [
        "min(pred_Y)"
      ]
    },
    {
      "cell_type": "code",
      "execution_count": null,
      "metadata": {
        "colab": {
          "base_uri": "https://localhost:8080/"
        },
        "id": "kVglHPW02cO-",
        "outputId": "5f793825-0b78-4361-e344-eda78a5e9378"
      },
      "outputs": [
        {
          "output_type": "stream",
          "name": "stdout",
          "text": [
            "test accuracy =  0.6658900380134583\n"
          ]
        }
      ],
      "source": [
        "print('test accuracy = ',mobilenet_GAP_model.evaluate(X_test,y_test, verbose=0)[1])"
      ]
    },
    {
      "cell_type": "code",
      "execution_count": null,
      "metadata": {
        "colab": {
          "base_uri": "https://localhost:8080/"
        },
        "id": "el-SAw882cO-",
        "outputId": "d2c383c6-0ea4-4df8-da72-e553a99a8119"
      },
      "outputs": [
        {
          "output_type": "stream",
          "name": "stdout",
          "text": [
            "roc score =  0.4986223798132527\n"
          ]
        }
      ],
      "source": [
        "from sklearn.metrics import roc_auc_score\n",
        "print('roc score = ',roc_auc_score(y_test.astype(int), pred_Y))"
      ]
    },
    {
      "cell_type": "code",
      "execution_count": null,
      "metadata": {
        "colab": {
          "base_uri": "https://localhost:8080/",
          "height": 430
        },
        "id": "HUZrDQRq2cO-",
        "outputId": "a95d42a9-3ece-4463-b13e-7fca945ab065"
      },
      "outputs": [
        {
          "output_type": "stream",
          "name": "stdout",
          "text": [
            "                 precision    recall  f1-score   support\n",
            "\n",
            "No Infiltration       0.61      0.01      0.02      1429\n",
            "   Infiltration       0.33      0.99      0.50       717\n",
            "\n",
            "       accuracy                           0.34      2146\n",
            "      macro avg       0.47      0.50      0.26      2146\n",
            "   weighted avg       0.52      0.34      0.18      2146\n",
            "\n"
          ]
        },
        {
          "output_type": "display_data",
          "data": {
            "image/png": "[encoded data removed]",
            "text/plain": [
              "<Figure size 288x288 with 1 Axes>"
            ]
          },
          "metadata": {}
        }
      ],
      "source": [
        "from sklearn.metrics import classification_report, confusion_matrix\n",
        "plt.matshow(confusion_matrix(y_test, pred_Y>0.46919188))\n",
        "print(classification_report(y_test, pred_Y>0.46919188, target_names = ['No Infiltration', 'Infiltration']))"
      ]
    },
    {
      "cell_type": "markdown",
      "metadata": {
        "id": "-pM-0P5t2dZP"
      },
      "source": [
        "## **Mass**"
      ]
    },
    {
      "cell_type": "code",
      "execution_count": null,
      "metadata": {
        "colab": {
          "base_uri": "https://localhost:8080/",
          "height": 266
        },
        "id": "wM33Ulfd2dzo",
        "outputId": "afb8f916-9f5d-4c1d-8cf1-7babbf52e4d1"
      },
      "outputs": [
        {
          "output_type": "stream",
          "name": "stdout",
          "text": [
            "0    11564\n",
            "1     5782\n",
            "Name: Mass, dtype: int64\n"
          ]
        },
        {
          "output_type": "execute_result",
          "data": {
            "text/plain": [
              "<seaborn.axisgrid.PairGrid at 0x7f7afc0d0390>"
            ]
          },
          "metadata": {},
          "execution_count": 76
        },
        {
          "output_type": "display_data",
          "data": {
            "image/png": "[encoded data removed]",
            "text/plain": [
              "<Figure size 213.25x180 with 2 Axes>"
            ]
          },
          "metadata": {}
        }
      ],
      "source": [
        "positive_cases = np.sum(all_xray_df['Mass']==True)//2\n",
        "oversample_factor = 4 # maximum number of cases in negative group so it isn't super rare\n",
        "more_balanced_df = all_xray_df.groupby(['Mass']).apply(lambda x: x.sample(min(oversample_factor*positive_cases, x.shape[0]), \n",
        "                                                                                   replace = False)\n",
        "                                                      ).reset_index(drop = True)\n",
        "\n",
        "print(more_balanced_df['Mass'].value_counts())\n",
        "sns.pairplot(more_balanced_df[['Patient Age', 'Mass']], hue='Mass')"
      ]
    },
    {
      "cell_type": "code",
      "execution_count": null,
      "metadata": {
        "colab": {
          "base_uri": "https://localhost:8080/",
          "height": 301
        },
        "id": "H-y-PufF2dzp",
        "outputId": "fc3eb0c9-26bf-458e-e7fe-3db36525e8b6"
      },
      "outputs": [
        {
          "output_type": "stream",
          "name": "stdout",
          "text": [
            "train 12142 validation 3122 test 2082\n",
            "train 0    8095\n",
            "1    4047\n",
            "Name: Mass, dtype: int64\n",
            "test 0    1388\n",
            "1     694\n",
            "Name: Mass, dtype: int64\n"
          ]
        },
        {
          "output_type": "execute_result",
          "data": {
            "text/html": [
              "\n",
              "  <div id=\"df-1386f784-7a61-4126-b6b3-6b833a31646c\">\n",
              "    <div class=\"colab-df-container\">\n",
              "      <div>\n",
              "<style scoped>\n",
              "    .dataframe tbody tr th:only-of-type {\n",
              "        vertical-align: middle;\n",
              "    }\n",
              "\n",
              "    .dataframe tbody tr th {\n",
              "        vertical-align: top;\n",
              "    }\n",
              "\n",
              "    .dataframe thead th {\n",
              "        text-align: right;\n",
              "    }\n",
              "</style>\n",
              "<table border=\"1\" class=\"dataframe\">\n",
              "  <thead>\n",
              "    <tr style=\"text-align: right;\">\n",
              "      <th></th>\n",
              "      <th>Image Index</th>\n",
              "      <th>Finding Labels</th>\n",
              "      <th>Follow-up #</th>\n",
              "      <th>Patient ID</th>\n",
              "      <th>Patient Age</th>\n",
              "      <th>Patient Gender</th>\n",
              "      <th>View Position</th>\n",
              "      <th>OriginalImage[Width</th>\n",
              "      <th>Height]</th>\n",
              "      <th>OriginalImagePixelSpacing[x</th>\n",
              "      <th>y]</th>\n",
              "      <th>path</th>\n",
              "      <th>Pneumonia</th>\n",
              "      <th>Patient Male</th>\n",
              "      <th>Cardiomegaly</th>\n",
              "      <th>Emphysema</th>\n",
              "      <th>Effusion</th>\n",
              "      <th>Hernia</th>\n",
              "      <th>Nodule</th>\n",
              "      <th>Pneumothorax</th>\n",
              "      <th>Atelectasis</th>\n",
              "      <th>Pleural_Thickening</th>\n",
              "      <th>Mass</th>\n",
              "      <th>Edema</th>\n",
              "      <th>Consolidation</th>\n",
              "      <th>Infiltration</th>\n",
              "      <th>Fibrosis</th>\n",
              "      <th>Nothing</th>\n",
              "    </tr>\n",
              "  </thead>\n",
              "  <tbody>\n",
              "    <tr>\n",
              "      <th>4356</th>\n",
              "      <td>00000768_000.png</td>\n",
              "      <td>No Finding</td>\n",
              "      <td>0</td>\n",
              "      <td>768</td>\n",
              "      <td>54</td>\n",
              "      <td>M</td>\n",
              "      <td>PA</td>\n",
              "      <td>2596</td>\n",
              "      <td>2901</td>\n",
              "      <td>0.143</td>\n",
              "      <td>0.143</td>\n",
              "      <td>/content/drive/MyDrive/Images/image1/00000768_...</td>\n",
              "      <td>False</td>\n",
              "      <td>1.0</td>\n",
              "      <td>0</td>\n",
              "      <td>0</td>\n",
              "      <td>0</td>\n",
              "      <td>0</td>\n",
              "      <td>0</td>\n",
              "      <td>0</td>\n",
              "      <td>0</td>\n",
              "      <td>0</td>\n",
              "      <td>0</td>\n",
              "      <td>0</td>\n",
              "      <td>0</td>\n",
              "      <td>0</td>\n",
              "      <td>0</td>\n",
              "      <td>1</td>\n",
              "    </tr>\n",
              "  </tbody>\n",
              "</table>\n",
              "</div>\n",
              "      <button class=\"colab-df-convert\" onclick=\"convertToInteractive('df-1386f784-7a61-4126-b6b3-6b833a31646c')\"\n",
              "              title=\"Convert this dataframe to an interactive table.\"\n",
              "              style=\"display:none;\">\n",
              "        \n",
              "  <svg xmlns=\"http://www.w3.org/2000/svg\" height=\"24px\"viewBox=\"0 0 24 24\"\n",
              "       width=\"24px\">\n",
              "    <path d=\"M0 0h24v24H0V0z\" fill=\"none\"/>\n",
              "    <path d=\"M18.56 5.44l.94 2.06.94-2.06 2.06-.94-2.06-.94-.94-2.06-.94 2.06-2.06.94zm-11 1L8.5 8.5l.94-2.06 2.06-.94-2.06-.94L8.5 2.5l-.94 2.06-2.06.94zm10 10l.94 2.06.94-2.06 2.06-.94-2.06-.94-.94-2.06-.94 2.06-2.06.94z\"/><path d=\"M17.41 7.96l-1.37-1.37c-.4-.4-.92-.59-1.43-.59-.52 0-1.04.2-1.43.59L10.3 9.45l-7.72 7.72c-.78.78-.78 2.05 0 2.83L4 21.41c.39.39.9.59 1.41.59.51 0 1.02-.2 1.41-.59l7.78-7.78 2.81-2.81c.8-.78.8-2.07 0-2.86zM5.41 20L4 18.59l7.72-7.72 1.47 1.35L5.41 20z\"/>\n",
              "  </svg>\n",
              "      </button>\n",
              "      \n",
              "  <style>\n",
              "    .colab-df-container {\n",
              "      display:flex;\n",
              "      flex-wrap:wrap;\n",
              "      gap: 12px;\n",
              "    }\n",
              "\n",
              "    .colab-df-convert {\n",
              "      background-color: #E8F0FE;\n",
              "      border: none;\n",
              "      border-radius: 50%;\n",
              "      cursor: pointer;\n",
              "      display: none;\n",
              "      fill: #1967D2;\n",
              "      height: 32px;\n",
              "      padding: 0 0 0 0;\n",
              "      width: 32px;\n",
              "    }\n",
              "\n",
              "    .colab-df-convert:hover {\n",
              "      background-color: #E2EBFA;\n",
              "      box-shadow: 0px 1px 2px rgba(60, 64, 67, 0.3), 0px 1px 3px 1px rgba(60, 64, 67, 0.15);\n",
              "      fill: #174EA6;\n",
              "    }\n",
              "\n",
              "    [theme=dark] .colab-df-convert {\n",
              "      background-color: #3B4455;\n",
              "      fill: #D2E3FC;\n",
              "    }\n",
              "\n",
              "    [theme=dark] .colab-df-convert:hover {\n",
              "      background-color: #434B5C;\n",
              "      box-shadow: 0px 1px 3px 1px rgba(0, 0, 0, 0.15);\n",
              "      filter: drop-shadow(0px 1px 2px rgba(0, 0, 0, 0.3));\n",
              "      fill: #FFFFFF;\n",
              "    }\n",
              "  </style>\n",
              "\n",
              "      <script>\n",
              "        const buttonEl =\n",
              "          document.querySelector('#df-1386f784-7a61-4126-b6b3-6b833a31646c button.colab-df-convert');\n",
              "        buttonEl.style.display =\n",
              "          google.colab.kernel.accessAllowed ? 'block' : 'none';\n",
              "\n",
              "        async function convertToInteractive(key) {\n",
              "          const element = document.querySelector('#df-1386f784-7a61-4126-b6b3-6b833a31646c');\n",
              "          const dataTable =\n",
              "            await google.colab.kernel.invokeFunction('convertToInteractive',\n",
              "                                                     [key], {});\n",
              "          if (!dataTable) return;\n",
              "\n",
              "          const docLinkHtml = 'Like what you see? Visit the ' +\n",
              "            '<a target=\"_blank\" href=https://colab.research.google.com/notebooks/data_table.ipynb>data table notebook</a>'\n",
              "            + ' to learn more about interactive tables.';\n",
              "          element.innerHTML = '';\n",
              "          dataTable['output_type'] = 'display_data';\n",
              "          await google.colab.output.renderOutput(dataTable, element);\n",
              "          const docLink = document.createElement('div');\n",
              "          docLink.innerHTML = docLinkHtml;\n",
              "          element.appendChild(docLink);\n",
              "        }\n",
              "      </script>\n",
              "    </div>\n",
              "  </div>\n",
              "  "
            ],
            "text/plain": [
              "           Image Index Finding Labels  ...  Fibrosis  Nothing\n",
              "4356  00000768_000.png     No Finding  ...         0        1\n",
              "\n",
              "[1 rows x 28 columns]"
            ]
          },
          "metadata": {},
          "execution_count": 77
        }
      ],
      "source": [
        "from sklearn.model_selection import train_test_split\n",
        "raw_train_df, test_valid_df = train_test_split(more_balanced_df, \n",
        "                                   test_size = 0.30, \n",
        "                                   random_state = 2018,\n",
        "                                   stratify = more_balanced_df[['Mass']])\n",
        "valid_df, test_df = train_test_split(test_valid_df, \n",
        "                                   test_size = 0.40, \n",
        "                                   random_state = 2018,\n",
        "                                   stratify = test_valid_df[['Mass']])\n",
        "print('train', raw_train_df.shape[0], 'validation', valid_df.shape[0], 'test', test_df.shape[0])\n",
        "print('train', raw_train_df['Mass'].value_counts())\n",
        "print('test', test_df['Mass'].value_counts())\n",
        "raw_train_df.sample(1)"
      ]
    },
    {
      "cell_type": "code",
      "execution_count": null,
      "metadata": {
        "colab": {
          "base_uri": "https://localhost:8080/"
        },
        "id": "FNHX_4842dzq",
        "outputId": "10dd8bee-4c6a-42af-b95d-da7b64e33c7e"
      },
      "outputs": [
        {
          "output_type": "stream",
          "name": "stdout",
          "text": [
            "New Data Size: 120000 Old Size: 12142\n"
          ]
        }
      ],
      "source": [
        "train_df = raw_train_df.groupby(['Mass']).apply(lambda x: x.sample(60000, replace = True)\n",
        "                                                      ).reset_index(drop = True)\n",
        "print('New Data Size:', train_df.shape[0], 'Old Size:', raw_train_df.shape[0])"
      ]
    },
    {
      "cell_type": "code",
      "execution_count": null,
      "metadata": {
        "id": "5VqN4BD_2dzq"
      },
      "outputs": [],
      "source": [
        "from keras.preprocessing.image import ImageDataGenerator\n",
        "idg = ImageDataGenerator(zoom_range=0.2,\n",
        "                           fill_mode='nearest',\n",
        "                           rotation_range=25,  \n",
        "                           width_shift_range=0.25,  \n",
        "                           height_shift_range=0.25,  \n",
        "                           vertical_flip=False, \n",
        "                           horizontal_flip=True,\n",
        "                           shear_range = 0.2,\n",
        "                           samplewise_center=False, \n",
        "                           samplewise_std_normalization=False)\n"
      ]
    },
    {
      "cell_type": "code",
      "execution_count": null,
      "metadata": {
        "id": "6RcrFhUP2dzq"
      },
      "outputs": [],
      "source": [
        "SEED= 10\n",
        "IMG_SIZE = (128, 128) \n",
        "####\n",
        "def flow_from_dataframe(imgDatGen, df, batch_size, seed, img_size):\n",
        "    #gc.collect()\n",
        "    gen_img = imgDatGen.flow_from_dataframe(dataframe=more_balanced_df,\n",
        "        x_col='path', y_col='Mass',\n",
        "        batch_size=batch_size, seed=seed, shuffle=True, class_mode='other',\n",
        "        target_size=img_size, color_mode='grayscale',\n",
        "        drop_duplicates=False)\n",
        "\n",
        "    \n",
        "        \n",
        "    while True:\n",
        "        X1i = gen_img.next()\n",
        "        #X2i = gen_img.next()\n",
        "        #gc.collect()\n",
        "        yield [X1i[0], X1i[1]]"
      ]
    },
    {
      "cell_type": "code",
      "execution_count": null,
      "metadata": {
        "id": "qd2IpfvV2dzr"
      },
      "outputs": [],
      "source": [
        "flow = flow_from_dataframe(idg, more_balanced_df, 7151, SEED, IMG_SIZE)"
      ]
    },
    {
      "cell_type": "code",
      "execution_count": null,
      "metadata": {
        "colab": {
          "base_uri": "https://localhost:8080/"
        },
        "id": "eY5JYO_p2dzr",
        "outputId": "7d242c75-9423-4d82-9ea2-a6ce2e078081"
      },
      "outputs": [
        {
          "output_type": "stream",
          "name": "stderr",
          "text": [
            "--- Logging error ---\n",
            "Traceback (most recent call last):\n",
            "  File \"/usr/lib/python3.7/logging/__init__.py\", line 1025, in emit\n",
            "    msg = self.format(record)\n",
            "  File \"/usr/lib/python3.7/logging/__init__.py\", line 869, in format\n",
            "    return fmt.format(record)\n",
            "  File \"/usr/lib/python3.7/logging/__init__.py\", line 608, in format\n",
            "    record.message = record.getMessage()\n",
            "  File \"/usr/lib/python3.7/logging/__init__.py\", line 369, in getMessage\n",
            "    msg = msg % self.args\n",
            "TypeError: not all arguments converted during string formatting\n",
            "Call stack:\n",
            "  File \"/usr/lib/python3.7/runpy.py\", line 193, in _run_module_as_main\n",
            "    \"__main__\", mod_spec)\n",
            "  File \"/usr/lib/python3.7/runpy.py\", line 85, in _run_code\n",
            "    exec(code, run_globals)\n",
            "  File \"/usr/local/lib/python3.7/dist-packages/ipykernel_launcher.py\", line 16, in <module>\n",
            "    app.launch_new_instance()\n",
            "  File \"/usr/local/lib/python3.7/dist-packages/traitlets/config/application.py\", line 846, in launch_instance\n",
            "    app.start()\n",
            "  File \"/usr/local/lib/python3.7/dist-packages/ipykernel/kernelapp.py\", line 499, in start\n",
            "    self.io_loop.start()\n",
            "  File \"/usr/local/lib/python3.7/dist-packages/tornado/platform/asyncio.py\", line 132, in start\n",
            "    self.asyncio_loop.run_forever()\n",
            "  File \"/usr/lib/python3.7/asyncio/base_events.py\", line 541, in run_forever\n",
            "    self._run_once()\n",
            "  File \"/usr/lib/python3.7/asyncio/base_events.py\", line 1786, in _run_once\n",
            "    handle._run()\n",
            "  File \"/usr/lib/python3.7/asyncio/events.py\", line 88, in _run\n",
            "    self._context.run(self._callback, *self._args)\n",
            "  File \"/usr/local/lib/python3.7/dist-packages/tornado/platform/asyncio.py\", line 122, in _handle_events\n",
            "    handler_func(fileobj, events)\n",
            "  File \"/usr/local/lib/python3.7/dist-packages/tornado/stack_context.py\", line 300, in null_wrapper\n",
            "    return fn(*args, **kwargs)\n",
            "  File \"/usr/local/lib/python3.7/dist-packages/zmq/eventloop/zmqstream.py\", line 452, in _handle_events\n",
            "    self._handle_recv()\n",
            "  File \"/usr/local/lib/python3.7/dist-packages/zmq/eventloop/zmqstream.py\", line 481, in _handle_recv\n",
            "    self._run_callback(callback, msg)\n",
            "  File \"/usr/local/lib/python3.7/dist-packages/zmq/eventloop/zmqstream.py\", line 431, in _run_callback\n",
            "    callback(*args, **kwargs)\n",
            "  File \"/usr/local/lib/python3.7/dist-packages/tornado/stack_context.py\", line 300, in null_wrapper\n",
            "    return fn(*args, **kwargs)\n",
            "  File \"/usr/local/lib/python3.7/dist-packages/ipykernel/kernelbase.py\", line 283, in dispatcher\n",
            "    return self.dispatch_shell(stream, msg)\n",
            "  File \"/usr/local/lib/python3.7/dist-packages/ipykernel/kernelbase.py\", line 233, in dispatch_shell\n",
            "    handler(stream, idents, msg)\n",
            "  File \"/usr/local/lib/python3.7/dist-packages/ipykernel/kernelbase.py\", line 399, in execute_request\n",
            "    user_expressions, allow_stdin)\n",
            "  File \"/usr/local/lib/python3.7/dist-packages/ipykernel/ipkernel.py\", line 208, in do_execute\n",
            "    res = shell.run_cell(code, store_history=store_history, silent=silent)\n",
            "  File \"/usr/local/lib/python3.7/dist-packages/ipykernel/zmqshell.py\", line 537, in run_cell\n",
            "    return super(ZMQInteractiveShell, self).run_cell(*args, **kwargs)\n",
            "  File \"/usr/local/lib/python3.7/dist-packages/IPython/core/interactiveshell.py\", line 2718, in run_cell\n",
            "    interactivity=interactivity, compiler=compiler, result=result)\n",
            "  File \"/usr/local/lib/python3.7/dist-packages/IPython/core/interactiveshell.py\", line 2822, in run_ast_nodes\n",
            "    if self.run_code(code, result):\n",
            "  File \"/usr/local/lib/python3.7/dist-packages/IPython/core/interactiveshell.py\", line 2882, in run_code\n",
            "    exec(code_obj, self.user_global_ns, self.user_ns)\n",
            "  File \"<ipython-input-82-710bbcbe35c6>\", line 1, in <module>\n",
            "    t,y= next(flow)\n",
            "  File \"<ipython-input-80-b0853c8479ea>\", line 10, in flow_from_dataframe\n",
            "    drop_duplicates=False)\n",
            "  File \"/usr/local/lib/python3.7/dist-packages/keras/preprocessing/image.py\", line 1109, in flow_from_dataframe\n",
            "    '`class_mode` \"raw\".', DeprecationWarning)\n",
            "  File \"/usr/local/lib/python3.7/dist-packages/tensorflow/python/platform/tf_logging.py\", line 178, in warning\n",
            "    get_logger().warning(msg, *args, **kwargs)\n",
            "Message: '`class_mode` \"other\" is deprecated, please use `class_mode` \"raw\".'\n",
            "Arguments: (<class 'DeprecationWarning'>,)\n",
            "--- Logging error ---\n",
            "Traceback (most recent call last):\n",
            "  File \"/usr/lib/python3.7/logging/__init__.py\", line 1025, in emit\n",
            "    msg = self.format(record)\n",
            "  File \"/usr/lib/python3.7/logging/__init__.py\", line 869, in format\n",
            "    return fmt.format(record)\n",
            "  File \"/usr/lib/python3.7/logging/__init__.py\", line 608, in format\n",
            "    record.message = record.getMessage()\n",
            "  File \"/usr/lib/python3.7/logging/__init__.py\", line 369, in getMessage\n",
            "    msg = msg % self.args\n",
            "TypeError: not all arguments converted during string formatting\n",
            "Call stack:\n",
            "  File \"/usr/lib/python3.7/runpy.py\", line 193, in _run_module_as_main\n",
            "    \"__main__\", mod_spec)\n",
            "  File \"/usr/lib/python3.7/runpy.py\", line 85, in _run_code\n",
            "    exec(code, run_globals)\n",
            "  File \"/usr/local/lib/python3.7/dist-packages/ipykernel_launcher.py\", line 16, in <module>\n",
            "    app.launch_new_instance()\n",
            "  File \"/usr/local/lib/python3.7/dist-packages/traitlets/config/application.py\", line 846, in launch_instance\n",
            "    app.start()\n",
            "  File \"/usr/local/lib/python3.7/dist-packages/ipykernel/kernelapp.py\", line 499, in start\n",
            "    self.io_loop.start()\n",
            "  File \"/usr/local/lib/python3.7/dist-packages/tornado/platform/asyncio.py\", line 132, in start\n",
            "    self.asyncio_loop.run_forever()\n",
            "  File \"/usr/lib/python3.7/asyncio/base_events.py\", line 541, in run_forever\n",
            "    self._run_once()\n",
            "  File \"/usr/lib/python3.7/asyncio/base_events.py\", line 1786, in _run_once\n",
            "    handle._run()\n",
            "  File \"/usr/lib/python3.7/asyncio/events.py\", line 88, in _run\n",
            "    self._context.run(self._callback, *self._args)\n",
            "  File \"/usr/local/lib/python3.7/dist-packages/tornado/platform/asyncio.py\", line 122, in _handle_events\n",
            "    handler_func(fileobj, events)\n",
            "  File \"/usr/local/lib/python3.7/dist-packages/tornado/stack_context.py\", line 300, in null_wrapper\n",
            "    return fn(*args, **kwargs)\n",
            "  File \"/usr/local/lib/python3.7/dist-packages/zmq/eventloop/zmqstream.py\", line 452, in _handle_events\n",
            "    self._handle_recv()\n",
            "  File \"/usr/local/lib/python3.7/dist-packages/zmq/eventloop/zmqstream.py\", line 481, in _handle_recv\n",
            "    self._run_callback(callback, msg)\n",
            "  File \"/usr/local/lib/python3.7/dist-packages/zmq/eventloop/zmqstream.py\", line 431, in _run_callback\n",
            "    callback(*args, **kwargs)\n",
            "  File \"/usr/local/lib/python3.7/dist-packages/tornado/stack_context.py\", line 300, in null_wrapper\n",
            "    return fn(*args, **kwargs)\n",
            "  File \"/usr/local/lib/python3.7/dist-packages/ipykernel/kernelbase.py\", line 283, in dispatcher\n",
            "    return self.dispatch_shell(stream, msg)\n",
            "  File \"/usr/local/lib/python3.7/dist-packages/ipykernel/kernelbase.py\", line 233, in dispatch_shell\n",
            "    handler(stream, idents, msg)\n",
            "  File \"/usr/local/lib/python3.7/dist-packages/ipykernel/kernelbase.py\", line 399, in execute_request\n",
            "    user_expressions, allow_stdin)\n",
            "  File \"/usr/local/lib/python3.7/dist-packages/ipykernel/ipkernel.py\", line 208, in do_execute\n",
            "    res = shell.run_cell(code, store_history=store_history, silent=silent)\n",
            "  File \"/usr/local/lib/python3.7/dist-packages/ipykernel/zmqshell.py\", line 537, in run_cell\n",
            "    return super(ZMQInteractiveShell, self).run_cell(*args, **kwargs)\n",
            "  File \"/usr/local/lib/python3.7/dist-packages/IPython/core/interactiveshell.py\", line 2718, in run_cell\n",
            "    interactivity=interactivity, compiler=compiler, result=result)\n",
            "  File \"/usr/local/lib/python3.7/dist-packages/IPython/core/interactiveshell.py\", line 2822, in run_ast_nodes\n",
            "    if self.run_code(code, result):\n",
            "  File \"/usr/local/lib/python3.7/dist-packages/IPython/core/interactiveshell.py\", line 2882, in run_code\n",
            "    exec(code_obj, self.user_global_ns, self.user_ns)\n",
            "  File \"<ipython-input-82-710bbcbe35c6>\", line 1, in <module>\n",
            "    t,y= next(flow)\n",
            "  File \"<ipython-input-80-b0853c8479ea>\", line 10, in flow_from_dataframe\n",
            "    drop_duplicates=False)\n",
            "  File \"/usr/local/lib/python3.7/dist-packages/keras/preprocessing/image.py\", line 1115, in flow_from_dataframe\n",
            "    DeprecationWarning)\n",
            "  File \"/usr/local/lib/python3.7/dist-packages/tensorflow/python/platform/tf_logging.py\", line 178, in warning\n",
            "    get_logger().warning(msg, *args, **kwargs)\n",
            "Message: 'drop_duplicates is deprecated, you can drop duplicates by using the pandas.DataFrame.drop_duplicates method.'\n",
            "Arguments: (<class 'DeprecationWarning'>,)\n"
          ]
        },
        {
          "output_type": "stream",
          "name": "stdout",
          "text": [
            "Found 17346 validated image filenames.\n"
          ]
        }
      ],
      "source": [
        "t,y= next(flow)"
      ]
    },
    {
      "cell_type": "code",
      "execution_count": null,
      "metadata": {
        "id": "I_gR2ojZ2dzr"
      },
      "outputs": [],
      "source": [
        "from sklearn.model_selection import train_test_split\n",
        "X_train, X_test, y_train, y_test = train_test_split(t,y, \n",
        "                                   test_size = 0.30, \n",
        "                                   random_state = 2018)\n"
      ]
    },
    {
      "cell_type": "code",
      "execution_count": null,
      "metadata": {
        "colab": {
          "base_uri": "https://localhost:8080/"
        },
        "id": "l-0Cn-MB2dzr",
        "outputId": "7ecea028-f828-4c50-e8dc-925f63a433fe"
      },
      "outputs": [
        {
          "output_type": "stream",
          "name": "stdout",
          "text": [
            "Model: \"sequential_4\"\n",
            "_________________________________________________________________\n",
            " Layer (type)                Output Shape              Param #   \n",
            "=================================================================\n",
            " mobilenet_1.00_128 (Functio  (None, 4, 4, 1024)       3228288   \n",
            " nal)                                                            \n",
            "                                                                 \n",
            " global_average_pooling2d_4   (None, 1024)             0         \n",
            " (GlobalAveragePooling2D)                                        \n",
            "                                                                 \n",
            " dropout_8 (Dropout)         (None, 1024)              0         \n",
            "                                                                 \n",
            " dense_8 (Dense)             (None, 512)               524800    \n",
            "                                                                 \n",
            " dropout_9 (Dropout)         (None, 512)               0         \n",
            "                                                                 \n",
            " dense_9 (Dense)             (None, 1)                 513       \n",
            "                                                                 \n",
            "=================================================================\n",
            "Total params: 3,753,601\n",
            "Trainable params: 3,731,713\n",
            "Non-trainable params: 21,888\n",
            "_________________________________________________________________\n"
          ]
        }
      ],
      "source": [
        "from keras.applications.mobilenet import MobileNet\n",
        "from keras.layers import GlobalAveragePooling2D, Dense, Dropout, Flatten\n",
        "from keras.models import Sequential\n",
        "mobilenet_model = MobileNet(input_shape =  X_train.shape[1:], \n",
        "                                 include_top = False, weights = None)\n",
        "mobilenet_GAP_model = Sequential()\n",
        "mobilenet_GAP_model.add(mobilenet_model)\n",
        "mobilenet_GAP_model.add(GlobalAveragePooling2D())\n",
        "mobilenet_GAP_model.add(Dropout(0.5))\n",
        "mobilenet_GAP_model.add(Dense(512))\n",
        "mobilenet_GAP_model.add(Dropout(0.5))\n",
        "mobilenet_GAP_model.add(Dense(1, activation = 'sigmoid'))\n",
        "mobilenet_GAP_model.compile(optimizer = 'adam', loss = 'binary_crossentropy',\n",
        "                           metrics = ['binary_accuracy', 'mae'])\n",
        "mobilenet_GAP_model.summary()"
      ]
    },
    {
      "cell_type": "code",
      "execution_count": null,
      "metadata": {
        "id": "fOuZqV2E2dzs"
      },
      "outputs": [],
      "source": [
        "from keras.callbacks import ModelCheckpoint, LearningRateScheduler, EarlyStopping, ReduceLROnPlateau\n",
        "weight_path=\"{}_weights.best.hdf5\".format('xray_class')\n",
        "\n",
        "checkpoint = ModelCheckpoint(weight_path, monitor='val_loss', verbose=1, \n",
        "                             save_best_only=True, mode='min', save_weights_only = True)\n",
        "\n",
        "early = EarlyStopping(monitor=\"val_loss\", \n",
        "                      mode=\"min\", \n",
        "                      patience=3)\n",
        "callbacks_list = [checkpoint, early]"
      ]
    },
    {
      "cell_type": "code",
      "execution_count": null,
      "metadata": {
        "colab": {
          "base_uri": "https://localhost:8080/"
        },
        "id": "7uJG5Ds62dzs",
        "outputId": "15b0f172-4b2d-499d-bd7f-1c4a9081cc95"
      },
      "outputs": [
        {
          "output_type": "stream",
          "name": "stdout",
          "text": [
            "Epoch 1/10\n",
            "10/10 [==============================] - ETA: 0s - loss: 1.7789 - binary_accuracy: 0.5692 - mae: 0.4307 \n",
            "Epoch 00001: val_loss improved from inf to 0.68247, saving model to xray_class_weights.best.hdf5\n",
            "10/10 [==============================] - 352s 35s/step - loss: 1.7789 - binary_accuracy: 0.5692 - mae: 0.4307 - val_loss: 0.6825 - val_binary_accuracy: 0.6542 - val_mae: 0.4943\n",
            "Epoch 2/10\n",
            "10/10 [==============================] - ETA: 0s - loss: 0.9404 - binary_accuracy: 0.5690 - mae: 0.4496 \n",
            "Epoch 00002: val_loss improved from 0.68247 to 0.67908, saving model to xray_class_weights.best.hdf5\n",
            "10/10 [==============================] - 335s 34s/step - loss: 0.9404 - binary_accuracy: 0.5690 - mae: 0.4496 - val_loss: 0.6791 - val_binary_accuracy: 0.6542 - val_mae: 0.4924\n",
            "Epoch 3/10\n",
            "10/10 [==============================] - ETA: 0s - loss: 0.7888 - binary_accuracy: 0.5958 - mae: 0.4529 \n",
            "Epoch 00003: val_loss improved from 0.67908 to 0.66820, saving model to xray_class_weights.best.hdf5\n",
            "10/10 [==============================] - 343s 35s/step - loss: 0.7888 - binary_accuracy: 0.5958 - mae: 0.4529 - val_loss: 0.6682 - val_binary_accuracy: 0.6542 - val_mae: 0.4853\n",
            "Epoch 4/10\n",
            "10/10 [==============================] - ETA: 0s - loss: 0.7235 - binary_accuracy: 0.6208 - mae: 0.4456 \n",
            "Epoch 00004: val_loss improved from 0.66820 to 0.66433, saving model to xray_class_weights.best.hdf5\n",
            "10/10 [==============================] - 341s 34s/step - loss: 0.7235 - binary_accuracy: 0.6208 - mae: 0.4456 - val_loss: 0.6643 - val_binary_accuracy: 0.6542 - val_mae: 0.4824\n",
            "Epoch 5/10\n",
            "10/10 [==============================] - ETA: 0s - loss: 0.6945 - binary_accuracy: 0.6362 - mae: 0.4422 \n",
            "Epoch 00005: val_loss improved from 0.66433 to 0.65749, saving model to xray_class_weights.best.hdf5\n",
            "10/10 [==============================] - 342s 34s/step - loss: 0.6945 - binary_accuracy: 0.6362 - mae: 0.4422 - val_loss: 0.6575 - val_binary_accuracy: 0.6542 - val_mae: 0.4765\n",
            "Epoch 6/10\n",
            "10/10 [==============================] - ETA: 0s - loss: 0.6625 - binary_accuracy: 0.6460 - mae: 0.4294 \n",
            "Epoch 00006: val_loss did not improve from 0.65749\n",
            "10/10 [==============================] - 343s 35s/step - loss: 0.6625 - binary_accuracy: 0.6460 - mae: 0.4294 - val_loss: 0.6596 - val_binary_accuracy: 0.6542 - val_mae: 0.4785\n",
            "Epoch 7/10\n",
            "10/10 [==============================] - ETA: 0s - loss: 0.6243 - binary_accuracy: 0.6745 - mae: 0.4076 \n",
            "Epoch 00007: val_loss did not improve from 0.65749\n",
            "10/10 [==============================] - 340s 34s/step - loss: 0.6243 - binary_accuracy: 0.6745 - mae: 0.4076 - val_loss: 0.6758 - val_binary_accuracy: 0.6542 - val_mae: 0.4904\n",
            "Epoch 8/10\n",
            "10/10 [==============================] - ETA: 0s - loss: 0.5371 - binary_accuracy: 0.7243 - mae: 0.3451 \n",
            "Epoch 00008: val_loss did not improve from 0.65749\n",
            "10/10 [==============================] - 350s 35s/step - loss: 0.5371 - binary_accuracy: 0.7243 - mae: 0.3451 - val_loss: 0.6625 - val_binary_accuracy: 0.6542 - val_mae: 0.4809\n"
          ]
        }
      ],
      "source": [
        "history_mobilenet_GAP = mobilenet_GAP_model.fit(X_train,y_train,\n",
        "                                  steps_per_epoch=10,\n",
        "                                  validation_data = (X_test, y_test), \n",
        "                                  epochs = 10, \n",
        "                                  callbacks = callbacks_list)"
      ]
    },
    {
      "cell_type": "code",
      "execution_count": null,
      "metadata": {
        "colab": {
          "base_uri": "https://localhost:8080/"
        },
        "id": "KvADZlWU2dzs",
        "outputId": "fcd88c06-09f4-448a-bec0-0bde6580c84e"
      },
      "outputs": [
        {
          "output_type": "stream",
          "name": "stdout",
          "text": [
            "68/68 [==============================] - 23s 334ms/step\n"
          ]
        }
      ],
      "source": [
        "pred_Y = mobilenet_GAP_model.predict(X_test, \n",
        "                          batch_size = 32, \n",
        "                          verbose = True)"
      ]
    },
    {
      "cell_type": "code",
      "execution_count": null,
      "metadata": {
        "colab": {
          "base_uri": "https://localhost:8080/"
        },
        "id": "jAr8osEO2dzt",
        "outputId": "7608cd14-e97a-4085-ea71-895acfc0d42d"
      },
      "outputs": [
        {
          "output_type": "execute_result",
          "data": {
            "text/plain": [
              "array([[0.43819064],\n",
              "       [0.43819064],\n",
              "       [0.43819064],\n",
              "       ...,\n",
              "       [0.43819064],\n",
              "       [0.43819064],\n",
              "       [0.43819064]], dtype=float32)"
            ]
          },
          "metadata": {},
          "execution_count": 88
        }
      ],
      "source": [
        "pred_Y"
      ]
    },
    {
      "cell_type": "code",
      "execution_count": null,
      "metadata": {
        "colab": {
          "base_uri": "https://localhost:8080/"
        },
        "id": "MJr6-B1y2dzt",
        "outputId": "259a28e9-470f-4d4d-cac0-c5e6b177bab3"
      },
      "outputs": [
        {
          "output_type": "execute_result",
          "data": {
            "text/plain": [
              "array([0.43819064], dtype=float32)"
            ]
          },
          "metadata": {},
          "execution_count": 89
        }
      ],
      "source": [
        "min(pred_Y)"
      ]
    },
    {
      "cell_type": "code",
      "execution_count": null,
      "metadata": {
        "colab": {
          "base_uri": "https://localhost:8080/"
        },
        "id": "JMLFHKoY2dzt",
        "outputId": "c2b16c32-1b49-45f5-af4d-71b39dec0c7e"
      },
      "outputs": [
        {
          "output_type": "stream",
          "name": "stdout",
          "text": [
            "test accuracy =  0.6542404294013977\n"
          ]
        }
      ],
      "source": [
        "print('test accuracy = ',mobilenet_GAP_model.evaluate(X_test,y_test, verbose=0)[1])"
      ]
    },
    {
      "cell_type": "code",
      "execution_count": null,
      "metadata": {
        "colab": {
          "base_uri": "https://localhost:8080/"
        },
        "id": "0p7DveNi2dzt",
        "outputId": "8eebea2f-90f0-40b8-9741-22eb20c221b1"
      },
      "outputs": [
        {
          "output_type": "stream",
          "name": "stdout",
          "text": [
            "roc score =  0.5\n"
          ]
        }
      ],
      "source": [
        "from sklearn.metrics import roc_auc_score\n",
        "print('roc score = ',roc_auc_score(y_test.astype(int), pred_Y))"
      ]
    },
    {
      "cell_type": "code",
      "execution_count": null,
      "metadata": {
        "colab": {
          "base_uri": "https://localhost:8080/",
          "height": 554
        },
        "id": "SclWxVbB2dzu",
        "outputId": "8b2c61bb-edb3-4d26-af8e-8b280ea8a62f"
      },
      "outputs": [
        {
          "output_type": "stream",
          "name": "stdout",
          "text": [
            "              precision    recall  f1-score   support\n",
            "\n",
            "     No Mass       0.65      1.00      0.79      1404\n",
            "        Mass       0.00      0.00      0.00       742\n",
            "\n",
            "    accuracy                           0.65      2146\n",
            "   macro avg       0.33      0.50      0.40      2146\n",
            "weighted avg       0.43      0.65      0.52      2146\n",
            "\n"
          ]
        },
        {
          "output_type": "stream",
          "name": "stderr",
          "text": [
            "/usr/local/lib/python3.7/dist-packages/sklearn/metrics/_classification.py:1308: UndefinedMetricWarning: Precision and F-score are ill-defined and being set to 0.0 in labels with no predicted samples. Use `zero_division` parameter to control this behavior.\n",
            "  _warn_prf(average, modifier, msg_start, len(result))\n",
            "/usr/local/lib/python3.7/dist-packages/sklearn/metrics/_classification.py:1308: UndefinedMetricWarning: Precision and F-score are ill-defined and being set to 0.0 in labels with no predicted samples. Use `zero_division` parameter to control this behavior.\n",
            "  _warn_prf(average, modifier, msg_start, len(result))\n",
            "/usr/local/lib/python3.7/dist-packages/sklearn/metrics/_classification.py:1308: UndefinedMetricWarning: Precision and F-score are ill-defined and being set to 0.0 in labels with no predicted samples. Use `zero_division` parameter to control this behavior.\n",
            "  _warn_prf(average, modifier, msg_start, len(result))\n"
          ]
        },
        {
          "output_type": "display_data",
          "data": {
            "image/png": "[encoded data removed]",
            "text/plain": [
              "<Figure size 288x288 with 1 Axes>"
            ]
          },
          "metadata": {}
        }
      ],
      "source": [
        "from sklearn.metrics import classification_report, confusion_matrix\n",
        "plt.matshow(confusion_matrix(y_test, pred_Y>0.43819064))\n",
        "print(classification_report(y_test, pred_Y>0.43819064, target_names = ['No Mass', 'Mass']))"
      ]
    },
    {
      "cell_type": "markdown",
      "metadata": {
        "id": "fh1vbHoU2er1"
      },
      "source": [
        "## **Nodule**"
      ]
    },
    {
      "cell_type": "code",
      "execution_count": 5,
      "metadata": {
        "colab": {
          "base_uri": "https://localhost:8080/",
          "height": 266
        },
        "id": "q0_IqhZy2fKc",
        "outputId": "46c343a5-dbb6-4ee9-a32f-ed8e4da7fefc"
      },
      "outputs": [
        {
          "output_type": "stream",
          "name": "stdout",
          "text": [
            "0    12660\n",
            "1     6331\n",
            "Name: Nodule, dtype: int64\n"
          ]
        },
        {
          "output_type": "execute_result",
          "data": {
            "text/plain": [
              "<seaborn.axisgrid.PairGrid at 0x7f3b29735190>"
            ]
          },
          "metadata": {},
          "execution_count": 5
        },
        {
          "output_type": "display_data",
          "data": {
            "image/png": "[encoded data removed]",
            "text/plain": [
              "<Figure size 223.25x180 with 2 Axes>"
            ]
          },
          "metadata": {
            "needs_background": "light"
          }
        }
      ],
      "source": [
        "positive_cases = np.sum(all_xray_df['Nodule']==True)//2\n",
        "oversample_factor = 4 # maximum number of cases in negative group so it isn't super rare\n",
        "more_balanced_df = all_xray_df.groupby(['Nodule']).apply(lambda x: x.sample(min(oversample_factor*positive_cases, x.shape[0]), \n",
        "                                                                                   replace = False)\n",
        "                                                      ).reset_index(drop = True)\n",
        "\n",
        "print(more_balanced_df['Nodule'].value_counts())\n",
        "sns.pairplot(more_balanced_df[['Patient Age', 'Nodule']], hue='Nodule')"
      ]
    },
    {
      "cell_type": "code",
      "execution_count": 6,
      "metadata": {
        "colab": {
          "base_uri": "https://localhost:8080/",
          "height": 284
        },
        "id": "qrMENrub2fKf",
        "outputId": "a45a6273-a8e8-4d59-d56e-f0d2c12e4254"
      },
      "outputs": [
        {
          "output_type": "stream",
          "name": "stdout",
          "text": [
            "train 13293 validation 3418 test 2280\n",
            "train 0    8862\n",
            "1    4431\n",
            "Name: Nodule, dtype: int64\n",
            "test 0    1520\n",
            "1     760\n",
            "Name: Nodule, dtype: int64\n"
          ]
        },
        {
          "output_type": "execute_result",
          "data": {
            "text/html": [
              "\n",
              "  <div id=\"df-6d3ca4e6-8435-4918-b9d0-4231b7d4948b\">\n",
              "    <div class=\"colab-df-container\">\n",
              "      <div>\n",
              "<style scoped>\n",
              "    .dataframe tbody tr th:only-of-type {\n",
              "        vertical-align: middle;\n",
              "    }\n",
              "\n",
              "    .dataframe tbody tr th {\n",
              "        vertical-align: top;\n",
              "    }\n",
              "\n",
              "    .dataframe thead th {\n",
              "        text-align: right;\n",
              "    }\n",
              "</style>\n",
              "<table border=\"1\" class=\"dataframe\">\n",
              "  <thead>\n",
              "    <tr style=\"text-align: right;\">\n",
              "      <th></th>\n",
              "      <th>Image Index</th>\n",
              "      <th>Finding Labels</th>\n",
              "      <th>Follow-up #</th>\n",
              "      <th>Patient ID</th>\n",
              "      <th>Patient Age</th>\n",
              "      <th>Patient Gender</th>\n",
              "      <th>View Position</th>\n",
              "      <th>OriginalImage[Width</th>\n",
              "      <th>Height]</th>\n",
              "      <th>OriginalImagePixelSpacing[x</th>\n",
              "      <th>y]</th>\n",
              "      <th>path</th>\n",
              "      <th>Pneumonia</th>\n",
              "      <th>Patient Male</th>\n",
              "      <th>Cardiomegaly</th>\n",
              "      <th>Emphysema</th>\n",
              "      <th>Effusion</th>\n",
              "      <th>Hernia</th>\n",
              "      <th>Nodule</th>\n",
              "      <th>Pneumothorax</th>\n",
              "      <th>Atelectasis</th>\n",
              "      <th>Pleural_Thickening</th>\n",
              "      <th>Mass</th>\n",
              "      <th>Edema</th>\n",
              "      <th>Consolidation</th>\n",
              "      <th>Infiltration</th>\n",
              "      <th>Fibrosis</th>\n",
              "      <th>Nothing</th>\n",
              "    </tr>\n",
              "  </thead>\n",
              "  <tbody>\n",
              "    <tr>\n",
              "      <th>11786</th>\n",
              "      <td>00004832_028.png</td>\n",
              "      <td>Consolidation|Infiltration|Pleural_Thickening</td>\n",
              "      <td>16</td>\n",
              "      <td>4832</td>\n",
              "      <td>32</td>\n",
              "      <td>M</td>\n",
              "      <td>AP</td>\n",
              "      <td>2500</td>\n",
              "      <td>2048</td>\n",
              "      <td>0.168</td>\n",
              "      <td>0.168</td>\n",
              "      <td>/content/drive/MyDrive/Images/image3/00004832_...</td>\n",
              "      <td>False</td>\n",
              "      <td>1.0</td>\n",
              "      <td>0</td>\n",
              "      <td>0</td>\n",
              "      <td>0</td>\n",
              "      <td>0</td>\n",
              "      <td>0</td>\n",
              "      <td>0</td>\n",
              "      <td>0</td>\n",
              "      <td>1</td>\n",
              "      <td>0</td>\n",
              "      <td>0</td>\n",
              "      <td>1</td>\n",
              "      <td>1</td>\n",
              "      <td>0</td>\n",
              "      <td>0</td>\n",
              "    </tr>\n",
              "  </tbody>\n",
              "</table>\n",
              "</div>\n",
              "      <button class=\"colab-df-convert\" onclick=\"convertToInteractive('df-6d3ca4e6-8435-4918-b9d0-4231b7d4948b')\"\n",
              "              title=\"Convert this dataframe to an interactive table.\"\n",
              "              style=\"display:none;\">\n",
              "        \n",
              "  <svg xmlns=\"http://www.w3.org/2000/svg\" height=\"24px\"viewBox=\"0 0 24 24\"\n",
              "       width=\"24px\">\n",
              "    <path d=\"M0 0h24v24H0V0z\" fill=\"none\"/>\n",
              "    <path d=\"M18.56 5.44l.94 2.06.94-2.06 2.06-.94-2.06-.94-.94-2.06-.94 2.06-2.06.94zm-11 1L8.5 8.5l.94-2.06 2.06-.94-2.06-.94L8.5 2.5l-.94 2.06-2.06.94zm10 10l.94 2.06.94-2.06 2.06-.94-2.06-.94-.94-2.06-.94 2.06-2.06.94z\"/><path d=\"M17.41 7.96l-1.37-1.37c-.4-.4-.92-.59-1.43-.59-.52 0-1.04.2-1.43.59L10.3 9.45l-7.72 7.72c-.78.78-.78 2.05 0 2.83L4 21.41c.39.39.9.59 1.41.59.51 0 1.02-.2 1.41-.59l7.78-7.78 2.81-2.81c.8-.78.8-2.07 0-2.86zM5.41 20L4 18.59l7.72-7.72 1.47 1.35L5.41 20z\"/>\n",
              "  </svg>\n",
              "      </button>\n",
              "      \n",
              "  <style>\n",
              "    .colab-df-container {\n",
              "      display:flex;\n",
              "      flex-wrap:wrap;\n",
              "      gap: 12px;\n",
              "    }\n",
              "\n",
              "    .colab-df-convert {\n",
              "      background-color: #E8F0FE;\n",
              "      border: none;\n",
              "      border-radius: 50%;\n",
              "      cursor: pointer;\n",
              "      display: none;\n",
              "      fill: #1967D2;\n",
              "      height: 32px;\n",
              "      padding: 0 0 0 0;\n",
              "      width: 32px;\n",
              "    }\n",
              "\n",
              "    .colab-df-convert:hover {\n",
              "      background-color: #E2EBFA;\n",
              "      box-shadow: 0px 1px 2px rgba(60, 64, 67, 0.3), 0px 1px 3px 1px rgba(60, 64, 67, 0.15);\n",
              "      fill: #174EA6;\n",
              "    }\n",
              "\n",
              "    [theme=dark] .colab-df-convert {\n",
              "      background-color: #3B4455;\n",
              "      fill: #D2E3FC;\n",
              "    }\n",
              "\n",
              "    [theme=dark] .colab-df-convert:hover {\n",
              "      background-color: #434B5C;\n",
              "      box-shadow: 0px 1px 3px 1px rgba(0, 0, 0, 0.15);\n",
              "      filter: drop-shadow(0px 1px 2px rgba(0, 0, 0, 0.3));\n",
              "      fill: #FFFFFF;\n",
              "    }\n",
              "  </style>\n",
              "\n",
              "      <script>\n",
              "        const buttonEl =\n",
              "          document.querySelector('#df-6d3ca4e6-8435-4918-b9d0-4231b7d4948b button.colab-df-convert');\n",
              "        buttonEl.style.display =\n",
              "          google.colab.kernel.accessAllowed ? 'block' : 'none';\n",
              "\n",
              "        async function convertToInteractive(key) {\n",
              "          const element = document.querySelector('#df-6d3ca4e6-8435-4918-b9d0-4231b7d4948b');\n",
              "          const dataTable =\n",
              "            await google.colab.kernel.invokeFunction('convertToInteractive',\n",
              "                                                     [key], {});\n",
              "          if (!dataTable) return;\n",
              "\n",
              "          const docLinkHtml = 'Like what you see? Visit the ' +\n",
              "            '<a target=\"_blank\" href=https://colab.research.google.com/notebooks/data_table.ipynb>data table notebook</a>'\n",
              "            + ' to learn more about interactive tables.';\n",
              "          element.innerHTML = '';\n",
              "          dataTable['output_type'] = 'display_data';\n",
              "          await google.colab.output.renderOutput(dataTable, element);\n",
              "          const docLink = document.createElement('div');\n",
              "          docLink.innerHTML = docLinkHtml;\n",
              "          element.appendChild(docLink);\n",
              "        }\n",
              "      </script>\n",
              "    </div>\n",
              "  </div>\n",
              "  "
            ],
            "text/plain": [
              "            Image Index  ... Nothing\n",
              "11786  00004832_028.png  ...       0\n",
              "\n",
              "[1 rows x 28 columns]"
            ]
          },
          "metadata": {},
          "execution_count": 6
        }
      ],
      "source": [
        "from sklearn.model_selection import train_test_split\n",
        "raw_train_df, test_valid_df = train_test_split(more_balanced_df, \n",
        "                                   test_size = 0.30, \n",
        "                                   random_state = 2018,\n",
        "                                   stratify = more_balanced_df[['Nodule']])\n",
        "valid_df, test_df = train_test_split(test_valid_df, \n",
        "                                   test_size = 0.40, \n",
        "                                   random_state = 2018,\n",
        "                                   stratify = test_valid_df[['Nodule']])\n",
        "print('train', raw_train_df.shape[0], 'validation', valid_df.shape[0], 'test', test_df.shape[0])\n",
        "print('train', raw_train_df['Nodule'].value_counts())\n",
        "print('test', test_df['Nodule'].value_counts())\n",
        "raw_train_df.sample(1)"
      ]
    },
    {
      "cell_type": "code",
      "execution_count": 7,
      "metadata": {
        "colab": {
          "base_uri": "https://localhost:8080/"
        },
        "id": "2tz46UpY2fKf",
        "outputId": "9a54578e-6c51-40e8-cbbe-94b8a2474e34"
      },
      "outputs": [
        {
          "output_type": "stream",
          "name": "stdout",
          "text": [
            "New Data Size: 120000 Old Size: 13293\n"
          ]
        }
      ],
      "source": [
        "train_df = raw_train_df.groupby(['Nodule']).apply(lambda x: x.sample(60000, replace = True)\n",
        "                                                      ).reset_index(drop = True)\n",
        "print('New Data Size:', train_df.shape[0], 'Old Size:', raw_train_df.shape[0])"
      ]
    },
    {
      "cell_type": "code",
      "execution_count": 8,
      "metadata": {
        "id": "ocXo0DA02fKf"
      },
      "outputs": [],
      "source": [
        "from keras.preprocessing.image import ImageDataGenerator\n",
        "idg = ImageDataGenerator(zoom_range=0.2,\n",
        "                           fill_mode='nearest',\n",
        "                           rotation_range=25,  \n",
        "                           width_shift_range=0.25,  \n",
        "                           height_shift_range=0.25,  \n",
        "                           vertical_flip=False, \n",
        "                           horizontal_flip=True,\n",
        "                           shear_range = 0.2,\n",
        "                           samplewise_center=False, \n",
        "                           samplewise_std_normalization=False)\n"
      ]
    },
    {
      "cell_type": "code",
      "execution_count": 9,
      "metadata": {
        "id": "ul6usEiN2fKg"
      },
      "outputs": [],
      "source": [
        "SEED= 10\n",
        "IMG_SIZE = (128, 128) \n",
        "####\n",
        "def flow_from_dataframe(imgDatGen, df, batch_size, seed, img_size):\n",
        "    #gc.collect()\n",
        "    gen_img = imgDatGen.flow_from_dataframe(dataframe=more_balanced_df,\n",
        "        x_col='path', y_col='Nodule',\n",
        "        batch_size=batch_size, seed=seed, shuffle=True, class_mode='other',\n",
        "        target_size=img_size, color_mode='grayscale',\n",
        "        drop_duplicates=False)\n",
        "\n",
        "    \n",
        "        \n",
        "    while True:\n",
        "        X1i = gen_img.next()\n",
        "        #X2i = gen_img.next()\n",
        "        #gc.collect()\n",
        "        yield [X1i[0], X1i[1]]"
      ]
    },
    {
      "cell_type": "code",
      "execution_count": 10,
      "metadata": {
        "id": "BMra6Q-g2fKg"
      },
      "outputs": [],
      "source": [
        "flow = flow_from_dataframe(idg, more_balanced_df, 7151, SEED, IMG_SIZE)"
      ]
    },
    {
      "cell_type": "code",
      "execution_count": 11,
      "metadata": {
        "colab": {
          "base_uri": "https://localhost:8080/"
        },
        "id": "OYiuGJwf2fKg",
        "outputId": "12e665de-2478-4c7f-a28f-2087721f4ff6"
      },
      "outputs": [
        {
          "output_type": "stream",
          "name": "stderr",
          "text": [
            "--- Logging error ---\n",
            "Traceback (most recent call last):\n",
            "  File \"/usr/lib/python3.7/logging/__init__.py\", line 1025, in emit\n",
            "    msg = self.format(record)\n",
            "  File \"/usr/lib/python3.7/logging/__init__.py\", line 869, in format\n",
            "    return fmt.format(record)\n",
            "  File \"/usr/lib/python3.7/logging/__init__.py\", line 608, in format\n",
            "    record.message = record.getMessage()\n",
            "  File \"/usr/lib/python3.7/logging/__init__.py\", line 369, in getMessage\n",
            "    msg = msg % self.args\n",
            "TypeError: not all arguments converted during string formatting\n",
            "Call stack:\n",
            "  File \"/usr/lib/python3.7/runpy.py\", line 193, in _run_module_as_main\n",
            "    \"__main__\", mod_spec)\n",
            "  File \"/usr/lib/python3.7/runpy.py\", line 85, in _run_code\n",
            "    exec(code, run_globals)\n",
            "  File \"/usr/local/lib/python3.7/dist-packages/ipykernel_launcher.py\", line 16, in <module>\n",
            "    app.launch_new_instance()\n",
            "  File \"/usr/local/lib/python3.7/dist-packages/traitlets/config/application.py\", line 846, in launch_instance\n",
            "    app.start()\n",
            "  File \"/usr/local/lib/python3.7/dist-packages/ipykernel/kernelapp.py\", line 499, in start\n",
            "    self.io_loop.start()\n",
            "  File \"/usr/local/lib/python3.7/dist-packages/tornado/platform/asyncio.py\", line 132, in start\n",
            "    self.asyncio_loop.run_forever()\n",
            "  File \"/usr/lib/python3.7/asyncio/base_events.py\", line 541, in run_forever\n",
            "    self._run_once()\n",
            "  File \"/usr/lib/python3.7/asyncio/base_events.py\", line 1786, in _run_once\n",
            "    handle._run()\n",
            "  File \"/usr/lib/python3.7/asyncio/events.py\", line 88, in _run\n",
            "    self._context.run(self._callback, *self._args)\n",
            "  File \"/usr/local/lib/python3.7/dist-packages/tornado/ioloop.py\", line 758, in _run_callback\n",
            "    ret = callback()\n",
            "  File \"/usr/local/lib/python3.7/dist-packages/tornado/stack_context.py\", line 300, in null_wrapper\n",
            "    return fn(*args, **kwargs)\n",
            "  File \"/usr/local/lib/python3.7/dist-packages/zmq/eventloop/zmqstream.py\", line 536, in <lambda>\n",
            "    self.io_loop.add_callback(lambda: self._handle_events(self.socket, 0))\n",
            "  File \"/usr/local/lib/python3.7/dist-packages/zmq/eventloop/zmqstream.py\", line 452, in _handle_events\n",
            "    self._handle_recv()\n",
            "  File \"/usr/local/lib/python3.7/dist-packages/zmq/eventloop/zmqstream.py\", line 481, in _handle_recv\n",
            "    self._run_callback(callback, msg)\n",
            "  File \"/usr/local/lib/python3.7/dist-packages/zmq/eventloop/zmqstream.py\", line 431, in _run_callback\n",
            "    callback(*args, **kwargs)\n",
            "  File \"/usr/local/lib/python3.7/dist-packages/tornado/stack_context.py\", line 300, in null_wrapper\n",
            "    return fn(*args, **kwargs)\n",
            "  File \"/usr/local/lib/python3.7/dist-packages/ipykernel/kernelbase.py\", line 283, in dispatcher\n",
            "    return self.dispatch_shell(stream, msg)\n",
            "  File \"/usr/local/lib/python3.7/dist-packages/ipykernel/kernelbase.py\", line 233, in dispatch_shell\n",
            "    handler(stream, idents, msg)\n",
            "  File \"/usr/local/lib/python3.7/dist-packages/ipykernel/kernelbase.py\", line 399, in execute_request\n",
            "    user_expressions, allow_stdin)\n",
            "  File \"/usr/local/lib/python3.7/dist-packages/ipykernel/ipkernel.py\", line 208, in do_execute\n",
            "    res = shell.run_cell(code, store_history=store_history, silent=silent)\n",
            "  File \"/usr/local/lib/python3.7/dist-packages/ipykernel/zmqshell.py\", line 537, in run_cell\n",
            "    return super(ZMQInteractiveShell, self).run_cell(*args, **kwargs)\n",
            "  File \"/usr/local/lib/python3.7/dist-packages/IPython/core/interactiveshell.py\", line 2718, in run_cell\n",
            "    interactivity=interactivity, compiler=compiler, result=result)\n",
            "  File \"/usr/local/lib/python3.7/dist-packages/IPython/core/interactiveshell.py\", line 2822, in run_ast_nodes\n",
            "    if self.run_code(code, result):\n",
            "  File \"/usr/local/lib/python3.7/dist-packages/IPython/core/interactiveshell.py\", line 2882, in run_code\n",
            "    exec(code_obj, self.user_global_ns, self.user_ns)\n",
            "  File \"<ipython-input-11-710bbcbe35c6>\", line 1, in <module>\n",
            "    t,y= next(flow)\n",
            "  File \"<ipython-input-9-c4e90f3dc100>\", line 10, in flow_from_dataframe\n",
            "    drop_duplicates=False)\n",
            "  File \"/usr/local/lib/python3.7/dist-packages/keras/preprocessing/image.py\", line 1109, in flow_from_dataframe\n",
            "    '`class_mode` \"raw\".', DeprecationWarning)\n",
            "  File \"/usr/local/lib/python3.7/dist-packages/tensorflow/python/platform/tf_logging.py\", line 178, in warning\n",
            "    get_logger().warning(msg, *args, **kwargs)\n",
            "Message: '`class_mode` \"other\" is deprecated, please use `class_mode` \"raw\".'\n",
            "Arguments: (<class 'DeprecationWarning'>,)\n",
            "--- Logging error ---\n",
            "Traceback (most recent call last):\n",
            "  File \"/usr/lib/python3.7/logging/__init__.py\", line 1025, in emit\n",
            "    msg = self.format(record)\n",
            "  File \"/usr/lib/python3.7/logging/__init__.py\", line 869, in format\n",
            "    return fmt.format(record)\n",
            "  File \"/usr/lib/python3.7/logging/__init__.py\", line 608, in format\n",
            "    record.message = record.getMessage()\n",
            "  File \"/usr/lib/python3.7/logging/__init__.py\", line 369, in getMessage\n",
            "    msg = msg % self.args\n",
            "TypeError: not all arguments converted during string formatting\n",
            "Call stack:\n",
            "  File \"/usr/lib/python3.7/runpy.py\", line 193, in _run_module_as_main\n",
            "    \"__main__\", mod_spec)\n",
            "  File \"/usr/lib/python3.7/runpy.py\", line 85, in _run_code\n",
            "    exec(code, run_globals)\n",
            "  File \"/usr/local/lib/python3.7/dist-packages/ipykernel_launcher.py\", line 16, in <module>\n",
            "    app.launch_new_instance()\n",
            "  File \"/usr/local/lib/python3.7/dist-packages/traitlets/config/application.py\", line 846, in launch_instance\n",
            "    app.start()\n",
            "  File \"/usr/local/lib/python3.7/dist-packages/ipykernel/kernelapp.py\", line 499, in start\n",
            "    self.io_loop.start()\n",
            "  File \"/usr/local/lib/python3.7/dist-packages/tornado/platform/asyncio.py\", line 132, in start\n",
            "    self.asyncio_loop.run_forever()\n",
            "  File \"/usr/lib/python3.7/asyncio/base_events.py\", line 541, in run_forever\n",
            "    self._run_once()\n",
            "  File \"/usr/lib/python3.7/asyncio/base_events.py\", line 1786, in _run_once\n",
            "    handle._run()\n",
            "  File \"/usr/lib/python3.7/asyncio/events.py\", line 88, in _run\n",
            "    self._context.run(self._callback, *self._args)\n",
            "  File \"/usr/local/lib/python3.7/dist-packages/tornado/ioloop.py\", line 758, in _run_callback\n",
            "    ret = callback()\n",
            "  File \"/usr/local/lib/python3.7/dist-packages/tornado/stack_context.py\", line 300, in null_wrapper\n",
            "    return fn(*args, **kwargs)\n",
            "  File \"/usr/local/lib/python3.7/dist-packages/zmq/eventloop/zmqstream.py\", line 536, in <lambda>\n",
            "    self.io_loop.add_callback(lambda: self._handle_events(self.socket, 0))\n",
            "  File \"/usr/local/lib/python3.7/dist-packages/zmq/eventloop/zmqstream.py\", line 452, in _handle_events\n",
            "    self._handle_recv()\n",
            "  File \"/usr/local/lib/python3.7/dist-packages/zmq/eventloop/zmqstream.py\", line 481, in _handle_recv\n",
            "    self._run_callback(callback, msg)\n",
            "  File \"/usr/local/lib/python3.7/dist-packages/zmq/eventloop/zmqstream.py\", line 431, in _run_callback\n",
            "    callback(*args, **kwargs)\n",
            "  File \"/usr/local/lib/python3.7/dist-packages/tornado/stack_context.py\", line 300, in null_wrapper\n",
            "    return fn(*args, **kwargs)\n",
            "  File \"/usr/local/lib/python3.7/dist-packages/ipykernel/kernelbase.py\", line 283, in dispatcher\n",
            "    return self.dispatch_shell(stream, msg)\n",
            "  File \"/usr/local/lib/python3.7/dist-packages/ipykernel/kernelbase.py\", line 233, in dispatch_shell\n",
            "    handler(stream, idents, msg)\n",
            "  File \"/usr/local/lib/python3.7/dist-packages/ipykernel/kernelbase.py\", line 399, in execute_request\n",
            "    user_expressions, allow_stdin)\n",
            "  File \"/usr/local/lib/python3.7/dist-packages/ipykernel/ipkernel.py\", line 208, in do_execute\n",
            "    res = shell.run_cell(code, store_history=store_history, silent=silent)\n",
            "  File \"/usr/local/lib/python3.7/dist-packages/ipykernel/zmqshell.py\", line 537, in run_cell\n",
            "    return super(ZMQInteractiveShell, self).run_cell(*args, **kwargs)\n",
            "  File \"/usr/local/lib/python3.7/dist-packages/IPython/core/interactiveshell.py\", line 2718, in run_cell\n",
            "    interactivity=interactivity, compiler=compiler, result=result)\n",
            "  File \"/usr/local/lib/python3.7/dist-packages/IPython/core/interactiveshell.py\", line 2822, in run_ast_nodes\n",
            "    if self.run_code(code, result):\n",
            "  File \"/usr/local/lib/python3.7/dist-packages/IPython/core/interactiveshell.py\", line 2882, in run_code\n",
            "    exec(code_obj, self.user_global_ns, self.user_ns)\n",
            "  File \"<ipython-input-11-710bbcbe35c6>\", line 1, in <module>\n",
            "    t,y= next(flow)\n",
            "  File \"<ipython-input-9-c4e90f3dc100>\", line 10, in flow_from_dataframe\n",
            "    drop_duplicates=False)\n",
            "  File \"/usr/local/lib/python3.7/dist-packages/keras/preprocessing/image.py\", line 1115, in flow_from_dataframe\n",
            "    DeprecationWarning)\n",
            "  File \"/usr/local/lib/python3.7/dist-packages/tensorflow/python/platform/tf_logging.py\", line 178, in warning\n",
            "    get_logger().warning(msg, *args, **kwargs)\n",
            "Message: 'drop_duplicates is deprecated, you can drop duplicates by using the pandas.DataFrame.drop_duplicates method.'\n",
            "Arguments: (<class 'DeprecationWarning'>,)\n"
          ]
        },
        {
          "output_type": "stream",
          "name": "stdout",
          "text": [
            "Found 18991 validated image filenames.\n"
          ]
        }
      ],
      "source": [
        "t,y= next(flow)"
      ]
    },
    {
      "cell_type": "code",
      "execution_count": 12,
      "metadata": {
        "id": "tSQEHQl82fKg"
      },
      "outputs": [],
      "source": [
        "from sklearn.model_selection import train_test_split\n",
        "X_train, X_test, y_train, y_test = train_test_split(t,y, \n",
        "                                   test_size = 0.30, \n",
        "                                   random_state = 2018)\n"
      ]
    },
    {
      "cell_type": "code",
      "execution_count": 13,
      "metadata": {
        "colab": {
          "base_uri": "https://localhost:8080/"
        },
        "id": "aTXzRiDg2fKg",
        "outputId": "99e2411c-2a6b-4e82-810e-448e883000ef"
      },
      "outputs": [
        {
          "output_type": "stream",
          "name": "stdout",
          "text": [
            "Model: \"sequential\"\n",
            "_________________________________________________________________\n",
            " Layer (type)                Output Shape              Param #   \n",
            "=================================================================\n",
            " mobilenet_1.00_128 (Functio  (None, 4, 4, 1024)       3228288   \n",
            " nal)                                                            \n",
            "                                                                 \n",
            " global_average_pooling2d (G  (None, 1024)             0         \n",
            " lobalAveragePooling2D)                                          \n",
            "                                                                 \n",
            " dropout (Dropout)           (None, 1024)              0         \n",
            "                                                                 \n",
            " dense (Dense)               (None, 512)               524800    \n",
            "                                                                 \n",
            " dropout_1 (Dropout)         (None, 512)               0         \n",
            "                                                                 \n",
            " dense_1 (Dense)             (None, 1)                 513       \n",
            "                                                                 \n",
            "=================================================================\n",
            "Total params: 3,753,601\n",
            "Trainable params: 3,731,713\n",
            "Non-trainable params: 21,888\n",
            "_________________________________________________________________\n"
          ]
        }
      ],
      "source": [
        "from keras.applications.mobilenet import MobileNet\n",
        "from keras.layers import GlobalAveragePooling2D, Dense, Dropout, Flatten\n",
        "from keras.models import Sequential\n",
        "mobilenet_model = MobileNet(input_shape =  X_train.shape[1:], \n",
        "                                 include_top = False, weights = None)\n",
        "mobilenet_GAP_model = Sequential()\n",
        "mobilenet_GAP_model.add(mobilenet_model)\n",
        "mobilenet_GAP_model.add(GlobalAveragePooling2D())\n",
        "mobilenet_GAP_model.add(Dropout(0.5))\n",
        "mobilenet_GAP_model.add(Dense(512))\n",
        "mobilenet_GAP_model.add(Dropout(0.5))\n",
        "mobilenet_GAP_model.add(Dense(1, activation = 'sigmoid'))\n",
        "mobilenet_GAP_model.compile(optimizer = 'adam', loss = 'binary_crossentropy',\n",
        "                           metrics = ['binary_accuracy', 'mae'])\n",
        "mobilenet_GAP_model.summary()"
      ]
    },
    {
      "cell_type": "code",
      "execution_count": 14,
      "metadata": {
        "id": "7U9x1sbB2fKh"
      },
      "outputs": [],
      "source": [
        "from keras.callbacks import ModelCheckpoint, LearningRateScheduler, EarlyStopping, ReduceLROnPlateau\n",
        "weight_path=\"{}_weights.best.hdf5\".format('xray_class')\n",
        "\n",
        "checkpoint = ModelCheckpoint(weight_path, monitor='val_loss', verbose=1, \n",
        "                             save_best_only=True, mode='min', save_weights_only = True)\n",
        "\n",
        "early = EarlyStopping(monitor=\"val_loss\", \n",
        "                      mode=\"min\", \n",
        "                      patience=3)\n",
        "callbacks_list = [checkpoint, early]"
      ]
    },
    {
      "cell_type": "code",
      "execution_count": 15,
      "metadata": {
        "colab": {
          "base_uri": "https://localhost:8080/"
        },
        "id": "JzcIJ0Xr2fKh",
        "outputId": "e0039af1-a764-43aa-fbcf-72575b8ad30c"
      },
      "outputs": [
        {
          "output_type": "stream",
          "name": "stdout",
          "text": [
            "Epoch 1/10\n",
            "10/10 [==============================] - ETA: 0s - loss: 1.7284 - binary_accuracy: 0.5762 - mae: 0.4319 \n",
            "Epoch 00001: val_loss improved from inf to 0.68848, saving model to xray_class_weights.best.hdf5\n",
            "10/10 [==============================] - 356s 35s/step - loss: 1.7284 - binary_accuracy: 0.5762 - mae: 0.4319 - val_loss: 0.6885 - val_binary_accuracy: 0.6803 - val_mae: 0.4976\n",
            "Epoch 2/10\n",
            "10/10 [==============================] - ETA: 0s - loss: 0.9950 - binary_accuracy: 0.5642 - mae: 0.4519 \n",
            "Epoch 00002: val_loss improved from 0.68848 to 0.68409, saving model to xray_class_weights.best.hdf5\n",
            "10/10 [==============================] - 330s 33s/step - loss: 0.9950 - binary_accuracy: 0.5642 - mae: 0.4519 - val_loss: 0.6841 - val_binary_accuracy: 0.6803 - val_mae: 0.4953\n",
            "Epoch 3/10\n",
            "10/10 [==============================] - ETA: 0s - loss: 0.8248 - binary_accuracy: 0.5746 - mae: 0.4537 \n",
            "Epoch 00003: val_loss improved from 0.68409 to 0.66215, saving model to xray_class_weights.best.hdf5\n",
            "10/10 [==============================] - 334s 34s/step - loss: 0.8248 - binary_accuracy: 0.5746 - mae: 0.4537 - val_loss: 0.6621 - val_binary_accuracy: 0.6803 - val_mae: 0.4821\n",
            "Epoch 4/10\n",
            "10/10 [==============================] - ETA: 0s - loss: 0.7246 - binary_accuracy: 0.6092 - mae: 0.4484 \n",
            "Epoch 00004: val_loss improved from 0.66215 to 0.64165, saving model to xray_class_weights.best.hdf5\n",
            "10/10 [==============================] - 327s 33s/step - loss: 0.7246 - binary_accuracy: 0.6092 - mae: 0.4484 - val_loss: 0.6416 - val_binary_accuracy: 0.6803 - val_mae: 0.4652\n",
            "Epoch 5/10\n",
            "10/10 [==============================] - ETA: 0s - loss: 0.7094 - binary_accuracy: 0.6332 - mae: 0.4401 \n",
            "Epoch 00005: val_loss did not improve from 0.64165\n",
            "10/10 [==============================] - 331s 33s/step - loss: 0.7094 - binary_accuracy: 0.6332 - mae: 0.4401 - val_loss: 0.6481 - val_binary_accuracy: 0.6803 - val_mae: 0.4713\n",
            "Epoch 6/10\n",
            "10/10 [==============================] - ETA: 0s - loss: 0.6827 - binary_accuracy: 0.6456 - mae: 0.4318 \n",
            "Epoch 00006: val_loss did not improve from 0.64165\n",
            "10/10 [==============================] - 328s 33s/step - loss: 0.6827 - binary_accuracy: 0.6456 - mae: 0.4318 - val_loss: 0.6462 - val_binary_accuracy: 0.6803 - val_mae: 0.4696\n",
            "Epoch 7/10\n",
            "10/10 [==============================] - ETA: 0s - loss: 0.5903 - binary_accuracy: 0.6983 - mae: 0.3918 \n",
            "Epoch 00007: val_loss did not improve from 0.64165\n",
            "10/10 [==============================] - 340s 34s/step - loss: 0.5903 - binary_accuracy: 0.6983 - mae: 0.3918 - val_loss: 0.6497 - val_binary_accuracy: 0.6803 - val_mae: 0.4727\n"
          ]
        }
      ],
      "source": [
        "history_mobilenet_GAP = mobilenet_GAP_model.fit(X_train,y_train,\n",
        "                                  steps_per_epoch=10,\n",
        "                                  validation_data = (X_test, y_test), \n",
        "                                  epochs = 10, \n",
        "                                  callbacks = callbacks_list)"
      ]
    },
    {
      "cell_type": "code",
      "execution_count": 16,
      "metadata": {
        "colab": {
          "base_uri": "https://localhost:8080/"
        },
        "id": "ihOR87re2fKh",
        "outputId": "33a4902b-4857-4951-e96a-8b18b2dc536e"
      },
      "outputs": [
        {
          "output_type": "stream",
          "name": "stdout",
          "text": [
            "68/68 [==============================] - 22s 317ms/step\n"
          ]
        }
      ],
      "source": [
        "pred_Y = mobilenet_GAP_model.predict(X_test, \n",
        "                          batch_size = 32, \n",
        "                          verbose = True)"
      ]
    },
    {
      "cell_type": "code",
      "execution_count": 17,
      "metadata": {
        "colab": {
          "base_uri": "https://localhost:8080/"
        },
        "id": "-SpMGlDa2fKh",
        "outputId": "6dd3ad34-9884-4438-9ae5-f1aba02d5622"
      },
      "outputs": [
        {
          "output_type": "execute_result",
          "data": {
            "text/plain": [
              "array([[0.4243728],\n",
              "       [0.4243728],\n",
              "       [0.4243728],\n",
              "       ...,\n",
              "       [0.4243728],\n",
              "       [0.4243728],\n",
              "       [0.4243728]], dtype=float32)"
            ]
          },
          "metadata": {},
          "execution_count": 17
        }
      ],
      "source": [
        "pred_Y"
      ]
    },
    {
      "cell_type": "code",
      "execution_count": 18,
      "metadata": {
        "colab": {
          "base_uri": "https://localhost:8080/"
        },
        "id": "F4LmvekE2fKh",
        "outputId": "d0e55a17-6ac2-48e4-ec42-ac23d6298744"
      },
      "outputs": [
        {
          "output_type": "execute_result",
          "data": {
            "text/plain": [
              "array([0.4243728], dtype=float32)"
            ]
          },
          "metadata": {},
          "execution_count": 18
        }
      ],
      "source": [
        "min(pred_Y)"
      ]
    },
    {
      "cell_type": "code",
      "execution_count": 19,
      "metadata": {
        "colab": {
          "base_uri": "https://localhost:8080/"
        },
        "id": "QuTumsNN2fKi",
        "outputId": "0302a32d-3b04-4391-88ed-1bdf33afdf03"
      },
      "outputs": [
        {
          "output_type": "stream",
          "name": "stdout",
          "text": [
            "test accuracy =  0.680335521697998\n"
          ]
        }
      ],
      "source": [
        "print('test accuracy = ',mobilenet_GAP_model.evaluate(X_test,y_test, verbose=0)[1])"
      ]
    },
    {
      "cell_type": "code",
      "execution_count": 20,
      "metadata": {
        "colab": {
          "base_uri": "https://localhost:8080/"
        },
        "id": "qP1pjDZL2fKi",
        "outputId": "4bf64bf5-11ca-4627-8c2d-b2936e1112e1"
      },
      "outputs": [
        {
          "output_type": "stream",
          "name": "stdout",
          "text": [
            "roc score =  0.4980769998801869\n"
          ]
        }
      ],
      "source": [
        "from sklearn.metrics import roc_auc_score\n",
        "print('roc score = ',roc_auc_score(y_test.astype(int), pred_Y))"
      ]
    },
    {
      "cell_type": "code",
      "execution_count": 21,
      "metadata": {
        "colab": {
          "base_uri": "https://localhost:8080/",
          "height": 430
        },
        "id": "hHRgEa_Z2fKi",
        "outputId": "370508ab-9981-42a7-b24f-c1357f91b9ca"
      },
      "outputs": [
        {
          "output_type": "stream",
          "name": "stdout",
          "text": [
            "              precision    recall  f1-score   support\n",
            "\n",
            "   No Nodule       0.68      0.99      0.81      1460\n",
            "      Nodule       0.20      0.00      0.01       686\n",
            "\n",
            "    accuracy                           0.68      2146\n",
            "   macro avg       0.44      0.50      0.41      2146\n",
            "weighted avg       0.53      0.68      0.55      2146\n",
            "\n"
          ]
        },
        {
          "output_type": "display_data",
          "data": {
            "image/png": "[encoded data removed]",
            "text/plain": [
              "<Figure size 288x288 with 1 Axes>"
            ]
          },
          "metadata": {
            "needs_background": "light"
          }
        }
      ],
      "source": [
        "from sklearn.metrics import classification_report, confusion_matrix\n",
        "plt.matshow(confusion_matrix(y_test, pred_Y>0.4243728))\n",
        "print(classification_report(y_test, pred_Y>0.4243728, target_names = ['No Nodule', 'Nodule']))"
      ]
    },
    {
      "cell_type": "markdown",
      "metadata": {
        "id": "Qh-IafXx2f9H"
      },
      "source": [
        "## **Pleural-Thickening**"
      ]
    },
    {
      "cell_type": "code",
      "execution_count": 22,
      "metadata": {
        "colab": {
          "base_uri": "https://localhost:8080/",
          "height": 266
        },
        "id": "Bmhbl8ss2gbA",
        "outputId": "8af9ad0b-af6d-4b61-8491-48cdd4cc84a6"
      },
      "outputs": [
        {
          "output_type": "stream",
          "name": "stdout",
          "text": [
            "0    6768\n",
            "1    3385\n",
            "Name: Pleural_Thickening, dtype: int64\n"
          ]
        },
        {
          "output_type": "execute_result",
          "data": {
            "text/plain": [
              "<seaborn.axisgrid.PairGrid at 0x7f3ab35e0c10>"
            ]
          },
          "metadata": {},
          "execution_count": 22
        },
        {
          "output_type": "display_data",
          "data": {
            "image/png": "[encoded data removed]",
            "text/plain": [
              "<Figure size 281.75x180 with 2 Axes>"
            ]
          },
          "metadata": {
            "needs_background": "light"
          }
        }
      ],
      "source": [
        "positive_cases = np.sum(all_xray_df['Pleural_Thickening']==True)//2\n",
        "oversample_factor = 4 # maximum number of cases in negative group so it isn't super rare\n",
        "more_balanced_df = all_xray_df.groupby(['Pleural_Thickening']).apply(lambda x: x.sample(min(oversample_factor*positive_cases, x.shape[0]), \n",
        "                                                                                   replace = False)\n",
        "                                                      ).reset_index(drop = True)\n",
        "\n",
        "print(more_balanced_df['Pleural_Thickening'].value_counts())\n",
        "sns.pairplot(more_balanced_df[['Patient Age', 'Pleural_Thickening']], hue='Pleural_Thickening')"
      ]
    },
    {
      "cell_type": "code",
      "execution_count": 23,
      "metadata": {
        "colab": {
          "base_uri": "https://localhost:8080/",
          "height": 301
        },
        "id": "BFoxc1p12gbB",
        "outputId": "216ab969-2a52-4548-88b9-93b27ac2ae49"
      },
      "outputs": [
        {
          "output_type": "stream",
          "name": "stdout",
          "text": [
            "train 7107 validation 1827 test 1219\n",
            "train 0    4738\n",
            "1    2369\n",
            "Name: Pleural_Thickening, dtype: int64\n",
            "test 0    812\n",
            "1    407\n",
            "Name: Pleural_Thickening, dtype: int64\n"
          ]
        },
        {
          "output_type": "execute_result",
          "data": {
            "text/html": [
              "\n",
              "  <div id=\"df-d9f15fae-71f6-41f7-a63e-83dfc3de389a\">\n",
              "    <div class=\"colab-df-container\">\n",
              "      <div>\n",
              "<style scoped>\n",
              "    .dataframe tbody tr th:only-of-type {\n",
              "        vertical-align: middle;\n",
              "    }\n",
              "\n",
              "    .dataframe tbody tr th {\n",
              "        vertical-align: top;\n",
              "    }\n",
              "\n",
              "    .dataframe thead th {\n",
              "        text-align: right;\n",
              "    }\n",
              "</style>\n",
              "<table border=\"1\" class=\"dataframe\">\n",
              "  <thead>\n",
              "    <tr style=\"text-align: right;\">\n",
              "      <th></th>\n",
              "      <th>Image Index</th>\n",
              "      <th>Finding Labels</th>\n",
              "      <th>Follow-up #</th>\n",
              "      <th>Patient ID</th>\n",
              "      <th>Patient Age</th>\n",
              "      <th>Patient Gender</th>\n",
              "      <th>View Position</th>\n",
              "      <th>OriginalImage[Width</th>\n",
              "      <th>Height]</th>\n",
              "      <th>OriginalImagePixelSpacing[x</th>\n",
              "      <th>y]</th>\n",
              "      <th>path</th>\n",
              "      <th>Pneumonia</th>\n",
              "      <th>Patient Male</th>\n",
              "      <th>Cardiomegaly</th>\n",
              "      <th>Emphysema</th>\n",
              "      <th>Effusion</th>\n",
              "      <th>Hernia</th>\n",
              "      <th>Nodule</th>\n",
              "      <th>Pneumothorax</th>\n",
              "      <th>Atelectasis</th>\n",
              "      <th>Pleural_Thickening</th>\n",
              "      <th>Mass</th>\n",
              "      <th>Edema</th>\n",
              "      <th>Consolidation</th>\n",
              "      <th>Infiltration</th>\n",
              "      <th>Fibrosis</th>\n",
              "      <th>Nothing</th>\n",
              "    </tr>\n",
              "  </thead>\n",
              "  <tbody>\n",
              "    <tr>\n",
              "      <th>4290</th>\n",
              "      <td>00002457_011.png</td>\n",
              "      <td>No Finding</td>\n",
              "      <td>11</td>\n",
              "      <td>2457</td>\n",
              "      <td>15</td>\n",
              "      <td>M</td>\n",
              "      <td>AP</td>\n",
              "      <td>2500</td>\n",
              "      <td>2048</td>\n",
              "      <td>0.168</td>\n",
              "      <td>0.168</td>\n",
              "      <td>/content/drive/MyDrive/Images/image2/00002457_...</td>\n",
              "      <td>False</td>\n",
              "      <td>1.0</td>\n",
              "      <td>0</td>\n",
              "      <td>0</td>\n",
              "      <td>0</td>\n",
              "      <td>0</td>\n",
              "      <td>0</td>\n",
              "      <td>0</td>\n",
              "      <td>0</td>\n",
              "      <td>0</td>\n",
              "      <td>0</td>\n",
              "      <td>0</td>\n",
              "      <td>0</td>\n",
              "      <td>0</td>\n",
              "      <td>0</td>\n",
              "      <td>1</td>\n",
              "    </tr>\n",
              "  </tbody>\n",
              "</table>\n",
              "</div>\n",
              "      <button class=\"colab-df-convert\" onclick=\"convertToInteractive('df-d9f15fae-71f6-41f7-a63e-83dfc3de389a')\"\n",
              "              title=\"Convert this dataframe to an interactive table.\"\n",
              "              style=\"display:none;\">\n",
              "        \n",
              "  <svg xmlns=\"http://www.w3.org/2000/svg\" height=\"24px\"viewBox=\"0 0 24 24\"\n",
              "       width=\"24px\">\n",
              "    <path d=\"M0 0h24v24H0V0z\" fill=\"none\"/>\n",
              "    <path d=\"M18.56 5.44l.94 2.06.94-2.06 2.06-.94-2.06-.94-.94-2.06-.94 2.06-2.06.94zm-11 1L8.5 8.5l.94-2.06 2.06-.94-2.06-.94L8.5 2.5l-.94 2.06-2.06.94zm10 10l.94 2.06.94-2.06 2.06-.94-2.06-.94-.94-2.06-.94 2.06-2.06.94z\"/><path d=\"M17.41 7.96l-1.37-1.37c-.4-.4-.92-.59-1.43-.59-.52 0-1.04.2-1.43.59L10.3 9.45l-7.72 7.72c-.78.78-.78 2.05 0 2.83L4 21.41c.39.39.9.59 1.41.59.51 0 1.02-.2 1.41-.59l7.78-7.78 2.81-2.81c.8-.78.8-2.07 0-2.86zM5.41 20L4 18.59l7.72-7.72 1.47 1.35L5.41 20z\"/>\n",
              "  </svg>\n",
              "      </button>\n",
              "      \n",
              "  <style>\n",
              "    .colab-df-container {\n",
              "      display:flex;\n",
              "      flex-wrap:wrap;\n",
              "      gap: 12px;\n",
              "    }\n",
              "\n",
              "    .colab-df-convert {\n",
              "      background-color: #E8F0FE;\n",
              "      border: none;\n",
              "      border-radius: 50%;\n",
              "      cursor: pointer;\n",
              "      display: none;\n",
              "      fill: #1967D2;\n",
              "      height: 32px;\n",
              "      padding: 0 0 0 0;\n",
              "      width: 32px;\n",
              "    }\n",
              "\n",
              "    .colab-df-convert:hover {\n",
              "      background-color: #E2EBFA;\n",
              "      box-shadow: 0px 1px 2px rgba(60, 64, 67, 0.3), 0px 1px 3px 1px rgba(60, 64, 67, 0.15);\n",
              "      fill: #174EA6;\n",
              "    }\n",
              "\n",
              "    [theme=dark] .colab-df-convert {\n",
              "      background-color: #3B4455;\n",
              "      fill: #D2E3FC;\n",
              "    }\n",
              "\n",
              "    [theme=dark] .colab-df-convert:hover {\n",
              "      background-color: #434B5C;\n",
              "      box-shadow: 0px 1px 3px 1px rgba(0, 0, 0, 0.15);\n",
              "      filter: drop-shadow(0px 1px 2px rgba(0, 0, 0, 0.3));\n",
              "      fill: #FFFFFF;\n",
              "    }\n",
              "  </style>\n",
              "\n",
              "      <script>\n",
              "        const buttonEl =\n",
              "          document.querySelector('#df-d9f15fae-71f6-41f7-a63e-83dfc3de389a button.colab-df-convert');\n",
              "        buttonEl.style.display =\n",
              "          google.colab.kernel.accessAllowed ? 'block' : 'none';\n",
              "\n",
              "        async function convertToInteractive(key) {\n",
              "          const element = document.querySelector('#df-d9f15fae-71f6-41f7-a63e-83dfc3de389a');\n",
              "          const dataTable =\n",
              "            await google.colab.kernel.invokeFunction('convertToInteractive',\n",
              "                                                     [key], {});\n",
              "          if (!dataTable) return;\n",
              "\n",
              "          const docLinkHtml = 'Like what you see? Visit the ' +\n",
              "            '<a target=\"_blank\" href=https://colab.research.google.com/notebooks/data_table.ipynb>data table notebook</a>'\n",
              "            + ' to learn more about interactive tables.';\n",
              "          element.innerHTML = '';\n",
              "          dataTable['output_type'] = 'display_data';\n",
              "          await google.colab.output.renderOutput(dataTable, element);\n",
              "          const docLink = document.createElement('div');\n",
              "          docLink.innerHTML = docLinkHtml;\n",
              "          element.appendChild(docLink);\n",
              "        }\n",
              "      </script>\n",
              "    </div>\n",
              "  </div>\n",
              "  "
            ],
            "text/plain": [
              "           Image Index Finding Labels  ...  Fibrosis  Nothing\n",
              "4290  00002457_011.png     No Finding  ...         0        1\n",
              "\n",
              "[1 rows x 28 columns]"
            ]
          },
          "metadata": {},
          "execution_count": 23
        }
      ],
      "source": [
        "from sklearn.model_selection import train_test_split\n",
        "raw_train_df, test_valid_df = train_test_split(more_balanced_df, \n",
        "                                   test_size = 0.30, \n",
        "                                   random_state = 2018,\n",
        "                                   stratify = more_balanced_df[['Pleural_Thickening']])\n",
        "valid_df, test_df = train_test_split(test_valid_df, \n",
        "                                   test_size = 0.40, \n",
        "                                   random_state = 2018,\n",
        "                                   stratify = test_valid_df[['Pleural_Thickening']])\n",
        "print('train', raw_train_df.shape[0], 'validation', valid_df.shape[0], 'test', test_df.shape[0])\n",
        "print('train', raw_train_df['Pleural_Thickening'].value_counts())\n",
        "print('test', test_df['Pleural_Thickening'].value_counts())\n",
        "raw_train_df.sample(1)"
      ]
    },
    {
      "cell_type": "code",
      "execution_count": 24,
      "metadata": {
        "colab": {
          "base_uri": "https://localhost:8080/"
        },
        "id": "_goVPocI2gbB",
        "outputId": "339be656-1c46-4f89-fea3-8af2ca018b22"
      },
      "outputs": [
        {
          "output_type": "stream",
          "name": "stdout",
          "text": [
            "New Data Size: 120000 Old Size: 7107\n"
          ]
        }
      ],
      "source": [
        "train_df = raw_train_df.groupby(['Pleural_Thickening']).apply(lambda x: x.sample(60000, replace = True)\n",
        "                                                      ).reset_index(drop = True)\n",
        "print('New Data Size:', train_df.shape[0], 'Old Size:', raw_train_df.shape[0])"
      ]
    },
    {
      "cell_type": "code",
      "execution_count": 25,
      "metadata": {
        "id": "R7g3ZkOq2gbC"
      },
      "outputs": [],
      "source": [
        "from keras.preprocessing.image import ImageDataGenerator\n",
        "idg = ImageDataGenerator(zoom_range=0.2,\n",
        "                           fill_mode='nearest',\n",
        "                           rotation_range=25,  \n",
        "                           width_shift_range=0.25,  \n",
        "                           height_shift_range=0.25,  \n",
        "                           vertical_flip=False, \n",
        "                           horizontal_flip=True,\n",
        "                           shear_range = 0.2,\n",
        "                           samplewise_center=False, \n",
        "                           samplewise_std_normalization=False)\n"
      ]
    },
    {
      "cell_type": "code",
      "execution_count": 26,
      "metadata": {
        "id": "AzFmca6r2gbC"
      },
      "outputs": [],
      "source": [
        "SEED= 10\n",
        "IMG_SIZE = (128, 128) \n",
        "####\n",
        "def flow_from_dataframe(imgDatGen, df, batch_size, seed, img_size):\n",
        "    #gc.collect()\n",
        "    gen_img = imgDatGen.flow_from_dataframe(dataframe=more_balanced_df,\n",
        "        x_col='path', y_col='Pleural_Thickening',\n",
        "        batch_size=batch_size, seed=seed, shuffle=True, class_mode='other',\n",
        "        target_size=img_size, color_mode='grayscale',\n",
        "        drop_duplicates=False)\n",
        "\n",
        "    \n",
        "        \n",
        "    while True:\n",
        "        X1i = gen_img.next()\n",
        "        #X2i = gen_img.next()\n",
        "        #gc.collect()\n",
        "        yield [X1i[0], X1i[1]]"
      ]
    },
    {
      "cell_type": "code",
      "execution_count": 27,
      "metadata": {
        "id": "7atXPl6j2gbC"
      },
      "outputs": [],
      "source": [
        "flow = flow_from_dataframe(idg, more_balanced_df, 7151, SEED, IMG_SIZE)"
      ]
    },
    {
      "cell_type": "code",
      "execution_count": 28,
      "metadata": {
        "colab": {
          "base_uri": "https://localhost:8080/"
        },
        "id": "pKrG-aJc2gbC",
        "outputId": "a6924ccb-90a3-40f3-b848-b95121222cb1"
      },
      "outputs": [
        {
          "output_type": "stream",
          "name": "stderr",
          "text": [
            "--- Logging error ---\n",
            "Traceback (most recent call last):\n",
            "  File \"/usr/lib/python3.7/logging/__init__.py\", line 1025, in emit\n",
            "    msg = self.format(record)\n",
            "  File \"/usr/lib/python3.7/logging/__init__.py\", line 869, in format\n",
            "    return fmt.format(record)\n",
            "  File \"/usr/lib/python3.7/logging/__init__.py\", line 608, in format\n",
            "    record.message = record.getMessage()\n",
            "  File \"/usr/lib/python3.7/logging/__init__.py\", line 369, in getMessage\n",
            "    msg = msg % self.args\n",
            "TypeError: not all arguments converted during string formatting\n",
            "Call stack:\n",
            "  File \"/usr/lib/python3.7/runpy.py\", line 193, in _run_module_as_main\n",
            "    \"__main__\", mod_spec)\n",
            "  File \"/usr/lib/python3.7/runpy.py\", line 85, in _run_code\n",
            "    exec(code, run_globals)\n",
            "  File \"/usr/local/lib/python3.7/dist-packages/ipykernel_launcher.py\", line 16, in <module>\n",
            "    app.launch_new_instance()\n",
            "  File \"/usr/local/lib/python3.7/dist-packages/traitlets/config/application.py\", line 846, in launch_instance\n",
            "    app.start()\n",
            "  File \"/usr/local/lib/python3.7/dist-packages/ipykernel/kernelapp.py\", line 499, in start\n",
            "    self.io_loop.start()\n",
            "  File \"/usr/local/lib/python3.7/dist-packages/tornado/platform/asyncio.py\", line 132, in start\n",
            "    self.asyncio_loop.run_forever()\n",
            "  File \"/usr/lib/python3.7/asyncio/base_events.py\", line 541, in run_forever\n",
            "    self._run_once()\n",
            "  File \"/usr/lib/python3.7/asyncio/base_events.py\", line 1786, in _run_once\n",
            "    handle._run()\n",
            "  File \"/usr/lib/python3.7/asyncio/events.py\", line 88, in _run\n",
            "    self._context.run(self._callback, *self._args)\n",
            "  File \"/usr/local/lib/python3.7/dist-packages/tornado/platform/asyncio.py\", line 122, in _handle_events\n",
            "    handler_func(fileobj, events)\n",
            "  File \"/usr/local/lib/python3.7/dist-packages/tornado/stack_context.py\", line 300, in null_wrapper\n",
            "    return fn(*args, **kwargs)\n",
            "  File \"/usr/local/lib/python3.7/dist-packages/zmq/eventloop/zmqstream.py\", line 452, in _handle_events\n",
            "    self._handle_recv()\n",
            "  File \"/usr/local/lib/python3.7/dist-packages/zmq/eventloop/zmqstream.py\", line 481, in _handle_recv\n",
            "    self._run_callback(callback, msg)\n",
            "  File \"/usr/local/lib/python3.7/dist-packages/zmq/eventloop/zmqstream.py\", line 431, in _run_callback\n",
            "    callback(*args, **kwargs)\n",
            "  File \"/usr/local/lib/python3.7/dist-packages/tornado/stack_context.py\", line 300, in null_wrapper\n",
            "    return fn(*args, **kwargs)\n",
            "  File \"/usr/local/lib/python3.7/dist-packages/ipykernel/kernelbase.py\", line 283, in dispatcher\n",
            "    return self.dispatch_shell(stream, msg)\n",
            "  File \"/usr/local/lib/python3.7/dist-packages/ipykernel/kernelbase.py\", line 233, in dispatch_shell\n",
            "    handler(stream, idents, msg)\n",
            "  File \"/usr/local/lib/python3.7/dist-packages/ipykernel/kernelbase.py\", line 399, in execute_request\n",
            "    user_expressions, allow_stdin)\n",
            "  File \"/usr/local/lib/python3.7/dist-packages/ipykernel/ipkernel.py\", line 208, in do_execute\n",
            "    res = shell.run_cell(code, store_history=store_history, silent=silent)\n",
            "  File \"/usr/local/lib/python3.7/dist-packages/ipykernel/zmqshell.py\", line 537, in run_cell\n",
            "    return super(ZMQInteractiveShell, self).run_cell(*args, **kwargs)\n",
            "  File \"/usr/local/lib/python3.7/dist-packages/IPython/core/interactiveshell.py\", line 2718, in run_cell\n",
            "    interactivity=interactivity, compiler=compiler, result=result)\n",
            "  File \"/usr/local/lib/python3.7/dist-packages/IPython/core/interactiveshell.py\", line 2822, in run_ast_nodes\n",
            "    if self.run_code(code, result):\n",
            "  File \"/usr/local/lib/python3.7/dist-packages/IPython/core/interactiveshell.py\", line 2882, in run_code\n",
            "    exec(code_obj, self.user_global_ns, self.user_ns)\n",
            "  File \"<ipython-input-28-710bbcbe35c6>\", line 1, in <module>\n",
            "    t,y= next(flow)\n",
            "  File \"<ipython-input-26-c6a8b3037ebc>\", line 10, in flow_from_dataframe\n",
            "    drop_duplicates=False)\n",
            "  File \"/usr/local/lib/python3.7/dist-packages/keras/preprocessing/image.py\", line 1109, in flow_from_dataframe\n",
            "    '`class_mode` \"raw\".', DeprecationWarning)\n",
            "  File \"/usr/local/lib/python3.7/dist-packages/tensorflow/python/platform/tf_logging.py\", line 178, in warning\n",
            "    get_logger().warning(msg, *args, **kwargs)\n",
            "Message: '`class_mode` \"other\" is deprecated, please use `class_mode` \"raw\".'\n",
            "Arguments: (<class 'DeprecationWarning'>,)\n",
            "--- Logging error ---\n",
            "Traceback (most recent call last):\n",
            "  File \"/usr/lib/python3.7/logging/__init__.py\", line 1025, in emit\n",
            "    msg = self.format(record)\n",
            "  File \"/usr/lib/python3.7/logging/__init__.py\", line 869, in format\n",
            "    return fmt.format(record)\n",
            "  File \"/usr/lib/python3.7/logging/__init__.py\", line 608, in format\n",
            "    record.message = record.getMessage()\n",
            "  File \"/usr/lib/python3.7/logging/__init__.py\", line 369, in getMessage\n",
            "    msg = msg % self.args\n",
            "TypeError: not all arguments converted during string formatting\n",
            "Call stack:\n",
            "  File \"/usr/lib/python3.7/runpy.py\", line 193, in _run_module_as_main\n",
            "    \"__main__\", mod_spec)\n",
            "  File \"/usr/lib/python3.7/runpy.py\", line 85, in _run_code\n",
            "    exec(code, run_globals)\n",
            "  File \"/usr/local/lib/python3.7/dist-packages/ipykernel_launcher.py\", line 16, in <module>\n",
            "    app.launch_new_instance()\n",
            "  File \"/usr/local/lib/python3.7/dist-packages/traitlets/config/application.py\", line 846, in launch_instance\n",
            "    app.start()\n",
            "  File \"/usr/local/lib/python3.7/dist-packages/ipykernel/kernelapp.py\", line 499, in start\n",
            "    self.io_loop.start()\n",
            "  File \"/usr/local/lib/python3.7/dist-packages/tornado/platform/asyncio.py\", line 132, in start\n",
            "    self.asyncio_loop.run_forever()\n",
            "  File \"/usr/lib/python3.7/asyncio/base_events.py\", line 541, in run_forever\n",
            "    self._run_once()\n",
            "  File \"/usr/lib/python3.7/asyncio/base_events.py\", line 1786, in _run_once\n",
            "    handle._run()\n",
            "  File \"/usr/lib/python3.7/asyncio/events.py\", line 88, in _run\n",
            "    self._context.run(self._callback, *self._args)\n",
            "  File \"/usr/local/lib/python3.7/dist-packages/tornado/platform/asyncio.py\", line 122, in _handle_events\n",
            "    handler_func(fileobj, events)\n",
            "  File \"/usr/local/lib/python3.7/dist-packages/tornado/stack_context.py\", line 300, in null_wrapper\n",
            "    return fn(*args, **kwargs)\n",
            "  File \"/usr/local/lib/python3.7/dist-packages/zmq/eventloop/zmqstream.py\", line 452, in _handle_events\n",
            "    self._handle_recv()\n",
            "  File \"/usr/local/lib/python3.7/dist-packages/zmq/eventloop/zmqstream.py\", line 481, in _handle_recv\n",
            "    self._run_callback(callback, msg)\n",
            "  File \"/usr/local/lib/python3.7/dist-packages/zmq/eventloop/zmqstream.py\", line 431, in _run_callback\n",
            "    callback(*args, **kwargs)\n",
            "  File \"/usr/local/lib/python3.7/dist-packages/tornado/stack_context.py\", line 300, in null_wrapper\n",
            "    return fn(*args, **kwargs)\n",
            "  File \"/usr/local/lib/python3.7/dist-packages/ipykernel/kernelbase.py\", line 283, in dispatcher\n",
            "    return self.dispatch_shell(stream, msg)\n",
            "  File \"/usr/local/lib/python3.7/dist-packages/ipykernel/kernelbase.py\", line 233, in dispatch_shell\n",
            "    handler(stream, idents, msg)\n",
            "  File \"/usr/local/lib/python3.7/dist-packages/ipykernel/kernelbase.py\", line 399, in execute_request\n",
            "    user_expressions, allow_stdin)\n",
            "  File \"/usr/local/lib/python3.7/dist-packages/ipykernel/ipkernel.py\", line 208, in do_execute\n",
            "    res = shell.run_cell(code, store_history=store_history, silent=silent)\n",
            "  File \"/usr/local/lib/python3.7/dist-packages/ipykernel/zmqshell.py\", line 537, in run_cell\n",
            "    return super(ZMQInteractiveShell, self).run_cell(*args, **kwargs)\n",
            "  File \"/usr/local/lib/python3.7/dist-packages/IPython/core/interactiveshell.py\", line 2718, in run_cell\n",
            "    interactivity=interactivity, compiler=compiler, result=result)\n",
            "  File \"/usr/local/lib/python3.7/dist-packages/IPython/core/interactiveshell.py\", line 2822, in run_ast_nodes\n",
            "    if self.run_code(code, result):\n",
            "  File \"/usr/local/lib/python3.7/dist-packages/IPython/core/interactiveshell.py\", line 2882, in run_code\n",
            "    exec(code_obj, self.user_global_ns, self.user_ns)\n",
            "  File \"<ipython-input-28-710bbcbe35c6>\", line 1, in <module>\n",
            "    t,y= next(flow)\n",
            "  File \"<ipython-input-26-c6a8b3037ebc>\", line 10, in flow_from_dataframe\n",
            "    drop_duplicates=False)\n",
            "  File \"/usr/local/lib/python3.7/dist-packages/keras/preprocessing/image.py\", line 1115, in flow_from_dataframe\n",
            "    DeprecationWarning)\n",
            "  File \"/usr/local/lib/python3.7/dist-packages/tensorflow/python/platform/tf_logging.py\", line 178, in warning\n",
            "    get_logger().warning(msg, *args, **kwargs)\n",
            "Message: 'drop_duplicates is deprecated, you can drop duplicates by using the pandas.DataFrame.drop_duplicates method.'\n",
            "Arguments: (<class 'DeprecationWarning'>,)\n"
          ]
        },
        {
          "output_type": "stream",
          "name": "stdout",
          "text": [
            "Found 10153 validated image filenames.\n"
          ]
        }
      ],
      "source": [
        "t,y= next(flow)"
      ]
    },
    {
      "cell_type": "code",
      "execution_count": 29,
      "metadata": {
        "id": "CEZdTZJp2gbD"
      },
      "outputs": [],
      "source": [
        "from sklearn.model_selection import train_test_split\n",
        "X_train, X_test, y_train, y_test = train_test_split(t,y, \n",
        "                                   test_size = 0.30, \n",
        "                                   random_state = 2018)\n"
      ]
    },
    {
      "cell_type": "code",
      "execution_count": 30,
      "metadata": {
        "colab": {
          "base_uri": "https://localhost:8080/"
        },
        "id": "vt8Zoes32gbD",
        "outputId": "f1847a1a-15b4-4384-96e0-bcf1e231173f"
      },
      "outputs": [
        {
          "output_type": "stream",
          "name": "stdout",
          "text": [
            "Model: \"sequential_1\"\n",
            "_________________________________________________________________\n",
            " Layer (type)                Output Shape              Param #   \n",
            "=================================================================\n",
            " mobilenet_1.00_128 (Functio  (None, 4, 4, 1024)       3228288   \n",
            " nal)                                                            \n",
            "                                                                 \n",
            " global_average_pooling2d_1   (None, 1024)             0         \n",
            " (GlobalAveragePooling2D)                                        \n",
            "                                                                 \n",
            " dropout_2 (Dropout)         (None, 1024)              0         \n",
            "                                                                 \n",
            " dense_2 (Dense)             (None, 512)               524800    \n",
            "                                                                 \n",
            " dropout_3 (Dropout)         (None, 512)               0         \n",
            "                                                                 \n",
            " dense_3 (Dense)             (None, 1)                 513       \n",
            "                                                                 \n",
            "=================================================================\n",
            "Total params: 3,753,601\n",
            "Trainable params: 3,731,713\n",
            "Non-trainable params: 21,888\n",
            "_________________________________________________________________\n"
          ]
        }
      ],
      "source": [
        "from keras.applications.mobilenet import MobileNet\n",
        "from keras.layers import GlobalAveragePooling2D, Dense, Dropout, Flatten\n",
        "from keras.models import Sequential\n",
        "mobilenet_model = MobileNet(input_shape =  X_train.shape[1:], \n",
        "                                 include_top = False, weights = None)\n",
        "mobilenet_GAP_model = Sequential()\n",
        "mobilenet_GAP_model.add(mobilenet_model)\n",
        "mobilenet_GAP_model.add(GlobalAveragePooling2D())\n",
        "mobilenet_GAP_model.add(Dropout(0.5))\n",
        "mobilenet_GAP_model.add(Dense(512))\n",
        "mobilenet_GAP_model.add(Dropout(0.5))\n",
        "mobilenet_GAP_model.add(Dense(1, activation = 'sigmoid'))\n",
        "mobilenet_GAP_model.compile(optimizer = 'adam', loss = 'binary_crossentropy',\n",
        "                           metrics = ['binary_accuracy', 'mae'])\n",
        "mobilenet_GAP_model.summary()"
      ]
    },
    {
      "cell_type": "code",
      "execution_count": 31,
      "metadata": {
        "id": "lhnwjcTO2gbD"
      },
      "outputs": [],
      "source": [
        "from keras.callbacks import ModelCheckpoint, LearningRateScheduler, EarlyStopping, ReduceLROnPlateau\n",
        "weight_path=\"{}_weights.best.hdf5\".format('xray_class')\n",
        "\n",
        "checkpoint = ModelCheckpoint(weight_path, monitor='val_loss', verbose=1, \n",
        "                             save_best_only=True, mode='min', save_weights_only = True)\n",
        "\n",
        "early = EarlyStopping(monitor=\"val_loss\", \n",
        "                      mode=\"min\", \n",
        "                      patience=3)\n",
        "callbacks_list = [checkpoint, early]"
      ]
    },
    {
      "cell_type": "code",
      "execution_count": 32,
      "metadata": {
        "colab": {
          "base_uri": "https://localhost:8080/"
        },
        "id": "79-gYNWx2gbD",
        "outputId": "4767dcb7-5c6d-4b00-ae02-69f258fbeca0"
      },
      "outputs": [
        {
          "output_type": "stream",
          "name": "stdout",
          "text": [
            "Epoch 1/10\n",
            "10/10 [==============================] - ETA: 0s - loss: 1.7524 - binary_accuracy: 0.5840 - mae: 0.4202 \n",
            "Epoch 00001: val_loss improved from inf to 0.67635, saving model to xray_class_weights.best.hdf5\n",
            "10/10 [==============================] - 347s 34s/step - loss: 1.7524 - binary_accuracy: 0.5840 - mae: 0.4202 - val_loss: 0.6764 - val_binary_accuracy: 0.6598 - val_mae: 0.4908\n",
            "Epoch 2/10\n",
            "10/10 [==============================] - ETA: 0s - loss: 0.9813 - binary_accuracy: 0.5604 - mae: 0.4548 \n",
            "Epoch 00002: val_loss improved from 0.67635 to 0.66491, saving model to xray_class_weights.best.hdf5\n",
            "10/10 [==============================] - 330s 33s/step - loss: 0.9813 - binary_accuracy: 0.5604 - mae: 0.4548 - val_loss: 0.6649 - val_binary_accuracy: 0.6598 - val_mae: 0.4832\n",
            "Epoch 3/10\n",
            "10/10 [==============================] - ETA: 0s - loss: 0.7805 - binary_accuracy: 0.5930 - mae: 0.4459 \n",
            "Epoch 00003: val_loss improved from 0.66491 to 0.64796, saving model to xray_class_weights.best.hdf5\n",
            "10/10 [==============================] - 340s 34s/step - loss: 0.7805 - binary_accuracy: 0.5930 - mae: 0.4459 - val_loss: 0.6480 - val_binary_accuracy: 0.6598 - val_mae: 0.4670\n",
            "Epoch 4/10\n",
            "10/10 [==============================] - ETA: 0s - loss: 0.7256 - binary_accuracy: 0.6222 - mae: 0.4410 \n",
            "Epoch 00004: val_loss improved from 0.64796 to 0.64439, saving model to xray_class_weights.best.hdf5\n",
            "10/10 [==============================] - 327s 33s/step - loss: 0.7256 - binary_accuracy: 0.6222 - mae: 0.4410 - val_loss: 0.6444 - val_binary_accuracy: 0.6598 - val_mae: 0.4613\n",
            "Epoch 5/10\n",
            "10/10 [==============================] - ETA: 0s - loss: 0.6911 - binary_accuracy: 0.6422 - mae: 0.4358 \n",
            "Epoch 00005: val_loss improved from 0.64439 to 0.64438, saving model to xray_class_weights.best.hdf5\n",
            "10/10 [==============================] - 334s 34s/step - loss: 0.6911 - binary_accuracy: 0.6422 - mae: 0.4358 - val_loss: 0.6444 - val_binary_accuracy: 0.6598 - val_mae: 0.4613\n",
            "Epoch 6/10\n",
            "10/10 [==============================] - ETA: 0s - loss: 0.6591 - binary_accuracy: 0.6583 - mae: 0.4194 \n",
            "Epoch 00006: val_loss did not improve from 0.64438\n",
            "10/10 [==============================] - 328s 33s/step - loss: 0.6591 - binary_accuracy: 0.6583 - mae: 0.4194 - val_loss: 0.6446 - val_binary_accuracy: 0.6598 - val_mae: 0.4617\n",
            "Epoch 7/10\n",
            "10/10 [==============================] - ETA: 0s - loss: 0.5769 - binary_accuracy: 0.7125 - mae: 0.3730 \n",
            "Epoch 00007: val_loss improved from 0.64438 to 0.64115, saving model to xray_class_weights.best.hdf5\n",
            "10/10 [==============================] - 332s 33s/step - loss: 0.5769 - binary_accuracy: 0.7125 - mae: 0.3730 - val_loss: 0.6412 - val_binary_accuracy: 0.6598 - val_mae: 0.4485\n",
            "Epoch 8/10\n",
            "10/10 [==============================] - ETA: 0s - loss: 0.4399 - binary_accuracy: 0.8022 - mae: 0.2827 \n",
            "Epoch 00008: val_loss did not improve from 0.64115\n",
            "10/10 [==============================] - 331s 33s/step - loss: 0.4399 - binary_accuracy: 0.8022 - mae: 0.2827 - val_loss: 0.6488 - val_binary_accuracy: 0.6598 - val_mae: 0.4308\n",
            "Epoch 9/10\n",
            "10/10 [==============================] - ETA: 0s - loss: 0.4794 - binary_accuracy: 0.7806 - mae: 0.2704 \n",
            "Epoch 00009: val_loss did not improve from 0.64115\n",
            "10/10 [==============================] - 328s 33s/step - loss: 0.4794 - binary_accuracy: 0.7806 - mae: 0.2704 - val_loss: 0.6627 - val_binary_accuracy: 0.6598 - val_mae: 0.4193\n",
            "Epoch 10/10\n",
            "10/10 [==============================] - ETA: 0s - loss: 0.5067 - binary_accuracy: 0.7550 - mae: 0.3147 \n",
            "Epoch 00010: val_loss did not improve from 0.64115\n",
            "10/10 [==============================] - 335s 34s/step - loss: 0.5067 - binary_accuracy: 0.7550 - mae: 0.3147 - val_loss: 0.6607 - val_binary_accuracy: 0.6598 - val_mae: 0.4206\n"
          ]
        }
      ],
      "source": [
        "history_mobilenet_GAP = mobilenet_GAP_model.fit(X_train,y_train,\n",
        "                                  steps_per_epoch=10,\n",
        "                                  validation_data = (X_test, y_test), \n",
        "                                  epochs = 10, \n",
        "                                  callbacks = callbacks_list)"
      ]
    },
    {
      "cell_type": "code",
      "execution_count": 33,
      "metadata": {
        "colab": {
          "base_uri": "https://localhost:8080/"
        },
        "id": "3JVazRCA2gbE",
        "outputId": "bdca88ba-3a88-4a48-9001-23c220c933d7"
      },
      "outputs": [
        {
          "output_type": "stream",
          "name": "stdout",
          "text": [
            "68/68 [==============================] - 22s 317ms/step\n"
          ]
        }
      ],
      "source": [
        "pred_Y = mobilenet_GAP_model.predict(X_test, \n",
        "                          batch_size = 32, \n",
        "                          verbose = True)"
      ]
    },
    {
      "cell_type": "code",
      "execution_count": 34,
      "metadata": {
        "colab": {
          "base_uri": "https://localhost:8080/"
        },
        "id": "KVkrmQob2gbE",
        "outputId": "242fa098-1a4b-44c2-f3f4-1ebcef029ff6"
      },
      "outputs": [
        {
          "output_type": "execute_result",
          "data": {
            "text/plain": [
              "array([[0.25152546],\n",
              "       [0.25152546],\n",
              "       [0.25152546],\n",
              "       ...,\n",
              "       [0.25152546],\n",
              "       [0.25152546],\n",
              "       [0.25152546]], dtype=float32)"
            ]
          },
          "metadata": {},
          "execution_count": 34
        }
      ],
      "source": [
        "pred_Y"
      ]
    },
    {
      "cell_type": "code",
      "execution_count": 35,
      "metadata": {
        "colab": {
          "base_uri": "https://localhost:8080/"
        },
        "id": "zyZpoDFH2gbF",
        "outputId": "f025cc78-7359-4867-c585-48f9f727861a"
      },
      "outputs": [
        {
          "output_type": "execute_result",
          "data": {
            "text/plain": [
              "array([0.2515254], dtype=float32)"
            ]
          },
          "metadata": {},
          "execution_count": 35
        }
      ],
      "source": [
        "min(pred_Y)"
      ]
    },
    {
      "cell_type": "code",
      "execution_count": 36,
      "metadata": {
        "colab": {
          "base_uri": "https://localhost:8080/"
        },
        "id": "2FfBijDk2gbF",
        "outputId": "fed99535-8282-40b0-9741-0077d29820b3"
      },
      "outputs": [
        {
          "output_type": "stream",
          "name": "stdout",
          "text": [
            "test accuracy =  0.659832239151001\n"
          ]
        }
      ],
      "source": [
        "print('test accuracy = ',mobilenet_GAP_model.evaluate(X_test,y_test, verbose=0)[1])"
      ]
    },
    {
      "cell_type": "code",
      "execution_count": 37,
      "metadata": {
        "colab": {
          "base_uri": "https://localhost:8080/"
        },
        "id": "wUQdGrCy2gbG",
        "outputId": "29f4c9fa-3560-487f-ca71-710e607cd8fa"
      },
      "outputs": [
        {
          "output_type": "stream",
          "name": "stdout",
          "text": [
            "roc score =  0.5007274978716818\n"
          ]
        }
      ],
      "source": [
        "from sklearn.metrics import roc_auc_score\n",
        "print('roc score = ',roc_auc_score(y_test.astype(int), pred_Y))"
      ]
    },
    {
      "cell_type": "code",
      "execution_count": 38,
      "metadata": {
        "colab": {
          "base_uri": "https://localhost:8080/",
          "height": 430
        },
        "id": "Oontjsmv2gbG",
        "outputId": "51193925-50ea-4e96-fe98-3ccaa77a310f"
      },
      "outputs": [
        {
          "output_type": "stream",
          "name": "stdout",
          "text": [
            "                       precision    recall  f1-score   support\n",
            "\n",
            "No Pleural_Thickening       0.80      0.00      0.01      1416\n",
            "   Pleural_Thickening       0.34      1.00      0.51       730\n",
            "\n",
            "             accuracy                           0.34      2146\n",
            "            macro avg       0.57      0.50      0.26      2146\n",
            "         weighted avg       0.64      0.34      0.18      2146\n",
            "\n"
          ]
        },
        {
          "output_type": "display_data",
          "data": {
            "image/png": "[encoded data removed]",
            "text/plain": [
              "<Figure size 288x288 with 1 Axes>"
            ]
          },
          "metadata": {
            "needs_background": "light"
          }
        }
      ],
      "source": [
        "from sklearn.metrics import classification_report, confusion_matrix\n",
        "plt.matshow(confusion_matrix(y_test, pred_Y>0.2515254))\n",
        "print(classification_report(y_test, pred_Y>0.2515254, target_names = ['No Pleural_Thickening', 'Pleural_Thickening']))"
      ]
    },
    {
      "cell_type": "markdown",
      "metadata": {
        "id": "QKPCeBEC2hJr"
      },
      "source": [
        "## **Pneumonia**"
      ]
    },
    {
      "cell_type": "code",
      "execution_count": 39,
      "metadata": {
        "colab": {
          "base_uri": "https://localhost:8080/",
          "height": 266
        },
        "id": "9LCzfnws2hka",
        "outputId": "ac4f668e-e3e1-4722-92da-fde703b54b8c"
      },
      "outputs": [
        {
          "output_type": "stream",
          "name": "stdout",
          "text": [
            "False    2860\n",
            "True     1431\n",
            "Name: Pneumonia, dtype: int64\n"
          ]
        },
        {
          "output_type": "execute_result",
          "data": {
            "text/plain": [
              "<seaborn.axisgrid.PairGrid at 0x7f3ab057c210>"
            ]
          },
          "metadata": {},
          "execution_count": 39
        },
        {
          "output_type": "display_data",
          "data": {
            "image/png": "[encoded data removed]",
            "text/plain": [
              "<Figure size 243.75x180 with 2 Axes>"
            ]
          },
          "metadata": {
            "needs_background": "light"
          }
        }
      ],
      "source": [
        "positive_cases = np.sum(all_xray_df['Pneumonia']==True)//2\n",
        "oversample_factor = 4 # maximum number of cases in negative group so it isn't super rare\n",
        "more_balanced_df = all_xray_df.groupby(['Pneumonia']).apply(lambda x: x.sample(min(oversample_factor*positive_cases, x.shape[0]), \n",
        "                                                                                   replace = False)\n",
        "                                                      ).reset_index(drop = True)\n",
        "\n",
        "print(more_balanced_df['Pneumonia'].value_counts())\n",
        "sns.pairplot(more_balanced_df[['Patient Age', 'Pneumonia']], hue='Pneumonia')"
      ]
    },
    {
      "cell_type": "code",
      "execution_count": 40,
      "metadata": {
        "colab": {
          "base_uri": "https://localhost:8080/",
          "height": 301
        },
        "id": "EiZKzPUH2hkb",
        "outputId": "17f11c8b-0bdc-4ef1-be01-b7d80fe4b22f"
      },
      "outputs": [
        {
          "output_type": "stream",
          "name": "stdout",
          "text": [
            "train 3003 validation 772 test 516\n",
            "train False    2002\n",
            "True     1001\n",
            "Name: Pneumonia, dtype: int64\n",
            "test False    344\n",
            "True     172\n",
            "Name: Pneumonia, dtype: int64\n"
          ]
        },
        {
          "output_type": "execute_result",
          "data": {
            "text/html": [
              "\n",
              "  <div id=\"df-3c03bb6a-15bf-441a-9c32-25f005ca770d\">\n",
              "    <div class=\"colab-df-container\">\n",
              "      <div>\n",
              "<style scoped>\n",
              "    .dataframe tbody tr th:only-of-type {\n",
              "        vertical-align: middle;\n",
              "    }\n",
              "\n",
              "    .dataframe tbody tr th {\n",
              "        vertical-align: top;\n",
              "    }\n",
              "\n",
              "    .dataframe thead th {\n",
              "        text-align: right;\n",
              "    }\n",
              "</style>\n",
              "<table border=\"1\" class=\"dataframe\">\n",
              "  <thead>\n",
              "    <tr style=\"text-align: right;\">\n",
              "      <th></th>\n",
              "      <th>Image Index</th>\n",
              "      <th>Finding Labels</th>\n",
              "      <th>Follow-up #</th>\n",
              "      <th>Patient ID</th>\n",
              "      <th>Patient Age</th>\n",
              "      <th>Patient Gender</th>\n",
              "      <th>View Position</th>\n",
              "      <th>OriginalImage[Width</th>\n",
              "      <th>Height]</th>\n",
              "      <th>OriginalImagePixelSpacing[x</th>\n",
              "      <th>y]</th>\n",
              "      <th>path</th>\n",
              "      <th>Pneumonia</th>\n",
              "      <th>Patient Male</th>\n",
              "      <th>Cardiomegaly</th>\n",
              "      <th>Emphysema</th>\n",
              "      <th>Effusion</th>\n",
              "      <th>Hernia</th>\n",
              "      <th>Nodule</th>\n",
              "      <th>Pneumothorax</th>\n",
              "      <th>Atelectasis</th>\n",
              "      <th>Pleural_Thickening</th>\n",
              "      <th>Mass</th>\n",
              "      <th>Edema</th>\n",
              "      <th>Consolidation</th>\n",
              "      <th>Infiltration</th>\n",
              "      <th>Fibrosis</th>\n",
              "      <th>Nothing</th>\n",
              "    </tr>\n",
              "  </thead>\n",
              "  <tbody>\n",
              "    <tr>\n",
              "      <th>1977</th>\n",
              "      <td>00016743_011.png</td>\n",
              "      <td>No Finding</td>\n",
              "      <td>11</td>\n",
              "      <td>16743</td>\n",
              "      <td>57</td>\n",
              "      <td>F</td>\n",
              "      <td>PA</td>\n",
              "      <td>2992</td>\n",
              "      <td>2991</td>\n",
              "      <td>0.143</td>\n",
              "      <td>0.143</td>\n",
              "      <td>/content/drive/MyDrive/Images/image8/00016743_...</td>\n",
              "      <td>False</td>\n",
              "      <td>0.0</td>\n",
              "      <td>0</td>\n",
              "      <td>0</td>\n",
              "      <td>0</td>\n",
              "      <td>0</td>\n",
              "      <td>0</td>\n",
              "      <td>0</td>\n",
              "      <td>0</td>\n",
              "      <td>0</td>\n",
              "      <td>0</td>\n",
              "      <td>0</td>\n",
              "      <td>0</td>\n",
              "      <td>0</td>\n",
              "      <td>0</td>\n",
              "      <td>1</td>\n",
              "    </tr>\n",
              "  </tbody>\n",
              "</table>\n",
              "</div>\n",
              "      <button class=\"colab-df-convert\" onclick=\"convertToInteractive('df-3c03bb6a-15bf-441a-9c32-25f005ca770d')\"\n",
              "              title=\"Convert this dataframe to an interactive table.\"\n",
              "              style=\"display:none;\">\n",
              "        \n",
              "  <svg xmlns=\"http://www.w3.org/2000/svg\" height=\"24px\"viewBox=\"0 0 24 24\"\n",
              "       width=\"24px\">\n",
              "    <path d=\"M0 0h24v24H0V0z\" fill=\"none\"/>\n",
              "    <path d=\"M18.56 5.44l.94 2.06.94-2.06 2.06-.94-2.06-.94-.94-2.06-.94 2.06-2.06.94zm-11 1L8.5 8.5l.94-2.06 2.06-.94-2.06-.94L8.5 2.5l-.94 2.06-2.06.94zm10 10l.94 2.06.94-2.06 2.06-.94-2.06-.94-.94-2.06-.94 2.06-2.06.94z\"/><path d=\"M17.41 7.96l-1.37-1.37c-.4-.4-.92-.59-1.43-.59-.52 0-1.04.2-1.43.59L10.3 9.45l-7.72 7.72c-.78.78-.78 2.05 0 2.83L4 21.41c.39.39.9.59 1.41.59.51 0 1.02-.2 1.41-.59l7.78-7.78 2.81-2.81c.8-.78.8-2.07 0-2.86zM5.41 20L4 18.59l7.72-7.72 1.47 1.35L5.41 20z\"/>\n",
              "  </svg>\n",
              "      </button>\n",
              "      \n",
              "  <style>\n",
              "    .colab-df-container {\n",
              "      display:flex;\n",
              "      flex-wrap:wrap;\n",
              "      gap: 12px;\n",
              "    }\n",
              "\n",
              "    .colab-df-convert {\n",
              "      background-color: #E8F0FE;\n",
              "      border: none;\n",
              "      border-radius: 50%;\n",
              "      cursor: pointer;\n",
              "      display: none;\n",
              "      fill: #1967D2;\n",
              "      height: 32px;\n",
              "      padding: 0 0 0 0;\n",
              "      width: 32px;\n",
              "    }\n",
              "\n",
              "    .colab-df-convert:hover {\n",
              "      background-color: #E2EBFA;\n",
              "      box-shadow: 0px 1px 2px rgba(60, 64, 67, 0.3), 0px 1px 3px 1px rgba(60, 64, 67, 0.15);\n",
              "      fill: #174EA6;\n",
              "    }\n",
              "\n",
              "    [theme=dark] .colab-df-convert {\n",
              "      background-color: #3B4455;\n",
              "      fill: #D2E3FC;\n",
              "    }\n",
              "\n",
              "    [theme=dark] .colab-df-convert:hover {\n",
              "      background-color: #434B5C;\n",
              "      box-shadow: 0px 1px 3px 1px rgba(0, 0, 0, 0.15);\n",
              "      filter: drop-shadow(0px 1px 2px rgba(0, 0, 0, 0.3));\n",
              "      fill: #FFFFFF;\n",
              "    }\n",
              "  </style>\n",
              "\n",
              "      <script>\n",
              "        const buttonEl =\n",
              "          document.querySelector('#df-3c03bb6a-15bf-441a-9c32-25f005ca770d button.colab-df-convert');\n",
              "        buttonEl.style.display =\n",
              "          google.colab.kernel.accessAllowed ? 'block' : 'none';\n",
              "\n",
              "        async function convertToInteractive(key) {\n",
              "          const element = document.querySelector('#df-3c03bb6a-15bf-441a-9c32-25f005ca770d');\n",
              "          const dataTable =\n",
              "            await google.colab.kernel.invokeFunction('convertToInteractive',\n",
              "                                                     [key], {});\n",
              "          if (!dataTable) return;\n",
              "\n",
              "          const docLinkHtml = 'Like what you see? Visit the ' +\n",
              "            '<a target=\"_blank\" href=https://colab.research.google.com/notebooks/data_table.ipynb>data table notebook</a>'\n",
              "            + ' to learn more about interactive tables.';\n",
              "          element.innerHTML = '';\n",
              "          dataTable['output_type'] = 'display_data';\n",
              "          await google.colab.output.renderOutput(dataTable, element);\n",
              "          const docLink = document.createElement('div');\n",
              "          docLink.innerHTML = docLinkHtml;\n",
              "          element.appendChild(docLink);\n",
              "        }\n",
              "      </script>\n",
              "    </div>\n",
              "  </div>\n",
              "  "
            ],
            "text/plain": [
              "           Image Index Finding Labels  ...  Fibrosis  Nothing\n",
              "1977  00016743_011.png     No Finding  ...         0        1\n",
              "\n",
              "[1 rows x 28 columns]"
            ]
          },
          "metadata": {},
          "execution_count": 40
        }
      ],
      "source": [
        "from sklearn.model_selection import train_test_split\n",
        "raw_train_df, test_valid_df = train_test_split(more_balanced_df, \n",
        "                                   test_size = 0.30, \n",
        "                                   random_state = 2018,\n",
        "                                   stratify = more_balanced_df[['Pneumonia']])\n",
        "valid_df, test_df = train_test_split(test_valid_df, \n",
        "                                   test_size = 0.40, \n",
        "                                   random_state = 2018,\n",
        "                                   stratify = test_valid_df[['Pneumonia']])\n",
        "print('train', raw_train_df.shape[0], 'validation', valid_df.shape[0], 'test', test_df.shape[0])\n",
        "print('train', raw_train_df['Pneumonia'].value_counts())\n",
        "print('test', test_df['Pneumonia'].value_counts())\n",
        "raw_train_df.sample(1)"
      ]
    },
    {
      "cell_type": "code",
      "execution_count": 41,
      "metadata": {
        "colab": {
          "base_uri": "https://localhost:8080/"
        },
        "id": "HxJOWUtY2hkb",
        "outputId": "b554c469-23e0-4b7b-fa11-d10a062d82d8"
      },
      "outputs": [
        {
          "output_type": "stream",
          "name": "stdout",
          "text": [
            "New Data Size: 120000 Old Size: 3003\n"
          ]
        }
      ],
      "source": [
        "train_df = raw_train_df.groupby(['Pneumonia']).apply(lambda x: x.sample(60000, replace = True)\n",
        "                                                      ).reset_index(drop = True)\n",
        "print('New Data Size:', train_df.shape[0], 'Old Size:', raw_train_df.shape[0])"
      ]
    },
    {
      "cell_type": "code",
      "execution_count": 42,
      "metadata": {
        "id": "nWq-91iq2hkc"
      },
      "outputs": [],
      "source": [
        "from keras.preprocessing.image import ImageDataGenerator\n",
        "idg = ImageDataGenerator(zoom_range=0.2,\n",
        "                           fill_mode='nearest',\n",
        "                           rotation_range=25,  \n",
        "                           width_shift_range=0.25,  \n",
        "                           height_shift_range=0.25,  \n",
        "                           vertical_flip=False, \n",
        "                           horizontal_flip=True,\n",
        "                           shear_range = 0.2,\n",
        "                           samplewise_center=False, \n",
        "                           samplewise_std_normalization=False)\n"
      ]
    },
    {
      "cell_type": "code",
      "execution_count": 43,
      "metadata": {
        "id": "dLflwIky2hkc"
      },
      "outputs": [],
      "source": [
        "SEED= 10\n",
        "IMG_SIZE = (128, 128) \n",
        "####\n",
        "def flow_from_dataframe(imgDatGen, df, batch_size, seed, img_size):\n",
        "    #gc.collect()\n",
        "    gen_img = imgDatGen.flow_from_dataframe(dataframe=more_balanced_df,\n",
        "        x_col='path', y_col='Pneumonia',\n",
        "        batch_size=batch_size, seed=seed, shuffle=True, class_mode='other',\n",
        "        target_size=img_size, color_mode='grayscale',\n",
        "        drop_duplicates=False)\n",
        "\n",
        "    \n",
        "        \n",
        "    while True:\n",
        "        X1i = gen_img.next()\n",
        "        #X2i = gen_img.next()\n",
        "        #gc.collect()\n",
        "        yield [X1i[0], X1i[1]]"
      ]
    },
    {
      "cell_type": "code",
      "execution_count": 44,
      "metadata": {
        "id": "80FvLUfa2hkc"
      },
      "outputs": [],
      "source": [
        "flow = flow_from_dataframe(idg, more_balanced_df, 7151, SEED, IMG_SIZE)"
      ]
    },
    {
      "cell_type": "code",
      "execution_count": 45,
      "metadata": {
        "colab": {
          "base_uri": "https://localhost:8080/"
        },
        "id": "F5WdDfpX2hkc",
        "outputId": "8aca6383-d916-4fcd-e843-7f0a48697928"
      },
      "outputs": [
        {
          "output_type": "stream",
          "name": "stderr",
          "text": [
            "--- Logging error ---\n",
            "Traceback (most recent call last):\n",
            "  File \"/usr/lib/python3.7/logging/__init__.py\", line 1025, in emit\n",
            "    msg = self.format(record)\n",
            "  File \"/usr/lib/python3.7/logging/__init__.py\", line 869, in format\n",
            "    return fmt.format(record)\n",
            "  File \"/usr/lib/python3.7/logging/__init__.py\", line 608, in format\n",
            "    record.message = record.getMessage()\n",
            "  File \"/usr/lib/python3.7/logging/__init__.py\", line 369, in getMessage\n",
            "    msg = msg % self.args\n",
            "TypeError: not all arguments converted during string formatting\n",
            "Call stack:\n",
            "  File \"/usr/lib/python3.7/runpy.py\", line 193, in _run_module_as_main\n",
            "    \"__main__\", mod_spec)\n",
            "  File \"/usr/lib/python3.7/runpy.py\", line 85, in _run_code\n",
            "    exec(code, run_globals)\n",
            "  File \"/usr/local/lib/python3.7/dist-packages/ipykernel_launcher.py\", line 16, in <module>\n",
            "    app.launch_new_instance()\n",
            "  File \"/usr/local/lib/python3.7/dist-packages/traitlets/config/application.py\", line 846, in launch_instance\n",
            "    app.start()\n",
            "  File \"/usr/local/lib/python3.7/dist-packages/ipykernel/kernelapp.py\", line 499, in start\n",
            "    self.io_loop.start()\n",
            "  File \"/usr/local/lib/python3.7/dist-packages/tornado/platform/asyncio.py\", line 132, in start\n",
            "    self.asyncio_loop.run_forever()\n",
            "  File \"/usr/lib/python3.7/asyncio/base_events.py\", line 541, in run_forever\n",
            "    self._run_once()\n",
            "  File \"/usr/lib/python3.7/asyncio/base_events.py\", line 1786, in _run_once\n",
            "    handle._run()\n",
            "  File \"/usr/lib/python3.7/asyncio/events.py\", line 88, in _run\n",
            "    self._context.run(self._callback, *self._args)\n",
            "  File \"/usr/local/lib/python3.7/dist-packages/tornado/platform/asyncio.py\", line 122, in _handle_events\n",
            "    handler_func(fileobj, events)\n",
            "  File \"/usr/local/lib/python3.7/dist-packages/tornado/stack_context.py\", line 300, in null_wrapper\n",
            "    return fn(*args, **kwargs)\n",
            "  File \"/usr/local/lib/python3.7/dist-packages/zmq/eventloop/zmqstream.py\", line 452, in _handle_events\n",
            "    self._handle_recv()\n",
            "  File \"/usr/local/lib/python3.7/dist-packages/zmq/eventloop/zmqstream.py\", line 481, in _handle_recv\n",
            "    self._run_callback(callback, msg)\n",
            "  File \"/usr/local/lib/python3.7/dist-packages/zmq/eventloop/zmqstream.py\", line 431, in _run_callback\n",
            "    callback(*args, **kwargs)\n",
            "  File \"/usr/local/lib/python3.7/dist-packages/tornado/stack_context.py\", line 300, in null_wrapper\n",
            "    return fn(*args, **kwargs)\n",
            "  File \"/usr/local/lib/python3.7/dist-packages/ipykernel/kernelbase.py\", line 283, in dispatcher\n",
            "    return self.dispatch_shell(stream, msg)\n",
            "  File \"/usr/local/lib/python3.7/dist-packages/ipykernel/kernelbase.py\", line 233, in dispatch_shell\n",
            "    handler(stream, idents, msg)\n",
            "  File \"/usr/local/lib/python3.7/dist-packages/ipykernel/kernelbase.py\", line 399, in execute_request\n",
            "    user_expressions, allow_stdin)\n",
            "  File \"/usr/local/lib/python3.7/dist-packages/ipykernel/ipkernel.py\", line 208, in do_execute\n",
            "    res = shell.run_cell(code, store_history=store_history, silent=silent)\n",
            "  File \"/usr/local/lib/python3.7/dist-packages/ipykernel/zmqshell.py\", line 537, in run_cell\n",
            "    return super(ZMQInteractiveShell, self).run_cell(*args, **kwargs)\n",
            "  File \"/usr/local/lib/python3.7/dist-packages/IPython/core/interactiveshell.py\", line 2718, in run_cell\n",
            "    interactivity=interactivity, compiler=compiler, result=result)\n",
            "  File \"/usr/local/lib/python3.7/dist-packages/IPython/core/interactiveshell.py\", line 2822, in run_ast_nodes\n",
            "    if self.run_code(code, result):\n",
            "  File \"/usr/local/lib/python3.7/dist-packages/IPython/core/interactiveshell.py\", line 2882, in run_code\n",
            "    exec(code_obj, self.user_global_ns, self.user_ns)\n",
            "  File \"<ipython-input-45-710bbcbe35c6>\", line 1, in <module>\n",
            "    t,y= next(flow)\n",
            "  File \"<ipython-input-43-37f0f38d0e42>\", line 10, in flow_from_dataframe\n",
            "    drop_duplicates=False)\n",
            "  File \"/usr/local/lib/python3.7/dist-packages/keras/preprocessing/image.py\", line 1109, in flow_from_dataframe\n",
            "    '`class_mode` \"raw\".', DeprecationWarning)\n",
            "  File \"/usr/local/lib/python3.7/dist-packages/tensorflow/python/platform/tf_logging.py\", line 178, in warning\n",
            "    get_logger().warning(msg, *args, **kwargs)\n",
            "Message: '`class_mode` \"other\" is deprecated, please use `class_mode` \"raw\".'\n",
            "Arguments: (<class 'DeprecationWarning'>,)\n",
            "--- Logging error ---\n",
            "Traceback (most recent call last):\n",
            "  File \"/usr/lib/python3.7/logging/__init__.py\", line 1025, in emit\n",
            "    msg = self.format(record)\n",
            "  File \"/usr/lib/python3.7/logging/__init__.py\", line 869, in format\n",
            "    return fmt.format(record)\n",
            "  File \"/usr/lib/python3.7/logging/__init__.py\", line 608, in format\n",
            "    record.message = record.getMessage()\n",
            "  File \"/usr/lib/python3.7/logging/__init__.py\", line 369, in getMessage\n",
            "    msg = msg % self.args\n",
            "TypeError: not all arguments converted during string formatting\n",
            "Call stack:\n",
            "  File \"/usr/lib/python3.7/runpy.py\", line 193, in _run_module_as_main\n",
            "    \"__main__\", mod_spec)\n",
            "  File \"/usr/lib/python3.7/runpy.py\", line 85, in _run_code\n",
            "    exec(code, run_globals)\n",
            "  File \"/usr/local/lib/python3.7/dist-packages/ipykernel_launcher.py\", line 16, in <module>\n",
            "    app.launch_new_instance()\n",
            "  File \"/usr/local/lib/python3.7/dist-packages/traitlets/config/application.py\", line 846, in launch_instance\n",
            "    app.start()\n",
            "  File \"/usr/local/lib/python3.7/dist-packages/ipykernel/kernelapp.py\", line 499, in start\n",
            "    self.io_loop.start()\n",
            "  File \"/usr/local/lib/python3.7/dist-packages/tornado/platform/asyncio.py\", line 132, in start\n",
            "    self.asyncio_loop.run_forever()\n",
            "  File \"/usr/lib/python3.7/asyncio/base_events.py\", line 541, in run_forever\n",
            "    self._run_once()\n",
            "  File \"/usr/lib/python3.7/asyncio/base_events.py\", line 1786, in _run_once\n",
            "    handle._run()\n",
            "  File \"/usr/lib/python3.7/asyncio/events.py\", line 88, in _run\n",
            "    self._context.run(self._callback, *self._args)\n",
            "  File \"/usr/local/lib/python3.7/dist-packages/tornado/platform/asyncio.py\", line 122, in _handle_events\n",
            "    handler_func(fileobj, events)\n",
            "  File \"/usr/local/lib/python3.7/dist-packages/tornado/stack_context.py\", line 300, in null_wrapper\n",
            "    return fn(*args, **kwargs)\n",
            "  File \"/usr/local/lib/python3.7/dist-packages/zmq/eventloop/zmqstream.py\", line 452, in _handle_events\n",
            "    self._handle_recv()\n",
            "  File \"/usr/local/lib/python3.7/dist-packages/zmq/eventloop/zmqstream.py\", line 481, in _handle_recv\n",
            "    self._run_callback(callback, msg)\n",
            "  File \"/usr/local/lib/python3.7/dist-packages/zmq/eventloop/zmqstream.py\", line 431, in _run_callback\n",
            "    callback(*args, **kwargs)\n",
            "  File \"/usr/local/lib/python3.7/dist-packages/tornado/stack_context.py\", line 300, in null_wrapper\n",
            "    return fn(*args, **kwargs)\n",
            "  File \"/usr/local/lib/python3.7/dist-packages/ipykernel/kernelbase.py\", line 283, in dispatcher\n",
            "    return self.dispatch_shell(stream, msg)\n",
            "  File \"/usr/local/lib/python3.7/dist-packages/ipykernel/kernelbase.py\", line 233, in dispatch_shell\n",
            "    handler(stream, idents, msg)\n",
            "  File \"/usr/local/lib/python3.7/dist-packages/ipykernel/kernelbase.py\", line 399, in execute_request\n",
            "    user_expressions, allow_stdin)\n",
            "  File \"/usr/local/lib/python3.7/dist-packages/ipykernel/ipkernel.py\", line 208, in do_execute\n",
            "    res = shell.run_cell(code, store_history=store_history, silent=silent)\n",
            "  File \"/usr/local/lib/python3.7/dist-packages/ipykernel/zmqshell.py\", line 537, in run_cell\n",
            "    return super(ZMQInteractiveShell, self).run_cell(*args, **kwargs)\n",
            "  File \"/usr/local/lib/python3.7/dist-packages/IPython/core/interactiveshell.py\", line 2718, in run_cell\n",
            "    interactivity=interactivity, compiler=compiler, result=result)\n",
            "  File \"/usr/local/lib/python3.7/dist-packages/IPython/core/interactiveshell.py\", line 2822, in run_ast_nodes\n",
            "    if self.run_code(code, result):\n",
            "  File \"/usr/local/lib/python3.7/dist-packages/IPython/core/interactiveshell.py\", line 2882, in run_code\n",
            "    exec(code_obj, self.user_global_ns, self.user_ns)\n",
            "  File \"<ipython-input-45-710bbcbe35c6>\", line 1, in <module>\n",
            "    t,y= next(flow)\n",
            "  File \"<ipython-input-43-37f0f38d0e42>\", line 10, in flow_from_dataframe\n",
            "    drop_duplicates=False)\n",
            "  File \"/usr/local/lib/python3.7/dist-packages/keras/preprocessing/image.py\", line 1115, in flow_from_dataframe\n",
            "    DeprecationWarning)\n",
            "  File \"/usr/local/lib/python3.7/dist-packages/tensorflow/python/platform/tf_logging.py\", line 178, in warning\n",
            "    get_logger().warning(msg, *args, **kwargs)\n",
            "Message: 'drop_duplicates is deprecated, you can drop duplicates by using the pandas.DataFrame.drop_duplicates method.'\n",
            "Arguments: (<class 'DeprecationWarning'>,)\n"
          ]
        },
        {
          "output_type": "stream",
          "name": "stdout",
          "text": [
            "Found 4291 validated image filenames.\n"
          ]
        }
      ],
      "source": [
        "t,y= next(flow)"
      ]
    },
    {
      "cell_type": "code",
      "execution_count": 46,
      "metadata": {
        "id": "u7t4LkuZ2hkc"
      },
      "outputs": [],
      "source": [
        "from sklearn.model_selection import train_test_split\n",
        "X_train, X_test, y_train, y_test = train_test_split(t,y, \n",
        "                                   test_size = 0.30, \n",
        "                                   random_state = 2018)\n"
      ]
    },
    {
      "cell_type": "code",
      "execution_count": 47,
      "metadata": {
        "colab": {
          "base_uri": "https://localhost:8080/"
        },
        "id": "3cO6braG2hkd",
        "outputId": "8c1794c3-d2e7-4dd8-daf9-695dd5d91de5"
      },
      "outputs": [
        {
          "output_type": "stream",
          "name": "stdout",
          "text": [
            "Model: \"sequential_2\"\n",
            "_________________________________________________________________\n",
            " Layer (type)                Output Shape              Param #   \n",
            "=================================================================\n",
            " mobilenet_1.00_128 (Functio  (None, 4, 4, 1024)       3228288   \n",
            " nal)                                                            \n",
            "                                                                 \n",
            " global_average_pooling2d_2   (None, 1024)             0         \n",
            " (GlobalAveragePooling2D)                                        \n",
            "                                                                 \n",
            " dropout_4 (Dropout)         (None, 1024)              0         \n",
            "                                                                 \n",
            " dense_4 (Dense)             (None, 512)               524800    \n",
            "                                                                 \n",
            " dropout_5 (Dropout)         (None, 512)               0         \n",
            "                                                                 \n",
            " dense_5 (Dense)             (None, 1)                 513       \n",
            "                                                                 \n",
            "=================================================================\n",
            "Total params: 3,753,601\n",
            "Trainable params: 3,731,713\n",
            "Non-trainable params: 21,888\n",
            "_________________________________________________________________\n"
          ]
        }
      ],
      "source": [
        "from keras.applications.mobilenet import MobileNet\n",
        "from keras.layers import GlobalAveragePooling2D, Dense, Dropout, Flatten\n",
        "from keras.models import Sequential\n",
        "mobilenet_model = MobileNet(input_shape =  X_train.shape[1:], \n",
        "                                 include_top = False, weights = None)\n",
        "mobilenet_GAP_model = Sequential()\n",
        "mobilenet_GAP_model.add(mobilenet_model)\n",
        "mobilenet_GAP_model.add(GlobalAveragePooling2D())\n",
        "mobilenet_GAP_model.add(Dropout(0.5))\n",
        "mobilenet_GAP_model.add(Dense(512))\n",
        "mobilenet_GAP_model.add(Dropout(0.5))\n",
        "mobilenet_GAP_model.add(Dense(1, activation = 'sigmoid'))\n",
        "mobilenet_GAP_model.compile(optimizer = 'adam', loss = 'binary_crossentropy',\n",
        "                           metrics = ['binary_accuracy', 'mae'])\n",
        "mobilenet_GAP_model.summary()"
      ]
    },
    {
      "cell_type": "code",
      "execution_count": 48,
      "metadata": {
        "id": "-0NsEh2i2hkd"
      },
      "outputs": [],
      "source": [
        "from keras.callbacks import ModelCheckpoint, LearningRateScheduler, EarlyStopping, ReduceLROnPlateau\n",
        "weight_path=\"{}_weights.best.hdf5\".format('xray_class')\n",
        "\n",
        "checkpoint = ModelCheckpoint(weight_path, monitor='val_loss', verbose=1, \n",
        "                             save_best_only=True, mode='min', save_weights_only = True)\n",
        "\n",
        "early = EarlyStopping(monitor=\"val_loss\", \n",
        "                      mode=\"min\", \n",
        "                      patience=3)\n",
        "callbacks_list = [checkpoint, early]"
      ]
    },
    {
      "cell_type": "code",
      "execution_count": 49,
      "metadata": {
        "colab": {
          "base_uri": "https://localhost:8080/"
        },
        "id": "IyT4dQWG2hkd",
        "outputId": "7515d923-2536-41b0-e68c-22b5d5c0ce85"
      },
      "outputs": [
        {
          "output_type": "stream",
          "name": "stdout",
          "text": [
            "Epoch 1/10\n",
            "10/10 [==============================] - ETA: 0s - loss: 2.1604 - binary_accuracy: 0.5904 - mae: 0.4175 \n",
            "Epoch 00001: val_loss improved from inf to 0.70275, saving model to xray_class_weights.best.hdf5\n",
            "10/10 [==============================] - 200s 20s/step - loss: 2.1604 - binary_accuracy: 0.5904 - mae: 0.4175 - val_loss: 0.7027 - val_binary_accuracy: 0.3261 - val_mae: 0.5046\n",
            "Epoch 2/10\n",
            "10/10 [==============================] - ETA: 0s - loss: 1.1301 - binary_accuracy: 0.5528 - mae: 0.4586 \n",
            "Epoch 00002: val_loss improved from 0.70275 to 0.66343, saving model to xray_class_weights.best.hdf5\n",
            "10/10 [==============================] - 196s 20s/step - loss: 1.1301 - binary_accuracy: 0.5528 - mae: 0.4586 - val_loss: 0.6634 - val_binary_accuracy: 0.6739 - val_mae: 0.4827\n",
            "Epoch 3/10\n",
            "10/10 [==============================] - ETA: 0s - loss: 0.7828 - binary_accuracy: 0.6074 - mae: 0.4514 \n",
            "Epoch 00003: val_loss improved from 0.66343 to 0.65707, saving model to xray_class_weights.best.hdf5\n",
            "10/10 [==============================] - 198s 19s/step - loss: 0.7828 - binary_accuracy: 0.6074 - mae: 0.4514 - val_loss: 0.6571 - val_binary_accuracy: 0.6739 - val_mae: 0.4781\n",
            "Epoch 4/10\n",
            "10/10 [==============================] - ETA: 0s - loss: 0.7407 - binary_accuracy: 0.6490 - mae: 0.4341 \n",
            "Epoch 00004: val_loss did not improve from 0.65707\n",
            "10/10 [==============================] - 192s 19s/step - loss: 0.7407 - binary_accuracy: 0.6490 - mae: 0.4341 - val_loss: 0.6588 - val_binary_accuracy: 0.6739 - val_mae: 0.4794\n",
            "Epoch 5/10\n",
            "10/10 [==============================] - ETA: 0s - loss: 0.6844 - binary_accuracy: 0.6630 - mae: 0.4184 \n",
            "Epoch 00005: val_loss improved from 0.65707 to 0.64238, saving model to xray_class_weights.best.hdf5\n",
            "10/10 [==============================] - 192s 19s/step - loss: 0.6844 - binary_accuracy: 0.6630 - mae: 0.4184 - val_loss: 0.6424 - val_binary_accuracy: 0.6739 - val_mae: 0.4645\n",
            "Epoch 6/10\n",
            "10/10 [==============================] - ETA: 0s - loss: 0.5937 - binary_accuracy: 0.7156 - mae: 0.3674 \n",
            "Epoch 00006: val_loss improved from 0.64238 to 0.63297, saving model to xray_class_weights.best.hdf5\n",
            "10/10 [==============================] - 200s 20s/step - loss: 0.5937 - binary_accuracy: 0.7156 - mae: 0.3674 - val_loss: 0.6330 - val_binary_accuracy: 0.6739 - val_mae: 0.4488\n",
            "Epoch 7/10\n",
            "10/10 [==============================] - ETA: 0s - loss: 0.4524 - binary_accuracy: 0.8119 - mae: 0.2726 \n",
            "Epoch 00007: val_loss improved from 0.63297 to 0.63139, saving model to xray_class_weights.best.hdf5\n",
            "10/10 [==============================] - 196s 20s/step - loss: 0.4524 - binary_accuracy: 0.8119 - mae: 0.2726 - val_loss: 0.6314 - val_binary_accuracy: 0.6739 - val_mae: 0.4385\n",
            "Epoch 8/10\n",
            "10/10 [==============================] - ETA: 0s - loss: 0.5084 - binary_accuracy: 0.7929 - mae: 0.2643 \n",
            "Epoch 00008: val_loss did not improve from 0.63139\n",
            "10/10 [==============================] - 196s 20s/step - loss: 0.5084 - binary_accuracy: 0.7929 - mae: 0.2643 - val_loss: 0.6416 - val_binary_accuracy: 0.6739 - val_mae: 0.4172\n",
            "Epoch 9/10\n",
            "10/10 [==============================] - ETA: 0s - loss: 0.5771 - binary_accuracy: 0.7429 - mae: 0.3451 \n",
            "Epoch 00009: val_loss did not improve from 0.63139\n",
            "10/10 [==============================] - 201s 20s/step - loss: 0.5771 - binary_accuracy: 0.7429 - mae: 0.3451 - val_loss: 0.6442 - val_binary_accuracy: 0.6739 - val_mae: 0.4145\n",
            "Epoch 10/10\n",
            "10/10 [==============================] - ETA: 0s - loss: 0.4253 - binary_accuracy: 0.8168 - mae: 0.2531 \n",
            "Epoch 00010: val_loss did not improve from 0.63139\n",
            "10/10 [==============================] - 195s 20s/step - loss: 0.4253 - binary_accuracy: 0.8168 - mae: 0.2531 - val_loss: 0.6610 - val_binary_accuracy: 0.6739 - val_mae: 0.4027\n"
          ]
        }
      ],
      "source": [
        "history_mobilenet_GAP = mobilenet_GAP_model.fit(X_train,y_train,\n",
        "                                  steps_per_epoch=10,\n",
        "                                  validation_data = (X_test, y_test), \n",
        "                                  epochs = 10, \n",
        "                                  callbacks = callbacks_list)"
      ]
    },
    {
      "cell_type": "code",
      "execution_count": 50,
      "metadata": {
        "colab": {
          "base_uri": "https://localhost:8080/"
        },
        "id": "Yp7I1YRo2hkd",
        "outputId": "d494e6ef-5fae-4f92-9c7c-a355f6d2b05f"
      },
      "outputs": [
        {
          "output_type": "stream",
          "name": "stdout",
          "text": [
            "41/41 [==============================] - 13s 310ms/step\n"
          ]
        }
      ],
      "source": [
        "pred_Y = mobilenet_GAP_model.predict(X_test, \n",
        "                          batch_size = 32, \n",
        "                          verbose = True)"
      ]
    },
    {
      "cell_type": "code",
      "execution_count": 51,
      "metadata": {
        "colab": {
          "base_uri": "https://localhost:8080/"
        },
        "id": "UeukjI_J2hke",
        "outputId": "855d0956-225a-4587-828e-ce3ffae47997"
      },
      "outputs": [
        {
          "output_type": "execute_result",
          "data": {
            "text/plain": [
              "array([[0.22033998],\n",
              "       [0.22033998],\n",
              "       [0.22033998],\n",
              "       ...,\n",
              "       [0.22033998],\n",
              "       [0.22033998],\n",
              "       [0.22033998]], dtype=float32)"
            ]
          },
          "metadata": {},
          "execution_count": 51
        }
      ],
      "source": [
        "pred_Y"
      ]
    },
    {
      "cell_type": "code",
      "execution_count": 52,
      "metadata": {
        "colab": {
          "base_uri": "https://localhost:8080/"
        },
        "id": "7z_NBYjH2hke",
        "outputId": "624dd172-61a1-416b-f6cb-9e4f4d75e3fd"
      },
      "outputs": [
        {
          "output_type": "execute_result",
          "data": {
            "text/plain": [
              "array([0.22033998], dtype=float32)"
            ]
          },
          "metadata": {},
          "execution_count": 52
        }
      ],
      "source": [
        "min(pred_Y)"
      ]
    },
    {
      "cell_type": "code",
      "execution_count": 53,
      "metadata": {
        "colab": {
          "base_uri": "https://localhost:8080/"
        },
        "id": "u-L_yTMu2hke",
        "outputId": "6c697b3b-2208-49dc-f5c3-33b1e691435d"
      },
      "outputs": [
        {
          "output_type": "stream",
          "name": "stdout",
          "text": [
            "test accuracy =  0.6739130616188049\n"
          ]
        }
      ],
      "source": [
        "print('test accuracy = ',mobilenet_GAP_model.evaluate(X_test,y_test, verbose=0)[1])"
      ]
    },
    {
      "cell_type": "code",
      "execution_count": 54,
      "metadata": {
        "colab": {
          "base_uri": "https://localhost:8080/"
        },
        "id": "PpMczJew2hke",
        "outputId": "61dfac7c-e5a9-436e-921d-3195e4fc0da4"
      },
      "outputs": [
        {
          "output_type": "stream",
          "name": "stdout",
          "text": [
            "roc score =  0.5\n"
          ]
        }
      ],
      "source": [
        "from sklearn.metrics import roc_auc_score\n",
        "print('roc score = ',roc_auc_score(y_test.astype(int), pred_Y))"
      ]
    },
    {
      "cell_type": "code",
      "execution_count": 55,
      "metadata": {
        "colab": {
          "base_uri": "https://localhost:8080/",
          "height": 554
        },
        "id": "HZ99EePk2hke",
        "outputId": "7db073bb-b2b9-49d0-e944-dafed06e7519"
      },
      "outputs": [
        {
          "output_type": "stream",
          "name": "stdout",
          "text": [
            "              precision    recall  f1-score   support\n",
            "\n",
            "No Pneumonia       0.67      1.00      0.81       868\n",
            "   Pneumonia       0.00      0.00      0.00       420\n",
            "\n",
            "    accuracy                           0.67      1288\n",
            "   macro avg       0.34      0.50      0.40      1288\n",
            "weighted avg       0.45      0.67      0.54      1288\n",
            "\n"
          ]
        },
        {
          "output_type": "stream",
          "name": "stderr",
          "text": [
            "/usr/local/lib/python3.7/dist-packages/sklearn/metrics/_classification.py:1308: UndefinedMetricWarning: Precision and F-score are ill-defined and being set to 0.0 in labels with no predicted samples. Use `zero_division` parameter to control this behavior.\n",
            "  _warn_prf(average, modifier, msg_start, len(result))\n",
            "/usr/local/lib/python3.7/dist-packages/sklearn/metrics/_classification.py:1308: UndefinedMetricWarning: Precision and F-score are ill-defined and being set to 0.0 in labels with no predicted samples. Use `zero_division` parameter to control this behavior.\n",
            "  _warn_prf(average, modifier, msg_start, len(result))\n",
            "/usr/local/lib/python3.7/dist-packages/sklearn/metrics/_classification.py:1308: UndefinedMetricWarning: Precision and F-score are ill-defined and being set to 0.0 in labels with no predicted samples. Use `zero_division` parameter to control this behavior.\n",
            "  _warn_prf(average, modifier, msg_start, len(result))\n"
          ]
        },
        {
          "output_type": "display_data",
          "data": {
            "image/png": "[encoded data removed]",
            "text/plain": [
              "<Figure size 288x288 with 1 Axes>"
            ]
          },
          "metadata": {
            "needs_background": "light"
          }
        }
      ],
      "source": [
        "from sklearn.metrics import classification_report, confusion_matrix\n",
        "plt.matshow(confusion_matrix(y_test, pred_Y>0.22033998))\n",
        "print(classification_report(y_test, pred_Y>0.22033998, target_names = ['No Pneumonia', 'Pneumonia']))"
      ]
    },
    {
      "cell_type": "markdown",
      "metadata": {
        "id": "5rtgMTuE3uOD"
      },
      "source": [
        "## **Pneumothorax**"
      ]
    },
    {
      "cell_type": "code",
      "execution_count": 56,
      "metadata": {
        "colab": {
          "base_uri": "https://localhost:8080/",
          "height": 266
        },
        "id": "cstHsycT3u48",
        "outputId": "f67a327d-2ebb-43de-e7b0-3fbbf47283e2"
      },
      "outputs": [
        {
          "output_type": "stream",
          "name": "stdout",
          "text": [
            "0    10604\n",
            "1     5302\n",
            "Name: Pneumothorax, dtype: int64\n"
          ]
        },
        {
          "output_type": "execute_result",
          "data": {
            "text/plain": [
              "<seaborn.axisgrid.PairGrid at 0x7f3ab373ae50>"
            ]
          },
          "metadata": {},
          "execution_count": 56
        },
        {
          "output_type": "display_data",
          "data": {
            "image/png": "[encoded data removed]",
            "text/plain": [
              "<Figure size 260.75x180 with 2 Axes>"
            ]
          },
          "metadata": {
            "needs_background": "light"
          }
        }
      ],
      "source": [
        "positive_cases = np.sum(all_xray_df['Pneumothorax']==True)//2\n",
        "oversample_factor = 4 # maximum number of cases in negative group so it isn't super rare\n",
        "more_balanced_df = all_xray_df.groupby(['Pneumothorax']).apply(lambda x: x.sample(min(oversample_factor*positive_cases, x.shape[0]), \n",
        "                                                                                   replace = False)\n",
        "                                                      ).reset_index(drop = True)\n",
        "\n",
        "print(more_balanced_df['Pneumothorax'].value_counts())\n",
        "sns.pairplot(more_balanced_df[['Patient Age', 'Pneumothorax']], hue='Pneumothorax')"
      ]
    },
    {
      "cell_type": "code",
      "execution_count": 57,
      "metadata": {
        "colab": {
          "base_uri": "https://localhost:8080/",
          "height": 301
        },
        "id": "DkLDBJwd3u4-",
        "outputId": "a6baeba7-d8df-458f-9d2a-e278b4888c13"
      },
      "outputs": [
        {
          "output_type": "stream",
          "name": "stdout",
          "text": [
            "train 11134 validation 2863 test 1909\n",
            "train 0    7423\n",
            "1    3711\n",
            "Name: Pneumothorax, dtype: int64\n",
            "test 0    1273\n",
            "1     636\n",
            "Name: Pneumothorax, dtype: int64\n"
          ]
        },
        {
          "output_type": "execute_result",
          "data": {
            "text/html": [
              "\n",
              "  <div id=\"df-635bbd47-dbf9-4904-ac53-a2a4c6e5e316\">\n",
              "    <div class=\"colab-df-container\">\n",
              "      <div>\n",
              "<style scoped>\n",
              "    .dataframe tbody tr th:only-of-type {\n",
              "        vertical-align: middle;\n",
              "    }\n",
              "\n",
              "    .dataframe tbody tr th {\n",
              "        vertical-align: top;\n",
              "    }\n",
              "\n",
              "    .dataframe thead th {\n",
              "        text-align: right;\n",
              "    }\n",
              "</style>\n",
              "<table border=\"1\" class=\"dataframe\">\n",
              "  <thead>\n",
              "    <tr style=\"text-align: right;\">\n",
              "      <th></th>\n",
              "      <th>Image Index</th>\n",
              "      <th>Finding Labels</th>\n",
              "      <th>Follow-up #</th>\n",
              "      <th>Patient ID</th>\n",
              "      <th>Patient Age</th>\n",
              "      <th>Patient Gender</th>\n",
              "      <th>View Position</th>\n",
              "      <th>OriginalImage[Width</th>\n",
              "      <th>Height]</th>\n",
              "      <th>OriginalImagePixelSpacing[x</th>\n",
              "      <th>y]</th>\n",
              "      <th>path</th>\n",
              "      <th>Pneumonia</th>\n",
              "      <th>Patient Male</th>\n",
              "      <th>Cardiomegaly</th>\n",
              "      <th>Emphysema</th>\n",
              "      <th>Effusion</th>\n",
              "      <th>Hernia</th>\n",
              "      <th>Nodule</th>\n",
              "      <th>Pneumothorax</th>\n",
              "      <th>Atelectasis</th>\n",
              "      <th>Pleural_Thickening</th>\n",
              "      <th>Mass</th>\n",
              "      <th>Edema</th>\n",
              "      <th>Consolidation</th>\n",
              "      <th>Infiltration</th>\n",
              "      <th>Fibrosis</th>\n",
              "      <th>Nothing</th>\n",
              "    </tr>\n",
              "  </thead>\n",
              "  <tbody>\n",
              "    <tr>\n",
              "      <th>639</th>\n",
              "      <td>00009052_000.png</td>\n",
              "      <td>No Finding</td>\n",
              "      <td>0</td>\n",
              "      <td>9052</td>\n",
              "      <td>42</td>\n",
              "      <td>M</td>\n",
              "      <td>PA</td>\n",
              "      <td>2750</td>\n",
              "      <td>2585</td>\n",
              "      <td>0.143</td>\n",
              "      <td>0.143</td>\n",
              "      <td>/content/drive/MyDrive/Images/image4/00009052_...</td>\n",
              "      <td>False</td>\n",
              "      <td>1.0</td>\n",
              "      <td>0</td>\n",
              "      <td>0</td>\n",
              "      <td>0</td>\n",
              "      <td>0</td>\n",
              "      <td>0</td>\n",
              "      <td>0</td>\n",
              "      <td>0</td>\n",
              "      <td>0</td>\n",
              "      <td>0</td>\n",
              "      <td>0</td>\n",
              "      <td>0</td>\n",
              "      <td>0</td>\n",
              "      <td>0</td>\n",
              "      <td>1</td>\n",
              "    </tr>\n",
              "  </tbody>\n",
              "</table>\n",
              "</div>\n",
              "      <button class=\"colab-df-convert\" onclick=\"convertToInteractive('df-635bbd47-dbf9-4904-ac53-a2a4c6e5e316')\"\n",
              "              title=\"Convert this dataframe to an interactive table.\"\n",
              "              style=\"display:none;\">\n",
              "        \n",
              "  <svg xmlns=\"http://www.w3.org/2000/svg\" height=\"24px\"viewBox=\"0 0 24 24\"\n",
              "       width=\"24px\">\n",
              "    <path d=\"M0 0h24v24H0V0z\" fill=\"none\"/>\n",
              "    <path d=\"M18.56 5.44l.94 2.06.94-2.06 2.06-.94-2.06-.94-.94-2.06-.94 2.06-2.06.94zm-11 1L8.5 8.5l.94-2.06 2.06-.94-2.06-.94L8.5 2.5l-.94 2.06-2.06.94zm10 10l.94 2.06.94-2.06 2.06-.94-2.06-.94-.94-2.06-.94 2.06-2.06.94z\"/><path d=\"M17.41 7.96l-1.37-1.37c-.4-.4-.92-.59-1.43-.59-.52 0-1.04.2-1.43.59L10.3 9.45l-7.72 7.72c-.78.78-.78 2.05 0 2.83L4 21.41c.39.39.9.59 1.41.59.51 0 1.02-.2 1.41-.59l7.78-7.78 2.81-2.81c.8-.78.8-2.07 0-2.86zM5.41 20L4 18.59l7.72-7.72 1.47 1.35L5.41 20z\"/>\n",
              "  </svg>\n",
              "      </button>\n",
              "      \n",
              "  <style>\n",
              "    .colab-df-container {\n",
              "      display:flex;\n",
              "      flex-wrap:wrap;\n",
              "      gap: 12px;\n",
              "    }\n",
              "\n",
              "    .colab-df-convert {\n",
              "      background-color: #E8F0FE;\n",
              "      border: none;\n",
              "      border-radius: 50%;\n",
              "      cursor: pointer;\n",
              "      display: none;\n",
              "      fill: #1967D2;\n",
              "      height: 32px;\n",
              "      padding: 0 0 0 0;\n",
              "      width: 32px;\n",
              "    }\n",
              "\n",
              "    .colab-df-convert:hover {\n",
              "      background-color: #E2EBFA;\n",
              "      box-shadow: 0px 1px 2px rgba(60, 64, 67, 0.3), 0px 1px 3px 1px rgba(60, 64, 67, 0.15);\n",
              "      fill: #174EA6;\n",
              "    }\n",
              "\n",
              "    [theme=dark] .colab-df-convert {\n",
              "      background-color: #3B4455;\n",
              "      fill: #D2E3FC;\n",
              "    }\n",
              "\n",
              "    [theme=dark] .colab-df-convert:hover {\n",
              "      background-color: #434B5C;\n",
              "      box-shadow: 0px 1px 3px 1px rgba(0, 0, 0, 0.15);\n",
              "      filter: drop-shadow(0px 1px 2px rgba(0, 0, 0, 0.3));\n",
              "      fill: #FFFFFF;\n",
              "    }\n",
              "  </style>\n",
              "\n",
              "      <script>\n",
              "        const buttonEl =\n",
              "          document.querySelector('#df-635bbd47-dbf9-4904-ac53-a2a4c6e5e316 button.colab-df-convert');\n",
              "        buttonEl.style.display =\n",
              "          google.colab.kernel.accessAllowed ? 'block' : 'none';\n",
              "\n",
              "        async function convertToInteractive(key) {\n",
              "          const element = document.querySelector('#df-635bbd47-dbf9-4904-ac53-a2a4c6e5e316');\n",
              "          const dataTable =\n",
              "            await google.colab.kernel.invokeFunction('convertToInteractive',\n",
              "                                                     [key], {});\n",
              "          if (!dataTable) return;\n",
              "\n",
              "          const docLinkHtml = 'Like what you see? Visit the ' +\n",
              "            '<a target=\"_blank\" href=https://colab.research.google.com/notebooks/data_table.ipynb>data table notebook</a>'\n",
              "            + ' to learn more about interactive tables.';\n",
              "          element.innerHTML = '';\n",
              "          dataTable['output_type'] = 'display_data';\n",
              "          await google.colab.output.renderOutput(dataTable, element);\n",
              "          const docLink = document.createElement('div');\n",
              "          docLink.innerHTML = docLinkHtml;\n",
              "          element.appendChild(docLink);\n",
              "        }\n",
              "      </script>\n",
              "    </div>\n",
              "  </div>\n",
              "  "
            ],
            "text/plain": [
              "          Image Index Finding Labels  ...  Fibrosis  Nothing\n",
              "639  00009052_000.png     No Finding  ...         0        1\n",
              "\n",
              "[1 rows x 28 columns]"
            ]
          },
          "metadata": {},
          "execution_count": 57
        }
      ],
      "source": [
        "from sklearn.model_selection import train_test_split\n",
        "raw_train_df, test_valid_df = train_test_split(more_balanced_df, \n",
        "                                   test_size = 0.30, \n",
        "                                   random_state = 2018,\n",
        "                                   stratify = more_balanced_df[['Pneumothorax']])\n",
        "valid_df, test_df = train_test_split(test_valid_df, \n",
        "                                   test_size = 0.40, \n",
        "                                   random_state = 2018,\n",
        "                                   stratify = test_valid_df[['Pneumothorax']])\n",
        "print('train', raw_train_df.shape[0], 'validation', valid_df.shape[0], 'test', test_df.shape[0])\n",
        "print('train', raw_train_df['Pneumothorax'].value_counts())\n",
        "print('test', test_df['Pneumothorax'].value_counts())\n",
        "raw_train_df.sample(1)"
      ]
    },
    {
      "cell_type": "code",
      "execution_count": 58,
      "metadata": {
        "colab": {
          "base_uri": "https://localhost:8080/"
        },
        "id": "Tlg5SEXx3u4_",
        "outputId": "5bda2dba-4be9-4f35-c5fe-9dcf08bcad60"
      },
      "outputs": [
        {
          "output_type": "stream",
          "name": "stdout",
          "text": [
            "New Data Size: 120000 Old Size: 11134\n"
          ]
        }
      ],
      "source": [
        "train_df = raw_train_df.groupby(['Pneumothorax']).apply(lambda x: x.sample(60000, replace = True)\n",
        "                                                      ).reset_index(drop = True)\n",
        "print('New Data Size:', train_df.shape[0], 'Old Size:', raw_train_df.shape[0])"
      ]
    },
    {
      "cell_type": "code",
      "execution_count": 59,
      "metadata": {
        "id": "OrKEe7GL3u5A"
      },
      "outputs": [],
      "source": [
        "from keras.preprocessing.image import ImageDataGenerator\n",
        "idg = ImageDataGenerator(zoom_range=0.2,\n",
        "                           fill_mode='nearest',\n",
        "                           rotation_range=25,  \n",
        "                           width_shift_range=0.25,  \n",
        "                           height_shift_range=0.25,  \n",
        "                           vertical_flip=False, \n",
        "                           horizontal_flip=True,\n",
        "                           shear_range = 0.2,\n",
        "                           samplewise_center=False, \n",
        "                           samplewise_std_normalization=False)\n"
      ]
    },
    {
      "cell_type": "code",
      "execution_count": 60,
      "metadata": {
        "id": "i38kYwsB3u5B"
      },
      "outputs": [],
      "source": [
        "SEED= 10\n",
        "IMG_SIZE = (128, 128) \n",
        "####\n",
        "def flow_from_dataframe(imgDatGen, df, batch_size, seed, img_size):\n",
        "    #gc.collect()\n",
        "    gen_img = imgDatGen.flow_from_dataframe(dataframe=more_balanced_df,\n",
        "        x_col='path', y_col='Pneumothorax',\n",
        "        batch_size=batch_size, seed=seed, shuffle=True, class_mode='other',\n",
        "        target_size=img_size, color_mode='grayscale',\n",
        "        drop_duplicates=False)\n",
        "\n",
        "    \n",
        "        \n",
        "    while True:\n",
        "        X1i = gen_img.next()\n",
        "        #X2i = gen_img.next()\n",
        "        #gc.collect()\n",
        "        yield [X1i[0], X1i[1]]"
      ]
    },
    {
      "cell_type": "code",
      "execution_count": 61,
      "metadata": {
        "id": "exRNe6Lu3u5C"
      },
      "outputs": [],
      "source": [
        "flow = flow_from_dataframe(idg, more_balanced_df, 7151, SEED, IMG_SIZE)"
      ]
    },
    {
      "cell_type": "code",
      "execution_count": 62,
      "metadata": {
        "colab": {
          "base_uri": "https://localhost:8080/"
        },
        "id": "TYBMJIyv3u5C",
        "outputId": "93b4cfbc-d2ab-44ad-d90e-8a62024c799f"
      },
      "outputs": [
        {
          "output_type": "stream",
          "name": "stderr",
          "text": [
            "--- Logging error ---\n",
            "Traceback (most recent call last):\n",
            "  File \"/usr/lib/python3.7/logging/__init__.py\", line 1025, in emit\n",
            "    msg = self.format(record)\n",
            "  File \"/usr/lib/python3.7/logging/__init__.py\", line 869, in format\n",
            "    return fmt.format(record)\n",
            "  File \"/usr/lib/python3.7/logging/__init__.py\", line 608, in format\n",
            "    record.message = record.getMessage()\n",
            "  File \"/usr/lib/python3.7/logging/__init__.py\", line 369, in getMessage\n",
            "    msg = msg % self.args\n",
            "TypeError: not all arguments converted during string formatting\n",
            "Call stack:\n",
            "  File \"/usr/lib/python3.7/runpy.py\", line 193, in _run_module_as_main\n",
            "    \"__main__\", mod_spec)\n",
            "  File \"/usr/lib/python3.7/runpy.py\", line 85, in _run_code\n",
            "    exec(code, run_globals)\n",
            "  File \"/usr/local/lib/python3.7/dist-packages/ipykernel_launcher.py\", line 16, in <module>\n",
            "    app.launch_new_instance()\n",
            "  File \"/usr/local/lib/python3.7/dist-packages/traitlets/config/application.py\", line 846, in launch_instance\n",
            "    app.start()\n",
            "  File \"/usr/local/lib/python3.7/dist-packages/ipykernel/kernelapp.py\", line 499, in start\n",
            "    self.io_loop.start()\n",
            "  File \"/usr/local/lib/python3.7/dist-packages/tornado/platform/asyncio.py\", line 132, in start\n",
            "    self.asyncio_loop.run_forever()\n",
            "  File \"/usr/lib/python3.7/asyncio/base_events.py\", line 541, in run_forever\n",
            "    self._run_once()\n",
            "  File \"/usr/lib/python3.7/asyncio/base_events.py\", line 1786, in _run_once\n",
            "    handle._run()\n",
            "  File \"/usr/lib/python3.7/asyncio/events.py\", line 88, in _run\n",
            "    self._context.run(self._callback, *self._args)\n",
            "  File \"/usr/local/lib/python3.7/dist-packages/tornado/platform/asyncio.py\", line 122, in _handle_events\n",
            "    handler_func(fileobj, events)\n",
            "  File \"/usr/local/lib/python3.7/dist-packages/tornado/stack_context.py\", line 300, in null_wrapper\n",
            "    return fn(*args, **kwargs)\n",
            "  File \"/usr/local/lib/python3.7/dist-packages/zmq/eventloop/zmqstream.py\", line 452, in _handle_events\n",
            "    self._handle_recv()\n",
            "  File \"/usr/local/lib/python3.7/dist-packages/zmq/eventloop/zmqstream.py\", line 481, in _handle_recv\n",
            "    self._run_callback(callback, msg)\n",
            "  File \"/usr/local/lib/python3.7/dist-packages/zmq/eventloop/zmqstream.py\", line 431, in _run_callback\n",
            "    callback(*args, **kwargs)\n",
            "  File \"/usr/local/lib/python3.7/dist-packages/tornado/stack_context.py\", line 300, in null_wrapper\n",
            "    return fn(*args, **kwargs)\n",
            "  File \"/usr/local/lib/python3.7/dist-packages/ipykernel/kernelbase.py\", line 283, in dispatcher\n",
            "    return self.dispatch_shell(stream, msg)\n",
            "  File \"/usr/local/lib/python3.7/dist-packages/ipykernel/kernelbase.py\", line 233, in dispatch_shell\n",
            "    handler(stream, idents, msg)\n",
            "  File \"/usr/local/lib/python3.7/dist-packages/ipykernel/kernelbase.py\", line 399, in execute_request\n",
            "    user_expressions, allow_stdin)\n",
            "  File \"/usr/local/lib/python3.7/dist-packages/ipykernel/ipkernel.py\", line 208, in do_execute\n",
            "    res = shell.run_cell(code, store_history=store_history, silent=silent)\n",
            "  File \"/usr/local/lib/python3.7/dist-packages/ipykernel/zmqshell.py\", line 537, in run_cell\n",
            "    return super(ZMQInteractiveShell, self).run_cell(*args, **kwargs)\n",
            "  File \"/usr/local/lib/python3.7/dist-packages/IPython/core/interactiveshell.py\", line 2718, in run_cell\n",
            "    interactivity=interactivity, compiler=compiler, result=result)\n",
            "  File \"/usr/local/lib/python3.7/dist-packages/IPython/core/interactiveshell.py\", line 2822, in run_ast_nodes\n",
            "    if self.run_code(code, result):\n",
            "  File \"/usr/local/lib/python3.7/dist-packages/IPython/core/interactiveshell.py\", line 2882, in run_code\n",
            "    exec(code_obj, self.user_global_ns, self.user_ns)\n",
            "  File \"<ipython-input-62-710bbcbe35c6>\", line 1, in <module>\n",
            "    t,y= next(flow)\n",
            "  File \"<ipython-input-60-8cad9e65623d>\", line 10, in flow_from_dataframe\n",
            "    drop_duplicates=False)\n",
            "  File \"/usr/local/lib/python3.7/dist-packages/keras/preprocessing/image.py\", line 1109, in flow_from_dataframe\n",
            "    '`class_mode` \"raw\".', DeprecationWarning)\n",
            "  File \"/usr/local/lib/python3.7/dist-packages/tensorflow/python/platform/tf_logging.py\", line 178, in warning\n",
            "    get_logger().warning(msg, *args, **kwargs)\n",
            "Message: '`class_mode` \"other\" is deprecated, please use `class_mode` \"raw\".'\n",
            "Arguments: (<class 'DeprecationWarning'>,)\n",
            "--- Logging error ---\n",
            "Traceback (most recent call last):\n",
            "  File \"/usr/lib/python3.7/logging/__init__.py\", line 1025, in emit\n",
            "    msg = self.format(record)\n",
            "  File \"/usr/lib/python3.7/logging/__init__.py\", line 869, in format\n",
            "    return fmt.format(record)\n",
            "  File \"/usr/lib/python3.7/logging/__init__.py\", line 608, in format\n",
            "    record.message = record.getMessage()\n",
            "  File \"/usr/lib/python3.7/logging/__init__.py\", line 369, in getMessage\n",
            "    msg = msg % self.args\n",
            "TypeError: not all arguments converted during string formatting\n",
            "Call stack:\n",
            "  File \"/usr/lib/python3.7/runpy.py\", line 193, in _run_module_as_main\n",
            "    \"__main__\", mod_spec)\n",
            "  File \"/usr/lib/python3.7/runpy.py\", line 85, in _run_code\n",
            "    exec(code, run_globals)\n",
            "  File \"/usr/local/lib/python3.7/dist-packages/ipykernel_launcher.py\", line 16, in <module>\n",
            "    app.launch_new_instance()\n",
            "  File \"/usr/local/lib/python3.7/dist-packages/traitlets/config/application.py\", line 846, in launch_instance\n",
            "    app.start()\n",
            "  File \"/usr/local/lib/python3.7/dist-packages/ipykernel/kernelapp.py\", line 499, in start\n",
            "    self.io_loop.start()\n",
            "  File \"/usr/local/lib/python3.7/dist-packages/tornado/platform/asyncio.py\", line 132, in start\n",
            "    self.asyncio_loop.run_forever()\n",
            "  File \"/usr/lib/python3.7/asyncio/base_events.py\", line 541, in run_forever\n",
            "    self._run_once()\n",
            "  File \"/usr/lib/python3.7/asyncio/base_events.py\", line 1786, in _run_once\n",
            "    handle._run()\n",
            "  File \"/usr/lib/python3.7/asyncio/events.py\", line 88, in _run\n",
            "    self._context.run(self._callback, *self._args)\n",
            "  File \"/usr/local/lib/python3.7/dist-packages/tornado/platform/asyncio.py\", line 122, in _handle_events\n",
            "    handler_func(fileobj, events)\n",
            "  File \"/usr/local/lib/python3.7/dist-packages/tornado/stack_context.py\", line 300, in null_wrapper\n",
            "    return fn(*args, **kwargs)\n",
            "  File \"/usr/local/lib/python3.7/dist-packages/zmq/eventloop/zmqstream.py\", line 452, in _handle_events\n",
            "    self._handle_recv()\n",
            "  File \"/usr/local/lib/python3.7/dist-packages/zmq/eventloop/zmqstream.py\", line 481, in _handle_recv\n",
            "    self._run_callback(callback, msg)\n",
            "  File \"/usr/local/lib/python3.7/dist-packages/zmq/eventloop/zmqstream.py\", line 431, in _run_callback\n",
            "    callback(*args, **kwargs)\n",
            "  File \"/usr/local/lib/python3.7/dist-packages/tornado/stack_context.py\", line 300, in null_wrapper\n",
            "    return fn(*args, **kwargs)\n",
            "  File \"/usr/local/lib/python3.7/dist-packages/ipykernel/kernelbase.py\", line 283, in dispatcher\n",
            "    return self.dispatch_shell(stream, msg)\n",
            "  File \"/usr/local/lib/python3.7/dist-packages/ipykernel/kernelbase.py\", line 233, in dispatch_shell\n",
            "    handler(stream, idents, msg)\n",
            "  File \"/usr/local/lib/python3.7/dist-packages/ipykernel/kernelbase.py\", line 399, in execute_request\n",
            "    user_expressions, allow_stdin)\n",
            "  File \"/usr/local/lib/python3.7/dist-packages/ipykernel/ipkernel.py\", line 208, in do_execute\n",
            "    res = shell.run_cell(code, store_history=store_history, silent=silent)\n",
            "  File \"/usr/local/lib/python3.7/dist-packages/ipykernel/zmqshell.py\", line 537, in run_cell\n",
            "    return super(ZMQInteractiveShell, self).run_cell(*args, **kwargs)\n",
            "  File \"/usr/local/lib/python3.7/dist-packages/IPython/core/interactiveshell.py\", line 2718, in run_cell\n",
            "    interactivity=interactivity, compiler=compiler, result=result)\n",
            "  File \"/usr/local/lib/python3.7/dist-packages/IPython/core/interactiveshell.py\", line 2822, in run_ast_nodes\n",
            "    if self.run_code(code, result):\n",
            "  File \"/usr/local/lib/python3.7/dist-packages/IPython/core/interactiveshell.py\", line 2882, in run_code\n",
            "    exec(code_obj, self.user_global_ns, self.user_ns)\n",
            "  File \"<ipython-input-62-710bbcbe35c6>\", line 1, in <module>\n",
            "    t,y= next(flow)\n",
            "  File \"<ipython-input-60-8cad9e65623d>\", line 10, in flow_from_dataframe\n",
            "    drop_duplicates=False)\n",
            "  File \"/usr/local/lib/python3.7/dist-packages/keras/preprocessing/image.py\", line 1115, in flow_from_dataframe\n",
            "    DeprecationWarning)\n",
            "  File \"/usr/local/lib/python3.7/dist-packages/tensorflow/python/platform/tf_logging.py\", line 178, in warning\n",
            "    get_logger().warning(msg, *args, **kwargs)\n",
            "Message: 'drop_duplicates is deprecated, you can drop duplicates by using the pandas.DataFrame.drop_duplicates method.'\n",
            "Arguments: (<class 'DeprecationWarning'>,)\n"
          ]
        },
        {
          "output_type": "stream",
          "name": "stdout",
          "text": [
            "Found 15906 validated image filenames.\n"
          ]
        }
      ],
      "source": [
        "t,y= next(flow)"
      ]
    },
    {
      "cell_type": "code",
      "execution_count": 63,
      "metadata": {
        "id": "c5-87ixT3u5D"
      },
      "outputs": [],
      "source": [
        "from sklearn.model_selection import train_test_split\n",
        "X_train, X_test, y_train, y_test = train_test_split(t,y, \n",
        "                                   test_size = 0.30, \n",
        "                                   random_state = 2018)\n"
      ]
    },
    {
      "cell_type": "code",
      "execution_count": 64,
      "metadata": {
        "colab": {
          "base_uri": "https://localhost:8080/"
        },
        "id": "2mdWarDA3u5E",
        "outputId": "7b33b66f-f74e-4113-949e-110c16b22aac"
      },
      "outputs": [
        {
          "output_type": "stream",
          "name": "stdout",
          "text": [
            "Model: \"sequential_3\"\n",
            "_________________________________________________________________\n",
            " Layer (type)                Output Shape              Param #   \n",
            "=================================================================\n",
            " mobilenet_1.00_128 (Functio  (None, 4, 4, 1024)       3228288   \n",
            " nal)                                                            \n",
            "                                                                 \n",
            " global_average_pooling2d_3   (None, 1024)             0         \n",
            " (GlobalAveragePooling2D)                                        \n",
            "                                                                 \n",
            " dropout_6 (Dropout)         (None, 1024)              0         \n",
            "                                                                 \n",
            " dense_6 (Dense)             (None, 512)               524800    \n",
            "                                                                 \n",
            " dropout_7 (Dropout)         (None, 512)               0         \n",
            "                                                                 \n",
            " dense_7 (Dense)             (None, 1)                 513       \n",
            "                                                                 \n",
            "=================================================================\n",
            "Total params: 3,753,601\n",
            "Trainable params: 3,731,713\n",
            "Non-trainable params: 21,888\n",
            "_________________________________________________________________\n"
          ]
        }
      ],
      "source": [
        "from keras.applications.mobilenet import MobileNet\n",
        "from keras.layers import GlobalAveragePooling2D, Dense, Dropout, Flatten\n",
        "from keras.models import Sequential\n",
        "mobilenet_model = MobileNet(input_shape =  X_train.shape[1:], \n",
        "                                 include_top = False, weights = None)\n",
        "mobilenet_GAP_model = Sequential()\n",
        "mobilenet_GAP_model.add(mobilenet_model)\n",
        "mobilenet_GAP_model.add(GlobalAveragePooling2D())\n",
        "mobilenet_GAP_model.add(Dropout(0.5))\n",
        "mobilenet_GAP_model.add(Dense(512))\n",
        "mobilenet_GAP_model.add(Dropout(0.5))\n",
        "mobilenet_GAP_model.add(Dense(1, activation = 'sigmoid'))\n",
        "mobilenet_GAP_model.compile(optimizer = 'adam', loss = 'binary_crossentropy',\n",
        "                           metrics = ['binary_accuracy', 'mae'])\n",
        "mobilenet_GAP_model.summary()"
      ]
    },
    {
      "cell_type": "code",
      "execution_count": 65,
      "metadata": {
        "id": "kNg1i3g43u5F"
      },
      "outputs": [],
      "source": [
        "from keras.callbacks import ModelCheckpoint, LearningRateScheduler, EarlyStopping, ReduceLROnPlateau\n",
        "weight_path=\"{}_weights.best.hdf5\".format('xray_class')\n",
        "\n",
        "checkpoint = ModelCheckpoint(weight_path, monitor='val_loss', verbose=1, \n",
        "                             save_best_only=True, mode='min', save_weights_only = True)\n",
        "\n",
        "early = EarlyStopping(monitor=\"val_loss\", \n",
        "                      mode=\"min\", \n",
        "                      patience=3)\n",
        "callbacks_list = [checkpoint, early]"
      ]
    },
    {
      "cell_type": "code",
      "execution_count": 66,
      "metadata": {
        "colab": {
          "base_uri": "https://localhost:8080/"
        },
        "id": "Gp4WwJ833u5F",
        "outputId": "db038f7b-ffe6-468b-b662-bd133a806511"
      },
      "outputs": [
        {
          "output_type": "stream",
          "name": "stdout",
          "text": [
            "Epoch 1/10\n",
            "10/10 [==============================] - ETA: 0s - loss: 1.5284 - binary_accuracy: 0.5854 - mae: 0.4219 \n",
            "Epoch 00001: val_loss improved from inf to 0.69356, saving model to xray_class_weights.best.hdf5\n",
            "10/10 [==============================] - 333s 33s/step - loss: 1.5284 - binary_accuracy: 0.5854 - mae: 0.4219 - val_loss: 0.6936 - val_binary_accuracy: 0.3262 - val_mae: 0.5002\n",
            "Epoch 2/10\n",
            "10/10 [==============================] - ETA: 0s - loss: 0.8864 - binary_accuracy: 0.5710 - mae: 0.4470 \n",
            "Epoch 00002: val_loss did not improve from 0.69356\n",
            "10/10 [==============================] - 331s 33s/step - loss: 0.8864 - binary_accuracy: 0.5710 - mae: 0.4470 - val_loss: 0.7012 - val_binary_accuracy: 0.3262 - val_mae: 0.5039\n",
            "Epoch 3/10\n",
            "10/10 [==============================] - ETA: 0s - loss: 0.7636 - binary_accuracy: 0.6088 - mae: 0.4373 \n",
            "Epoch 00003: val_loss improved from 0.69356 to 0.67926, saving model to xray_class_weights.best.hdf5\n",
            "10/10 [==============================] - 323s 33s/step - loss: 0.7636 - binary_accuracy: 0.6088 - mae: 0.4373 - val_loss: 0.6793 - val_binary_accuracy: 0.6738 - val_mae: 0.4926\n",
            "Epoch 4/10\n",
            "10/10 [==============================] - ETA: 0s - loss: 0.7050 - binary_accuracy: 0.6320 - mae: 0.4357 \n",
            "Epoch 00004: val_loss improved from 0.67926 to 0.65587, saving model to xray_class_weights.best.hdf5\n",
            "10/10 [==============================] - 333s 34s/step - loss: 0.7050 - binary_accuracy: 0.6320 - mae: 0.4357 - val_loss: 0.6559 - val_binary_accuracy: 0.6738 - val_mae: 0.4771\n",
            "Epoch 5/10\n",
            "10/10 [==============================] - ETA: 0s - loss: 0.6803 - binary_accuracy: 0.6519 - mae: 0.4229 \n",
            "Epoch 00005: val_loss did not improve from 0.65587\n",
            "10/10 [==============================] - 329s 33s/step - loss: 0.6803 - binary_accuracy: 0.6519 - mae: 0.4229 - val_loss: 0.6641 - val_binary_accuracy: 0.6738 - val_mae: 0.4832\n",
            "Epoch 6/10\n",
            "10/10 [==============================] - ETA: 0s - loss: 0.6257 - binary_accuracy: 0.6803 - mae: 0.4016 \n",
            "Epoch 00006: val_loss did not improve from 0.65587\n",
            "10/10 [==============================] - 331s 33s/step - loss: 0.6257 - binary_accuracy: 0.6803 - mae: 0.4016 - val_loss: 0.6809 - val_binary_accuracy: 0.6738 - val_mae: 0.4935\n",
            "Epoch 7/10\n",
            "10/10 [==============================] - ETA: 0s - loss: 0.5283 - binary_accuracy: 0.7383 - mae: 0.3350 \n",
            "Epoch 00007: val_loss did not improve from 0.65587\n",
            "10/10 [==============================] - 328s 33s/step - loss: 0.5283 - binary_accuracy: 0.7383 - mae: 0.3350 - val_loss: 0.6861 - val_binary_accuracy: 0.6738 - val_mae: 0.4964\n"
          ]
        }
      ],
      "source": [
        "history_mobilenet_GAP = mobilenet_GAP_model.fit(X_train,y_train,\n",
        "                                  steps_per_epoch=10,\n",
        "                                  validation_data = (X_test, y_test), \n",
        "                                  epochs = 10, \n",
        "                                  callbacks = callbacks_list)"
      ]
    },
    {
      "cell_type": "code",
      "execution_count": 67,
      "metadata": {
        "colab": {
          "base_uri": "https://localhost:8080/"
        },
        "id": "pUQvLKq73u5G",
        "outputId": "9355fcf9-f88c-4685-d6ba-61641c6f63b2"
      },
      "outputs": [
        {
          "output_type": "stream",
          "name": "stdout",
          "text": [
            "68/68 [==============================] - 22s 314ms/step\n"
          ]
        }
      ],
      "source": [
        "pred_Y = mobilenet_GAP_model.predict(X_test, \n",
        "                          batch_size = 32, \n",
        "                          verbose = True)"
      ]
    },
    {
      "cell_type": "code",
      "execution_count": 68,
      "metadata": {
        "colab": {
          "base_uri": "https://localhost:8080/"
        },
        "id": "vKPCrVg-3u5H",
        "outputId": "779cabc5-e677-4ea5-ee6a-cb240615f31e"
      },
      "outputs": [
        {
          "output_type": "execute_result",
          "data": {
            "text/plain": [
              "array([[0.48952264],\n",
              "       [0.48952264],\n",
              "       [0.48952264],\n",
              "       ...,\n",
              "       [0.48952264],\n",
              "       [0.48952264],\n",
              "       [0.48952264]], dtype=float32)"
            ]
          },
          "metadata": {},
          "execution_count": 68
        }
      ],
      "source": [
        "pred_Y"
      ]
    },
    {
      "cell_type": "code",
      "execution_count": 69,
      "metadata": {
        "colab": {
          "base_uri": "https://localhost:8080/"
        },
        "id": "MVpBerP93u5H",
        "outputId": "8b64e04a-423d-4981-c339-419b264a2df7"
      },
      "outputs": [
        {
          "output_type": "execute_result",
          "data": {
            "text/plain": [
              "array([0.48952264], dtype=float32)"
            ]
          },
          "metadata": {},
          "execution_count": 69
        }
      ],
      "source": [
        "min(pred_Y)"
      ]
    },
    {
      "cell_type": "code",
      "execution_count": 70,
      "metadata": {
        "colab": {
          "base_uri": "https://localhost:8080/"
        },
        "id": "A7GptyFx3u5I",
        "outputId": "f137cb38-37fd-4829-8d71-ee85c7d07ddd"
      },
      "outputs": [
        {
          "output_type": "stream",
          "name": "stdout",
          "text": [
            "test accuracy =  0.6738117337226868\n"
          ]
        }
      ],
      "source": [
        "print('test accuracy = ',mobilenet_GAP_model.evaluate(X_test,y_test, verbose=0)[1])"
      ]
    },
    {
      "cell_type": "code",
      "execution_count": 71,
      "metadata": {
        "colab": {
          "base_uri": "https://localhost:8080/"
        },
        "id": "YZRlgFuB3u5J",
        "outputId": "ef9e8caa-85a5-40b4-bf5d-4ab3be1bca91"
      },
      "outputs": [
        {
          "output_type": "stream",
          "name": "stdout",
          "text": [
            "roc score =  0.4993766054139498\n"
          ]
        }
      ],
      "source": [
        "from sklearn.metrics import roc_auc_score\n",
        "print('roc score = ',roc_auc_score(y_test.astype(int), pred_Y))"
      ]
    },
    {
      "cell_type": "code",
      "execution_count": 72,
      "metadata": {
        "colab": {
          "base_uri": "https://localhost:8080/",
          "height": 430
        },
        "id": "IhzzwTXX3u5J",
        "outputId": "63de87d8-2dce-4f9f-b14c-6a40e8f9197a"
      },
      "outputs": [
        {
          "output_type": "stream",
          "name": "stdout",
          "text": [
            "                 precision    recall  f1-score   support\n",
            "\n",
            "No Pneumothorax       0.67      0.99      0.80      1446\n",
            "   Pneumothorax       0.27      0.00      0.01       700\n",
            "\n",
            "       accuracy                           0.67      2146\n",
            "      macro avg       0.47      0.50      0.41      2146\n",
            "   weighted avg       0.54      0.67      0.54      2146\n",
            "\n"
          ]
        },
        {
          "output_type": "display_data",
          "data": {
            "image/png": "[encoded data removed]",
            "text/plain": [
              "<Figure size 288x288 with 1 Axes>"
            ]
          },
          "metadata": {
            "needs_background": "light"
          }
        }
      ],
      "source": [
        "from sklearn.metrics import classification_report, confusion_matrix\n",
        "plt.matshow(confusion_matrix(y_test, pred_Y>0.48952264))\n",
        "print(classification_report(y_test, pred_Y>0.48952264, target_names = ['No Pneumothorax', 'Pneumothorax']))"
      ]
    }
  ],
  "metadata": {
    "colab": {
      "collapsed_sections": [],
      "name": "Random_Oversampling.ipynb",
      "provenance": []
    },
    "kernelspec": {
      "display_name": "Python 3",
      "name": "python3"
    },
    "language_info": {
      "name": "python"
    }
  },
  "nbformat": 4,
  "nbformat_minor": 0
}