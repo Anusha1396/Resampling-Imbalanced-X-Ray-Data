{
  "cells": [
    {
      "cell_type": "markdown",
      "metadata": {
        "id": "BXS9KIo58Ggv"
      },
      "source": [
        "# **Import Libraries**"
      ]
    },
    {
      "cell_type": "code",
      "execution_count": null,
      "metadata": {
        "id": "XDKv76qPFoE5"
      },
      "outputs": [],
      "source": [
        "%matplotlib inline\n",
        "import numpy as np # linear algebra\n",
        "import pandas as pd # data processing, CSV file I/O (e.g. pd.read_csv)\n",
        "from glob import glob \n",
        "import matplotlib.pyplot as plt\n",
        "import os\n",
        "import pandas as pd\n",
        "import seaborn as sns\n",
        "from skimage.util import montage as montage2d\n",
        "from skimage.io import imread\n",
        "import matplotlib.gridspec as gridspec\n",
        "import matplotlib.ticker as ticker\n",
        "sns.set_style('whitegrid')"
      ]
    },
    {
      "cell_type": "code",
      "execution_count": null,
      "metadata": {
        "colab": {
          "base_uri": "https://localhost:8080/"
        },
        "id": "R46_CaF-ssOI",
        "outputId": "f5543e33-a63d-4bfe-933e-a7db59720ee6"
      },
      "outputs": [
        {
          "output_type": "stream",
          "name": "stdout",
          "text": [
            "Drive already mounted at /content/drive; to attempt to forcibly remount, call drive.mount(\"/content/drive\", force_remount=True).\n"
          ]
        }
      ],
      "source": [
        "from google.colab import drive\n",
        "drive.mount('/content/drive')"
      ]
    },
    {
      "cell_type": "markdown",
      "metadata": {
        "id": "R3NRmgKQ8LlE"
      },
      "source": [
        "# **Import Dataset**"
      ]
    },
    {
      "cell_type": "code",
      "execution_count": null,
      "metadata": {
        "colab": {
          "base_uri": "https://localhost:8080/"
        },
        "id": "5ElR-cIVFraN",
        "outputId": "beb74334-084d-418b-d395-e6777c028b29"
      },
      "outputs": [
        {
          "output_type": "stream",
          "name": "stdout",
          "text": [
            "Scans found: 112120 , Total Headers 112120\n"
          ]
        }
      ],
      "source": [
        "\n",
        "all_xray_df = pd.read_csv('/content/drive/MyDrive/Data_Entry_2017_v2020.csv')\n",
        "all_xray_df.sample(5)\n",
        "all_image_paths =  glob('/content/drive/MyDrive/Images/image*/*.png')\n",
        "print('Scans found:', len(all_image_paths), ', Total Headers', all_xray_df.shape[0])"
      ]
    },
    {
      "cell_type": "code",
      "execution_count": null,
      "metadata": {
        "colab": {
          "base_uri": "https://localhost:8080/",
          "height": 225
        },
        "id": "rwCtgeSOFtW2",
        "outputId": "dccaa1f8-7d11-4e55-b234-3d30953538af"
      },
      "outputs": [
        {
          "output_type": "execute_result",
          "data": {
            "text/html": [
              "\n",
              "  <div id=\"df-3a7c2b08-46e6-4958-a49b-9cb96962f920\">\n",
              "    <div class=\"colab-df-container\">\n",
              "      <div>\n",
              "<style scoped>\n",
              "    .dataframe tbody tr th:only-of-type {\n",
              "        vertical-align: middle;\n",
              "    }\n",
              "\n",
              "    .dataframe tbody tr th {\n",
              "        vertical-align: top;\n",
              "    }\n",
              "\n",
              "    .dataframe thead th {\n",
              "        text-align: right;\n",
              "    }\n",
              "</style>\n",
              "<table border=\"1\" class=\"dataframe\">\n",
              "  <thead>\n",
              "    <tr style=\"text-align: right;\">\n",
              "      <th></th>\n",
              "      <th>Image Index</th>\n",
              "      <th>Finding Labels</th>\n",
              "      <th>Follow-up #</th>\n",
              "      <th>Patient ID</th>\n",
              "      <th>Patient Age</th>\n",
              "      <th>Patient Gender</th>\n",
              "      <th>View Position</th>\n",
              "      <th>OriginalImage[Width</th>\n",
              "      <th>Height]</th>\n",
              "      <th>OriginalImagePixelSpacing[x</th>\n",
              "      <th>y]</th>\n",
              "      <th>path</th>\n",
              "      <th>Pneumonia</th>\n",
              "      <th>Patient Male</th>\n",
              "    </tr>\n",
              "  </thead>\n",
              "  <tbody>\n",
              "    <tr>\n",
              "      <th>62708</th>\n",
              "      <td>00015530_030.png</td>\n",
              "      <td>Infiltration|Pneumothorax</td>\n",
              "      <td>36</td>\n",
              "      <td>15530</td>\n",
              "      <td>20</td>\n",
              "      <td>M</td>\n",
              "      <td>AP</td>\n",
              "      <td>3056</td>\n",
              "      <td>2544</td>\n",
              "      <td>0.139000</td>\n",
              "      <td>0.139000</td>\n",
              "      <td>/content/drive/MyDrive/Images/image7/00015530_...</td>\n",
              "      <td>False</td>\n",
              "      <td>1.0</td>\n",
              "    </tr>\n",
              "    <tr>\n",
              "      <th>84339</th>\n",
              "      <td>00020726_002.png</td>\n",
              "      <td>No Finding</td>\n",
              "      <td>0</td>\n",
              "      <td>20726</td>\n",
              "      <td>45</td>\n",
              "      <td>M</td>\n",
              "      <td>PA</td>\n",
              "      <td>2646</td>\n",
              "      <td>2662</td>\n",
              "      <td>0.143000</td>\n",
              "      <td>0.143000</td>\n",
              "      <td>/content/drive/MyDrive/Images/image9/00020726_...</td>\n",
              "      <td>False</td>\n",
              "      <td>1.0</td>\n",
              "    </tr>\n",
              "    <tr>\n",
              "      <th>107072</th>\n",
              "      <td>00028882_002.png</td>\n",
              "      <td>Infiltration</td>\n",
              "      <td>2</td>\n",
              "      <td>28882</td>\n",
              "      <td>29</td>\n",
              "      <td>M</td>\n",
              "      <td>PA</td>\n",
              "      <td>2021</td>\n",
              "      <td>2021</td>\n",
              "      <td>0.194311</td>\n",
              "      <td>0.194311</td>\n",
              "      <td>/content/drive/MyDrive/Images/image12/00028882...</td>\n",
              "      <td>False</td>\n",
              "      <td>1.0</td>\n",
              "    </tr>\n",
              "  </tbody>\n",
              "</table>\n",
              "</div>\n",
              "      <button class=\"colab-df-convert\" onclick=\"convertToInteractive('df-3a7c2b08-46e6-4958-a49b-9cb96962f920')\"\n",
              "              title=\"Convert this dataframe to an interactive table.\"\n",
              "              style=\"display:none;\">\n",
              "        \n",
              "  <svg xmlns=\"http://www.w3.org/2000/svg\" height=\"24px\"viewBox=\"0 0 24 24\"\n",
              "       width=\"24px\">\n",
              "    <path d=\"M0 0h24v24H0V0z\" fill=\"none\"/>\n",
              "    <path d=\"M18.56 5.44l.94 2.06.94-2.06 2.06-.94-2.06-.94-.94-2.06-.94 2.06-2.06.94zm-11 1L8.5 8.5l.94-2.06 2.06-.94-2.06-.94L8.5 2.5l-.94 2.06-2.06.94zm10 10l.94 2.06.94-2.06 2.06-.94-2.06-.94-.94-2.06-.94 2.06-2.06.94z\"/><path d=\"M17.41 7.96l-1.37-1.37c-.4-.4-.92-.59-1.43-.59-.52 0-1.04.2-1.43.59L10.3 9.45l-7.72 7.72c-.78.78-.78 2.05 0 2.83L4 21.41c.39.39.9.59 1.41.59.51 0 1.02-.2 1.41-.59l7.78-7.78 2.81-2.81c.8-.78.8-2.07 0-2.86zM5.41 20L4 18.59l7.72-7.72 1.47 1.35L5.41 20z\"/>\n",
              "  </svg>\n",
              "      </button>\n",
              "      \n",
              "  <style>\n",
              "    .colab-df-container {\n",
              "      display:flex;\n",
              "      flex-wrap:wrap;\n",
              "      gap: 12px;\n",
              "    }\n",
              "\n",
              "    .colab-df-convert {\n",
              "      background-color: #E8F0FE;\n",
              "      border: none;\n",
              "      border-radius: 50%;\n",
              "      cursor: pointer;\n",
              "      display: none;\n",
              "      fill: #1967D2;\n",
              "      height: 32px;\n",
              "      padding: 0 0 0 0;\n",
              "      width: 32px;\n",
              "    }\n",
              "\n",
              "    .colab-df-convert:hover {\n",
              "      background-color: #E2EBFA;\n",
              "      box-shadow: 0px 1px 2px rgba(60, 64, 67, 0.3), 0px 1px 3px 1px rgba(60, 64, 67, 0.15);\n",
              "      fill: #174EA6;\n",
              "    }\n",
              "\n",
              "    [theme=dark] .colab-df-convert {\n",
              "      background-color: #3B4455;\n",
              "      fill: #D2E3FC;\n",
              "    }\n",
              "\n",
              "    [theme=dark] .colab-df-convert:hover {\n",
              "      background-color: #434B5C;\n",
              "      box-shadow: 0px 1px 3px 1px rgba(0, 0, 0, 0.15);\n",
              "      filter: drop-shadow(0px 1px 2px rgba(0, 0, 0, 0.3));\n",
              "      fill: #FFFFFF;\n",
              "    }\n",
              "  </style>\n",
              "\n",
              "      <script>\n",
              "        const buttonEl =\n",
              "          document.querySelector('#df-3a7c2b08-46e6-4958-a49b-9cb96962f920 button.colab-df-convert');\n",
              "        buttonEl.style.display =\n",
              "          google.colab.kernel.accessAllowed ? 'block' : 'none';\n",
              "\n",
              "        async function convertToInteractive(key) {\n",
              "          const element = document.querySelector('#df-3a7c2b08-46e6-4958-a49b-9cb96962f920');\n",
              "          const dataTable =\n",
              "            await google.colab.kernel.invokeFunction('convertToInteractive',\n",
              "                                                     [key], {});\n",
              "          if (!dataTable) return;\n",
              "\n",
              "          const docLinkHtml = 'Like what you see? Visit the ' +\n",
              "            '<a target=\"_blank\" href=https://colab.research.google.com/notebooks/data_table.ipynb>data table notebook</a>'\n",
              "            + ' to learn more about interactive tables.';\n",
              "          element.innerHTML = '';\n",
              "          dataTable['output_type'] = 'display_data';\n",
              "          await google.colab.output.renderOutput(dataTable, element);\n",
              "          const docLink = document.createElement('div');\n",
              "          docLink.innerHTML = docLinkHtml;\n",
              "          element.appendChild(docLink);\n",
              "        }\n",
              "      </script>\n",
              "    </div>\n",
              "  </div>\n",
              "  "
            ],
            "text/plain": [
              "             Image Index             Finding Labels  ...  Pneumonia  Patient Male\n",
              "62708   00015530_030.png  Infiltration|Pneumothorax  ...      False           1.0\n",
              "84339   00020726_002.png                 No Finding  ...      False           1.0\n",
              "107072  00028882_002.png               Infiltration  ...      False           1.0\n",
              "\n",
              "[3 rows x 14 columns]"
            ]
          },
          "metadata": {},
          "execution_count": 6
        }
      ],
      "source": [
        "img_paths = {os.path.basename(x): x for x in all_image_paths}\n",
        "all_xray_df['path'] = all_xray_df['Image Index'].map(img_paths.get)\n",
        "all_xray_df['Pneumonia'] = all_xray_df['Finding Labels'].map(lambda x: 'Pneumonia' in x)\n",
        "all_xray_df['Patient Age'] = np.clip(all_xray_df['Patient Age'], 5, 100)\n",
        "all_xray_df['Patient Male'] = all_xray_df['Patient Gender'].map(lambda x: x.upper()=='M').astype('float32')\n",
        "all_xray_df.sample(3)"
      ]
    },
    {
      "cell_type": "code",
      "execution_count": null,
      "metadata": {
        "colab": {
          "base_uri": "https://localhost:8080/",
          "height": 626
        },
        "id": "gFyTcuPlFzr2",
        "outputId": "fe3cf62a-ab6e-4690-8a8b-ef651b843246"
      },
      "outputs": [
        {
          "output_type": "display_data",
          "data": {
            "image/png": "[encoded data removed]",
            "text/plain": [
              "<Figure size 1080x720 with 2 Axes>"
            ]
          },
          "metadata": {}
        }
      ],
      "source": [
        "pathology_list = ['Cardiomegaly','Emphysema','Effusion','Hernia','Nodule','Pneumothorax','Atelectasis','Pleural_Thickening','Mass','Edema','Consolidation','Infiltration','Fibrosis','Pneumonia']\n",
        "for pathology in pathology_list :\n",
        "    all_xray_df[pathology] = all_xray_df['Finding Labels'].apply(lambda x: 1 if pathology in x else 0)\n",
        "plt.figure(figsize=(15,10))\n",
        "gs = gridspec.GridSpec(8,1)\n",
        "ax1 = plt.subplot(gs[:7, :])\n",
        "ax2 = plt.subplot(gs[7, :])\n",
        "data1 = pd.melt(all_xray_df,\n",
        "             id_vars=['Patient Gender'],\n",
        "             value_vars = list(pathology_list),\n",
        "             var_name = 'Category',\n",
        "             value_name = 'Count')\n",
        "data1 = data1.loc[data1.Count>0]\n",
        "g=sns.countplot(y='Category',hue='Patient Gender',data=data1, ax=ax1, order = data1['Category'].value_counts().index)\n",
        "ax1.set( ylabel=\"\",xlabel=\"\")\n",
        "ax1.legend(fontsize=20)\n",
        "ax1.set_title('X Ray partition (total number = 121120)',fontsize=18);\n",
        "\n",
        "all_xray_df['Nothing']=all_xray_df['Finding Labels'].apply(lambda x: 1 if 'No Finding' in x else 0)\n",
        "\n",
        "data2 = pd.melt(all_xray_df,\n",
        "             id_vars=['Patient Gender'],\n",
        "             value_vars = list(['Nothing']),\n",
        "             var_name = 'Category',\n",
        "             value_name = 'Count')\n",
        "data2 = data2.loc[data2.Count>0]\n",
        "g=sns.countplot(y='Category',hue='Patient Gender',data=data2,ax=ax2)\n",
        "ax2.set( ylabel=\"\",xlabel=\"Number of decease\")\n",
        "ax2.legend('')\n",
        "plt.subplots_adjust(hspace=.5)\n",
        "all_xray_df['Pneumonia'] = all_xray_df['Finding Labels'].map(lambda x: 'Pneumonia' in x)"
      ]
    },
    {
      "cell_type": "markdown",
      "metadata": {
        "id": "1zNi6xsI2E2d"
      },
      "source": [
        "## **NO FINDINGS**"
      ]
    },
    {
      "cell_type": "code",
      "execution_count": null,
      "metadata": {
        "colab": {
          "base_uri": "https://localhost:8080/",
          "height": 266
        },
        "id": "Y94vfJC0F6EV",
        "outputId": "51a36a0b-3754-4793-dce1-941f24a3ab20"
      },
      "outputs": [
        {
          "name": "stdout",
          "output_type": "stream",
          "text": [
            "1    60361\n",
            "0    51759\n",
            "Name: Nothing, dtype: int64\n"
          ]
        },
        {
          "data": {
            "text/plain": [
              "<seaborn.axisgrid.PairGrid at 0x7f3bae82fe10>"
            ]
          },
          "execution_count": 6,
          "metadata": {},
          "output_type": "execute_result"
        },
        {
          "data": {
            "image/png": "[encoded data removed]",
            "text/plain": [
              "<Figure size 227.375x180 with 2 Axes>"
            ]
          },
          "metadata": {},
          "output_type": "display_data"
        }
      ],
      "source": [
        "positive_cases = np.sum(all_xray_df['Nothing']==True)//2\n",
        "oversample_factor = 4 # maximum number of cases in negative group so it isn't super rare\n",
        "more_balanced_df = all_xray_df.groupby(['Nothing']).apply(lambda x: x.sample(min(oversample_factor*positive_cases, x.shape[0]), \n",
        "                                                                                   replace = False)\n",
        "                                                      ).reset_index(drop = True)\n",
        "\n",
        "print(more_balanced_df['Nothing'].value_counts())\n",
        "sns.pairplot(more_balanced_df[['Patient Age', 'Nothing']], hue='Nothing')"
      ]
    },
    {
      "cell_type": "code",
      "execution_count": null,
      "metadata": {
        "colab": {
          "base_uri": "https://localhost:8080/",
          "height": 257
        },
        "id": "NeWTj6EmF8X-",
        "outputId": "aae4a074-d939-4525-e8d5-3a2585794542"
      },
      "outputs": [
        {
          "name": "stdout",
          "output_type": "stream",
          "text": [
            "train 78484 validation 20181 test 13455\n",
            "train 1    42253\n",
            "0    36231\n",
            "Name: Nothing, dtype: int64\n",
            "test 1    7244\n",
            "0    6211\n",
            "Name: Nothing, dtype: int64\n"
          ]
        },
        {
          "data": {
            "text/html": [
              "<div>\n",
              "<style scoped>\n",
              "    .dataframe tbody tr th:only-of-type {\n",
              "        vertical-align: middle;\n",
              "    }\n",
              "\n",
              "    .dataframe tbody tr th {\n",
              "        vertical-align: top;\n",
              "    }\n",
              "\n",
              "    .dataframe thead th {\n",
              "        text-align: right;\n",
              "    }\n",
              "</style>\n",
              "<table border=\"1\" class=\"dataframe\">\n",
              "  <thead>\n",
              "    <tr style=\"text-align: right;\">\n",
              "      <th></th>\n",
              "      <th>Image Index</th>\n",
              "      <th>Finding Labels</th>\n",
              "      <th>Follow-up #</th>\n",
              "      <th>Patient ID</th>\n",
              "      <th>Patient Age</th>\n",
              "      <th>Patient Gender</th>\n",
              "      <th>View Position</th>\n",
              "      <th>OriginalImage[Width</th>\n",
              "      <th>Height]</th>\n",
              "      <th>OriginalImagePixelSpacing[x</th>\n",
              "      <th>y]</th>\n",
              "      <th>path</th>\n",
              "      <th>Pneumonia</th>\n",
              "      <th>Patient Male</th>\n",
              "      <th>Cardiomegaly</th>\n",
              "      <th>Emphysema</th>\n",
              "      <th>Effusion</th>\n",
              "      <th>Hernia</th>\n",
              "      <th>Nodule</th>\n",
              "      <th>Pneumothorax</th>\n",
              "      <th>Atelectasis</th>\n",
              "      <th>Pleural_Thickening</th>\n",
              "      <th>Mass</th>\n",
              "      <th>Edema</th>\n",
              "      <th>Consolidation</th>\n",
              "      <th>Infiltration</th>\n",
              "      <th>Fibrosis</th>\n",
              "      <th>Nothing</th>\n",
              "    </tr>\n",
              "  </thead>\n",
              "  <tbody>\n",
              "    <tr>\n",
              "      <th>109553</th>\n",
              "      <td>00018838_002.png</td>\n",
              "      <td>No Finding</td>\n",
              "      <td>0</td>\n",
              "      <td>18838</td>\n",
              "      <td>58</td>\n",
              "      <td>F</td>\n",
              "      <td>PA</td>\n",
              "      <td>2274</td>\n",
              "      <td>2645</td>\n",
              "      <td>0.143</td>\n",
              "      <td>0.143</td>\n",
              "      <td>/content/drive/MyDrive/Images/image9/00018838_...</td>\n",
              "      <td>False</td>\n",
              "      <td>0.0</td>\n",
              "      <td>0</td>\n",
              "      <td>0</td>\n",
              "      <td>0</td>\n",
              "      <td>0</td>\n",
              "      <td>0</td>\n",
              "      <td>0</td>\n",
              "      <td>0</td>\n",
              "      <td>0</td>\n",
              "      <td>0</td>\n",
              "      <td>0</td>\n",
              "      <td>0</td>\n",
              "      <td>0</td>\n",
              "      <td>0</td>\n",
              "      <td>1</td>\n",
              "    </tr>\n",
              "  </tbody>\n",
              "</table>\n",
              "</div>"
            ],
            "text/plain": [
              "             Image Index Finding Labels  ...  Fibrosis  Nothing\n",
              "109553  00018838_002.png     No Finding  ...         0        1\n",
              "\n",
              "[1 rows x 28 columns]"
            ]
          },
          "execution_count": 7,
          "metadata": {},
          "output_type": "execute_result"
        }
      ],
      "source": [
        "from sklearn.model_selection import train_test_split\n",
        "raw_train_df, test_valid_df = train_test_split(more_balanced_df, \n",
        "                                   test_size = 0.30, \n",
        "                                   random_state = 2018,\n",
        "                                   stratify = more_balanced_df[['Nothing']])\n",
        "valid_df, test_df = train_test_split(test_valid_df, \n",
        "                                   test_size = 0.40, \n",
        "                                   random_state = 2018,\n",
        "                                   stratify = test_valid_df[['Nothing']])\n",
        "print('train', raw_train_df.shape[0], 'validation', valid_df.shape[0], 'test', test_df.shape[0])\n",
        "print('train', raw_train_df['Nothing'].value_counts())\n",
        "print('test', test_df['Nothing'].value_counts())\n",
        "raw_train_df.sample(1)"
      ]
    },
    {
      "cell_type": "markdown",
      "metadata": {
        "id": "7AvtJHdB7elK"
      },
      "source": [
        "# *Undersampling*"
      ]
    },
    {
      "cell_type": "code",
      "execution_count": null,
      "metadata": {
        "colab": {
          "base_uri": "https://localhost:8080/"
        },
        "id": "P6bSO7VOF-MG",
        "outputId": "4be87d82-4e89-46a2-baef-db65aff8ddd7"
      },
      "outputs": [
        {
          "name": "stdout",
          "output_type": "stream",
          "text": [
            "New Data Size: 4000 Old Size: 78484\n"
          ]
        }
      ],
      "source": [
        "train_df = raw_train_df.groupby(['Nothing']).apply(lambda x: x.sample(2000, replace = True)\n",
        "                                                      ).reset_index(drop = True)\n",
        "print('New Data Size:', train_df.shape[0], 'Old Size:', raw_train_df.shape[0])"
      ]
    },
    {
      "cell_type": "code",
      "execution_count": null,
      "metadata": {
        "id": "AYFdTMN17W5X"
      },
      "outputs": [],
      "source": [
        "from keras.preprocessing.image import ImageDataGenerator\n",
        "idg = ImageDataGenerator(zoom_range=0.2,\n",
        "                           fill_mode='nearest',\n",
        "                           rotation_range=25,  \n",
        "                           width_shift_range=0.25,  \n",
        "                           height_shift_range=0.25,  \n",
        "                           vertical_flip=False, \n",
        "                           horizontal_flip=True,\n",
        "                           shear_range = 0.2,\n",
        "                           samplewise_center=False, \n",
        "                           samplewise_std_normalization=False)\n"
      ]
    },
    {
      "cell_type": "code",
      "execution_count": null,
      "metadata": {
        "id": "soGdxyj47W5Y"
      },
      "outputs": [],
      "source": [
        "SEED= 10\n",
        "IMG_SIZE = (128, 128) \n",
        "####\n",
        "def flow_from_dataframe(imgDatGen, df, batch_size, seed, img_size):\n",
        "    #gc.collect()\n",
        "    gen_img = imgDatGen.flow_from_dataframe(dataframe=more_balanced_df,\n",
        "        x_col='path', y_col='Nothing',\n",
        "        batch_size=batch_size, seed=seed, shuffle=True, class_mode='other',\n",
        "        target_size=img_size, color_mode='grayscale',\n",
        "        drop_duplicates=False)\n",
        "\n",
        "    \n",
        "        \n",
        "    while True:\n",
        "        X1i = gen_img.next()\n",
        "        #X2i = gen_img.next()\n",
        "        #gc.collect()\n",
        "        yield [X1i[0], X1i[1]]"
      ]
    },
    {
      "cell_type": "code",
      "execution_count": null,
      "metadata": {
        "id": "4R0mr1xI7W5Y"
      },
      "outputs": [],
      "source": [
        "flow = flow_from_dataframe(idg, more_balanced_df, 7151, SEED, IMG_SIZE)"
      ]
    },
    {
      "cell_type": "code",
      "execution_count": null,
      "metadata": {
        "colab": {
          "base_uri": "https://localhost:8080/"
        },
        "id": "nfmYSQPN7W5Z",
        "outputId": "5fbb597d-b981-4675-a3c2-93e7679d517f"
      },
      "outputs": [
        {
          "name": "stderr",
          "output_type": "stream",
          "text": [
            "--- Logging error ---\n",
            "Traceback (most recent call last):\n",
            "  File \"/usr/lib/python3.7/logging/__init__.py\", line 1025, in emit\n",
            "    msg = self.format(record)\n",
            "  File \"/usr/lib/python3.7/logging/__init__.py\", line 869, in format\n",
            "    return fmt.format(record)\n",
            "  File \"/usr/lib/python3.7/logging/__init__.py\", line 608, in format\n",
            "    record.message = record.getMessage()\n",
            "  File \"/usr/lib/python3.7/logging/__init__.py\", line 369, in getMessage\n",
            "    msg = msg % self.args\n",
            "TypeError: not all arguments converted during string formatting\n",
            "Call stack:\n",
            "  File \"/usr/lib/python3.7/runpy.py\", line 193, in _run_module_as_main\n",
            "    \"__main__\", mod_spec)\n",
            "  File \"/usr/lib/python3.7/runpy.py\", line 85, in _run_code\n",
            "    exec(code, run_globals)\n",
            "  File \"/usr/local/lib/python3.7/dist-packages/ipykernel_launcher.py\", line 16, in <module>\n",
            "    app.launch_new_instance()\n",
            "  File \"/usr/local/lib/python3.7/dist-packages/traitlets/config/application.py\", line 846, in launch_instance\n",
            "    app.start()\n",
            "  File \"/usr/local/lib/python3.7/dist-packages/ipykernel/kernelapp.py\", line 499, in start\n",
            "    self.io_loop.start()\n",
            "  File \"/usr/local/lib/python3.7/dist-packages/tornado/platform/asyncio.py\", line 132, in start\n",
            "    self.asyncio_loop.run_forever()\n",
            "  File \"/usr/lib/python3.7/asyncio/base_events.py\", line 541, in run_forever\n",
            "    self._run_once()\n",
            "  File \"/usr/lib/python3.7/asyncio/base_events.py\", line 1786, in _run_once\n",
            "    handle._run()\n",
            "  File \"/usr/lib/python3.7/asyncio/events.py\", line 88, in _run\n",
            "    self._context.run(self._callback, *self._args)\n",
            "  File \"/usr/local/lib/python3.7/dist-packages/tornado/ioloop.py\", line 758, in _run_callback\n",
            "    ret = callback()\n",
            "  File \"/usr/local/lib/python3.7/dist-packages/tornado/stack_context.py\", line 300, in null_wrapper\n",
            "    return fn(*args, **kwargs)\n",
            "  File \"/usr/local/lib/python3.7/dist-packages/zmq/eventloop/zmqstream.py\", line 536, in <lambda>\n",
            "    self.io_loop.add_callback(lambda: self._handle_events(self.socket, 0))\n",
            "  File \"/usr/local/lib/python3.7/dist-packages/zmq/eventloop/zmqstream.py\", line 452, in _handle_events\n",
            "    self._handle_recv()\n",
            "  File \"/usr/local/lib/python3.7/dist-packages/zmq/eventloop/zmqstream.py\", line 481, in _handle_recv\n",
            "    self._run_callback(callback, msg)\n",
            "  File \"/usr/local/lib/python3.7/dist-packages/zmq/eventloop/zmqstream.py\", line 431, in _run_callback\n",
            "    callback(*args, **kwargs)\n",
            "  File \"/usr/local/lib/python3.7/dist-packages/tornado/stack_context.py\", line 300, in null_wrapper\n",
            "    return fn(*args, **kwargs)\n",
            "  File \"/usr/local/lib/python3.7/dist-packages/ipykernel/kernelbase.py\", line 283, in dispatcher\n",
            "    return self.dispatch_shell(stream, msg)\n",
            "  File \"/usr/local/lib/python3.7/dist-packages/ipykernel/kernelbase.py\", line 233, in dispatch_shell\n",
            "    handler(stream, idents, msg)\n",
            "  File \"/usr/local/lib/python3.7/dist-packages/ipykernel/kernelbase.py\", line 399, in execute_request\n",
            "    user_expressions, allow_stdin)\n",
            "  File \"/usr/local/lib/python3.7/dist-packages/ipykernel/ipkernel.py\", line 208, in do_execute\n",
            "    res = shell.run_cell(code, store_history=store_history, silent=silent)\n",
            "  File \"/usr/local/lib/python3.7/dist-packages/ipykernel/zmqshell.py\", line 537, in run_cell\n",
            "    return super(ZMQInteractiveShell, self).run_cell(*args, **kwargs)\n",
            "  File \"/usr/local/lib/python3.7/dist-packages/IPython/core/interactiveshell.py\", line 2718, in run_cell\n",
            "    interactivity=interactivity, compiler=compiler, result=result)\n",
            "  File \"/usr/local/lib/python3.7/dist-packages/IPython/core/interactiveshell.py\", line 2822, in run_ast_nodes\n",
            "    if self.run_code(code, result):\n",
            "  File \"/usr/local/lib/python3.7/dist-packages/IPython/core/interactiveshell.py\", line 2882, in run_code\n",
            "    exec(code_obj, self.user_global_ns, self.user_ns)\n",
            "  File \"<ipython-input-12-710bbcbe35c6>\", line 1, in <module>\n",
            "    t,y= next(flow)\n",
            "  File \"<ipython-input-10-32ffa8d1e7aa>\", line 10, in flow_from_dataframe\n",
            "    drop_duplicates=False)\n",
            "  File \"/usr/local/lib/python3.7/dist-packages/keras/preprocessing/image.py\", line 1109, in flow_from_dataframe\n",
            "    '`class_mode` \"raw\".', DeprecationWarning)\n",
            "  File \"/usr/local/lib/python3.7/dist-packages/tensorflow/python/platform/tf_logging.py\", line 178, in warning\n",
            "    get_logger().warning(msg, *args, **kwargs)\n",
            "Message: '`class_mode` \"other\" is deprecated, please use `class_mode` \"raw\".'\n",
            "Arguments: (<class 'DeprecationWarning'>,)\n",
            "--- Logging error ---\n",
            "Traceback (most recent call last):\n",
            "  File \"/usr/lib/python3.7/logging/__init__.py\", line 1025, in emit\n",
            "    msg = self.format(record)\n",
            "  File \"/usr/lib/python3.7/logging/__init__.py\", line 869, in format\n",
            "    return fmt.format(record)\n",
            "  File \"/usr/lib/python3.7/logging/__init__.py\", line 608, in format\n",
            "    record.message = record.getMessage()\n",
            "  File \"/usr/lib/python3.7/logging/__init__.py\", line 369, in getMessage\n",
            "    msg = msg % self.args\n",
            "TypeError: not all arguments converted during string formatting\n",
            "Call stack:\n",
            "  File \"/usr/lib/python3.7/runpy.py\", line 193, in _run_module_as_main\n",
            "    \"__main__\", mod_spec)\n",
            "  File \"/usr/lib/python3.7/runpy.py\", line 85, in _run_code\n",
            "    exec(code, run_globals)\n",
            "  File \"/usr/local/lib/python3.7/dist-packages/ipykernel_launcher.py\", line 16, in <module>\n",
            "    app.launch_new_instance()\n",
            "  File \"/usr/local/lib/python3.7/dist-packages/traitlets/config/application.py\", line 846, in launch_instance\n",
            "    app.start()\n",
            "  File \"/usr/local/lib/python3.7/dist-packages/ipykernel/kernelapp.py\", line 499, in start\n",
            "    self.io_loop.start()\n",
            "  File \"/usr/local/lib/python3.7/dist-packages/tornado/platform/asyncio.py\", line 132, in start\n",
            "    self.asyncio_loop.run_forever()\n",
            "  File \"/usr/lib/python3.7/asyncio/base_events.py\", line 541, in run_forever\n",
            "    self._run_once()\n",
            "  File \"/usr/lib/python3.7/asyncio/base_events.py\", line 1786, in _run_once\n",
            "    handle._run()\n",
            "  File \"/usr/lib/python3.7/asyncio/events.py\", line 88, in _run\n",
            "    self._context.run(self._callback, *self._args)\n",
            "  File \"/usr/local/lib/python3.7/dist-packages/tornado/ioloop.py\", line 758, in _run_callback\n",
            "    ret = callback()\n",
            "  File \"/usr/local/lib/python3.7/dist-packages/tornado/stack_context.py\", line 300, in null_wrapper\n",
            "    return fn(*args, **kwargs)\n",
            "  File \"/usr/local/lib/python3.7/dist-packages/zmq/eventloop/zmqstream.py\", line 536, in <lambda>\n",
            "    self.io_loop.add_callback(lambda: self._handle_events(self.socket, 0))\n",
            "  File \"/usr/local/lib/python3.7/dist-packages/zmq/eventloop/zmqstream.py\", line 452, in _handle_events\n",
            "    self._handle_recv()\n",
            "  File \"/usr/local/lib/python3.7/dist-packages/zmq/eventloop/zmqstream.py\", line 481, in _handle_recv\n",
            "    self._run_callback(callback, msg)\n",
            "  File \"/usr/local/lib/python3.7/dist-packages/zmq/eventloop/zmqstream.py\", line 431, in _run_callback\n",
            "    callback(*args, **kwargs)\n",
            "  File \"/usr/local/lib/python3.7/dist-packages/tornado/stack_context.py\", line 300, in null_wrapper\n",
            "    return fn(*args, **kwargs)\n",
            "  File \"/usr/local/lib/python3.7/dist-packages/ipykernel/kernelbase.py\", line 283, in dispatcher\n",
            "    return self.dispatch_shell(stream, msg)\n",
            "  File \"/usr/local/lib/python3.7/dist-packages/ipykernel/kernelbase.py\", line 233, in dispatch_shell\n",
            "    handler(stream, idents, msg)\n",
            "  File \"/usr/local/lib/python3.7/dist-packages/ipykernel/kernelbase.py\", line 399, in execute_request\n",
            "    user_expressions, allow_stdin)\n",
            "  File \"/usr/local/lib/python3.7/dist-packages/ipykernel/ipkernel.py\", line 208, in do_execute\n",
            "    res = shell.run_cell(code, store_history=store_history, silent=silent)\n",
            "  File \"/usr/local/lib/python3.7/dist-packages/ipykernel/zmqshell.py\", line 537, in run_cell\n",
            "    return super(ZMQInteractiveShell, self).run_cell(*args, **kwargs)\n",
            "  File \"/usr/local/lib/python3.7/dist-packages/IPython/core/interactiveshell.py\", line 2718, in run_cell\n",
            "    interactivity=interactivity, compiler=compiler, result=result)\n",
            "  File \"/usr/local/lib/python3.7/dist-packages/IPython/core/interactiveshell.py\", line 2822, in run_ast_nodes\n",
            "    if self.run_code(code, result):\n",
            "  File \"/usr/local/lib/python3.7/dist-packages/IPython/core/interactiveshell.py\", line 2882, in run_code\n",
            "    exec(code_obj, self.user_global_ns, self.user_ns)\n",
            "  File \"<ipython-input-12-710bbcbe35c6>\", line 1, in <module>\n",
            "    t,y= next(flow)\n",
            "  File \"<ipython-input-10-32ffa8d1e7aa>\", line 10, in flow_from_dataframe\n",
            "    drop_duplicates=False)\n",
            "  File \"/usr/local/lib/python3.7/dist-packages/keras/preprocessing/image.py\", line 1115, in flow_from_dataframe\n",
            "    DeprecationWarning)\n",
            "  File \"/usr/local/lib/python3.7/dist-packages/tensorflow/python/platform/tf_logging.py\", line 178, in warning\n",
            "    get_logger().warning(msg, *args, **kwargs)\n",
            "Message: 'drop_duplicates is deprecated, you can drop duplicates by using the pandas.DataFrame.drop_duplicates method.'\n",
            "Arguments: (<class 'DeprecationWarning'>,)\n"
          ]
        },
        {
          "name": "stdout",
          "output_type": "stream",
          "text": [
            "Found 112120 validated image filenames.\n"
          ]
        }
      ],
      "source": [
        "t,y= next(flow)"
      ]
    },
    {
      "cell_type": "code",
      "execution_count": null,
      "metadata": {
        "id": "ZWSTc5Ym7W5Z"
      },
      "outputs": [],
      "source": [
        "from sklearn.model_selection import train_test_split\n",
        "X_train, X_test, y_train, y_test = train_test_split(t,y, \n",
        "                                   test_size = 0.30, \n",
        "                                   random_state = 2018)\n"
      ]
    },
    {
      "cell_type": "markdown",
      "metadata": {
        "id": "gYFqclfm8X-t"
      },
      "source": [
        "# **TRAIN MODEL**"
      ]
    },
    {
      "cell_type": "code",
      "execution_count": null,
      "metadata": {
        "colab": {
          "base_uri": "https://localhost:8080/"
        },
        "id": "KGEDKVIs7W5a",
        "outputId": "86d2d341-bcdd-4642-e6e4-c8d3abbb92b6"
      },
      "outputs": [
        {
          "name": "stdout",
          "output_type": "stream",
          "text": [
            "Model: \"sequential\"\n",
            "_________________________________________________________________\n",
            " Layer (type)                Output Shape              Param #   \n",
            "=================================================================\n",
            " mobilenet_1.00_128 (Functio  (None, 4, 4, 1024)       3228288   \n",
            " nal)                                                            \n",
            "                                                                 \n",
            " global_average_pooling2d (G  (None, 1024)             0         \n",
            " lobalAveragePooling2D)                                          \n",
            "                                                                 \n",
            " dropout (Dropout)           (None, 1024)              0         \n",
            "                                                                 \n",
            " dense (Dense)               (None, 512)               524800    \n",
            "                                                                 \n",
            " dropout_1 (Dropout)         (None, 512)               0         \n",
            "                                                                 \n",
            " dense_1 (Dense)             (None, 1)                 513       \n",
            "                                                                 \n",
            "=================================================================\n",
            "Total params: 3,753,601\n",
            "Trainable params: 3,731,713\n",
            "Non-trainable params: 21,888\n",
            "_________________________________________________________________\n"
          ]
        }
      ],
      "source": [
        "from keras.applications.mobilenet import MobileNet\n",
        "from keras.layers import GlobalAveragePooling2D, Dense, Dropout, Flatten\n",
        "from keras.models import Sequential\n",
        "mobilenet_model = MobileNet(input_shape =  X_train.shape[1:], \n",
        "                                 include_top = False, weights = None)\n",
        "mobilenet_GAP_model = Sequential()\n",
        "mobilenet_GAP_model.add(mobilenet_model)\n",
        "mobilenet_GAP_model.add(GlobalAveragePooling2D())\n",
        "mobilenet_GAP_model.add(Dropout(0.5))\n",
        "mobilenet_GAP_model.add(Dense(512))\n",
        "mobilenet_GAP_model.add(Dropout(0.5))\n",
        "mobilenet_GAP_model.add(Dense(1, activation = 'sigmoid'))\n",
        "mobilenet_GAP_model.compile(optimizer = 'adam', loss = 'binary_crossentropy',\n",
        "                           metrics = ['binary_accuracy', 'mae'])\n",
        "mobilenet_GAP_model.summary()"
      ]
    },
    {
      "cell_type": "code",
      "execution_count": null,
      "metadata": {
        "id": "ywmddU-n7W5a"
      },
      "outputs": [],
      "source": [
        "from keras.callbacks import ModelCheckpoint, LearningRateScheduler, EarlyStopping, ReduceLROnPlateau\n",
        "weight_path=\"{}_weights.best.hdf5\".format('xray_class')\n",
        "\n",
        "checkpoint = ModelCheckpoint(weight_path, monitor='val_loss', verbose=1, \n",
        "                             save_best_only=True, mode='min', save_weights_only = True)\n",
        "\n",
        "early = EarlyStopping(monitor=\"val_loss\", \n",
        "                      mode=\"min\", \n",
        "                      patience=3)\n",
        "callbacks_list = [checkpoint, early]"
      ]
    },
    {
      "cell_type": "code",
      "execution_count": null,
      "metadata": {
        "colab": {
          "base_uri": "https://localhost:8080/"
        },
        "id": "cKulwakl7W5a",
        "outputId": "baeb2736-583a-4307-d011-0c76e574fe43"
      },
      "outputs": [
        {
          "name": "stdout",
          "output_type": "stream",
          "text": [
            "Epoch 1/10\n",
            "10/10 [==============================] - ETA: 0s - loss: 2.1203 - binary_accuracy: 0.4951 - mae: 0.5024 \n",
            "Epoch 00001: val_loss improved from inf to 0.69329, saving model to xray_class_weights.best.hdf5\n",
            "10/10 [==============================] - 373s 36s/step - loss: 2.1203 - binary_accuracy: 0.4951 - mae: 0.5024 - val_loss: 0.6933 - val_binary_accuracy: 0.4562 - val_mae: 0.5001\n",
            "Epoch 2/10\n",
            "10/10 [==============================] - ETA: 0s - loss: 1.0377 - binary_accuracy: 0.5115 - mae: 0.4922 \n",
            "Epoch 00002: val_loss did not improve from 0.69329\n",
            "10/10 [==============================] - 359s 36s/step - loss: 1.0377 - binary_accuracy: 0.5115 - mae: 0.4922 - val_loss: 0.6969 - val_binary_accuracy: 0.4562 - val_mae: 0.5016\n",
            "Epoch 3/10\n",
            "10/10 [==============================] - ETA: 0s - loss: 0.8790 - binary_accuracy: 0.5189 - mae: 0.4917 \n",
            "Epoch 00003: val_loss did not improve from 0.69329\n",
            "10/10 [==============================] - 355s 36s/step - loss: 0.8790 - binary_accuracy: 0.5189 - mae: 0.4917 - val_loss: 0.6937 - val_binary_accuracy: 0.4562 - val_mae: 0.5003\n",
            "Epoch 4/10\n",
            "10/10 [==============================] - ETA: 0s - loss: 0.7811 - binary_accuracy: 0.5449 - mae: 0.4843 \n",
            "Epoch 00004: val_loss did not improve from 0.69329\n",
            "10/10 [==============================] - 357s 36s/step - loss: 0.7811 - binary_accuracy: 0.5449 - mae: 0.4843 - val_loss: 0.6982 - val_binary_accuracy: 0.4562 - val_mae: 0.5020\n"
          ]
        }
      ],
      "source": [
        "history_mobilenet_GAP = mobilenet_GAP_model.fit(X_train,y_train,\n",
        "                                  steps_per_epoch=10,\n",
        "                                  validation_data = (X_test, y_test), \n",
        "                                  epochs = 10, \n",
        "                                  callbacks = callbacks_list)"
      ]
    },
    {
      "cell_type": "code",
      "execution_count": null,
      "metadata": {
        "colab": {
          "base_uri": "https://localhost:8080/"
        },
        "id": "iQmHzKCy7W5b",
        "outputId": "a2c571e7-596c-40d7-fe58-5dad60e1311f"
      },
      "outputs": [
        {
          "name": "stdout",
          "output_type": "stream",
          "text": [
            "68/68 [==============================] - 24s 349ms/step\n"
          ]
        }
      ],
      "source": [
        "pred_Y = mobilenet_GAP_model.predict(X_test, \n",
        "                          batch_size = 32, \n",
        "                          verbose = True)"
      ]
    },
    {
      "cell_type": "code",
      "execution_count": null,
      "metadata": {
        "colab": {
          "base_uri": "https://localhost:8080/"
        },
        "id": "ph4tQulD7W5b",
        "outputId": "af355205-23b2-4406-ec8e-85c247d15c4d"
      },
      "outputs": [
        {
          "data": {
            "text/plain": [
              "array([[0.47720206],\n",
              "       [0.47720206],\n",
              "       [0.47720206],\n",
              "       ...,\n",
              "       [0.47720206],\n",
              "       [0.47720206],\n",
              "       [0.47720206]], dtype=float32)"
            ]
          },
          "execution_count": 19,
          "metadata": {},
          "output_type": "execute_result"
        }
      ],
      "source": [
        "pred_Y"
      ]
    },
    {
      "cell_type": "code",
      "execution_count": null,
      "metadata": {
        "colab": {
          "base_uri": "https://localhost:8080/"
        },
        "id": "mTY_8QOh7W5b",
        "outputId": "1cb478d1-c13c-4a19-de7e-995def0b7709"
      },
      "outputs": [
        {
          "data": {
            "text/plain": [
              "array([0.47720206], dtype=float32)"
            ]
          },
          "execution_count": 20,
          "metadata": {},
          "output_type": "execute_result"
        }
      ],
      "source": [
        "min(pred_Y)"
      ]
    },
    {
      "cell_type": "markdown",
      "metadata": {
        "id": "u-5Dan8i8dRI"
      },
      "source": [
        "# **Accuracy**"
      ]
    },
    {
      "cell_type": "code",
      "execution_count": null,
      "metadata": {
        "colab": {
          "base_uri": "https://localhost:8080/"
        },
        "id": "mwZbTRjL7W5c",
        "outputId": "ee870208-a5d4-47b7-ccd6-7ad5dc665111"
      },
      "outputs": [
        {
          "name": "stdout",
          "output_type": "stream",
          "text": [
            "test accuracy =  0.456197589635849\n"
          ]
        }
      ],
      "source": [
        "print('test accuracy = ',mobilenet_GAP_model.evaluate(X_test,y_test, verbose=0)[1])"
      ]
    },
    {
      "cell_type": "code",
      "execution_count": null,
      "metadata": {
        "colab": {
          "base_uri": "https://localhost:8080/"
        },
        "id": "CU9hJqne7W5c",
        "outputId": "508c866a-66b9-431b-aebf-0b0f778993bf"
      },
      "outputs": [
        {
          "name": "stdout",
          "output_type": "stream",
          "text": [
            "roc score =  0.5\n"
          ]
        }
      ],
      "source": [
        "from sklearn.metrics import roc_auc_score\n",
        "print('roc score = ',roc_auc_score(y_test.astype(int), pred_Y))"
      ]
    },
    {
      "cell_type": "markdown",
      "metadata": {
        "id": "ZKdtx1o88gQu"
      },
      "source": [
        "# **Classification Report**"
      ]
    },
    {
      "cell_type": "code",
      "execution_count": null,
      "metadata": {
        "colab": {
          "base_uri": "https://localhost:8080/",
          "height": 554
        },
        "id": "xtgelsIP7W5c",
        "outputId": "6d913a1d-2372-412b-ad06-d7096792aa71"
      },
      "outputs": [
        {
          "name": "stdout",
          "output_type": "stream",
          "text": [
            "              precision    recall  f1-score   support\n",
            "\n",
            "    Findings       0.00      0.00      0.00       979\n",
            " No Findings       0.54      1.00      0.70      1167\n",
            "\n",
            "    accuracy                           0.54      2146\n",
            "   macro avg       0.27      0.50      0.35      2146\n",
            "weighted avg       0.30      0.54      0.38      2146\n",
            "\n"
          ]
        },
        {
          "name": "stderr",
          "output_type": "stream",
          "text": [
            "/usr/local/lib/python3.7/dist-packages/sklearn/metrics/_classification.py:1308: UndefinedMetricWarning: Precision and F-score are ill-defined and being set to 0.0 in labels with no predicted samples. Use `zero_division` parameter to control this behavior.\n",
            "  _warn_prf(average, modifier, msg_start, len(result))\n",
            "/usr/local/lib/python3.7/dist-packages/sklearn/metrics/_classification.py:1308: UndefinedMetricWarning: Precision and F-score are ill-defined and being set to 0.0 in labels with no predicted samples. Use `zero_division` parameter to control this behavior.\n",
            "  _warn_prf(average, modifier, msg_start, len(result))\n",
            "/usr/local/lib/python3.7/dist-packages/sklearn/metrics/_classification.py:1308: UndefinedMetricWarning: Precision and F-score are ill-defined and being set to 0.0 in labels with no predicted samples. Use `zero_division` parameter to control this behavior.\n",
            "  _warn_prf(average, modifier, msg_start, len(result))\n"
          ]
        },
        {
          "data": {
            "image/png": "[encoded data removed]",
            "text/plain": [
              "<Figure size 288x288 with 1 Axes>"
            ]
          },
          "metadata": {},
          "output_type": "display_data"
        }
      ],
      "source": [
        "from sklearn.metrics import classification_report, confusion_matrix\n",
        "plt.matshow(confusion_matrix(y_test, pred_Y>0.4500000))\n",
        "print(classification_report(y_test, pred_Y>0.45550000, target_names = ['Findings', 'No Findings']))"
      ]
    },
    {
      "cell_type": "markdown",
      "metadata": {
        "id": "yrAXm8hU34_s"
      },
      "source": [
        "## **Atelectasis**"
      ]
    },
    {
      "cell_type": "code",
      "execution_count": null,
      "metadata": {
        "colab": {
          "base_uri": "https://localhost:8080/",
          "height": 266
        },
        "id": "X6HA4a2P35zG",
        "outputId": "9202f192-e743-487a-eb8a-f813fbaf7ea8"
      },
      "outputs": [
        {
          "name": "stdout",
          "output_type": "stream",
          "text": [
            "0    23116\n",
            "1    11559\n",
            "Name: Atelectasis, dtype: int64\n"
          ]
        },
        {
          "data": {
            "text/plain": [
              "<seaborn.axisgrid.PairGrid at 0x7f3b3393ab50>"
            ]
          },
          "execution_count": 36,
          "metadata": {},
          "output_type": "execute_result"
        },
        {
          "data": {
            "image/png": "[encoded data removed]",
            "text/plain": [
              "<Figure size 242.625x180 with 2 Axes>"
            ]
          },
          "metadata": {},
          "output_type": "display_data"
        }
      ],
      "source": [
        "positive_cases = np.sum(all_xray_df['Atelectasis']==True)//2\n",
        "oversample_factor = 4 # maximum number of cases in negative group so it isn't super rare\n",
        "more_balanced_df = all_xray_df.groupby(['Atelectasis']).apply(lambda x: x.sample(min(oversample_factor*positive_cases, x.shape[0]), \n",
        "                                                                                   replace = False)\n",
        "                                                      ).reset_index(drop = True)\n",
        "\n",
        "print(more_balanced_df['Atelectasis'].value_counts())\n",
        "sns.pairplot(more_balanced_df[['Patient Age', 'Atelectasis']], hue='Atelectasis')"
      ]
    },
    {
      "cell_type": "code",
      "execution_count": null,
      "metadata": {
        "colab": {
          "base_uri": "https://localhost:8080/",
          "height": 257
        },
        "id": "V_HgORPp35zH",
        "outputId": "e2ce5a24-f1b6-4366-d946-6561bc2f617d"
      },
      "outputs": [
        {
          "name": "stdout",
          "output_type": "stream",
          "text": [
            "train 24272 validation 6241 test 4162\n",
            "train 0    16181\n",
            "1     8091\n",
            "Name: Atelectasis, dtype: int64\n",
            "test 0    2775\n",
            "1    1387\n",
            "Name: Atelectasis, dtype: int64\n"
          ]
        },
        {
          "data": {
            "text/html": [
              "<div>\n",
              "<style scoped>\n",
              "    .dataframe tbody tr th:only-of-type {\n",
              "        vertical-align: middle;\n",
              "    }\n",
              "\n",
              "    .dataframe tbody tr th {\n",
              "        vertical-align: top;\n",
              "    }\n",
              "\n",
              "    .dataframe thead th {\n",
              "        text-align: right;\n",
              "    }\n",
              "</style>\n",
              "<table border=\"1\" class=\"dataframe\">\n",
              "  <thead>\n",
              "    <tr style=\"text-align: right;\">\n",
              "      <th></th>\n",
              "      <th>Image Index</th>\n",
              "      <th>Finding Labels</th>\n",
              "      <th>Follow-up #</th>\n",
              "      <th>Patient ID</th>\n",
              "      <th>Patient Age</th>\n",
              "      <th>Patient Gender</th>\n",
              "      <th>View Position</th>\n",
              "      <th>OriginalImage[Width</th>\n",
              "      <th>Height]</th>\n",
              "      <th>OriginalImagePixelSpacing[x</th>\n",
              "      <th>y]</th>\n",
              "      <th>path</th>\n",
              "      <th>Pneumonia</th>\n",
              "      <th>Patient Male</th>\n",
              "      <th>Cardiomegaly</th>\n",
              "      <th>Emphysema</th>\n",
              "      <th>Effusion</th>\n",
              "      <th>Hernia</th>\n",
              "      <th>Nodule</th>\n",
              "      <th>Pneumothorax</th>\n",
              "      <th>Atelectasis</th>\n",
              "      <th>Pleural_Thickening</th>\n",
              "      <th>Mass</th>\n",
              "      <th>Edema</th>\n",
              "      <th>Consolidation</th>\n",
              "      <th>Infiltration</th>\n",
              "      <th>Fibrosis</th>\n",
              "      <th>Nothing</th>\n",
              "    </tr>\n",
              "  </thead>\n",
              "  <tbody>\n",
              "    <tr>\n",
              "      <th>10224</th>\n",
              "      <td>00002714_000.png</td>\n",
              "      <td>No Finding</td>\n",
              "      <td>0</td>\n",
              "      <td>2714</td>\n",
              "      <td>66</td>\n",
              "      <td>M</td>\n",
              "      <td>PA</td>\n",
              "      <td>2500</td>\n",
              "      <td>2048</td>\n",
              "      <td>0.171</td>\n",
              "      <td>0.171</td>\n",
              "      <td>/content/drive/MyDrive/Images/image2/00002714_...</td>\n",
              "      <td>False</td>\n",
              "      <td>1.0</td>\n",
              "      <td>0</td>\n",
              "      <td>0</td>\n",
              "      <td>0</td>\n",
              "      <td>0</td>\n",
              "      <td>0</td>\n",
              "      <td>0</td>\n",
              "      <td>0</td>\n",
              "      <td>0</td>\n",
              "      <td>0</td>\n",
              "      <td>0</td>\n",
              "      <td>0</td>\n",
              "      <td>0</td>\n",
              "      <td>0</td>\n",
              "      <td>1</td>\n",
              "    </tr>\n",
              "  </tbody>\n",
              "</table>\n",
              "</div>"
            ],
            "text/plain": [
              "            Image Index Finding Labels  ...  Fibrosis  Nothing\n",
              "10224  00002714_000.png     No Finding  ...         0        1\n",
              "\n",
              "[1 rows x 28 columns]"
            ]
          },
          "execution_count": 37,
          "metadata": {},
          "output_type": "execute_result"
        }
      ],
      "source": [
        "from sklearn.model_selection import train_test_split\n",
        "raw_train_df, test_valid_df = train_test_split(more_balanced_df, \n",
        "                                   test_size = 0.30, \n",
        "                                   random_state = 2018,\n",
        "                                   stratify = more_balanced_df[['Atelectasis']])\n",
        "valid_df, test_df = train_test_split(test_valid_df, \n",
        "                                   test_size = 0.40, \n",
        "                                   random_state = 2018,\n",
        "                                   stratify = test_valid_df[['Atelectasis']])\n",
        "print('train', raw_train_df.shape[0], 'validation', valid_df.shape[0], 'test', test_df.shape[0])\n",
        "print('train', raw_train_df['Atelectasis'].value_counts())\n",
        "print('test', test_df['Atelectasis'].value_counts())\n",
        "raw_train_df.sample(1)"
      ]
    },
    {
      "cell_type": "markdown",
      "metadata": {
        "id": "zKbGBi0d71r6"
      },
      "source": [
        "# *Undersampling*"
      ]
    },
    {
      "cell_type": "code",
      "execution_count": null,
      "metadata": {
        "colab": {
          "base_uri": "https://localhost:8080/"
        },
        "id": "tpoXkPRm35zH",
        "outputId": "a2518014-d30f-41a9-e89a-1d2a620c7318"
      },
      "outputs": [
        {
          "name": "stdout",
          "output_type": "stream",
          "text": [
            "New Data Size: 4000 Old Size: 24272\n"
          ]
        }
      ],
      "source": [
        "train_df = raw_train_df.groupby(['Atelectasis']).apply(lambda x: x.sample(2000, replace = True)\n",
        "                                                      ).reset_index(drop = True)\n",
        "print('New Data Size:', train_df.shape[0], 'Old Size:', raw_train_df.shape[0])"
      ]
    },
    {
      "cell_type": "code",
      "execution_count": null,
      "metadata": {
        "id": "KF_Q1Uih35zI"
      },
      "outputs": [],
      "source": [
        "from keras.preprocessing.image import ImageDataGenerator\n",
        "idg = ImageDataGenerator(zoom_range=0.2,\n",
        "                           fill_mode='nearest',\n",
        "                           rotation_range=25,  \n",
        "                           width_shift_range=0.25,  \n",
        "                           height_shift_range=0.25,  \n",
        "                           vertical_flip=False, \n",
        "                           horizontal_flip=True,\n",
        "                           shear_range = 0.2,\n",
        "                           samplewise_center=False, \n",
        "                           samplewise_std_normalization=False)\n"
      ]
    },
    {
      "cell_type": "code",
      "execution_count": null,
      "metadata": {
        "id": "lAoLmnsT35zI"
      },
      "outputs": [],
      "source": [
        "SEED= 10\n",
        "IMG_SIZE = (128, 128) \n",
        "####\n",
        "def flow_from_dataframe(imgDatGen, df, batch_size, seed, img_size):\n",
        "    #gc.collect()\n",
        "    gen_img = imgDatGen.flow_from_dataframe(dataframe=more_balanced_df,\n",
        "        x_col='path', y_col='Atelectasis',\n",
        "        batch_size=batch_size, seed=seed, shuffle=True, class_mode='other',\n",
        "        target_size=img_size, color_mode='grayscale',\n",
        "        drop_duplicates=False)\n",
        "\n",
        "    \n",
        "        \n",
        "    while True:\n",
        "        X1i = gen_img.next()\n",
        "        #X2i = gen_img.next()\n",
        "        #gc.collect()\n",
        "        yield [X1i[0], X1i[1]]"
      ]
    },
    {
      "cell_type": "code",
      "execution_count": null,
      "metadata": {
        "id": "Lq1XmTux35zJ"
      },
      "outputs": [],
      "source": [
        "flow = flow_from_dataframe(idg, more_balanced_df, 7151, SEED, IMG_SIZE)"
      ]
    },
    {
      "cell_type": "code",
      "execution_count": null,
      "metadata": {
        "colab": {
          "base_uri": "https://localhost:8080/"
        },
        "id": "efTyLftP35zJ",
        "outputId": "79ee5b75-7893-42ea-b56d-48787f61d8c9"
      },
      "outputs": [
        {
          "name": "stderr",
          "output_type": "stream",
          "text": [
            "--- Logging error ---\n",
            "Traceback (most recent call last):\n",
            "  File \"/usr/lib/python3.7/logging/__init__.py\", line 1025, in emit\n",
            "    msg = self.format(record)\n",
            "  File \"/usr/lib/python3.7/logging/__init__.py\", line 869, in format\n",
            "    return fmt.format(record)\n",
            "  File \"/usr/lib/python3.7/logging/__init__.py\", line 608, in format\n",
            "    record.message = record.getMessage()\n",
            "  File \"/usr/lib/python3.7/logging/__init__.py\", line 369, in getMessage\n",
            "    msg = msg % self.args\n",
            "TypeError: not all arguments converted during string formatting\n",
            "Call stack:\n",
            "  File \"/usr/lib/python3.7/runpy.py\", line 193, in _run_module_as_main\n",
            "    \"__main__\", mod_spec)\n",
            "  File \"/usr/lib/python3.7/runpy.py\", line 85, in _run_code\n",
            "    exec(code, run_globals)\n",
            "  File \"/usr/local/lib/python3.7/dist-packages/ipykernel_launcher.py\", line 16, in <module>\n",
            "    app.launch_new_instance()\n",
            "  File \"/usr/local/lib/python3.7/dist-packages/traitlets/config/application.py\", line 846, in launch_instance\n",
            "    app.start()\n",
            "  File \"/usr/local/lib/python3.7/dist-packages/ipykernel/kernelapp.py\", line 499, in start\n",
            "    self.io_loop.start()\n",
            "  File \"/usr/local/lib/python3.7/dist-packages/tornado/platform/asyncio.py\", line 132, in start\n",
            "    self.asyncio_loop.run_forever()\n",
            "  File \"/usr/lib/python3.7/asyncio/base_events.py\", line 541, in run_forever\n",
            "    self._run_once()\n",
            "  File \"/usr/lib/python3.7/asyncio/base_events.py\", line 1786, in _run_once\n",
            "    handle._run()\n",
            "  File \"/usr/lib/python3.7/asyncio/events.py\", line 88, in _run\n",
            "    self._context.run(self._callback, *self._args)\n",
            "  File \"/usr/local/lib/python3.7/dist-packages/tornado/platform/asyncio.py\", line 122, in _handle_events\n",
            "    handler_func(fileobj, events)\n",
            "  File \"/usr/local/lib/python3.7/dist-packages/tornado/stack_context.py\", line 300, in null_wrapper\n",
            "    return fn(*args, **kwargs)\n",
            "  File \"/usr/local/lib/python3.7/dist-packages/zmq/eventloop/zmqstream.py\", line 452, in _handle_events\n",
            "    self._handle_recv()\n",
            "  File \"/usr/local/lib/python3.7/dist-packages/zmq/eventloop/zmqstream.py\", line 481, in _handle_recv\n",
            "    self._run_callback(callback, msg)\n",
            "  File \"/usr/local/lib/python3.7/dist-packages/zmq/eventloop/zmqstream.py\", line 431, in _run_callback\n",
            "    callback(*args, **kwargs)\n",
            "  File \"/usr/local/lib/python3.7/dist-packages/tornado/stack_context.py\", line 300, in null_wrapper\n",
            "    return fn(*args, **kwargs)\n",
            "  File \"/usr/local/lib/python3.7/dist-packages/ipykernel/kernelbase.py\", line 283, in dispatcher\n",
            "    return self.dispatch_shell(stream, msg)\n",
            "  File \"/usr/local/lib/python3.7/dist-packages/ipykernel/kernelbase.py\", line 233, in dispatch_shell\n",
            "    handler(stream, idents, msg)\n",
            "  File \"/usr/local/lib/python3.7/dist-packages/ipykernel/kernelbase.py\", line 399, in execute_request\n",
            "    user_expressions, allow_stdin)\n",
            "  File \"/usr/local/lib/python3.7/dist-packages/ipykernel/ipkernel.py\", line 208, in do_execute\n",
            "    res = shell.run_cell(code, store_history=store_history, silent=silent)\n",
            "  File \"/usr/local/lib/python3.7/dist-packages/ipykernel/zmqshell.py\", line 537, in run_cell\n",
            "    return super(ZMQInteractiveShell, self).run_cell(*args, **kwargs)\n",
            "  File \"/usr/local/lib/python3.7/dist-packages/IPython/core/interactiveshell.py\", line 2718, in run_cell\n",
            "    interactivity=interactivity, compiler=compiler, result=result)\n",
            "  File \"/usr/local/lib/python3.7/dist-packages/IPython/core/interactiveshell.py\", line 2822, in run_ast_nodes\n",
            "    if self.run_code(code, result):\n",
            "  File \"/usr/local/lib/python3.7/dist-packages/IPython/core/interactiveshell.py\", line 2882, in run_code\n",
            "    exec(code_obj, self.user_global_ns, self.user_ns)\n",
            "  File \"<ipython-input-42-710bbcbe35c6>\", line 1, in <module>\n",
            "    t,y= next(flow)\n",
            "  File \"<ipython-input-40-4981844833de>\", line 10, in flow_from_dataframe\n",
            "    drop_duplicates=False)\n",
            "  File \"/usr/local/lib/python3.7/dist-packages/keras/preprocessing/image.py\", line 1109, in flow_from_dataframe\n",
            "    '`class_mode` \"raw\".', DeprecationWarning)\n",
            "  File \"/usr/local/lib/python3.7/dist-packages/tensorflow/python/platform/tf_logging.py\", line 178, in warning\n",
            "    get_logger().warning(msg, *args, **kwargs)\n",
            "Message: '`class_mode` \"other\" is deprecated, please use `class_mode` \"raw\".'\n",
            "Arguments: (<class 'DeprecationWarning'>,)\n",
            "--- Logging error ---\n",
            "Traceback (most recent call last):\n",
            "  File \"/usr/lib/python3.7/logging/__init__.py\", line 1025, in emit\n",
            "    msg = self.format(record)\n",
            "  File \"/usr/lib/python3.7/logging/__init__.py\", line 869, in format\n",
            "    return fmt.format(record)\n",
            "  File \"/usr/lib/python3.7/logging/__init__.py\", line 608, in format\n",
            "    record.message = record.getMessage()\n",
            "  File \"/usr/lib/python3.7/logging/__init__.py\", line 369, in getMessage\n",
            "    msg = msg % self.args\n",
            "TypeError: not all arguments converted during string formatting\n",
            "Call stack:\n",
            "  File \"/usr/lib/python3.7/runpy.py\", line 193, in _run_module_as_main\n",
            "    \"__main__\", mod_spec)\n",
            "  File \"/usr/lib/python3.7/runpy.py\", line 85, in _run_code\n",
            "    exec(code, run_globals)\n",
            "  File \"/usr/local/lib/python3.7/dist-packages/ipykernel_launcher.py\", line 16, in <module>\n",
            "    app.launch_new_instance()\n",
            "  File \"/usr/local/lib/python3.7/dist-packages/traitlets/config/application.py\", line 846, in launch_instance\n",
            "    app.start()\n",
            "  File \"/usr/local/lib/python3.7/dist-packages/ipykernel/kernelapp.py\", line 499, in start\n",
            "    self.io_loop.start()\n",
            "  File \"/usr/local/lib/python3.7/dist-packages/tornado/platform/asyncio.py\", line 132, in start\n",
            "    self.asyncio_loop.run_forever()\n",
            "  File \"/usr/lib/python3.7/asyncio/base_events.py\", line 541, in run_forever\n",
            "    self._run_once()\n",
            "  File \"/usr/lib/python3.7/asyncio/base_events.py\", line 1786, in _run_once\n",
            "    handle._run()\n",
            "  File \"/usr/lib/python3.7/asyncio/events.py\", line 88, in _run\n",
            "    self._context.run(self._callback, *self._args)\n",
            "  File \"/usr/local/lib/python3.7/dist-packages/tornado/platform/asyncio.py\", line 122, in _handle_events\n",
            "    handler_func(fileobj, events)\n",
            "  File \"/usr/local/lib/python3.7/dist-packages/tornado/stack_context.py\", line 300, in null_wrapper\n",
            "    return fn(*args, **kwargs)\n",
            "  File \"/usr/local/lib/python3.7/dist-packages/zmq/eventloop/zmqstream.py\", line 452, in _handle_events\n",
            "    self._handle_recv()\n",
            "  File \"/usr/local/lib/python3.7/dist-packages/zmq/eventloop/zmqstream.py\", line 481, in _handle_recv\n",
            "    self._run_callback(callback, msg)\n",
            "  File \"/usr/local/lib/python3.7/dist-packages/zmq/eventloop/zmqstream.py\", line 431, in _run_callback\n",
            "    callback(*args, **kwargs)\n",
            "  File \"/usr/local/lib/python3.7/dist-packages/tornado/stack_context.py\", line 300, in null_wrapper\n",
            "    return fn(*args, **kwargs)\n",
            "  File \"/usr/local/lib/python3.7/dist-packages/ipykernel/kernelbase.py\", line 283, in dispatcher\n",
            "    return self.dispatch_shell(stream, msg)\n",
            "  File \"/usr/local/lib/python3.7/dist-packages/ipykernel/kernelbase.py\", line 233, in dispatch_shell\n",
            "    handler(stream, idents, msg)\n",
            "  File \"/usr/local/lib/python3.7/dist-packages/ipykernel/kernelbase.py\", line 399, in execute_request\n",
            "    user_expressions, allow_stdin)\n",
            "  File \"/usr/local/lib/python3.7/dist-packages/ipykernel/ipkernel.py\", line 208, in do_execute\n",
            "    res = shell.run_cell(code, store_history=store_history, silent=silent)\n",
            "  File \"/usr/local/lib/python3.7/dist-packages/ipykernel/zmqshell.py\", line 537, in run_cell\n",
            "    return super(ZMQInteractiveShell, self).run_cell(*args, **kwargs)\n",
            "  File \"/usr/local/lib/python3.7/dist-packages/IPython/core/interactiveshell.py\", line 2718, in run_cell\n",
            "    interactivity=interactivity, compiler=compiler, result=result)\n",
            "  File \"/usr/local/lib/python3.7/dist-packages/IPython/core/interactiveshell.py\", line 2822, in run_ast_nodes\n",
            "    if self.run_code(code, result):\n",
            "  File \"/usr/local/lib/python3.7/dist-packages/IPython/core/interactiveshell.py\", line 2882, in run_code\n",
            "    exec(code_obj, self.user_global_ns, self.user_ns)\n",
            "  File \"<ipython-input-42-710bbcbe35c6>\", line 1, in <module>\n",
            "    t,y= next(flow)\n",
            "  File \"<ipython-input-40-4981844833de>\", line 10, in flow_from_dataframe\n",
            "    drop_duplicates=False)\n",
            "  File \"/usr/local/lib/python3.7/dist-packages/keras/preprocessing/image.py\", line 1115, in flow_from_dataframe\n",
            "    DeprecationWarning)\n",
            "  File \"/usr/local/lib/python3.7/dist-packages/tensorflow/python/platform/tf_logging.py\", line 178, in warning\n",
            "    get_logger().warning(msg, *args, **kwargs)\n",
            "Message: 'drop_duplicates is deprecated, you can drop duplicates by using the pandas.DataFrame.drop_duplicates method.'\n",
            "Arguments: (<class 'DeprecationWarning'>,)\n"
          ]
        },
        {
          "name": "stdout",
          "output_type": "stream",
          "text": [
            "Found 34675 validated image filenames.\n"
          ]
        }
      ],
      "source": [
        "t,y= next(flow)"
      ]
    },
    {
      "cell_type": "code",
      "execution_count": null,
      "metadata": {
        "id": "XK4oiVKl35zK"
      },
      "outputs": [],
      "source": [
        "from sklearn.model_selection import train_test_split\n",
        "X_train, X_test, y_train, y_test = train_test_split(t,y, \n",
        "                                   test_size = 0.30, \n",
        "                                   random_state = 2018)\n"
      ]
    },
    {
      "cell_type": "code",
      "execution_count": null,
      "metadata": {
        "colab": {
          "base_uri": "https://localhost:8080/"
        },
        "id": "_PEF47Rr35zL",
        "outputId": "e81b6e88-8e62-4ea0-86dc-58b605ddc95e"
      },
      "outputs": [
        {
          "name": "stdout",
          "output_type": "stream",
          "text": [
            "Model: \"sequential_1\"\n",
            "_________________________________________________________________\n",
            " Layer (type)                Output Shape              Param #   \n",
            "=================================================================\n",
            " mobilenet_1.00_128 (Functio  (None, 4, 4, 1024)       3228288   \n",
            " nal)                                                            \n",
            "                                                                 \n",
            " global_average_pooling2d_1   (None, 1024)             0         \n",
            " (GlobalAveragePooling2D)                                        \n",
            "                                                                 \n",
            " dropout_2 (Dropout)         (None, 1024)              0         \n",
            "                                                                 \n",
            " dense_2 (Dense)             (None, 512)               524800    \n",
            "                                                                 \n",
            " dropout_3 (Dropout)         (None, 512)               0         \n",
            "                                                                 \n",
            " dense_3 (Dense)             (None, 1)                 513       \n",
            "                                                                 \n",
            "=================================================================\n",
            "Total params: 3,753,601\n",
            "Trainable params: 3,731,713\n",
            "Non-trainable params: 21,888\n",
            "_________________________________________________________________\n"
          ]
        }
      ],
      "source": [
        "from keras.applications.mobilenet import MobileNet\n",
        "from keras.layers import GlobalAveragePooling2D, Dense, Dropout, Flatten\n",
        "from keras.models import Sequential\n",
        "mobilenet_model = MobileNet(input_shape =  X_train.shape[1:], \n",
        "                                 include_top = False, weights = None)\n",
        "mobilenet_GAP_model = Sequential()\n",
        "mobilenet_GAP_model.add(mobilenet_model)\n",
        "mobilenet_GAP_model.add(GlobalAveragePooling2D())\n",
        "mobilenet_GAP_model.add(Dropout(0.5))\n",
        "mobilenet_GAP_model.add(Dense(512))\n",
        "mobilenet_GAP_model.add(Dropout(0.5))\n",
        "mobilenet_GAP_model.add(Dense(1, activation = 'sigmoid'))\n",
        "mobilenet_GAP_model.compile(optimizer = 'adam', loss = 'binary_crossentropy',\n",
        "                           metrics = ['binary_accuracy', 'mae'])\n",
        "mobilenet_GAP_model.summary()"
      ]
    },
    {
      "cell_type": "code",
      "execution_count": null,
      "metadata": {
        "id": "XUfJnLlg35zL"
      },
      "outputs": [],
      "source": [
        "from keras.callbacks import ModelCheckpoint, LearningRateScheduler, EarlyStopping, ReduceLROnPlateau\n",
        "weight_path=\"{}_weights.best.hdf5\".format('xray_class')\n",
        "\n",
        "checkpoint = ModelCheckpoint(weight_path, monitor='val_loss', verbose=1, \n",
        "                             save_best_only=True, mode='min', save_weights_only = True)\n",
        "\n",
        "early = EarlyStopping(monitor=\"val_loss\", \n",
        "                      mode=\"min\", \n",
        "                      patience=3)\n",
        "callbacks_list = [checkpoint, early]"
      ]
    },
    {
      "cell_type": "code",
      "execution_count": null,
      "metadata": {
        "colab": {
          "base_uri": "https://localhost:8080/"
        },
        "id": "7klJfZJa35zL",
        "outputId": "04df796c-12d1-4282-df2a-0a9f5c3cc342"
      },
      "outputs": [
        {
          "name": "stdout",
          "output_type": "stream",
          "text": [
            "Epoch 1/10\n",
            "10/10 [==============================] - ETA: 0s - loss: 1.6456 - binary_accuracy: 0.5762 - mae: 0.4301 \n",
            "Epoch 00001: val_loss improved from inf to 0.68225, saving model to xray_class_weights.best.hdf5\n",
            "10/10 [==============================] - 354s 35s/step - loss: 1.6456 - binary_accuracy: 0.5762 - mae: 0.4301 - val_loss: 0.6822 - val_binary_accuracy: 0.6794 - val_mae: 0.4943\n",
            "Epoch 2/10\n",
            "10/10 [==============================] - ETA: 0s - loss: 0.9149 - binary_accuracy: 0.5900 - mae: 0.4427 \n",
            "Epoch 00002: val_loss improved from 0.68225 to 0.67904, saving model to xray_class_weights.best.hdf5\n",
            "10/10 [==============================] - 348s 35s/step - loss: 0.9149 - binary_accuracy: 0.5900 - mae: 0.4427 - val_loss: 0.6790 - val_binary_accuracy: 0.6794 - val_mae: 0.4925\n",
            "Epoch 3/10\n",
            "10/10 [==============================] - ETA: 0s - loss: 0.7614 - binary_accuracy: 0.6180 - mae: 0.4435 \n",
            "Epoch 00003: val_loss improved from 0.67904 to 0.66613, saving model to xray_class_weights.best.hdf5\n",
            "10/10 [==============================] - 353s 35s/step - loss: 0.7614 - binary_accuracy: 0.6180 - mae: 0.4435 - val_loss: 0.6661 - val_binary_accuracy: 0.6794 - val_mae: 0.4847\n",
            "Epoch 4/10\n",
            "10/10 [==============================] - ETA: 0s - loss: 0.7230 - binary_accuracy: 0.6222 - mae: 0.4436 \n",
            "Epoch 00004: val_loss improved from 0.66613 to 0.64977, saving model to xray_class_weights.best.hdf5\n",
            "10/10 [==============================] - 349s 35s/step - loss: 0.7230 - binary_accuracy: 0.6222 - mae: 0.4436 - val_loss: 0.6498 - val_binary_accuracy: 0.6794 - val_mae: 0.4726\n",
            "Epoch 5/10\n",
            "10/10 [==============================] - ETA: 0s - loss: 0.6993 - binary_accuracy: 0.6466 - mae: 0.4329 \n",
            "Epoch 00005: val_loss did not improve from 0.64977\n",
            "10/10 [==============================] - 355s 36s/step - loss: 0.6993 - binary_accuracy: 0.6466 - mae: 0.4329 - val_loss: 0.6517 - val_binary_accuracy: 0.6794 - val_mae: 0.4742\n",
            "Epoch 6/10\n",
            "10/10 [==============================] - ETA: 0s - loss: 0.6446 - binary_accuracy: 0.6749 - mae: 0.4060 \n",
            "Epoch 00006: val_loss improved from 0.64977 to 0.64243, saving model to xray_class_weights.best.hdf5\n",
            "10/10 [==============================] - 351s 35s/step - loss: 0.6446 - binary_accuracy: 0.6749 - mae: 0.4060 - val_loss: 0.6424 - val_binary_accuracy: 0.6794 - val_mae: 0.4658\n",
            "Epoch 7/10\n",
            "10/10 [==============================] - ETA: 0s - loss: 0.5228 - binary_accuracy: 0.7455 - mae: 0.3278 \n",
            "Epoch 00007: val_loss improved from 0.64243 to 0.63233, saving model to xray_class_weights.best.hdf5\n",
            "10/10 [==============================] - 345s 35s/step - loss: 0.5228 - binary_accuracy: 0.7455 - mae: 0.3278 - val_loss: 0.6323 - val_binary_accuracy: 0.6794 - val_mae: 0.4528\n",
            "Epoch 8/10\n",
            "10/10 [==============================] - ETA: 0s - loss: 0.5842 - binary_accuracy: 0.7155 - mae: 0.3455 \n",
            "Epoch 00008: val_loss did not improve from 0.63233\n",
            "10/10 [==============================] - 345s 35s/step - loss: 0.5842 - binary_accuracy: 0.7155 - mae: 0.3455 - val_loss: 0.6335 - val_binary_accuracy: 0.6794 - val_mae: 0.4547\n",
            "Epoch 9/10\n",
            "10/10 [==============================] - ETA: 0s - loss: 0.5983 - binary_accuracy: 0.7039 - mae: 0.3743 \n",
            "Epoch 00009: val_loss improved from 0.63233 to 0.62803, saving model to xray_class_weights.best.hdf5\n",
            "10/10 [==============================] - 346s 35s/step - loss: 0.5983 - binary_accuracy: 0.7039 - mae: 0.3743 - val_loss: 0.6280 - val_binary_accuracy: 0.6794 - val_mae: 0.4420\n",
            "Epoch 10/10\n",
            "10/10 [==============================] - ETA: 0s - loss: 0.4687 - binary_accuracy: 0.7768 - mae: 0.3027 \n",
            "Epoch 00010: val_loss did not improve from 0.62803\n",
            "10/10 [==============================] - 346s 35s/step - loss: 0.4687 - binary_accuracy: 0.7768 - mae: 0.3027 - val_loss: 0.6399 - val_binary_accuracy: 0.6794 - val_mae: 0.4103\n"
          ]
        }
      ],
      "source": [
        "history_mobilenet_GAP = mobilenet_GAP_model.fit(X_train,y_train,\n",
        "                                  steps_per_epoch=10,\n",
        "                                  validation_data = (X_test, y_test), \n",
        "                                  epochs = 10, \n",
        "                                  callbacks = callbacks_list)"
      ]
    },
    {
      "cell_type": "code",
      "execution_count": null,
      "metadata": {
        "colab": {
          "base_uri": "https://localhost:8080/"
        },
        "id": "RtV4zkGJ35zM",
        "outputId": "e3b22170-3a29-4417-e1e9-c9d54fb0c330"
      },
      "outputs": [
        {
          "name": "stdout",
          "output_type": "stream",
          "text": [
            "68/68 [==============================] - 25s 359ms/step\n"
          ]
        }
      ],
      "source": [
        "pred_Y = mobilenet_GAP_model.predict(X_test, \n",
        "                          batch_size = 32, \n",
        "                          verbose = True)"
      ]
    },
    {
      "cell_type": "code",
      "execution_count": null,
      "metadata": {
        "colab": {
          "base_uri": "https://localhost:8080/"
        },
        "id": "1YMVw-5035zM",
        "outputId": "95402392-7a50-4061-e1db-c5d46d56bf5d"
      },
      "outputs": [
        {
          "data": {
            "text/plain": [
              "array([[0.24988809],\n",
              "       [0.24988806],\n",
              "       [0.24988809],\n",
              "       ...,\n",
              "       [0.24988812],\n",
              "       [0.24988812],\n",
              "       [0.24988812]], dtype=float32)"
            ]
          },
          "execution_count": 48,
          "metadata": {},
          "output_type": "execute_result"
        }
      ],
      "source": [
        "pred_Y"
      ]
    },
    {
      "cell_type": "code",
      "execution_count": null,
      "metadata": {
        "colab": {
          "base_uri": "https://localhost:8080/"
        },
        "id": "PjTVlzh835zM",
        "outputId": "3db76089-15f3-41ed-f2e6-a133ed2946c3"
      },
      "outputs": [
        {
          "data": {
            "text/plain": [
              "array([0.24988806], dtype=float32)"
            ]
          },
          "execution_count": 49,
          "metadata": {},
          "output_type": "execute_result"
        }
      ],
      "source": [
        "min(pred_Y)"
      ]
    },
    {
      "cell_type": "code",
      "execution_count": null,
      "metadata": {
        "colab": {
          "base_uri": "https://localhost:8080/"
        },
        "id": "l2JE1VRE35zN",
        "outputId": "77e85c16-64ce-42c0-8243-215847b3048f"
      },
      "outputs": [
        {
          "name": "stdout",
          "output_type": "stream",
          "text": [
            "test accuracy =  0.67940354347229\n"
          ]
        }
      ],
      "source": [
        "print('test accuracy = ',mobilenet_GAP_model.evaluate(X_test,y_test, verbose=0)[1])"
      ]
    },
    {
      "cell_type": "code",
      "execution_count": null,
      "metadata": {
        "colab": {
          "base_uri": "https://localhost:8080/"
        },
        "id": "q5_mo1xk35zN",
        "outputId": "4177994c-36c5-4b2b-9cf5-42ae27b32ba1"
      },
      "outputs": [
        {
          "name": "stdout",
          "output_type": "stream",
          "text": [
            "roc score =  0.4929768000127604\n"
          ]
        }
      ],
      "source": [
        "from sklearn.metrics import roc_auc_score\n",
        "print('roc score = ',roc_auc_score(y_test.astype(int), pred_Y))"
      ]
    },
    {
      "cell_type": "code",
      "execution_count": null,
      "metadata": {
        "colab": {
          "base_uri": "https://localhost:8080/",
          "height": 430
        },
        "id": "lPw1wHo635zO",
        "outputId": "61156187-51ac-4e49-af2a-10f0ab77f8d6"
      },
      "outputs": [
        {
          "name": "stdout",
          "output_type": "stream",
          "text": [
            "                precision    recall  f1-score   support\n",
            "\n",
            "No Atelectasis       0.68      0.10      0.17      1458\n",
            "   Atelectasis       0.32      0.90      0.47       688\n",
            "\n",
            "      accuracy                           0.36      2146\n",
            "     macro avg       0.50      0.50      0.32      2146\n",
            "  weighted avg       0.57      0.36      0.27      2146\n",
            "\n"
          ]
        },
        {
          "data": {
            "image/png": "[encoded data removed]",
            "text/plain": [
              "<Figure size 288x288 with 1 Axes>"
            ]
          },
          "metadata": {},
          "output_type": "display_data"
        }
      ],
      "source": [
        "from sklearn.metrics import classification_report, confusion_matrix\n",
        "plt.matshow(confusion_matrix(y_test, pred_Y>0.24988806))\n",
        "print(classification_report(y_test, pred_Y>0.24988806, target_names = ['No Atelectasis', 'Atelectasis']))"
      ]
    },
    {
      "cell_type": "markdown",
      "metadata": {
        "id": "H_dk4ZMs1l6R"
      },
      "source": [
        "## **Cardiomegaly**"
      ]
    },
    {
      "cell_type": "code",
      "execution_count": null,
      "metadata": {
        "colab": {
          "base_uri": "https://localhost:8080/",
          "height": 266
        },
        "id": "RyTZKWai1nUd",
        "outputId": "acf4af1d-0f85-4768-a9cd-3bd34d6b8cc6"
      },
      "outputs": [
        {
          "name": "stdout",
          "output_type": "stream",
          "text": [
            "0    5552\n",
            "1    2776\n",
            "Name: Cardiomegaly, dtype: int64\n"
          ]
        },
        {
          "data": {
            "text/plain": [
              "<seaborn.axisgrid.PairGrid at 0x7f3b355a8090>"
            ]
          },
          "execution_count": 53,
          "metadata": {},
          "output_type": "execute_result"
        },
        {
          "data": {
            "image/png": "[encoded data removed]",
            "text/plain": [
              "<Figure size 257.25x180 with 2 Axes>"
            ]
          },
          "metadata": {},
          "output_type": "display_data"
        }
      ],
      "source": [
        "positive_cases = np.sum(all_xray_df['Cardiomegaly']==True)//2\n",
        "oversample_factor = 4 # maximum number of cases in negative group so it isn't super rare\n",
        "more_balanced_df = all_xray_df.groupby(['Cardiomegaly']).apply(lambda x: x.sample(min(oversample_factor*positive_cases, x.shape[0]), \n",
        "                                                                                   replace = False)\n",
        "                                                      ).reset_index(drop = True)\n",
        "\n",
        "print(more_balanced_df['Cardiomegaly'].value_counts())\n",
        "sns.pairplot(more_balanced_df[['Patient Age', 'Cardiomegaly']], hue='Cardiomegaly')"
      ]
    },
    {
      "cell_type": "code",
      "execution_count": null,
      "metadata": {
        "colab": {
          "base_uri": "https://localhost:8080/",
          "height": 240
        },
        "id": "W6un8lHO1nUe",
        "outputId": "451bce9f-13aa-4b55-a900-c8d18423ce20"
      },
      "outputs": [
        {
          "name": "stdout",
          "output_type": "stream",
          "text": [
            "train 5829 validation 1499 test 1000\n",
            "train 0    3886\n",
            "1    1943\n",
            "Name: Cardiomegaly, dtype: int64\n",
            "test 0    667\n",
            "1    333\n",
            "Name: Cardiomegaly, dtype: int64\n"
          ]
        },
        {
          "data": {
            "text/html": [
              "<div>\n",
              "<style scoped>\n",
              "    .dataframe tbody tr th:only-of-type {\n",
              "        vertical-align: middle;\n",
              "    }\n",
              "\n",
              "    .dataframe tbody tr th {\n",
              "        vertical-align: top;\n",
              "    }\n",
              "\n",
              "    .dataframe thead th {\n",
              "        text-align: right;\n",
              "    }\n",
              "</style>\n",
              "<table border=\"1\" class=\"dataframe\">\n",
              "  <thead>\n",
              "    <tr style=\"text-align: right;\">\n",
              "      <th></th>\n",
              "      <th>Image Index</th>\n",
              "      <th>Finding Labels</th>\n",
              "      <th>Follow-up #</th>\n",
              "      <th>Patient ID</th>\n",
              "      <th>Patient Age</th>\n",
              "      <th>Patient Gender</th>\n",
              "      <th>View Position</th>\n",
              "      <th>OriginalImage[Width</th>\n",
              "      <th>Height]</th>\n",
              "      <th>OriginalImagePixelSpacing[x</th>\n",
              "      <th>y]</th>\n",
              "      <th>path</th>\n",
              "      <th>Pneumonia</th>\n",
              "      <th>Patient Male</th>\n",
              "      <th>Cardiomegaly</th>\n",
              "      <th>Emphysema</th>\n",
              "      <th>Effusion</th>\n",
              "      <th>Hernia</th>\n",
              "      <th>Nodule</th>\n",
              "      <th>Pneumothorax</th>\n",
              "      <th>Atelectasis</th>\n",
              "      <th>Pleural_Thickening</th>\n",
              "      <th>Mass</th>\n",
              "      <th>Edema</th>\n",
              "      <th>Consolidation</th>\n",
              "      <th>Infiltration</th>\n",
              "      <th>Fibrosis</th>\n",
              "      <th>Nothing</th>\n",
              "    </tr>\n",
              "  </thead>\n",
              "  <tbody>\n",
              "    <tr>\n",
              "      <th>6680</th>\n",
              "      <td>00009717_002.png</td>\n",
              "      <td>Cardiomegaly</td>\n",
              "      <td>2</td>\n",
              "      <td>9717</td>\n",
              "      <td>48</td>\n",
              "      <td>M</td>\n",
              "      <td>PA</td>\n",
              "      <td>2992</td>\n",
              "      <td>2991</td>\n",
              "      <td>0.143</td>\n",
              "      <td>0.143</td>\n",
              "      <td>/content/drive/MyDrive/Images/image5/00009717_...</td>\n",
              "      <td>False</td>\n",
              "      <td>1.0</td>\n",
              "      <td>1</td>\n",
              "      <td>0</td>\n",
              "      <td>0</td>\n",
              "      <td>0</td>\n",
              "      <td>0</td>\n",
              "      <td>0</td>\n",
              "      <td>0</td>\n",
              "      <td>0</td>\n",
              "      <td>0</td>\n",
              "      <td>0</td>\n",
              "      <td>0</td>\n",
              "      <td>0</td>\n",
              "      <td>0</td>\n",
              "      <td>0</td>\n",
              "    </tr>\n",
              "  </tbody>\n",
              "</table>\n",
              "</div>"
            ],
            "text/plain": [
              "           Image Index Finding Labels  ...  Fibrosis  Nothing\n",
              "6680  00009717_002.png   Cardiomegaly  ...         0        0\n",
              "\n",
              "[1 rows x 28 columns]"
            ]
          },
          "execution_count": 54,
          "metadata": {},
          "output_type": "execute_result"
        }
      ],
      "source": [
        "from sklearn.model_selection import train_test_split\n",
        "raw_train_df, test_valid_df = train_test_split(more_balanced_df, \n",
        "                                   test_size = 0.30, \n",
        "                                   random_state = 2018,\n",
        "                                   stratify = more_balanced_df[['Cardiomegaly']])\n",
        "valid_df, test_df = train_test_split(test_valid_df, \n",
        "                                   test_size = 0.40, \n",
        "                                   random_state = 2018,\n",
        "                                   stratify = test_valid_df[['Cardiomegaly']])\n",
        "print('train', raw_train_df.shape[0], 'validation', valid_df.shape[0], 'test', test_df.shape[0])\n",
        "print('train', raw_train_df['Cardiomegaly'].value_counts())\n",
        "print('test', test_df['Cardiomegaly'].value_counts())\n",
        "raw_train_df.sample(1)"
      ]
    },
    {
      "cell_type": "markdown",
      "metadata": {
        "id": "L-UuXC6D7zVQ"
      },
      "source": [
        "# *Undersampling*"
      ]
    },
    {
      "cell_type": "code",
      "execution_count": null,
      "metadata": {
        "colab": {
          "base_uri": "https://localhost:8080/"
        },
        "id": "Bv1HUAd71nUf",
        "outputId": "7e309a47-c199-495b-a83d-86e074b781aa"
      },
      "outputs": [
        {
          "name": "stdout",
          "output_type": "stream",
          "text": [
            "New Data Size: 4000 Old Size: 5829\n"
          ]
        }
      ],
      "source": [
        "train_df = raw_train_df.groupby(['Cardiomegaly']).apply(lambda x: x.sample(2000, replace = True)\n",
        "                                                      ).reset_index(drop = True)\n",
        "print('New Data Size:', train_df.shape[0], 'Old Size:', raw_train_df.shape[0])"
      ]
    },
    {
      "cell_type": "code",
      "execution_count": null,
      "metadata": {
        "id": "S6LL5cBZ1nUf"
      },
      "outputs": [],
      "source": [
        "from keras.preprocessing.image import ImageDataGenerator\n",
        "idg = ImageDataGenerator(zoom_range=0.2,\n",
        "                           fill_mode='nearest',\n",
        "                           rotation_range=25,  \n",
        "                           width_shift_range=0.25,  \n",
        "                           height_shift_range=0.25,  \n",
        "                           vertical_flip=False, \n",
        "                           horizontal_flip=True,\n",
        "                           shear_range = 0.2,\n",
        "                           samplewise_center=False, \n",
        "                           samplewise_std_normalization=False)\n"
      ]
    },
    {
      "cell_type": "code",
      "execution_count": null,
      "metadata": {
        "id": "VkQWApdx1nUg"
      },
      "outputs": [],
      "source": [
        "SEED= 10\n",
        "IMG_SIZE = (128, 128) \n",
        "####\n",
        "def flow_from_dataframe(imgDatGen, df, batch_size, seed, img_size):\n",
        "    #gc.collect()\n",
        "    gen_img = imgDatGen.flow_from_dataframe(dataframe=more_balanced_df,\n",
        "        x_col='path', y_col='Cardiomegaly',\n",
        "        batch_size=batch_size, seed=seed, shuffle=True, class_mode='other',\n",
        "        target_size=img_size, color_mode='grayscale',\n",
        "        drop_duplicates=False)\n",
        "\n",
        "    \n",
        "        \n",
        "    while True:\n",
        "        X1i = gen_img.next()\n",
        "        #X2i = gen_img.next()\n",
        "        #gc.collect()\n",
        "        yield [X1i[0], X1i[1]]"
      ]
    },
    {
      "cell_type": "code",
      "execution_count": null,
      "metadata": {
        "id": "Ry1tUdn91nUi"
      },
      "outputs": [],
      "source": [
        "flow = flow_from_dataframe(idg, more_balanced_df, 7151, SEED, IMG_SIZE)"
      ]
    },
    {
      "cell_type": "code",
      "execution_count": null,
      "metadata": {
        "colab": {
          "base_uri": "https://localhost:8080/"
        },
        "id": "YcUVS4MX1nUj",
        "outputId": "3810cce4-3d53-40fb-aed0-b8ae0d02cee5"
      },
      "outputs": [
        {
          "name": "stderr",
          "output_type": "stream",
          "text": [
            "--- Logging error ---\n",
            "Traceback (most recent call last):\n",
            "  File \"/usr/lib/python3.7/logging/__init__.py\", line 1025, in emit\n",
            "    msg = self.format(record)\n",
            "  File \"/usr/lib/python3.7/logging/__init__.py\", line 869, in format\n",
            "    return fmt.format(record)\n",
            "  File \"/usr/lib/python3.7/logging/__init__.py\", line 608, in format\n",
            "    record.message = record.getMessage()\n",
            "  File \"/usr/lib/python3.7/logging/__init__.py\", line 369, in getMessage\n",
            "    msg = msg % self.args\n",
            "TypeError: not all arguments converted during string formatting\n",
            "Call stack:\n",
            "  File \"/usr/lib/python3.7/runpy.py\", line 193, in _run_module_as_main\n",
            "    \"__main__\", mod_spec)\n",
            "  File \"/usr/lib/python3.7/runpy.py\", line 85, in _run_code\n",
            "    exec(code, run_globals)\n",
            "  File \"/usr/local/lib/python3.7/dist-packages/ipykernel_launcher.py\", line 16, in <module>\n",
            "    app.launch_new_instance()\n",
            "  File \"/usr/local/lib/python3.7/dist-packages/traitlets/config/application.py\", line 846, in launch_instance\n",
            "    app.start()\n",
            "  File \"/usr/local/lib/python3.7/dist-packages/ipykernel/kernelapp.py\", line 499, in start\n",
            "    self.io_loop.start()\n",
            "  File \"/usr/local/lib/python3.7/dist-packages/tornado/platform/asyncio.py\", line 132, in start\n",
            "    self.asyncio_loop.run_forever()\n",
            "  File \"/usr/lib/python3.7/asyncio/base_events.py\", line 541, in run_forever\n",
            "    self._run_once()\n",
            "  File \"/usr/lib/python3.7/asyncio/base_events.py\", line 1786, in _run_once\n",
            "    handle._run()\n",
            "  File \"/usr/lib/python3.7/asyncio/events.py\", line 88, in _run\n",
            "    self._context.run(self._callback, *self._args)\n",
            "  File \"/usr/local/lib/python3.7/dist-packages/tornado/platform/asyncio.py\", line 122, in _handle_events\n",
            "    handler_func(fileobj, events)\n",
            "  File \"/usr/local/lib/python3.7/dist-packages/tornado/stack_context.py\", line 300, in null_wrapper\n",
            "    return fn(*args, **kwargs)\n",
            "  File \"/usr/local/lib/python3.7/dist-packages/zmq/eventloop/zmqstream.py\", line 452, in _handle_events\n",
            "    self._handle_recv()\n",
            "  File \"/usr/local/lib/python3.7/dist-packages/zmq/eventloop/zmqstream.py\", line 481, in _handle_recv\n",
            "    self._run_callback(callback, msg)\n",
            "  File \"/usr/local/lib/python3.7/dist-packages/zmq/eventloop/zmqstream.py\", line 431, in _run_callback\n",
            "    callback(*args, **kwargs)\n",
            "  File \"/usr/local/lib/python3.7/dist-packages/tornado/stack_context.py\", line 300, in null_wrapper\n",
            "    return fn(*args, **kwargs)\n",
            "  File \"/usr/local/lib/python3.7/dist-packages/ipykernel/kernelbase.py\", line 283, in dispatcher\n",
            "    return self.dispatch_shell(stream, msg)\n",
            "  File \"/usr/local/lib/python3.7/dist-packages/ipykernel/kernelbase.py\", line 233, in dispatch_shell\n",
            "    handler(stream, idents, msg)\n",
            "  File \"/usr/local/lib/python3.7/dist-packages/ipykernel/kernelbase.py\", line 399, in execute_request\n",
            "    user_expressions, allow_stdin)\n",
            "  File \"/usr/local/lib/python3.7/dist-packages/ipykernel/ipkernel.py\", line 208, in do_execute\n",
            "    res = shell.run_cell(code, store_history=store_history, silent=silent)\n",
            "  File \"/usr/local/lib/python3.7/dist-packages/ipykernel/zmqshell.py\", line 537, in run_cell\n",
            "    return super(ZMQInteractiveShell, self).run_cell(*args, **kwargs)\n",
            "  File \"/usr/local/lib/python3.7/dist-packages/IPython/core/interactiveshell.py\", line 2718, in run_cell\n",
            "    interactivity=interactivity, compiler=compiler, result=result)\n",
            "  File \"/usr/local/lib/python3.7/dist-packages/IPython/core/interactiveshell.py\", line 2822, in run_ast_nodes\n",
            "    if self.run_code(code, result):\n",
            "  File \"/usr/local/lib/python3.7/dist-packages/IPython/core/interactiveshell.py\", line 2882, in run_code\n",
            "    exec(code_obj, self.user_global_ns, self.user_ns)\n",
            "  File \"<ipython-input-59-710bbcbe35c6>\", line 1, in <module>\n",
            "    t,y= next(flow)\n",
            "  File \"<ipython-input-57-df4ed87f83af>\", line 10, in flow_from_dataframe\n",
            "    drop_duplicates=False)\n",
            "  File \"/usr/local/lib/python3.7/dist-packages/keras/preprocessing/image.py\", line 1109, in flow_from_dataframe\n",
            "    '`class_mode` \"raw\".', DeprecationWarning)\n",
            "  File \"/usr/local/lib/python3.7/dist-packages/tensorflow/python/platform/tf_logging.py\", line 178, in warning\n",
            "    get_logger().warning(msg, *args, **kwargs)\n",
            "Message: '`class_mode` \"other\" is deprecated, please use `class_mode` \"raw\".'\n",
            "Arguments: (<class 'DeprecationWarning'>,)\n",
            "--- Logging error ---\n",
            "Traceback (most recent call last):\n",
            "  File \"/usr/lib/python3.7/logging/__init__.py\", line 1025, in emit\n",
            "    msg = self.format(record)\n",
            "  File \"/usr/lib/python3.7/logging/__init__.py\", line 869, in format\n",
            "    return fmt.format(record)\n",
            "  File \"/usr/lib/python3.7/logging/__init__.py\", line 608, in format\n",
            "    record.message = record.getMessage()\n",
            "  File \"/usr/lib/python3.7/logging/__init__.py\", line 369, in getMessage\n",
            "    msg = msg % self.args\n",
            "TypeError: not all arguments converted during string formatting\n",
            "Call stack:\n",
            "  File \"/usr/lib/python3.7/runpy.py\", line 193, in _run_module_as_main\n",
            "    \"__main__\", mod_spec)\n",
            "  File \"/usr/lib/python3.7/runpy.py\", line 85, in _run_code\n",
            "    exec(code, run_globals)\n",
            "  File \"/usr/local/lib/python3.7/dist-packages/ipykernel_launcher.py\", line 16, in <module>\n",
            "    app.launch_new_instance()\n",
            "  File \"/usr/local/lib/python3.7/dist-packages/traitlets/config/application.py\", line 846, in launch_instance\n",
            "    app.start()\n",
            "  File \"/usr/local/lib/python3.7/dist-packages/ipykernel/kernelapp.py\", line 499, in start\n",
            "    self.io_loop.start()\n",
            "  File \"/usr/local/lib/python3.7/dist-packages/tornado/platform/asyncio.py\", line 132, in start\n",
            "    self.asyncio_loop.run_forever()\n",
            "  File \"/usr/lib/python3.7/asyncio/base_events.py\", line 541, in run_forever\n",
            "    self._run_once()\n",
            "  File \"/usr/lib/python3.7/asyncio/base_events.py\", line 1786, in _run_once\n",
            "    handle._run()\n",
            "  File \"/usr/lib/python3.7/asyncio/events.py\", line 88, in _run\n",
            "    self._context.run(self._callback, *self._args)\n",
            "  File \"/usr/local/lib/python3.7/dist-packages/tornado/platform/asyncio.py\", line 122, in _handle_events\n",
            "    handler_func(fileobj, events)\n",
            "  File \"/usr/local/lib/python3.7/dist-packages/tornado/stack_context.py\", line 300, in null_wrapper\n",
            "    return fn(*args, **kwargs)\n",
            "  File \"/usr/local/lib/python3.7/dist-packages/zmq/eventloop/zmqstream.py\", line 452, in _handle_events\n",
            "    self._handle_recv()\n",
            "  File \"/usr/local/lib/python3.7/dist-packages/zmq/eventloop/zmqstream.py\", line 481, in _handle_recv\n",
            "    self._run_callback(callback, msg)\n",
            "  File \"/usr/local/lib/python3.7/dist-packages/zmq/eventloop/zmqstream.py\", line 431, in _run_callback\n",
            "    callback(*args, **kwargs)\n",
            "  File \"/usr/local/lib/python3.7/dist-packages/tornado/stack_context.py\", line 300, in null_wrapper\n",
            "    return fn(*args, **kwargs)\n",
            "  File \"/usr/local/lib/python3.7/dist-packages/ipykernel/kernelbase.py\", line 283, in dispatcher\n",
            "    return self.dispatch_shell(stream, msg)\n",
            "  File \"/usr/local/lib/python3.7/dist-packages/ipykernel/kernelbase.py\", line 233, in dispatch_shell\n",
            "    handler(stream, idents, msg)\n",
            "  File \"/usr/local/lib/python3.7/dist-packages/ipykernel/kernelbase.py\", line 399, in execute_request\n",
            "    user_expressions, allow_stdin)\n",
            "  File \"/usr/local/lib/python3.7/dist-packages/ipykernel/ipkernel.py\", line 208, in do_execute\n",
            "    res = shell.run_cell(code, store_history=store_history, silent=silent)\n",
            "  File \"/usr/local/lib/python3.7/dist-packages/ipykernel/zmqshell.py\", line 537, in run_cell\n",
            "    return super(ZMQInteractiveShell, self).run_cell(*args, **kwargs)\n",
            "  File \"/usr/local/lib/python3.7/dist-packages/IPython/core/interactiveshell.py\", line 2718, in run_cell\n",
            "    interactivity=interactivity, compiler=compiler, result=result)\n",
            "  File \"/usr/local/lib/python3.7/dist-packages/IPython/core/interactiveshell.py\", line 2822, in run_ast_nodes\n",
            "    if self.run_code(code, result):\n",
            "  File \"/usr/local/lib/python3.7/dist-packages/IPython/core/interactiveshell.py\", line 2882, in run_code\n",
            "    exec(code_obj, self.user_global_ns, self.user_ns)\n",
            "  File \"<ipython-input-59-710bbcbe35c6>\", line 1, in <module>\n",
            "    t,y= next(flow)\n",
            "  File \"<ipython-input-57-df4ed87f83af>\", line 10, in flow_from_dataframe\n",
            "    drop_duplicates=False)\n",
            "  File \"/usr/local/lib/python3.7/dist-packages/keras/preprocessing/image.py\", line 1115, in flow_from_dataframe\n",
            "    DeprecationWarning)\n",
            "  File \"/usr/local/lib/python3.7/dist-packages/tensorflow/python/platform/tf_logging.py\", line 178, in warning\n",
            "    get_logger().warning(msg, *args, **kwargs)\n",
            "Message: 'drop_duplicates is deprecated, you can drop duplicates by using the pandas.DataFrame.drop_duplicates method.'\n",
            "Arguments: (<class 'DeprecationWarning'>,)\n"
          ]
        },
        {
          "name": "stdout",
          "output_type": "stream",
          "text": [
            "Found 8328 validated image filenames.\n"
          ]
        }
      ],
      "source": [
        "t,y= next(flow)"
      ]
    },
    {
      "cell_type": "code",
      "execution_count": null,
      "metadata": {
        "id": "iE8rJ6tC1nUl"
      },
      "outputs": [],
      "source": [
        "from sklearn.model_selection import train_test_split\n",
        "X_train, X_test, y_train, y_test = train_test_split(t,y, \n",
        "                                   test_size = 0.30, \n",
        "                                   random_state = 2018)\n"
      ]
    },
    {
      "cell_type": "code",
      "execution_count": null,
      "metadata": {
        "colab": {
          "base_uri": "https://localhost:8080/"
        },
        "id": "e54xEk7X1nUm",
        "outputId": "a3a4e68a-70f4-4218-f1a0-68aea52f27fe"
      },
      "outputs": [
        {
          "name": "stdout",
          "output_type": "stream",
          "text": [
            "Model: \"sequential_2\"\n",
            "_________________________________________________________________\n",
            " Layer (type)                Output Shape              Param #   \n",
            "=================================================================\n",
            " mobilenet_1.00_128 (Functio  (None, 4, 4, 1024)       3228288   \n",
            " nal)                                                            \n",
            "                                                                 \n",
            " global_average_pooling2d_2   (None, 1024)             0         \n",
            " (GlobalAveragePooling2D)                                        \n",
            "                                                                 \n",
            " dropout_4 (Dropout)         (None, 1024)              0         \n",
            "                                                                 \n",
            " dense_4 (Dense)             (None, 512)               524800    \n",
            "                                                                 \n",
            " dropout_5 (Dropout)         (None, 512)               0         \n",
            "                                                                 \n",
            " dense_5 (Dense)             (None, 1)                 513       \n",
            "                                                                 \n",
            "=================================================================\n",
            "Total params: 3,753,601\n",
            "Trainable params: 3,731,713\n",
            "Non-trainable params: 21,888\n",
            "_________________________________________________________________\n"
          ]
        }
      ],
      "source": [
        "from keras.applications.mobilenet import MobileNet\n",
        "from keras.layers import GlobalAveragePooling2D, Dense, Dropout, Flatten\n",
        "from keras.models import Sequential\n",
        "mobilenet_model = MobileNet(input_shape =  X_train.shape[1:], \n",
        "                                 include_top = False, weights = None)\n",
        "mobilenet_GAP_model = Sequential()\n",
        "mobilenet_GAP_model.add(mobilenet_model)\n",
        "mobilenet_GAP_model.add(GlobalAveragePooling2D())\n",
        "mobilenet_GAP_model.add(Dropout(0.5))\n",
        "mobilenet_GAP_model.add(Dense(512))\n",
        "mobilenet_GAP_model.add(Dropout(0.5))\n",
        "mobilenet_GAP_model.add(Dense(1, activation = 'sigmoid'))\n",
        "mobilenet_GAP_model.compile(optimizer = 'adam', loss = 'binary_crossentropy',\n",
        "                           metrics = ['binary_accuracy', 'mae'])\n",
        "mobilenet_GAP_model.summary()"
      ]
    },
    {
      "cell_type": "code",
      "execution_count": null,
      "metadata": {
        "id": "kajzji1u1nUn"
      },
      "outputs": [],
      "source": [
        "from keras.callbacks import ModelCheckpoint, LearningRateScheduler, EarlyStopping, ReduceLROnPlateau\n",
        "weight_path=\"{}_weights.best.hdf5\".format('xray_class')\n",
        "\n",
        "checkpoint = ModelCheckpoint(weight_path, monitor='val_loss', verbose=1, \n",
        "                             save_best_only=True, mode='min', save_weights_only = True)\n",
        "\n",
        "early = EarlyStopping(monitor=\"val_loss\", \n",
        "                      mode=\"min\", \n",
        "                      patience=3)\n",
        "callbacks_list = [checkpoint, early]"
      ]
    },
    {
      "cell_type": "code",
      "execution_count": null,
      "metadata": {
        "colab": {
          "base_uri": "https://localhost:8080/"
        },
        "id": "9EcuulD_1nUn",
        "outputId": "5c958ba1-4598-4279-955f-47d1e002a9a4"
      },
      "outputs": [
        {
          "name": "stdout",
          "output_type": "stream",
          "text": [
            "Epoch 1/10\n",
            "10/10 [==============================] - ETA: 0s - loss: 1.7568 - binary_accuracy: 0.5622 - mae: 0.4381 \n",
            "Epoch 00001: val_loss improved from inf to 0.67945, saving model to xray_class_weights.best.hdf5\n",
            "10/10 [==============================] - 358s 35s/step - loss: 1.7568 - binary_accuracy: 0.5622 - mae: 0.4381 - val_loss: 0.6794 - val_binary_accuracy: 0.6547 - val_mae: 0.4926\n",
            "Epoch 2/10\n",
            "10/10 [==============================] - ETA: 0s - loss: 0.9767 - binary_accuracy: 0.5750 - mae: 0.4376 \n",
            "Epoch 00002: val_loss improved from 0.67945 to 0.67188, saving model to xray_class_weights.best.hdf5\n",
            "10/10 [==============================] - 351s 35s/step - loss: 0.9767 - binary_accuracy: 0.5750 - mae: 0.4376 - val_loss: 0.6719 - val_binary_accuracy: 0.6547 - val_mae: 0.4878\n",
            "Epoch 3/10\n",
            "10/10 [==============================] - ETA: 0s - loss: 0.7907 - binary_accuracy: 0.5992 - mae: 0.4401 \n",
            "Epoch 00003: val_loss improved from 0.67188 to 0.66286, saving model to xray_class_weights.best.hdf5\n",
            "10/10 [==============================] - 350s 35s/step - loss: 0.7907 - binary_accuracy: 0.5992 - mae: 0.4401 - val_loss: 0.6629 - val_binary_accuracy: 0.6547 - val_mae: 0.4812\n",
            "Epoch 4/10\n",
            "10/10 [==============================] - ETA: 0s - loss: 0.7397 - binary_accuracy: 0.6266 - mae: 0.4291 \n",
            "Epoch 00004: val_loss did not improve from 0.66286\n",
            "10/10 [==============================] - 351s 35s/step - loss: 0.7397 - binary_accuracy: 0.6266 - mae: 0.4291 - val_loss: 0.6698 - val_binary_accuracy: 0.6547 - val_mae: 0.4864\n",
            "Epoch 5/10\n",
            "10/10 [==============================] - ETA: 0s - loss: 0.6679 - binary_accuracy: 0.6581 - mae: 0.4188 \n",
            "Epoch 00005: val_loss did not improve from 0.66286\n",
            "10/10 [==============================] - 348s 35s/step - loss: 0.6679 - binary_accuracy: 0.6581 - mae: 0.4188 - val_loss: 0.6737 - val_binary_accuracy: 0.6547 - val_mae: 0.4891\n",
            "Epoch 6/10\n",
            "10/10 [==============================] - ETA: 0s - loss: 0.5995 - binary_accuracy: 0.6717 - mae: 0.3950 \n",
            "Epoch 00006: val_loss did not improve from 0.66286\n",
            "10/10 [==============================] - 351s 35s/step - loss: 0.5995 - binary_accuracy: 0.6717 - mae: 0.3950 - val_loss: 0.6784 - val_binary_accuracy: 0.6547 - val_mae: 0.4920\n"
          ]
        }
      ],
      "source": [
        "history_mobilenet_GAP = mobilenet_GAP_model.fit(X_train,y_train,\n",
        "                                  steps_per_epoch=10,\n",
        "                                  validation_data = (X_test, y_test), \n",
        "                                  epochs = 10, \n",
        "                                  callbacks = callbacks_list)"
      ]
    },
    {
      "cell_type": "code",
      "execution_count": null,
      "metadata": {
        "colab": {
          "base_uri": "https://localhost:8080/"
        },
        "id": "OODvPxoA1nUo",
        "outputId": "b1d999f4-429d-43cd-be61-c9f42df3a27c"
      },
      "outputs": [
        {
          "name": "stdout",
          "output_type": "stream",
          "text": [
            "68/68 [==============================] - 23s 334ms/step\n"
          ]
        }
      ],
      "source": [
        "pred_Y = mobilenet_GAP_model.predict(X_test, \n",
        "                          batch_size = 32, \n",
        "                          verbose = True)"
      ]
    },
    {
      "cell_type": "code",
      "execution_count": null,
      "metadata": {
        "colab": {
          "base_uri": "https://localhost:8080/"
        },
        "id": "boEd9Sh51nUp",
        "outputId": "a1e3a80f-a469-4277-a01c-b0093adc2e13"
      },
      "outputs": [
        {
          "data": {
            "text/plain": [
              "array([[0.4740526 ],\n",
              "       [0.4740526 ],\n",
              "       [0.4740526 ],\n",
              "       ...,\n",
              "       [0.47405258],\n",
              "       [0.47405258],\n",
              "       [0.47405258]], dtype=float32)"
            ]
          },
          "execution_count": 65,
          "metadata": {},
          "output_type": "execute_result"
        }
      ],
      "source": [
        "pred_Y"
      ]
    },
    {
      "cell_type": "code",
      "execution_count": null,
      "metadata": {
        "colab": {
          "base_uri": "https://localhost:8080/"
        },
        "id": "NihsISmg1nUp",
        "outputId": "6e87370e-9a8b-4fd1-bde0-2e3b945e620b"
      },
      "outputs": [
        {
          "data": {
            "text/plain": [
              "array([0.47405258], dtype=float32)"
            ]
          },
          "execution_count": 66,
          "metadata": {},
          "output_type": "execute_result"
        }
      ],
      "source": [
        "min(pred_Y)"
      ]
    },
    {
      "cell_type": "code",
      "execution_count": null,
      "metadata": {
        "colab": {
          "base_uri": "https://localhost:8080/"
        },
        "id": "02xcs2A51nUq",
        "outputId": "1737d9d3-b156-494a-d5e8-99c32798983a"
      },
      "outputs": [
        {
          "name": "stdout",
          "output_type": "stream",
          "text": [
            "test accuracy =  0.6547064185142517\n"
          ]
        }
      ],
      "source": [
        "print('test accuracy = ',mobilenet_GAP_model.evaluate(X_test,y_test, verbose=0)[1])"
      ]
    },
    {
      "cell_type": "code",
      "execution_count": null,
      "metadata": {
        "colab": {
          "base_uri": "https://localhost:8080/"
        },
        "id": "S6Q5zZGT1nUq",
        "outputId": "18d42676-7f8a-4062-d8ad-1f6ea2af30b1"
      },
      "outputs": [
        {
          "name": "stdout",
          "output_type": "stream",
          "text": [
            "roc score =  0.5093175039981558\n"
          ]
        }
      ],
      "source": [
        "from sklearn.metrics import roc_auc_score\n",
        "print('roc score = ',roc_auc_score(y_test.astype(int), pred_Y))"
      ]
    },
    {
      "cell_type": "code",
      "execution_count": null,
      "metadata": {
        "colab": {
          "base_uri": "https://localhost:8080/",
          "height": 430
        },
        "id": "e-mjCKDs1nUq",
        "outputId": "e28775cf-73c6-46ef-e86a-0b1511b8a436"
      },
      "outputs": [
        {
          "name": "stdout",
          "output_type": "stream",
          "text": [
            "                 precision    recall  f1-score   support\n",
            "\n",
            "No Cardiomegaly       0.76      0.05      0.09      1405\n",
            "   Cardiomegaly       0.35      0.97      0.51       741\n",
            "\n",
            "       accuracy                           0.37      2146\n",
            "      macro avg       0.55      0.51      0.30      2146\n",
            "   weighted avg       0.62      0.37      0.24      2146\n",
            "\n"
          ]
        },
        {
          "data": {
            "image/png": "[encoded data removed]",
            "text/plain": [
              "<Figure size 288x288 with 1 Axes>"
            ]
          },
          "metadata": {},
          "output_type": "display_data"
        }
      ],
      "source": [
        "from sklearn.metrics import classification_report, confusion_matrix\n",
        "plt.matshow(confusion_matrix(y_test, pred_Y>0.47405258))\n",
        "print(classification_report(y_test, pred_Y>0.47405258, target_names = ['No Cardiomegaly', 'Cardiomegaly']))"
      ]
    },
    {
      "cell_type": "markdown",
      "metadata": {
        "id": "0_8kw9fo2TBF"
      },
      "source": [
        "## **Consolidation**"
      ]
    },
    {
      "cell_type": "code",
      "execution_count": null,
      "metadata": {
        "colab": {
          "base_uri": "https://localhost:8080/",
          "height": 266
        },
        "id": "EDXV8DVr2T4U",
        "outputId": "f49ea1f4-5efb-40dd-819e-53c98d52b34a"
      },
      "outputs": [
        {
          "name": "stdout",
          "output_type": "stream",
          "text": [
            "0    9332\n",
            "1    4667\n",
            "Name: Consolidation, dtype: int64\n"
          ]
        },
        {
          "data": {
            "text/plain": [
              "<seaborn.axisgrid.PairGrid at 0x7f3b33872f90>"
            ]
          },
          "execution_count": 70,
          "metadata": {},
          "output_type": "execute_result"
        },
        {
          "data": {
            "image/png": "[encoded data removed]",
            "text/plain": [
              "<Figure size 255.875x180 with 2 Axes>"
            ]
          },
          "metadata": {},
          "output_type": "display_data"
        }
      ],
      "source": [
        "positive_cases = np.sum(all_xray_df['Consolidation']==True)//2\n",
        "oversample_factor = 4 # maximum number of cases in negative group so it isn't super rare\n",
        "more_balanced_df = all_xray_df.groupby(['Consolidation']).apply(lambda x: x.sample(min(oversample_factor*positive_cases, x.shape[0]), \n",
        "                                                                                   replace = False)\n",
        "                                                      ).reset_index(drop = True)\n",
        "\n",
        "print(more_balanced_df['Consolidation'].value_counts())\n",
        "sns.pairplot(more_balanced_df[['Patient Age', 'Consolidation']], hue='Consolidation')"
      ]
    },
    {
      "cell_type": "code",
      "execution_count": null,
      "metadata": {
        "colab": {
          "base_uri": "https://localhost:8080/",
          "height": 240
        },
        "id": "9W9CbCzb2T4W",
        "outputId": "05d1ccb3-7fa4-492e-bba0-ce15b051d493"
      },
      "outputs": [
        {
          "name": "stdout",
          "output_type": "stream",
          "text": [
            "train 9799 validation 2520 test 1680\n",
            "train 0    6532\n",
            "1    3267\n",
            "Name: Consolidation, dtype: int64\n",
            "test 0    1120\n",
            "1     560\n",
            "Name: Consolidation, dtype: int64\n"
          ]
        },
        {
          "data": {
            "text/html": [
              "<div>\n",
              "<style scoped>\n",
              "    .dataframe tbody tr th:only-of-type {\n",
              "        vertical-align: middle;\n",
              "    }\n",
              "\n",
              "    .dataframe tbody tr th {\n",
              "        vertical-align: top;\n",
              "    }\n",
              "\n",
              "    .dataframe thead th {\n",
              "        text-align: right;\n",
              "    }\n",
              "</style>\n",
              "<table border=\"1\" class=\"dataframe\">\n",
              "  <thead>\n",
              "    <tr style=\"text-align: right;\">\n",
              "      <th></th>\n",
              "      <th>Image Index</th>\n",
              "      <th>Finding Labels</th>\n",
              "      <th>Follow-up #</th>\n",
              "      <th>Patient ID</th>\n",
              "      <th>Patient Age</th>\n",
              "      <th>Patient Gender</th>\n",
              "      <th>View Position</th>\n",
              "      <th>OriginalImage[Width</th>\n",
              "      <th>Height]</th>\n",
              "      <th>OriginalImagePixelSpacing[x</th>\n",
              "      <th>y]</th>\n",
              "      <th>path</th>\n",
              "      <th>Pneumonia</th>\n",
              "      <th>Patient Male</th>\n",
              "      <th>Cardiomegaly</th>\n",
              "      <th>Emphysema</th>\n",
              "      <th>Effusion</th>\n",
              "      <th>Hernia</th>\n",
              "      <th>Nodule</th>\n",
              "      <th>Pneumothorax</th>\n",
              "      <th>Atelectasis</th>\n",
              "      <th>Pleural_Thickening</th>\n",
              "      <th>Mass</th>\n",
              "      <th>Edema</th>\n",
              "      <th>Consolidation</th>\n",
              "      <th>Infiltration</th>\n",
              "      <th>Fibrosis</th>\n",
              "      <th>Nothing</th>\n",
              "    </tr>\n",
              "  </thead>\n",
              "  <tbody>\n",
              "    <tr>\n",
              "      <th>1573</th>\n",
              "      <td>00011966_018.png</td>\n",
              "      <td>Infiltration</td>\n",
              "      <td>18</td>\n",
              "      <td>11966</td>\n",
              "      <td>22</td>\n",
              "      <td>M</td>\n",
              "      <td>AP</td>\n",
              "      <td>2500</td>\n",
              "      <td>2048</td>\n",
              "      <td>0.168</td>\n",
              "      <td>0.168</td>\n",
              "      <td>/content/drive/MyDrive/Images/image6/00011966_...</td>\n",
              "      <td>False</td>\n",
              "      <td>1.0</td>\n",
              "      <td>0</td>\n",
              "      <td>0</td>\n",
              "      <td>0</td>\n",
              "      <td>0</td>\n",
              "      <td>0</td>\n",
              "      <td>0</td>\n",
              "      <td>0</td>\n",
              "      <td>0</td>\n",
              "      <td>0</td>\n",
              "      <td>0</td>\n",
              "      <td>0</td>\n",
              "      <td>1</td>\n",
              "      <td>0</td>\n",
              "      <td>0</td>\n",
              "    </tr>\n",
              "  </tbody>\n",
              "</table>\n",
              "</div>"
            ],
            "text/plain": [
              "           Image Index Finding Labels  ...  Fibrosis  Nothing\n",
              "1573  00011966_018.png   Infiltration  ...         0        0\n",
              "\n",
              "[1 rows x 28 columns]"
            ]
          },
          "execution_count": 71,
          "metadata": {},
          "output_type": "execute_result"
        }
      ],
      "source": [
        "from sklearn.model_selection import train_test_split\n",
        "raw_train_df, test_valid_df = train_test_split(more_balanced_df, \n",
        "                                   test_size = 0.30, \n",
        "                                   random_state = 2018,\n",
        "                                   stratify = more_balanced_df[['Consolidation']])\n",
        "valid_df, test_df = train_test_split(test_valid_df, \n",
        "                                   test_size = 0.40, \n",
        "                                   random_state = 2018,\n",
        "                                   stratify = test_valid_df[['Consolidation']])\n",
        "print('train', raw_train_df.shape[0], 'validation', valid_df.shape[0], 'test', test_df.shape[0])\n",
        "print('train', raw_train_df['Consolidation'].value_counts())\n",
        "print('test', test_df['Consolidation'].value_counts())\n",
        "raw_train_df.sample(1)"
      ]
    },
    {
      "cell_type": "code",
      "execution_count": null,
      "metadata": {
        "colab": {
          "base_uri": "https://localhost:8080/"
        },
        "id": "BZtzpVw12T4X",
        "outputId": "409fe61e-8b81-4cdf-d1fb-506228efebed"
      },
      "outputs": [
        {
          "name": "stdout",
          "output_type": "stream",
          "text": [
            "New Data Size: 4000 Old Size: 9799\n"
          ]
        }
      ],
      "source": [
        "train_df = raw_train_df.groupby(['Consolidation']).apply(lambda x: x.sample(2000, replace = True)\n",
        "                                                      ).reset_index(drop = True)\n",
        "print('New Data Size:', train_df.shape[0], 'Old Size:', raw_train_df.shape[0])"
      ]
    },
    {
      "cell_type": "code",
      "execution_count": null,
      "metadata": {
        "id": "oAn-ghGt2T4Y"
      },
      "outputs": [],
      "source": [
        "from keras.preprocessing.image import ImageDataGenerator\n",
        "idg = ImageDataGenerator(zoom_range=0.2,\n",
        "                           fill_mode='nearest',\n",
        "                           rotation_range=25,  \n",
        "                           width_shift_range=0.25,  \n",
        "                           height_shift_range=0.25,  \n",
        "                           vertical_flip=False, \n",
        "                           horizontal_flip=True,\n",
        "                           shear_range = 0.2,\n",
        "                           samplewise_center=False, \n",
        "                           samplewise_std_normalization=False)\n"
      ]
    },
    {
      "cell_type": "code",
      "execution_count": null,
      "metadata": {
        "id": "s52ruF9c2T4Z"
      },
      "outputs": [],
      "source": [
        "SEED= 10\n",
        "IMG_SIZE = (128, 128) \n",
        "####\n",
        "def flow_from_dataframe(imgDatGen, df, batch_size, seed, img_size):\n",
        "    #gc.collect()\n",
        "    gen_img = imgDatGen.flow_from_dataframe(dataframe=more_balanced_df,\n",
        "        x_col='path', y_col='Consolidation',\n",
        "        batch_size=batch_size, seed=seed, shuffle=True, class_mode='other',\n",
        "        target_size=img_size, color_mode='grayscale',\n",
        "        drop_duplicates=False)\n",
        "\n",
        "    \n",
        "        \n",
        "    while True:\n",
        "        X1i = gen_img.next()\n",
        "        #X2i = gen_img.next()\n",
        "        #gc.collect()\n",
        "        yield [X1i[0], X1i[1]]"
      ]
    },
    {
      "cell_type": "code",
      "execution_count": null,
      "metadata": {
        "id": "RRESXEV22T4a"
      },
      "outputs": [],
      "source": [
        "flow = flow_from_dataframe(idg, more_balanced_df, 7151, SEED, IMG_SIZE)"
      ]
    },
    {
      "cell_type": "code",
      "execution_count": null,
      "metadata": {
        "colab": {
          "base_uri": "https://localhost:8080/"
        },
        "id": "Paj0nKZb2T4b",
        "outputId": "ba29430f-0ea7-41ef-885b-d3578005807c"
      },
      "outputs": [
        {
          "name": "stderr",
          "output_type": "stream",
          "text": [
            "--- Logging error ---\n",
            "Traceback (most recent call last):\n",
            "  File \"/usr/lib/python3.7/logging/__init__.py\", line 1025, in emit\n",
            "    msg = self.format(record)\n",
            "  File \"/usr/lib/python3.7/logging/__init__.py\", line 869, in format\n",
            "    return fmt.format(record)\n",
            "  File \"/usr/lib/python3.7/logging/__init__.py\", line 608, in format\n",
            "    record.message = record.getMessage()\n",
            "  File \"/usr/lib/python3.7/logging/__init__.py\", line 369, in getMessage\n",
            "    msg = msg % self.args\n",
            "TypeError: not all arguments converted during string formatting\n",
            "Call stack:\n",
            "  File \"/usr/lib/python3.7/runpy.py\", line 193, in _run_module_as_main\n",
            "    \"__main__\", mod_spec)\n",
            "  File \"/usr/lib/python3.7/runpy.py\", line 85, in _run_code\n",
            "    exec(code, run_globals)\n",
            "  File \"/usr/local/lib/python3.7/dist-packages/ipykernel_launcher.py\", line 16, in <module>\n",
            "    app.launch_new_instance()\n",
            "  File \"/usr/local/lib/python3.7/dist-packages/traitlets/config/application.py\", line 846, in launch_instance\n",
            "    app.start()\n",
            "  File \"/usr/local/lib/python3.7/dist-packages/ipykernel/kernelapp.py\", line 499, in start\n",
            "    self.io_loop.start()\n",
            "  File \"/usr/local/lib/python3.7/dist-packages/tornado/platform/asyncio.py\", line 132, in start\n",
            "    self.asyncio_loop.run_forever()\n",
            "  File \"/usr/lib/python3.7/asyncio/base_events.py\", line 541, in run_forever\n",
            "    self._run_once()\n",
            "  File \"/usr/lib/python3.7/asyncio/base_events.py\", line 1786, in _run_once\n",
            "    handle._run()\n",
            "  File \"/usr/lib/python3.7/asyncio/events.py\", line 88, in _run\n",
            "    self._context.run(self._callback, *self._args)\n",
            "  File \"/usr/local/lib/python3.7/dist-packages/tornado/platform/asyncio.py\", line 122, in _handle_events\n",
            "    handler_func(fileobj, events)\n",
            "  File \"/usr/local/lib/python3.7/dist-packages/tornado/stack_context.py\", line 300, in null_wrapper\n",
            "    return fn(*args, **kwargs)\n",
            "  File \"/usr/local/lib/python3.7/dist-packages/zmq/eventloop/zmqstream.py\", line 452, in _handle_events\n",
            "    self._handle_recv()\n",
            "  File \"/usr/local/lib/python3.7/dist-packages/zmq/eventloop/zmqstream.py\", line 481, in _handle_recv\n",
            "    self._run_callback(callback, msg)\n",
            "  File \"/usr/local/lib/python3.7/dist-packages/zmq/eventloop/zmqstream.py\", line 431, in _run_callback\n",
            "    callback(*args, **kwargs)\n",
            "  File \"/usr/local/lib/python3.7/dist-packages/tornado/stack_context.py\", line 300, in null_wrapper\n",
            "    return fn(*args, **kwargs)\n",
            "  File \"/usr/local/lib/python3.7/dist-packages/ipykernel/kernelbase.py\", line 283, in dispatcher\n",
            "    return self.dispatch_shell(stream, msg)\n",
            "  File \"/usr/local/lib/python3.7/dist-packages/ipykernel/kernelbase.py\", line 233, in dispatch_shell\n",
            "    handler(stream, idents, msg)\n",
            "  File \"/usr/local/lib/python3.7/dist-packages/ipykernel/kernelbase.py\", line 399, in execute_request\n",
            "    user_expressions, allow_stdin)\n",
            "  File \"/usr/local/lib/python3.7/dist-packages/ipykernel/ipkernel.py\", line 208, in do_execute\n",
            "    res = shell.run_cell(code, store_history=store_history, silent=silent)\n",
            "  File \"/usr/local/lib/python3.7/dist-packages/ipykernel/zmqshell.py\", line 537, in run_cell\n",
            "    return super(ZMQInteractiveShell, self).run_cell(*args, **kwargs)\n",
            "  File \"/usr/local/lib/python3.7/dist-packages/IPython/core/interactiveshell.py\", line 2718, in run_cell\n",
            "    interactivity=interactivity, compiler=compiler, result=result)\n",
            "  File \"/usr/local/lib/python3.7/dist-packages/IPython/core/interactiveshell.py\", line 2822, in run_ast_nodes\n",
            "    if self.run_code(code, result):\n",
            "  File \"/usr/local/lib/python3.7/dist-packages/IPython/core/interactiveshell.py\", line 2882, in run_code\n",
            "    exec(code_obj, self.user_global_ns, self.user_ns)\n",
            "  File \"<ipython-input-76-710bbcbe35c6>\", line 1, in <module>\n",
            "    t,y= next(flow)\n",
            "  File \"<ipython-input-74-65acee2fa3b7>\", line 10, in flow_from_dataframe\n",
            "    drop_duplicates=False)\n",
            "  File \"/usr/local/lib/python3.7/dist-packages/keras/preprocessing/image.py\", line 1109, in flow_from_dataframe\n",
            "    '`class_mode` \"raw\".', DeprecationWarning)\n",
            "  File \"/usr/local/lib/python3.7/dist-packages/tensorflow/python/platform/tf_logging.py\", line 178, in warning\n",
            "    get_logger().warning(msg, *args, **kwargs)\n",
            "Message: '`class_mode` \"other\" is deprecated, please use `class_mode` \"raw\".'\n",
            "Arguments: (<class 'DeprecationWarning'>,)\n",
            "--- Logging error ---\n",
            "Traceback (most recent call last):\n",
            "  File \"/usr/lib/python3.7/logging/__init__.py\", line 1025, in emit\n",
            "    msg = self.format(record)\n",
            "  File \"/usr/lib/python3.7/logging/__init__.py\", line 869, in format\n",
            "    return fmt.format(record)\n",
            "  File \"/usr/lib/python3.7/logging/__init__.py\", line 608, in format\n",
            "    record.message = record.getMessage()\n",
            "  File \"/usr/lib/python3.7/logging/__init__.py\", line 369, in getMessage\n",
            "    msg = msg % self.args\n",
            "TypeError: not all arguments converted during string formatting\n",
            "Call stack:\n",
            "  File \"/usr/lib/python3.7/runpy.py\", line 193, in _run_module_as_main\n",
            "    \"__main__\", mod_spec)\n",
            "  File \"/usr/lib/python3.7/runpy.py\", line 85, in _run_code\n",
            "    exec(code, run_globals)\n",
            "  File \"/usr/local/lib/python3.7/dist-packages/ipykernel_launcher.py\", line 16, in <module>\n",
            "    app.launch_new_instance()\n",
            "  File \"/usr/local/lib/python3.7/dist-packages/traitlets/config/application.py\", line 846, in launch_instance\n",
            "    app.start()\n",
            "  File \"/usr/local/lib/python3.7/dist-packages/ipykernel/kernelapp.py\", line 499, in start\n",
            "    self.io_loop.start()\n",
            "  File \"/usr/local/lib/python3.7/dist-packages/tornado/platform/asyncio.py\", line 132, in start\n",
            "    self.asyncio_loop.run_forever()\n",
            "  File \"/usr/lib/python3.7/asyncio/base_events.py\", line 541, in run_forever\n",
            "    self._run_once()\n",
            "  File \"/usr/lib/python3.7/asyncio/base_events.py\", line 1786, in _run_once\n",
            "    handle._run()\n",
            "  File \"/usr/lib/python3.7/asyncio/events.py\", line 88, in _run\n",
            "    self._context.run(self._callback, *self._args)\n",
            "  File \"/usr/local/lib/python3.7/dist-packages/tornado/platform/asyncio.py\", line 122, in _handle_events\n",
            "    handler_func(fileobj, events)\n",
            "  File \"/usr/local/lib/python3.7/dist-packages/tornado/stack_context.py\", line 300, in null_wrapper\n",
            "    return fn(*args, **kwargs)\n",
            "  File \"/usr/local/lib/python3.7/dist-packages/zmq/eventloop/zmqstream.py\", line 452, in _handle_events\n",
            "    self._handle_recv()\n",
            "  File \"/usr/local/lib/python3.7/dist-packages/zmq/eventloop/zmqstream.py\", line 481, in _handle_recv\n",
            "    self._run_callback(callback, msg)\n",
            "  File \"/usr/local/lib/python3.7/dist-packages/zmq/eventloop/zmqstream.py\", line 431, in _run_callback\n",
            "    callback(*args, **kwargs)\n",
            "  File \"/usr/local/lib/python3.7/dist-packages/tornado/stack_context.py\", line 300, in null_wrapper\n",
            "    return fn(*args, **kwargs)\n",
            "  File \"/usr/local/lib/python3.7/dist-packages/ipykernel/kernelbase.py\", line 283, in dispatcher\n",
            "    return self.dispatch_shell(stream, msg)\n",
            "  File \"/usr/local/lib/python3.7/dist-packages/ipykernel/kernelbase.py\", line 233, in dispatch_shell\n",
            "    handler(stream, idents, msg)\n",
            "  File \"/usr/local/lib/python3.7/dist-packages/ipykernel/kernelbase.py\", line 399, in execute_request\n",
            "    user_expressions, allow_stdin)\n",
            "  File \"/usr/local/lib/python3.7/dist-packages/ipykernel/ipkernel.py\", line 208, in do_execute\n",
            "    res = shell.run_cell(code, store_history=store_history, silent=silent)\n",
            "  File \"/usr/local/lib/python3.7/dist-packages/ipykernel/zmqshell.py\", line 537, in run_cell\n",
            "    return super(ZMQInteractiveShell, self).run_cell(*args, **kwargs)\n",
            "  File \"/usr/local/lib/python3.7/dist-packages/IPython/core/interactiveshell.py\", line 2718, in run_cell\n",
            "    interactivity=interactivity, compiler=compiler, result=result)\n",
            "  File \"/usr/local/lib/python3.7/dist-packages/IPython/core/interactiveshell.py\", line 2822, in run_ast_nodes\n",
            "    if self.run_code(code, result):\n",
            "  File \"/usr/local/lib/python3.7/dist-packages/IPython/core/interactiveshell.py\", line 2882, in run_code\n",
            "    exec(code_obj, self.user_global_ns, self.user_ns)\n",
            "  File \"<ipython-input-76-710bbcbe35c6>\", line 1, in <module>\n",
            "    t,y= next(flow)\n",
            "  File \"<ipython-input-74-65acee2fa3b7>\", line 10, in flow_from_dataframe\n",
            "    drop_duplicates=False)\n",
            "  File \"/usr/local/lib/python3.7/dist-packages/keras/preprocessing/image.py\", line 1115, in flow_from_dataframe\n",
            "    DeprecationWarning)\n",
            "  File \"/usr/local/lib/python3.7/dist-packages/tensorflow/python/platform/tf_logging.py\", line 178, in warning\n",
            "    get_logger().warning(msg, *args, **kwargs)\n",
            "Message: 'drop_duplicates is deprecated, you can drop duplicates by using the pandas.DataFrame.drop_duplicates method.'\n",
            "Arguments: (<class 'DeprecationWarning'>,)\n"
          ]
        },
        {
          "name": "stdout",
          "output_type": "stream",
          "text": [
            "Found 13999 validated image filenames.\n"
          ]
        }
      ],
      "source": [
        "t,y= next(flow)"
      ]
    },
    {
      "cell_type": "code",
      "execution_count": null,
      "metadata": {
        "id": "_pZPfPoC2T4c"
      },
      "outputs": [],
      "source": [
        "from sklearn.model_selection import train_test_split\n",
        "X_train, X_test, y_train, y_test = train_test_split(t,y, \n",
        "                                   test_size = 0.30, \n",
        "                                   random_state = 2018)\n"
      ]
    },
    {
      "cell_type": "code",
      "execution_count": null,
      "metadata": {
        "colab": {
          "base_uri": "https://localhost:8080/"
        },
        "id": "Ni9xtzz-2T4d",
        "outputId": "e61b9e40-3fe9-4327-b243-73a33e71fdfb"
      },
      "outputs": [
        {
          "name": "stdout",
          "output_type": "stream",
          "text": [
            "Model: \"sequential_3\"\n",
            "_________________________________________________________________\n",
            " Layer (type)                Output Shape              Param #   \n",
            "=================================================================\n",
            " mobilenet_1.00_128 (Functio  (None, 4, 4, 1024)       3228288   \n",
            " nal)                                                            \n",
            "                                                                 \n",
            " global_average_pooling2d_3   (None, 1024)             0         \n",
            " (GlobalAveragePooling2D)                                        \n",
            "                                                                 \n",
            " dropout_6 (Dropout)         (None, 1024)              0         \n",
            "                                                                 \n",
            " dense_6 (Dense)             (None, 512)               524800    \n",
            "                                                                 \n",
            " dropout_7 (Dropout)         (None, 512)               0         \n",
            "                                                                 \n",
            " dense_7 (Dense)             (None, 1)                 513       \n",
            "                                                                 \n",
            "=================================================================\n",
            "Total params: 3,753,601\n",
            "Trainable params: 3,731,713\n",
            "Non-trainable params: 21,888\n",
            "_________________________________________________________________\n"
          ]
        }
      ],
      "source": [
        "from keras.applications.mobilenet import MobileNet\n",
        "from keras.layers import GlobalAveragePooling2D, Dense, Dropout, Flatten\n",
        "from keras.models import Sequential\n",
        "mobilenet_model = MobileNet(input_shape =  X_train.shape[1:], \n",
        "                                 include_top = False, weights = None)\n",
        "mobilenet_GAP_model = Sequential()\n",
        "mobilenet_GAP_model.add(mobilenet_model)\n",
        "mobilenet_GAP_model.add(GlobalAveragePooling2D())\n",
        "mobilenet_GAP_model.add(Dropout(0.5))\n",
        "mobilenet_GAP_model.add(Dense(512))\n",
        "mobilenet_GAP_model.add(Dropout(0.5))\n",
        "mobilenet_GAP_model.add(Dense(1, activation = 'sigmoid'))\n",
        "mobilenet_GAP_model.compile(optimizer = 'adam', loss = 'binary_crossentropy',\n",
        "                           metrics = ['binary_accuracy', 'mae'])\n",
        "mobilenet_GAP_model.summary()"
      ]
    },
    {
      "cell_type": "code",
      "execution_count": null,
      "metadata": {
        "id": "Tu0gRHpp2T4e"
      },
      "outputs": [],
      "source": [
        "from keras.callbacks import ModelCheckpoint, LearningRateScheduler, EarlyStopping, ReduceLROnPlateau\n",
        "weight_path=\"{}_weights.best.hdf5\".format('xray_class')\n",
        "\n",
        "checkpoint = ModelCheckpoint(weight_path, monitor='val_loss', verbose=1, \n",
        "                             save_best_only=True, mode='min', save_weights_only = True)\n",
        "\n",
        "early = EarlyStopping(monitor=\"val_loss\", \n",
        "                      mode=\"min\", \n",
        "                      patience=3)\n",
        "callbacks_list = [checkpoint, early]"
      ]
    },
    {
      "cell_type": "code",
      "execution_count": null,
      "metadata": {
        "colab": {
          "base_uri": "https://localhost:8080/"
        },
        "id": "0ktwY3XI2T4e",
        "outputId": "2ca3f33c-963b-4274-e9bb-663166177d67"
      },
      "outputs": [
        {
          "name": "stdout",
          "output_type": "stream",
          "text": [
            "Epoch 1/10\n",
            "10/10 [==============================] - ETA: 0s - loss: 1.5424 - binary_accuracy: 0.6002 - mae: 0.4082 \n",
            "Epoch 00001: val_loss improved from inf to 0.69129, saving model to xray_class_weights.best.hdf5\n",
            "10/10 [==============================] - 361s 36s/step - loss: 1.5424 - binary_accuracy: 0.6002 - mae: 0.4082 - val_loss: 0.6913 - val_binary_accuracy: 0.6775 - val_mae: 0.4991\n",
            "Epoch 2/10\n",
            "10/10 [==============================] - ETA: 0s - loss: 0.8411 - binary_accuracy: 0.5964 - mae: 0.4336 \n",
            "Epoch 00002: val_loss improved from 0.69129 to 0.68071, saving model to xray_class_weights.best.hdf5\n",
            "10/10 [==============================] - 357s 36s/step - loss: 0.8411 - binary_accuracy: 0.5964 - mae: 0.4336 - val_loss: 0.6807 - val_binary_accuracy: 0.6775 - val_mae: 0.4934\n",
            "Epoch 3/10\n",
            "10/10 [==============================] - ETA: 0s - loss: 0.7266 - binary_accuracy: 0.6224 - mae: 0.4288 \n",
            "Epoch 00003: val_loss improved from 0.68071 to 0.66024, saving model to xray_class_weights.best.hdf5\n",
            "10/10 [==============================] - 353s 36s/step - loss: 0.7266 - binary_accuracy: 0.6224 - mae: 0.4288 - val_loss: 0.6602 - val_binary_accuracy: 0.6775 - val_mae: 0.4806\n",
            "Epoch 4/10\n",
            "10/10 [==============================] - ETA: 0s - loss: 0.6917 - binary_accuracy: 0.6426 - mae: 0.4099 \n",
            "Epoch 00004: val_loss did not improve from 0.66024\n",
            "10/10 [==============================] - 352s 35s/step - loss: 0.6917 - binary_accuracy: 0.6426 - mae: 0.4099 - val_loss: 0.6716 - val_binary_accuracy: 0.6775 - val_mae: 0.4881\n",
            "Epoch 5/10\n",
            "10/10 [==============================] - ETA: 0s - loss: 0.6401 - binary_accuracy: 0.6763 - mae: 0.3901 \n",
            "Epoch 00005: val_loss did not improve from 0.66024\n",
            "10/10 [==============================] - 353s 36s/step - loss: 0.6401 - binary_accuracy: 0.6763 - mae: 0.3901 - val_loss: 0.6778 - val_binary_accuracy: 0.6775 - val_mae: 0.4918\n",
            "Epoch 6/10\n",
            "10/10 [==============================] - ETA: 0s - loss: 0.5130 - binary_accuracy: 0.7415 - mae: 0.3242 \n",
            "Epoch 00006: val_loss did not improve from 0.66024\n",
            "10/10 [==============================] - 352s 36s/step - loss: 0.5130 - binary_accuracy: 0.7415 - mae: 0.3242 - val_loss: 0.6714 - val_binary_accuracy: 0.6775 - val_mae: 0.4880\n"
          ]
        }
      ],
      "source": [
        "history_mobilenet_GAP = mobilenet_GAP_model.fit(X_train,y_train,\n",
        "                                  steps_per_epoch=10,\n",
        "                                  validation_data = (X_test, y_test), \n",
        "                                  epochs = 10, \n",
        "                                  callbacks = callbacks_list)"
      ]
    },
    {
      "cell_type": "code",
      "execution_count": null,
      "metadata": {
        "colab": {
          "base_uri": "https://localhost:8080/"
        },
        "id": "4Q0qZtxy2T4f",
        "outputId": "aac9cd45-9503-4282-ee8c-38f30da4ce97"
      },
      "outputs": [
        {
          "name": "stdout",
          "output_type": "stream",
          "text": [
            "68/68 [==============================] - 24s 349ms/step\n"
          ]
        }
      ],
      "source": [
        "pred_Y = mobilenet_GAP_model.predict(X_test, \n",
        "                          batch_size = 32, \n",
        "                          verbose = True)"
      ]
    },
    {
      "cell_type": "code",
      "execution_count": null,
      "metadata": {
        "colab": {
          "base_uri": "https://localhost:8080/"
        },
        "id": "NUmokwuL2T4g",
        "outputId": "13dcba02-f286-43cb-9d06-c76570b9cd00"
      },
      "outputs": [
        {
          "data": {
            "text/plain": [
              "array([[0.46614152],\n",
              "       [0.46614152],\n",
              "       [0.46614152],\n",
              "       ...,\n",
              "       [0.46614152],\n",
              "       [0.46614152],\n",
              "       [0.46614152]], dtype=float32)"
            ]
          },
          "execution_count": 82,
          "metadata": {},
          "output_type": "execute_result"
        }
      ],
      "source": [
        "pred_Y"
      ]
    },
    {
      "cell_type": "code",
      "execution_count": null,
      "metadata": {
        "colab": {
          "base_uri": "https://localhost:8080/"
        },
        "id": "bJY8W_Lc2T4h",
        "outputId": "ecd8cc6c-a0ff-4282-a1bf-6c813fc726da"
      },
      "outputs": [
        {
          "data": {
            "text/plain": [
              "array([0.46614152], dtype=float32)"
            ]
          },
          "execution_count": 83,
          "metadata": {},
          "output_type": "execute_result"
        }
      ],
      "source": [
        "min(pred_Y)"
      ]
    },
    {
      "cell_type": "code",
      "execution_count": null,
      "metadata": {
        "colab": {
          "base_uri": "https://localhost:8080/"
        },
        "id": "jWT9sPP12T4h",
        "outputId": "8a5eead5-a787-4c23-f6f5-e7534b825c3b"
      },
      "outputs": [
        {
          "name": "stdout",
          "output_type": "stream",
          "text": [
            "test accuracy =  0.677539587020874\n"
          ]
        }
      ],
      "source": [
        "print('test accuracy = ',mobilenet_GAP_model.evaluate(X_test,y_test, verbose=0)[1])"
      ]
    },
    {
      "cell_type": "code",
      "execution_count": null,
      "metadata": {
        "colab": {
          "base_uri": "https://localhost:8080/"
        },
        "id": "DUJUp0gM2T4i",
        "outputId": "64844177-5082-4591-915e-3eebd8ea9d9c"
      },
      "outputs": [
        {
          "name": "stdout",
          "output_type": "stream",
          "text": [
            "roc score =  0.5\n"
          ]
        }
      ],
      "source": [
        "from sklearn.metrics import roc_auc_score\n",
        "print('roc score = ',roc_auc_score(y_test.astype(int), pred_Y))"
      ]
    },
    {
      "cell_type": "code",
      "execution_count": null,
      "metadata": {
        "colab": {
          "base_uri": "https://localhost:8080/",
          "height": 554
        },
        "id": "106YMZs82T4j",
        "outputId": "bc0720d5-7278-4bde-9af0-8931c423a9e2"
      },
      "outputs": [
        {
          "name": "stderr",
          "output_type": "stream",
          "text": [
            "/usr/local/lib/python3.7/dist-packages/sklearn/metrics/_classification.py:1308: UndefinedMetricWarning: Precision and F-score are ill-defined and being set to 0.0 in labels with no predicted samples. Use `zero_division` parameter to control this behavior.\n",
            "  _warn_prf(average, modifier, msg_start, len(result))\n",
            "/usr/local/lib/python3.7/dist-packages/sklearn/metrics/_classification.py:1308: UndefinedMetricWarning: Precision and F-score are ill-defined and being set to 0.0 in labels with no predicted samples. Use `zero_division` parameter to control this behavior.\n",
            "  _warn_prf(average, modifier, msg_start, len(result))\n",
            "/usr/local/lib/python3.7/dist-packages/sklearn/metrics/_classification.py:1308: UndefinedMetricWarning: Precision and F-score are ill-defined and being set to 0.0 in labels with no predicted samples. Use `zero_division` parameter to control this behavior.\n",
            "  _warn_prf(average, modifier, msg_start, len(result))\n"
          ]
        },
        {
          "name": "stdout",
          "output_type": "stream",
          "text": [
            "                  precision    recall  f1-score   support\n",
            "\n",
            "No Consolidation       0.68      1.00      0.81      1454\n",
            "   Consolidation       0.00      0.00      0.00       692\n",
            "\n",
            "        accuracy                           0.68      2146\n",
            "       macro avg       0.34      0.50      0.40      2146\n",
            "    weighted avg       0.46      0.68      0.55      2146\n",
            "\n"
          ]
        },
        {
          "data": {
            "image/png": "[encoded data removed]",
            "text/plain": [
              "<Figure size 288x288 with 1 Axes>"
            ]
          },
          "metadata": {},
          "output_type": "display_data"
        }
      ],
      "source": [
        "from sklearn.metrics import classification_report, confusion_matrix\n",
        "plt.matshow(confusion_matrix(y_test, pred_Y>0.46614152))\n",
        "print(classification_report(y_test, pred_Y>0.46614152, target_names = ['No Consolidation', 'Consolidation']))"
      ]
    },
    {
      "cell_type": "markdown",
      "metadata": {
        "id": "SEQ1mxBc2U2a"
      },
      "source": [
        "## **Edema**"
      ]
    },
    {
      "cell_type": "code",
      "execution_count": null,
      "metadata": {
        "colab": {
          "base_uri": "https://localhost:8080/",
          "height": 266
        },
        "id": "-URJGE4n2VYH",
        "outputId": "15eedafb-fa3a-4553-bf7b-7724e829bbb8"
      },
      "outputs": [
        {
          "name": "stdout",
          "output_type": "stream",
          "text": [
            "0    4604\n",
            "1    2303\n",
            "Name: Edema, dtype: int64\n"
          ]
        },
        {
          "data": {
            "text/plain": [
              "<seaborn.axisgrid.PairGrid at 0x7f3b35ddae10>"
            ]
          },
          "execution_count": 87,
          "metadata": {},
          "output_type": "execute_result"
        },
        {
          "data": {
            "image/png": "[encoded data removed]",
            "text/plain": [
              "<Figure size 222.5x180 with 2 Axes>"
            ]
          },
          "metadata": {},
          "output_type": "display_data"
        }
      ],
      "source": [
        "positive_cases = np.sum(all_xray_df['Edema']==True)//2\n",
        "oversample_factor = 4 # maximum number of cases in negative group so it isn't super rare\n",
        "more_balanced_df = all_xray_df.groupby(['Edema']).apply(lambda x: x.sample(min(oversample_factor*positive_cases, x.shape[0]), \n",
        "                                                                                   replace = False)\n",
        "                                                      ).reset_index(drop = True)\n",
        "\n",
        "print(more_balanced_df['Edema'].value_counts())\n",
        "sns.pairplot(more_balanced_df[['Patient Age', 'Edema']], hue='Edema')"
      ]
    },
    {
      "cell_type": "code",
      "execution_count": null,
      "metadata": {
        "colab": {
          "base_uri": "https://localhost:8080/",
          "height": 240
        },
        "id": "XscR4XVb2VYI",
        "outputId": "75690e71-21d6-476c-960a-758fed12c170"
      },
      "outputs": [
        {
          "name": "stdout",
          "output_type": "stream",
          "text": [
            "train 4834 validation 1243 test 830\n",
            "train 0    3222\n",
            "1    1612\n",
            "Name: Edema, dtype: int64\n",
            "test 0    553\n",
            "1    277\n",
            "Name: Edema, dtype: int64\n"
          ]
        },
        {
          "data": {
            "text/html": [
              "<div>\n",
              "<style scoped>\n",
              "    .dataframe tbody tr th:only-of-type {\n",
              "        vertical-align: middle;\n",
              "    }\n",
              "\n",
              "    .dataframe tbody tr th {\n",
              "        vertical-align: top;\n",
              "    }\n",
              "\n",
              "    .dataframe thead th {\n",
              "        text-align: right;\n",
              "    }\n",
              "</style>\n",
              "<table border=\"1\" class=\"dataframe\">\n",
              "  <thead>\n",
              "    <tr style=\"text-align: right;\">\n",
              "      <th></th>\n",
              "      <th>Image Index</th>\n",
              "      <th>Finding Labels</th>\n",
              "      <th>Follow-up #</th>\n",
              "      <th>Patient ID</th>\n",
              "      <th>Patient Age</th>\n",
              "      <th>Patient Gender</th>\n",
              "      <th>View Position</th>\n",
              "      <th>OriginalImage[Width</th>\n",
              "      <th>Height]</th>\n",
              "      <th>OriginalImagePixelSpacing[x</th>\n",
              "      <th>y]</th>\n",
              "      <th>path</th>\n",
              "      <th>Pneumonia</th>\n",
              "      <th>Patient Male</th>\n",
              "      <th>Cardiomegaly</th>\n",
              "      <th>Emphysema</th>\n",
              "      <th>Effusion</th>\n",
              "      <th>Hernia</th>\n",
              "      <th>Nodule</th>\n",
              "      <th>Pneumothorax</th>\n",
              "      <th>Atelectasis</th>\n",
              "      <th>Pleural_Thickening</th>\n",
              "      <th>Mass</th>\n",
              "      <th>Edema</th>\n",
              "      <th>Consolidation</th>\n",
              "      <th>Infiltration</th>\n",
              "      <th>Fibrosis</th>\n",
              "      <th>Nothing</th>\n",
              "    </tr>\n",
              "  </thead>\n",
              "  <tbody>\n",
              "    <tr>\n",
              "      <th>5765</th>\n",
              "      <td>00014058_002.png</td>\n",
              "      <td>Edema</td>\n",
              "      <td>12</td>\n",
              "      <td>14058</td>\n",
              "      <td>55</td>\n",
              "      <td>M</td>\n",
              "      <td>PA</td>\n",
              "      <td>1940</td>\n",
              "      <td>2021</td>\n",
              "      <td>0.194311</td>\n",
              "      <td>0.194311</td>\n",
              "      <td>/content/drive/MyDrive/Images/image7/00014058_...</td>\n",
              "      <td>False</td>\n",
              "      <td>1.0</td>\n",
              "      <td>0</td>\n",
              "      <td>0</td>\n",
              "      <td>0</td>\n",
              "      <td>0</td>\n",
              "      <td>0</td>\n",
              "      <td>0</td>\n",
              "      <td>0</td>\n",
              "      <td>0</td>\n",
              "      <td>0</td>\n",
              "      <td>1</td>\n",
              "      <td>0</td>\n",
              "      <td>0</td>\n",
              "      <td>0</td>\n",
              "      <td>0</td>\n",
              "    </tr>\n",
              "  </tbody>\n",
              "</table>\n",
              "</div>"
            ],
            "text/plain": [
              "           Image Index Finding Labels  ...  Fibrosis  Nothing\n",
              "5765  00014058_002.png          Edema  ...         0        0\n",
              "\n",
              "[1 rows x 28 columns]"
            ]
          },
          "execution_count": 88,
          "metadata": {},
          "output_type": "execute_result"
        }
      ],
      "source": [
        "from sklearn.model_selection import train_test_split\n",
        "raw_train_df, test_valid_df = train_test_split(more_balanced_df, \n",
        "                                   test_size = 0.30, \n",
        "                                   random_state = 2018,\n",
        "                                   stratify = more_balanced_df[['Edema']])\n",
        "valid_df, test_df = train_test_split(test_valid_df, \n",
        "                                   test_size = 0.40, \n",
        "                                   random_state = 2018,\n",
        "                                   stratify = test_valid_df[['Edema']])\n",
        "print('train', raw_train_df.shape[0], 'validation', valid_df.shape[0], 'test', test_df.shape[0])\n",
        "print('train', raw_train_df['Edema'].value_counts())\n",
        "print('test', test_df['Edema'].value_counts())\n",
        "raw_train_df.sample(1)"
      ]
    },
    {
      "cell_type": "code",
      "execution_count": null,
      "metadata": {
        "colab": {
          "base_uri": "https://localhost:8080/"
        },
        "id": "1NerNvhe2VYK",
        "outputId": "17bdd237-b2ee-4d04-b5df-bba42a8e33c0"
      },
      "outputs": [
        {
          "name": "stdout",
          "output_type": "stream",
          "text": [
            "New Data Size: 4000 Old Size: 4834\n"
          ]
        }
      ],
      "source": [
        "train_df = raw_train_df.groupby(['Edema']).apply(lambda x: x.sample(2000, replace = True)\n",
        "                                                      ).reset_index(drop = True)\n",
        "print('New Data Size:', train_df.shape[0], 'Old Size:', raw_train_df.shape[0])"
      ]
    },
    {
      "cell_type": "code",
      "execution_count": null,
      "metadata": {
        "id": "NkZmNTQT2VYL"
      },
      "outputs": [],
      "source": [
        "from keras.preprocessing.image import ImageDataGenerator\n",
        "idg = ImageDataGenerator(zoom_range=0.2,\n",
        "                           fill_mode='nearest',\n",
        "                           rotation_range=25,  \n",
        "                           width_shift_range=0.25,  \n",
        "                           height_shift_range=0.25,  \n",
        "                           vertical_flip=False, \n",
        "                           horizontal_flip=True,\n",
        "                           shear_range = 0.2,\n",
        "                           samplewise_center=False, \n",
        "                           samplewise_std_normalization=False)\n"
      ]
    },
    {
      "cell_type": "code",
      "execution_count": null,
      "metadata": {
        "id": "u7EhAoy12VYM"
      },
      "outputs": [],
      "source": [
        "SEED= 10\n",
        "IMG_SIZE = (128, 128) \n",
        "####\n",
        "def flow_from_dataframe(imgDatGen, df, batch_size, seed, img_size):\n",
        "    #gc.collect()\n",
        "    gen_img = imgDatGen.flow_from_dataframe(dataframe=more_balanced_df,\n",
        "        x_col='path', y_col='Edema',\n",
        "        batch_size=batch_size, seed=seed, shuffle=True, class_mode='other',\n",
        "        target_size=img_size, color_mode='grayscale',\n",
        "        drop_duplicates=False)\n",
        "\n",
        "    \n",
        "        \n",
        "    while True:\n",
        "        X1i = gen_img.next()\n",
        "        #X2i = gen_img.next()\n",
        "        #gc.collect()\n",
        "        yield [X1i[0], X1i[1]]"
      ]
    },
    {
      "cell_type": "code",
      "execution_count": null,
      "metadata": {
        "id": "L0Qf6jOT2VYM"
      },
      "outputs": [],
      "source": [
        "flow = flow_from_dataframe(idg, more_balanced_df, 7151, SEED, IMG_SIZE)"
      ]
    },
    {
      "cell_type": "code",
      "execution_count": null,
      "metadata": {
        "colab": {
          "base_uri": "https://localhost:8080/"
        },
        "id": "NjCj3IS_2VYN",
        "outputId": "a626df6e-a403-44c3-bebd-e35cb0522947"
      },
      "outputs": [
        {
          "name": "stderr",
          "output_type": "stream",
          "text": [
            "--- Logging error ---\n",
            "Traceback (most recent call last):\n",
            "  File \"/usr/lib/python3.7/logging/__init__.py\", line 1025, in emit\n",
            "    msg = self.format(record)\n",
            "  File \"/usr/lib/python3.7/logging/__init__.py\", line 869, in format\n",
            "    return fmt.format(record)\n",
            "  File \"/usr/lib/python3.7/logging/__init__.py\", line 608, in format\n",
            "    record.message = record.getMessage()\n",
            "  File \"/usr/lib/python3.7/logging/__init__.py\", line 369, in getMessage\n",
            "    msg = msg % self.args\n",
            "TypeError: not all arguments converted during string formatting\n",
            "Call stack:\n",
            "  File \"/usr/lib/python3.7/runpy.py\", line 193, in _run_module_as_main\n",
            "    \"__main__\", mod_spec)\n",
            "  File \"/usr/lib/python3.7/runpy.py\", line 85, in _run_code\n",
            "    exec(code, run_globals)\n",
            "  File \"/usr/local/lib/python3.7/dist-packages/ipykernel_launcher.py\", line 16, in <module>\n",
            "    app.launch_new_instance()\n",
            "  File \"/usr/local/lib/python3.7/dist-packages/traitlets/config/application.py\", line 846, in launch_instance\n",
            "    app.start()\n",
            "  File \"/usr/local/lib/python3.7/dist-packages/ipykernel/kernelapp.py\", line 499, in start\n",
            "    self.io_loop.start()\n",
            "  File \"/usr/local/lib/python3.7/dist-packages/tornado/platform/asyncio.py\", line 132, in start\n",
            "    self.asyncio_loop.run_forever()\n",
            "  File \"/usr/lib/python3.7/asyncio/base_events.py\", line 541, in run_forever\n",
            "    self._run_once()\n",
            "  File \"/usr/lib/python3.7/asyncio/base_events.py\", line 1786, in _run_once\n",
            "    handle._run()\n",
            "  File \"/usr/lib/python3.7/asyncio/events.py\", line 88, in _run\n",
            "    self._context.run(self._callback, *self._args)\n",
            "  File \"/usr/local/lib/python3.7/dist-packages/tornado/platform/asyncio.py\", line 122, in _handle_events\n",
            "    handler_func(fileobj, events)\n",
            "  File \"/usr/local/lib/python3.7/dist-packages/tornado/stack_context.py\", line 300, in null_wrapper\n",
            "    return fn(*args, **kwargs)\n",
            "  File \"/usr/local/lib/python3.7/dist-packages/zmq/eventloop/zmqstream.py\", line 452, in _handle_events\n",
            "    self._handle_recv()\n",
            "  File \"/usr/local/lib/python3.7/dist-packages/zmq/eventloop/zmqstream.py\", line 481, in _handle_recv\n",
            "    self._run_callback(callback, msg)\n",
            "  File \"/usr/local/lib/python3.7/dist-packages/zmq/eventloop/zmqstream.py\", line 431, in _run_callback\n",
            "    callback(*args, **kwargs)\n",
            "  File \"/usr/local/lib/python3.7/dist-packages/tornado/stack_context.py\", line 300, in null_wrapper\n",
            "    return fn(*args, **kwargs)\n",
            "  File \"/usr/local/lib/python3.7/dist-packages/ipykernel/kernelbase.py\", line 283, in dispatcher\n",
            "    return self.dispatch_shell(stream, msg)\n",
            "  File \"/usr/local/lib/python3.7/dist-packages/ipykernel/kernelbase.py\", line 233, in dispatch_shell\n",
            "    handler(stream, idents, msg)\n",
            "  File \"/usr/local/lib/python3.7/dist-packages/ipykernel/kernelbase.py\", line 399, in execute_request\n",
            "    user_expressions, allow_stdin)\n",
            "  File \"/usr/local/lib/python3.7/dist-packages/ipykernel/ipkernel.py\", line 208, in do_execute\n",
            "    res = shell.run_cell(code, store_history=store_history, silent=silent)\n",
            "  File \"/usr/local/lib/python3.7/dist-packages/ipykernel/zmqshell.py\", line 537, in run_cell\n",
            "    return super(ZMQInteractiveShell, self).run_cell(*args, **kwargs)\n",
            "  File \"/usr/local/lib/python3.7/dist-packages/IPython/core/interactiveshell.py\", line 2718, in run_cell\n",
            "    interactivity=interactivity, compiler=compiler, result=result)\n",
            "  File \"/usr/local/lib/python3.7/dist-packages/IPython/core/interactiveshell.py\", line 2822, in run_ast_nodes\n",
            "    if self.run_code(code, result):\n",
            "  File \"/usr/local/lib/python3.7/dist-packages/IPython/core/interactiveshell.py\", line 2882, in run_code\n",
            "    exec(code_obj, self.user_global_ns, self.user_ns)\n",
            "  File \"<ipython-input-93-710bbcbe35c6>\", line 1, in <module>\n",
            "    t,y= next(flow)\n",
            "  File \"<ipython-input-91-e093d0319eb3>\", line 10, in flow_from_dataframe\n",
            "    drop_duplicates=False)\n",
            "  File \"/usr/local/lib/python3.7/dist-packages/keras/preprocessing/image.py\", line 1109, in flow_from_dataframe\n",
            "    '`class_mode` \"raw\".', DeprecationWarning)\n",
            "  File \"/usr/local/lib/python3.7/dist-packages/tensorflow/python/platform/tf_logging.py\", line 178, in warning\n",
            "    get_logger().warning(msg, *args, **kwargs)\n",
            "Message: '`class_mode` \"other\" is deprecated, please use `class_mode` \"raw\".'\n",
            "Arguments: (<class 'DeprecationWarning'>,)\n",
            "--- Logging error ---\n",
            "Traceback (most recent call last):\n",
            "  File \"/usr/lib/python3.7/logging/__init__.py\", line 1025, in emit\n",
            "    msg = self.format(record)\n",
            "  File \"/usr/lib/python3.7/logging/__init__.py\", line 869, in format\n",
            "    return fmt.format(record)\n",
            "  File \"/usr/lib/python3.7/logging/__init__.py\", line 608, in format\n",
            "    record.message = record.getMessage()\n",
            "  File \"/usr/lib/python3.7/logging/__init__.py\", line 369, in getMessage\n",
            "    msg = msg % self.args\n",
            "TypeError: not all arguments converted during string formatting\n",
            "Call stack:\n",
            "  File \"/usr/lib/python3.7/runpy.py\", line 193, in _run_module_as_main\n",
            "    \"__main__\", mod_spec)\n",
            "  File \"/usr/lib/python3.7/runpy.py\", line 85, in _run_code\n",
            "    exec(code, run_globals)\n",
            "  File \"/usr/local/lib/python3.7/dist-packages/ipykernel_launcher.py\", line 16, in <module>\n",
            "    app.launch_new_instance()\n",
            "  File \"/usr/local/lib/python3.7/dist-packages/traitlets/config/application.py\", line 846, in launch_instance\n",
            "    app.start()\n",
            "  File \"/usr/local/lib/python3.7/dist-packages/ipykernel/kernelapp.py\", line 499, in start\n",
            "    self.io_loop.start()\n",
            "  File \"/usr/local/lib/python3.7/dist-packages/tornado/platform/asyncio.py\", line 132, in start\n",
            "    self.asyncio_loop.run_forever()\n",
            "  File \"/usr/lib/python3.7/asyncio/base_events.py\", line 541, in run_forever\n",
            "    self._run_once()\n",
            "  File \"/usr/lib/python3.7/asyncio/base_events.py\", line 1786, in _run_once\n",
            "    handle._run()\n",
            "  File \"/usr/lib/python3.7/asyncio/events.py\", line 88, in _run\n",
            "    self._context.run(self._callback, *self._args)\n",
            "  File \"/usr/local/lib/python3.7/dist-packages/tornado/platform/asyncio.py\", line 122, in _handle_events\n",
            "    handler_func(fileobj, events)\n",
            "  File \"/usr/local/lib/python3.7/dist-packages/tornado/stack_context.py\", line 300, in null_wrapper\n",
            "    return fn(*args, **kwargs)\n",
            "  File \"/usr/local/lib/python3.7/dist-packages/zmq/eventloop/zmqstream.py\", line 452, in _handle_events\n",
            "    self._handle_recv()\n",
            "  File \"/usr/local/lib/python3.7/dist-packages/zmq/eventloop/zmqstream.py\", line 481, in _handle_recv\n",
            "    self._run_callback(callback, msg)\n",
            "  File \"/usr/local/lib/python3.7/dist-packages/zmq/eventloop/zmqstream.py\", line 431, in _run_callback\n",
            "    callback(*args, **kwargs)\n",
            "  File \"/usr/local/lib/python3.7/dist-packages/tornado/stack_context.py\", line 300, in null_wrapper\n",
            "    return fn(*args, **kwargs)\n",
            "  File \"/usr/local/lib/python3.7/dist-packages/ipykernel/kernelbase.py\", line 283, in dispatcher\n",
            "    return self.dispatch_shell(stream, msg)\n",
            "  File \"/usr/local/lib/python3.7/dist-packages/ipykernel/kernelbase.py\", line 233, in dispatch_shell\n",
            "    handler(stream, idents, msg)\n",
            "  File \"/usr/local/lib/python3.7/dist-packages/ipykernel/kernelbase.py\", line 399, in execute_request\n",
            "    user_expressions, allow_stdin)\n",
            "  File \"/usr/local/lib/python3.7/dist-packages/ipykernel/ipkernel.py\", line 208, in do_execute\n",
            "    res = shell.run_cell(code, store_history=store_history, silent=silent)\n",
            "  File \"/usr/local/lib/python3.7/dist-packages/ipykernel/zmqshell.py\", line 537, in run_cell\n",
            "    return super(ZMQInteractiveShell, self).run_cell(*args, **kwargs)\n",
            "  File \"/usr/local/lib/python3.7/dist-packages/IPython/core/interactiveshell.py\", line 2718, in run_cell\n",
            "    interactivity=interactivity, compiler=compiler, result=result)\n",
            "  File \"/usr/local/lib/python3.7/dist-packages/IPython/core/interactiveshell.py\", line 2822, in run_ast_nodes\n",
            "    if self.run_code(code, result):\n",
            "  File \"/usr/local/lib/python3.7/dist-packages/IPython/core/interactiveshell.py\", line 2882, in run_code\n",
            "    exec(code_obj, self.user_global_ns, self.user_ns)\n",
            "  File \"<ipython-input-93-710bbcbe35c6>\", line 1, in <module>\n",
            "    t,y= next(flow)\n",
            "  File \"<ipython-input-91-e093d0319eb3>\", line 10, in flow_from_dataframe\n",
            "    drop_duplicates=False)\n",
            "  File \"/usr/local/lib/python3.7/dist-packages/keras/preprocessing/image.py\", line 1115, in flow_from_dataframe\n",
            "    DeprecationWarning)\n",
            "  File \"/usr/local/lib/python3.7/dist-packages/tensorflow/python/platform/tf_logging.py\", line 178, in warning\n",
            "    get_logger().warning(msg, *args, **kwargs)\n",
            "Message: 'drop_duplicates is deprecated, you can drop duplicates by using the pandas.DataFrame.drop_duplicates method.'\n",
            "Arguments: (<class 'DeprecationWarning'>,)\n"
          ]
        },
        {
          "name": "stdout",
          "output_type": "stream",
          "text": [
            "Found 6907 validated image filenames.\n"
          ]
        }
      ],
      "source": [
        "t,y= next(flow)"
      ]
    },
    {
      "cell_type": "code",
      "execution_count": null,
      "metadata": {
        "id": "rC29db_d2VYO"
      },
      "outputs": [],
      "source": [
        "from sklearn.model_selection import train_test_split\n",
        "X_train, X_test, y_train, y_test = train_test_split(t,y, \n",
        "                                   test_size = 0.30, \n",
        "                                   random_state = 2018)\n"
      ]
    },
    {
      "cell_type": "code",
      "execution_count": null,
      "metadata": {
        "colab": {
          "base_uri": "https://localhost:8080/"
        },
        "id": "d-5Fxc9r2VYO",
        "outputId": "400437a1-90d4-408c-850e-6be28c40e118"
      },
      "outputs": [
        {
          "name": "stdout",
          "output_type": "stream",
          "text": [
            "Model: \"sequential_4\"\n",
            "_________________________________________________________________\n",
            " Layer (type)                Output Shape              Param #   \n",
            "=================================================================\n",
            " mobilenet_1.00_128 (Functio  (None, 4, 4, 1024)       3228288   \n",
            " nal)                                                            \n",
            "                                                                 \n",
            " global_average_pooling2d_4   (None, 1024)             0         \n",
            " (GlobalAveragePooling2D)                                        \n",
            "                                                                 \n",
            " dropout_8 (Dropout)         (None, 1024)              0         \n",
            "                                                                 \n",
            " dense_8 (Dense)             (None, 512)               524800    \n",
            "                                                                 \n",
            " dropout_9 (Dropout)         (None, 512)               0         \n",
            "                                                                 \n",
            " dense_9 (Dense)             (None, 1)                 513       \n",
            "                                                                 \n",
            "=================================================================\n",
            "Total params: 3,753,601\n",
            "Trainable params: 3,731,713\n",
            "Non-trainable params: 21,888\n",
            "_________________________________________________________________\n"
          ]
        }
      ],
      "source": [
        "from keras.applications.mobilenet import MobileNet\n",
        "from keras.layers import GlobalAveragePooling2D, Dense, Dropout, Flatten\n",
        "from keras.models import Sequential\n",
        "mobilenet_model = MobileNet(input_shape =  X_train.shape[1:], \n",
        "                                 include_top = False, weights = None)\n",
        "mobilenet_GAP_model = Sequential()\n",
        "mobilenet_GAP_model.add(mobilenet_model)\n",
        "mobilenet_GAP_model.add(GlobalAveragePooling2D())\n",
        "mobilenet_GAP_model.add(Dropout(0.5))\n",
        "mobilenet_GAP_model.add(Dense(512))\n",
        "mobilenet_GAP_model.add(Dropout(0.5))\n",
        "mobilenet_GAP_model.add(Dense(1, activation = 'sigmoid'))\n",
        "mobilenet_GAP_model.compile(optimizer = 'adam', loss = 'binary_crossentropy',\n",
        "                           metrics = ['binary_accuracy', 'mae'])\n",
        "mobilenet_GAP_model.summary()"
      ]
    },
    {
      "cell_type": "code",
      "execution_count": null,
      "metadata": {
        "id": "cp6FD1Mj2VYP"
      },
      "outputs": [],
      "source": [
        "from keras.callbacks import ModelCheckpoint, LearningRateScheduler, EarlyStopping, ReduceLROnPlateau\n",
        "weight_path=\"{}_weights.best.hdf5\".format('xray_class')\n",
        "\n",
        "checkpoint = ModelCheckpoint(weight_path, monitor='val_loss', verbose=1, \n",
        "                             save_best_only=True, mode='min', save_weights_only = True)\n",
        "\n",
        "early = EarlyStopping(monitor=\"val_loss\", \n",
        "                      mode=\"min\", \n",
        "                      patience=3)\n",
        "callbacks_list = [checkpoint, early]"
      ]
    },
    {
      "cell_type": "code",
      "execution_count": null,
      "metadata": {
        "colab": {
          "base_uri": "https://localhost:8080/"
        },
        "id": "m617RKDs2VYQ",
        "outputId": "016f2bfd-b05b-4a0a-f5f7-563b13ed7710"
      },
      "outputs": [
        {
          "name": "stdout",
          "output_type": "stream",
          "text": [
            "Epoch 1/10\n",
            "10/10 [==============================] - ETA: 0s - loss: 1.6385 - binary_accuracy: 0.5838 - mae: 0.4182 \n",
            "Epoch 00001: val_loss improved from inf to 0.71625, saving model to xray_class_weights.best.hdf5\n",
            "10/10 [==============================] - 347s 34s/step - loss: 1.6385 - binary_accuracy: 0.5838 - mae: 0.4182 - val_loss: 0.7163 - val_binary_accuracy: 0.3314 - val_mae: 0.5106\n",
            "Epoch 2/10\n",
            "10/10 [==============================] - ETA: 0s - loss: 0.8681 - binary_accuracy: 0.6293 - mae: 0.3876 \n",
            "Epoch 00002: val_loss improved from 0.71625 to 0.71472, saving model to xray_class_weights.best.hdf5\n",
            "10/10 [==============================] - 353s 35s/step - loss: 0.8681 - binary_accuracy: 0.6293 - mae: 0.3876 - val_loss: 0.7147 - val_binary_accuracy: 0.3314 - val_mae: 0.5099\n",
            "Epoch 3/10\n",
            "10/10 [==============================] - ETA: 0s - loss: 0.7198 - binary_accuracy: 0.6477 - mae: 0.3774 \n",
            "Epoch 00003: val_loss did not improve from 0.71472\n",
            "10/10 [==============================] - 354s 36s/step - loss: 0.7198 - binary_accuracy: 0.6477 - mae: 0.3774 - val_loss: 0.7440 - val_binary_accuracy: 0.3314 - val_mae: 0.5213\n",
            "Epoch 4/10\n",
            "10/10 [==============================] - ETA: 0s - loss: 0.6401 - binary_accuracy: 0.6620 - mae: 0.3744 \n",
            "Epoch 00004: val_loss improved from 0.71472 to 0.71075, saving model to xray_class_weights.best.hdf5\n",
            "10/10 [==============================] - 352s 35s/step - loss: 0.6401 - binary_accuracy: 0.6620 - mae: 0.3744 - val_loss: 0.7107 - val_binary_accuracy: 0.3314 - val_mae: 0.5082\n",
            "Epoch 5/10\n",
            "10/10 [==============================] - ETA: 0s - loss: 0.5733 - binary_accuracy: 0.6874 - mae: 0.3657 \n",
            "Epoch 00005: val_loss improved from 0.71075 to 0.70123, saving model to xray_class_weights.best.hdf5\n",
            "10/10 [==============================] - 351s 35s/step - loss: 0.5733 - binary_accuracy: 0.6874 - mae: 0.3657 - val_loss: 0.7012 - val_binary_accuracy: 0.3314 - val_mae: 0.5039\n",
            "Epoch 6/10\n",
            "10/10 [==============================] - ETA: 0s - loss: 0.4942 - binary_accuracy: 0.7298 - mae: 0.3244 \n",
            "Epoch 00006: val_loss did not improve from 0.70123\n",
            "10/10 [==============================] - 352s 35s/step - loss: 0.4942 - binary_accuracy: 0.7298 - mae: 0.3244 - val_loss: 0.7205 - val_binary_accuracy: 0.3314 - val_mae: 0.5123\n",
            "Epoch 7/10\n",
            "10/10 [==============================] - ETA: 0s - loss: 0.4037 - binary_accuracy: 0.7950 - mae: 0.2674 \n",
            "Epoch 00007: val_loss did not improve from 0.70123\n",
            "10/10 [==============================] - 352s 35s/step - loss: 0.4037 - binary_accuracy: 0.7950 - mae: 0.2674 - val_loss: 0.7944 - val_binary_accuracy: 0.3314 - val_mae: 0.5374\n",
            "Epoch 8/10\n",
            "10/10 [==============================] - ETA: 0s - loss: 0.2971 - binary_accuracy: 0.8728 - mae: 0.1946 \n",
            "Epoch 00008: val_loss did not improve from 0.70123\n",
            "10/10 [==============================] - 342s 34s/step - loss: 0.2971 - binary_accuracy: 0.8728 - mae: 0.1946 - val_loss: 0.8934 - val_binary_accuracy: 0.3314 - val_mae: 0.5615\n"
          ]
        }
      ],
      "source": [
        "history_mobilenet_GAP = mobilenet_GAP_model.fit(X_train,y_train,\n",
        "                                  steps_per_epoch=10,\n",
        "                                  validation_data = (X_test, y_test), \n",
        "                                  epochs = 10, \n",
        "                                  callbacks = callbacks_list)"
      ]
    },
    {
      "cell_type": "code",
      "execution_count": null,
      "metadata": {
        "colab": {
          "base_uri": "https://localhost:8080/"
        },
        "id": "o3NljIbJ2VYR",
        "outputId": "df46820c-291c-4444-fc38-334ec700fab1"
      },
      "outputs": [
        {
          "name": "stdout",
          "output_type": "stream",
          "text": [
            "65/65 [==============================] - 23s 348ms/step\n"
          ]
        }
      ],
      "source": [
        "pred_Y = mobilenet_GAP_model.predict(X_test, \n",
        "                          batch_size = 32, \n",
        "                          verbose = True)"
      ]
    },
    {
      "cell_type": "code",
      "execution_count": null,
      "metadata": {
        "colab": {
          "base_uri": "https://localhost:8080/"
        },
        "id": "NL36_6vt2VYS",
        "outputId": "c000ee2b-0191-4b26-e509-07b3eb394eff"
      },
      "outputs": [
        {
          "data": {
            "text/plain": [
              "array([[0.6823489 ],\n",
              "       [0.6823489 ],\n",
              "       [0.6823489 ],\n",
              "       ...,\n",
              "       [0.6823489 ],\n",
              "       [0.6823489 ],\n",
              "       [0.68234897]], dtype=float32)"
            ]
          },
          "execution_count": 99,
          "metadata": {},
          "output_type": "execute_result"
        }
      ],
      "source": [
        "pred_Y"
      ]
    },
    {
      "cell_type": "code",
      "execution_count": null,
      "metadata": {
        "colab": {
          "base_uri": "https://localhost:8080/"
        },
        "id": "gNZvEQ0R2VYT",
        "outputId": "18c294ad-0f26-4e7b-b20b-5a41127d0cf6"
      },
      "outputs": [
        {
          "data": {
            "text/plain": [
              "array([0.6823489], dtype=float32)"
            ]
          },
          "execution_count": 100,
          "metadata": {},
          "output_type": "execute_result"
        }
      ],
      "source": [
        "min(pred_Y)"
      ]
    },
    {
      "cell_type": "code",
      "execution_count": null,
      "metadata": {
        "colab": {
          "base_uri": "https://localhost:8080/"
        },
        "id": "0u0UCmL92VYT",
        "outputId": "0b873653-12e0-4bb7-9e45-9250f81bf159"
      },
      "outputs": [
        {
          "name": "stdout",
          "output_type": "stream",
          "text": [
            "test accuracy =  0.3314037621021271\n"
          ]
        }
      ],
      "source": [
        "print('test accuracy = ',mobilenet_GAP_model.evaluate(X_test,y_test, verbose=0)[1])"
      ]
    },
    {
      "cell_type": "code",
      "execution_count": null,
      "metadata": {
        "colab": {
          "base_uri": "https://localhost:8080/"
        },
        "id": "PjMqu6ax2VYU",
        "outputId": "f3cfa7cb-dd05-45b0-bd45-40a8e690e0ef"
      },
      "outputs": [
        {
          "name": "stdout",
          "output_type": "stream",
          "text": [
            "roc score =  0.49651852271939606\n"
          ]
        }
      ],
      "source": [
        "from sklearn.metrics import roc_auc_score\n",
        "print('roc score = ',roc_auc_score(y_test.astype(int), pred_Y))"
      ]
    },
    {
      "cell_type": "code",
      "execution_count": null,
      "metadata": {
        "colab": {
          "base_uri": "https://localhost:8080/",
          "height": 430
        },
        "id": "T19ZdF7C2VYV",
        "outputId": "9edb84b3-8884-4e70-fad4-e88ec3d124a6"
      },
      "outputs": [
        {
          "name": "stdout",
          "output_type": "stream",
          "text": [
            "              precision    recall  f1-score   support\n",
            "\n",
            "    No Edema       0.67      0.96      0.79      1386\n",
            "       Edema       0.29      0.03      0.05       687\n",
            "\n",
            "    accuracy                           0.65      2073\n",
            "   macro avg       0.48      0.50      0.42      2073\n",
            "weighted avg       0.54      0.65      0.54      2073\n",
            "\n"
          ]
        },
        {
          "data": {
            "image/png": "[encoded data removed]",
            "text/plain": [
              "<Figure size 288x288 with 1 Axes>"
            ]
          },
          "metadata": {},
          "output_type": "display_data"
        }
      ],
      "source": [
        "from sklearn.metrics import classification_report, confusion_matrix\n",
        "plt.matshow(confusion_matrix(y_test, pred_Y>0.6823489))\n",
        "print(classification_report(y_test, pred_Y>0.6823489, target_names = ['No Edema', ' Edema']))"
      ]
    },
    {
      "cell_type": "markdown",
      "metadata": {
        "id": "cGTza3yr2WQH"
      },
      "source": [
        "## **Effusion**"
      ]
    },
    {
      "cell_type": "code",
      "execution_count": null,
      "metadata": {
        "colab": {
          "base_uri": "https://localhost:8080/",
          "height": 266
        },
        "id": "WC_AJCqq2Wue",
        "outputId": "17cfabe7-83ea-491b-92e2-047fc6d4a9f2"
      },
      "outputs": [
        {
          "name": "stdout",
          "output_type": "stream",
          "text": [
            "0    26632\n",
            "1    13317\n",
            "Name: Effusion, dtype: int64\n"
          ]
        },
        {
          "data": {
            "text/plain": [
              "<seaborn.axisgrid.PairGrid at 0x7f8809919650>"
            ]
          },
          "execution_count": 8,
          "metadata": {},
          "output_type": "execute_result"
        },
        {
          "data": {
            "image/png": "[encoded data removed]",
            "text/plain": [
              "<Figure size 228.375x180 with 2 Axes>"
            ]
          },
          "metadata": {},
          "output_type": "display_data"
        }
      ],
      "source": [
        "positive_cases = np.sum(all_xray_df['Effusion']==True)//2\n",
        "oversample_factor = 4 # maximum number of cases in negative group so it isn't super rare\n",
        "more_balanced_df = all_xray_df.groupby(['Effusion']).apply(lambda x: x.sample(min(oversample_factor*positive_cases, x.shape[0]), \n",
        "                                                                                   replace = False)\n",
        "                                                      ).reset_index(drop = True)\n",
        "\n",
        "print(more_balanced_df['Effusion'].value_counts())\n",
        "sns.pairplot(more_balanced_df[['Patient Age', 'Effusion']], hue='Effusion')"
      ]
    },
    {
      "cell_type": "code",
      "execution_count": null,
      "metadata": {
        "colab": {
          "base_uri": "https://localhost:8080/",
          "height": 240
        },
        "id": "RGDogyHs2Wuf",
        "outputId": "78195fe2-583b-4720-b4cc-da5d1cc3d729"
      },
      "outputs": [
        {
          "name": "stdout",
          "output_type": "stream",
          "text": [
            "train 27964 validation 7191 test 4794\n",
            "train 0    18642\n",
            "1     9322\n",
            "Name: Effusion, dtype: int64\n",
            "test 0    3196\n",
            "1    1598\n",
            "Name: Effusion, dtype: int64\n"
          ]
        },
        {
          "data": {
            "text/html": [
              "<div>\n",
              "<style scoped>\n",
              "    .dataframe tbody tr th:only-of-type {\n",
              "        vertical-align: middle;\n",
              "    }\n",
              "\n",
              "    .dataframe tbody tr th {\n",
              "        vertical-align: top;\n",
              "    }\n",
              "\n",
              "    .dataframe thead th {\n",
              "        text-align: right;\n",
              "    }\n",
              "</style>\n",
              "<table border=\"1\" class=\"dataframe\">\n",
              "  <thead>\n",
              "    <tr style=\"text-align: right;\">\n",
              "      <th></th>\n",
              "      <th>Image Index</th>\n",
              "      <th>Finding Labels</th>\n",
              "      <th>Follow-up #</th>\n",
              "      <th>Patient ID</th>\n",
              "      <th>Patient Age</th>\n",
              "      <th>Patient Gender</th>\n",
              "      <th>View Position</th>\n",
              "      <th>OriginalImage[Width</th>\n",
              "      <th>Height]</th>\n",
              "      <th>OriginalImagePixelSpacing[x</th>\n",
              "      <th>y]</th>\n",
              "      <th>path</th>\n",
              "      <th>Pneumonia</th>\n",
              "      <th>Patient Male</th>\n",
              "      <th>Cardiomegaly</th>\n",
              "      <th>Emphysema</th>\n",
              "      <th>Effusion</th>\n",
              "      <th>Hernia</th>\n",
              "      <th>Nodule</th>\n",
              "      <th>Pneumothorax</th>\n",
              "      <th>Atelectasis</th>\n",
              "      <th>Pleural_Thickening</th>\n",
              "      <th>Mass</th>\n",
              "      <th>Edema</th>\n",
              "      <th>Consolidation</th>\n",
              "      <th>Infiltration</th>\n",
              "      <th>Fibrosis</th>\n",
              "      <th>Nothing</th>\n",
              "    </tr>\n",
              "  </thead>\n",
              "  <tbody>\n",
              "    <tr>\n",
              "      <th>39619</th>\n",
              "      <td>00000116_034.png</td>\n",
              "      <td>Cardiomegaly|Effusion|Pleural_Thickening</td>\n",
              "      <td>34</td>\n",
              "      <td>116</td>\n",
              "      <td>74</td>\n",
              "      <td>F</td>\n",
              "      <td>AP</td>\n",
              "      <td>2500</td>\n",
              "      <td>2048</td>\n",
              "      <td>0.168</td>\n",
              "      <td>0.168</td>\n",
              "      <td>/content/drive/MyDrive/Images/image1/00000116_...</td>\n",
              "      <td>False</td>\n",
              "      <td>0.0</td>\n",
              "      <td>1</td>\n",
              "      <td>0</td>\n",
              "      <td>1</td>\n",
              "      <td>0</td>\n",
              "      <td>0</td>\n",
              "      <td>0</td>\n",
              "      <td>0</td>\n",
              "      <td>1</td>\n",
              "      <td>0</td>\n",
              "      <td>0</td>\n",
              "      <td>0</td>\n",
              "      <td>0</td>\n",
              "      <td>0</td>\n",
              "      <td>0</td>\n",
              "    </tr>\n",
              "  </tbody>\n",
              "</table>\n",
              "</div>"
            ],
            "text/plain": [
              "            Image Index  ... Nothing\n",
              "39619  00000116_034.png  ...       0\n",
              "\n",
              "[1 rows x 28 columns]"
            ]
          },
          "execution_count": 9,
          "metadata": {},
          "output_type": "execute_result"
        }
      ],
      "source": [
        "from sklearn.model_selection import train_test_split\n",
        "raw_train_df, test_valid_df = train_test_split(more_balanced_df, \n",
        "                                   test_size = 0.30, \n",
        "                                   random_state = 2018,\n",
        "                                   stratify = more_balanced_df[['Effusion']])\n",
        "valid_df, test_df = train_test_split(test_valid_df, \n",
        "                                   test_size = 0.40, \n",
        "                                   random_state = 2018,\n",
        "                                   stratify = test_valid_df[['Effusion']])\n",
        "print('train', raw_train_df.shape[0], 'validation', valid_df.shape[0], 'test', test_df.shape[0])\n",
        "print('train', raw_train_df['Effusion'].value_counts())\n",
        "print('test', test_df['Effusion'].value_counts())\n",
        "raw_train_df.sample(1)"
      ]
    },
    {
      "cell_type": "code",
      "execution_count": null,
      "metadata": {
        "colab": {
          "base_uri": "https://localhost:8080/"
        },
        "id": "6nenMQZ32Wuf",
        "outputId": "83735fc5-5461-467c-df29-e01f6593e1fa"
      },
      "outputs": [
        {
          "name": "stdout",
          "output_type": "stream",
          "text": [
            "New Data Size: 4000 Old Size: 27964\n"
          ]
        }
      ],
      "source": [
        "train_df = raw_train_df.groupby(['Effusion']).apply(lambda x: x.sample(2000, replace = True)\n",
        "                                                      ).reset_index(drop = True)\n",
        "print('New Data Size:', train_df.shape[0], 'Old Size:', raw_train_df.shape[0])"
      ]
    },
    {
      "cell_type": "code",
      "execution_count": null,
      "metadata": {
        "id": "MrVJoNFa2Wuf"
      },
      "outputs": [],
      "source": [
        "from keras.preprocessing.image import ImageDataGenerator\n",
        "idg = ImageDataGenerator(zoom_range=0.2,\n",
        "                           fill_mode='nearest',\n",
        "                           rotation_range=25,  \n",
        "                           width_shift_range=0.25,  \n",
        "                           height_shift_range=0.25,  \n",
        "                           vertical_flip=False, \n",
        "                           horizontal_flip=True,\n",
        "                           shear_range = 0.2,\n",
        "                           samplewise_center=False, \n",
        "                           samplewise_std_normalization=False)\n"
      ]
    },
    {
      "cell_type": "code",
      "execution_count": null,
      "metadata": {
        "id": "ZKmEgqDZ2Wug"
      },
      "outputs": [],
      "source": [
        "SEED= 10\n",
        "IMG_SIZE = (128, 128) \n",
        "####\n",
        "def flow_from_dataframe(imgDatGen, df, batch_size, seed, img_size):\n",
        "    #gc.collect()\n",
        "    gen_img = imgDatGen.flow_from_dataframe(dataframe=more_balanced_df,\n",
        "        x_col='path', y_col='Effusion',\n",
        "        batch_size=batch_size, seed=seed, shuffle=True, class_mode='other',\n",
        "        target_size=img_size, color_mode='grayscale',\n",
        "        drop_duplicates=False)\n",
        "\n",
        "    \n",
        "        \n",
        "    while True:\n",
        "        X1i = gen_img.next()\n",
        "        #X2i = gen_img.next()\n",
        "        #gc.collect()\n",
        "        yield [X1i[0], X1i[1]]"
      ]
    },
    {
      "cell_type": "code",
      "execution_count": null,
      "metadata": {
        "id": "TaRWt68c2Wug"
      },
      "outputs": [],
      "source": [
        "flow = flow_from_dataframe(idg, more_balanced_df, 7151, SEED, IMG_SIZE)"
      ]
    },
    {
      "cell_type": "code",
      "execution_count": null,
      "metadata": {
        "colab": {
          "base_uri": "https://localhost:8080/"
        },
        "id": "WTkF3nPD2Wug",
        "outputId": "26193699-3225-45f1-980c-7f4470593262"
      },
      "outputs": [
        {
          "name": "stderr",
          "output_type": "stream",
          "text": [
            "--- Logging error ---\n",
            "Traceback (most recent call last):\n",
            "  File \"/usr/lib/python3.7/logging/__init__.py\", line 1025, in emit\n",
            "    msg = self.format(record)\n",
            "  File \"/usr/lib/python3.7/logging/__init__.py\", line 869, in format\n",
            "    return fmt.format(record)\n",
            "  File \"/usr/lib/python3.7/logging/__init__.py\", line 608, in format\n",
            "    record.message = record.getMessage()\n",
            "  File \"/usr/lib/python3.7/logging/__init__.py\", line 369, in getMessage\n",
            "    msg = msg % self.args\n",
            "TypeError: not all arguments converted during string formatting\n",
            "Call stack:\n",
            "  File \"/usr/lib/python3.7/runpy.py\", line 193, in _run_module_as_main\n",
            "    \"__main__\", mod_spec)\n",
            "  File \"/usr/lib/python3.7/runpy.py\", line 85, in _run_code\n",
            "    exec(code, run_globals)\n",
            "  File \"/usr/local/lib/python3.7/dist-packages/ipykernel_launcher.py\", line 16, in <module>\n",
            "    app.launch_new_instance()\n",
            "  File \"/usr/local/lib/python3.7/dist-packages/traitlets/config/application.py\", line 846, in launch_instance\n",
            "    app.start()\n",
            "  File \"/usr/local/lib/python3.7/dist-packages/ipykernel/kernelapp.py\", line 499, in start\n",
            "    self.io_loop.start()\n",
            "  File \"/usr/local/lib/python3.7/dist-packages/tornado/platform/asyncio.py\", line 132, in start\n",
            "    self.asyncio_loop.run_forever()\n",
            "  File \"/usr/lib/python3.7/asyncio/base_events.py\", line 541, in run_forever\n",
            "    self._run_once()\n",
            "  File \"/usr/lib/python3.7/asyncio/base_events.py\", line 1786, in _run_once\n",
            "    handle._run()\n",
            "  File \"/usr/lib/python3.7/asyncio/events.py\", line 88, in _run\n",
            "    self._context.run(self._callback, *self._args)\n",
            "  File \"/usr/local/lib/python3.7/dist-packages/tornado/platform/asyncio.py\", line 122, in _handle_events\n",
            "    handler_func(fileobj, events)\n",
            "  File \"/usr/local/lib/python3.7/dist-packages/tornado/stack_context.py\", line 300, in null_wrapper\n",
            "    return fn(*args, **kwargs)\n",
            "  File \"/usr/local/lib/python3.7/dist-packages/zmq/eventloop/zmqstream.py\", line 452, in _handle_events\n",
            "    self._handle_recv()\n",
            "  File \"/usr/local/lib/python3.7/dist-packages/zmq/eventloop/zmqstream.py\", line 481, in _handle_recv\n",
            "    self._run_callback(callback, msg)\n",
            "  File \"/usr/local/lib/python3.7/dist-packages/zmq/eventloop/zmqstream.py\", line 431, in _run_callback\n",
            "    callback(*args, **kwargs)\n",
            "  File \"/usr/local/lib/python3.7/dist-packages/tornado/stack_context.py\", line 300, in null_wrapper\n",
            "    return fn(*args, **kwargs)\n",
            "  File \"/usr/local/lib/python3.7/dist-packages/ipykernel/kernelbase.py\", line 283, in dispatcher\n",
            "    return self.dispatch_shell(stream, msg)\n",
            "  File \"/usr/local/lib/python3.7/dist-packages/ipykernel/kernelbase.py\", line 233, in dispatch_shell\n",
            "    handler(stream, idents, msg)\n",
            "  File \"/usr/local/lib/python3.7/dist-packages/ipykernel/kernelbase.py\", line 399, in execute_request\n",
            "    user_expressions, allow_stdin)\n",
            "  File \"/usr/local/lib/python3.7/dist-packages/ipykernel/ipkernel.py\", line 208, in do_execute\n",
            "    res = shell.run_cell(code, store_history=store_history, silent=silent)\n",
            "  File \"/usr/local/lib/python3.7/dist-packages/ipykernel/zmqshell.py\", line 537, in run_cell\n",
            "    return super(ZMQInteractiveShell, self).run_cell(*args, **kwargs)\n",
            "  File \"/usr/local/lib/python3.7/dist-packages/IPython/core/interactiveshell.py\", line 2718, in run_cell\n",
            "    interactivity=interactivity, compiler=compiler, result=result)\n",
            "  File \"/usr/local/lib/python3.7/dist-packages/IPython/core/interactiveshell.py\", line 2822, in run_ast_nodes\n",
            "    if self.run_code(code, result):\n",
            "  File \"/usr/local/lib/python3.7/dist-packages/IPython/core/interactiveshell.py\", line 2882, in run_code\n",
            "    exec(code_obj, self.user_global_ns, self.user_ns)\n",
            "  File \"<ipython-input-15-710bbcbe35c6>\", line 1, in <module>\n",
            "    t,y= next(flow)\n",
            "  File \"<ipython-input-13-4548b04ae416>\", line 10, in flow_from_dataframe\n",
            "    drop_duplicates=False)\n",
            "  File \"/usr/local/lib/python3.7/dist-packages/keras/preprocessing/image.py\", line 1109, in flow_from_dataframe\n",
            "    '`class_mode` \"raw\".', DeprecationWarning)\n",
            "  File \"/usr/local/lib/python3.7/dist-packages/tensorflow/python/platform/tf_logging.py\", line 178, in warning\n",
            "    get_logger().warning(msg, *args, **kwargs)\n",
            "Message: '`class_mode` \"other\" is deprecated, please use `class_mode` \"raw\".'\n",
            "Arguments: (<class 'DeprecationWarning'>,)\n",
            "--- Logging error ---\n",
            "Traceback (most recent call last):\n",
            "  File \"/usr/lib/python3.7/logging/__init__.py\", line 1025, in emit\n",
            "    msg = self.format(record)\n",
            "  File \"/usr/lib/python3.7/logging/__init__.py\", line 869, in format\n",
            "    return fmt.format(record)\n",
            "  File \"/usr/lib/python3.7/logging/__init__.py\", line 608, in format\n",
            "    record.message = record.getMessage()\n",
            "  File \"/usr/lib/python3.7/logging/__init__.py\", line 369, in getMessage\n",
            "    msg = msg % self.args\n",
            "TypeError: not all arguments converted during string formatting\n",
            "Call stack:\n",
            "  File \"/usr/lib/python3.7/runpy.py\", line 193, in _run_module_as_main\n",
            "    \"__main__\", mod_spec)\n",
            "  File \"/usr/lib/python3.7/runpy.py\", line 85, in _run_code\n",
            "    exec(code, run_globals)\n",
            "  File \"/usr/local/lib/python3.7/dist-packages/ipykernel_launcher.py\", line 16, in <module>\n",
            "    app.launch_new_instance()\n",
            "  File \"/usr/local/lib/python3.7/dist-packages/traitlets/config/application.py\", line 846, in launch_instance\n",
            "    app.start()\n",
            "  File \"/usr/local/lib/python3.7/dist-packages/ipykernel/kernelapp.py\", line 499, in start\n",
            "    self.io_loop.start()\n",
            "  File \"/usr/local/lib/python3.7/dist-packages/tornado/platform/asyncio.py\", line 132, in start\n",
            "    self.asyncio_loop.run_forever()\n",
            "  File \"/usr/lib/python3.7/asyncio/base_events.py\", line 541, in run_forever\n",
            "    self._run_once()\n",
            "  File \"/usr/lib/python3.7/asyncio/base_events.py\", line 1786, in _run_once\n",
            "    handle._run()\n",
            "  File \"/usr/lib/python3.7/asyncio/events.py\", line 88, in _run\n",
            "    self._context.run(self._callback, *self._args)\n",
            "  File \"/usr/local/lib/python3.7/dist-packages/tornado/platform/asyncio.py\", line 122, in _handle_events\n",
            "    handler_func(fileobj, events)\n",
            "  File \"/usr/local/lib/python3.7/dist-packages/tornado/stack_context.py\", line 300, in null_wrapper\n",
            "    return fn(*args, **kwargs)\n",
            "  File \"/usr/local/lib/python3.7/dist-packages/zmq/eventloop/zmqstream.py\", line 452, in _handle_events\n",
            "    self._handle_recv()\n",
            "  File \"/usr/local/lib/python3.7/dist-packages/zmq/eventloop/zmqstream.py\", line 481, in _handle_recv\n",
            "    self._run_callback(callback, msg)\n",
            "  File \"/usr/local/lib/python3.7/dist-packages/zmq/eventloop/zmqstream.py\", line 431, in _run_callback\n",
            "    callback(*args, **kwargs)\n",
            "  File \"/usr/local/lib/python3.7/dist-packages/tornado/stack_context.py\", line 300, in null_wrapper\n",
            "    return fn(*args, **kwargs)\n",
            "  File \"/usr/local/lib/python3.7/dist-packages/ipykernel/kernelbase.py\", line 283, in dispatcher\n",
            "    return self.dispatch_shell(stream, msg)\n",
            "  File \"/usr/local/lib/python3.7/dist-packages/ipykernel/kernelbase.py\", line 233, in dispatch_shell\n",
            "    handler(stream, idents, msg)\n",
            "  File \"/usr/local/lib/python3.7/dist-packages/ipykernel/kernelbase.py\", line 399, in execute_request\n",
            "    user_expressions, allow_stdin)\n",
            "  File \"/usr/local/lib/python3.7/dist-packages/ipykernel/ipkernel.py\", line 208, in do_execute\n",
            "    res = shell.run_cell(code, store_history=store_history, silent=silent)\n",
            "  File \"/usr/local/lib/python3.7/dist-packages/ipykernel/zmqshell.py\", line 537, in run_cell\n",
            "    return super(ZMQInteractiveShell, self).run_cell(*args, **kwargs)\n",
            "  File \"/usr/local/lib/python3.7/dist-packages/IPython/core/interactiveshell.py\", line 2718, in run_cell\n",
            "    interactivity=interactivity, compiler=compiler, result=result)\n",
            "  File \"/usr/local/lib/python3.7/dist-packages/IPython/core/interactiveshell.py\", line 2822, in run_ast_nodes\n",
            "    if self.run_code(code, result):\n",
            "  File \"/usr/local/lib/python3.7/dist-packages/IPython/core/interactiveshell.py\", line 2882, in run_code\n",
            "    exec(code_obj, self.user_global_ns, self.user_ns)\n",
            "  File \"<ipython-input-15-710bbcbe35c6>\", line 1, in <module>\n",
            "    t,y= next(flow)\n",
            "  File \"<ipython-input-13-4548b04ae416>\", line 10, in flow_from_dataframe\n",
            "    drop_duplicates=False)\n",
            "  File \"/usr/local/lib/python3.7/dist-packages/keras/preprocessing/image.py\", line 1115, in flow_from_dataframe\n",
            "    DeprecationWarning)\n",
            "  File \"/usr/local/lib/python3.7/dist-packages/tensorflow/python/platform/tf_logging.py\", line 178, in warning\n",
            "    get_logger().warning(msg, *args, **kwargs)\n",
            "Message: 'drop_duplicates is deprecated, you can drop duplicates by using the pandas.DataFrame.drop_duplicates method.'\n",
            "Arguments: (<class 'DeprecationWarning'>,)\n"
          ]
        },
        {
          "name": "stdout",
          "output_type": "stream",
          "text": [
            "Found 39949 validated image filenames.\n"
          ]
        }
      ],
      "source": [
        "t,y= next(flow)"
      ]
    },
    {
      "cell_type": "code",
      "execution_count": null,
      "metadata": {
        "id": "Mq22B_ww2Wug"
      },
      "outputs": [],
      "source": [
        "from sklearn.model_selection import train_test_split\n",
        "X_train, X_test, y_train, y_test = train_test_split(t,y, \n",
        "                                   test_size = 0.30, \n",
        "                                   random_state = 2018)\n"
      ]
    },
    {
      "cell_type": "code",
      "execution_count": null,
      "metadata": {
        "colab": {
          "base_uri": "https://localhost:8080/"
        },
        "id": "9d2i8_Er2Wug",
        "outputId": "a11e96c4-e1f9-4567-fb67-39d9c381426a"
      },
      "outputs": [
        {
          "name": "stdout",
          "output_type": "stream",
          "text": [
            "Model: \"sequential\"\n",
            "_________________________________________________________________\n",
            " Layer (type)                Output Shape              Param #   \n",
            "=================================================================\n",
            " mobilenet_1.00_128 (Functio  (None, 4, 4, 1024)       3228288   \n",
            " nal)                                                            \n",
            "                                                                 \n",
            " global_average_pooling2d (G  (None, 1024)             0         \n",
            " lobalAveragePooling2D)                                          \n",
            "                                                                 \n",
            " dropout (Dropout)           (None, 1024)              0         \n",
            "                                                                 \n",
            " dense (Dense)               (None, 512)               524800    \n",
            "                                                                 \n",
            " dropout_1 (Dropout)         (None, 512)               0         \n",
            "                                                                 \n",
            " dense_1 (Dense)             (None, 1)                 513       \n",
            "                                                                 \n",
            "=================================================================\n",
            "Total params: 3,753,601\n",
            "Trainable params: 3,731,713\n",
            "Non-trainable params: 21,888\n",
            "_________________________________________________________________\n"
          ]
        }
      ],
      "source": [
        "from keras.applications.mobilenet import MobileNet\n",
        "from keras.layers import GlobalAveragePooling2D, Dense, Dropout, Flatten\n",
        "from keras.models import Sequential\n",
        "mobilenet_model = MobileNet(input_shape =  X_train.shape[1:], \n",
        "                                 include_top = False, weights = None)\n",
        "mobilenet_GAP_model = Sequential()\n",
        "mobilenet_GAP_model.add(mobilenet_model)\n",
        "mobilenet_GAP_model.add(GlobalAveragePooling2D())\n",
        "mobilenet_GAP_model.add(Dropout(0.5))\n",
        "mobilenet_GAP_model.add(Dense(512))\n",
        "mobilenet_GAP_model.add(Dropout(0.5))\n",
        "mobilenet_GAP_model.add(Dense(1, activation = 'sigmoid'))\n",
        "mobilenet_GAP_model.compile(optimizer = 'adam', loss = 'binary_crossentropy',\n",
        "                           metrics = ['binary_accuracy', 'mae'])\n",
        "mobilenet_GAP_model.summary()"
      ]
    },
    {
      "cell_type": "code",
      "execution_count": null,
      "metadata": {
        "id": "X906KF212Wuh"
      },
      "outputs": [],
      "source": [
        "from keras.callbacks import ModelCheckpoint, LearningRateScheduler, EarlyStopping, ReduceLROnPlateau\n",
        "weight_path=\"{}_weights.best.hdf5\".format('xray_class')\n",
        "\n",
        "checkpoint = ModelCheckpoint(weight_path, monitor='val_loss', verbose=1, \n",
        "                             save_best_only=True, mode='min', save_weights_only = True)\n",
        "\n",
        "early = EarlyStopping(monitor=\"val_loss\", \n",
        "                      mode=\"min\", \n",
        "                      patience=3)\n",
        "callbacks_list = [checkpoint, early]"
      ]
    },
    {
      "cell_type": "code",
      "execution_count": null,
      "metadata": {
        "colab": {
          "base_uri": "https://localhost:8080/"
        },
        "id": "fqNkXw8Q2Wuh",
        "outputId": "2e48bacc-3947-4bdb-991f-e5f00165d75d"
      },
      "outputs": [
        {
          "name": "stdout",
          "output_type": "stream",
          "text": [
            "Epoch 1/10\n",
            "10/10 [==============================] - ETA: 0s - loss: 1.6379 - binary_accuracy: 0.5882 - mae: 0.4151 \n",
            "Epoch 00001: val_loss improved from inf to 0.68022, saving model to xray_class_weights.best.hdf5\n",
            "10/10 [==============================] - 433s 43s/step - loss: 1.6379 - binary_accuracy: 0.5882 - mae: 0.4151 - val_loss: 0.6802 - val_binary_accuracy: 0.6771 - val_mae: 0.4932\n",
            "Epoch 2/10\n",
            "10/10 [==============================] - ETA: 0s - loss: 0.9632 - binary_accuracy: 0.5712 - mae: 0.4456 \n",
            "Epoch 00002: val_loss improved from 0.68022 to 0.66556, saving model to xray_class_weights.best.hdf5\n",
            "10/10 [==============================] - 356s 36s/step - loss: 0.9632 - binary_accuracy: 0.5712 - mae: 0.4456 - val_loss: 0.6656 - val_binary_accuracy: 0.6771 - val_mae: 0.4843\n",
            "Epoch 3/10\n",
            "10/10 [==============================] - ETA: 0s - loss: 0.8080 - binary_accuracy: 0.6346 - mae: 0.4412 \n",
            "Epoch 00003: val_loss did not improve from 0.66556\n",
            "10/10 [==============================] - 362s 36s/step - loss: 0.8080 - binary_accuracy: 0.6346 - mae: 0.4412 - val_loss: 0.6670 - val_binary_accuracy: 0.6771 - val_mae: 0.4852\n",
            "Epoch 4/10\n",
            "10/10 [==============================] - ETA: 0s - loss: 0.7757 - binary_accuracy: 0.6593 - mae: 0.4266 \n",
            "Epoch 00004: val_loss improved from 0.66556 to 0.65928, saving model to xray_class_weights.best.hdf5\n",
            "10/10 [==============================] - 362s 36s/step - loss: 0.7757 - binary_accuracy: 0.6593 - mae: 0.4266 - val_loss: 0.6593 - val_binary_accuracy: 0.6771 - val_mae: 0.4799\n",
            "Epoch 5/10\n",
            "10/10 [==============================] - ETA: 0s - loss: 0.7065 - binary_accuracy: 0.6482 - mae: 0.4354 \n",
            "Epoch 00005: val_loss improved from 0.65928 to 0.63716, saving model to xray_class_weights.best.hdf5\n",
            "10/10 [==============================] - 354s 36s/step - loss: 0.7065 - binary_accuracy: 0.6482 - mae: 0.4354 - val_loss: 0.6372 - val_binary_accuracy: 0.6771 - val_mae: 0.4590\n",
            "Epoch 6/10\n",
            "10/10 [==============================] - ETA: 0s - loss: 0.6687 - binary_accuracy: 0.6476 - mae: 0.4263 \n",
            "Epoch 00006: val_loss did not improve from 0.63716\n",
            "10/10 [==============================] - 357s 36s/step - loss: 0.6687 - binary_accuracy: 0.6476 - mae: 0.4263 - val_loss: 0.6471 - val_binary_accuracy: 0.6771 - val_mae: 0.4699\n",
            "Epoch 7/10\n",
            "10/10 [==============================] - ETA: 0s - loss: 0.6361 - binary_accuracy: 0.6729 - mae: 0.4059 \n",
            "Epoch 00007: val_loss did not improve from 0.63716\n",
            "10/10 [==============================] - 351s 35s/step - loss: 0.6361 - binary_accuracy: 0.6729 - mae: 0.4059 - val_loss: 0.6629 - val_binary_accuracy: 0.6771 - val_mae: 0.4825\n",
            "Epoch 8/10\n",
            "10/10 [==============================] - ETA: 0s - loss: 0.5879 - binary_accuracy: 0.6883 - mae: 0.3854 \n",
            "Epoch 00008: val_loss did not improve from 0.63716\n",
            "10/10 [==============================] - 360s 36s/step - loss: 0.5879 - binary_accuracy: 0.6883 - mae: 0.3854 - val_loss: 0.6582 - val_binary_accuracy: 0.6771 - val_mae: 0.4791\n"
          ]
        }
      ],
      "source": [
        "history_mobilenet_GAP = mobilenet_GAP_model.fit(X_train,y_train,\n",
        "                                  steps_per_epoch=10,\n",
        "                                  validation_data = (X_test, y_test), \n",
        "                                  epochs = 10, \n",
        "                                  callbacks = callbacks_list)"
      ]
    },
    {
      "cell_type": "code",
      "execution_count": null,
      "metadata": {
        "colab": {
          "base_uri": "https://localhost:8080/"
        },
        "id": "eTy2V6nj2Wuh",
        "outputId": "f5941c51-90cf-4d8d-ea2f-0898c7c62a55"
      },
      "outputs": [
        {
          "name": "stdout",
          "output_type": "stream",
          "text": [
            "68/68 [==============================] - 39s 558ms/step\n"
          ]
        }
      ],
      "source": [
        "pred_Y = mobilenet_GAP_model.predict(X_test, \n",
        "                          batch_size = 32, \n",
        "                          verbose = True)"
      ]
    },
    {
      "cell_type": "code",
      "execution_count": null,
      "metadata": {
        "colab": {
          "base_uri": "https://localhost:8080/"
        },
        "id": "e8WoZajB2Wuh",
        "outputId": "55d319ed-c9b5-4762-8b3c-ad8765c9c9b4"
      },
      "outputs": [
        {
          "data": {
            "text/plain": [
              "array([[0.44098994],\n",
              "       [0.44098994],\n",
              "       [0.44098994],\n",
              "       ...,\n",
              "       [0.44098994],\n",
              "       [0.44098994],\n",
              "       [0.44098994]], dtype=float32)"
            ]
          },
          "execution_count": 21,
          "metadata": {},
          "output_type": "execute_result"
        }
      ],
      "source": [
        "pred_Y"
      ]
    },
    {
      "cell_type": "code",
      "execution_count": null,
      "metadata": {
        "colab": {
          "base_uri": "https://localhost:8080/"
        },
        "id": "o0hAuvYV2Wui",
        "outputId": "dfb5cb6a-8d7b-4a4c-99d4-91047d689057"
      },
      "outputs": [
        {
          "data": {
            "text/plain": [
              "array([0.44098994], dtype=float32)"
            ]
          },
          "execution_count": 22,
          "metadata": {},
          "output_type": "execute_result"
        }
      ],
      "source": [
        "min(pred_Y)"
      ]
    },
    {
      "cell_type": "code",
      "execution_count": null,
      "metadata": {
        "colab": {
          "base_uri": "https://localhost:8080/"
        },
        "id": "BX3tBf0d2Wui",
        "outputId": "69d8d767-4e49-4aaf-b4aa-4363788fee03"
      },
      "outputs": [
        {
          "name": "stdout",
          "output_type": "stream",
          "text": [
            "test accuracy =  0.67707359790802\n"
          ]
        }
      ],
      "source": [
        "print('test accuracy = ',mobilenet_GAP_model.evaluate(X_test,y_test, verbose=0)[1])"
      ]
    },
    {
      "cell_type": "code",
      "execution_count": null,
      "metadata": {
        "colab": {
          "base_uri": "https://localhost:8080/"
        },
        "id": "8_83WXj52Wui",
        "outputId": "c72ea8e6-28fa-4f44-8300-e146c421f9d5"
      },
      "outputs": [
        {
          "name": "stdout",
          "output_type": "stream",
          "text": [
            "roc score =  0.5\n"
          ]
        }
      ],
      "source": [
        "from sklearn.metrics import roc_auc_score\n",
        "print('roc score = ',roc_auc_score(y_test.astype(int), pred_Y))"
      ]
    },
    {
      "cell_type": "code",
      "execution_count": null,
      "metadata": {
        "colab": {
          "base_uri": "https://localhost:8080/",
          "height": 554
        },
        "id": "3eDo1H752Wui",
        "outputId": "8081b749-a208-484b-97c5-b0581dba83ae"
      },
      "outputs": [
        {
          "name": "stdout",
          "output_type": "stream",
          "text": [
            "              precision    recall  f1-score   support\n",
            "\n",
            " No Effusion       0.68      1.00      0.81      1453\n",
            "    Effusion       0.00      0.00      0.00       693\n",
            "\n",
            "    accuracy                           0.68      2146\n",
            "   macro avg       0.34      0.50      0.40      2146\n",
            "weighted avg       0.46      0.68      0.55      2146\n",
            "\n"
          ]
        },
        {
          "name": "stderr",
          "output_type": "stream",
          "text": [
            "/usr/local/lib/python3.7/dist-packages/sklearn/metrics/_classification.py:1308: UndefinedMetricWarning: Precision and F-score are ill-defined and being set to 0.0 in labels with no predicted samples. Use `zero_division` parameter to control this behavior.\n",
            "  _warn_prf(average, modifier, msg_start, len(result))\n",
            "/usr/local/lib/python3.7/dist-packages/sklearn/metrics/_classification.py:1308: UndefinedMetricWarning: Precision and F-score are ill-defined and being set to 0.0 in labels with no predicted samples. Use `zero_division` parameter to control this behavior.\n",
            "  _warn_prf(average, modifier, msg_start, len(result))\n",
            "/usr/local/lib/python3.7/dist-packages/sklearn/metrics/_classification.py:1308: UndefinedMetricWarning: Precision and F-score are ill-defined and being set to 0.0 in labels with no predicted samples. Use `zero_division` parameter to control this behavior.\n",
            "  _warn_prf(average, modifier, msg_start, len(result))\n"
          ]
        },
        {
          "data": {
            "image/png": "[encoded data removed]",
            "text/plain": [
              "<Figure size 288x288 with 1 Axes>"
            ]
          },
          "metadata": {},
          "output_type": "display_data"
        }
      ],
      "source": [
        "from sklearn.metrics import classification_report, confusion_matrix\n",
        "plt.matshow(confusion_matrix(y_test, pred_Y>0.44098994))\n",
        "print(classification_report(y_test, pred_Y>0.44098994, target_names = ['No Effusion', ' Effusion']))"
      ]
    },
    {
      "cell_type": "markdown",
      "metadata": {
        "id": "Jf4j4YaA2XrT"
      },
      "source": [
        "## **Emphysema**"
      ]
    },
    {
      "cell_type": "code",
      "execution_count": null,
      "metadata": {
        "colab": {
          "base_uri": "https://localhost:8080/",
          "height": 266
        },
        "id": "1ya9Isk92YLg",
        "outputId": "1ac9ea11-82af-4bed-8866-51b73b92a614"
      },
      "outputs": [
        {
          "name": "stdout",
          "output_type": "stream",
          "text": [
            "0    5032\n",
            "1    2516\n",
            "Name: Emphysema, dtype: int64\n"
          ]
        },
        {
          "data": {
            "text/plain": [
              "<seaborn.axisgrid.PairGrid at 0x7f879381d910>"
            ]
          },
          "execution_count": 26,
          "metadata": {},
          "output_type": "execute_result"
        },
        {
          "data": {
            "image/png": "[encoded data removed]",
            "text/plain": [
              "<Figure size 249.5x180 with 2 Axes>"
            ]
          },
          "metadata": {},
          "output_type": "display_data"
        }
      ],
      "source": [
        "positive_cases = np.sum(all_xray_df['Emphysema']==True)//2\n",
        "oversample_factor = 4 # maximum number of cases in negative group so it isn't super rare\n",
        "more_balanced_df = all_xray_df.groupby(['Emphysema']).apply(lambda x: x.sample(min(oversample_factor*positive_cases, x.shape[0]), \n",
        "                                                                                   replace = False)\n",
        "                                                      ).reset_index(drop = True)\n",
        "\n",
        "print(more_balanced_df['Emphysema'].value_counts())\n",
        "sns.pairplot(more_balanced_df[['Patient Age', 'Emphysema']], hue='Emphysema')"
      ]
    },
    {
      "cell_type": "code",
      "execution_count": null,
      "metadata": {
        "colab": {
          "base_uri": "https://localhost:8080/",
          "height": 240
        },
        "id": "Bf_ZVvXT2YLh",
        "outputId": "f89979bd-de87-47db-dfbf-378c387d3ee8"
      },
      "outputs": [
        {
          "name": "stdout",
          "output_type": "stream",
          "text": [
            "train 5283 validation 1359 test 906\n",
            "train 0    3522\n",
            "1    1761\n",
            "Name: Emphysema, dtype: int64\n",
            "test 0    604\n",
            "1    302\n",
            "Name: Emphysema, dtype: int64\n"
          ]
        },
        {
          "data": {
            "text/html": [
              "<div>\n",
              "<style scoped>\n",
              "    .dataframe tbody tr th:only-of-type {\n",
              "        vertical-align: middle;\n",
              "    }\n",
              "\n",
              "    .dataframe tbody tr th {\n",
              "        vertical-align: top;\n",
              "    }\n",
              "\n",
              "    .dataframe thead th {\n",
              "        text-align: right;\n",
              "    }\n",
              "</style>\n",
              "<table border=\"1\" class=\"dataframe\">\n",
              "  <thead>\n",
              "    <tr style=\"text-align: right;\">\n",
              "      <th></th>\n",
              "      <th>Image Index</th>\n",
              "      <th>Finding Labels</th>\n",
              "      <th>Follow-up #</th>\n",
              "      <th>Patient ID</th>\n",
              "      <th>Patient Age</th>\n",
              "      <th>Patient Gender</th>\n",
              "      <th>View Position</th>\n",
              "      <th>OriginalImage[Width</th>\n",
              "      <th>Height]</th>\n",
              "      <th>OriginalImagePixelSpacing[x</th>\n",
              "      <th>y]</th>\n",
              "      <th>path</th>\n",
              "      <th>Pneumonia</th>\n",
              "      <th>Patient Male</th>\n",
              "      <th>Cardiomegaly</th>\n",
              "      <th>Emphysema</th>\n",
              "      <th>Effusion</th>\n",
              "      <th>Hernia</th>\n",
              "      <th>Nodule</th>\n",
              "      <th>Pneumothorax</th>\n",
              "      <th>Atelectasis</th>\n",
              "      <th>Pleural_Thickening</th>\n",
              "      <th>Mass</th>\n",
              "      <th>Edema</th>\n",
              "      <th>Consolidation</th>\n",
              "      <th>Infiltration</th>\n",
              "      <th>Fibrosis</th>\n",
              "      <th>Nothing</th>\n",
              "    </tr>\n",
              "  </thead>\n",
              "  <tbody>\n",
              "    <tr>\n",
              "      <th>5993</th>\n",
              "      <td>00015685_004.png</td>\n",
              "      <td>Emphysema|Mass</td>\n",
              "      <td>4</td>\n",
              "      <td>15685</td>\n",
              "      <td>75</td>\n",
              "      <td>F</td>\n",
              "      <td>AP</td>\n",
              "      <td>2500</td>\n",
              "      <td>2048</td>\n",
              "      <td>0.168</td>\n",
              "      <td>0.168</td>\n",
              "      <td>/content/drive/MyDrive/Images/image7/00015685_...</td>\n",
              "      <td>False</td>\n",
              "      <td>0.0</td>\n",
              "      <td>0</td>\n",
              "      <td>1</td>\n",
              "      <td>0</td>\n",
              "      <td>0</td>\n",
              "      <td>0</td>\n",
              "      <td>0</td>\n",
              "      <td>0</td>\n",
              "      <td>0</td>\n",
              "      <td>1</td>\n",
              "      <td>0</td>\n",
              "      <td>0</td>\n",
              "      <td>0</td>\n",
              "      <td>0</td>\n",
              "      <td>0</td>\n",
              "    </tr>\n",
              "  </tbody>\n",
              "</table>\n",
              "</div>"
            ],
            "text/plain": [
              "           Image Index  Finding Labels  ...  Fibrosis  Nothing\n",
              "5993  00015685_004.png  Emphysema|Mass  ...         0        0\n",
              "\n",
              "[1 rows x 28 columns]"
            ]
          },
          "execution_count": 27,
          "metadata": {},
          "output_type": "execute_result"
        }
      ],
      "source": [
        "from sklearn.model_selection import train_test_split\n",
        "raw_train_df, test_valid_df = train_test_split(more_balanced_df, \n",
        "                                   test_size = 0.30, \n",
        "                                   random_state = 2018,\n",
        "                                   stratify = more_balanced_df[['Emphysema']])\n",
        "valid_df, test_df = train_test_split(test_valid_df, \n",
        "                                   test_size = 0.40, \n",
        "                                   random_state = 2018,\n",
        "                                   stratify = test_valid_df[['Emphysema']])\n",
        "print('train', raw_train_df.shape[0], 'validation', valid_df.shape[0], 'test', test_df.shape[0])\n",
        "print('train', raw_train_df['Emphysema'].value_counts())\n",
        "print('test', test_df['Emphysema'].value_counts())\n",
        "raw_train_df.sample(1)"
      ]
    },
    {
      "cell_type": "code",
      "execution_count": null,
      "metadata": {
        "colab": {
          "base_uri": "https://localhost:8080/"
        },
        "id": "r_BaM0S-2YLh",
        "outputId": "60f79be2-682f-44ca-ca12-402419e0c551"
      },
      "outputs": [
        {
          "name": "stdout",
          "output_type": "stream",
          "text": [
            "New Data Size: 4000 Old Size: 5283\n"
          ]
        }
      ],
      "source": [
        "train_df = raw_train_df.groupby(['Emphysema']).apply(lambda x: x.sample(2000, replace = True)\n",
        "                                                      ).reset_index(drop = True)\n",
        "print('New Data Size:', train_df.shape[0], 'Old Size:', raw_train_df.shape[0])"
      ]
    },
    {
      "cell_type": "code",
      "execution_count": null,
      "metadata": {
        "id": "MuLqYYGH2YLh"
      },
      "outputs": [],
      "source": [
        "from keras.preprocessing.image import ImageDataGenerator\n",
        "idg = ImageDataGenerator(zoom_range=0.2,\n",
        "                           fill_mode='nearest',\n",
        "                           rotation_range=25,  \n",
        "                           width_shift_range=0.25,  \n",
        "                           height_shift_range=0.25,  \n",
        "                           vertical_flip=False, \n",
        "                           horizontal_flip=True,\n",
        "                           shear_range = 0.2,\n",
        "                           samplewise_center=False, \n",
        "                           samplewise_std_normalization=False)\n"
      ]
    },
    {
      "cell_type": "code",
      "execution_count": null,
      "metadata": {
        "id": "GhZzyT2D2YLi"
      },
      "outputs": [],
      "source": [
        "SEED= 10\n",
        "IMG_SIZE = (128, 128) \n",
        "####\n",
        "def flow_from_dataframe(imgDatGen, df, batch_size, seed, img_size):\n",
        "    #gc.collect()\n",
        "    gen_img = imgDatGen.flow_from_dataframe(dataframe=more_balanced_df,\n",
        "        x_col='path', y_col='Emphysema',\n",
        "        batch_size=batch_size, seed=seed, shuffle=True, class_mode='other',\n",
        "        target_size=img_size, color_mode='grayscale',\n",
        "        drop_duplicates=False)\n",
        "\n",
        "    \n",
        "        \n",
        "    while True:\n",
        "        X1i = gen_img.next()\n",
        "        #X2i = gen_img.next()\n",
        "        #gc.collect()\n",
        "        yield [X1i[0], X1i[1]]"
      ]
    },
    {
      "cell_type": "code",
      "execution_count": null,
      "metadata": {
        "id": "kaUWri082YLi"
      },
      "outputs": [],
      "source": [
        "flow = flow_from_dataframe(idg, more_balanced_df, 7151, SEED, IMG_SIZE)"
      ]
    },
    {
      "cell_type": "code",
      "execution_count": null,
      "metadata": {
        "colab": {
          "base_uri": "https://localhost:8080/"
        },
        "id": "5pvugDJG2YLi",
        "outputId": "01a42506-a428-4ace-ec9f-3a50dc6fb037"
      },
      "outputs": [
        {
          "name": "stderr",
          "output_type": "stream",
          "text": [
            "--- Logging error ---\n",
            "Traceback (most recent call last):\n",
            "  File \"/usr/lib/python3.7/logging/__init__.py\", line 1025, in emit\n",
            "    msg = self.format(record)\n",
            "  File \"/usr/lib/python3.7/logging/__init__.py\", line 869, in format\n",
            "    return fmt.format(record)\n",
            "  File \"/usr/lib/python3.7/logging/__init__.py\", line 608, in format\n",
            "    record.message = record.getMessage()\n",
            "  File \"/usr/lib/python3.7/logging/__init__.py\", line 369, in getMessage\n",
            "    msg = msg % self.args\n",
            "TypeError: not all arguments converted during string formatting\n",
            "Call stack:\n",
            "  File \"/usr/lib/python3.7/runpy.py\", line 193, in _run_module_as_main\n",
            "    \"__main__\", mod_spec)\n",
            "  File \"/usr/lib/python3.7/runpy.py\", line 85, in _run_code\n",
            "    exec(code, run_globals)\n",
            "  File \"/usr/local/lib/python3.7/dist-packages/ipykernel_launcher.py\", line 16, in <module>\n",
            "    app.launch_new_instance()\n",
            "  File \"/usr/local/lib/python3.7/dist-packages/traitlets/config/application.py\", line 846, in launch_instance\n",
            "    app.start()\n",
            "  File \"/usr/local/lib/python3.7/dist-packages/ipykernel/kernelapp.py\", line 499, in start\n",
            "    self.io_loop.start()\n",
            "  File \"/usr/local/lib/python3.7/dist-packages/tornado/platform/asyncio.py\", line 132, in start\n",
            "    self.asyncio_loop.run_forever()\n",
            "  File \"/usr/lib/python3.7/asyncio/base_events.py\", line 541, in run_forever\n",
            "    self._run_once()\n",
            "  File \"/usr/lib/python3.7/asyncio/base_events.py\", line 1786, in _run_once\n",
            "    handle._run()\n",
            "  File \"/usr/lib/python3.7/asyncio/events.py\", line 88, in _run\n",
            "    self._context.run(self._callback, *self._args)\n",
            "  File \"/usr/local/lib/python3.7/dist-packages/tornado/platform/asyncio.py\", line 122, in _handle_events\n",
            "    handler_func(fileobj, events)\n",
            "  File \"/usr/local/lib/python3.7/dist-packages/tornado/stack_context.py\", line 300, in null_wrapper\n",
            "    return fn(*args, **kwargs)\n",
            "  File \"/usr/local/lib/python3.7/dist-packages/zmq/eventloop/zmqstream.py\", line 452, in _handle_events\n",
            "    self._handle_recv()\n",
            "  File \"/usr/local/lib/python3.7/dist-packages/zmq/eventloop/zmqstream.py\", line 481, in _handle_recv\n",
            "    self._run_callback(callback, msg)\n",
            "  File \"/usr/local/lib/python3.7/dist-packages/zmq/eventloop/zmqstream.py\", line 431, in _run_callback\n",
            "    callback(*args, **kwargs)\n",
            "  File \"/usr/local/lib/python3.7/dist-packages/tornado/stack_context.py\", line 300, in null_wrapper\n",
            "    return fn(*args, **kwargs)\n",
            "  File \"/usr/local/lib/python3.7/dist-packages/ipykernel/kernelbase.py\", line 283, in dispatcher\n",
            "    return self.dispatch_shell(stream, msg)\n",
            "  File \"/usr/local/lib/python3.7/dist-packages/ipykernel/kernelbase.py\", line 233, in dispatch_shell\n",
            "    handler(stream, idents, msg)\n",
            "  File \"/usr/local/lib/python3.7/dist-packages/ipykernel/kernelbase.py\", line 399, in execute_request\n",
            "    user_expressions, allow_stdin)\n",
            "  File \"/usr/local/lib/python3.7/dist-packages/ipykernel/ipkernel.py\", line 208, in do_execute\n",
            "    res = shell.run_cell(code, store_history=store_history, silent=silent)\n",
            "  File \"/usr/local/lib/python3.7/dist-packages/ipykernel/zmqshell.py\", line 537, in run_cell\n",
            "    return super(ZMQInteractiveShell, self).run_cell(*args, **kwargs)\n",
            "  File \"/usr/local/lib/python3.7/dist-packages/IPython/core/interactiveshell.py\", line 2718, in run_cell\n",
            "    interactivity=interactivity, compiler=compiler, result=result)\n",
            "  File \"/usr/local/lib/python3.7/dist-packages/IPython/core/interactiveshell.py\", line 2822, in run_ast_nodes\n",
            "    if self.run_code(code, result):\n",
            "  File \"/usr/local/lib/python3.7/dist-packages/IPython/core/interactiveshell.py\", line 2882, in run_code\n",
            "    exec(code_obj, self.user_global_ns, self.user_ns)\n",
            "  File \"<ipython-input-32-710bbcbe35c6>\", line 1, in <module>\n",
            "    t,y= next(flow)\n",
            "  File \"<ipython-input-30-35e2989434df>\", line 10, in flow_from_dataframe\n",
            "    drop_duplicates=False)\n",
            "  File \"/usr/local/lib/python3.7/dist-packages/keras/preprocessing/image.py\", line 1109, in flow_from_dataframe\n",
            "    '`class_mode` \"raw\".', DeprecationWarning)\n",
            "  File \"/usr/local/lib/python3.7/dist-packages/tensorflow/python/platform/tf_logging.py\", line 178, in warning\n",
            "    get_logger().warning(msg, *args, **kwargs)\n",
            "Message: '`class_mode` \"other\" is deprecated, please use `class_mode` \"raw\".'\n",
            "Arguments: (<class 'DeprecationWarning'>,)\n",
            "--- Logging error ---\n",
            "Traceback (most recent call last):\n",
            "  File \"/usr/lib/python3.7/logging/__init__.py\", line 1025, in emit\n",
            "    msg = self.format(record)\n",
            "  File \"/usr/lib/python3.7/logging/__init__.py\", line 869, in format\n",
            "    return fmt.format(record)\n",
            "  File \"/usr/lib/python3.7/logging/__init__.py\", line 608, in format\n",
            "    record.message = record.getMessage()\n",
            "  File \"/usr/lib/python3.7/logging/__init__.py\", line 369, in getMessage\n",
            "    msg = msg % self.args\n",
            "TypeError: not all arguments converted during string formatting\n",
            "Call stack:\n",
            "  File \"/usr/lib/python3.7/runpy.py\", line 193, in _run_module_as_main\n",
            "    \"__main__\", mod_spec)\n",
            "  File \"/usr/lib/python3.7/runpy.py\", line 85, in _run_code\n",
            "    exec(code, run_globals)\n",
            "  File \"/usr/local/lib/python3.7/dist-packages/ipykernel_launcher.py\", line 16, in <module>\n",
            "    app.launch_new_instance()\n",
            "  File \"/usr/local/lib/python3.7/dist-packages/traitlets/config/application.py\", line 846, in launch_instance\n",
            "    app.start()\n",
            "  File \"/usr/local/lib/python3.7/dist-packages/ipykernel/kernelapp.py\", line 499, in start\n",
            "    self.io_loop.start()\n",
            "  File \"/usr/local/lib/python3.7/dist-packages/tornado/platform/asyncio.py\", line 132, in start\n",
            "    self.asyncio_loop.run_forever()\n",
            "  File \"/usr/lib/python3.7/asyncio/base_events.py\", line 541, in run_forever\n",
            "    self._run_once()\n",
            "  File \"/usr/lib/python3.7/asyncio/base_events.py\", line 1786, in _run_once\n",
            "    handle._run()\n",
            "  File \"/usr/lib/python3.7/asyncio/events.py\", line 88, in _run\n",
            "    self._context.run(self._callback, *self._args)\n",
            "  File \"/usr/local/lib/python3.7/dist-packages/tornado/platform/asyncio.py\", line 122, in _handle_events\n",
            "    handler_func(fileobj, events)\n",
            "  File \"/usr/local/lib/python3.7/dist-packages/tornado/stack_context.py\", line 300, in null_wrapper\n",
            "    return fn(*args, **kwargs)\n",
            "  File \"/usr/local/lib/python3.7/dist-packages/zmq/eventloop/zmqstream.py\", line 452, in _handle_events\n",
            "    self._handle_recv()\n",
            "  File \"/usr/local/lib/python3.7/dist-packages/zmq/eventloop/zmqstream.py\", line 481, in _handle_recv\n",
            "    self._run_callback(callback, msg)\n",
            "  File \"/usr/local/lib/python3.7/dist-packages/zmq/eventloop/zmqstream.py\", line 431, in _run_callback\n",
            "    callback(*args, **kwargs)\n",
            "  File \"/usr/local/lib/python3.7/dist-packages/tornado/stack_context.py\", line 300, in null_wrapper\n",
            "    return fn(*args, **kwargs)\n",
            "  File \"/usr/local/lib/python3.7/dist-packages/ipykernel/kernelbase.py\", line 283, in dispatcher\n",
            "    return self.dispatch_shell(stream, msg)\n",
            "  File \"/usr/local/lib/python3.7/dist-packages/ipykernel/kernelbase.py\", line 233, in dispatch_shell\n",
            "    handler(stream, idents, msg)\n",
            "  File \"/usr/local/lib/python3.7/dist-packages/ipykernel/kernelbase.py\", line 399, in execute_request\n",
            "    user_expressions, allow_stdin)\n",
            "  File \"/usr/local/lib/python3.7/dist-packages/ipykernel/ipkernel.py\", line 208, in do_execute\n",
            "    res = shell.run_cell(code, store_history=store_history, silent=silent)\n",
            "  File \"/usr/local/lib/python3.7/dist-packages/ipykernel/zmqshell.py\", line 537, in run_cell\n",
            "    return super(ZMQInteractiveShell, self).run_cell(*args, **kwargs)\n",
            "  File \"/usr/local/lib/python3.7/dist-packages/IPython/core/interactiveshell.py\", line 2718, in run_cell\n",
            "    interactivity=interactivity, compiler=compiler, result=result)\n",
            "  File \"/usr/local/lib/python3.7/dist-packages/IPython/core/interactiveshell.py\", line 2822, in run_ast_nodes\n",
            "    if self.run_code(code, result):\n",
            "  File \"/usr/local/lib/python3.7/dist-packages/IPython/core/interactiveshell.py\", line 2882, in run_code\n",
            "    exec(code_obj, self.user_global_ns, self.user_ns)\n",
            "  File \"<ipython-input-32-710bbcbe35c6>\", line 1, in <module>\n",
            "    t,y= next(flow)\n",
            "  File \"<ipython-input-30-35e2989434df>\", line 10, in flow_from_dataframe\n",
            "    drop_duplicates=False)\n",
            "  File \"/usr/local/lib/python3.7/dist-packages/keras/preprocessing/image.py\", line 1115, in flow_from_dataframe\n",
            "    DeprecationWarning)\n",
            "  File \"/usr/local/lib/python3.7/dist-packages/tensorflow/python/platform/tf_logging.py\", line 178, in warning\n",
            "    get_logger().warning(msg, *args, **kwargs)\n",
            "Message: 'drop_duplicates is deprecated, you can drop duplicates by using the pandas.DataFrame.drop_duplicates method.'\n",
            "Arguments: (<class 'DeprecationWarning'>,)\n"
          ]
        },
        {
          "name": "stdout",
          "output_type": "stream",
          "text": [
            "Found 7548 validated image filenames.\n"
          ]
        }
      ],
      "source": [
        "t,y= next(flow)"
      ]
    },
    {
      "cell_type": "code",
      "execution_count": null,
      "metadata": {
        "id": "KZaCpGOT2YLi"
      },
      "outputs": [],
      "source": [
        "from sklearn.model_selection import train_test_split\n",
        "X_train, X_test, y_train, y_test = train_test_split(t,y, \n",
        "                                   test_size = 0.30, \n",
        "                                   random_state = 2018)\n"
      ]
    },
    {
      "cell_type": "code",
      "execution_count": null,
      "metadata": {
        "colab": {
          "base_uri": "https://localhost:8080/"
        },
        "id": "zqt4879e2YLi",
        "outputId": "7e655f03-7cd3-4a89-80aa-9a1b60dd1872"
      },
      "outputs": [
        {
          "name": "stdout",
          "output_type": "stream",
          "text": [
            "Model: \"sequential_1\"\n",
            "_________________________________________________________________\n",
            " Layer (type)                Output Shape              Param #   \n",
            "=================================================================\n",
            " mobilenet_1.00_128 (Functio  (None, 4, 4, 1024)       3228288   \n",
            " nal)                                                            \n",
            "                                                                 \n",
            " global_average_pooling2d_1   (None, 1024)             0         \n",
            " (GlobalAveragePooling2D)                                        \n",
            "                                                                 \n",
            " dropout_2 (Dropout)         (None, 1024)              0         \n",
            "                                                                 \n",
            " dense_2 (Dense)             (None, 512)               524800    \n",
            "                                                                 \n",
            " dropout_3 (Dropout)         (None, 512)               0         \n",
            "                                                                 \n",
            " dense_3 (Dense)             (None, 1)                 513       \n",
            "                                                                 \n",
            "=================================================================\n",
            "Total params: 3,753,601\n",
            "Trainable params: 3,731,713\n",
            "Non-trainable params: 21,888\n",
            "_________________________________________________________________\n"
          ]
        }
      ],
      "source": [
        "from keras.applications.mobilenet import MobileNet\n",
        "from keras.layers import GlobalAveragePooling2D, Dense, Dropout, Flatten\n",
        "from keras.models import Sequential\n",
        "mobilenet_model = MobileNet(input_shape =  X_train.shape[1:], \n",
        "                                 include_top = False, weights = None)\n",
        "mobilenet_GAP_model = Sequential()\n",
        "mobilenet_GAP_model.add(mobilenet_model)\n",
        "mobilenet_GAP_model.add(GlobalAveragePooling2D())\n",
        "mobilenet_GAP_model.add(Dropout(0.5))\n",
        "mobilenet_GAP_model.add(Dense(512))\n",
        "mobilenet_GAP_model.add(Dropout(0.5))\n",
        "mobilenet_GAP_model.add(Dense(1, activation = 'sigmoid'))\n",
        "mobilenet_GAP_model.compile(optimizer = 'adam', loss = 'binary_crossentropy',\n",
        "                           metrics = ['binary_accuracy', 'mae'])\n",
        "mobilenet_GAP_model.summary()"
      ]
    },
    {
      "cell_type": "code",
      "execution_count": null,
      "metadata": {
        "id": "GwyAo74v2YLj"
      },
      "outputs": [],
      "source": [
        "from keras.callbacks import ModelCheckpoint, LearningRateScheduler, EarlyStopping, ReduceLROnPlateau\n",
        "weight_path=\"{}_weights.best.hdf5\".format('xray_class')\n",
        "\n",
        "checkpoint = ModelCheckpoint(weight_path, monitor='val_loss', verbose=1, \n",
        "                             save_best_only=True, mode='min', save_weights_only = True)\n",
        "\n",
        "early = EarlyStopping(monitor=\"val_loss\", \n",
        "                      mode=\"min\", \n",
        "                      patience=3)\n",
        "callbacks_list = [checkpoint, early]"
      ]
    },
    {
      "cell_type": "code",
      "execution_count": null,
      "metadata": {
        "colab": {
          "base_uri": "https://localhost:8080/"
        },
        "id": "jnyulaOi2YLj",
        "outputId": "9830aed8-2d86-4ade-ca39-18c8e88a1f2e"
      },
      "outputs": [
        {
          "name": "stdout",
          "output_type": "stream",
          "text": [
            "Epoch 1/10\n",
            "10/10 [==============================] - ETA: 0s - loss: 1.9042 - binary_accuracy: 0.5616 - mae: 0.4454 \n",
            "Epoch 00001: val_loss improved from inf to 0.67694, saving model to xray_class_weights.best.hdf5\n",
            "10/10 [==============================] - 364s 35s/step - loss: 1.9042 - binary_accuracy: 0.5616 - mae: 0.4454 - val_loss: 0.6769 - val_binary_accuracy: 0.6612 - val_mae: 0.4912\n",
            "Epoch 2/10\n",
            "10/10 [==============================] - ETA: 0s - loss: 0.9804 - binary_accuracy: 0.5616 - mae: 0.4502 \n",
            "Epoch 00002: val_loss improved from 0.67694 to 0.66422, saving model to xray_class_weights.best.hdf5\n",
            "10/10 [==============================] - 353s 36s/step - loss: 0.9804 - binary_accuracy: 0.5616 - mae: 0.4502 - val_loss: 0.6642 - val_binary_accuracy: 0.6612 - val_mae: 0.4827\n",
            "Epoch 3/10\n",
            "10/10 [==============================] - ETA: 0s - loss: 0.7879 - binary_accuracy: 0.5960 - mae: 0.4458 \n",
            "Epoch 00003: val_loss did not improve from 0.66422\n",
            "10/10 [==============================] - 347s 35s/step - loss: 0.7879 - binary_accuracy: 0.5960 - mae: 0.4458 - val_loss: 0.6721 - val_binary_accuracy: 0.6612 - val_mae: 0.4881\n",
            "Epoch 4/10\n",
            "10/10 [==============================] - ETA: 0s - loss: 0.7449 - binary_accuracy: 0.6274 - mae: 0.4361 \n",
            "Epoch 00004: val_loss did not improve from 0.66422\n",
            "10/10 [==============================] - 355s 36s/step - loss: 0.7449 - binary_accuracy: 0.6274 - mae: 0.4361 - val_loss: 0.6819 - val_binary_accuracy: 0.6612 - val_mae: 0.4940\n",
            "Epoch 5/10\n",
            "10/10 [==============================] - ETA: 0s - loss: 0.7125 - binary_accuracy: 0.6450 - mae: 0.4373 \n",
            "Epoch 00005: val_loss improved from 0.66422 to 0.65465, saving model to xray_class_weights.best.hdf5\n",
            "10/10 [==============================] - 348s 35s/step - loss: 0.7125 - binary_accuracy: 0.6450 - mae: 0.4373 - val_loss: 0.6546 - val_binary_accuracy: 0.6612 - val_mae: 0.4748\n",
            "Epoch 6/10\n",
            " 3/10 [========>.....................] - ETA: 3:49 - loss: 0.6533 - binary_accuracy: 0.6780 - mae: 0.4252"
          ]
        }
      ],
      "source": [
        "history_mobilenet_GAP = mobilenet_GAP_model.fit(X_train,y_train,\n",
        "                                  steps_per_epoch=10,\n",
        "                                  validation_data = (X_test, y_test), \n",
        "                                  epochs = 10, \n",
        "                                  callbacks = callbacks_list)"
      ]
    },
    {
      "cell_type": "code",
      "execution_count": null,
      "metadata": {
        "id": "AD-QkHB22YLj"
      },
      "outputs": [],
      "source": [
        "pred_Y = mobilenet_GAP_model.predict(X_test, \n",
        "                          batch_size = 32, \n",
        "                          verbose = True)"
      ]
    },
    {
      "cell_type": "code",
      "execution_count": null,
      "metadata": {
        "colab": {
          "base_uri": "https://localhost:8080/"
        },
        "id": "vhza3_542YLj",
        "outputId": "2683f3e2-520d-44ba-a7b3-b637708de66d"
      },
      "outputs": [
        {
          "data": {
            "text/plain": [
              "array([[0.39485064],\n",
              "       [0.39485064],\n",
              "       [0.39485064],\n",
              "       ...,\n",
              "       [0.39485064],\n",
              "       [0.39485064],\n",
              "       [0.3948506 ]], dtype=float32)"
            ]
          },
          "execution_count": null,
          "metadata": {},
          "output_type": "execute_result"
        }
      ],
      "source": [
        "pred_Y"
      ]
    },
    {
      "cell_type": "code",
      "execution_count": null,
      "metadata": {
        "colab": {
          "base_uri": "https://localhost:8080/"
        },
        "id": "2w33awfY2YLk",
        "outputId": "615eecc1-105e-4fdf-dd25-bfc598a69014"
      },
      "outputs": [
        {
          "data": {
            "text/plain": [
              "array([0.3948506], dtype=float32)"
            ]
          },
          "execution_count": null,
          "metadata": {},
          "output_type": "execute_result"
        }
      ],
      "source": [
        "min(pred_Y)"
      ]
    },
    {
      "cell_type": "code",
      "execution_count": null,
      "metadata": {
        "colab": {
          "base_uri": "https://localhost:8080/"
        },
        "id": "MKFweaDj2YLl",
        "outputId": "c15931ac-8557-4384-f31d-10e0f8fbf97a"
      },
      "outputs": [
        {
          "name": "stdout",
          "output_type": "stream",
          "text": [
            "test accuracy =  0.661230206489563\n"
          ]
        }
      ],
      "source": [
        "print('test accuracy = ',mobilenet_GAP_model.evaluate(X_test,y_test, verbose=0)[1])"
      ]
    },
    {
      "cell_type": "code",
      "execution_count": null,
      "metadata": {
        "colab": {
          "base_uri": "https://localhost:8080/"
        },
        "id": "dEYdVE9G2YLm",
        "outputId": "cb512903-6146-4466-9323-f4e471dd96ec"
      },
      "outputs": [
        {
          "name": "stdout",
          "output_type": "stream",
          "text": [
            "roc score =  0.5025683080767691\n"
          ]
        }
      ],
      "source": [
        "from sklearn.metrics import roc_auc_score\n",
        "print('roc score = ',roc_auc_score(y_test.astype(int), pred_Y))"
      ]
    },
    {
      "cell_type": "code",
      "execution_count": null,
      "metadata": {
        "colab": {
          "base_uri": "https://localhost:8080/",
          "height": 430
        },
        "id": "D4BP1kJU2YLn",
        "outputId": "b50c4176-8583-46da-df77-0a13296d8c32"
      },
      "outputs": [
        {
          "name": "stdout",
          "output_type": "stream",
          "text": [
            "              precision    recall  f1-score   support\n",
            "\n",
            "No Emphysema       0.76      0.01      0.03      1419\n",
            "   Emphysema       0.34      0.99      0.51       727\n",
            "\n",
            "    accuracy                           0.34      2146\n",
            "   macro avg       0.55      0.50      0.27      2146\n",
            "weighted avg       0.62      0.34      0.19      2146\n",
            "\n"
          ]
        },
        {
          "data": {
            "image/png": "[encoded data removed]",
            "text/plain": [
              "<Figure size 288x288 with 1 Axes>"
            ]
          },
          "metadata": {},
          "output_type": "display_data"
        }
      ],
      "source": [
        "from sklearn.metrics import classification_report, confusion_matrix\n",
        "plt.matshow(confusion_matrix(y_test, pred_Y>0.3948506))\n",
        "print(classification_report(y_test, pred_Y>0.3948506, target_names = ['No Emphysema', 'Emphysema']))"
      ]
    },
    {
      "cell_type": "markdown",
      "metadata": {
        "id": "xnW0WsQT2ZJv"
      },
      "source": [
        "## **Fibrosis**"
      ]
    },
    {
      "cell_type": "code",
      "execution_count": null,
      "metadata": {
        "colab": {
          "base_uri": "https://localhost:8080/",
          "height": 266
        },
        "id": "jvjEM4O82Zpe",
        "outputId": "90dd2d70-a626-4a1e-b56a-6c02971b4606"
      },
      "outputs": [
        {
          "name": "stdout",
          "output_type": "stream",
          "text": [
            "0    3372\n",
            "1    1686\n",
            "Name: Fibrosis, dtype: int64\n"
          ]
        },
        {
          "data": {
            "text/plain": [
              "<seaborn.axisgrid.PairGrid at 0x7f879084a550>"
            ]
          },
          "execution_count": 44,
          "metadata": {},
          "output_type": "execute_result"
        },
        {
          "data": {
            "image/png": "[encoded data removed]",
            "text/plain": [
              "<Figure size 225.375x180 with 2 Axes>"
            ]
          },
          "metadata": {},
          "output_type": "display_data"
        }
      ],
      "source": [
        "positive_cases = np.sum(all_xray_df['Fibrosis']==True)//2\n",
        "oversample_factor = 4 # maximum number of cases in negative group so it isn't super rare\n",
        "more_balanced_df = all_xray_df.groupby(['Fibrosis']).apply(lambda x: x.sample(min(oversample_factor*positive_cases, x.shape[0]), \n",
        "                                                                                   replace = False)\n",
        "                                                      ).reset_index(drop = True)\n",
        "\n",
        "print(more_balanced_df['Fibrosis'].value_counts())\n",
        "sns.pairplot(more_balanced_df[['Patient Age', 'Fibrosis']], hue='Fibrosis')"
      ]
    },
    {
      "cell_type": "code",
      "execution_count": null,
      "metadata": {
        "colab": {
          "base_uri": "https://localhost:8080/",
          "height": 257
        },
        "id": "vCjXv6302Zpe",
        "outputId": "a643512f-532e-473b-c57f-7562bf74e78c"
      },
      "outputs": [
        {
          "name": "stdout",
          "output_type": "stream",
          "text": [
            "train 3540 validation 910 test 608\n",
            "train 0    2360\n",
            "1    1180\n",
            "Name: Fibrosis, dtype: int64\n",
            "test 0    405\n",
            "1    203\n",
            "Name: Fibrosis, dtype: int64\n"
          ]
        },
        {
          "data": {
            "text/html": [
              "<div>\n",
              "<style scoped>\n",
              "    .dataframe tbody tr th:only-of-type {\n",
              "        vertical-align: middle;\n",
              "    }\n",
              "\n",
              "    .dataframe tbody tr th {\n",
              "        vertical-align: top;\n",
              "    }\n",
              "\n",
              "    .dataframe thead th {\n",
              "        text-align: right;\n",
              "    }\n",
              "</style>\n",
              "<table border=\"1\" class=\"dataframe\">\n",
              "  <thead>\n",
              "    <tr style=\"text-align: right;\">\n",
              "      <th></th>\n",
              "      <th>Image Index</th>\n",
              "      <th>Finding Labels</th>\n",
              "      <th>Follow-up #</th>\n",
              "      <th>Patient ID</th>\n",
              "      <th>Patient Age</th>\n",
              "      <th>Patient Gender</th>\n",
              "      <th>View Position</th>\n",
              "      <th>OriginalImage[Width</th>\n",
              "      <th>Height]</th>\n",
              "      <th>OriginalImagePixelSpacing[x</th>\n",
              "      <th>y]</th>\n",
              "      <th>path</th>\n",
              "      <th>Pneumonia</th>\n",
              "      <th>Patient Male</th>\n",
              "      <th>Cardiomegaly</th>\n",
              "      <th>Emphysema</th>\n",
              "      <th>Effusion</th>\n",
              "      <th>Hernia</th>\n",
              "      <th>Nodule</th>\n",
              "      <th>Pneumothorax</th>\n",
              "      <th>Atelectasis</th>\n",
              "      <th>Pleural_Thickening</th>\n",
              "      <th>Mass</th>\n",
              "      <th>Edema</th>\n",
              "      <th>Consolidation</th>\n",
              "      <th>Infiltration</th>\n",
              "      <th>Fibrosis</th>\n",
              "      <th>Nothing</th>\n",
              "    </tr>\n",
              "  </thead>\n",
              "  <tbody>\n",
              "    <tr>\n",
              "      <th>155</th>\n",
              "      <td>00011235_007.png</td>\n",
              "      <td>No Finding</td>\n",
              "      <td>7</td>\n",
              "      <td>11235</td>\n",
              "      <td>68</td>\n",
              "      <td>M</td>\n",
              "      <td>PA</td>\n",
              "      <td>2992</td>\n",
              "      <td>2991</td>\n",
              "      <td>0.143</td>\n",
              "      <td>0.143</td>\n",
              "      <td>/content/drive/MyDrive/Images/image5/00011235_...</td>\n",
              "      <td>False</td>\n",
              "      <td>1.0</td>\n",
              "      <td>0</td>\n",
              "      <td>0</td>\n",
              "      <td>0</td>\n",
              "      <td>0</td>\n",
              "      <td>0</td>\n",
              "      <td>0</td>\n",
              "      <td>0</td>\n",
              "      <td>0</td>\n",
              "      <td>0</td>\n",
              "      <td>0</td>\n",
              "      <td>0</td>\n",
              "      <td>0</td>\n",
              "      <td>0</td>\n",
              "      <td>1</td>\n",
              "    </tr>\n",
              "  </tbody>\n",
              "</table>\n",
              "</div>"
            ],
            "text/plain": [
              "          Image Index Finding Labels  ...  Fibrosis  Nothing\n",
              "155  00011235_007.png     No Finding  ...         0        1\n",
              "\n",
              "[1 rows x 28 columns]"
            ]
          },
          "execution_count": 45,
          "metadata": {},
          "output_type": "execute_result"
        }
      ],
      "source": [
        "from sklearn.model_selection import train_test_split\n",
        "raw_train_df, test_valid_df = train_test_split(more_balanced_df, \n",
        "                                   test_size = 0.30, \n",
        "                                   random_state = 2018,\n",
        "                                   stratify = more_balanced_df[['Fibrosis']])\n",
        "valid_df, test_df = train_test_split(test_valid_df, \n",
        "                                   test_size = 0.40, \n",
        "                                   random_state = 2018,\n",
        "                                   stratify = test_valid_df[['Fibrosis']])\n",
        "print('train', raw_train_df.shape[0], 'validation', valid_df.shape[0], 'test', test_df.shape[0])\n",
        "print('train', raw_train_df['Fibrosis'].value_counts())\n",
        "print('test', test_df['Fibrosis'].value_counts())\n",
        "raw_train_df.sample(1)"
      ]
    },
    {
      "cell_type": "code",
      "execution_count": null,
      "metadata": {
        "colab": {
          "base_uri": "https://localhost:8080/"
        },
        "id": "4Y_8laP22Zpf",
        "outputId": "f26d0115-aaaf-40b7-dcfa-48badc76989e"
      },
      "outputs": [
        {
          "name": "stdout",
          "output_type": "stream",
          "text": [
            "New Data Size: 4000 Old Size: 3540\n"
          ]
        }
      ],
      "source": [
        "train_df = raw_train_df.groupby(['Fibrosis']).apply(lambda x: x.sample(2000, replace = True)\n",
        "                                                      ).reset_index(drop = True)\n",
        "print('New Data Size:', train_df.shape[0], 'Old Size:', raw_train_df.shape[0])"
      ]
    },
    {
      "cell_type": "code",
      "execution_count": null,
      "metadata": {
        "id": "2FpJDjim2Zpf"
      },
      "outputs": [],
      "source": [
        "from keras.preprocessing.image import ImageDataGenerator\n",
        "idg = ImageDataGenerator(zoom_range=0.2,\n",
        "                           fill_mode='nearest',\n",
        "                           rotation_range=25,  \n",
        "                           width_shift_range=0.25,  \n",
        "                           height_shift_range=0.25,  \n",
        "                           vertical_flip=False, \n",
        "                           horizontal_flip=True,\n",
        "                           shear_range = 0.2,\n",
        "                           samplewise_center=False, \n",
        "                           samplewise_std_normalization=False)\n"
      ]
    },
    {
      "cell_type": "code",
      "execution_count": null,
      "metadata": {
        "id": "TsTyCZht2Zpf"
      },
      "outputs": [],
      "source": [
        "SEED= 10\n",
        "IMG_SIZE = (128, 128) \n",
        "####\n",
        "def flow_from_dataframe(imgDatGen, df, batch_size, seed, img_size):\n",
        "    #gc.collect()\n",
        "    gen_img = imgDatGen.flow_from_dataframe(dataframe=more_balanced_df,\n",
        "        x_col='path', y_col='Fibrosis',\n",
        "        batch_size=batch_size, seed=seed, shuffle=True, class_mode='other',\n",
        "        target_size=img_size, color_mode='grayscale',\n",
        "        drop_duplicates=False)\n",
        "\n",
        "    \n",
        "        \n",
        "    while True:\n",
        "        X1i = gen_img.next()\n",
        "        #X2i = gen_img.next()\n",
        "        #gc.collect()\n",
        "        yield [X1i[0], X1i[1]]"
      ]
    },
    {
      "cell_type": "code",
      "execution_count": null,
      "metadata": {
        "id": "jAT_YfeZ2Zpf"
      },
      "outputs": [],
      "source": [
        "flow = flow_from_dataframe(idg, more_balanced_df, 7151, SEED, IMG_SIZE)"
      ]
    },
    {
      "cell_type": "code",
      "execution_count": null,
      "metadata": {
        "colab": {
          "base_uri": "https://localhost:8080/"
        },
        "id": "BZ-j4rzq2Zpg",
        "outputId": "793d9c63-6b88-4f07-dcd2-467e92bfdb05"
      },
      "outputs": [
        {
          "name": "stderr",
          "output_type": "stream",
          "text": [
            "--- Logging error ---\n",
            "Traceback (most recent call last):\n",
            "  File \"/usr/lib/python3.7/logging/__init__.py\", line 1025, in emit\n",
            "    msg = self.format(record)\n",
            "  File \"/usr/lib/python3.7/logging/__init__.py\", line 869, in format\n",
            "    return fmt.format(record)\n",
            "  File \"/usr/lib/python3.7/logging/__init__.py\", line 608, in format\n",
            "    record.message = record.getMessage()\n",
            "  File \"/usr/lib/python3.7/logging/__init__.py\", line 369, in getMessage\n",
            "    msg = msg % self.args\n",
            "TypeError: not all arguments converted during string formatting\n",
            "Call stack:\n",
            "  File \"/usr/lib/python3.7/runpy.py\", line 193, in _run_module_as_main\n",
            "    \"__main__\", mod_spec)\n",
            "  File \"/usr/lib/python3.7/runpy.py\", line 85, in _run_code\n",
            "    exec(code, run_globals)\n",
            "  File \"/usr/local/lib/python3.7/dist-packages/ipykernel_launcher.py\", line 16, in <module>\n",
            "    app.launch_new_instance()\n",
            "  File \"/usr/local/lib/python3.7/dist-packages/traitlets/config/application.py\", line 846, in launch_instance\n",
            "    app.start()\n",
            "  File \"/usr/local/lib/python3.7/dist-packages/ipykernel/kernelapp.py\", line 499, in start\n",
            "    self.io_loop.start()\n",
            "  File \"/usr/local/lib/python3.7/dist-packages/tornado/platform/asyncio.py\", line 132, in start\n",
            "    self.asyncio_loop.run_forever()\n",
            "  File \"/usr/lib/python3.7/asyncio/base_events.py\", line 541, in run_forever\n",
            "    self._run_once()\n",
            "  File \"/usr/lib/python3.7/asyncio/base_events.py\", line 1786, in _run_once\n",
            "    handle._run()\n",
            "  File \"/usr/lib/python3.7/asyncio/events.py\", line 88, in _run\n",
            "    self._context.run(self._callback, *self._args)\n",
            "  File \"/usr/local/lib/python3.7/dist-packages/tornado/platform/asyncio.py\", line 122, in _handle_events\n",
            "    handler_func(fileobj, events)\n",
            "  File \"/usr/local/lib/python3.7/dist-packages/tornado/stack_context.py\", line 300, in null_wrapper\n",
            "    return fn(*args, **kwargs)\n",
            "  File \"/usr/local/lib/python3.7/dist-packages/zmq/eventloop/zmqstream.py\", line 452, in _handle_events\n",
            "    self._handle_recv()\n",
            "  File \"/usr/local/lib/python3.7/dist-packages/zmq/eventloop/zmqstream.py\", line 481, in _handle_recv\n",
            "    self._run_callback(callback, msg)\n",
            "  File \"/usr/local/lib/python3.7/dist-packages/zmq/eventloop/zmqstream.py\", line 431, in _run_callback\n",
            "    callback(*args, **kwargs)\n",
            "  File \"/usr/local/lib/python3.7/dist-packages/tornado/stack_context.py\", line 300, in null_wrapper\n",
            "    return fn(*args, **kwargs)\n",
            "  File \"/usr/local/lib/python3.7/dist-packages/ipykernel/kernelbase.py\", line 283, in dispatcher\n",
            "    return self.dispatch_shell(stream, msg)\n",
            "  File \"/usr/local/lib/python3.7/dist-packages/ipykernel/kernelbase.py\", line 233, in dispatch_shell\n",
            "    handler(stream, idents, msg)\n",
            "  File \"/usr/local/lib/python3.7/dist-packages/ipykernel/kernelbase.py\", line 399, in execute_request\n",
            "    user_expressions, allow_stdin)\n",
            "  File \"/usr/local/lib/python3.7/dist-packages/ipykernel/ipkernel.py\", line 208, in do_execute\n",
            "    res = shell.run_cell(code, store_history=store_history, silent=silent)\n",
            "  File \"/usr/local/lib/python3.7/dist-packages/ipykernel/zmqshell.py\", line 537, in run_cell\n",
            "    return super(ZMQInteractiveShell, self).run_cell(*args, **kwargs)\n",
            "  File \"/usr/local/lib/python3.7/dist-packages/IPython/core/interactiveshell.py\", line 2718, in run_cell\n",
            "    interactivity=interactivity, compiler=compiler, result=result)\n",
            "  File \"/usr/local/lib/python3.7/dist-packages/IPython/core/interactiveshell.py\", line 2822, in run_ast_nodes\n",
            "    if self.run_code(code, result):\n",
            "  File \"/usr/local/lib/python3.7/dist-packages/IPython/core/interactiveshell.py\", line 2882, in run_code\n",
            "    exec(code_obj, self.user_global_ns, self.user_ns)\n",
            "  File \"<ipython-input-50-710bbcbe35c6>\", line 1, in <module>\n",
            "    t,y= next(flow)\n",
            "  File \"<ipython-input-48-45e6e08a3945>\", line 10, in flow_from_dataframe\n",
            "    drop_duplicates=False)\n",
            "  File \"/usr/local/lib/python3.7/dist-packages/keras/preprocessing/image.py\", line 1109, in flow_from_dataframe\n",
            "    '`class_mode` \"raw\".', DeprecationWarning)\n",
            "  File \"/usr/local/lib/python3.7/dist-packages/tensorflow/python/platform/tf_logging.py\", line 178, in warning\n",
            "    get_logger().warning(msg, *args, **kwargs)\n",
            "Message: '`class_mode` \"other\" is deprecated, please use `class_mode` \"raw\".'\n",
            "Arguments: (<class 'DeprecationWarning'>,)\n",
            "--- Logging error ---\n",
            "Traceback (most recent call last):\n",
            "  File \"/usr/lib/python3.7/logging/__init__.py\", line 1025, in emit\n",
            "    msg = self.format(record)\n",
            "  File \"/usr/lib/python3.7/logging/__init__.py\", line 869, in format\n",
            "    return fmt.format(record)\n",
            "  File \"/usr/lib/python3.7/logging/__init__.py\", line 608, in format\n",
            "    record.message = record.getMessage()\n",
            "  File \"/usr/lib/python3.7/logging/__init__.py\", line 369, in getMessage\n",
            "    msg = msg % self.args\n",
            "TypeError: not all arguments converted during string formatting\n",
            "Call stack:\n",
            "  File \"/usr/lib/python3.7/runpy.py\", line 193, in _run_module_as_main\n",
            "    \"__main__\", mod_spec)\n",
            "  File \"/usr/lib/python3.7/runpy.py\", line 85, in _run_code\n",
            "    exec(code, run_globals)\n",
            "  File \"/usr/local/lib/python3.7/dist-packages/ipykernel_launcher.py\", line 16, in <module>\n",
            "    app.launch_new_instance()\n",
            "  File \"/usr/local/lib/python3.7/dist-packages/traitlets/config/application.py\", line 846, in launch_instance\n",
            "    app.start()\n",
            "  File \"/usr/local/lib/python3.7/dist-packages/ipykernel/kernelapp.py\", line 499, in start\n",
            "    self.io_loop.start()\n",
            "  File \"/usr/local/lib/python3.7/dist-packages/tornado/platform/asyncio.py\", line 132, in start\n",
            "    self.asyncio_loop.run_forever()\n",
            "  File \"/usr/lib/python3.7/asyncio/base_events.py\", line 541, in run_forever\n",
            "    self._run_once()\n",
            "  File \"/usr/lib/python3.7/asyncio/base_events.py\", line 1786, in _run_once\n",
            "    handle._run()\n",
            "  File \"/usr/lib/python3.7/asyncio/events.py\", line 88, in _run\n",
            "    self._context.run(self._callback, *self._args)\n",
            "  File \"/usr/local/lib/python3.7/dist-packages/tornado/platform/asyncio.py\", line 122, in _handle_events\n",
            "    handler_func(fileobj, events)\n",
            "  File \"/usr/local/lib/python3.7/dist-packages/tornado/stack_context.py\", line 300, in null_wrapper\n",
            "    return fn(*args, **kwargs)\n",
            "  File \"/usr/local/lib/python3.7/dist-packages/zmq/eventloop/zmqstream.py\", line 452, in _handle_events\n",
            "    self._handle_recv()\n",
            "  File \"/usr/local/lib/python3.7/dist-packages/zmq/eventloop/zmqstream.py\", line 481, in _handle_recv\n",
            "    self._run_callback(callback, msg)\n",
            "  File \"/usr/local/lib/python3.7/dist-packages/zmq/eventloop/zmqstream.py\", line 431, in _run_callback\n",
            "    callback(*args, **kwargs)\n",
            "  File \"/usr/local/lib/python3.7/dist-packages/tornado/stack_context.py\", line 300, in null_wrapper\n",
            "    return fn(*args, **kwargs)\n",
            "  File \"/usr/local/lib/python3.7/dist-packages/ipykernel/kernelbase.py\", line 283, in dispatcher\n",
            "    return self.dispatch_shell(stream, msg)\n",
            "  File \"/usr/local/lib/python3.7/dist-packages/ipykernel/kernelbase.py\", line 233, in dispatch_shell\n",
            "    handler(stream, idents, msg)\n",
            "  File \"/usr/local/lib/python3.7/dist-packages/ipykernel/kernelbase.py\", line 399, in execute_request\n",
            "    user_expressions, allow_stdin)\n",
            "  File \"/usr/local/lib/python3.7/dist-packages/ipykernel/ipkernel.py\", line 208, in do_execute\n",
            "    res = shell.run_cell(code, store_history=store_history, silent=silent)\n",
            "  File \"/usr/local/lib/python3.7/dist-packages/ipykernel/zmqshell.py\", line 537, in run_cell\n",
            "    return super(ZMQInteractiveShell, self).run_cell(*args, **kwargs)\n",
            "  File \"/usr/local/lib/python3.7/dist-packages/IPython/core/interactiveshell.py\", line 2718, in run_cell\n",
            "    interactivity=interactivity, compiler=compiler, result=result)\n",
            "  File \"/usr/local/lib/python3.7/dist-packages/IPython/core/interactiveshell.py\", line 2822, in run_ast_nodes\n",
            "    if self.run_code(code, result):\n",
            "  File \"/usr/local/lib/python3.7/dist-packages/IPython/core/interactiveshell.py\", line 2882, in run_code\n",
            "    exec(code_obj, self.user_global_ns, self.user_ns)\n",
            "  File \"<ipython-input-50-710bbcbe35c6>\", line 1, in <module>\n",
            "    t,y= next(flow)\n",
            "  File \"<ipython-input-48-45e6e08a3945>\", line 10, in flow_from_dataframe\n",
            "    drop_duplicates=False)\n",
            "  File \"/usr/local/lib/python3.7/dist-packages/keras/preprocessing/image.py\", line 1115, in flow_from_dataframe\n",
            "    DeprecationWarning)\n",
            "  File \"/usr/local/lib/python3.7/dist-packages/tensorflow/python/platform/tf_logging.py\", line 178, in warning\n",
            "    get_logger().warning(msg, *args, **kwargs)\n",
            "Message: 'drop_duplicates is deprecated, you can drop duplicates by using the pandas.DataFrame.drop_duplicates method.'\n",
            "Arguments: (<class 'DeprecationWarning'>,)\n"
          ]
        },
        {
          "name": "stdout",
          "output_type": "stream",
          "text": [
            "Found 5058 validated image filenames.\n"
          ]
        }
      ],
      "source": [
        "t,y= next(flow)"
      ]
    },
    {
      "cell_type": "code",
      "execution_count": null,
      "metadata": {
        "id": "gzyKS4Io2Zpg"
      },
      "outputs": [],
      "source": [
        "from sklearn.model_selection import train_test_split\n",
        "X_train, X_test, y_train, y_test = train_test_split(t,y, \n",
        "                                   test_size = 0.30, \n",
        "                                   random_state = 2018)\n"
      ]
    },
    {
      "cell_type": "code",
      "execution_count": null,
      "metadata": {
        "colab": {
          "base_uri": "https://localhost:8080/"
        },
        "id": "14YAsyxV2Zpg",
        "outputId": "994f5835-3f1b-49b9-f658-731319ad9f74"
      },
      "outputs": [
        {
          "name": "stdout",
          "output_type": "stream",
          "text": [
            "Model: \"sequential_2\"\n",
            "_________________________________________________________________\n",
            " Layer (type)                Output Shape              Param #   \n",
            "=================================================================\n",
            " mobilenet_1.00_128 (Functio  (None, 4, 4, 1024)       3228288   \n",
            " nal)                                                            \n",
            "                                                                 \n",
            " global_average_pooling2d_2   (None, 1024)             0         \n",
            " (GlobalAveragePooling2D)                                        \n",
            "                                                                 \n",
            " dropout_4 (Dropout)         (None, 1024)              0         \n",
            "                                                                 \n",
            " dense_4 (Dense)             (None, 512)               524800    \n",
            "                                                                 \n",
            " dropout_5 (Dropout)         (None, 512)               0         \n",
            "                                                                 \n",
            " dense_5 (Dense)             (None, 1)                 513       \n",
            "                                                                 \n",
            "=================================================================\n",
            "Total params: 3,753,601\n",
            "Trainable params: 3,731,713\n",
            "Non-trainable params: 21,888\n",
            "_________________________________________________________________\n"
          ]
        }
      ],
      "source": [
        "from keras.applications.mobilenet import MobileNet\n",
        "from keras.layers import GlobalAveragePooling2D, Dense, Dropout, Flatten\n",
        "from keras.models import Sequential\n",
        "mobilenet_model = MobileNet(input_shape =  X_train.shape[1:], \n",
        "                                 include_top = False, weights = None)\n",
        "mobilenet_GAP_model = Sequential()\n",
        "mobilenet_GAP_model.add(mobilenet_model)\n",
        "mobilenet_GAP_model.add(GlobalAveragePooling2D())\n",
        "mobilenet_GAP_model.add(Dropout(0.5))\n",
        "mobilenet_GAP_model.add(Dense(512))\n",
        "mobilenet_GAP_model.add(Dropout(0.5))\n",
        "mobilenet_GAP_model.add(Dense(1, activation = 'sigmoid'))\n",
        "mobilenet_GAP_model.compile(optimizer = 'adam', loss = 'binary_crossentropy',\n",
        "                           metrics = ['binary_accuracy', 'mae'])\n",
        "mobilenet_GAP_model.summary()"
      ]
    },
    {
      "cell_type": "code",
      "execution_count": null,
      "metadata": {
        "id": "ALuw6h8Z2Zph"
      },
      "outputs": [],
      "source": [
        "from keras.callbacks import ModelCheckpoint, LearningRateScheduler, EarlyStopping, ReduceLROnPlateau\n",
        "weight_path=\"{}_weights.best.hdf5\".format('xray_class')\n",
        "\n",
        "checkpoint = ModelCheckpoint(weight_path, monitor='val_loss', verbose=1, \n",
        "                             save_best_only=True, mode='min', save_weights_only = True)\n",
        "\n",
        "early = EarlyStopping(monitor=\"val_loss\", \n",
        "                      mode=\"min\", \n",
        "                      patience=3)\n",
        "callbacks_list = [checkpoint, early]"
      ]
    },
    {
      "cell_type": "code",
      "execution_count": null,
      "metadata": {
        "colab": {
          "base_uri": "https://localhost:8080/"
        },
        "id": "-8SgCAIV2Zph",
        "outputId": "3397a5da-0ba4-4230-c386-f611d69bd654"
      },
      "outputs": [
        {
          "name": "stdout",
          "output_type": "stream",
          "text": [
            "Epoch 1/10\n",
            "10/10 [==============================] - ETA: 0s - loss: 1.5327 - binary_accuracy: 0.5876 - mae: 0.4233 \n",
            "Epoch 00001: val_loss improved from inf to 0.68647, saving model to xray_class_weights.best.hdf5\n",
            "10/10 [==============================] - 255s 25s/step - loss: 1.5327 - binary_accuracy: 0.5876 - mae: 0.4233 - val_loss: 0.6865 - val_binary_accuracy: 0.6647 - val_mae: 0.4966\n",
            "Epoch 2/10\n",
            "10/10 [==============================] - ETA: 0s - loss: 0.8812 - binary_accuracy: 0.5669 - mae: 0.4510 \n",
            "Epoch 00002: val_loss improved from 0.68647 to 0.67818, saving model to xray_class_weights.best.hdf5\n",
            "10/10 [==============================] - 252s 25s/step - loss: 0.8812 - binary_accuracy: 0.5669 - mae: 0.4510 - val_loss: 0.6782 - val_binary_accuracy: 0.6647 - val_mae: 0.4919\n",
            "Epoch 3/10\n",
            "10/10 [==============================] - ETA: 0s - loss: 0.7640 - binary_accuracy: 0.6178 - mae: 0.4233 \n",
            "Epoch 00003: val_loss improved from 0.67818 to 0.65392, saving model to xray_class_weights.best.hdf5\n",
            "10/10 [==============================] - 255s 26s/step - loss: 0.7640 - binary_accuracy: 0.6178 - mae: 0.4233 - val_loss: 0.6539 - val_binary_accuracy: 0.6647 - val_mae: 0.4746\n",
            "Epoch 4/10\n",
            "10/10 [==============================] - ETA: 0s - loss: 0.6945 - binary_accuracy: 0.6435 - mae: 0.4013 \n",
            "Epoch 00004: val_loss improved from 0.65392 to 0.65109, saving model to xray_class_weights.best.hdf5\n",
            "10/10 [==============================] - 249s 25s/step - loss: 0.6945 - binary_accuracy: 0.6435 - mae: 0.4013 - val_loss: 0.6511 - val_binary_accuracy: 0.6647 - val_mae: 0.4718\n",
            "Epoch 5/10\n",
            "10/10 [==============================] - ETA: 0s - loss: 0.6398 - binary_accuracy: 0.6763 - mae: 0.3846 \n",
            "Epoch 00005: val_loss did not improve from 0.65109\n",
            "10/10 [==============================] - 257s 26s/step - loss: 0.6398 - binary_accuracy: 0.6763 - mae: 0.3846 - val_loss: 0.6583 - val_binary_accuracy: 0.6647 - val_mae: 0.4784\n",
            "Epoch 6/10\n",
            "10/10 [==============================] - ETA: 0s - loss: 0.5631 - binary_accuracy: 0.7232 - mae: 0.3428 \n",
            "Epoch 00006: val_loss did not improve from 0.65109\n",
            "10/10 [==============================] - 250s 25s/step - loss: 0.5631 - binary_accuracy: 0.7232 - mae: 0.3428 - val_loss: 0.6737 - val_binary_accuracy: 0.6647 - val_mae: 0.4892\n",
            "Epoch 7/10\n",
            "10/10 [==============================] - ETA: 0s - loss: 0.4416 - binary_accuracy: 0.7944 - mae: 0.2699 \n",
            "Epoch 00007: val_loss did not improve from 0.65109\n",
            "10/10 [==============================] - 252s 25s/step - loss: 0.4416 - binary_accuracy: 0.7944 - mae: 0.2699 - val_loss: 0.6529 - val_binary_accuracy: 0.6647 - val_mae: 0.4736\n"
          ]
        }
      ],
      "source": [
        "history_mobilenet_GAP = mobilenet_GAP_model.fit(X_train,y_train,\n",
        "                                  steps_per_epoch=10,\n",
        "                                  validation_data = (X_test, y_test), \n",
        "                                  epochs = 10, \n",
        "                                  callbacks = callbacks_list)"
      ]
    },
    {
      "cell_type": "code",
      "execution_count": null,
      "metadata": {
        "colab": {
          "base_uri": "https://localhost:8080/"
        },
        "id": "gU4mNTBL2Zph",
        "outputId": "b6952695-7e52-49fc-f11a-8280d255199b"
      },
      "outputs": [
        {
          "name": "stdout",
          "output_type": "stream",
          "text": [
            "48/48 [==============================] - 17s 354ms/step\n"
          ]
        }
      ],
      "source": [
        "pred_Y = mobilenet_GAP_model.predict(X_test, \n",
        "                          batch_size = 32, \n",
        "                          verbose = True)"
      ]
    },
    {
      "cell_type": "code",
      "execution_count": null,
      "metadata": {
        "colab": {
          "base_uri": "https://localhost:8080/"
        },
        "id": "TO_xmXSI2Zph",
        "outputId": "7cfa272f-94dc-4029-c4c5-3e56d02110a7"
      },
      "outputs": [
        {
          "data": {
            "text/plain": [
              "array([[0.41980416],\n",
              "       [0.41980416],\n",
              "       [0.41980416],\n",
              "       ...,\n",
              "       [0.41980416],\n",
              "       [0.4198042 ],\n",
              "       [0.4198042 ]], dtype=float32)"
            ]
          },
          "execution_count": 56,
          "metadata": {},
          "output_type": "execute_result"
        }
      ],
      "source": [
        "pred_Y"
      ]
    },
    {
      "cell_type": "code",
      "execution_count": null,
      "metadata": {
        "colab": {
          "base_uri": "https://localhost:8080/"
        },
        "id": "4rEiaXim2Zpi",
        "outputId": "12977af4-de2c-497f-e5e6-88a3fc2c7b58"
      },
      "outputs": [
        {
          "data": {
            "text/plain": [
              "array([0.41980416], dtype=float32)"
            ]
          },
          "execution_count": 57,
          "metadata": {},
          "output_type": "execute_result"
        }
      ],
      "source": [
        "min(pred_Y)"
      ]
    },
    {
      "cell_type": "code",
      "execution_count": null,
      "metadata": {
        "colab": {
          "base_uri": "https://localhost:8080/"
        },
        "id": "Iz8CEJZw2Zpi",
        "outputId": "a39c545c-112b-495e-a512-9fda0db16b97"
      },
      "outputs": [
        {
          "name": "stdout",
          "output_type": "stream",
          "text": [
            "test accuracy =  0.664690375328064\n"
          ]
        }
      ],
      "source": [
        "print('test accuracy = ',mobilenet_GAP_model.evaluate(X_test,y_test, verbose=0)[1])"
      ]
    },
    {
      "cell_type": "code",
      "execution_count": null,
      "metadata": {
        "colab": {
          "base_uri": "https://localhost:8080/"
        },
        "id": "2oXd3zlc2Zpi",
        "outputId": "78a1ac0b-95a3-44ff-be50-727b38e3f9c2"
      },
      "outputs": [
        {
          "name": "stdout",
          "output_type": "stream",
          "text": [
            "roc score =  0.5002677279728028\n"
          ]
        }
      ],
      "source": [
        "from sklearn.metrics import roc_auc_score\n",
        "print('roc score = ',roc_auc_score(y_test.astype(int), pred_Y))"
      ]
    },
    {
      "cell_type": "code",
      "execution_count": null,
      "metadata": {
        "colab": {
          "base_uri": "https://localhost:8080/",
          "height": 430
        },
        "id": "Qx8QKSIM2Zpj",
        "outputId": "f5573077-fbb2-4249-8206-52c6e5b07606"
      },
      "outputs": [
        {
          "name": "stdout",
          "output_type": "stream",
          "text": [
            "              precision    recall  f1-score   support\n",
            "\n",
            " No Fibrosis       0.66      0.95      0.78      1009\n",
            "    Fibrosis       0.34      0.05      0.09       509\n",
            "\n",
            "    accuracy                           0.65      1518\n",
            "   macro avg       0.50      0.50      0.44      1518\n",
            "weighted avg       0.56      0.65      0.55      1518\n",
            "\n"
          ]
        },
        {
          "data": {
            "image/png": "[encoded data removed]",
            "text/plain": [
              "<Figure size 288x288 with 1 Axes>"
            ]
          },
          "metadata": {},
          "output_type": "display_data"
        }
      ],
      "source": [
        "from sklearn.metrics import classification_report, confusion_matrix\n",
        "plt.matshow(confusion_matrix(y_test, pred_Y>0.41980416))\n",
        "print(classification_report(y_test, pred_Y>0.41980416, target_names = ['No Fibrosis', 'Fibrosis']))"
      ]
    },
    {
      "cell_type": "markdown",
      "metadata": {
        "id": "FbNxkcjB2aZL"
      },
      "source": [
        "## **Hernia**"
      ]
    },
    {
      "cell_type": "code",
      "execution_count": null,
      "metadata": {
        "colab": {
          "base_uri": "https://localhost:8080/",
          "height": 266
        },
        "id": "xnDrRdGF2a2H",
        "outputId": "f44e933f-db76-4139-b436-b4f32cb5e41b"
      },
      "outputs": [
        {
          "name": "stdout",
          "output_type": "stream",
          "text": [
            "0    452\n",
            "1    227\n",
            "Name: Hernia, dtype: int64\n"
          ]
        },
        {
          "data": {
            "text/plain": [
              "<seaborn.axisgrid.PairGrid at 0x7f8793c23250>"
            ]
          },
          "execution_count": 61,
          "metadata": {},
          "output_type": "execute_result"
        },
        {
          "data": {
            "image/png": "[encoded data removed]",
            "text/plain": [
              "<Figure size 221x180 with 2 Axes>"
            ]
          },
          "metadata": {},
          "output_type": "display_data"
        }
      ],
      "source": [
        "positive_cases = np.sum(all_xray_df['Hernia']==True)//2\n",
        "oversample_factor = 4 # maximum number of cases in negative group so it isn't super rare\n",
        "more_balanced_df = all_xray_df.groupby(['Hernia']).apply(lambda x: x.sample(min(oversample_factor*positive_cases, x.shape[0]), \n",
        "                                                                                   replace = False)\n",
        "                                                      ).reset_index(drop = True)\n",
        "\n",
        "print(more_balanced_df['Hernia'].value_counts())\n",
        "sns.pairplot(more_balanced_df[['Patient Age', 'Hernia']], hue='Hernia')"
      ]
    },
    {
      "cell_type": "code",
      "execution_count": null,
      "metadata": {
        "colab": {
          "base_uri": "https://localhost:8080/",
          "height": 240
        },
        "id": "cZSKFb6Y2a2J",
        "outputId": "701aa009-236a-4ee3-97fa-9f26a830fb1c"
      },
      "outputs": [
        {
          "name": "stdout",
          "output_type": "stream",
          "text": [
            "train 475 validation 122 test 82\n",
            "train 0    316\n",
            "1    159\n",
            "Name: Hernia, dtype: int64\n",
            "test 0    55\n",
            "1    27\n",
            "Name: Hernia, dtype: int64\n"
          ]
        },
        {
          "data": {
            "text/html": [
              "<div>\n",
              "<style scoped>\n",
              "    .dataframe tbody tr th:only-of-type {\n",
              "        vertical-align: middle;\n",
              "    }\n",
              "\n",
              "    .dataframe tbody tr th {\n",
              "        vertical-align: top;\n",
              "    }\n",
              "\n",
              "    .dataframe thead th {\n",
              "        text-align: right;\n",
              "    }\n",
              "</style>\n",
              "<table border=\"1\" class=\"dataframe\">\n",
              "  <thead>\n",
              "    <tr style=\"text-align: right;\">\n",
              "      <th></th>\n",
              "      <th>Image Index</th>\n",
              "      <th>Finding Labels</th>\n",
              "      <th>Follow-up #</th>\n",
              "      <th>Patient ID</th>\n",
              "      <th>Patient Age</th>\n",
              "      <th>Patient Gender</th>\n",
              "      <th>View Position</th>\n",
              "      <th>OriginalImage[Width</th>\n",
              "      <th>Height]</th>\n",
              "      <th>OriginalImagePixelSpacing[x</th>\n",
              "      <th>y]</th>\n",
              "      <th>path</th>\n",
              "      <th>Pneumonia</th>\n",
              "      <th>Patient Male</th>\n",
              "      <th>Cardiomegaly</th>\n",
              "      <th>Emphysema</th>\n",
              "      <th>Effusion</th>\n",
              "      <th>Hernia</th>\n",
              "      <th>Nodule</th>\n",
              "      <th>Pneumothorax</th>\n",
              "      <th>Atelectasis</th>\n",
              "      <th>Pleural_Thickening</th>\n",
              "      <th>Mass</th>\n",
              "      <th>Edema</th>\n",
              "      <th>Consolidation</th>\n",
              "      <th>Infiltration</th>\n",
              "      <th>Fibrosis</th>\n",
              "      <th>Nothing</th>\n",
              "    </tr>\n",
              "  </thead>\n",
              "  <tbody>\n",
              "    <tr>\n",
              "      <th>175</th>\n",
              "      <td>00021552_016.png</td>\n",
              "      <td>Atelectasis|Infiltration|Mass|Pleural_Thickening</td>\n",
              "      <td>3</td>\n",
              "      <td>21552</td>\n",
              "      <td>50</td>\n",
              "      <td>M</td>\n",
              "      <td>PA</td>\n",
              "      <td>2992</td>\n",
              "      <td>2991</td>\n",
              "      <td>0.143</td>\n",
              "      <td>0.143</td>\n",
              "      <td>/content/drive/MyDrive/Images/image10/00021552...</td>\n",
              "      <td>False</td>\n",
              "      <td>1.0</td>\n",
              "      <td>0</td>\n",
              "      <td>0</td>\n",
              "      <td>0</td>\n",
              "      <td>0</td>\n",
              "      <td>0</td>\n",
              "      <td>0</td>\n",
              "      <td>1</td>\n",
              "      <td>1</td>\n",
              "      <td>1</td>\n",
              "      <td>0</td>\n",
              "      <td>0</td>\n",
              "      <td>1</td>\n",
              "      <td>0</td>\n",
              "      <td>0</td>\n",
              "    </tr>\n",
              "  </tbody>\n",
              "</table>\n",
              "</div>"
            ],
            "text/plain": [
              "          Image Index  ... Nothing\n",
              "175  00021552_016.png  ...       0\n",
              "\n",
              "[1 rows x 28 columns]"
            ]
          },
          "execution_count": 62,
          "metadata": {},
          "output_type": "execute_result"
        }
      ],
      "source": [
        "from sklearn.model_selection import train_test_split\n",
        "raw_train_df, test_valid_df = train_test_split(more_balanced_df, \n",
        "                                   test_size = 0.30, \n",
        "                                   random_state = 2018,\n",
        "                                   stratify = more_balanced_df[['Hernia']])\n",
        "valid_df, test_df = train_test_split(test_valid_df, \n",
        "                                   test_size = 0.40, \n",
        "                                   random_state = 2018,\n",
        "                                   stratify = test_valid_df[['Hernia']])\n",
        "print('train', raw_train_df.shape[0], 'validation', valid_df.shape[0], 'test', test_df.shape[0])\n",
        "print('train', raw_train_df['Hernia'].value_counts())\n",
        "print('test', test_df['Hernia'].value_counts())\n",
        "raw_train_df.sample(1)"
      ]
    },
    {
      "cell_type": "code",
      "execution_count": null,
      "metadata": {
        "colab": {
          "base_uri": "https://localhost:8080/"
        },
        "id": "rNrUL3JT2a2J",
        "outputId": "f08544ef-489b-4ebb-e6aa-ca95679cb29c"
      },
      "outputs": [
        {
          "name": "stdout",
          "output_type": "stream",
          "text": [
            "New Data Size: 4000 Old Size: 475\n"
          ]
        }
      ],
      "source": [
        "train_df = raw_train_df.groupby(['Hernia']).apply(lambda x: x.sample(2000, replace = True)\n",
        "                                                      ).reset_index(drop = True)\n",
        "print('New Data Size:', train_df.shape[0], 'Old Size:', raw_train_df.shape[0])"
      ]
    },
    {
      "cell_type": "code",
      "execution_count": null,
      "metadata": {
        "id": "ebwJuQdx2a2K"
      },
      "outputs": [],
      "source": [
        "from keras.preprocessing.image import ImageDataGenerator\n",
        "idg = ImageDataGenerator(zoom_range=0.2,\n",
        "                           fill_mode='nearest',\n",
        "                           rotation_range=25,  \n",
        "                           width_shift_range=0.25,  \n",
        "                           height_shift_range=0.25,  \n",
        "                           vertical_flip=False, \n",
        "                           horizontal_flip=True,\n",
        "                           shear_range = 0.2,\n",
        "                           samplewise_center=False, \n",
        "                           samplewise_std_normalization=False)\n"
      ]
    },
    {
      "cell_type": "code",
      "execution_count": null,
      "metadata": {
        "id": "xqX1c6Ra2a2L"
      },
      "outputs": [],
      "source": [
        "SEED= 10\n",
        "IMG_SIZE = (128, 128) \n",
        "####\n",
        "def flow_from_dataframe(imgDatGen, df, batch_size, seed, img_size):\n",
        "    #gc.collect()\n",
        "    gen_img = imgDatGen.flow_from_dataframe(dataframe=more_balanced_df,\n",
        "        x_col='path', y_col='Hernia',\n",
        "        batch_size=batch_size, seed=seed, shuffle=True, class_mode='other',\n",
        "        target_size=img_size, color_mode='grayscale',\n",
        "        drop_duplicates=False)\n",
        "\n",
        "    \n",
        "        \n",
        "    while True:\n",
        "        X1i = gen_img.next()\n",
        "        #X2i = gen_img.next()\n",
        "        #gc.collect()\n",
        "        yield [X1i[0], X1i[1]]"
      ]
    },
    {
      "cell_type": "code",
      "execution_count": null,
      "metadata": {
        "id": "S3-Q34h82a2M"
      },
      "outputs": [],
      "source": [
        "flow = flow_from_dataframe(idg, more_balanced_df, 7151, SEED, IMG_SIZE)"
      ]
    },
    {
      "cell_type": "code",
      "execution_count": null,
      "metadata": {
        "colab": {
          "base_uri": "https://localhost:8080/"
        },
        "id": "I_cmA3Md2a2M",
        "outputId": "3a6f14c5-d5c1-466e-bd25-577e12539d4b"
      },
      "outputs": [
        {
          "name": "stderr",
          "output_type": "stream",
          "text": [
            "--- Logging error ---\n",
            "Traceback (most recent call last):\n",
            "  File \"/usr/lib/python3.7/logging/__init__.py\", line 1025, in emit\n",
            "    msg = self.format(record)\n",
            "  File \"/usr/lib/python3.7/logging/__init__.py\", line 869, in format\n",
            "    return fmt.format(record)\n",
            "  File \"/usr/lib/python3.7/logging/__init__.py\", line 608, in format\n",
            "    record.message = record.getMessage()\n",
            "  File \"/usr/lib/python3.7/logging/__init__.py\", line 369, in getMessage\n",
            "    msg = msg % self.args\n",
            "TypeError: not all arguments converted during string formatting\n",
            "Call stack:\n",
            "  File \"/usr/lib/python3.7/runpy.py\", line 193, in _run_module_as_main\n",
            "    \"__main__\", mod_spec)\n",
            "  File \"/usr/lib/python3.7/runpy.py\", line 85, in _run_code\n",
            "    exec(code, run_globals)\n",
            "  File \"/usr/local/lib/python3.7/dist-packages/ipykernel_launcher.py\", line 16, in <module>\n",
            "    app.launch_new_instance()\n",
            "  File \"/usr/local/lib/python3.7/dist-packages/traitlets/config/application.py\", line 846, in launch_instance\n",
            "    app.start()\n",
            "  File \"/usr/local/lib/python3.7/dist-packages/ipykernel/kernelapp.py\", line 499, in start\n",
            "    self.io_loop.start()\n",
            "  File \"/usr/local/lib/python3.7/dist-packages/tornado/platform/asyncio.py\", line 132, in start\n",
            "    self.asyncio_loop.run_forever()\n",
            "  File \"/usr/lib/python3.7/asyncio/base_events.py\", line 541, in run_forever\n",
            "    self._run_once()\n",
            "  File \"/usr/lib/python3.7/asyncio/base_events.py\", line 1786, in _run_once\n",
            "    handle._run()\n",
            "  File \"/usr/lib/python3.7/asyncio/events.py\", line 88, in _run\n",
            "    self._context.run(self._callback, *self._args)\n",
            "  File \"/usr/local/lib/python3.7/dist-packages/tornado/platform/asyncio.py\", line 122, in _handle_events\n",
            "    handler_func(fileobj, events)\n",
            "  File \"/usr/local/lib/python3.7/dist-packages/tornado/stack_context.py\", line 300, in null_wrapper\n",
            "    return fn(*args, **kwargs)\n",
            "  File \"/usr/local/lib/python3.7/dist-packages/zmq/eventloop/zmqstream.py\", line 452, in _handle_events\n",
            "    self._handle_recv()\n",
            "  File \"/usr/local/lib/python3.7/dist-packages/zmq/eventloop/zmqstream.py\", line 481, in _handle_recv\n",
            "    self._run_callback(callback, msg)\n",
            "  File \"/usr/local/lib/python3.7/dist-packages/zmq/eventloop/zmqstream.py\", line 431, in _run_callback\n",
            "    callback(*args, **kwargs)\n",
            "  File \"/usr/local/lib/python3.7/dist-packages/tornado/stack_context.py\", line 300, in null_wrapper\n",
            "    return fn(*args, **kwargs)\n",
            "  File \"/usr/local/lib/python3.7/dist-packages/ipykernel/kernelbase.py\", line 283, in dispatcher\n",
            "    return self.dispatch_shell(stream, msg)\n",
            "  File \"/usr/local/lib/python3.7/dist-packages/ipykernel/kernelbase.py\", line 233, in dispatch_shell\n",
            "    handler(stream, idents, msg)\n",
            "  File \"/usr/local/lib/python3.7/dist-packages/ipykernel/kernelbase.py\", line 399, in execute_request\n",
            "    user_expressions, allow_stdin)\n",
            "  File \"/usr/local/lib/python3.7/dist-packages/ipykernel/ipkernel.py\", line 208, in do_execute\n",
            "    res = shell.run_cell(code, store_history=store_history, silent=silent)\n",
            "  File \"/usr/local/lib/python3.7/dist-packages/ipykernel/zmqshell.py\", line 537, in run_cell\n",
            "    return super(ZMQInteractiveShell, self).run_cell(*args, **kwargs)\n",
            "  File \"/usr/local/lib/python3.7/dist-packages/IPython/core/interactiveshell.py\", line 2718, in run_cell\n",
            "    interactivity=interactivity, compiler=compiler, result=result)\n",
            "  File \"/usr/local/lib/python3.7/dist-packages/IPython/core/interactiveshell.py\", line 2822, in run_ast_nodes\n",
            "    if self.run_code(code, result):\n",
            "  File \"/usr/local/lib/python3.7/dist-packages/IPython/core/interactiveshell.py\", line 2882, in run_code\n",
            "    exec(code_obj, self.user_global_ns, self.user_ns)\n",
            "  File \"<ipython-input-67-710bbcbe35c6>\", line 1, in <module>\n",
            "    t,y= next(flow)\n",
            "  File \"<ipython-input-65-5c17a1f09a1f>\", line 10, in flow_from_dataframe\n",
            "    drop_duplicates=False)\n",
            "  File \"/usr/local/lib/python3.7/dist-packages/keras/preprocessing/image.py\", line 1109, in flow_from_dataframe\n",
            "    '`class_mode` \"raw\".', DeprecationWarning)\n",
            "  File \"/usr/local/lib/python3.7/dist-packages/tensorflow/python/platform/tf_logging.py\", line 178, in warning\n",
            "    get_logger().warning(msg, *args, **kwargs)\n",
            "Message: '`class_mode` \"other\" is deprecated, please use `class_mode` \"raw\".'\n",
            "Arguments: (<class 'DeprecationWarning'>,)\n",
            "--- Logging error ---\n",
            "Traceback (most recent call last):\n",
            "  File \"/usr/lib/python3.7/logging/__init__.py\", line 1025, in emit\n",
            "    msg = self.format(record)\n",
            "  File \"/usr/lib/python3.7/logging/__init__.py\", line 869, in format\n",
            "    return fmt.format(record)\n",
            "  File \"/usr/lib/python3.7/logging/__init__.py\", line 608, in format\n",
            "    record.message = record.getMessage()\n",
            "  File \"/usr/lib/python3.7/logging/__init__.py\", line 369, in getMessage\n",
            "    msg = msg % self.args\n",
            "TypeError: not all arguments converted during string formatting\n",
            "Call stack:\n",
            "  File \"/usr/lib/python3.7/runpy.py\", line 193, in _run_module_as_main\n",
            "    \"__main__\", mod_spec)\n",
            "  File \"/usr/lib/python3.7/runpy.py\", line 85, in _run_code\n",
            "    exec(code, run_globals)\n",
            "  File \"/usr/local/lib/python3.7/dist-packages/ipykernel_launcher.py\", line 16, in <module>\n",
            "    app.launch_new_instance()\n",
            "  File \"/usr/local/lib/python3.7/dist-packages/traitlets/config/application.py\", line 846, in launch_instance\n",
            "    app.start()\n",
            "  File \"/usr/local/lib/python3.7/dist-packages/ipykernel/kernelapp.py\", line 499, in start\n",
            "    self.io_loop.start()\n",
            "  File \"/usr/local/lib/python3.7/dist-packages/tornado/platform/asyncio.py\", line 132, in start\n",
            "    self.asyncio_loop.run_forever()\n",
            "  File \"/usr/lib/python3.7/asyncio/base_events.py\", line 541, in run_forever\n",
            "    self._run_once()\n",
            "  File \"/usr/lib/python3.7/asyncio/base_events.py\", line 1786, in _run_once\n",
            "    handle._run()\n",
            "  File \"/usr/lib/python3.7/asyncio/events.py\", line 88, in _run\n",
            "    self._context.run(self._callback, *self._args)\n",
            "  File \"/usr/local/lib/python3.7/dist-packages/tornado/platform/asyncio.py\", line 122, in _handle_events\n",
            "    handler_func(fileobj, events)\n",
            "  File \"/usr/local/lib/python3.7/dist-packages/tornado/stack_context.py\", line 300, in null_wrapper\n",
            "    return fn(*args, **kwargs)\n",
            "  File \"/usr/local/lib/python3.7/dist-packages/zmq/eventloop/zmqstream.py\", line 452, in _handle_events\n",
            "    self._handle_recv()\n",
            "  File \"/usr/local/lib/python3.7/dist-packages/zmq/eventloop/zmqstream.py\", line 481, in _handle_recv\n",
            "    self._run_callback(callback, msg)\n",
            "  File \"/usr/local/lib/python3.7/dist-packages/zmq/eventloop/zmqstream.py\", line 431, in _run_callback\n",
            "    callback(*args, **kwargs)\n",
            "  File \"/usr/local/lib/python3.7/dist-packages/tornado/stack_context.py\", line 300, in null_wrapper\n",
            "    return fn(*args, **kwargs)\n",
            "  File \"/usr/local/lib/python3.7/dist-packages/ipykernel/kernelbase.py\", line 283, in dispatcher\n",
            "    return self.dispatch_shell(stream, msg)\n",
            "  File \"/usr/local/lib/python3.7/dist-packages/ipykernel/kernelbase.py\", line 233, in dispatch_shell\n",
            "    handler(stream, idents, msg)\n",
            "  File \"/usr/local/lib/python3.7/dist-packages/ipykernel/kernelbase.py\", line 399, in execute_request\n",
            "    user_expressions, allow_stdin)\n",
            "  File \"/usr/local/lib/python3.7/dist-packages/ipykernel/ipkernel.py\", line 208, in do_execute\n",
            "    res = shell.run_cell(code, store_history=store_history, silent=silent)\n",
            "  File \"/usr/local/lib/python3.7/dist-packages/ipykernel/zmqshell.py\", line 537, in run_cell\n",
            "    return super(ZMQInteractiveShell, self).run_cell(*args, **kwargs)\n",
            "  File \"/usr/local/lib/python3.7/dist-packages/IPython/core/interactiveshell.py\", line 2718, in run_cell\n",
            "    interactivity=interactivity, compiler=compiler, result=result)\n",
            "  File \"/usr/local/lib/python3.7/dist-packages/IPython/core/interactiveshell.py\", line 2822, in run_ast_nodes\n",
            "    if self.run_code(code, result):\n",
            "  File \"/usr/local/lib/python3.7/dist-packages/IPython/core/interactiveshell.py\", line 2882, in run_code\n",
            "    exec(code_obj, self.user_global_ns, self.user_ns)\n",
            "  File \"<ipython-input-67-710bbcbe35c6>\", line 1, in <module>\n",
            "    t,y= next(flow)\n",
            "  File \"<ipython-input-65-5c17a1f09a1f>\", line 10, in flow_from_dataframe\n",
            "    drop_duplicates=False)\n",
            "  File \"/usr/local/lib/python3.7/dist-packages/keras/preprocessing/image.py\", line 1115, in flow_from_dataframe\n",
            "    DeprecationWarning)\n",
            "  File \"/usr/local/lib/python3.7/dist-packages/tensorflow/python/platform/tf_logging.py\", line 178, in warning\n",
            "    get_logger().warning(msg, *args, **kwargs)\n",
            "Message: 'drop_duplicates is deprecated, you can drop duplicates by using the pandas.DataFrame.drop_duplicates method.'\n",
            "Arguments: (<class 'DeprecationWarning'>,)\n"
          ]
        },
        {
          "name": "stdout",
          "output_type": "stream",
          "text": [
            "Found 679 validated image filenames.\n"
          ]
        }
      ],
      "source": [
        "t,y= next(flow)"
      ]
    },
    {
      "cell_type": "code",
      "execution_count": null,
      "metadata": {
        "id": "pbQDhoh02a2M"
      },
      "outputs": [],
      "source": [
        "from sklearn.model_selection import train_test_split\n",
        "X_train, X_test, y_train, y_test = train_test_split(t,y, \n",
        "                                   test_size = 0.30, \n",
        "                                   random_state = 2018)\n"
      ]
    },
    {
      "cell_type": "code",
      "execution_count": null,
      "metadata": {
        "colab": {
          "base_uri": "https://localhost:8080/"
        },
        "id": "zGM26vBN2a2M",
        "outputId": "8d0b8e2a-17ea-4453-b2fe-d4c31d7caa87"
      },
      "outputs": [
        {
          "name": "stdout",
          "output_type": "stream",
          "text": [
            "Model: \"sequential_3\"\n",
            "_________________________________________________________________\n",
            " Layer (type)                Output Shape              Param #   \n",
            "=================================================================\n",
            " mobilenet_1.00_128 (Functio  (None, 4, 4, 1024)       3228288   \n",
            " nal)                                                            \n",
            "                                                                 \n",
            " global_average_pooling2d_3   (None, 1024)             0         \n",
            " (GlobalAveragePooling2D)                                        \n",
            "                                                                 \n",
            " dropout_6 (Dropout)         (None, 1024)              0         \n",
            "                                                                 \n",
            " dense_6 (Dense)             (None, 512)               524800    \n",
            "                                                                 \n",
            " dropout_7 (Dropout)         (None, 512)               0         \n",
            "                                                                 \n",
            " dense_7 (Dense)             (None, 1)                 513       \n",
            "                                                                 \n",
            "=================================================================\n",
            "Total params: 3,753,601\n",
            "Trainable params: 3,731,713\n",
            "Non-trainable params: 21,888\n",
            "_________________________________________________________________\n"
          ]
        }
      ],
      "source": [
        "from keras.applications.mobilenet import MobileNet\n",
        "from keras.layers import GlobalAveragePooling2D, Dense, Dropout, Flatten\n",
        "from keras.models import Sequential\n",
        "mobilenet_model = MobileNet(input_shape =  X_train.shape[1:], \n",
        "                                 include_top = False, weights = None)\n",
        "mobilenet_GAP_model = Sequential()\n",
        "mobilenet_GAP_model.add(mobilenet_model)\n",
        "mobilenet_GAP_model.add(GlobalAveragePooling2D())\n",
        "mobilenet_GAP_model.add(Dropout(0.5))\n",
        "mobilenet_GAP_model.add(Dense(512))\n",
        "mobilenet_GAP_model.add(Dropout(0.5))\n",
        "mobilenet_GAP_model.add(Dense(1, activation = 'sigmoid'))\n",
        "mobilenet_GAP_model.compile(optimizer = 'adam', loss = 'binary_crossentropy',\n",
        "                           metrics = ['binary_accuracy', 'mae'])\n",
        "mobilenet_GAP_model.summary()"
      ]
    },
    {
      "cell_type": "code",
      "execution_count": null,
      "metadata": {
        "id": "zTAKXY2d2a2N"
      },
      "outputs": [],
      "source": [
        "from keras.callbacks import ModelCheckpoint, LearningRateScheduler, EarlyStopping, ReduceLROnPlateau\n",
        "weight_path=\"{}_weights.best.hdf5\".format('xray_class')\n",
        "\n",
        "checkpoint = ModelCheckpoint(weight_path, monitor='val_loss', verbose=1, \n",
        "                             save_best_only=True, mode='min', save_weights_only = True)\n",
        "\n",
        "early = EarlyStopping(monitor=\"val_loss\", \n",
        "                      mode=\"min\", \n",
        "                      patience=3)\n",
        "callbacks_list = [checkpoint, early]"
      ]
    },
    {
      "cell_type": "code",
      "execution_count": null,
      "metadata": {
        "colab": {
          "base_uri": "https://localhost:8080/"
        },
        "id": "b1I-ecyA2a2N",
        "outputId": "d6128ddd-053e-41d3-9dcf-f3589c0553a3"
      },
      "outputs": [
        {
          "name": "stdout",
          "output_type": "stream",
          "text": [
            "Epoch 1/10\n",
            "10/10 [==============================] - ETA: 0s - loss: 1.8058 - binary_accuracy: 0.5642 - mae: 0.4297\n",
            "Epoch 00001: val_loss improved from inf to 0.67619, saving model to xray_class_weights.best.hdf5\n",
            "10/10 [==============================] - 36s 3s/step - loss: 1.8058 - binary_accuracy: 0.5642 - mae: 0.4297 - val_loss: 0.6762 - val_binary_accuracy: 0.6225 - val_mae: 0.4898\n",
            "Epoch 2/10\n",
            "10/10 [==============================] - ETA: 0s - loss: 1.2628 - binary_accuracy: 0.5895 - mae: 0.4205\n",
            "Epoch 00002: val_loss improved from 0.67619 to 0.67051, saving model to xray_class_weights.best.hdf5\n",
            "10/10 [==============================] - 33s 3s/step - loss: 1.2628 - binary_accuracy: 0.5895 - mae: 0.4205 - val_loss: 0.6705 - val_binary_accuracy: 0.6225 - val_mae: 0.4850\n",
            "Epoch 3/10\n",
            "10/10 [==============================] - ETA: 0s - loss: 0.8692 - binary_accuracy: 0.6568 - mae: 0.3849\n",
            "Epoch 00003: val_loss improved from 0.67051 to 0.66586, saving model to xray_class_weights.best.hdf5\n",
            "10/10 [==============================] - 33s 3s/step - loss: 0.8692 - binary_accuracy: 0.6568 - mae: 0.3849 - val_loss: 0.6659 - val_binary_accuracy: 0.6225 - val_mae: 0.4794\n",
            "Epoch 4/10\n",
            "10/10 [==============================] - ETA: 0s - loss: 0.6384 - binary_accuracy: 0.7032 - mae: 0.3238\n",
            "Epoch 00004: val_loss did not improve from 0.66586\n",
            "10/10 [==============================] - 32s 3s/step - loss: 0.6384 - binary_accuracy: 0.7032 - mae: 0.3238 - val_loss: 0.6667 - val_binary_accuracy: 0.6225 - val_mae: 0.4805\n",
            "Epoch 5/10\n",
            "10/10 [==============================] - ETA: 0s - loss: 0.7114 - binary_accuracy: 0.7263 - mae: 0.3247\n",
            "Epoch 00005: val_loss improved from 0.66586 to 0.66353, saving model to xray_class_weights.best.hdf5\n",
            "10/10 [==============================] - 33s 3s/step - loss: 0.7114 - binary_accuracy: 0.7263 - mae: 0.3247 - val_loss: 0.6635 - val_binary_accuracy: 0.6225 - val_mae: 0.4655\n",
            "Epoch 6/10\n",
            "10/10 [==============================] - ETA: 0s - loss: 0.3988 - binary_accuracy: 0.8421 - mae: 0.2207\n",
            "Epoch 00006: val_loss did not improve from 0.66353\n",
            "10/10 [==============================] - 33s 3s/step - loss: 0.3988 - binary_accuracy: 0.8421 - mae: 0.2207 - val_loss: 0.6640 - val_binary_accuracy: 0.6225 - val_mae: 0.4642\n",
            "Epoch 7/10\n",
            "10/10 [==============================] - ETA: 0s - loss: 0.4358 - binary_accuracy: 0.8253 - mae: 0.1975\n",
            "Epoch 00007: val_loss did not improve from 0.66353\n",
            "10/10 [==============================] - 33s 3s/step - loss: 0.4358 - binary_accuracy: 0.8253 - mae: 0.1975 - val_loss: 0.6828 - val_binary_accuracy: 0.6225 - val_mae: 0.4472\n",
            "Epoch 8/10\n",
            "10/10 [==============================] - ETA: 0s - loss: 0.5239 - binary_accuracy: 0.7979 - mae: 0.2291\n",
            "Epoch 00008: val_loss did not improve from 0.66353\n",
            "10/10 [==============================] - 32s 3s/step - loss: 0.5239 - binary_accuracy: 0.7979 - mae: 0.2291 - val_loss: 0.7212 - val_binary_accuracy: 0.6225 - val_mae: 0.4327\n"
          ]
        }
      ],
      "source": [
        "history_mobilenet_GAP = mobilenet_GAP_model.fit(X_train,y_train,\n",
        "                                  steps_per_epoch=10,\n",
        "                                  validation_data = (X_test, y_test), \n",
        "                                  epochs = 10, \n",
        "                                  callbacks = callbacks_list)"
      ]
    },
    {
      "cell_type": "code",
      "execution_count": null,
      "metadata": {
        "colab": {
          "base_uri": "https://localhost:8080/"
        },
        "id": "LSLItS9x2a2O",
        "outputId": "2280372c-4841-49fa-d6ad-494d7343db62"
      },
      "outputs": [
        {
          "name": "stdout",
          "output_type": "stream",
          "text": [
            "7/7 [==============================] - 3s 304ms/step\n"
          ]
        }
      ],
      "source": [
        "pred_Y = mobilenet_GAP_model.predict(X_test, \n",
        "                          batch_size = 32, \n",
        "                          verbose = True)"
      ]
    },
    {
      "cell_type": "code",
      "execution_count": null,
      "metadata": {
        "colab": {
          "base_uri": "https://localhost:8080/"
        },
        "id": "NNtc-cpb2a2O",
        "outputId": "6b34b494-b564-4988-94b0-48681ddedf60"
      },
      "outputs": [
        {
          "data": {
            "text/plain": [
              "array([[0.22558135],\n",
              "       [0.22558132],\n",
              "       [0.22558135],\n",
              "       [0.22558132],\n",
              "       [0.22558135],\n",
              "       [0.22558135],\n",
              "       [0.22558132],\n",
              "       [0.22558135],\n",
              "       [0.22558132],\n",
              "       [0.22558135],\n",
              "       [0.22558135],\n",
              "       [0.22558135],\n",
              "       [0.22558135],\n",
              "       [0.22558135],\n",
              "       [0.22558135],\n",
              "       [0.22558135],\n",
              "       [0.22558132],\n",
              "       [0.22558135],\n",
              "       [0.22558135],\n",
              "       [0.22558132],\n",
              "       [0.22558135],\n",
              "       [0.22558132],\n",
              "       [0.22558132],\n",
              "       [0.22558135],\n",
              "       [0.22558135],\n",
              "       [0.22558135],\n",
              "       [0.22558135],\n",
              "       [0.22558135],\n",
              "       [0.22558135],\n",
              "       [0.22558135],\n",
              "       [0.22558135],\n",
              "       [0.22558132],\n",
              "       [0.22558135],\n",
              "       [0.22558135],\n",
              "       [0.22558135],\n",
              "       [0.22558132],\n",
              "       [0.22558132],\n",
              "       [0.22558135],\n",
              "       [0.22558135],\n",
              "       [0.22558132],\n",
              "       [0.22558135],\n",
              "       [0.22558135],\n",
              "       [0.22558135],\n",
              "       [0.22558135],\n",
              "       [0.22558135],\n",
              "       [0.22558135],\n",
              "       [0.22558135],\n",
              "       [0.22558135],\n",
              "       [0.22558135],\n",
              "       [0.22558135],\n",
              "       [0.22558132],\n",
              "       [0.22558132],\n",
              "       [0.22558135],\n",
              "       [0.22558135],\n",
              "       [0.22558132],\n",
              "       [0.22558135],\n",
              "       [0.22558135],\n",
              "       [0.22558135],\n",
              "       [0.22558135],\n",
              "       [0.22558135],\n",
              "       [0.22558135],\n",
              "       [0.22558135],\n",
              "       [0.22558132],\n",
              "       [0.22558135],\n",
              "       [0.22558135],\n",
              "       [0.22558135],\n",
              "       [0.22558132],\n",
              "       [0.22558135],\n",
              "       [0.22558135],\n",
              "       [0.22558132],\n",
              "       [0.22558132],\n",
              "       [0.22558135],\n",
              "       [0.22558135],\n",
              "       [0.22558135],\n",
              "       [0.22558135],\n",
              "       [0.22558135],\n",
              "       [0.22558135],\n",
              "       [0.22558135],\n",
              "       [0.22558135],\n",
              "       [0.22558135],\n",
              "       [0.22558132],\n",
              "       [0.22558135],\n",
              "       [0.22558135],\n",
              "       [0.22558132],\n",
              "       [0.22558135],\n",
              "       [0.22558135],\n",
              "       [0.22558132],\n",
              "       [0.22558135],\n",
              "       [0.22558132],\n",
              "       [0.22558135],\n",
              "       [0.22558132],\n",
              "       [0.22558132],\n",
              "       [0.22558135],\n",
              "       [0.22558135],\n",
              "       [0.22558132],\n",
              "       [0.22558132],\n",
              "       [0.22558135],\n",
              "       [0.22558135],\n",
              "       [0.22558135],\n",
              "       [0.22558135],\n",
              "       [0.22558135],\n",
              "       [0.22558135],\n",
              "       [0.22558132],\n",
              "       [0.22558135],\n",
              "       [0.22558135],\n",
              "       [0.22558132],\n",
              "       [0.22558132],\n",
              "       [0.22558135],\n",
              "       [0.22558132],\n",
              "       [0.22558132],\n",
              "       [0.22558135],\n",
              "       [0.22558132],\n",
              "       [0.22558135],\n",
              "       [0.22558135],\n",
              "       [0.22558135],\n",
              "       [0.22558132],\n",
              "       [0.22558135],\n",
              "       [0.22558135],\n",
              "       [0.22558135],\n",
              "       [0.22558135],\n",
              "       [0.22558135],\n",
              "       [0.22558135],\n",
              "       [0.22558135],\n",
              "       [0.22558135],\n",
              "       [0.22558132],\n",
              "       [0.22558132],\n",
              "       [0.22558132],\n",
              "       [0.22558132],\n",
              "       [0.22558135],\n",
              "       [0.22558135],\n",
              "       [0.22558132],\n",
              "       [0.22558135],\n",
              "       [0.22558135],\n",
              "       [0.22558135],\n",
              "       [0.22558135],\n",
              "       [0.22558132],\n",
              "       [0.22558135],\n",
              "       [0.22558132],\n",
              "       [0.22558135],\n",
              "       [0.22558135],\n",
              "       [0.22558135],\n",
              "       [0.22558135],\n",
              "       [0.22558135],\n",
              "       [0.22558135],\n",
              "       [0.22558135],\n",
              "       [0.22558135],\n",
              "       [0.22558135],\n",
              "       [0.22558132],\n",
              "       [0.22558132],\n",
              "       [0.22558132],\n",
              "       [0.22558135],\n",
              "       [0.22558135],\n",
              "       [0.22558135],\n",
              "       [0.22558135],\n",
              "       [0.22558135],\n",
              "       [0.22558132],\n",
              "       [0.22558135],\n",
              "       [0.22558135],\n",
              "       [0.22558132],\n",
              "       [0.22558135],\n",
              "       [0.22558135],\n",
              "       [0.22558135],\n",
              "       [0.22558135],\n",
              "       [0.22558135],\n",
              "       [0.22558135],\n",
              "       [0.22558135],\n",
              "       [0.22558135],\n",
              "       [0.22558132],\n",
              "       [0.22558135],\n",
              "       [0.22558135],\n",
              "       [0.22558135],\n",
              "       [0.22558135],\n",
              "       [0.22558132],\n",
              "       [0.22558135],\n",
              "       [0.22558135],\n",
              "       [0.22558132],\n",
              "       [0.22558135],\n",
              "       [0.22558135],\n",
              "       [0.22558135],\n",
              "       [0.22558135],\n",
              "       [0.22558135],\n",
              "       [0.22558135],\n",
              "       [0.22558135],\n",
              "       [0.22558135],\n",
              "       [0.22558135],\n",
              "       [0.22558135],\n",
              "       [0.22558135],\n",
              "       [0.22558135],\n",
              "       [0.22558135],\n",
              "       [0.22558135],\n",
              "       [0.22558135],\n",
              "       [0.22558132],\n",
              "       [0.22558135],\n",
              "       [0.22558132],\n",
              "       [0.22558135],\n",
              "       [0.22558135],\n",
              "       [0.22558135],\n",
              "       [0.22558135],\n",
              "       [0.22558135],\n",
              "       [0.22558135],\n",
              "       [0.22558135],\n",
              "       [0.22558135],\n",
              "       [0.22558132],\n",
              "       [0.22558135]], dtype=float32)"
            ]
          },
          "execution_count": 73,
          "metadata": {},
          "output_type": "execute_result"
        }
      ],
      "source": [
        "pred_Y"
      ]
    },
    {
      "cell_type": "code",
      "execution_count": null,
      "metadata": {
        "colab": {
          "base_uri": "https://localhost:8080/"
        },
        "id": "R_0jEPLM2a2O",
        "outputId": "37203a27-e31d-4933-bc72-bb8b98abe736"
      },
      "outputs": [
        {
          "data": {
            "text/plain": [
              "array([0.22558132], dtype=float32)"
            ]
          },
          "execution_count": 74,
          "metadata": {},
          "output_type": "execute_result"
        }
      ],
      "source": [
        "min(pred_Y)"
      ]
    },
    {
      "cell_type": "code",
      "execution_count": null,
      "metadata": {
        "colab": {
          "base_uri": "https://localhost:8080/"
        },
        "id": "MlJYC7gh2a2P",
        "outputId": "9986ac12-91ee-41ad-b818-bef2ab98a8f3"
      },
      "outputs": [
        {
          "name": "stdout",
          "output_type": "stream",
          "text": [
            "test accuracy =  0.6225489974021912\n"
          ]
        }
      ],
      "source": [
        "print('test accuracy = ',mobilenet_GAP_model.evaluate(X_test,y_test, verbose=0)[1])"
      ]
    },
    {
      "cell_type": "code",
      "execution_count": null,
      "metadata": {
        "colab": {
          "base_uri": "https://localhost:8080/"
        },
        "id": "PPB3qzq02a2P",
        "outputId": "4bae4971-ff8f-40d1-acd1-b8ae8e5ba4a6"
      },
      "outputs": [
        {
          "name": "stdout",
          "output_type": "stream",
          "text": [
            "roc score =  0.5274056652009408\n"
          ]
        }
      ],
      "source": [
        "from sklearn.metrics import roc_auc_score\n",
        "print('roc score = ',roc_auc_score(y_test.astype(int), pred_Y))"
      ]
    },
    {
      "cell_type": "code",
      "execution_count": null,
      "metadata": {
        "colab": {
          "base_uri": "https://localhost:8080/",
          "height": 430
        },
        "id": "PNZzcJZB2a2P",
        "outputId": "e7bd9089-fb70-46cf-803e-145471ff4033"
      },
      "outputs": [
        {
          "name": "stdout",
          "output_type": "stream",
          "text": [
            "              precision    recall  f1-score   support\n",
            "\n",
            "   No Hernia       0.67      0.28      0.39       127\n",
            "      Hernia       0.39      0.78      0.52        77\n",
            "\n",
            "    accuracy                           0.47       204\n",
            "   macro avg       0.53      0.53      0.46       204\n",
            "weighted avg       0.57      0.47      0.44       204\n",
            "\n"
          ]
        },
        {
          "data": {
            "image/png": "[encoded data removed]",
            "text/plain": [
              "<Figure size 288x288 with 1 Axes>"
            ]
          },
          "metadata": {},
          "output_type": "display_data"
        }
      ],
      "source": [
        "from sklearn.metrics import classification_report, confusion_matrix\n",
        "plt.matshow(confusion_matrix(y_test, pred_Y>0.22558132))\n",
        "print(classification_report(y_test, pred_Y>0.22558132, target_names = ['No Hernia', 'Hernia']))"
      ]
    },
    {
      "cell_type": "markdown",
      "metadata": {
        "id": "tAhl9reS2bsz"
      },
      "source": [
        "## **Infiltration**"
      ]
    },
    {
      "cell_type": "code",
      "execution_count": null,
      "metadata": {
        "colab": {
          "base_uri": "https://localhost:8080/",
          "height": 266
        },
        "id": "DCZQZgwU2cO4",
        "outputId": "eabe2a3d-0e5c-41c2-b6d2-fedea3dd23a2"
      },
      "outputs": [
        {
          "name": "stdout",
          "output_type": "stream",
          "text": [
            "0    39788\n",
            "1    19894\n",
            "Name: Infiltration, dtype: int64\n"
          ]
        },
        {
          "data": {
            "text/plain": [
              "<seaborn.axisgrid.PairGrid at 0x7f879108fbd0>"
            ]
          },
          "execution_count": 78,
          "metadata": {},
          "output_type": "execute_result"
        },
        {
          "data": {
            "image/png": "[encoded data removed]",
            "text/plain": [
              "<Figure size 239.875x180 with 2 Axes>"
            ]
          },
          "metadata": {},
          "output_type": "display_data"
        }
      ],
      "source": [
        "positive_cases = np.sum(all_xray_df['Infiltration']==True)//2\n",
        "oversample_factor = 4 # maximum number of cases in negative group so it isn't super rare\n",
        "more_balanced_df = all_xray_df.groupby(['Infiltration']).apply(lambda x: x.sample(min(oversample_factor*positive_cases, x.shape[0]), \n",
        "                                                                                   replace = False)\n",
        "                                                      ).reset_index(drop = True)\n",
        "\n",
        "print(more_balanced_df['Infiltration'].value_counts())\n",
        "sns.pairplot(more_balanced_df[['Patient Age', 'Infiltration']], hue='Infiltration')"
      ]
    },
    {
      "cell_type": "code",
      "execution_count": null,
      "metadata": {
        "colab": {
          "base_uri": "https://localhost:8080/",
          "height": 257
        },
        "id": "9iZB1Dz92cO5",
        "outputId": "7cd8a5ea-80ce-4314-eebf-b87c9764b894"
      },
      "outputs": [
        {
          "name": "stdout",
          "output_type": "stream",
          "text": [
            "train 41777 validation 10743 test 7162\n",
            "train 0    27851\n",
            "1    13926\n",
            "Name: Infiltration, dtype: int64\n",
            "test 0    4775\n",
            "1    2387\n",
            "Name: Infiltration, dtype: int64\n"
          ]
        },
        {
          "data": {
            "text/html": [
              "<div>\n",
              "<style scoped>\n",
              "    .dataframe tbody tr th:only-of-type {\n",
              "        vertical-align: middle;\n",
              "    }\n",
              "\n",
              "    .dataframe tbody tr th {\n",
              "        vertical-align: top;\n",
              "    }\n",
              "\n",
              "    .dataframe thead th {\n",
              "        text-align: right;\n",
              "    }\n",
              "</style>\n",
              "<table border=\"1\" class=\"dataframe\">\n",
              "  <thead>\n",
              "    <tr style=\"text-align: right;\">\n",
              "      <th></th>\n",
              "      <th>Image Index</th>\n",
              "      <th>Finding Labels</th>\n",
              "      <th>Follow-up #</th>\n",
              "      <th>Patient ID</th>\n",
              "      <th>Patient Age</th>\n",
              "      <th>Patient Gender</th>\n",
              "      <th>View Position</th>\n",
              "      <th>OriginalImage[Width</th>\n",
              "      <th>Height]</th>\n",
              "      <th>OriginalImagePixelSpacing[x</th>\n",
              "      <th>y]</th>\n",
              "      <th>path</th>\n",
              "      <th>Pneumonia</th>\n",
              "      <th>Patient Male</th>\n",
              "      <th>Cardiomegaly</th>\n",
              "      <th>Emphysema</th>\n",
              "      <th>Effusion</th>\n",
              "      <th>Hernia</th>\n",
              "      <th>Nodule</th>\n",
              "      <th>Pneumothorax</th>\n",
              "      <th>Atelectasis</th>\n",
              "      <th>Pleural_Thickening</th>\n",
              "      <th>Mass</th>\n",
              "      <th>Edema</th>\n",
              "      <th>Consolidation</th>\n",
              "      <th>Infiltration</th>\n",
              "      <th>Fibrosis</th>\n",
              "      <th>Nothing</th>\n",
              "    </tr>\n",
              "  </thead>\n",
              "  <tbody>\n",
              "    <tr>\n",
              "      <th>34171</th>\n",
              "      <td>00005520_000.png</td>\n",
              "      <td>No Finding</td>\n",
              "      <td>0</td>\n",
              "      <td>5520</td>\n",
              "      <td>42</td>\n",
              "      <td>M</td>\n",
              "      <td>PA</td>\n",
              "      <td>2048</td>\n",
              "      <td>2500</td>\n",
              "      <td>0.168</td>\n",
              "      <td>0.168</td>\n",
              "      <td>/content/drive/MyDrive/Images/image3/00005520_...</td>\n",
              "      <td>False</td>\n",
              "      <td>1.0</td>\n",
              "      <td>0</td>\n",
              "      <td>0</td>\n",
              "      <td>0</td>\n",
              "      <td>0</td>\n",
              "      <td>0</td>\n",
              "      <td>0</td>\n",
              "      <td>0</td>\n",
              "      <td>0</td>\n",
              "      <td>0</td>\n",
              "      <td>0</td>\n",
              "      <td>0</td>\n",
              "      <td>0</td>\n",
              "      <td>0</td>\n",
              "      <td>1</td>\n",
              "    </tr>\n",
              "  </tbody>\n",
              "</table>\n",
              "</div>"
            ],
            "text/plain": [
              "            Image Index Finding Labels  ...  Fibrosis  Nothing\n",
              "34171  00005520_000.png     No Finding  ...         0        1\n",
              "\n",
              "[1 rows x 28 columns]"
            ]
          },
          "execution_count": 79,
          "metadata": {},
          "output_type": "execute_result"
        }
      ],
      "source": [
        "from sklearn.model_selection import train_test_split\n",
        "raw_train_df, test_valid_df = train_test_split(more_balanced_df, \n",
        "                                   test_size = 0.30, \n",
        "                                   random_state = 2018,\n",
        "                                   stratify = more_balanced_df[['Infiltration']])\n",
        "valid_df, test_df = train_test_split(test_valid_df, \n",
        "                                   test_size = 0.40, \n",
        "                                   random_state = 2018,\n",
        "                                   stratify = test_valid_df[['Infiltration']])\n",
        "print('train', raw_train_df.shape[0], 'validation', valid_df.shape[0], 'test', test_df.shape[0])\n",
        "print('train', raw_train_df['Infiltration'].value_counts())\n",
        "print('test', test_df['Infiltration'].value_counts())\n",
        "raw_train_df.sample(1)"
      ]
    },
    {
      "cell_type": "code",
      "execution_count": null,
      "metadata": {
        "colab": {
          "base_uri": "https://localhost:8080/"
        },
        "id": "qhDB9Zr12cO5",
        "outputId": "977e8f89-4018-435b-8d27-67cad353e99e"
      },
      "outputs": [
        {
          "name": "stdout",
          "output_type": "stream",
          "text": [
            "New Data Size: 4000 Old Size: 41777\n"
          ]
        }
      ],
      "source": [
        "train_df = raw_train_df.groupby(['Infiltration']).apply(lambda x: x.sample(2000, replace = True)\n",
        "                                                      ).reset_index(drop = True)\n",
        "print('New Data Size:', train_df.shape[0], 'Old Size:', raw_train_df.shape[0])"
      ]
    },
    {
      "cell_type": "code",
      "execution_count": null,
      "metadata": {
        "id": "r2PFBVt_2cO5"
      },
      "outputs": [],
      "source": [
        "from keras.preprocessing.image import ImageDataGenerator\n",
        "idg = ImageDataGenerator(zoom_range=0.2,\n",
        "                           fill_mode='nearest',\n",
        "                           rotation_range=25,  \n",
        "                           width_shift_range=0.25,  \n",
        "                           height_shift_range=0.25,  \n",
        "                           vertical_flip=False, \n",
        "                           horizontal_flip=True,\n",
        "                           shear_range = 0.2,\n",
        "                           samplewise_center=False, \n",
        "                           samplewise_std_normalization=False)\n"
      ]
    },
    {
      "cell_type": "code",
      "execution_count": null,
      "metadata": {
        "id": "uM4bVZO-2cO6"
      },
      "outputs": [],
      "source": [
        "SEED= 10\n",
        "IMG_SIZE = (128, 128) \n",
        "####\n",
        "def flow_from_dataframe(imgDatGen, df, batch_size, seed, img_size):\n",
        "    #gc.collect()\n",
        "    gen_img = imgDatGen.flow_from_dataframe(dataframe=more_balanced_df,\n",
        "        x_col='path', y_col='Infiltration',\n",
        "        batch_size=batch_size, seed=seed, shuffle=True, class_mode='other',\n",
        "        target_size=img_size, color_mode='grayscale',\n",
        "        drop_duplicates=False)\n",
        "\n",
        "    \n",
        "        \n",
        "    while True:\n",
        "        X1i = gen_img.next()\n",
        "        #X2i = gen_img.next()\n",
        "        #gc.collect()\n",
        "        yield [X1i[0], X1i[1]]"
      ]
    },
    {
      "cell_type": "code",
      "execution_count": null,
      "metadata": {
        "id": "iWqgsRtM2cO6"
      },
      "outputs": [],
      "source": [
        "flow = flow_from_dataframe(idg, more_balanced_df, 7151, SEED, IMG_SIZE)"
      ]
    },
    {
      "cell_type": "code",
      "execution_count": null,
      "metadata": {
        "colab": {
          "base_uri": "https://localhost:8080/"
        },
        "id": "d0pvrNWT2cO6",
        "outputId": "8f7b7fee-d629-4223-cb9c-43ebcf02f74a"
      },
      "outputs": [
        {
          "name": "stderr",
          "output_type": "stream",
          "text": [
            "--- Logging error ---\n",
            "Traceback (most recent call last):\n",
            "  File \"/usr/lib/python3.7/logging/__init__.py\", line 1025, in emit\n",
            "    msg = self.format(record)\n",
            "  File \"/usr/lib/python3.7/logging/__init__.py\", line 869, in format\n",
            "    return fmt.format(record)\n",
            "  File \"/usr/lib/python3.7/logging/__init__.py\", line 608, in format\n",
            "    record.message = record.getMessage()\n",
            "  File \"/usr/lib/python3.7/logging/__init__.py\", line 369, in getMessage\n",
            "    msg = msg % self.args\n",
            "TypeError: not all arguments converted during string formatting\n",
            "Call stack:\n",
            "  File \"/usr/lib/python3.7/runpy.py\", line 193, in _run_module_as_main\n",
            "    \"__main__\", mod_spec)\n",
            "  File \"/usr/lib/python3.7/runpy.py\", line 85, in _run_code\n",
            "    exec(code, run_globals)\n",
            "  File \"/usr/local/lib/python3.7/dist-packages/ipykernel_launcher.py\", line 16, in <module>\n",
            "    app.launch_new_instance()\n",
            "  File \"/usr/local/lib/python3.7/dist-packages/traitlets/config/application.py\", line 846, in launch_instance\n",
            "    app.start()\n",
            "  File \"/usr/local/lib/python3.7/dist-packages/ipykernel/kernelapp.py\", line 499, in start\n",
            "    self.io_loop.start()\n",
            "  File \"/usr/local/lib/python3.7/dist-packages/tornado/platform/asyncio.py\", line 132, in start\n",
            "    self.asyncio_loop.run_forever()\n",
            "  File \"/usr/lib/python3.7/asyncio/base_events.py\", line 541, in run_forever\n",
            "    self._run_once()\n",
            "  File \"/usr/lib/python3.7/asyncio/base_events.py\", line 1786, in _run_once\n",
            "    handle._run()\n",
            "  File \"/usr/lib/python3.7/asyncio/events.py\", line 88, in _run\n",
            "    self._context.run(self._callback, *self._args)\n",
            "  File \"/usr/local/lib/python3.7/dist-packages/tornado/platform/asyncio.py\", line 122, in _handle_events\n",
            "    handler_func(fileobj, events)\n",
            "  File \"/usr/local/lib/python3.7/dist-packages/tornado/stack_context.py\", line 300, in null_wrapper\n",
            "    return fn(*args, **kwargs)\n",
            "  File \"/usr/local/lib/python3.7/dist-packages/zmq/eventloop/zmqstream.py\", line 452, in _handle_events\n",
            "    self._handle_recv()\n",
            "  File \"/usr/local/lib/python3.7/dist-packages/zmq/eventloop/zmqstream.py\", line 481, in _handle_recv\n",
            "    self._run_callback(callback, msg)\n",
            "  File \"/usr/local/lib/python3.7/dist-packages/zmq/eventloop/zmqstream.py\", line 431, in _run_callback\n",
            "    callback(*args, **kwargs)\n",
            "  File \"/usr/local/lib/python3.7/dist-packages/tornado/stack_context.py\", line 300, in null_wrapper\n",
            "    return fn(*args, **kwargs)\n",
            "  File \"/usr/local/lib/python3.7/dist-packages/ipykernel/kernelbase.py\", line 283, in dispatcher\n",
            "    return self.dispatch_shell(stream, msg)\n",
            "  File \"/usr/local/lib/python3.7/dist-packages/ipykernel/kernelbase.py\", line 233, in dispatch_shell\n",
            "    handler(stream, idents, msg)\n",
            "  File \"/usr/local/lib/python3.7/dist-packages/ipykernel/kernelbase.py\", line 399, in execute_request\n",
            "    user_expressions, allow_stdin)\n",
            "  File \"/usr/local/lib/python3.7/dist-packages/ipykernel/ipkernel.py\", line 208, in do_execute\n",
            "    res = shell.run_cell(code, store_history=store_history, silent=silent)\n",
            "  File \"/usr/local/lib/python3.7/dist-packages/ipykernel/zmqshell.py\", line 537, in run_cell\n",
            "    return super(ZMQInteractiveShell, self).run_cell(*args, **kwargs)\n",
            "  File \"/usr/local/lib/python3.7/dist-packages/IPython/core/interactiveshell.py\", line 2718, in run_cell\n",
            "    interactivity=interactivity, compiler=compiler, result=result)\n",
            "  File \"/usr/local/lib/python3.7/dist-packages/IPython/core/interactiveshell.py\", line 2822, in run_ast_nodes\n",
            "    if self.run_code(code, result):\n",
            "  File \"/usr/local/lib/python3.7/dist-packages/IPython/core/interactiveshell.py\", line 2882, in run_code\n",
            "    exec(code_obj, self.user_global_ns, self.user_ns)\n",
            "  File \"<ipython-input-84-710bbcbe35c6>\", line 1, in <module>\n",
            "    t,y= next(flow)\n",
            "  File \"<ipython-input-82-4f5f12cd4fc1>\", line 10, in flow_from_dataframe\n",
            "    drop_duplicates=False)\n",
            "  File \"/usr/local/lib/python3.7/dist-packages/keras/preprocessing/image.py\", line 1109, in flow_from_dataframe\n",
            "    '`class_mode` \"raw\".', DeprecationWarning)\n",
            "  File \"/usr/local/lib/python3.7/dist-packages/tensorflow/python/platform/tf_logging.py\", line 178, in warning\n",
            "    get_logger().warning(msg, *args, **kwargs)\n",
            "Message: '`class_mode` \"other\" is deprecated, please use `class_mode` \"raw\".'\n",
            "Arguments: (<class 'DeprecationWarning'>,)\n",
            "--- Logging error ---\n",
            "Traceback (most recent call last):\n",
            "  File \"/usr/lib/python3.7/logging/__init__.py\", line 1025, in emit\n",
            "    msg = self.format(record)\n",
            "  File \"/usr/lib/python3.7/logging/__init__.py\", line 869, in format\n",
            "    return fmt.format(record)\n",
            "  File \"/usr/lib/python3.7/logging/__init__.py\", line 608, in format\n",
            "    record.message = record.getMessage()\n",
            "  File \"/usr/lib/python3.7/logging/__init__.py\", line 369, in getMessage\n",
            "    msg = msg % self.args\n",
            "TypeError: not all arguments converted during string formatting\n",
            "Call stack:\n",
            "  File \"/usr/lib/python3.7/runpy.py\", line 193, in _run_module_as_main\n",
            "    \"__main__\", mod_spec)\n",
            "  File \"/usr/lib/python3.7/runpy.py\", line 85, in _run_code\n",
            "    exec(code, run_globals)\n",
            "  File \"/usr/local/lib/python3.7/dist-packages/ipykernel_launcher.py\", line 16, in <module>\n",
            "    app.launch_new_instance()\n",
            "  File \"/usr/local/lib/python3.7/dist-packages/traitlets/config/application.py\", line 846, in launch_instance\n",
            "    app.start()\n",
            "  File \"/usr/local/lib/python3.7/dist-packages/ipykernel/kernelapp.py\", line 499, in start\n",
            "    self.io_loop.start()\n",
            "  File \"/usr/local/lib/python3.7/dist-packages/tornado/platform/asyncio.py\", line 132, in start\n",
            "    self.asyncio_loop.run_forever()\n",
            "  File \"/usr/lib/python3.7/asyncio/base_events.py\", line 541, in run_forever\n",
            "    self._run_once()\n",
            "  File \"/usr/lib/python3.7/asyncio/base_events.py\", line 1786, in _run_once\n",
            "    handle._run()\n",
            "  File \"/usr/lib/python3.7/asyncio/events.py\", line 88, in _run\n",
            "    self._context.run(self._callback, *self._args)\n",
            "  File \"/usr/local/lib/python3.7/dist-packages/tornado/platform/asyncio.py\", line 122, in _handle_events\n",
            "    handler_func(fileobj, events)\n",
            "  File \"/usr/local/lib/python3.7/dist-packages/tornado/stack_context.py\", line 300, in null_wrapper\n",
            "    return fn(*args, **kwargs)\n",
            "  File \"/usr/local/lib/python3.7/dist-packages/zmq/eventloop/zmqstream.py\", line 452, in _handle_events\n",
            "    self._handle_recv()\n",
            "  File \"/usr/local/lib/python3.7/dist-packages/zmq/eventloop/zmqstream.py\", line 481, in _handle_recv\n",
            "    self._run_callback(callback, msg)\n",
            "  File \"/usr/local/lib/python3.7/dist-packages/zmq/eventloop/zmqstream.py\", line 431, in _run_callback\n",
            "    callback(*args, **kwargs)\n",
            "  File \"/usr/local/lib/python3.7/dist-packages/tornado/stack_context.py\", line 300, in null_wrapper\n",
            "    return fn(*args, **kwargs)\n",
            "  File \"/usr/local/lib/python3.7/dist-packages/ipykernel/kernelbase.py\", line 283, in dispatcher\n",
            "    return self.dispatch_shell(stream, msg)\n",
            "  File \"/usr/local/lib/python3.7/dist-packages/ipykernel/kernelbase.py\", line 233, in dispatch_shell\n",
            "    handler(stream, idents, msg)\n",
            "  File \"/usr/local/lib/python3.7/dist-packages/ipykernel/kernelbase.py\", line 399, in execute_request\n",
            "    user_expressions, allow_stdin)\n",
            "  File \"/usr/local/lib/python3.7/dist-packages/ipykernel/ipkernel.py\", line 208, in do_execute\n",
            "    res = shell.run_cell(code, store_history=store_history, silent=silent)\n",
            "  File \"/usr/local/lib/python3.7/dist-packages/ipykernel/zmqshell.py\", line 537, in run_cell\n",
            "    return super(ZMQInteractiveShell, self).run_cell(*args, **kwargs)\n",
            "  File \"/usr/local/lib/python3.7/dist-packages/IPython/core/interactiveshell.py\", line 2718, in run_cell\n",
            "    interactivity=interactivity, compiler=compiler, result=result)\n",
            "  File \"/usr/local/lib/python3.7/dist-packages/IPython/core/interactiveshell.py\", line 2822, in run_ast_nodes\n",
            "    if self.run_code(code, result):\n",
            "  File \"/usr/local/lib/python3.7/dist-packages/IPython/core/interactiveshell.py\", line 2882, in run_code\n",
            "    exec(code_obj, self.user_global_ns, self.user_ns)\n",
            "  File \"<ipython-input-84-710bbcbe35c6>\", line 1, in <module>\n",
            "    t,y= next(flow)\n",
            "  File \"<ipython-input-82-4f5f12cd4fc1>\", line 10, in flow_from_dataframe\n",
            "    drop_duplicates=False)\n",
            "  File \"/usr/local/lib/python3.7/dist-packages/keras/preprocessing/image.py\", line 1115, in flow_from_dataframe\n",
            "    DeprecationWarning)\n",
            "  File \"/usr/local/lib/python3.7/dist-packages/tensorflow/python/platform/tf_logging.py\", line 178, in warning\n",
            "    get_logger().warning(msg, *args, **kwargs)\n",
            "Message: 'drop_duplicates is deprecated, you can drop duplicates by using the pandas.DataFrame.drop_duplicates method.'\n",
            "Arguments: (<class 'DeprecationWarning'>,)\n"
          ]
        },
        {
          "name": "stdout",
          "output_type": "stream",
          "text": [
            "Found 59682 validated image filenames.\n"
          ]
        }
      ],
      "source": [
        "t,y= next(flow)"
      ]
    },
    {
      "cell_type": "code",
      "execution_count": null,
      "metadata": {
        "id": "HOC2aZ3r2cO7"
      },
      "outputs": [],
      "source": [
        "from sklearn.model_selection import train_test_split\n",
        "X_train, X_test, y_train, y_test = train_test_split(t,y, \n",
        "                                   test_size = 0.30, \n",
        "                                   random_state = 2018)\n"
      ]
    },
    {
      "cell_type": "code",
      "execution_count": null,
      "metadata": {
        "colab": {
          "base_uri": "https://localhost:8080/"
        },
        "id": "MpAa-U3b2cO7",
        "outputId": "096c95e1-39d4-40a7-8d00-9004f6b4797a"
      },
      "outputs": [
        {
          "name": "stdout",
          "output_type": "stream",
          "text": [
            "Model: \"sequential_4\"\n",
            "_________________________________________________________________\n",
            " Layer (type)                Output Shape              Param #   \n",
            "=================================================================\n",
            " mobilenet_1.00_128 (Functio  (None, 4, 4, 1024)       3228288   \n",
            " nal)                                                            \n",
            "                                                                 \n",
            " global_average_pooling2d_4   (None, 1024)             0         \n",
            " (GlobalAveragePooling2D)                                        \n",
            "                                                                 \n",
            " dropout_8 (Dropout)         (None, 1024)              0         \n",
            "                                                                 \n",
            " dense_8 (Dense)             (None, 512)               524800    \n",
            "                                                                 \n",
            " dropout_9 (Dropout)         (None, 512)               0         \n",
            "                                                                 \n",
            " dense_9 (Dense)             (None, 1)                 513       \n",
            "                                                                 \n",
            "=================================================================\n",
            "Total params: 3,753,601\n",
            "Trainable params: 3,731,713\n",
            "Non-trainable params: 21,888\n",
            "_________________________________________________________________\n"
          ]
        }
      ],
      "source": [
        "from keras.applications.mobilenet import MobileNet\n",
        "from keras.layers import GlobalAveragePooling2D, Dense, Dropout, Flatten\n",
        "from keras.models import Sequential\n",
        "mobilenet_model = MobileNet(input_shape =  X_train.shape[1:], \n",
        "                                 include_top = False, weights = None)\n",
        "mobilenet_GAP_model = Sequential()\n",
        "mobilenet_GAP_model.add(mobilenet_model)\n",
        "mobilenet_GAP_model.add(GlobalAveragePooling2D())\n",
        "mobilenet_GAP_model.add(Dropout(0.5))\n",
        "mobilenet_GAP_model.add(Dense(512))\n",
        "mobilenet_GAP_model.add(Dropout(0.5))\n",
        "mobilenet_GAP_model.add(Dense(1, activation = 'sigmoid'))\n",
        "mobilenet_GAP_model.compile(optimizer = 'adam', loss = 'binary_crossentropy',\n",
        "                           metrics = ['binary_accuracy', 'mae'])\n",
        "mobilenet_GAP_model.summary()"
      ]
    },
    {
      "cell_type": "code",
      "execution_count": null,
      "metadata": {
        "id": "ZiON7d4K2cO8"
      },
      "outputs": [],
      "source": [
        "from keras.callbacks import ModelCheckpoint, LearningRateScheduler, EarlyStopping, ReduceLROnPlateau\n",
        "weight_path=\"{}_weights.best.hdf5\".format('xray_class')\n",
        "\n",
        "checkpoint = ModelCheckpoint(weight_path, monitor='val_loss', verbose=1, \n",
        "                             save_best_only=True, mode='min', save_weights_only = True)\n",
        "\n",
        "early = EarlyStopping(monitor=\"val_loss\", \n",
        "                      mode=\"min\", \n",
        "                      patience=3)\n",
        "callbacks_list = [checkpoint, early]"
      ]
    },
    {
      "cell_type": "code",
      "execution_count": null,
      "metadata": {
        "colab": {
          "base_uri": "https://localhost:8080/"
        },
        "id": "0QfyIoBk2cO8",
        "outputId": "134fbd64-0cd0-4b0d-fcb8-8aae275773a3"
      },
      "outputs": [
        {
          "name": "stdout",
          "output_type": "stream",
          "text": [
            "Epoch 1/10\n",
            "10/10 [==============================] - ETA: 0s - loss: 1.5074 - binary_accuracy: 0.5506 - mae: 0.4518 \n",
            "Epoch 00001: val_loss improved from inf to 0.70003, saving model to xray_class_weights.best.hdf5\n",
            "10/10 [==============================] - 364s 36s/step - loss: 1.5074 - binary_accuracy: 0.5506 - mae: 0.4518 - val_loss: 0.7000 - val_binary_accuracy: 0.3341 - val_mae: 0.5033\n",
            "Epoch 2/10\n",
            "10/10 [==============================] - ETA: 0s - loss: 0.9123 - binary_accuracy: 0.5714 - mae: 0.4425 \n",
            "Epoch 00002: val_loss improved from 0.70003 to 0.69451, saving model to xray_class_weights.best.hdf5\n",
            "10/10 [==============================] - 362s 36s/step - loss: 0.9123 - binary_accuracy: 0.5714 - mae: 0.4425 - val_loss: 0.6945 - val_binary_accuracy: 0.3341 - val_mae: 0.5007\n",
            "Epoch 3/10\n",
            "10/10 [==============================] - ETA: 0s - loss: 0.7868 - binary_accuracy: 0.6130 - mae: 0.4320 \n",
            "Epoch 00003: val_loss improved from 0.69451 to 0.67846, saving model to xray_class_weights.best.hdf5\n",
            "10/10 [==============================] - 365s 37s/step - loss: 0.7868 - binary_accuracy: 0.6130 - mae: 0.4320 - val_loss: 0.6785 - val_binary_accuracy: 0.6659 - val_mae: 0.4921\n",
            "Epoch 4/10\n",
            "10/10 [==============================] - ETA: 0s - loss: 0.7356 - binary_accuracy: 0.6152 - mae: 0.4432 \n",
            "Epoch 00004: val_loss improved from 0.67846 to 0.65000, saving model to xray_class_weights.best.hdf5\n",
            "10/10 [==============================] - 354s 36s/step - loss: 0.7356 - binary_accuracy: 0.6152 - mae: 0.4432 - val_loss: 0.6500 - val_binary_accuracy: 0.6659 - val_mae: 0.4709\n",
            "Epoch 5/10\n",
            "10/10 [==============================] - ETA: 0s - loss: 0.6862 - binary_accuracy: 0.6438 - mae: 0.4264 \n",
            "Epoch 00005: val_loss improved from 0.65000 to 0.64622, saving model to xray_class_weights.best.hdf5\n",
            "10/10 [==============================] - 357s 36s/step - loss: 0.6862 - binary_accuracy: 0.6438 - mae: 0.4264 - val_loss: 0.6462 - val_binary_accuracy: 0.6659 - val_mae: 0.4667\n",
            "Epoch 6/10\n",
            "10/10 [==============================] - ETA: 0s - loss: 0.5576 - binary_accuracy: 0.7227 - mae: 0.3611 \n",
            "Epoch 00006: val_loss improved from 0.64622 to 0.64138, saving model to xray_class_weights.best.hdf5\n",
            "10/10 [==============================] - 352s 35s/step - loss: 0.5576 - binary_accuracy: 0.7227 - mae: 0.3611 - val_loss: 0.6414 - val_binary_accuracy: 0.6659 - val_mae: 0.4598\n",
            "Epoch 7/10\n",
            "10/10 [==============================] - ETA: 0s - loss: 0.4739 - binary_accuracy: 0.7822 - mae: 0.2790 \n",
            "Epoch 00007: val_loss improved from 0.64138 to 0.63796, saving model to xray_class_weights.best.hdf5\n",
            "10/10 [==============================] - 360s 36s/step - loss: 0.4739 - binary_accuracy: 0.7822 - mae: 0.2790 - val_loss: 0.6380 - val_binary_accuracy: 0.6659 - val_mae: 0.4517\n",
            "Epoch 8/10\n",
            "10/10 [==============================] - ETA: 0s - loss: 0.5565 - binary_accuracy: 0.7323 - mae: 0.3276 \n",
            "Epoch 00008: val_loss improved from 0.63796 to 0.63775, saving model to xray_class_weights.best.hdf5\n",
            "10/10 [==============================] - 361s 36s/step - loss: 0.5565 - binary_accuracy: 0.7323 - mae: 0.3276 - val_loss: 0.6377 - val_binary_accuracy: 0.6659 - val_mae: 0.4509\n",
            "Epoch 9/10\n",
            "10/10 [==============================] - ETA: 0s - loss: 0.5467 - binary_accuracy: 0.7467 - mae: 0.3348 \n",
            "Epoch 00009: val_loss did not improve from 0.63775\n",
            "10/10 [==============================] - 371s 38s/step - loss: 0.5467 - binary_accuracy: 0.7467 - mae: 0.3348 - val_loss: 0.6388 - val_binary_accuracy: 0.6659 - val_mae: 0.4544\n",
            "Epoch 10/10\n",
            "10/10 [==============================] - ETA: 0s - loss: 0.3958 - binary_accuracy: 0.8386 - mae: 0.2343 \n",
            "Epoch 00010: val_loss did not improve from 0.63775\n",
            "10/10 [==============================] - 357s 36s/step - loss: 0.3958 - binary_accuracy: 0.8386 - mae: 0.2343 - val_loss: 0.6470 - val_binary_accuracy: 0.6659 - val_mae: 0.4237\n"
          ]
        }
      ],
      "source": [
        "history_mobilenet_GAP = mobilenet_GAP_model.fit(X_train,y_train,\n",
        "                                  steps_per_epoch=10,\n",
        "                                  validation_data = (X_test, y_test), \n",
        "                                  epochs = 10, \n",
        "                                  callbacks = callbacks_list)"
      ]
    },
    {
      "cell_type": "code",
      "execution_count": null,
      "metadata": {
        "colab": {
          "base_uri": "https://localhost:8080/"
        },
        "id": "p_ElqcT92cO8",
        "outputId": "eca1882d-92eb-45c3-e1a9-5aaa6dd43cdc"
      },
      "outputs": [
        {
          "name": "stdout",
          "output_type": "stream",
          "text": [
            "68/68 [==============================] - 24s 351ms/step\n"
          ]
        }
      ],
      "source": [
        "pred_Y = mobilenet_GAP_model.predict(X_test, \n",
        "                          batch_size = 32, \n",
        "                          verbose = True)"
      ]
    },
    {
      "cell_type": "code",
      "execution_count": null,
      "metadata": {
        "colab": {
          "base_uri": "https://localhost:8080/"
        },
        "id": "A3RsgiaE2cO9",
        "outputId": "8b1d44ec-7689-48b9-f2e4-43a9746fa399"
      },
      "outputs": [
        {
          "data": {
            "text/plain": [
              "array([[0.26998577],\n",
              "       [0.2699858 ],\n",
              "       [0.2699858 ],\n",
              "       ...,\n",
              "       [0.2699858 ],\n",
              "       [0.2699858 ],\n",
              "       [0.2699858 ]], dtype=float32)"
            ]
          },
          "execution_count": 90,
          "metadata": {},
          "output_type": "execute_result"
        }
      ],
      "source": [
        "pred_Y"
      ]
    },
    {
      "cell_type": "code",
      "execution_count": null,
      "metadata": {
        "colab": {
          "base_uri": "https://localhost:8080/"
        },
        "id": "z4w0satl2cO9",
        "outputId": "14a5ce17-0175-4877-dfe2-1b4fff30a609"
      },
      "outputs": [
        {
          "data": {
            "text/plain": [
              "array([0.26998577], dtype=float32)"
            ]
          },
          "execution_count": 91,
          "metadata": {},
          "output_type": "execute_result"
        }
      ],
      "source": [
        "min(pred_Y)"
      ]
    },
    {
      "cell_type": "code",
      "execution_count": null,
      "metadata": {
        "colab": {
          "base_uri": "https://localhost:8080/"
        },
        "id": "kVglHPW02cO-",
        "outputId": "c2567b09-2a7e-4c53-b5d5-fabc0b283d10"
      },
      "outputs": [
        {
          "name": "stdout",
          "output_type": "stream",
          "text": [
            "test accuracy =  0.6658900380134583\n"
          ]
        }
      ],
      "source": [
        "print('test accuracy = ',mobilenet_GAP_model.evaluate(X_test,y_test, verbose=0)[1])"
      ]
    },
    {
      "cell_type": "code",
      "execution_count": null,
      "metadata": {
        "colab": {
          "base_uri": "https://localhost:8080/"
        },
        "id": "el-SAw882cO-",
        "outputId": "a028aa48-93f8-4afb-c95d-db17e2a22fc0"
      },
      "outputs": [
        {
          "name": "stdout",
          "output_type": "stream",
          "text": [
            "roc score =  0.4914375757007905\n"
          ]
        }
      ],
      "source": [
        "from sklearn.metrics import roc_auc_score\n",
        "print('roc score = ',roc_auc_score(y_test.astype(int), pred_Y))"
      ]
    },
    {
      "cell_type": "code",
      "execution_count": null,
      "metadata": {
        "colab": {
          "base_uri": "https://localhost:8080/",
          "height": 430
        },
        "id": "HUZrDQRq2cO-",
        "outputId": "67f483ed-d421-420b-ca8d-1eeda812985f"
      },
      "outputs": [
        {
          "name": "stdout",
          "output_type": "stream",
          "text": [
            "                 precision    recall  f1-score   support\n",
            "\n",
            "No Infiltration       0.66      0.69      0.67      1429\n",
            "   Infiltration       0.32      0.29      0.31       717\n",
            "\n",
            "       accuracy                           0.56      2146\n",
            "      macro avg       0.49      0.49      0.49      2146\n",
            "   weighted avg       0.55      0.56      0.55      2146\n",
            "\n"
          ]
        },
        {
          "data": {
            "image/png": "[encoded data removed]",
            "text/plain": [
              "<Figure size 288x288 with 1 Axes>"
            ]
          },
          "metadata": {},
          "output_type": "display_data"
        }
      ],
      "source": [
        "from sklearn.metrics import classification_report, confusion_matrix\n",
        "plt.matshow(confusion_matrix(y_test, pred_Y>0.26998577))\n",
        "print(classification_report(y_test, pred_Y>0.26998577, target_names = ['No Infiltration', 'Infiltration']))"
      ]
    },
    {
      "cell_type": "markdown",
      "metadata": {
        "id": "-pM-0P5t2dZP"
      },
      "source": [
        "## **Mass**"
      ]
    },
    {
      "cell_type": "code",
      "execution_count": null,
      "metadata": {
        "colab": {
          "base_uri": "https://localhost:8080/",
          "height": 266
        },
        "id": "wM33Ulfd2dzo",
        "outputId": "ad360424-4edc-4fee-b9e9-4f05c3b4f20a"
      },
      "outputs": [
        {
          "name": "stdout",
          "output_type": "stream",
          "text": [
            "0    11564\n",
            "1     5782\n",
            "Name: Mass, dtype: int64\n"
          ]
        },
        {
          "data": {
            "text/plain": [
              "<seaborn.axisgrid.PairGrid at 0x7f8791965dd0>"
            ]
          },
          "execution_count": 95,
          "metadata": {},
          "output_type": "execute_result"
        },
        {
          "data": {
            "image/png": "[encoded data removed]",
            "text/plain": [
              "<Figure size 213.25x180 with 2 Axes>"
            ]
          },
          "metadata": {},
          "output_type": "display_data"
        }
      ],
      "source": [
        "positive_cases = np.sum(all_xray_df['Mass']==True)//2\n",
        "oversample_factor = 4 # maximum number of cases in negative group so it isn't super rare\n",
        "more_balanced_df = all_xray_df.groupby(['Mass']).apply(lambda x: x.sample(min(oversample_factor*positive_cases, x.shape[0]), \n",
        "                                                                                   replace = False)\n",
        "                                                      ).reset_index(drop = True)\n",
        "\n",
        "print(more_balanced_df['Mass'].value_counts())\n",
        "sns.pairplot(more_balanced_df[['Patient Age', 'Mass']], hue='Mass')"
      ]
    },
    {
      "cell_type": "code",
      "execution_count": null,
      "metadata": {
        "colab": {
          "base_uri": "https://localhost:8080/",
          "height": 257
        },
        "id": "H-y-PufF2dzp",
        "outputId": "dcd8ccbe-a985-4bc7-b0f6-84a9e777e84b"
      },
      "outputs": [
        {
          "name": "stdout",
          "output_type": "stream",
          "text": [
            "train 12142 validation 3122 test 2082\n",
            "train 0    8095\n",
            "1    4047\n",
            "Name: Mass, dtype: int64\n",
            "test 0    1388\n",
            "1     694\n",
            "Name: Mass, dtype: int64\n"
          ]
        },
        {
          "data": {
            "text/html": [
              "<div>\n",
              "<style scoped>\n",
              "    .dataframe tbody tr th:only-of-type {\n",
              "        vertical-align: middle;\n",
              "    }\n",
              "\n",
              "    .dataframe tbody tr th {\n",
              "        vertical-align: top;\n",
              "    }\n",
              "\n",
              "    .dataframe thead th {\n",
              "        text-align: right;\n",
              "    }\n",
              "</style>\n",
              "<table border=\"1\" class=\"dataframe\">\n",
              "  <thead>\n",
              "    <tr style=\"text-align: right;\">\n",
              "      <th></th>\n",
              "      <th>Image Index</th>\n",
              "      <th>Finding Labels</th>\n",
              "      <th>Follow-up #</th>\n",
              "      <th>Patient ID</th>\n",
              "      <th>Patient Age</th>\n",
              "      <th>Patient Gender</th>\n",
              "      <th>View Position</th>\n",
              "      <th>OriginalImage[Width</th>\n",
              "      <th>Height]</th>\n",
              "      <th>OriginalImagePixelSpacing[x</th>\n",
              "      <th>y]</th>\n",
              "      <th>path</th>\n",
              "      <th>Pneumonia</th>\n",
              "      <th>Patient Male</th>\n",
              "      <th>Cardiomegaly</th>\n",
              "      <th>Emphysema</th>\n",
              "      <th>Effusion</th>\n",
              "      <th>Hernia</th>\n",
              "      <th>Nodule</th>\n",
              "      <th>Pneumothorax</th>\n",
              "      <th>Atelectasis</th>\n",
              "      <th>Pleural_Thickening</th>\n",
              "      <th>Mass</th>\n",
              "      <th>Edema</th>\n",
              "      <th>Consolidation</th>\n",
              "      <th>Infiltration</th>\n",
              "      <th>Fibrosis</th>\n",
              "      <th>Nothing</th>\n",
              "    </tr>\n",
              "  </thead>\n",
              "  <tbody>\n",
              "    <tr>\n",
              "      <th>4356</th>\n",
              "      <td>00000768_000.png</td>\n",
              "      <td>No Finding</td>\n",
              "      <td>0</td>\n",
              "      <td>768</td>\n",
              "      <td>54</td>\n",
              "      <td>M</td>\n",
              "      <td>PA</td>\n",
              "      <td>2596</td>\n",
              "      <td>2901</td>\n",
              "      <td>0.143</td>\n",
              "      <td>0.143</td>\n",
              "      <td>/content/drive/MyDrive/Images/image1/00000768_...</td>\n",
              "      <td>False</td>\n",
              "      <td>1.0</td>\n",
              "      <td>0</td>\n",
              "      <td>0</td>\n",
              "      <td>0</td>\n",
              "      <td>0</td>\n",
              "      <td>0</td>\n",
              "      <td>0</td>\n",
              "      <td>0</td>\n",
              "      <td>0</td>\n",
              "      <td>0</td>\n",
              "      <td>0</td>\n",
              "      <td>0</td>\n",
              "      <td>0</td>\n",
              "      <td>0</td>\n",
              "      <td>1</td>\n",
              "    </tr>\n",
              "  </tbody>\n",
              "</table>\n",
              "</div>"
            ],
            "text/plain": [
              "           Image Index Finding Labels  ...  Fibrosis  Nothing\n",
              "4356  00000768_000.png     No Finding  ...         0        1\n",
              "\n",
              "[1 rows x 28 columns]"
            ]
          },
          "execution_count": 96,
          "metadata": {},
          "output_type": "execute_result"
        }
      ],
      "source": [
        "from sklearn.model_selection import train_test_split\n",
        "raw_train_df, test_valid_df = train_test_split(more_balanced_df, \n",
        "                                   test_size = 0.30, \n",
        "                                   random_state = 2018,\n",
        "                                   stratify = more_balanced_df[['Mass']])\n",
        "valid_df, test_df = train_test_split(test_valid_df, \n",
        "                                   test_size = 0.40, \n",
        "                                   random_state = 2018,\n",
        "                                   stratify = test_valid_df[['Mass']])\n",
        "print('train', raw_train_df.shape[0], 'validation', valid_df.shape[0], 'test', test_df.shape[0])\n",
        "print('train', raw_train_df['Mass'].value_counts())\n",
        "print('test', test_df['Mass'].value_counts())\n",
        "raw_train_df.sample(1)"
      ]
    },
    {
      "cell_type": "code",
      "execution_count": null,
      "metadata": {
        "colab": {
          "base_uri": "https://localhost:8080/"
        },
        "id": "FNHX_4842dzq",
        "outputId": "d7125313-99a7-4542-e79c-f3e58e75ccce"
      },
      "outputs": [
        {
          "name": "stdout",
          "output_type": "stream",
          "text": [
            "New Data Size: 4000 Old Size: 12142\n"
          ]
        }
      ],
      "source": [
        "train_df = raw_train_df.groupby(['Mass']).apply(lambda x: x.sample(2000, replace = True)\n",
        "                                                      ).reset_index(drop = True)\n",
        "print('New Data Size:', train_df.shape[0], 'Old Size:', raw_train_df.shape[0])"
      ]
    },
    {
      "cell_type": "code",
      "execution_count": null,
      "metadata": {
        "id": "5VqN4BD_2dzq"
      },
      "outputs": [],
      "source": [
        "from keras.preprocessing.image import ImageDataGenerator\n",
        "idg = ImageDataGenerator(zoom_range=0.2,\n",
        "                           fill_mode='nearest',\n",
        "                           rotation_range=25,  \n",
        "                           width_shift_range=0.25,  \n",
        "                           height_shift_range=0.25,  \n",
        "                           vertical_flip=False, \n",
        "                           horizontal_flip=True,\n",
        "                           shear_range = 0.2,\n",
        "                           samplewise_center=False, \n",
        "                           samplewise_std_normalization=False)\n"
      ]
    },
    {
      "cell_type": "code",
      "execution_count": null,
      "metadata": {
        "id": "6RcrFhUP2dzq"
      },
      "outputs": [],
      "source": [
        "SEED= 10\n",
        "IMG_SIZE = (128, 128) \n",
        "####\n",
        "def flow_from_dataframe(imgDatGen, df, batch_size, seed, img_size):\n",
        "    #gc.collect()\n",
        "    gen_img = imgDatGen.flow_from_dataframe(dataframe=more_balanced_df,\n",
        "        x_col='path', y_col='Mass',\n",
        "        batch_size=batch_size, seed=seed, shuffle=True, class_mode='other',\n",
        "        target_size=img_size, color_mode='grayscale',\n",
        "        drop_duplicates=False)\n",
        "\n",
        "    \n",
        "        \n",
        "    while True:\n",
        "        X1i = gen_img.next()\n",
        "        #X2i = gen_img.next()\n",
        "        #gc.collect()\n",
        "        yield [X1i[0], X1i[1]]"
      ]
    },
    {
      "cell_type": "code",
      "execution_count": null,
      "metadata": {
        "id": "qd2IpfvV2dzr"
      },
      "outputs": [],
      "source": [
        "flow = flow_from_dataframe(idg, more_balanced_df, 7151, SEED, IMG_SIZE)"
      ]
    },
    {
      "cell_type": "code",
      "execution_count": null,
      "metadata": {
        "colab": {
          "base_uri": "https://localhost:8080/"
        },
        "id": "eY5JYO_p2dzr",
        "outputId": "994e37d4-3a4e-4502-9cc3-ed1846b14758"
      },
      "outputs": [
        {
          "name": "stderr",
          "output_type": "stream",
          "text": [
            "--- Logging error ---\n",
            "Traceback (most recent call last):\n",
            "  File \"/usr/lib/python3.7/logging/__init__.py\", line 1025, in emit\n",
            "    msg = self.format(record)\n",
            "  File \"/usr/lib/python3.7/logging/__init__.py\", line 869, in format\n",
            "    return fmt.format(record)\n",
            "  File \"/usr/lib/python3.7/logging/__init__.py\", line 608, in format\n",
            "    record.message = record.getMessage()\n",
            "  File \"/usr/lib/python3.7/logging/__init__.py\", line 369, in getMessage\n",
            "    msg = msg % self.args\n",
            "TypeError: not all arguments converted during string formatting\n",
            "Call stack:\n",
            "  File \"/usr/lib/python3.7/runpy.py\", line 193, in _run_module_as_main\n",
            "    \"__main__\", mod_spec)\n",
            "  File \"/usr/lib/python3.7/runpy.py\", line 85, in _run_code\n",
            "    exec(code, run_globals)\n",
            "  File \"/usr/local/lib/python3.7/dist-packages/ipykernel_launcher.py\", line 16, in <module>\n",
            "    app.launch_new_instance()\n",
            "  File \"/usr/local/lib/python3.7/dist-packages/traitlets/config/application.py\", line 846, in launch_instance\n",
            "    app.start()\n",
            "  File \"/usr/local/lib/python3.7/dist-packages/ipykernel/kernelapp.py\", line 499, in start\n",
            "    self.io_loop.start()\n",
            "  File \"/usr/local/lib/python3.7/dist-packages/tornado/platform/asyncio.py\", line 132, in start\n",
            "    self.asyncio_loop.run_forever()\n",
            "  File \"/usr/lib/python3.7/asyncio/base_events.py\", line 541, in run_forever\n",
            "    self._run_once()\n",
            "  File \"/usr/lib/python3.7/asyncio/base_events.py\", line 1786, in _run_once\n",
            "    handle._run()\n",
            "  File \"/usr/lib/python3.7/asyncio/events.py\", line 88, in _run\n",
            "    self._context.run(self._callback, *self._args)\n",
            "  File \"/usr/local/lib/python3.7/dist-packages/tornado/platform/asyncio.py\", line 122, in _handle_events\n",
            "    handler_func(fileobj, events)\n",
            "  File \"/usr/local/lib/python3.7/dist-packages/tornado/stack_context.py\", line 300, in null_wrapper\n",
            "    return fn(*args, **kwargs)\n",
            "  File \"/usr/local/lib/python3.7/dist-packages/zmq/eventloop/zmqstream.py\", line 452, in _handle_events\n",
            "    self._handle_recv()\n",
            "  File \"/usr/local/lib/python3.7/dist-packages/zmq/eventloop/zmqstream.py\", line 481, in _handle_recv\n",
            "    self._run_callback(callback, msg)\n",
            "  File \"/usr/local/lib/python3.7/dist-packages/zmq/eventloop/zmqstream.py\", line 431, in _run_callback\n",
            "    callback(*args, **kwargs)\n",
            "  File \"/usr/local/lib/python3.7/dist-packages/tornado/stack_context.py\", line 300, in null_wrapper\n",
            "    return fn(*args, **kwargs)\n",
            "  File \"/usr/local/lib/python3.7/dist-packages/ipykernel/kernelbase.py\", line 283, in dispatcher\n",
            "    return self.dispatch_shell(stream, msg)\n",
            "  File \"/usr/local/lib/python3.7/dist-packages/ipykernel/kernelbase.py\", line 233, in dispatch_shell\n",
            "    handler(stream, idents, msg)\n",
            "  File \"/usr/local/lib/python3.7/dist-packages/ipykernel/kernelbase.py\", line 399, in execute_request\n",
            "    user_expressions, allow_stdin)\n",
            "  File \"/usr/local/lib/python3.7/dist-packages/ipykernel/ipkernel.py\", line 208, in do_execute\n",
            "    res = shell.run_cell(code, store_history=store_history, silent=silent)\n",
            "  File \"/usr/local/lib/python3.7/dist-packages/ipykernel/zmqshell.py\", line 537, in run_cell\n",
            "    return super(ZMQInteractiveShell, self).run_cell(*args, **kwargs)\n",
            "  File \"/usr/local/lib/python3.7/dist-packages/IPython/core/interactiveshell.py\", line 2718, in run_cell\n",
            "    interactivity=interactivity, compiler=compiler, result=result)\n",
            "  File \"/usr/local/lib/python3.7/dist-packages/IPython/core/interactiveshell.py\", line 2822, in run_ast_nodes\n",
            "    if self.run_code(code, result):\n",
            "  File \"/usr/local/lib/python3.7/dist-packages/IPython/core/interactiveshell.py\", line 2882, in run_code\n",
            "    exec(code_obj, self.user_global_ns, self.user_ns)\n",
            "  File \"<ipython-input-101-710bbcbe35c6>\", line 1, in <module>\n",
            "    t,y= next(flow)\n",
            "  File \"<ipython-input-99-b0853c8479ea>\", line 10, in flow_from_dataframe\n",
            "    drop_duplicates=False)\n",
            "  File \"/usr/local/lib/python3.7/dist-packages/keras/preprocessing/image.py\", line 1109, in flow_from_dataframe\n",
            "    '`class_mode` \"raw\".', DeprecationWarning)\n",
            "  File \"/usr/local/lib/python3.7/dist-packages/tensorflow/python/platform/tf_logging.py\", line 178, in warning\n",
            "    get_logger().warning(msg, *args, **kwargs)\n",
            "Message: '`class_mode` \"other\" is deprecated, please use `class_mode` \"raw\".'\n",
            "Arguments: (<class 'DeprecationWarning'>,)\n",
            "--- Logging error ---\n",
            "Traceback (most recent call last):\n",
            "  File \"/usr/lib/python3.7/logging/__init__.py\", line 1025, in emit\n",
            "    msg = self.format(record)\n",
            "  File \"/usr/lib/python3.7/logging/__init__.py\", line 869, in format\n",
            "    return fmt.format(record)\n",
            "  File \"/usr/lib/python3.7/logging/__init__.py\", line 608, in format\n",
            "    record.message = record.getMessage()\n",
            "  File \"/usr/lib/python3.7/logging/__init__.py\", line 369, in getMessage\n",
            "    msg = msg % self.args\n",
            "TypeError: not all arguments converted during string formatting\n",
            "Call stack:\n",
            "  File \"/usr/lib/python3.7/runpy.py\", line 193, in _run_module_as_main\n",
            "    \"__main__\", mod_spec)\n",
            "  File \"/usr/lib/python3.7/runpy.py\", line 85, in _run_code\n",
            "    exec(code, run_globals)\n",
            "  File \"/usr/local/lib/python3.7/dist-packages/ipykernel_launcher.py\", line 16, in <module>\n",
            "    app.launch_new_instance()\n",
            "  File \"/usr/local/lib/python3.7/dist-packages/traitlets/config/application.py\", line 846, in launch_instance\n",
            "    app.start()\n",
            "  File \"/usr/local/lib/python3.7/dist-packages/ipykernel/kernelapp.py\", line 499, in start\n",
            "    self.io_loop.start()\n",
            "  File \"/usr/local/lib/python3.7/dist-packages/tornado/platform/asyncio.py\", line 132, in start\n",
            "    self.asyncio_loop.run_forever()\n",
            "  File \"/usr/lib/python3.7/asyncio/base_events.py\", line 541, in run_forever\n",
            "    self._run_once()\n",
            "  File \"/usr/lib/python3.7/asyncio/base_events.py\", line 1786, in _run_once\n",
            "    handle._run()\n",
            "  File \"/usr/lib/python3.7/asyncio/events.py\", line 88, in _run\n",
            "    self._context.run(self._callback, *self._args)\n",
            "  File \"/usr/local/lib/python3.7/dist-packages/tornado/platform/asyncio.py\", line 122, in _handle_events\n",
            "    handler_func(fileobj, events)\n",
            "  File \"/usr/local/lib/python3.7/dist-packages/tornado/stack_context.py\", line 300, in null_wrapper\n",
            "    return fn(*args, **kwargs)\n",
            "  File \"/usr/local/lib/python3.7/dist-packages/zmq/eventloop/zmqstream.py\", line 452, in _handle_events\n",
            "    self._handle_recv()\n",
            "  File \"/usr/local/lib/python3.7/dist-packages/zmq/eventloop/zmqstream.py\", line 481, in _handle_recv\n",
            "    self._run_callback(callback, msg)\n",
            "  File \"/usr/local/lib/python3.7/dist-packages/zmq/eventloop/zmqstream.py\", line 431, in _run_callback\n",
            "    callback(*args, **kwargs)\n",
            "  File \"/usr/local/lib/python3.7/dist-packages/tornado/stack_context.py\", line 300, in null_wrapper\n",
            "    return fn(*args, **kwargs)\n",
            "  File \"/usr/local/lib/python3.7/dist-packages/ipykernel/kernelbase.py\", line 283, in dispatcher\n",
            "    return self.dispatch_shell(stream, msg)\n",
            "  File \"/usr/local/lib/python3.7/dist-packages/ipykernel/kernelbase.py\", line 233, in dispatch_shell\n",
            "    handler(stream, idents, msg)\n",
            "  File \"/usr/local/lib/python3.7/dist-packages/ipykernel/kernelbase.py\", line 399, in execute_request\n",
            "    user_expressions, allow_stdin)\n",
            "  File \"/usr/local/lib/python3.7/dist-packages/ipykernel/ipkernel.py\", line 208, in do_execute\n",
            "    res = shell.run_cell(code, store_history=store_history, silent=silent)\n",
            "  File \"/usr/local/lib/python3.7/dist-packages/ipykernel/zmqshell.py\", line 537, in run_cell\n",
            "    return super(ZMQInteractiveShell, self).run_cell(*args, **kwargs)\n",
            "  File \"/usr/local/lib/python3.7/dist-packages/IPython/core/interactiveshell.py\", line 2718, in run_cell\n",
            "    interactivity=interactivity, compiler=compiler, result=result)\n",
            "  File \"/usr/local/lib/python3.7/dist-packages/IPython/core/interactiveshell.py\", line 2822, in run_ast_nodes\n",
            "    if self.run_code(code, result):\n",
            "  File \"/usr/local/lib/python3.7/dist-packages/IPython/core/interactiveshell.py\", line 2882, in run_code\n",
            "    exec(code_obj, self.user_global_ns, self.user_ns)\n",
            "  File \"<ipython-input-101-710bbcbe35c6>\", line 1, in <module>\n",
            "    t,y= next(flow)\n",
            "  File \"<ipython-input-99-b0853c8479ea>\", line 10, in flow_from_dataframe\n",
            "    drop_duplicates=False)\n",
            "  File \"/usr/local/lib/python3.7/dist-packages/keras/preprocessing/image.py\", line 1115, in flow_from_dataframe\n",
            "    DeprecationWarning)\n",
            "  File \"/usr/local/lib/python3.7/dist-packages/tensorflow/python/platform/tf_logging.py\", line 178, in warning\n",
            "    get_logger().warning(msg, *args, **kwargs)\n",
            "Message: 'drop_duplicates is deprecated, you can drop duplicates by using the pandas.DataFrame.drop_duplicates method.'\n",
            "Arguments: (<class 'DeprecationWarning'>,)\n"
          ]
        },
        {
          "name": "stdout",
          "output_type": "stream",
          "text": [
            "Found 17346 validated image filenames.\n"
          ]
        }
      ],
      "source": [
        "t,y= next(flow)"
      ]
    },
    {
      "cell_type": "code",
      "execution_count": null,
      "metadata": {
        "id": "I_gR2ojZ2dzr"
      },
      "outputs": [],
      "source": [
        "from sklearn.model_selection import train_test_split\n",
        "X_train, X_test, y_train, y_test = train_test_split(t,y, \n",
        "                                   test_size = 0.30, \n",
        "                                   random_state = 2018)\n"
      ]
    },
    {
      "cell_type": "code",
      "execution_count": null,
      "metadata": {
        "colab": {
          "base_uri": "https://localhost:8080/"
        },
        "id": "l-0Cn-MB2dzr",
        "outputId": "f0c6c890-a7c0-4bc3-8d87-cdd2a3786b5b"
      },
      "outputs": [
        {
          "name": "stdout",
          "output_type": "stream",
          "text": [
            "Model: \"sequential_5\"\n",
            "_________________________________________________________________\n",
            " Layer (type)                Output Shape              Param #   \n",
            "=================================================================\n",
            " mobilenet_1.00_128 (Functio  (None, 4, 4, 1024)       3228288   \n",
            " nal)                                                            \n",
            "                                                                 \n",
            " global_average_pooling2d_5   (None, 1024)             0         \n",
            " (GlobalAveragePooling2D)                                        \n",
            "                                                                 \n",
            " dropout_10 (Dropout)        (None, 1024)              0         \n",
            "                                                                 \n",
            " dense_10 (Dense)            (None, 512)               524800    \n",
            "                                                                 \n",
            " dropout_11 (Dropout)        (None, 512)               0         \n",
            "                                                                 \n",
            " dense_11 (Dense)            (None, 1)                 513       \n",
            "                                                                 \n",
            "=================================================================\n",
            "Total params: 3,753,601\n",
            "Trainable params: 3,731,713\n",
            "Non-trainable params: 21,888\n",
            "_________________________________________________________________\n"
          ]
        }
      ],
      "source": [
        "from keras.applications.mobilenet import MobileNet\n",
        "from keras.layers import GlobalAveragePooling2D, Dense, Dropout, Flatten\n",
        "from keras.models import Sequential\n",
        "mobilenet_model = MobileNet(input_shape =  X_train.shape[1:], \n",
        "                                 include_top = False, weights = None)\n",
        "mobilenet_GAP_model = Sequential()\n",
        "mobilenet_GAP_model.add(mobilenet_model)\n",
        "mobilenet_GAP_model.add(GlobalAveragePooling2D())\n",
        "mobilenet_GAP_model.add(Dropout(0.5))\n",
        "mobilenet_GAP_model.add(Dense(512))\n",
        "mobilenet_GAP_model.add(Dropout(0.5))\n",
        "mobilenet_GAP_model.add(Dense(1, activation = 'sigmoid'))\n",
        "mobilenet_GAP_model.compile(optimizer = 'adam', loss = 'binary_crossentropy',\n",
        "                           metrics = ['binary_accuracy', 'mae'])\n",
        "mobilenet_GAP_model.summary()"
      ]
    },
    {
      "cell_type": "code",
      "execution_count": null,
      "metadata": {
        "id": "fOuZqV2E2dzs"
      },
      "outputs": [],
      "source": [
        "from keras.callbacks import ModelCheckpoint, LearningRateScheduler, EarlyStopping, ReduceLROnPlateau\n",
        "weight_path=\"{}_weights.best.hdf5\".format('xray_class')\n",
        "\n",
        "checkpoint = ModelCheckpoint(weight_path, monitor='val_loss', verbose=1, \n",
        "                             save_best_only=True, mode='min', save_weights_only = True)\n",
        "\n",
        "early = EarlyStopping(monitor=\"val_loss\", \n",
        "                      mode=\"min\", \n",
        "                      patience=3)\n",
        "callbacks_list = [checkpoint, early]"
      ]
    },
    {
      "cell_type": "code",
      "execution_count": null,
      "metadata": {
        "colab": {
          "base_uri": "https://localhost:8080/"
        },
        "id": "7uJG5Ds62dzs",
        "outputId": "db34d488-0b85-4c34-d743-b72bb3d04992"
      },
      "outputs": [
        {
          "name": "stdout",
          "output_type": "stream",
          "text": [
            "Epoch 1/10\n",
            "10/10 [==============================] - ETA: 0s - loss: 2.4854 - binary_accuracy: 0.5684 - mae: 0.4299 \n",
            "Epoch 00001: val_loss improved from inf to 0.69572, saving model to xray_class_weights.best.hdf5\n",
            "10/10 [==============================] - 371s 36s/step - loss: 2.4854 - binary_accuracy: 0.5684 - mae: 0.4299 - val_loss: 0.6957 - val_binary_accuracy: 0.3458 - val_mae: 0.5013\n",
            "Epoch 2/10\n",
            "10/10 [==============================] - ETA: 0s - loss: 1.0423 - binary_accuracy: 0.6044 - mae: 0.4485 \n",
            "Epoch 00002: val_loss improved from 0.69572 to 0.67244, saving model to xray_class_weights.best.hdf5\n",
            "10/10 [==============================] - 366s 37s/step - loss: 1.0423 - binary_accuracy: 0.6044 - mae: 0.4485 - val_loss: 0.6724 - val_binary_accuracy: 0.6542 - val_mae: 0.4882\n",
            "Epoch 3/10\n",
            "10/10 [==============================] - ETA: 0s - loss: 0.8090 - binary_accuracy: 0.6068 - mae: 0.4522 \n",
            "Epoch 00003: val_loss improved from 0.67244 to 0.65440, saving model to xray_class_weights.best.hdf5\n",
            "10/10 [==============================] - 359s 36s/step - loss: 0.8090 - binary_accuracy: 0.6068 - mae: 0.4522 - val_loss: 0.6544 - val_binary_accuracy: 0.6542 - val_mae: 0.4733\n",
            "Epoch 4/10\n",
            "10/10 [==============================] - ETA: 0s - loss: 0.7283 - binary_accuracy: 0.6280 - mae: 0.4440 \n",
            "Epoch 00004: val_loss did not improve from 0.65440\n",
            "10/10 [==============================] - 370s 37s/step - loss: 0.7283 - binary_accuracy: 0.6280 - mae: 0.4440 - val_loss: 0.6546 - val_binary_accuracy: 0.6542 - val_mae: 0.4735\n",
            "Epoch 5/10\n",
            "10/10 [==============================] - ETA: 0s - loss: 0.6834 - binary_accuracy: 0.6472 - mae: 0.4369 \n",
            "Epoch 00005: val_loss did not improve from 0.65440\n",
            "10/10 [==============================] - 362s 37s/step - loss: 0.6834 - binary_accuracy: 0.6472 - mae: 0.4369 - val_loss: 0.6583 - val_binary_accuracy: 0.6542 - val_mae: 0.4773\n",
            "Epoch 6/10\n",
            "10/10 [==============================] - ETA: 0s - loss: 0.6808 - binary_accuracy: 0.6559 - mae: 0.4330 \n",
            "Epoch 00006: val_loss did not improve from 0.65440\n",
            "10/10 [==============================] - 368s 36s/step - loss: 0.6808 - binary_accuracy: 0.6559 - mae: 0.4330 - val_loss: 0.6609 - val_binary_accuracy: 0.6542 - val_mae: 0.4796\n"
          ]
        }
      ],
      "source": [
        "history_mobilenet_GAP = mobilenet_GAP_model.fit(X_train,y_train,\n",
        "                                  steps_per_epoch=10,\n",
        "                                  validation_data = (X_test, y_test), \n",
        "                                  epochs = 10, \n",
        "                                  callbacks = callbacks_list)"
      ]
    },
    {
      "cell_type": "code",
      "execution_count": null,
      "metadata": {
        "colab": {
          "base_uri": "https://localhost:8080/"
        },
        "id": "KvADZlWU2dzs",
        "outputId": "d023788c-88dc-4c32-97c4-7a307a2f646d"
      },
      "outputs": [
        {
          "name": "stdout",
          "output_type": "stream",
          "text": [
            "68/68 [==============================] - 26s 381ms/step\n"
          ]
        }
      ],
      "source": [
        "pred_Y = mobilenet_GAP_model.predict(X_test, \n",
        "                          batch_size = 32, \n",
        "                          verbose = True)"
      ]
    },
    {
      "cell_type": "code",
      "execution_count": null,
      "metadata": {
        "colab": {
          "base_uri": "https://localhost:8080/"
        },
        "id": "jAr8osEO2dzt",
        "outputId": "c59ea00c-4c94-4432-a26a-1b05d265c1ca"
      },
      "outputs": [
        {
          "data": {
            "text/plain": [
              "array([[0.43382284],\n",
              "       [0.43382284],\n",
              "       [0.43382284],\n",
              "       ...,\n",
              "       [0.43382284],\n",
              "       [0.43382284],\n",
              "       [0.43382284]], dtype=float32)"
            ]
          },
          "execution_count": 107,
          "metadata": {},
          "output_type": "execute_result"
        }
      ],
      "source": [
        "pred_Y"
      ]
    },
    {
      "cell_type": "code",
      "execution_count": null,
      "metadata": {
        "colab": {
          "base_uri": "https://localhost:8080/"
        },
        "id": "MJr6-B1y2dzt",
        "outputId": "1e63f38d-48cc-41ec-a83a-0a82b5d83df5"
      },
      "outputs": [
        {
          "data": {
            "text/plain": [
              "array([0.43382284], dtype=float32)"
            ]
          },
          "execution_count": 108,
          "metadata": {},
          "output_type": "execute_result"
        }
      ],
      "source": [
        "min(pred_Y)"
      ]
    },
    {
      "cell_type": "code",
      "execution_count": null,
      "metadata": {
        "colab": {
          "base_uri": "https://localhost:8080/"
        },
        "id": "JMLFHKoY2dzt",
        "outputId": "ebeab98d-f41e-40c9-d680-a8432e2a1d98"
      },
      "outputs": [
        {
          "name": "stdout",
          "output_type": "stream",
          "text": [
            "test accuracy =  0.6542404294013977\n"
          ]
        }
      ],
      "source": [
        "print('test accuracy = ',mobilenet_GAP_model.evaluate(X_test,y_test, verbose=0)[1])"
      ]
    },
    {
      "cell_type": "code",
      "execution_count": null,
      "metadata": {
        "colab": {
          "base_uri": "https://localhost:8080/"
        },
        "id": "0p7DveNi2dzt",
        "outputId": "ceace2ac-1930-496d-9d8e-bc22b47c387a"
      },
      "outputs": [
        {
          "name": "stdout",
          "output_type": "stream",
          "text": [
            "roc score =  0.5\n"
          ]
        }
      ],
      "source": [
        "from sklearn.metrics import roc_auc_score\n",
        "print('roc score = ',roc_auc_score(y_test.astype(int), pred_Y))"
      ]
    },
    {
      "cell_type": "code",
      "execution_count": null,
      "metadata": {
        "colab": {
          "base_uri": "https://localhost:8080/",
          "height": 554
        },
        "id": "SclWxVbB2dzu",
        "outputId": "7978884b-d685-4f0b-dc76-6a628fdf349d"
      },
      "outputs": [
        {
          "name": "stdout",
          "output_type": "stream",
          "text": [
            "              precision    recall  f1-score   support\n",
            "\n",
            "     No Mass       0.65      1.00      0.79      1404\n",
            "        Mass       0.00      0.00      0.00       742\n",
            "\n",
            "    accuracy                           0.65      2146\n",
            "   macro avg       0.33      0.50      0.40      2146\n",
            "weighted avg       0.43      0.65      0.52      2146\n",
            "\n"
          ]
        },
        {
          "name": "stderr",
          "output_type": "stream",
          "text": [
            "/usr/local/lib/python3.7/dist-packages/sklearn/metrics/_classification.py:1308: UndefinedMetricWarning: Precision and F-score are ill-defined and being set to 0.0 in labels with no predicted samples. Use `zero_division` parameter to control this behavior.\n",
            "  _warn_prf(average, modifier, msg_start, len(result))\n",
            "/usr/local/lib/python3.7/dist-packages/sklearn/metrics/_classification.py:1308: UndefinedMetricWarning: Precision and F-score are ill-defined and being set to 0.0 in labels with no predicted samples. Use `zero_division` parameter to control this behavior.\n",
            "  _warn_prf(average, modifier, msg_start, len(result))\n",
            "/usr/local/lib/python3.7/dist-packages/sklearn/metrics/_classification.py:1308: UndefinedMetricWarning: Precision and F-score are ill-defined and being set to 0.0 in labels with no predicted samples. Use `zero_division` parameter to control this behavior.\n",
            "  _warn_prf(average, modifier, msg_start, len(result))\n"
          ]
        },
        {
          "data": {
            "image/png": "[encoded data removed]",
            "text/plain": [
              "<Figure size 288x288 with 1 Axes>"
            ]
          },
          "metadata": {},
          "output_type": "display_data"
        }
      ],
      "source": [
        "from sklearn.metrics import classification_report, confusion_matrix\n",
        "plt.matshow(confusion_matrix(y_test, pred_Y>0.43382284))\n",
        "print(classification_report(y_test, pred_Y>0.43382284, target_names = ['No Mass', 'Mass']))"
      ]
    },
    {
      "cell_type": "markdown",
      "metadata": {
        "id": "fh1vbHoU2er1"
      },
      "source": [
        "## **Nodule**"
      ]
    },
    {
      "cell_type": "code",
      "execution_count": null,
      "metadata": {
        "colab": {
          "base_uri": "https://localhost:8080/",
          "height": 266
        },
        "id": "q0_IqhZy2fKc",
        "outputId": "55bc508a-0233-45c4-fc40-5d9ffb600e7c"
      },
      "outputs": [
        {
          "output_type": "stream",
          "name": "stdout",
          "text": [
            "0    12660\n",
            "1     6331\n",
            "Name: Nodule, dtype: int64\n"
          ]
        },
        {
          "output_type": "execute_result",
          "data": {
            "text/plain": [
              "<seaborn.axisgrid.PairGrid at 0x7feca72584d0>"
            ]
          },
          "metadata": {},
          "execution_count": 7
        },
        {
          "output_type": "display_data",
          "data": {
            "image/png": "[encoded data removed]",
            "text/plain": [
              "<Figure size 223.25x180 with 2 Axes>"
            ]
          },
          "metadata": {}
        }
      ],
      "source": [
        "positive_cases = np.sum(all_xray_df['Nodule']==True)//2\n",
        "oversample_factor = 4 # maximum number of cases in negative group so it isn't super rare\n",
        "more_balanced_df = all_xray_df.groupby(['Nodule']).apply(lambda x: x.sample(min(oversample_factor*positive_cases, x.shape[0]), \n",
        "                                                                                   replace = False)\n",
        "                                                      ).reset_index(drop = True)\n",
        "\n",
        "print(more_balanced_df['Nodule'].value_counts())\n",
        "sns.pairplot(more_balanced_df[['Patient Age', 'Nodule']], hue='Nodule')"
      ]
    },
    {
      "cell_type": "code",
      "execution_count": null,
      "metadata": {
        "colab": {
          "base_uri": "https://localhost:8080/",
          "height": 301
        },
        "id": "qrMENrub2fKf",
        "outputId": "13da18f8-514a-4a70-8c5e-5d8beddaa074"
      },
      "outputs": [
        {
          "output_type": "stream",
          "name": "stdout",
          "text": [
            "train 13293 validation 3418 test 2280\n",
            "train 0    8862\n",
            "1    4431\n",
            "Name: Nodule, dtype: int64\n",
            "test 0    1520\n",
            "1     760\n",
            "Name: Nodule, dtype: int64\n"
          ]
        },
        {
          "output_type": "execute_result",
          "data": {
            "text/html": [
              "\n",
              "  <div id=\"df-6a239ba7-96e4-4a25-b2d7-c159be42fa92\">\n",
              "    <div class=\"colab-df-container\">\n",
              "      <div>\n",
              "<style scoped>\n",
              "    .dataframe tbody tr th:only-of-type {\n",
              "        vertical-align: middle;\n",
              "    }\n",
              "\n",
              "    .dataframe tbody tr th {\n",
              "        vertical-align: top;\n",
              "    }\n",
              "\n",
              "    .dataframe thead th {\n",
              "        text-align: right;\n",
              "    }\n",
              "</style>\n",
              "<table border=\"1\" class=\"dataframe\">\n",
              "  <thead>\n",
              "    <tr style=\"text-align: right;\">\n",
              "      <th></th>\n",
              "      <th>Image Index</th>\n",
              "      <th>Finding Labels</th>\n",
              "      <th>Follow-up #</th>\n",
              "      <th>Patient ID</th>\n",
              "      <th>Patient Age</th>\n",
              "      <th>Patient Gender</th>\n",
              "      <th>View Position</th>\n",
              "      <th>OriginalImage[Width</th>\n",
              "      <th>Height]</th>\n",
              "      <th>OriginalImagePixelSpacing[x</th>\n",
              "      <th>y]</th>\n",
              "      <th>path</th>\n",
              "      <th>Pneumonia</th>\n",
              "      <th>Patient Male</th>\n",
              "      <th>Cardiomegaly</th>\n",
              "      <th>Emphysema</th>\n",
              "      <th>Effusion</th>\n",
              "      <th>Hernia</th>\n",
              "      <th>Nodule</th>\n",
              "      <th>Pneumothorax</th>\n",
              "      <th>Atelectasis</th>\n",
              "      <th>Pleural_Thickening</th>\n",
              "      <th>Mass</th>\n",
              "      <th>Edema</th>\n",
              "      <th>Consolidation</th>\n",
              "      <th>Infiltration</th>\n",
              "      <th>Fibrosis</th>\n",
              "      <th>Nothing</th>\n",
              "    </tr>\n",
              "  </thead>\n",
              "  <tbody>\n",
              "    <tr>\n",
              "      <th>11010</th>\n",
              "      <td>00012585_000.png</td>\n",
              "      <td>No Finding</td>\n",
              "      <td>0</td>\n",
              "      <td>12585</td>\n",
              "      <td>53</td>\n",
              "      <td>M</td>\n",
              "      <td>PA</td>\n",
              "      <td>2992</td>\n",
              "      <td>2991</td>\n",
              "      <td>0.143</td>\n",
              "      <td>0.143</td>\n",
              "      <td>/content/drive/MyDrive/Images/image6/00012585_...</td>\n",
              "      <td>False</td>\n",
              "      <td>1.0</td>\n",
              "      <td>0</td>\n",
              "      <td>0</td>\n",
              "      <td>0</td>\n",
              "      <td>0</td>\n",
              "      <td>0</td>\n",
              "      <td>0</td>\n",
              "      <td>0</td>\n",
              "      <td>0</td>\n",
              "      <td>0</td>\n",
              "      <td>0</td>\n",
              "      <td>0</td>\n",
              "      <td>0</td>\n",
              "      <td>0</td>\n",
              "      <td>1</td>\n",
              "    </tr>\n",
              "  </tbody>\n",
              "</table>\n",
              "</div>\n",
              "      <button class=\"colab-df-convert\" onclick=\"convertToInteractive('df-6a239ba7-96e4-4a25-b2d7-c159be42fa92')\"\n",
              "              title=\"Convert this dataframe to an interactive table.\"\n",
              "              style=\"display:none;\">\n",
              "        \n",
              "  <svg xmlns=\"http://www.w3.org/2000/svg\" height=\"24px\"viewBox=\"0 0 24 24\"\n",
              "       width=\"24px\">\n",
              "    <path d=\"M0 0h24v24H0V0z\" fill=\"none\"/>\n",
              "    <path d=\"M18.56 5.44l.94 2.06.94-2.06 2.06-.94-2.06-.94-.94-2.06-.94 2.06-2.06.94zm-11 1L8.5 8.5l.94-2.06 2.06-.94-2.06-.94L8.5 2.5l-.94 2.06-2.06.94zm10 10l.94 2.06.94-2.06 2.06-.94-2.06-.94-.94-2.06-.94 2.06-2.06.94z\"/><path d=\"M17.41 7.96l-1.37-1.37c-.4-.4-.92-.59-1.43-.59-.52 0-1.04.2-1.43.59L10.3 9.45l-7.72 7.72c-.78.78-.78 2.05 0 2.83L4 21.41c.39.39.9.59 1.41.59.51 0 1.02-.2 1.41-.59l7.78-7.78 2.81-2.81c.8-.78.8-2.07 0-2.86zM5.41 20L4 18.59l7.72-7.72 1.47 1.35L5.41 20z\"/>\n",
              "  </svg>\n",
              "      </button>\n",
              "      \n",
              "  <style>\n",
              "    .colab-df-container {\n",
              "      display:flex;\n",
              "      flex-wrap:wrap;\n",
              "      gap: 12px;\n",
              "    }\n",
              "\n",
              "    .colab-df-convert {\n",
              "      background-color: #E8F0FE;\n",
              "      border: none;\n",
              "      border-radius: 50%;\n",
              "      cursor: pointer;\n",
              "      display: none;\n",
              "      fill: #1967D2;\n",
              "      height: 32px;\n",
              "      padding: 0 0 0 0;\n",
              "      width: 32px;\n",
              "    }\n",
              "\n",
              "    .colab-df-convert:hover {\n",
              "      background-color: #E2EBFA;\n",
              "      box-shadow: 0px 1px 2px rgba(60, 64, 67, 0.3), 0px 1px 3px 1px rgba(60, 64, 67, 0.15);\n",
              "      fill: #174EA6;\n",
              "    }\n",
              "\n",
              "    [theme=dark] .colab-df-convert {\n",
              "      background-color: #3B4455;\n",
              "      fill: #D2E3FC;\n",
              "    }\n",
              "\n",
              "    [theme=dark] .colab-df-convert:hover {\n",
              "      background-color: #434B5C;\n",
              "      box-shadow: 0px 1px 3px 1px rgba(0, 0, 0, 0.15);\n",
              "      filter: drop-shadow(0px 1px 2px rgba(0, 0, 0, 0.3));\n",
              "      fill: #FFFFFF;\n",
              "    }\n",
              "  </style>\n",
              "\n",
              "      <script>\n",
              "        const buttonEl =\n",
              "          document.querySelector('#df-6a239ba7-96e4-4a25-b2d7-c159be42fa92 button.colab-df-convert');\n",
              "        buttonEl.style.display =\n",
              "          google.colab.kernel.accessAllowed ? 'block' : 'none';\n",
              "\n",
              "        async function convertToInteractive(key) {\n",
              "          const element = document.querySelector('#df-6a239ba7-96e4-4a25-b2d7-c159be42fa92');\n",
              "          const dataTable =\n",
              "            await google.colab.kernel.invokeFunction('convertToInteractive',\n",
              "                                                     [key], {});\n",
              "          if (!dataTable) return;\n",
              "\n",
              "          const docLinkHtml = 'Like what you see? Visit the ' +\n",
              "            '<a target=\"_blank\" href=https://colab.research.google.com/notebooks/data_table.ipynb>data table notebook</a>'\n",
              "            + ' to learn more about interactive tables.';\n",
              "          element.innerHTML = '';\n",
              "          dataTable['output_type'] = 'display_data';\n",
              "          await google.colab.output.renderOutput(dataTable, element);\n",
              "          const docLink = document.createElement('div');\n",
              "          docLink.innerHTML = docLinkHtml;\n",
              "          element.appendChild(docLink);\n",
              "        }\n",
              "      </script>\n",
              "    </div>\n",
              "  </div>\n",
              "  "
            ],
            "text/plain": [
              "            Image Index Finding Labels  ...  Fibrosis  Nothing\n",
              "11010  00012585_000.png     No Finding  ...         0        1\n",
              "\n",
              "[1 rows x 28 columns]"
            ]
          },
          "metadata": {},
          "execution_count": 8
        }
      ],
      "source": [
        "from sklearn.model_selection import train_test_split\n",
        "raw_train_df, test_valid_df = train_test_split(more_balanced_df, \n",
        "                                   test_size = 0.30, \n",
        "                                   random_state = 2018,\n",
        "                                   stratify = more_balanced_df[['Nodule']])\n",
        "valid_df, test_df = train_test_split(test_valid_df, \n",
        "                                   test_size = 0.40, \n",
        "                                   random_state = 2018,\n",
        "                                   stratify = test_valid_df[['Nodule']])\n",
        "print('train', raw_train_df.shape[0], 'validation', valid_df.shape[0], 'test', test_df.shape[0])\n",
        "print('train', raw_train_df['Nodule'].value_counts())\n",
        "print('test', test_df['Nodule'].value_counts())\n",
        "raw_train_df.sample(1)"
      ]
    },
    {
      "cell_type": "code",
      "execution_count": null,
      "metadata": {
        "colab": {
          "base_uri": "https://localhost:8080/"
        },
        "id": "2tz46UpY2fKf",
        "outputId": "226e51f0-f0a7-439d-c548-386b954376a4"
      },
      "outputs": [
        {
          "output_type": "stream",
          "name": "stdout",
          "text": [
            "New Data Size: 4000 Old Size: 13293\n"
          ]
        }
      ],
      "source": [
        "train_df = raw_train_df.groupby(['Nodule']).apply(lambda x: x.sample(2000, replace = True)\n",
        "                                                      ).reset_index(drop = True)\n",
        "print('New Data Size:', train_df.shape[0], 'Old Size:', raw_train_df.shape[0])"
      ]
    },
    {
      "cell_type": "code",
      "execution_count": null,
      "metadata": {
        "id": "ocXo0DA02fKf"
      },
      "outputs": [],
      "source": [
        "from keras.preprocessing.image import ImageDataGenerator\n",
        "idg = ImageDataGenerator(zoom_range=0.2,\n",
        "                           fill_mode='nearest',\n",
        "                           rotation_range=25,  \n",
        "                           width_shift_range=0.25,  \n",
        "                           height_shift_range=0.25,  \n",
        "                           vertical_flip=False, \n",
        "                           horizontal_flip=True,\n",
        "                           shear_range = 0.2,\n",
        "                           samplewise_center=False, \n",
        "                           samplewise_std_normalization=False)\n"
      ]
    },
    {
      "cell_type": "code",
      "execution_count": null,
      "metadata": {
        "id": "ul6usEiN2fKg"
      },
      "outputs": [],
      "source": [
        "SEED= 10\n",
        "IMG_SIZE = (128, 128) \n",
        "####\n",
        "def flow_from_dataframe(imgDatGen, df, batch_size, seed, img_size):\n",
        "    #gc.collect()\n",
        "    gen_img = imgDatGen.flow_from_dataframe(dataframe=more_balanced_df,\n",
        "        x_col='path', y_col='Nodule',\n",
        "        batch_size=batch_size, seed=seed, shuffle=True, class_mode='other',\n",
        "        target_size=img_size, color_mode='grayscale',\n",
        "        drop_duplicates=False)\n",
        "\n",
        "    \n",
        "        \n",
        "    while True:\n",
        "        X1i = gen_img.next()\n",
        "        #X2i = gen_img.next()\n",
        "        #gc.collect()\n",
        "        yield [X1i[0], X1i[1]]"
      ]
    },
    {
      "cell_type": "code",
      "execution_count": null,
      "metadata": {
        "id": "BMra6Q-g2fKg"
      },
      "outputs": [],
      "source": [
        "flow = flow_from_dataframe(idg, more_balanced_df, 7151, SEED, IMG_SIZE)"
      ]
    },
    {
      "cell_type": "code",
      "execution_count": null,
      "metadata": {
        "colab": {
          "base_uri": "https://localhost:8080/"
        },
        "id": "OYiuGJwf2fKg",
        "outputId": "81d19ffb-4399-4fd9-a58e-bc9d6c470d98"
      },
      "outputs": [
        {
          "output_type": "stream",
          "name": "stderr",
          "text": [
            "--- Logging error ---\n",
            "Traceback (most recent call last):\n",
            "  File \"/usr/lib/python3.7/logging/__init__.py\", line 1025, in emit\n",
            "    msg = self.format(record)\n",
            "  File \"/usr/lib/python3.7/logging/__init__.py\", line 869, in format\n",
            "    return fmt.format(record)\n",
            "  File \"/usr/lib/python3.7/logging/__init__.py\", line 608, in format\n",
            "    record.message = record.getMessage()\n",
            "  File \"/usr/lib/python3.7/logging/__init__.py\", line 369, in getMessage\n",
            "    msg = msg % self.args\n",
            "TypeError: not all arguments converted during string formatting\n",
            "Call stack:\n",
            "  File \"/usr/lib/python3.7/runpy.py\", line 193, in _run_module_as_main\n",
            "    \"__main__\", mod_spec)\n",
            "  File \"/usr/lib/python3.7/runpy.py\", line 85, in _run_code\n",
            "    exec(code, run_globals)\n",
            "  File \"/usr/local/lib/python3.7/dist-packages/ipykernel_launcher.py\", line 16, in <module>\n",
            "    app.launch_new_instance()\n",
            "  File \"/usr/local/lib/python3.7/dist-packages/traitlets/config/application.py\", line 846, in launch_instance\n",
            "    app.start()\n",
            "  File \"/usr/local/lib/python3.7/dist-packages/ipykernel/kernelapp.py\", line 499, in start\n",
            "    self.io_loop.start()\n",
            "  File \"/usr/local/lib/python3.7/dist-packages/tornado/platform/asyncio.py\", line 132, in start\n",
            "    self.asyncio_loop.run_forever()\n",
            "  File \"/usr/lib/python3.7/asyncio/base_events.py\", line 541, in run_forever\n",
            "    self._run_once()\n",
            "  File \"/usr/lib/python3.7/asyncio/base_events.py\", line 1786, in _run_once\n",
            "    handle._run()\n",
            "  File \"/usr/lib/python3.7/asyncio/events.py\", line 88, in _run\n",
            "    self._context.run(self._callback, *self._args)\n",
            "  File \"/usr/local/lib/python3.7/dist-packages/tornado/ioloop.py\", line 758, in _run_callback\n",
            "    ret = callback()\n",
            "  File \"/usr/local/lib/python3.7/dist-packages/tornado/stack_context.py\", line 300, in null_wrapper\n",
            "    return fn(*args, **kwargs)\n",
            "  File \"/usr/local/lib/python3.7/dist-packages/zmq/eventloop/zmqstream.py\", line 536, in <lambda>\n",
            "    self.io_loop.add_callback(lambda: self._handle_events(self.socket, 0))\n",
            "  File \"/usr/local/lib/python3.7/dist-packages/zmq/eventloop/zmqstream.py\", line 452, in _handle_events\n",
            "    self._handle_recv()\n",
            "  File \"/usr/local/lib/python3.7/dist-packages/zmq/eventloop/zmqstream.py\", line 481, in _handle_recv\n",
            "    self._run_callback(callback, msg)\n",
            "  File \"/usr/local/lib/python3.7/dist-packages/zmq/eventloop/zmqstream.py\", line 431, in _run_callback\n",
            "    callback(*args, **kwargs)\n",
            "  File \"/usr/local/lib/python3.7/dist-packages/tornado/stack_context.py\", line 300, in null_wrapper\n",
            "    return fn(*args, **kwargs)\n",
            "  File \"/usr/local/lib/python3.7/dist-packages/ipykernel/kernelbase.py\", line 283, in dispatcher\n",
            "    return self.dispatch_shell(stream, msg)\n",
            "  File \"/usr/local/lib/python3.7/dist-packages/ipykernel/kernelbase.py\", line 233, in dispatch_shell\n",
            "    handler(stream, idents, msg)\n",
            "  File \"/usr/local/lib/python3.7/dist-packages/ipykernel/kernelbase.py\", line 399, in execute_request\n",
            "    user_expressions, allow_stdin)\n",
            "  File \"/usr/local/lib/python3.7/dist-packages/ipykernel/ipkernel.py\", line 208, in do_execute\n",
            "    res = shell.run_cell(code, store_history=store_history, silent=silent)\n",
            "  File \"/usr/local/lib/python3.7/dist-packages/ipykernel/zmqshell.py\", line 537, in run_cell\n",
            "    return super(ZMQInteractiveShell, self).run_cell(*args, **kwargs)\n",
            "  File \"/usr/local/lib/python3.7/dist-packages/IPython/core/interactiveshell.py\", line 2718, in run_cell\n",
            "    interactivity=interactivity, compiler=compiler, result=result)\n",
            "  File \"/usr/local/lib/python3.7/dist-packages/IPython/core/interactiveshell.py\", line 2822, in run_ast_nodes\n",
            "    if self.run_code(code, result):\n",
            "  File \"/usr/local/lib/python3.7/dist-packages/IPython/core/interactiveshell.py\", line 2882, in run_code\n",
            "    exec(code_obj, self.user_global_ns, self.user_ns)\n",
            "  File \"<ipython-input-13-710bbcbe35c6>\", line 1, in <module>\n",
            "    t,y= next(flow)\n",
            "  File \"<ipython-input-11-c4e90f3dc100>\", line 10, in flow_from_dataframe\n",
            "    drop_duplicates=False)\n",
            "  File \"/usr/local/lib/python3.7/dist-packages/keras/preprocessing/image.py\", line 1109, in flow_from_dataframe\n",
            "    '`class_mode` \"raw\".', DeprecationWarning)\n",
            "  File \"/usr/local/lib/python3.7/dist-packages/tensorflow/python/platform/tf_logging.py\", line 178, in warning\n",
            "    get_logger().warning(msg, *args, **kwargs)\n",
            "Message: '`class_mode` \"other\" is deprecated, please use `class_mode` \"raw\".'\n",
            "Arguments: (<class 'DeprecationWarning'>,)\n",
            "--- Logging error ---\n",
            "Traceback (most recent call last):\n",
            "  File \"/usr/lib/python3.7/logging/__init__.py\", line 1025, in emit\n",
            "    msg = self.format(record)\n",
            "  File \"/usr/lib/python3.7/logging/__init__.py\", line 869, in format\n",
            "    return fmt.format(record)\n",
            "  File \"/usr/lib/python3.7/logging/__init__.py\", line 608, in format\n",
            "    record.message = record.getMessage()\n",
            "  File \"/usr/lib/python3.7/logging/__init__.py\", line 369, in getMessage\n",
            "    msg = msg % self.args\n",
            "TypeError: not all arguments converted during string formatting\n",
            "Call stack:\n",
            "  File \"/usr/lib/python3.7/runpy.py\", line 193, in _run_module_as_main\n",
            "    \"__main__\", mod_spec)\n",
            "  File \"/usr/lib/python3.7/runpy.py\", line 85, in _run_code\n",
            "    exec(code, run_globals)\n",
            "  File \"/usr/local/lib/python3.7/dist-packages/ipykernel_launcher.py\", line 16, in <module>\n",
            "    app.launch_new_instance()\n",
            "  File \"/usr/local/lib/python3.7/dist-packages/traitlets/config/application.py\", line 846, in launch_instance\n",
            "    app.start()\n",
            "  File \"/usr/local/lib/python3.7/dist-packages/ipykernel/kernelapp.py\", line 499, in start\n",
            "    self.io_loop.start()\n",
            "  File \"/usr/local/lib/python3.7/dist-packages/tornado/platform/asyncio.py\", line 132, in start\n",
            "    self.asyncio_loop.run_forever()\n",
            "  File \"/usr/lib/python3.7/asyncio/base_events.py\", line 541, in run_forever\n",
            "    self._run_once()\n",
            "  File \"/usr/lib/python3.7/asyncio/base_events.py\", line 1786, in _run_once\n",
            "    handle._run()\n",
            "  File \"/usr/lib/python3.7/asyncio/events.py\", line 88, in _run\n",
            "    self._context.run(self._callback, *self._args)\n",
            "  File \"/usr/local/lib/python3.7/dist-packages/tornado/ioloop.py\", line 758, in _run_callback\n",
            "    ret = callback()\n",
            "  File \"/usr/local/lib/python3.7/dist-packages/tornado/stack_context.py\", line 300, in null_wrapper\n",
            "    return fn(*args, **kwargs)\n",
            "  File \"/usr/local/lib/python3.7/dist-packages/zmq/eventloop/zmqstream.py\", line 536, in <lambda>\n",
            "    self.io_loop.add_callback(lambda: self._handle_events(self.socket, 0))\n",
            "  File \"/usr/local/lib/python3.7/dist-packages/zmq/eventloop/zmqstream.py\", line 452, in _handle_events\n",
            "    self._handle_recv()\n",
            "  File \"/usr/local/lib/python3.7/dist-packages/zmq/eventloop/zmqstream.py\", line 481, in _handle_recv\n",
            "    self._run_callback(callback, msg)\n",
            "  File \"/usr/local/lib/python3.7/dist-packages/zmq/eventloop/zmqstream.py\", line 431, in _run_callback\n",
            "    callback(*args, **kwargs)\n",
            "  File \"/usr/local/lib/python3.7/dist-packages/tornado/stack_context.py\", line 300, in null_wrapper\n",
            "    return fn(*args, **kwargs)\n",
            "  File \"/usr/local/lib/python3.7/dist-packages/ipykernel/kernelbase.py\", line 283, in dispatcher\n",
            "    return self.dispatch_shell(stream, msg)\n",
            "  File \"/usr/local/lib/python3.7/dist-packages/ipykernel/kernelbase.py\", line 233, in dispatch_shell\n",
            "    handler(stream, idents, msg)\n",
            "  File \"/usr/local/lib/python3.7/dist-packages/ipykernel/kernelbase.py\", line 399, in execute_request\n",
            "    user_expressions, allow_stdin)\n",
            "  File \"/usr/local/lib/python3.7/dist-packages/ipykernel/ipkernel.py\", line 208, in do_execute\n",
            "    res = shell.run_cell(code, store_history=store_history, silent=silent)\n",
            "  File \"/usr/local/lib/python3.7/dist-packages/ipykernel/zmqshell.py\", line 537, in run_cell\n",
            "    return super(ZMQInteractiveShell, self).run_cell(*args, **kwargs)\n",
            "  File \"/usr/local/lib/python3.7/dist-packages/IPython/core/interactiveshell.py\", line 2718, in run_cell\n",
            "    interactivity=interactivity, compiler=compiler, result=result)\n",
            "  File \"/usr/local/lib/python3.7/dist-packages/IPython/core/interactiveshell.py\", line 2822, in run_ast_nodes\n",
            "    if self.run_code(code, result):\n",
            "  File \"/usr/local/lib/python3.7/dist-packages/IPython/core/interactiveshell.py\", line 2882, in run_code\n",
            "    exec(code_obj, self.user_global_ns, self.user_ns)\n",
            "  File \"<ipython-input-13-710bbcbe35c6>\", line 1, in <module>\n",
            "    t,y= next(flow)\n",
            "  File \"<ipython-input-11-c4e90f3dc100>\", line 10, in flow_from_dataframe\n",
            "    drop_duplicates=False)\n",
            "  File \"/usr/local/lib/python3.7/dist-packages/keras/preprocessing/image.py\", line 1115, in flow_from_dataframe\n",
            "    DeprecationWarning)\n",
            "  File \"/usr/local/lib/python3.7/dist-packages/tensorflow/python/platform/tf_logging.py\", line 178, in warning\n",
            "    get_logger().warning(msg, *args, **kwargs)\n",
            "Message: 'drop_duplicates is deprecated, you can drop duplicates by using the pandas.DataFrame.drop_duplicates method.'\n",
            "Arguments: (<class 'DeprecationWarning'>,)\n"
          ]
        },
        {
          "output_type": "stream",
          "name": "stdout",
          "text": [
            "Found 18991 validated image filenames.\n"
          ]
        }
      ],
      "source": [
        "t,y= next(flow)"
      ]
    },
    {
      "cell_type": "code",
      "execution_count": null,
      "metadata": {
        "id": "tSQEHQl82fKg"
      },
      "outputs": [],
      "source": [
        "from sklearn.model_selection import train_test_split\n",
        "X_train, X_test, y_train, y_test = train_test_split(t,y, \n",
        "                                   test_size = 0.30, \n",
        "                                   random_state = 2018)\n"
      ]
    },
    {
      "cell_type": "code",
      "execution_count": null,
      "metadata": {
        "colab": {
          "base_uri": "https://localhost:8080/"
        },
        "id": "aTXzRiDg2fKg",
        "outputId": "d1135b6d-a03b-46cc-f1b2-fd8950ad22f1"
      },
      "outputs": [
        {
          "output_type": "stream",
          "name": "stdout",
          "text": [
            "Model: \"sequential\"\n",
            "_________________________________________________________________\n",
            " Layer (type)                Output Shape              Param #   \n",
            "=================================================================\n",
            " mobilenet_1.00_128 (Functio  (None, 4, 4, 1024)       3228288   \n",
            " nal)                                                            \n",
            "                                                                 \n",
            " global_average_pooling2d (G  (None, 1024)             0         \n",
            " lobalAveragePooling2D)                                          \n",
            "                                                                 \n",
            " dropout (Dropout)           (None, 1024)              0         \n",
            "                                                                 \n",
            " dense (Dense)               (None, 512)               524800    \n",
            "                                                                 \n",
            " dropout_1 (Dropout)         (None, 512)               0         \n",
            "                                                                 \n",
            " dense_1 (Dense)             (None, 1)                 513       \n",
            "                                                                 \n",
            "=================================================================\n",
            "Total params: 3,753,601\n",
            "Trainable params: 3,731,713\n",
            "Non-trainable params: 21,888\n",
            "_________________________________________________________________\n"
          ]
        }
      ],
      "source": [
        "from keras.applications.mobilenet import MobileNet\n",
        "from keras.layers import GlobalAveragePooling2D, Dense, Dropout, Flatten\n",
        "from keras.models import Sequential\n",
        "mobilenet_model = MobileNet(input_shape =  X_train.shape[1:], \n",
        "                                 include_top = False, weights = None)\n",
        "mobilenet_GAP_model = Sequential()\n",
        "mobilenet_GAP_model.add(mobilenet_model)\n",
        "mobilenet_GAP_model.add(GlobalAveragePooling2D())\n",
        "mobilenet_GAP_model.add(Dropout(0.5))\n",
        "mobilenet_GAP_model.add(Dense(512))\n",
        "mobilenet_GAP_model.add(Dropout(0.5))\n",
        "mobilenet_GAP_model.add(Dense(1, activation = 'sigmoid'))\n",
        "mobilenet_GAP_model.compile(optimizer = 'adam', loss = 'binary_crossentropy',\n",
        "                           metrics = ['binary_accuracy', 'mae'])\n",
        "mobilenet_GAP_model.summary()"
      ]
    },
    {
      "cell_type": "code",
      "execution_count": null,
      "metadata": {
        "id": "7U9x1sbB2fKh"
      },
      "outputs": [],
      "source": [
        "from keras.callbacks import ModelCheckpoint, LearningRateScheduler, EarlyStopping, ReduceLROnPlateau\n",
        "weight_path=\"{}_weights.best.hdf5\".format('xray_class')\n",
        "\n",
        "checkpoint = ModelCheckpoint(weight_path, monitor='val_loss', verbose=1, \n",
        "                             save_best_only=True, mode='min', save_weights_only = True)\n",
        "\n",
        "early = EarlyStopping(monitor=\"val_loss\", \n",
        "                      mode=\"min\", \n",
        "                      patience=3)\n",
        "callbacks_list = [checkpoint, early]"
      ]
    },
    {
      "cell_type": "code",
      "execution_count": null,
      "metadata": {
        "colab": {
          "base_uri": "https://localhost:8080/"
        },
        "id": "JzcIJ0Xr2fKh",
        "outputId": "fe21a860-d437-4e25-d3d1-0b0ef62b9546"
      },
      "outputs": [
        {
          "output_type": "stream",
          "name": "stdout",
          "text": [
            "Epoch 1/10\n",
            "10/10 [==============================] - ETA: 0s - loss: 1.8140 - binary_accuracy: 0.5622 - mae: 0.4420 \n",
            "Epoch 00001: val_loss improved from inf to 0.67774, saving model to xray_class_weights.best.hdf5\n",
            "10/10 [==============================] - 366s 36s/step - loss: 1.8140 - binary_accuracy: 0.5622 - mae: 0.4420 - val_loss: 0.6777 - val_binary_accuracy: 0.6803 - val_mae: 0.4918\n",
            "Epoch 2/10\n",
            "10/10 [==============================] - ETA: 0s - loss: 0.9721 - binary_accuracy: 0.5532 - mae: 0.4543 \n",
            "Epoch 00002: val_loss improved from 0.67774 to 0.66533, saving model to xray_class_weights.best.hdf5\n",
            "10/10 [==============================] - 349s 35s/step - loss: 0.9721 - binary_accuracy: 0.5532 - mae: 0.4543 - val_loss: 0.6653 - val_binary_accuracy: 0.6803 - val_mae: 0.4842\n",
            "Epoch 3/10\n",
            "10/10 [==============================] - ETA: 0s - loss: 0.7882 - binary_accuracy: 0.5820 - mae: 0.4529 \n",
            "Epoch 00003: val_loss improved from 0.66533 to 0.65127, saving model to xray_class_weights.best.hdf5\n",
            "10/10 [==============================] - 359s 36s/step - loss: 0.7882 - binary_accuracy: 0.5820 - mae: 0.4529 - val_loss: 0.6513 - val_binary_accuracy: 0.6803 - val_mae: 0.4740\n",
            "Epoch 4/10\n",
            "10/10 [==============================] - ETA: 0s - loss: 0.7320 - binary_accuracy: 0.6096 - mae: 0.4484 \n",
            "Epoch 00004: val_loss improved from 0.65127 to 0.64375, saving model to xray_class_weights.best.hdf5\n",
            "10/10 [==============================] - 353s 36s/step - loss: 0.7320 - binary_accuracy: 0.6096 - mae: 0.4484 - val_loss: 0.6437 - val_binary_accuracy: 0.6803 - val_mae: 0.4673\n",
            "Epoch 5/10\n",
            "10/10 [==============================] - ETA: 0s - loss: 0.6852 - binary_accuracy: 0.6448 - mae: 0.4310 \n",
            "Epoch 00005: val_loss did not improve from 0.64375\n",
            "10/10 [==============================] - 360s 36s/step - loss: 0.6852 - binary_accuracy: 0.6448 - mae: 0.4310 - val_loss: 0.6463 - val_binary_accuracy: 0.6803 - val_mae: 0.4697\n",
            "Epoch 6/10\n",
            "10/10 [==============================] - ETA: 0s - loss: 0.5751 - binary_accuracy: 0.6961 - mae: 0.3800 \n",
            "Epoch 00006: val_loss did not improve from 0.64375\n",
            "10/10 [==============================] - 353s 36s/step - loss: 0.5751 - binary_accuracy: 0.6961 - mae: 0.3800 - val_loss: 0.6536 - val_binary_accuracy: 0.6803 - val_mae: 0.4759\n",
            "Epoch 7/10\n",
            "10/10 [==============================] - ETA: 0s - loss: 0.5178 - binary_accuracy: 0.7558 - mae: 0.3138 \n",
            "Epoch 00007: val_loss did not improve from 0.64375\n",
            "10/10 [==============================] - 360s 36s/step - loss: 0.5178 - binary_accuracy: 0.7558 - mae: 0.3138 - val_loss: 0.6457 - val_binary_accuracy: 0.6803 - val_mae: 0.4692\n"
          ]
        }
      ],
      "source": [
        "history_mobilenet_GAP = mobilenet_GAP_model.fit(X_train,y_train,\n",
        "                                  steps_per_epoch=10,\n",
        "                                  validation_data = (X_test, y_test), \n",
        "                                  epochs = 10, \n",
        "                                  callbacks = callbacks_list)"
      ]
    },
    {
      "cell_type": "code",
      "execution_count": null,
      "metadata": {
        "colab": {
          "base_uri": "https://localhost:8080/"
        },
        "id": "ihOR87re2fKh",
        "outputId": "acee185e-9806-4678-e40b-a23f71c4bdbc"
      },
      "outputs": [
        {
          "output_type": "stream",
          "name": "stdout",
          "text": [
            "68/68 [==============================] - 24s 347ms/step\n"
          ]
        }
      ],
      "source": [
        "pred_Y = mobilenet_GAP_model.predict(X_test, \n",
        "                          batch_size = 32, \n",
        "                          verbose = True)"
      ]
    },
    {
      "cell_type": "code",
      "execution_count": null,
      "metadata": {
        "colab": {
          "base_uri": "https://localhost:8080/"
        },
        "id": "-SpMGlDa2fKh",
        "outputId": "6c1d9864-1905-4cae-c4fe-74c6ca14ccb1"
      },
      "outputs": [
        {
          "output_type": "execute_result",
          "data": {
            "text/plain": [
              "array([[0.4144735 ],\n",
              "       [0.4144735 ],\n",
              "       [0.4144735 ],\n",
              "       ...,\n",
              "       [0.41447347],\n",
              "       [0.41447347],\n",
              "       [0.41447347]], dtype=float32)"
            ]
          },
          "metadata": {},
          "execution_count": 19
        }
      ],
      "source": [
        "pred_Y"
      ]
    },
    {
      "cell_type": "code",
      "execution_count": null,
      "metadata": {
        "colab": {
          "base_uri": "https://localhost:8080/"
        },
        "id": "F4LmvekE2fKh",
        "outputId": "92512ae2-3301-433d-a24e-16f283bbdd76"
      },
      "outputs": [
        {
          "output_type": "execute_result",
          "data": {
            "text/plain": [
              "array([0.41447347], dtype=float32)"
            ]
          },
          "metadata": {},
          "execution_count": 20
        }
      ],
      "source": [
        "min(pred_Y)"
      ]
    },
    {
      "cell_type": "code",
      "execution_count": null,
      "metadata": {
        "id": "QuTumsNN2fKi",
        "colab": {
          "base_uri": "https://localhost:8080/"
        },
        "outputId": "f3ccbe78-f93e-4323-b01e-b59a2f0d15c6"
      },
      "outputs": [
        {
          "output_type": "stream",
          "name": "stdout",
          "text": [
            "test accuracy =  0.680335521697998\n"
          ]
        }
      ],
      "source": [
        "print('test accuracy = ',mobilenet_GAP_model.evaluate(X_test,y_test, verbose=0)[1])"
      ]
    },
    {
      "cell_type": "code",
      "execution_count": null,
      "metadata": {
        "id": "qP1pjDZL2fKi",
        "colab": {
          "base_uri": "https://localhost:8080/"
        },
        "outputId": "4d92f88e-b7a2-48b7-c929-a75cbd3b3ab5"
      },
      "outputs": [
        {
          "output_type": "stream",
          "name": "stdout",
          "text": [
            "roc score =  0.4983655497424019\n"
          ]
        }
      ],
      "source": [
        "from sklearn.metrics import roc_auc_score\n",
        "print('roc score = ',roc_auc_score(y_test.astype(int), pred_Y))"
      ]
    },
    {
      "cell_type": "code",
      "execution_count": null,
      "metadata": {
        "colab": {
          "base_uri": "https://localhost:8080/",
          "height": 430
        },
        "id": "hHRgEa_Z2fKi",
        "outputId": "7f2aacd0-c213-47fa-a64c-d19666ebca39"
      },
      "outputs": [
        {
          "output_type": "stream",
          "name": "stdout",
          "text": [
            "              precision    recall  f1-score   support\n",
            "\n",
            "   No Nodule       0.67      0.06      0.11      1460\n",
            "      Nodule       0.32      0.93      0.48       686\n",
            "\n",
            "    accuracy                           0.34      2146\n",
            "   macro avg       0.49      0.50      0.29      2146\n",
            "weighted avg       0.56      0.34      0.23      2146\n",
            "\n"
          ]
        },
        {
          "output_type": "display_data",
          "data": {
            "image/png": "[encoded data removed]",
            "text/plain": [
              "<Figure size 288x288 with 1 Axes>"
            ]
          },
          "metadata": {}
        }
      ],
      "source": [
        "from sklearn.metrics import classification_report, confusion_matrix\n",
        "plt.matshow(confusion_matrix(y_test, pred_Y>0.41447347))\n",
        "print(classification_report(y_test, pred_Y>0.41447347, target_names = ['No Nodule', 'Nodule']))"
      ]
    },
    {
      "cell_type": "markdown",
      "metadata": {
        "id": "Qh-IafXx2f9H"
      },
      "source": [
        "## **Pleural-Thickening**"
      ]
    },
    {
      "cell_type": "code",
      "execution_count": null,
      "metadata": {
        "colab": {
          "base_uri": "https://localhost:8080/",
          "height": 266
        },
        "id": "Bmhbl8ss2gbA",
        "outputId": "e211904d-a4f4-4b71-895d-c84b18faedbf"
      },
      "outputs": [
        {
          "output_type": "stream",
          "name": "stdout",
          "text": [
            "0    6768\n",
            "1    3385\n",
            "Name: Pleural_Thickening, dtype: int64\n"
          ]
        },
        {
          "output_type": "execute_result",
          "data": {
            "text/plain": [
              "<seaborn.axisgrid.PairGrid at 0x7fec2d46a110>"
            ]
          },
          "metadata": {},
          "execution_count": 24
        },
        {
          "output_type": "display_data",
          "data": {
            "image/png": "[encoded data removed]",
            "text/plain": [
              "<Figure size 281.75x180 with 2 Axes>"
            ]
          },
          "metadata": {}
        }
      ],
      "source": [
        "positive_cases = np.sum(all_xray_df['Pleural_Thickening']==True)//2\n",
        "oversample_factor = 4 # maximum number of cases in negative group so it isn't super rare\n",
        "more_balanced_df = all_xray_df.groupby(['Pleural_Thickening']).apply(lambda x: x.sample(min(oversample_factor*positive_cases, x.shape[0]), \n",
        "                                                                                   replace = False)\n",
        "                                                      ).reset_index(drop = True)\n",
        "\n",
        "print(more_balanced_df['Pleural_Thickening'].value_counts())\n",
        "sns.pairplot(more_balanced_df[['Patient Age', 'Pleural_Thickening']], hue='Pleural_Thickening')"
      ]
    },
    {
      "cell_type": "code",
      "execution_count": null,
      "metadata": {
        "colab": {
          "base_uri": "https://localhost:8080/",
          "height": 301
        },
        "id": "BFoxc1p12gbB",
        "outputId": "43e99cb9-85d2-475f-ebbb-4d68ea3bd3ea"
      },
      "outputs": [
        {
          "output_type": "stream",
          "name": "stdout",
          "text": [
            "train 7107 validation 1827 test 1219\n",
            "train 0    4738\n",
            "1    2369\n",
            "Name: Pleural_Thickening, dtype: int64\n",
            "test 0    812\n",
            "1    407\n",
            "Name: Pleural_Thickening, dtype: int64\n"
          ]
        },
        {
          "output_type": "execute_result",
          "data": {
            "text/html": [
              "\n",
              "  <div id=\"df-a302d573-936a-4297-bef3-7387d29f1b93\">\n",
              "    <div class=\"colab-df-container\">\n",
              "      <div>\n",
              "<style scoped>\n",
              "    .dataframe tbody tr th:only-of-type {\n",
              "        vertical-align: middle;\n",
              "    }\n",
              "\n",
              "    .dataframe tbody tr th {\n",
              "        vertical-align: top;\n",
              "    }\n",
              "\n",
              "    .dataframe thead th {\n",
              "        text-align: right;\n",
              "    }\n",
              "</style>\n",
              "<table border=\"1\" class=\"dataframe\">\n",
              "  <thead>\n",
              "    <tr style=\"text-align: right;\">\n",
              "      <th></th>\n",
              "      <th>Image Index</th>\n",
              "      <th>Finding Labels</th>\n",
              "      <th>Follow-up #</th>\n",
              "      <th>Patient ID</th>\n",
              "      <th>Patient Age</th>\n",
              "      <th>Patient Gender</th>\n",
              "      <th>View Position</th>\n",
              "      <th>OriginalImage[Width</th>\n",
              "      <th>Height]</th>\n",
              "      <th>OriginalImagePixelSpacing[x</th>\n",
              "      <th>y]</th>\n",
              "      <th>path</th>\n",
              "      <th>Pneumonia</th>\n",
              "      <th>Patient Male</th>\n",
              "      <th>Cardiomegaly</th>\n",
              "      <th>Emphysema</th>\n",
              "      <th>Effusion</th>\n",
              "      <th>Hernia</th>\n",
              "      <th>Nodule</th>\n",
              "      <th>Pneumothorax</th>\n",
              "      <th>Atelectasis</th>\n",
              "      <th>Pleural_Thickening</th>\n",
              "      <th>Mass</th>\n",
              "      <th>Edema</th>\n",
              "      <th>Consolidation</th>\n",
              "      <th>Infiltration</th>\n",
              "      <th>Fibrosis</th>\n",
              "      <th>Nothing</th>\n",
              "    </tr>\n",
              "  </thead>\n",
              "  <tbody>\n",
              "    <tr>\n",
              "      <th>4290</th>\n",
              "      <td>00002457_011.png</td>\n",
              "      <td>No Finding</td>\n",
              "      <td>11</td>\n",
              "      <td>2457</td>\n",
              "      <td>15</td>\n",
              "      <td>M</td>\n",
              "      <td>AP</td>\n",
              "      <td>2500</td>\n",
              "      <td>2048</td>\n",
              "      <td>0.168</td>\n",
              "      <td>0.168</td>\n",
              "      <td>/content/drive/MyDrive/Images/image2/00002457_...</td>\n",
              "      <td>False</td>\n",
              "      <td>1.0</td>\n",
              "      <td>0</td>\n",
              "      <td>0</td>\n",
              "      <td>0</td>\n",
              "      <td>0</td>\n",
              "      <td>0</td>\n",
              "      <td>0</td>\n",
              "      <td>0</td>\n",
              "      <td>0</td>\n",
              "      <td>0</td>\n",
              "      <td>0</td>\n",
              "      <td>0</td>\n",
              "      <td>0</td>\n",
              "      <td>0</td>\n",
              "      <td>1</td>\n",
              "    </tr>\n",
              "  </tbody>\n",
              "</table>\n",
              "</div>\n",
              "      <button class=\"colab-df-convert\" onclick=\"convertToInteractive('df-a302d573-936a-4297-bef3-7387d29f1b93')\"\n",
              "              title=\"Convert this dataframe to an interactive table.\"\n",
              "              style=\"display:none;\">\n",
              "        \n",
              "  <svg xmlns=\"http://www.w3.org/2000/svg\" height=\"24px\"viewBox=\"0 0 24 24\"\n",
              "       width=\"24px\">\n",
              "    <path d=\"M0 0h24v24H0V0z\" fill=\"none\"/>\n",
              "    <path d=\"M18.56 5.44l.94 2.06.94-2.06 2.06-.94-2.06-.94-.94-2.06-.94 2.06-2.06.94zm-11 1L8.5 8.5l.94-2.06 2.06-.94-2.06-.94L8.5 2.5l-.94 2.06-2.06.94zm10 10l.94 2.06.94-2.06 2.06-.94-2.06-.94-.94-2.06-.94 2.06-2.06.94z\"/><path d=\"M17.41 7.96l-1.37-1.37c-.4-.4-.92-.59-1.43-.59-.52 0-1.04.2-1.43.59L10.3 9.45l-7.72 7.72c-.78.78-.78 2.05 0 2.83L4 21.41c.39.39.9.59 1.41.59.51 0 1.02-.2 1.41-.59l7.78-7.78 2.81-2.81c.8-.78.8-2.07 0-2.86zM5.41 20L4 18.59l7.72-7.72 1.47 1.35L5.41 20z\"/>\n",
              "  </svg>\n",
              "      </button>\n",
              "      \n",
              "  <style>\n",
              "    .colab-df-container {\n",
              "      display:flex;\n",
              "      flex-wrap:wrap;\n",
              "      gap: 12px;\n",
              "    }\n",
              "\n",
              "    .colab-df-convert {\n",
              "      background-color: #E8F0FE;\n",
              "      border: none;\n",
              "      border-radius: 50%;\n",
              "      cursor: pointer;\n",
              "      display: none;\n",
              "      fill: #1967D2;\n",
              "      height: 32px;\n",
              "      padding: 0 0 0 0;\n",
              "      width: 32px;\n",
              "    }\n",
              "\n",
              "    .colab-df-convert:hover {\n",
              "      background-color: #E2EBFA;\n",
              "      box-shadow: 0px 1px 2px rgba(60, 64, 67, 0.3), 0px 1px 3px 1px rgba(60, 64, 67, 0.15);\n",
              "      fill: #174EA6;\n",
              "    }\n",
              "\n",
              "    [theme=dark] .colab-df-convert {\n",
              "      background-color: #3B4455;\n",
              "      fill: #D2E3FC;\n",
              "    }\n",
              "\n",
              "    [theme=dark] .colab-df-convert:hover {\n",
              "      background-color: #434B5C;\n",
              "      box-shadow: 0px 1px 3px 1px rgba(0, 0, 0, 0.15);\n",
              "      filter: drop-shadow(0px 1px 2px rgba(0, 0, 0, 0.3));\n",
              "      fill: #FFFFFF;\n",
              "    }\n",
              "  </style>\n",
              "\n",
              "      <script>\n",
              "        const buttonEl =\n",
              "          document.querySelector('#df-a302d573-936a-4297-bef3-7387d29f1b93 button.colab-df-convert');\n",
              "        buttonEl.style.display =\n",
              "          google.colab.kernel.accessAllowed ? 'block' : 'none';\n",
              "\n",
              "        async function convertToInteractive(key) {\n",
              "          const element = document.querySelector('#df-a302d573-936a-4297-bef3-7387d29f1b93');\n",
              "          const dataTable =\n",
              "            await google.colab.kernel.invokeFunction('convertToInteractive',\n",
              "                                                     [key], {});\n",
              "          if (!dataTable) return;\n",
              "\n",
              "          const docLinkHtml = 'Like what you see? Visit the ' +\n",
              "            '<a target=\"_blank\" href=https://colab.research.google.com/notebooks/data_table.ipynb>data table notebook</a>'\n",
              "            + ' to learn more about interactive tables.';\n",
              "          element.innerHTML = '';\n",
              "          dataTable['output_type'] = 'display_data';\n",
              "          await google.colab.output.renderOutput(dataTable, element);\n",
              "          const docLink = document.createElement('div');\n",
              "          docLink.innerHTML = docLinkHtml;\n",
              "          element.appendChild(docLink);\n",
              "        }\n",
              "      </script>\n",
              "    </div>\n",
              "  </div>\n",
              "  "
            ],
            "text/plain": [
              "           Image Index Finding Labels  ...  Fibrosis  Nothing\n",
              "4290  00002457_011.png     No Finding  ...         0        1\n",
              "\n",
              "[1 rows x 28 columns]"
            ]
          },
          "metadata": {},
          "execution_count": 25
        }
      ],
      "source": [
        "from sklearn.model_selection import train_test_split\n",
        "raw_train_df, test_valid_df = train_test_split(more_balanced_df, \n",
        "                                   test_size = 0.30, \n",
        "                                   random_state = 2018,\n",
        "                                   stratify = more_balanced_df[['Pleural_Thickening']])\n",
        "valid_df, test_df = train_test_split(test_valid_df, \n",
        "                                   test_size = 0.40, \n",
        "                                   random_state = 2018,\n",
        "                                   stratify = test_valid_df[['Pleural_Thickening']])\n",
        "print('train', raw_train_df.shape[0], 'validation', valid_df.shape[0], 'test', test_df.shape[0])\n",
        "print('train', raw_train_df['Pleural_Thickening'].value_counts())\n",
        "print('test', test_df['Pleural_Thickening'].value_counts())\n",
        "raw_train_df.sample(1)"
      ]
    },
    {
      "cell_type": "code",
      "execution_count": null,
      "metadata": {
        "colab": {
          "base_uri": "https://localhost:8080/"
        },
        "id": "_goVPocI2gbB",
        "outputId": "f82dbcb1-f7cf-408a-c8bb-2fb93345b6d2"
      },
      "outputs": [
        {
          "output_type": "stream",
          "name": "stdout",
          "text": [
            "New Data Size: 4000 Old Size: 7107\n"
          ]
        }
      ],
      "source": [
        "train_df = raw_train_df.groupby(['Pleural_Thickening']).apply(lambda x: x.sample(2000, replace = True)\n",
        "                                                      ).reset_index(drop = True)\n",
        "print('New Data Size:', train_df.shape[0], 'Old Size:', raw_train_df.shape[0])"
      ]
    },
    {
      "cell_type": "code",
      "execution_count": null,
      "metadata": {
        "id": "R7g3ZkOq2gbC"
      },
      "outputs": [],
      "source": [
        "from keras.preprocessing.image import ImageDataGenerator\n",
        "idg = ImageDataGenerator(zoom_range=0.2,\n",
        "                           fill_mode='nearest',\n",
        "                           rotation_range=25,  \n",
        "                           width_shift_range=0.25,  \n",
        "                           height_shift_range=0.25,  \n",
        "                           vertical_flip=False, \n",
        "                           horizontal_flip=True,\n",
        "                           shear_range = 0.2,\n",
        "                           samplewise_center=False, \n",
        "                           samplewise_std_normalization=False)\n"
      ]
    },
    {
      "cell_type": "code",
      "execution_count": null,
      "metadata": {
        "id": "AzFmca6r2gbC"
      },
      "outputs": [],
      "source": [
        "SEED= 10\n",
        "IMG_SIZE = (128, 128) \n",
        "####\n",
        "def flow_from_dataframe(imgDatGen, df, batch_size, seed, img_size):\n",
        "    #gc.collect()\n",
        "    gen_img = imgDatGen.flow_from_dataframe(dataframe=more_balanced_df,\n",
        "        x_col='path', y_col='Pleural_Thickening',\n",
        "        batch_size=batch_size, seed=seed, shuffle=True, class_mode='other',\n",
        "        target_size=img_size, color_mode='grayscale',\n",
        "        drop_duplicates=False)\n",
        "\n",
        "    \n",
        "        \n",
        "    while True:\n",
        "        X1i = gen_img.next()\n",
        "        #X2i = gen_img.next()\n",
        "        #gc.collect()\n",
        "        yield [X1i[0], X1i[1]]"
      ]
    },
    {
      "cell_type": "code",
      "execution_count": null,
      "metadata": {
        "id": "7atXPl6j2gbC"
      },
      "outputs": [],
      "source": [
        "flow = flow_from_dataframe(idg, more_balanced_df, 7151, SEED, IMG_SIZE)"
      ]
    },
    {
      "cell_type": "code",
      "execution_count": null,
      "metadata": {
        "colab": {
          "base_uri": "https://localhost:8080/"
        },
        "id": "pKrG-aJc2gbC",
        "outputId": "c7574321-db16-42a3-f3c4-7c025a9031a8"
      },
      "outputs": [
        {
          "output_type": "stream",
          "name": "stderr",
          "text": [
            "--- Logging error ---\n",
            "Traceback (most recent call last):\n",
            "  File \"/usr/lib/python3.7/logging/__init__.py\", line 1025, in emit\n",
            "    msg = self.format(record)\n",
            "  File \"/usr/lib/python3.7/logging/__init__.py\", line 869, in format\n",
            "    return fmt.format(record)\n",
            "  File \"/usr/lib/python3.7/logging/__init__.py\", line 608, in format\n",
            "    record.message = record.getMessage()\n",
            "  File \"/usr/lib/python3.7/logging/__init__.py\", line 369, in getMessage\n",
            "    msg = msg % self.args\n",
            "TypeError: not all arguments converted during string formatting\n",
            "Call stack:\n",
            "  File \"/usr/lib/python3.7/runpy.py\", line 193, in _run_module_as_main\n",
            "    \"__main__\", mod_spec)\n",
            "  File \"/usr/lib/python3.7/runpy.py\", line 85, in _run_code\n",
            "    exec(code, run_globals)\n",
            "  File \"/usr/local/lib/python3.7/dist-packages/ipykernel_launcher.py\", line 16, in <module>\n",
            "    app.launch_new_instance()\n",
            "  File \"/usr/local/lib/python3.7/dist-packages/traitlets/config/application.py\", line 846, in launch_instance\n",
            "    app.start()\n",
            "  File \"/usr/local/lib/python3.7/dist-packages/ipykernel/kernelapp.py\", line 499, in start\n",
            "    self.io_loop.start()\n",
            "  File \"/usr/local/lib/python3.7/dist-packages/tornado/platform/asyncio.py\", line 132, in start\n",
            "    self.asyncio_loop.run_forever()\n",
            "  File \"/usr/lib/python3.7/asyncio/base_events.py\", line 541, in run_forever\n",
            "    self._run_once()\n",
            "  File \"/usr/lib/python3.7/asyncio/base_events.py\", line 1786, in _run_once\n",
            "    handle._run()\n",
            "  File \"/usr/lib/python3.7/asyncio/events.py\", line 88, in _run\n",
            "    self._context.run(self._callback, *self._args)\n",
            "  File \"/usr/local/lib/python3.7/dist-packages/tornado/platform/asyncio.py\", line 122, in _handle_events\n",
            "    handler_func(fileobj, events)\n",
            "  File \"/usr/local/lib/python3.7/dist-packages/tornado/stack_context.py\", line 300, in null_wrapper\n",
            "    return fn(*args, **kwargs)\n",
            "  File \"/usr/local/lib/python3.7/dist-packages/zmq/eventloop/zmqstream.py\", line 452, in _handle_events\n",
            "    self._handle_recv()\n",
            "  File \"/usr/local/lib/python3.7/dist-packages/zmq/eventloop/zmqstream.py\", line 481, in _handle_recv\n",
            "    self._run_callback(callback, msg)\n",
            "  File \"/usr/local/lib/python3.7/dist-packages/zmq/eventloop/zmqstream.py\", line 431, in _run_callback\n",
            "    callback(*args, **kwargs)\n",
            "  File \"/usr/local/lib/python3.7/dist-packages/tornado/stack_context.py\", line 300, in null_wrapper\n",
            "    return fn(*args, **kwargs)\n",
            "  File \"/usr/local/lib/python3.7/dist-packages/ipykernel/kernelbase.py\", line 283, in dispatcher\n",
            "    return self.dispatch_shell(stream, msg)\n",
            "  File \"/usr/local/lib/python3.7/dist-packages/ipykernel/kernelbase.py\", line 233, in dispatch_shell\n",
            "    handler(stream, idents, msg)\n",
            "  File \"/usr/local/lib/python3.7/dist-packages/ipykernel/kernelbase.py\", line 399, in execute_request\n",
            "    user_expressions, allow_stdin)\n",
            "  File \"/usr/local/lib/python3.7/dist-packages/ipykernel/ipkernel.py\", line 208, in do_execute\n",
            "    res = shell.run_cell(code, store_history=store_history, silent=silent)\n",
            "  File \"/usr/local/lib/python3.7/dist-packages/ipykernel/zmqshell.py\", line 537, in run_cell\n",
            "    return super(ZMQInteractiveShell, self).run_cell(*args, **kwargs)\n",
            "  File \"/usr/local/lib/python3.7/dist-packages/IPython/core/interactiveshell.py\", line 2718, in run_cell\n",
            "    interactivity=interactivity, compiler=compiler, result=result)\n",
            "  File \"/usr/local/lib/python3.7/dist-packages/IPython/core/interactiveshell.py\", line 2822, in run_ast_nodes\n",
            "    if self.run_code(code, result):\n",
            "  File \"/usr/local/lib/python3.7/dist-packages/IPython/core/interactiveshell.py\", line 2882, in run_code\n",
            "    exec(code_obj, self.user_global_ns, self.user_ns)\n",
            "  File \"<ipython-input-30-710bbcbe35c6>\", line 1, in <module>\n",
            "    t,y= next(flow)\n",
            "  File \"<ipython-input-28-c6a8b3037ebc>\", line 10, in flow_from_dataframe\n",
            "    drop_duplicates=False)\n",
            "  File \"/usr/local/lib/python3.7/dist-packages/keras/preprocessing/image.py\", line 1109, in flow_from_dataframe\n",
            "    '`class_mode` \"raw\".', DeprecationWarning)\n",
            "  File \"/usr/local/lib/python3.7/dist-packages/tensorflow/python/platform/tf_logging.py\", line 178, in warning\n",
            "    get_logger().warning(msg, *args, **kwargs)\n",
            "Message: '`class_mode` \"other\" is deprecated, please use `class_mode` \"raw\".'\n",
            "Arguments: (<class 'DeprecationWarning'>,)\n",
            "--- Logging error ---\n",
            "Traceback (most recent call last):\n",
            "  File \"/usr/lib/python3.7/logging/__init__.py\", line 1025, in emit\n",
            "    msg = self.format(record)\n",
            "  File \"/usr/lib/python3.7/logging/__init__.py\", line 869, in format\n",
            "    return fmt.format(record)\n",
            "  File \"/usr/lib/python3.7/logging/__init__.py\", line 608, in format\n",
            "    record.message = record.getMessage()\n",
            "  File \"/usr/lib/python3.7/logging/__init__.py\", line 369, in getMessage\n",
            "    msg = msg % self.args\n",
            "TypeError: not all arguments converted during string formatting\n",
            "Call stack:\n",
            "  File \"/usr/lib/python3.7/runpy.py\", line 193, in _run_module_as_main\n",
            "    \"__main__\", mod_spec)\n",
            "  File \"/usr/lib/python3.7/runpy.py\", line 85, in _run_code\n",
            "    exec(code, run_globals)\n",
            "  File \"/usr/local/lib/python3.7/dist-packages/ipykernel_launcher.py\", line 16, in <module>\n",
            "    app.launch_new_instance()\n",
            "  File \"/usr/local/lib/python3.7/dist-packages/traitlets/config/application.py\", line 846, in launch_instance\n",
            "    app.start()\n",
            "  File \"/usr/local/lib/python3.7/dist-packages/ipykernel/kernelapp.py\", line 499, in start\n",
            "    self.io_loop.start()\n",
            "  File \"/usr/local/lib/python3.7/dist-packages/tornado/platform/asyncio.py\", line 132, in start\n",
            "    self.asyncio_loop.run_forever()\n",
            "  File \"/usr/lib/python3.7/asyncio/base_events.py\", line 541, in run_forever\n",
            "    self._run_once()\n",
            "  File \"/usr/lib/python3.7/asyncio/base_events.py\", line 1786, in _run_once\n",
            "    handle._run()\n",
            "  File \"/usr/lib/python3.7/asyncio/events.py\", line 88, in _run\n",
            "    self._context.run(self._callback, *self._args)\n",
            "  File \"/usr/local/lib/python3.7/dist-packages/tornado/platform/asyncio.py\", line 122, in _handle_events\n",
            "    handler_func(fileobj, events)\n",
            "  File \"/usr/local/lib/python3.7/dist-packages/tornado/stack_context.py\", line 300, in null_wrapper\n",
            "    return fn(*args, **kwargs)\n",
            "  File \"/usr/local/lib/python3.7/dist-packages/zmq/eventloop/zmqstream.py\", line 452, in _handle_events\n",
            "    self._handle_recv()\n",
            "  File \"/usr/local/lib/python3.7/dist-packages/zmq/eventloop/zmqstream.py\", line 481, in _handle_recv\n",
            "    self._run_callback(callback, msg)\n",
            "  File \"/usr/local/lib/python3.7/dist-packages/zmq/eventloop/zmqstream.py\", line 431, in _run_callback\n",
            "    callback(*args, **kwargs)\n",
            "  File \"/usr/local/lib/python3.7/dist-packages/tornado/stack_context.py\", line 300, in null_wrapper\n",
            "    return fn(*args, **kwargs)\n",
            "  File \"/usr/local/lib/python3.7/dist-packages/ipykernel/kernelbase.py\", line 283, in dispatcher\n",
            "    return self.dispatch_shell(stream, msg)\n",
            "  File \"/usr/local/lib/python3.7/dist-packages/ipykernel/kernelbase.py\", line 233, in dispatch_shell\n",
            "    handler(stream, idents, msg)\n",
            "  File \"/usr/local/lib/python3.7/dist-packages/ipykernel/kernelbase.py\", line 399, in execute_request\n",
            "    user_expressions, allow_stdin)\n",
            "  File \"/usr/local/lib/python3.7/dist-packages/ipykernel/ipkernel.py\", line 208, in do_execute\n",
            "    res = shell.run_cell(code, store_history=store_history, silent=silent)\n",
            "  File \"/usr/local/lib/python3.7/dist-packages/ipykernel/zmqshell.py\", line 537, in run_cell\n",
            "    return super(ZMQInteractiveShell, self).run_cell(*args, **kwargs)\n",
            "  File \"/usr/local/lib/python3.7/dist-packages/IPython/core/interactiveshell.py\", line 2718, in run_cell\n",
            "    interactivity=interactivity, compiler=compiler, result=result)\n",
            "  File \"/usr/local/lib/python3.7/dist-packages/IPython/core/interactiveshell.py\", line 2822, in run_ast_nodes\n",
            "    if self.run_code(code, result):\n",
            "  File \"/usr/local/lib/python3.7/dist-packages/IPython/core/interactiveshell.py\", line 2882, in run_code\n",
            "    exec(code_obj, self.user_global_ns, self.user_ns)\n",
            "  File \"<ipython-input-30-710bbcbe35c6>\", line 1, in <module>\n",
            "    t,y= next(flow)\n",
            "  File \"<ipython-input-28-c6a8b3037ebc>\", line 10, in flow_from_dataframe\n",
            "    drop_duplicates=False)\n",
            "  File \"/usr/local/lib/python3.7/dist-packages/keras/preprocessing/image.py\", line 1115, in flow_from_dataframe\n",
            "    DeprecationWarning)\n",
            "  File \"/usr/local/lib/python3.7/dist-packages/tensorflow/python/platform/tf_logging.py\", line 178, in warning\n",
            "    get_logger().warning(msg, *args, **kwargs)\n",
            "Message: 'drop_duplicates is deprecated, you can drop duplicates by using the pandas.DataFrame.drop_duplicates method.'\n",
            "Arguments: (<class 'DeprecationWarning'>,)\n"
          ]
        },
        {
          "output_type": "stream",
          "name": "stdout",
          "text": [
            "Found 10153 validated image filenames.\n"
          ]
        }
      ],
      "source": [
        "t,y= next(flow)"
      ]
    },
    {
      "cell_type": "code",
      "execution_count": null,
      "metadata": {
        "id": "CEZdTZJp2gbD"
      },
      "outputs": [],
      "source": [
        "from sklearn.model_selection import train_test_split\n",
        "X_train, X_test, y_train, y_test = train_test_split(t,y, \n",
        "                                   test_size = 0.30, \n",
        "                                   random_state = 2018)\n"
      ]
    },
    {
      "cell_type": "code",
      "execution_count": null,
      "metadata": {
        "colab": {
          "base_uri": "https://localhost:8080/"
        },
        "id": "vt8Zoes32gbD",
        "outputId": "3382410e-878f-4921-d901-88bca6fc879e"
      },
      "outputs": [
        {
          "output_type": "stream",
          "name": "stdout",
          "text": [
            "Model: \"sequential_1\"\n",
            "_________________________________________________________________\n",
            " Layer (type)                Output Shape              Param #   \n",
            "=================================================================\n",
            " mobilenet_1.00_128 (Functio  (None, 4, 4, 1024)       3228288   \n",
            " nal)                                                            \n",
            "                                                                 \n",
            " global_average_pooling2d_1   (None, 1024)             0         \n",
            " (GlobalAveragePooling2D)                                        \n",
            "                                                                 \n",
            " dropout_2 (Dropout)         (None, 1024)              0         \n",
            "                                                                 \n",
            " dense_2 (Dense)             (None, 512)               524800    \n",
            "                                                                 \n",
            " dropout_3 (Dropout)         (None, 512)               0         \n",
            "                                                                 \n",
            " dense_3 (Dense)             (None, 1)                 513       \n",
            "                                                                 \n",
            "=================================================================\n",
            "Total params: 3,753,601\n",
            "Trainable params: 3,731,713\n",
            "Non-trainable params: 21,888\n",
            "_________________________________________________________________\n"
          ]
        }
      ],
      "source": [
        "from keras.applications.mobilenet import MobileNet\n",
        "from keras.layers import GlobalAveragePooling2D, Dense, Dropout, Flatten\n",
        "from keras.models import Sequential\n",
        "mobilenet_model = MobileNet(input_shape =  X_train.shape[1:], \n",
        "                                 include_top = False, weights = None)\n",
        "mobilenet_GAP_model = Sequential()\n",
        "mobilenet_GAP_model.add(mobilenet_model)\n",
        "mobilenet_GAP_model.add(GlobalAveragePooling2D())\n",
        "mobilenet_GAP_model.add(Dropout(0.5))\n",
        "mobilenet_GAP_model.add(Dense(512))\n",
        "mobilenet_GAP_model.add(Dropout(0.5))\n",
        "mobilenet_GAP_model.add(Dense(1, activation = 'sigmoid'))\n",
        "mobilenet_GAP_model.compile(optimizer = 'adam', loss = 'binary_crossentropy',\n",
        "                           metrics = ['binary_accuracy', 'mae'])\n",
        "mobilenet_GAP_model.summary()"
      ]
    },
    {
      "cell_type": "code",
      "execution_count": null,
      "metadata": {
        "id": "lhnwjcTO2gbD"
      },
      "outputs": [],
      "source": [
        "from keras.callbacks import ModelCheckpoint, LearningRateScheduler, EarlyStopping, ReduceLROnPlateau\n",
        "weight_path=\"{}_weights.best.hdf5\".format('xray_class')\n",
        "\n",
        "checkpoint = ModelCheckpoint(weight_path, monitor='val_loss', verbose=1, \n",
        "                             save_best_only=True, mode='min', save_weights_only = True)\n",
        "\n",
        "early = EarlyStopping(monitor=\"val_loss\", \n",
        "                      mode=\"min\", \n",
        "                      patience=3)\n",
        "callbacks_list = [checkpoint, early]"
      ]
    },
    {
      "cell_type": "code",
      "execution_count": null,
      "metadata": {
        "colab": {
          "base_uri": "https://localhost:8080/"
        },
        "id": "79-gYNWx2gbD",
        "outputId": "94b41e5c-04e6-4eea-f1aa-7beb303b6e88"
      },
      "outputs": [
        {
          "output_type": "stream",
          "name": "stdout",
          "text": [
            "Epoch 1/10\n",
            "10/10 [==============================] - ETA: 0s - loss: 1.7333 - binary_accuracy: 0.5766 - mae: 0.4210 \n",
            "Epoch 00001: val_loss improved from inf to 0.68730, saving model to xray_class_weights.best.hdf5\n",
            "10/10 [==============================] - 363s 36s/step - loss: 1.7333 - binary_accuracy: 0.5766 - mae: 0.4210 - val_loss: 0.6873 - val_binary_accuracy: 0.6598 - val_mae: 0.4970\n",
            "Epoch 2/10\n",
            "10/10 [==============================] - ETA: 0s - loss: 0.9121 - binary_accuracy: 0.5632 - mae: 0.4543 \n",
            "Epoch 00002: val_loss did not improve from 0.68730\n",
            "10/10 [==============================] - 359s 36s/step - loss: 0.9121 - binary_accuracy: 0.5632 - mae: 0.4543 - val_loss: 0.6916 - val_binary_accuracy: 0.6598 - val_mae: 0.4992\n",
            "Epoch 3/10\n",
            "10/10 [==============================] - ETA: 0s - loss: 0.7786 - binary_accuracy: 0.6012 - mae: 0.4418 \n",
            "Epoch 00003: val_loss improved from 0.68730 to 0.68046, saving model to xray_class_weights.best.hdf5\n",
            "10/10 [==============================] - 354s 36s/step - loss: 0.7786 - binary_accuracy: 0.6012 - mae: 0.4418 - val_loss: 0.6805 - val_binary_accuracy: 0.6598 - val_mae: 0.4932\n",
            "Epoch 4/10\n",
            "10/10 [==============================] - ETA: 0s - loss: 0.7137 - binary_accuracy: 0.6308 - mae: 0.4352 \n",
            "Epoch 00004: val_loss improved from 0.68046 to 0.66047, saving model to xray_class_weights.best.hdf5\n",
            "10/10 [==============================] - 361s 36s/step - loss: 0.7137 - binary_accuracy: 0.6308 - mae: 0.4352 - val_loss: 0.6605 - val_binary_accuracy: 0.6598 - val_mae: 0.4797\n",
            "Epoch 5/10\n",
            "10/10 [==============================] - ETA: 0s - loss: 0.7106 - binary_accuracy: 0.6412 - mae: 0.4374 \n",
            "Epoch 00005: val_loss improved from 0.66047 to 0.65480, saving model to xray_class_weights.best.hdf5\n",
            "10/10 [==============================] - 358s 36s/step - loss: 0.7106 - binary_accuracy: 0.6412 - mae: 0.4374 - val_loss: 0.6548 - val_binary_accuracy: 0.6598 - val_mae: 0.4747\n",
            "Epoch 6/10\n",
            "10/10 [==============================] - ETA: 0s - loss: 0.6871 - binary_accuracy: 0.6364 - mae: 0.4393 \n",
            "Epoch 00006: val_loss improved from 0.65480 to 0.64653, saving model to xray_class_weights.best.hdf5\n",
            "10/10 [==============================] - 360s 36s/step - loss: 0.6871 - binary_accuracy: 0.6364 - mae: 0.4393 - val_loss: 0.6465 - val_binary_accuracy: 0.6598 - val_mae: 0.4649\n",
            "Epoch 7/10\n",
            "10/10 [==============================] - ETA: 0s - loss: 0.6868 - binary_accuracy: 0.6412 - mae: 0.4325 \n",
            "Epoch 00007: val_loss did not improve from 0.64653\n",
            "10/10 [==============================] - 387s 39s/step - loss: 0.6868 - binary_accuracy: 0.6412 - mae: 0.4325 - val_loss: 0.6519 - val_binary_accuracy: 0.6598 - val_mae: 0.4717\n",
            "Epoch 8/10\n",
            "10/10 [==============================] - ETA: 0s - loss: 0.6702 - binary_accuracy: 0.6436 - mae: 0.4325 \n",
            "Epoch 00008: val_loss improved from 0.64653 to 0.64475, saving model to xray_class_weights.best.hdf5\n",
            "10/10 [==============================] - 382s 38s/step - loss: 0.6702 - binary_accuracy: 0.6436 - mae: 0.4325 - val_loss: 0.6447 - val_binary_accuracy: 0.6598 - val_mae: 0.4620\n",
            "Epoch 9/10\n",
            "10/10 [==============================] - ETA: 0s - loss: 0.6563 - binary_accuracy: 0.6513 - mae: 0.4195 \n",
            "Epoch 00009: val_loss improved from 0.64475 to 0.64115, saving model to xray_class_weights.best.hdf5\n",
            "10/10 [==============================] - 393s 40s/step - loss: 0.6563 - binary_accuracy: 0.6513 - mae: 0.4195 - val_loss: 0.6411 - val_binary_accuracy: 0.6598 - val_mae: 0.4489\n",
            "Epoch 10/10\n",
            "10/10 [==============================] - ETA: 0s - loss: 0.5880 - binary_accuracy: 0.7033 - mae: 0.3757 \n",
            "Epoch 00010: val_loss did not improve from 0.64115\n",
            "10/10 [==============================] - 392s 40s/step - loss: 0.5880 - binary_accuracy: 0.7033 - mae: 0.3757 - val_loss: 0.6411 - val_binary_accuracy: 0.6598 - val_mae: 0.4486\n"
          ]
        }
      ],
      "source": [
        "history_mobilenet_GAP = mobilenet_GAP_model.fit(X_train,y_train,\n",
        "                                  steps_per_epoch=10,\n",
        "                                  validation_data = (X_test, y_test), \n",
        "                                  epochs = 10, \n",
        "                                  callbacks = callbacks_list)"
      ]
    },
    {
      "cell_type": "code",
      "execution_count": null,
      "metadata": {
        "colab": {
          "base_uri": "https://localhost:8080/"
        },
        "id": "3JVazRCA2gbE",
        "outputId": "3e2ee8e4-0d8d-421c-f8e8-c33ba2081d76"
      },
      "outputs": [
        {
          "output_type": "stream",
          "name": "stdout",
          "text": [
            "68/68 [==============================] - 26s 373ms/step\n"
          ]
        }
      ],
      "source": [
        "pred_Y = mobilenet_GAP_model.predict(X_test, \n",
        "                          batch_size = 32, \n",
        "                          verbose = True)"
      ]
    },
    {
      "cell_type": "code",
      "execution_count": null,
      "metadata": {
        "colab": {
          "base_uri": "https://localhost:8080/"
        },
        "id": "KVkrmQob2gbE",
        "outputId": "021d53fc-334f-4c03-a965-239e71ec69bd"
      },
      "outputs": [
        {
          "output_type": "execute_result",
          "data": {
            "text/plain": [
              "array([[0.33905536],\n",
              "       [0.33905536],\n",
              "       [0.33905536],\n",
              "       ...,\n",
              "       [0.3390553 ],\n",
              "       [0.33905536],\n",
              "       [0.3390553 ]], dtype=float32)"
            ]
          },
          "metadata": {},
          "execution_count": 36
        }
      ],
      "source": [
        "pred_Y"
      ]
    },
    {
      "cell_type": "code",
      "execution_count": null,
      "metadata": {
        "colab": {
          "base_uri": "https://localhost:8080/"
        },
        "id": "zyZpoDFH2gbF",
        "outputId": "90d3aa4c-b43f-41e1-cd6c-5b443dfc5fac"
      },
      "outputs": [
        {
          "output_type": "execute_result",
          "data": {
            "text/plain": [
              "array([0.3390553], dtype=float32)"
            ]
          },
          "metadata": {},
          "execution_count": 40
        }
      ],
      "source": [
        "min(pred_Y)"
      ]
    },
    {
      "cell_type": "code",
      "execution_count": null,
      "metadata": {
        "colab": {
          "base_uri": "https://localhost:8080/"
        },
        "id": "2FfBijDk2gbF",
        "outputId": "563a3554-d1a7-4ceb-9f9d-6e0bb0b2da6f"
      },
      "outputs": [
        {
          "output_type": "stream",
          "name": "stdout",
          "text": [
            "test accuracy =  0.659832239151001\n"
          ]
        }
      ],
      "source": [
        "print('test accuracy = ',mobilenet_GAP_model.evaluate(X_test,y_test, verbose=0)[1])"
      ]
    },
    {
      "cell_type": "code",
      "execution_count": null,
      "metadata": {
        "colab": {
          "base_uri": "https://localhost:8080/"
        },
        "id": "wUQdGrCy2gbG",
        "outputId": "15c8dcbe-4734-4cb5-e61b-dac8afbb5c10"
      },
      "outputs": [
        {
          "output_type": "stream",
          "name": "stdout",
          "text": [
            "roc score =  0.49791521554059287\n"
          ]
        }
      ],
      "source": [
        "from sklearn.metrics import roc_auc_score\n",
        "print('roc score = ',roc_auc_score(y_test.astype(int), pred_Y))"
      ]
    },
    {
      "cell_type": "code",
      "execution_count": null,
      "metadata": {
        "colab": {
          "base_uri": "https://localhost:8080/",
          "height": 430
        },
        "id": "Oontjsmv2gbG",
        "outputId": "f255583b-4c40-4499-9334-d14f4e3d7deb"
      },
      "outputs": [
        {
          "output_type": "stream",
          "name": "stdout",
          "text": [
            "                       precision    recall  f1-score   support\n",
            "\n",
            "No Pleural_Thickening       0.60      0.02      0.04      1416\n",
            "   Pleural_Thickening       0.34      0.98      0.50       730\n",
            "\n",
            "             accuracy                           0.34      2146\n",
            "            macro avg       0.47      0.50      0.27      2146\n",
            "         weighted avg       0.51      0.34      0.20      2146\n",
            "\n"
          ]
        },
        {
          "output_type": "display_data",
          "data": {
            "image/png": "[encoded data removed]",
            "text/plain": [
              "<Figure size 288x288 with 1 Axes>"
            ]
          },
          "metadata": {}
        }
      ],
      "source": [
        "from sklearn.metrics import classification_report, confusion_matrix\n",
        "plt.matshow(confusion_matrix(y_test, pred_Y>0.3390553))\n",
        "print(classification_report(y_test, pred_Y>0.3390553, target_names = ['No Pleural_Thickening', 'Pleural_Thickening']))"
      ]
    },
    {
      "cell_type": "markdown",
      "metadata": {
        "id": "QKPCeBEC2hJr"
      },
      "source": [
        "## **Pneumonia**"
      ]
    },
    {
      "cell_type": "code",
      "execution_count": null,
      "metadata": {
        "colab": {
          "base_uri": "https://localhost:8080/",
          "height": 266
        },
        "id": "9LCzfnws2hka",
        "outputId": "060f25f0-5100-4e2b-befd-15ce783e1205"
      },
      "outputs": [
        {
          "output_type": "stream",
          "name": "stdout",
          "text": [
            "False    2860\n",
            "True     1431\n",
            "Name: Pneumonia, dtype: int64\n"
          ]
        },
        {
          "output_type": "execute_result",
          "data": {
            "text/plain": [
              "<seaborn.axisgrid.PairGrid at 0x7fec2e0aed90>"
            ]
          },
          "metadata": {},
          "execution_count": 42
        },
        {
          "output_type": "display_data",
          "data": {
            "image/png": "[encoded data removed]",
            "text/plain": [
              "<Figure size 243.75x180 with 2 Axes>"
            ]
          },
          "metadata": {}
        }
      ],
      "source": [
        "positive_cases = np.sum(all_xray_df['Pneumonia']==True)//2\n",
        "oversample_factor = 4 # maximum number of cases in negative group so it isn't super rare\n",
        "more_balanced_df = all_xray_df.groupby(['Pneumonia']).apply(lambda x: x.sample(min(oversample_factor*positive_cases, x.shape[0]), \n",
        "                                                                                   replace = False)\n",
        "                                                      ).reset_index(drop = True)\n",
        "\n",
        "print(more_balanced_df['Pneumonia'].value_counts())\n",
        "sns.pairplot(more_balanced_df[['Patient Age', 'Pneumonia']], hue='Pneumonia')"
      ]
    },
    {
      "cell_type": "code",
      "execution_count": null,
      "metadata": {
        "colab": {
          "base_uri": "https://localhost:8080/",
          "height": 301
        },
        "id": "EiZKzPUH2hkb",
        "outputId": "01ab1442-3cb4-4fb6-b4c1-ebe33c26f69a"
      },
      "outputs": [
        {
          "output_type": "stream",
          "name": "stdout",
          "text": [
            "train 3003 validation 772 test 516\n",
            "train False    2002\n",
            "True     1001\n",
            "Name: Pneumonia, dtype: int64\n",
            "test False    344\n",
            "True     172\n",
            "Name: Pneumonia, dtype: int64\n"
          ]
        },
        {
          "output_type": "execute_result",
          "data": {
            "text/html": [
              "\n",
              "  <div id=\"df-4912f63a-f062-4334-9f62-c5bfaf6809f4\">\n",
              "    <div class=\"colab-df-container\">\n",
              "      <div>\n",
              "<style scoped>\n",
              "    .dataframe tbody tr th:only-of-type {\n",
              "        vertical-align: middle;\n",
              "    }\n",
              "\n",
              "    .dataframe tbody tr th {\n",
              "        vertical-align: top;\n",
              "    }\n",
              "\n",
              "    .dataframe thead th {\n",
              "        text-align: right;\n",
              "    }\n",
              "</style>\n",
              "<table border=\"1\" class=\"dataframe\">\n",
              "  <thead>\n",
              "    <tr style=\"text-align: right;\">\n",
              "      <th></th>\n",
              "      <th>Image Index</th>\n",
              "      <th>Finding Labels</th>\n",
              "      <th>Follow-up #</th>\n",
              "      <th>Patient ID</th>\n",
              "      <th>Patient Age</th>\n",
              "      <th>Patient Gender</th>\n",
              "      <th>View Position</th>\n",
              "      <th>OriginalImage[Width</th>\n",
              "      <th>Height]</th>\n",
              "      <th>OriginalImagePixelSpacing[x</th>\n",
              "      <th>y]</th>\n",
              "      <th>path</th>\n",
              "      <th>Pneumonia</th>\n",
              "      <th>Patient Male</th>\n",
              "      <th>Cardiomegaly</th>\n",
              "      <th>Emphysema</th>\n",
              "      <th>Effusion</th>\n",
              "      <th>Hernia</th>\n",
              "      <th>Nodule</th>\n",
              "      <th>Pneumothorax</th>\n",
              "      <th>Atelectasis</th>\n",
              "      <th>Pleural_Thickening</th>\n",
              "      <th>Mass</th>\n",
              "      <th>Edema</th>\n",
              "      <th>Consolidation</th>\n",
              "      <th>Infiltration</th>\n",
              "      <th>Fibrosis</th>\n",
              "      <th>Nothing</th>\n",
              "    </tr>\n",
              "  </thead>\n",
              "  <tbody>\n",
              "    <tr>\n",
              "      <th>1977</th>\n",
              "      <td>00016743_011.png</td>\n",
              "      <td>No Finding</td>\n",
              "      <td>11</td>\n",
              "      <td>16743</td>\n",
              "      <td>57</td>\n",
              "      <td>F</td>\n",
              "      <td>PA</td>\n",
              "      <td>2992</td>\n",
              "      <td>2991</td>\n",
              "      <td>0.143</td>\n",
              "      <td>0.143</td>\n",
              "      <td>/content/drive/MyDrive/Images/image8/00016743_...</td>\n",
              "      <td>False</td>\n",
              "      <td>0.0</td>\n",
              "      <td>0</td>\n",
              "      <td>0</td>\n",
              "      <td>0</td>\n",
              "      <td>0</td>\n",
              "      <td>0</td>\n",
              "      <td>0</td>\n",
              "      <td>0</td>\n",
              "      <td>0</td>\n",
              "      <td>0</td>\n",
              "      <td>0</td>\n",
              "      <td>0</td>\n",
              "      <td>0</td>\n",
              "      <td>0</td>\n",
              "      <td>1</td>\n",
              "    </tr>\n",
              "  </tbody>\n",
              "</table>\n",
              "</div>\n",
              "      <button class=\"colab-df-convert\" onclick=\"convertToInteractive('df-4912f63a-f062-4334-9f62-c5bfaf6809f4')\"\n",
              "              title=\"Convert this dataframe to an interactive table.\"\n",
              "              style=\"display:none;\">\n",
              "        \n",
              "  <svg xmlns=\"http://www.w3.org/2000/svg\" height=\"24px\"viewBox=\"0 0 24 24\"\n",
              "       width=\"24px\">\n",
              "    <path d=\"M0 0h24v24H0V0z\" fill=\"none\"/>\n",
              "    <path d=\"M18.56 5.44l.94 2.06.94-2.06 2.06-.94-2.06-.94-.94-2.06-.94 2.06-2.06.94zm-11 1L8.5 8.5l.94-2.06 2.06-.94-2.06-.94L8.5 2.5l-.94 2.06-2.06.94zm10 10l.94 2.06.94-2.06 2.06-.94-2.06-.94-.94-2.06-.94 2.06-2.06.94z\"/><path d=\"M17.41 7.96l-1.37-1.37c-.4-.4-.92-.59-1.43-.59-.52 0-1.04.2-1.43.59L10.3 9.45l-7.72 7.72c-.78.78-.78 2.05 0 2.83L4 21.41c.39.39.9.59 1.41.59.51 0 1.02-.2 1.41-.59l7.78-7.78 2.81-2.81c.8-.78.8-2.07 0-2.86zM5.41 20L4 18.59l7.72-7.72 1.47 1.35L5.41 20z\"/>\n",
              "  </svg>\n",
              "      </button>\n",
              "      \n",
              "  <style>\n",
              "    .colab-df-container {\n",
              "      display:flex;\n",
              "      flex-wrap:wrap;\n",
              "      gap: 12px;\n",
              "    }\n",
              "\n",
              "    .colab-df-convert {\n",
              "      background-color: #E8F0FE;\n",
              "      border: none;\n",
              "      border-radius: 50%;\n",
              "      cursor: pointer;\n",
              "      display: none;\n",
              "      fill: #1967D2;\n",
              "      height: 32px;\n",
              "      padding: 0 0 0 0;\n",
              "      width: 32px;\n",
              "    }\n",
              "\n",
              "    .colab-df-convert:hover {\n",
              "      background-color: #E2EBFA;\n",
              "      box-shadow: 0px 1px 2px rgba(60, 64, 67, 0.3), 0px 1px 3px 1px rgba(60, 64, 67, 0.15);\n",
              "      fill: #174EA6;\n",
              "    }\n",
              "\n",
              "    [theme=dark] .colab-df-convert {\n",
              "      background-color: #3B4455;\n",
              "      fill: #D2E3FC;\n",
              "    }\n",
              "\n",
              "    [theme=dark] .colab-df-convert:hover {\n",
              "      background-color: #434B5C;\n",
              "      box-shadow: 0px 1px 3px 1px rgba(0, 0, 0, 0.15);\n",
              "      filter: drop-shadow(0px 1px 2px rgba(0, 0, 0, 0.3));\n",
              "      fill: #FFFFFF;\n",
              "    }\n",
              "  </style>\n",
              "\n",
              "      <script>\n",
              "        const buttonEl =\n",
              "          document.querySelector('#df-4912f63a-f062-4334-9f62-c5bfaf6809f4 button.colab-df-convert');\n",
              "        buttonEl.style.display =\n",
              "          google.colab.kernel.accessAllowed ? 'block' : 'none';\n",
              "\n",
              "        async function convertToInteractive(key) {\n",
              "          const element = document.querySelector('#df-4912f63a-f062-4334-9f62-c5bfaf6809f4');\n",
              "          const dataTable =\n",
              "            await google.colab.kernel.invokeFunction('convertToInteractive',\n",
              "                                                     [key], {});\n",
              "          if (!dataTable) return;\n",
              "\n",
              "          const docLinkHtml = 'Like what you see? Visit the ' +\n",
              "            '<a target=\"_blank\" href=https://colab.research.google.com/notebooks/data_table.ipynb>data table notebook</a>'\n",
              "            + ' to learn more about interactive tables.';\n",
              "          element.innerHTML = '';\n",
              "          dataTable['output_type'] = 'display_data';\n",
              "          await google.colab.output.renderOutput(dataTable, element);\n",
              "          const docLink = document.createElement('div');\n",
              "          docLink.innerHTML = docLinkHtml;\n",
              "          element.appendChild(docLink);\n",
              "        }\n",
              "      </script>\n",
              "    </div>\n",
              "  </div>\n",
              "  "
            ],
            "text/plain": [
              "           Image Index Finding Labels  ...  Fibrosis  Nothing\n",
              "1977  00016743_011.png     No Finding  ...         0        1\n",
              "\n",
              "[1 rows x 28 columns]"
            ]
          },
          "metadata": {},
          "execution_count": 43
        }
      ],
      "source": [
        "from sklearn.model_selection import train_test_split\n",
        "raw_train_df, test_valid_df = train_test_split(more_balanced_df, \n",
        "                                   test_size = 0.30, \n",
        "                                   random_state = 2018,\n",
        "                                   stratify = more_balanced_df[['Pneumonia']])\n",
        "valid_df, test_df = train_test_split(test_valid_df, \n",
        "                                   test_size = 0.40, \n",
        "                                   random_state = 2018,\n",
        "                                   stratify = test_valid_df[['Pneumonia']])\n",
        "print('train', raw_train_df.shape[0], 'validation', valid_df.shape[0], 'test', test_df.shape[0])\n",
        "print('train', raw_train_df['Pneumonia'].value_counts())\n",
        "print('test', test_df['Pneumonia'].value_counts())\n",
        "raw_train_df.sample(1)"
      ]
    },
    {
      "cell_type": "code",
      "execution_count": null,
      "metadata": {
        "colab": {
          "base_uri": "https://localhost:8080/"
        },
        "id": "HxJOWUtY2hkb",
        "outputId": "f6415f46-e360-46ef-c23c-83c46eb8aee3"
      },
      "outputs": [
        {
          "output_type": "stream",
          "name": "stdout",
          "text": [
            "New Data Size: 4000 Old Size: 3003\n"
          ]
        }
      ],
      "source": [
        "train_df = raw_train_df.groupby(['Pneumonia']).apply(lambda x: x.sample(2000, replace = True)\n",
        "                                                      ).reset_index(drop = True)\n",
        "print('New Data Size:', train_df.shape[0], 'Old Size:', raw_train_df.shape[0])"
      ]
    },
    {
      "cell_type": "code",
      "execution_count": null,
      "metadata": {
        "id": "nWq-91iq2hkc"
      },
      "outputs": [],
      "source": [
        "from keras.preprocessing.image import ImageDataGenerator\n",
        "idg = ImageDataGenerator(zoom_range=0.2,\n",
        "                           fill_mode='nearest',\n",
        "                           rotation_range=25,  \n",
        "                           width_shift_range=0.25,  \n",
        "                           height_shift_range=0.25,  \n",
        "                           vertical_flip=False, \n",
        "                           horizontal_flip=True,\n",
        "                           shear_range = 0.2,\n",
        "                           samplewise_center=False, \n",
        "                           samplewise_std_normalization=False)\n"
      ]
    },
    {
      "cell_type": "code",
      "execution_count": null,
      "metadata": {
        "id": "dLflwIky2hkc"
      },
      "outputs": [],
      "source": [
        "SEED= 10\n",
        "IMG_SIZE = (128, 128) \n",
        "####\n",
        "def flow_from_dataframe(imgDatGen, df, batch_size, seed, img_size):\n",
        "    #gc.collect()\n",
        "    gen_img = imgDatGen.flow_from_dataframe(dataframe=more_balanced_df,\n",
        "        x_col='path', y_col='Pneumonia',\n",
        "        batch_size=batch_size, seed=seed, shuffle=True, class_mode='other',\n",
        "        target_size=img_size, color_mode='grayscale',\n",
        "        drop_duplicates=False)\n",
        "\n",
        "    \n",
        "        \n",
        "    while True:\n",
        "        X1i = gen_img.next()\n",
        "        #X2i = gen_img.next()\n",
        "        #gc.collect()\n",
        "        yield [X1i[0], X1i[1]]"
      ]
    },
    {
      "cell_type": "code",
      "execution_count": null,
      "metadata": {
        "id": "80FvLUfa2hkc"
      },
      "outputs": [],
      "source": [
        "flow = flow_from_dataframe(idg, more_balanced_df, 7151, SEED, IMG_SIZE)"
      ]
    },
    {
      "cell_type": "code",
      "execution_count": null,
      "metadata": {
        "colab": {
          "base_uri": "https://localhost:8080/"
        },
        "id": "F5WdDfpX2hkc",
        "outputId": "2046d11a-3517-4735-9bb9-f318f0d4d5d9"
      },
      "outputs": [
        {
          "output_type": "stream",
          "name": "stderr",
          "text": [
            "--- Logging error ---\n",
            "Traceback (most recent call last):\n",
            "  File \"/usr/lib/python3.7/logging/__init__.py\", line 1025, in emit\n",
            "    msg = self.format(record)\n",
            "  File \"/usr/lib/python3.7/logging/__init__.py\", line 869, in format\n",
            "    return fmt.format(record)\n",
            "  File \"/usr/lib/python3.7/logging/__init__.py\", line 608, in format\n",
            "    record.message = record.getMessage()\n",
            "  File \"/usr/lib/python3.7/logging/__init__.py\", line 369, in getMessage\n",
            "    msg = msg % self.args\n",
            "TypeError: not all arguments converted during string formatting\n",
            "Call stack:\n",
            "  File \"/usr/lib/python3.7/runpy.py\", line 193, in _run_module_as_main\n",
            "    \"__main__\", mod_spec)\n",
            "  File \"/usr/lib/python3.7/runpy.py\", line 85, in _run_code\n",
            "    exec(code, run_globals)\n",
            "  File \"/usr/local/lib/python3.7/dist-packages/ipykernel_launcher.py\", line 16, in <module>\n",
            "    app.launch_new_instance()\n",
            "  File \"/usr/local/lib/python3.7/dist-packages/traitlets/config/application.py\", line 846, in launch_instance\n",
            "    app.start()\n",
            "  File \"/usr/local/lib/python3.7/dist-packages/ipykernel/kernelapp.py\", line 499, in start\n",
            "    self.io_loop.start()\n",
            "  File \"/usr/local/lib/python3.7/dist-packages/tornado/platform/asyncio.py\", line 132, in start\n",
            "    self.asyncio_loop.run_forever()\n",
            "  File \"/usr/lib/python3.7/asyncio/base_events.py\", line 541, in run_forever\n",
            "    self._run_once()\n",
            "  File \"/usr/lib/python3.7/asyncio/base_events.py\", line 1786, in _run_once\n",
            "    handle._run()\n",
            "  File \"/usr/lib/python3.7/asyncio/events.py\", line 88, in _run\n",
            "    self._context.run(self._callback, *self._args)\n",
            "  File \"/usr/local/lib/python3.7/dist-packages/tornado/platform/asyncio.py\", line 122, in _handle_events\n",
            "    handler_func(fileobj, events)\n",
            "  File \"/usr/local/lib/python3.7/dist-packages/tornado/stack_context.py\", line 300, in null_wrapper\n",
            "    return fn(*args, **kwargs)\n",
            "  File \"/usr/local/lib/python3.7/dist-packages/zmq/eventloop/zmqstream.py\", line 452, in _handle_events\n",
            "    self._handle_recv()\n",
            "  File \"/usr/local/lib/python3.7/dist-packages/zmq/eventloop/zmqstream.py\", line 481, in _handle_recv\n",
            "    self._run_callback(callback, msg)\n",
            "  File \"/usr/local/lib/python3.7/dist-packages/zmq/eventloop/zmqstream.py\", line 431, in _run_callback\n",
            "    callback(*args, **kwargs)\n",
            "  File \"/usr/local/lib/python3.7/dist-packages/tornado/stack_context.py\", line 300, in null_wrapper\n",
            "    return fn(*args, **kwargs)\n",
            "  File \"/usr/local/lib/python3.7/dist-packages/ipykernel/kernelbase.py\", line 283, in dispatcher\n",
            "    return self.dispatch_shell(stream, msg)\n",
            "  File \"/usr/local/lib/python3.7/dist-packages/ipykernel/kernelbase.py\", line 233, in dispatch_shell\n",
            "    handler(stream, idents, msg)\n",
            "  File \"/usr/local/lib/python3.7/dist-packages/ipykernel/kernelbase.py\", line 399, in execute_request\n",
            "    user_expressions, allow_stdin)\n",
            "  File \"/usr/local/lib/python3.7/dist-packages/ipykernel/ipkernel.py\", line 208, in do_execute\n",
            "    res = shell.run_cell(code, store_history=store_history, silent=silent)\n",
            "  File \"/usr/local/lib/python3.7/dist-packages/ipykernel/zmqshell.py\", line 537, in run_cell\n",
            "    return super(ZMQInteractiveShell, self).run_cell(*args, **kwargs)\n",
            "  File \"/usr/local/lib/python3.7/dist-packages/IPython/core/interactiveshell.py\", line 2718, in run_cell\n",
            "    interactivity=interactivity, compiler=compiler, result=result)\n",
            "  File \"/usr/local/lib/python3.7/dist-packages/IPython/core/interactiveshell.py\", line 2822, in run_ast_nodes\n",
            "    if self.run_code(code, result):\n",
            "  File \"/usr/local/lib/python3.7/dist-packages/IPython/core/interactiveshell.py\", line 2882, in run_code\n",
            "    exec(code_obj, self.user_global_ns, self.user_ns)\n",
            "  File \"<ipython-input-50-710bbcbe35c6>\", line 1, in <module>\n",
            "    t,y= next(flow)\n",
            "  File \"<ipython-input-46-37f0f38d0e42>\", line 10, in flow_from_dataframe\n",
            "    drop_duplicates=False)\n",
            "  File \"/usr/local/lib/python3.7/dist-packages/keras/preprocessing/image.py\", line 1109, in flow_from_dataframe\n",
            "    '`class_mode` \"raw\".', DeprecationWarning)\n",
            "  File \"/usr/local/lib/python3.7/dist-packages/tensorflow/python/platform/tf_logging.py\", line 178, in warning\n",
            "    get_logger().warning(msg, *args, **kwargs)\n",
            "Message: '`class_mode` \"other\" is deprecated, please use `class_mode` \"raw\".'\n",
            "Arguments: (<class 'DeprecationWarning'>,)\n",
            "--- Logging error ---\n",
            "Traceback (most recent call last):\n",
            "  File \"/usr/lib/python3.7/logging/__init__.py\", line 1025, in emit\n",
            "    msg = self.format(record)\n",
            "  File \"/usr/lib/python3.7/logging/__init__.py\", line 869, in format\n",
            "    return fmt.format(record)\n",
            "  File \"/usr/lib/python3.7/logging/__init__.py\", line 608, in format\n",
            "    record.message = record.getMessage()\n",
            "  File \"/usr/lib/python3.7/logging/__init__.py\", line 369, in getMessage\n",
            "    msg = msg % self.args\n",
            "TypeError: not all arguments converted during string formatting\n",
            "Call stack:\n",
            "  File \"/usr/lib/python3.7/runpy.py\", line 193, in _run_module_as_main\n",
            "    \"__main__\", mod_spec)\n",
            "  File \"/usr/lib/python3.7/runpy.py\", line 85, in _run_code\n",
            "    exec(code, run_globals)\n",
            "  File \"/usr/local/lib/python3.7/dist-packages/ipykernel_launcher.py\", line 16, in <module>\n",
            "    app.launch_new_instance()\n",
            "  File \"/usr/local/lib/python3.7/dist-packages/traitlets/config/application.py\", line 846, in launch_instance\n",
            "    app.start()\n",
            "  File \"/usr/local/lib/python3.7/dist-packages/ipykernel/kernelapp.py\", line 499, in start\n",
            "    self.io_loop.start()\n",
            "  File \"/usr/local/lib/python3.7/dist-packages/tornado/platform/asyncio.py\", line 132, in start\n",
            "    self.asyncio_loop.run_forever()\n",
            "  File \"/usr/lib/python3.7/asyncio/base_events.py\", line 541, in run_forever\n",
            "    self._run_once()\n",
            "  File \"/usr/lib/python3.7/asyncio/base_events.py\", line 1786, in _run_once\n",
            "    handle._run()\n",
            "  File \"/usr/lib/python3.7/asyncio/events.py\", line 88, in _run\n",
            "    self._context.run(self._callback, *self._args)\n",
            "  File \"/usr/local/lib/python3.7/dist-packages/tornado/platform/asyncio.py\", line 122, in _handle_events\n",
            "    handler_func(fileobj, events)\n",
            "  File \"/usr/local/lib/python3.7/dist-packages/tornado/stack_context.py\", line 300, in null_wrapper\n",
            "    return fn(*args, **kwargs)\n",
            "  File \"/usr/local/lib/python3.7/dist-packages/zmq/eventloop/zmqstream.py\", line 452, in _handle_events\n",
            "    self._handle_recv()\n",
            "  File \"/usr/local/lib/python3.7/dist-packages/zmq/eventloop/zmqstream.py\", line 481, in _handle_recv\n",
            "    self._run_callback(callback, msg)\n",
            "  File \"/usr/local/lib/python3.7/dist-packages/zmq/eventloop/zmqstream.py\", line 431, in _run_callback\n",
            "    callback(*args, **kwargs)\n",
            "  File \"/usr/local/lib/python3.7/dist-packages/tornado/stack_context.py\", line 300, in null_wrapper\n",
            "    return fn(*args, **kwargs)\n",
            "  File \"/usr/local/lib/python3.7/dist-packages/ipykernel/kernelbase.py\", line 283, in dispatcher\n",
            "    return self.dispatch_shell(stream, msg)\n",
            "  File \"/usr/local/lib/python3.7/dist-packages/ipykernel/kernelbase.py\", line 233, in dispatch_shell\n",
            "    handler(stream, idents, msg)\n",
            "  File \"/usr/local/lib/python3.7/dist-packages/ipykernel/kernelbase.py\", line 399, in execute_request\n",
            "    user_expressions, allow_stdin)\n",
            "  File \"/usr/local/lib/python3.7/dist-packages/ipykernel/ipkernel.py\", line 208, in do_execute\n",
            "    res = shell.run_cell(code, store_history=store_history, silent=silent)\n",
            "  File \"/usr/local/lib/python3.7/dist-packages/ipykernel/zmqshell.py\", line 537, in run_cell\n",
            "    return super(ZMQInteractiveShell, self).run_cell(*args, **kwargs)\n",
            "  File \"/usr/local/lib/python3.7/dist-packages/IPython/core/interactiveshell.py\", line 2718, in run_cell\n",
            "    interactivity=interactivity, compiler=compiler, result=result)\n",
            "  File \"/usr/local/lib/python3.7/dist-packages/IPython/core/interactiveshell.py\", line 2822, in run_ast_nodes\n",
            "    if self.run_code(code, result):\n",
            "  File \"/usr/local/lib/python3.7/dist-packages/IPython/core/interactiveshell.py\", line 2882, in run_code\n",
            "    exec(code_obj, self.user_global_ns, self.user_ns)\n",
            "  File \"<ipython-input-50-710bbcbe35c6>\", line 1, in <module>\n",
            "    t,y= next(flow)\n",
            "  File \"<ipython-input-46-37f0f38d0e42>\", line 10, in flow_from_dataframe\n",
            "    drop_duplicates=False)\n",
            "  File \"/usr/local/lib/python3.7/dist-packages/keras/preprocessing/image.py\", line 1115, in flow_from_dataframe\n",
            "    DeprecationWarning)\n",
            "  File \"/usr/local/lib/python3.7/dist-packages/tensorflow/python/platform/tf_logging.py\", line 178, in warning\n",
            "    get_logger().warning(msg, *args, **kwargs)\n",
            "Message: 'drop_duplicates is deprecated, you can drop duplicates by using the pandas.DataFrame.drop_duplicates method.'\n",
            "Arguments: (<class 'DeprecationWarning'>,)\n"
          ]
        },
        {
          "output_type": "stream",
          "name": "stdout",
          "text": [
            "Found 4291 validated image filenames.\n"
          ]
        }
      ],
      "source": [
        "t,y= next(flow)"
      ]
    },
    {
      "cell_type": "code",
      "execution_count": null,
      "metadata": {
        "id": "u7t4LkuZ2hkc"
      },
      "outputs": [],
      "source": [
        "from sklearn.model_selection import train_test_split\n",
        "X_train, X_test, y_train, y_test = train_test_split(t,y, \n",
        "                                   test_size = 0.30, \n",
        "                                   random_state = 2018)\n"
      ]
    },
    {
      "cell_type": "code",
      "execution_count": null,
      "metadata": {
        "colab": {
          "base_uri": "https://localhost:8080/"
        },
        "id": "3cO6braG2hkd",
        "outputId": "27679567-86b2-4eeb-94c1-283c40d9d5dd"
      },
      "outputs": [
        {
          "output_type": "stream",
          "name": "stdout",
          "text": [
            "Model: \"sequential_2\"\n",
            "_________________________________________________________________\n",
            " Layer (type)                Output Shape              Param #   \n",
            "=================================================================\n",
            " mobilenet_1.00_128 (Functio  (None, 4, 4, 1024)       3228288   \n",
            " nal)                                                            \n",
            "                                                                 \n",
            " global_average_pooling2d_2   (None, 1024)             0         \n",
            " (GlobalAveragePooling2D)                                        \n",
            "                                                                 \n",
            " dropout_4 (Dropout)         (None, 1024)              0         \n",
            "                                                                 \n",
            " dense_4 (Dense)             (None, 512)               524800    \n",
            "                                                                 \n",
            " dropout_5 (Dropout)         (None, 512)               0         \n",
            "                                                                 \n",
            " dense_5 (Dense)             (None, 1)                 513       \n",
            "                                                                 \n",
            "=================================================================\n",
            "Total params: 3,753,601\n",
            "Trainable params: 3,731,713\n",
            "Non-trainable params: 21,888\n",
            "_________________________________________________________________\n"
          ]
        }
      ],
      "source": [
        "from keras.applications.mobilenet import MobileNet\n",
        "from keras.layers import GlobalAveragePooling2D, Dense, Dropout, Flatten\n",
        "from keras.models import Sequential\n",
        "mobilenet_model = MobileNet(input_shape =  X_train.shape[1:], \n",
        "                                 include_top = False, weights = None)\n",
        "mobilenet_GAP_model = Sequential()\n",
        "mobilenet_GAP_model.add(mobilenet_model)\n",
        "mobilenet_GAP_model.add(GlobalAveragePooling2D())\n",
        "mobilenet_GAP_model.add(Dropout(0.5))\n",
        "mobilenet_GAP_model.add(Dense(512))\n",
        "mobilenet_GAP_model.add(Dropout(0.5))\n",
        "mobilenet_GAP_model.add(Dense(1, activation = 'sigmoid'))\n",
        "mobilenet_GAP_model.compile(optimizer = 'adam', loss = 'binary_crossentropy',\n",
        "                           metrics = ['binary_accuracy', 'mae'])\n",
        "mobilenet_GAP_model.summary()"
      ]
    },
    {
      "cell_type": "code",
      "execution_count": null,
      "metadata": {
        "id": "-0NsEh2i2hkd"
      },
      "outputs": [],
      "source": [
        "from keras.callbacks import ModelCheckpoint, LearningRateScheduler, EarlyStopping, ReduceLROnPlateau\n",
        "weight_path=\"{}_weights.best.hdf5\".format('xray_class')\n",
        "\n",
        "checkpoint = ModelCheckpoint(weight_path, monitor='val_loss', verbose=1, \n",
        "                             save_best_only=True, mode='min', save_weights_only = True)\n",
        "\n",
        "early = EarlyStopping(monitor=\"val_loss\", \n",
        "                      mode=\"min\", \n",
        "                      patience=3)\n",
        "callbacks_list = [checkpoint, early]"
      ]
    },
    {
      "cell_type": "code",
      "execution_count": null,
      "metadata": {
        "colab": {
          "base_uri": "https://localhost:8080/"
        },
        "id": "IyT4dQWG2hkd",
        "outputId": "9dcb227d-37ac-45e4-a795-b07bf140f88e"
      },
      "outputs": [
        {
          "output_type": "stream",
          "name": "stdout",
          "text": [
            "Epoch 1/10\n",
            "10/10 [==============================] - ETA: 0s - loss: 2.0271 - binary_accuracy: 0.5255 - mae: 0.4634 \n",
            "Epoch 00001: val_loss improved from inf to 0.67556, saving model to xray_class_weights.best.hdf5\n",
            "10/10 [==============================] - 240s 23s/step - loss: 2.0271 - binary_accuracy: 0.5255 - mae: 0.4634 - val_loss: 0.6756 - val_binary_accuracy: 0.6739 - val_mae: 0.4905\n",
            "Epoch 2/10\n",
            "10/10 [==============================] - ETA: 0s - loss: 1.0434 - binary_accuracy: 0.5638 - mae: 0.4413 \n",
            "Epoch 00002: val_loss improved from 0.67556 to 0.66224, saving model to xray_class_weights.best.hdf5\n",
            "10/10 [==============================] - 233s 24s/step - loss: 1.0434 - binary_accuracy: 0.5638 - mae: 0.4413 - val_loss: 0.6622 - val_binary_accuracy: 0.6739 - val_mae: 0.4819\n",
            "Epoch 3/10\n",
            "10/10 [==============================] - ETA: 0s - loss: 0.8377 - binary_accuracy: 0.5774 - mae: 0.4494 \n",
            "Epoch 00003: val_loss improved from 0.66224 to 0.65697, saving model to xray_class_weights.best.hdf5\n",
            "10/10 [==============================] - 229s 23s/step - loss: 0.8377 - binary_accuracy: 0.5774 - mae: 0.4494 - val_loss: 0.6570 - val_binary_accuracy: 0.6739 - val_mae: 0.4780\n",
            "Epoch 4/10\n",
            "10/10 [==============================] - ETA: 0s - loss: 0.7489 - binary_accuracy: 0.6304 - mae: 0.4237 \n",
            "Epoch 00004: val_loss did not improve from 0.65697\n",
            "10/10 [==============================] - 235s 24s/step - loss: 0.7489 - binary_accuracy: 0.6304 - mae: 0.4237 - val_loss: 0.6767 - val_binary_accuracy: 0.6739 - val_mae: 0.4911\n",
            "Epoch 5/10\n",
            "10/10 [==============================] - ETA: 0s - loss: 0.7163 - binary_accuracy: 0.6517 - mae: 0.4219 \n",
            "Epoch 00005: val_loss improved from 0.65697 to 0.65607, saving model to xray_class_weights.best.hdf5\n",
            "10/10 [==============================] - 238s 24s/step - loss: 0.7163 - binary_accuracy: 0.6517 - mae: 0.4219 - val_loss: 0.6561 - val_binary_accuracy: 0.6739 - val_mae: 0.4773\n",
            "Epoch 6/10\n",
            "10/10 [==============================] - ETA: 0s - loss: 0.6402 - binary_accuracy: 0.6817 - mae: 0.3992 \n",
            "Epoch 00006: val_loss improved from 0.65607 to 0.65117, saving model to xray_class_weights.best.hdf5\n",
            "10/10 [==============================] - 232s 23s/step - loss: 0.6402 - binary_accuracy: 0.6817 - mae: 0.3992 - val_loss: 0.6512 - val_binary_accuracy: 0.6739 - val_mae: 0.4732\n",
            "Epoch 7/10\n",
            "10/10 [==============================] - ETA: 0s - loss: 0.5286 - binary_accuracy: 0.7566 - mae: 0.3216 \n",
            "Epoch 00007: val_loss improved from 0.65117 to 0.63467, saving model to xray_class_weights.best.hdf5\n",
            "10/10 [==============================] - 231s 23s/step - loss: 0.5286 - binary_accuracy: 0.7566 - mae: 0.3216 - val_loss: 0.6347 - val_binary_accuracy: 0.6739 - val_mae: 0.4530\n",
            "Epoch 8/10\n",
            "10/10 [==============================] - ETA: 0s - loss: 0.4689 - binary_accuracy: 0.7892 - mae: 0.2705 \n",
            "Epoch 00008: val_loss improved from 0.63467 to 0.63424, saving model to xray_class_weights.best.hdf5\n",
            "10/10 [==============================] - 244s 24s/step - loss: 0.4689 - binary_accuracy: 0.7892 - mae: 0.2705 - val_loss: 0.6342 - val_binary_accuracy: 0.6739 - val_mae: 0.4521\n",
            "Epoch 9/10\n",
            "10/10 [==============================] - ETA: 0s - loss: 0.4514 - binary_accuracy: 0.8099 - mae: 0.2529 \n",
            "Epoch 00009: val_loss did not improve from 0.63424\n",
            "10/10 [==============================] - 235s 24s/step - loss: 0.4514 - binary_accuracy: 0.8099 - mae: 0.2529 - val_loss: 0.6502 - val_binary_accuracy: 0.6739 - val_mae: 0.4724\n",
            "Epoch 10/10\n",
            "10/10 [==============================] - ETA: 0s - loss: 0.4524 - binary_accuracy: 0.8085 - mae: 0.2364 \n",
            "Epoch 00010: val_loss improved from 0.63424 to 0.63167, saving model to xray_class_weights.best.hdf5\n",
            "10/10 [==============================] - 234s 24s/step - loss: 0.4524 - binary_accuracy: 0.8085 - mae: 0.2364 - val_loss: 0.6317 - val_binary_accuracy: 0.6739 - val_mae: 0.4356\n"
          ]
        }
      ],
      "source": [
        "history_mobilenet_GAP = mobilenet_GAP_model.fit(X_train,y_train,\n",
        "                                  steps_per_epoch=10,\n",
        "                                  validation_data = (X_test, y_test), \n",
        "                                  epochs = 10, \n",
        "                                  callbacks = callbacks_list)"
      ]
    },
    {
      "cell_type": "code",
      "execution_count": null,
      "metadata": {
        "colab": {
          "base_uri": "https://localhost:8080/"
        },
        "id": "Yp7I1YRo2hkd",
        "outputId": "66e597ac-295f-4b45-be35-3c6cbfc61ce1"
      },
      "outputs": [
        {
          "output_type": "stream",
          "name": "stdout",
          "text": [
            "41/41 [==============================] - 16s 363ms/step\n"
          ]
        }
      ],
      "source": [
        "pred_Y = mobilenet_GAP_model.predict(X_test, \n",
        "                          batch_size = 32, \n",
        "                          verbose = True)"
      ]
    },
    {
      "cell_type": "code",
      "execution_count": null,
      "metadata": {
        "colab": {
          "base_uri": "https://localhost:8080/"
        },
        "id": "UeukjI_J2hke",
        "outputId": "0b80f354-5b7a-49a8-bdad-8c08f1601b7e"
      },
      "outputs": [
        {
          "output_type": "execute_result",
          "data": {
            "text/plain": [
              "array([[0.31471843],\n",
              "       [0.31471843],\n",
              "       [0.31471843],\n",
              "       ...,\n",
              "       [0.31471843],\n",
              "       [0.31471837],\n",
              "       [0.31471837]], dtype=float32)"
            ]
          },
          "metadata": {},
          "execution_count": 56
        }
      ],
      "source": [
        "pred_Y"
      ]
    },
    {
      "cell_type": "code",
      "execution_count": null,
      "metadata": {
        "colab": {
          "base_uri": "https://localhost:8080/"
        },
        "id": "7z_NBYjH2hke",
        "outputId": "ffd9228e-057c-47f5-fcfd-40355756414c"
      },
      "outputs": [
        {
          "output_type": "execute_result",
          "data": {
            "text/plain": [
              "array([0.31471837], dtype=float32)"
            ]
          },
          "metadata": {},
          "execution_count": 57
        }
      ],
      "source": [
        "min(pred_Y)"
      ]
    },
    {
      "cell_type": "code",
      "execution_count": null,
      "metadata": {
        "colab": {
          "base_uri": "https://localhost:8080/"
        },
        "id": "u-L_yTMu2hke",
        "outputId": "97c2cffd-0931-4e84-fd62-e86b3f27b0b1"
      },
      "outputs": [
        {
          "output_type": "stream",
          "name": "stdout",
          "text": [
            "test accuracy =  0.6739130616188049\n"
          ]
        }
      ],
      "source": [
        "print('test accuracy = ',mobilenet_GAP_model.evaluate(X_test,y_test, verbose=0)[1])"
      ]
    },
    {
      "cell_type": "code",
      "execution_count": null,
      "metadata": {
        "colab": {
          "base_uri": "https://localhost:8080/"
        },
        "id": "PpMczJew2hke",
        "outputId": "53ce225c-4cbf-4ac2-b48a-b094deb14f10"
      },
      "outputs": [
        {
          "output_type": "stream",
          "name": "stdout",
          "text": [
            "roc score =  0.4977726574500768\n"
          ]
        }
      ],
      "source": [
        "from sklearn.metrics import roc_auc_score\n",
        "print('roc score = ',roc_auc_score(y_test.astype(int), pred_Y))"
      ]
    },
    {
      "cell_type": "code",
      "execution_count": null,
      "metadata": {
        "colab": {
          "base_uri": "https://localhost:8080/",
          "height": 430
        },
        "id": "HZ99EePk2hke",
        "outputId": "14f4ced0-a532-45be-a97c-ebbce5c3a33e"
      },
      "outputs": [
        {
          "output_type": "stream",
          "name": "stdout",
          "text": [
            "              precision    recall  f1-score   support\n",
            "\n",
            "No Pneumonia       0.66      0.06      0.11       868\n",
            "   Pneumonia       0.33      0.93      0.48       420\n",
            "\n",
            "    accuracy                           0.35      1288\n",
            "   macro avg       0.49      0.50      0.30      1288\n",
            "weighted avg       0.55      0.35      0.23      1288\n",
            "\n"
          ]
        },
        {
          "output_type": "display_data",
          "data": {
            "image/png": "[encoded data removed]",
            "text/plain": [
              "<Figure size 288x288 with 1 Axes>"
            ]
          },
          "metadata": {}
        }
      ],
      "source": [
        "from sklearn.metrics import classification_report, confusion_matrix\n",
        "plt.matshow(confusion_matrix(y_test, pred_Y>0.31471837))\n",
        "print(classification_report(y_test, pred_Y>0.31471837, target_names = ['No Pneumonia', 'Pneumonia']))"
      ]
    },
    {
      "cell_type": "markdown",
      "metadata": {
        "id": "5rtgMTuE3uOD"
      },
      "source": [
        "## **Pneumothorax**"
      ]
    },
    {
      "cell_type": "code",
      "execution_count": null,
      "metadata": {
        "colab": {
          "base_uri": "https://localhost:8080/",
          "height": 266
        },
        "id": "cstHsycT3u48",
        "outputId": "61c6ebc3-26fd-4411-ca7c-1e4687f091f2"
      },
      "outputs": [
        {
          "output_type": "stream",
          "name": "stdout",
          "text": [
            "0    10604\n",
            "1     5302\n",
            "Name: Pneumothorax, dtype: int64\n"
          ]
        },
        {
          "output_type": "execute_result",
          "data": {
            "text/plain": [
              "<seaborn.axisgrid.PairGrid at 0x7f8d94425c50>"
            ]
          },
          "metadata": {},
          "execution_count": 8
        },
        {
          "output_type": "display_data",
          "data": {
            "image/png": "[encoded data removed]",
            "text/plain": [
              "<Figure size 260.75x180 with 2 Axes>"
            ]
          },
          "metadata": {}
        }
      ],
      "source": [
        "positive_cases = np.sum(all_xray_df['Pneumothorax']==True)//2\n",
        "oversample_factor = 4 # maximum number of cases in negative group so it isn't super rare\n",
        "more_balanced_df = all_xray_df.groupby(['Pneumothorax']).apply(lambda x: x.sample(min(oversample_factor*positive_cases, x.shape[0]), \n",
        "                                                                                   replace = False)\n",
        "                                                      ).reset_index(drop = True)\n",
        "\n",
        "print(more_balanced_df['Pneumothorax'].value_counts())\n",
        "sns.pairplot(more_balanced_df[['Patient Age', 'Pneumothorax']], hue='Pneumothorax')"
      ]
    },
    {
      "cell_type": "code",
      "execution_count": null,
      "metadata": {
        "colab": {
          "base_uri": "https://localhost:8080/",
          "height": 284
        },
        "id": "DkLDBJwd3u4-",
        "outputId": "014adbf8-da3c-416b-a5fa-ac17aa08303e"
      },
      "outputs": [
        {
          "output_type": "stream",
          "name": "stdout",
          "text": [
            "train 11134 validation 2863 test 1909\n",
            "train 0    7423\n",
            "1    3711\n",
            "Name: Pneumothorax, dtype: int64\n",
            "test 0    1273\n",
            "1     636\n",
            "Name: Pneumothorax, dtype: int64\n"
          ]
        },
        {
          "output_type": "execute_result",
          "data": {
            "text/html": [
              "\n",
              "  <div id=\"df-f231d5a0-c4af-4876-9f34-cf02710e04e1\">\n",
              "    <div class=\"colab-df-container\">\n",
              "      <div>\n",
              "<style scoped>\n",
              "    .dataframe tbody tr th:only-of-type {\n",
              "        vertical-align: middle;\n",
              "    }\n",
              "\n",
              "    .dataframe tbody tr th {\n",
              "        vertical-align: top;\n",
              "    }\n",
              "\n",
              "    .dataframe thead th {\n",
              "        text-align: right;\n",
              "    }\n",
              "</style>\n",
              "<table border=\"1\" class=\"dataframe\">\n",
              "  <thead>\n",
              "    <tr style=\"text-align: right;\">\n",
              "      <th></th>\n",
              "      <th>Image Index</th>\n",
              "      <th>Finding Labels</th>\n",
              "      <th>Follow-up #</th>\n",
              "      <th>Patient ID</th>\n",
              "      <th>Patient Age</th>\n",
              "      <th>Patient Gender</th>\n",
              "      <th>View Position</th>\n",
              "      <th>OriginalImage[Width</th>\n",
              "      <th>Height]</th>\n",
              "      <th>OriginalImagePixelSpacing[x</th>\n",
              "      <th>y]</th>\n",
              "      <th>path</th>\n",
              "      <th>Pneumonia</th>\n",
              "      <th>Patient Male</th>\n",
              "      <th>Cardiomegaly</th>\n",
              "      <th>Emphysema</th>\n",
              "      <th>Effusion</th>\n",
              "      <th>Hernia</th>\n",
              "      <th>Nodule</th>\n",
              "      <th>Pneumothorax</th>\n",
              "      <th>Atelectasis</th>\n",
              "      <th>Pleural_Thickening</th>\n",
              "      <th>Mass</th>\n",
              "      <th>Edema</th>\n",
              "      <th>Consolidation</th>\n",
              "      <th>Infiltration</th>\n",
              "      <th>Fibrosis</th>\n",
              "      <th>Nothing</th>\n",
              "    </tr>\n",
              "  </thead>\n",
              "  <tbody>\n",
              "    <tr>\n",
              "      <th>12760</th>\n",
              "      <td>00005539_007.png</td>\n",
              "      <td>Pneumothorax</td>\n",
              "      <td>2</td>\n",
              "      <td>5539</td>\n",
              "      <td>48</td>\n",
              "      <td>F</td>\n",
              "      <td>PA</td>\n",
              "      <td>2838</td>\n",
              "      <td>2985</td>\n",
              "      <td>0.143</td>\n",
              "      <td>0.143</td>\n",
              "      <td>/content/drive/MyDrive/Images/image3/00005539_...</td>\n",
              "      <td>False</td>\n",
              "      <td>0.0</td>\n",
              "      <td>0</td>\n",
              "      <td>0</td>\n",
              "      <td>0</td>\n",
              "      <td>0</td>\n",
              "      <td>0</td>\n",
              "      <td>1</td>\n",
              "      <td>0</td>\n",
              "      <td>0</td>\n",
              "      <td>0</td>\n",
              "      <td>0</td>\n",
              "      <td>0</td>\n",
              "      <td>0</td>\n",
              "      <td>0</td>\n",
              "      <td>0</td>\n",
              "    </tr>\n",
              "  </tbody>\n",
              "</table>\n",
              "</div>\n",
              "      <button class=\"colab-df-convert\" onclick=\"convertToInteractive('df-f231d5a0-c4af-4876-9f34-cf02710e04e1')\"\n",
              "              title=\"Convert this dataframe to an interactive table.\"\n",
              "              style=\"display:none;\">\n",
              "        \n",
              "  <svg xmlns=\"http://www.w3.org/2000/svg\" height=\"24px\"viewBox=\"0 0 24 24\"\n",
              "       width=\"24px\">\n",
              "    <path d=\"M0 0h24v24H0V0z\" fill=\"none\"/>\n",
              "    <path d=\"M18.56 5.44l.94 2.06.94-2.06 2.06-.94-2.06-.94-.94-2.06-.94 2.06-2.06.94zm-11 1L8.5 8.5l.94-2.06 2.06-.94-2.06-.94L8.5 2.5l-.94 2.06-2.06.94zm10 10l.94 2.06.94-2.06 2.06-.94-2.06-.94-.94-2.06-.94 2.06-2.06.94z\"/><path d=\"M17.41 7.96l-1.37-1.37c-.4-.4-.92-.59-1.43-.59-.52 0-1.04.2-1.43.59L10.3 9.45l-7.72 7.72c-.78.78-.78 2.05 0 2.83L4 21.41c.39.39.9.59 1.41.59.51 0 1.02-.2 1.41-.59l7.78-7.78 2.81-2.81c.8-.78.8-2.07 0-2.86zM5.41 20L4 18.59l7.72-7.72 1.47 1.35L5.41 20z\"/>\n",
              "  </svg>\n",
              "      </button>\n",
              "      \n",
              "  <style>\n",
              "    .colab-df-container {\n",
              "      display:flex;\n",
              "      flex-wrap:wrap;\n",
              "      gap: 12px;\n",
              "    }\n",
              "\n",
              "    .colab-df-convert {\n",
              "      background-color: #E8F0FE;\n",
              "      border: none;\n",
              "      border-radius: 50%;\n",
              "      cursor: pointer;\n",
              "      display: none;\n",
              "      fill: #1967D2;\n",
              "      height: 32px;\n",
              "      padding: 0 0 0 0;\n",
              "      width: 32px;\n",
              "    }\n",
              "\n",
              "    .colab-df-convert:hover {\n",
              "      background-color: #E2EBFA;\n",
              "      box-shadow: 0px 1px 2px rgba(60, 64, 67, 0.3), 0px 1px 3px 1px rgba(60, 64, 67, 0.15);\n",
              "      fill: #174EA6;\n",
              "    }\n",
              "\n",
              "    [theme=dark] .colab-df-convert {\n",
              "      background-color: #3B4455;\n",
              "      fill: #D2E3FC;\n",
              "    }\n",
              "\n",
              "    [theme=dark] .colab-df-convert:hover {\n",
              "      background-color: #434B5C;\n",
              "      box-shadow: 0px 1px 3px 1px rgba(0, 0, 0, 0.15);\n",
              "      filter: drop-shadow(0px 1px 2px rgba(0, 0, 0, 0.3));\n",
              "      fill: #FFFFFF;\n",
              "    }\n",
              "  </style>\n",
              "\n",
              "      <script>\n",
              "        const buttonEl =\n",
              "          document.querySelector('#df-f231d5a0-c4af-4876-9f34-cf02710e04e1 button.colab-df-convert');\n",
              "        buttonEl.style.display =\n",
              "          google.colab.kernel.accessAllowed ? 'block' : 'none';\n",
              "\n",
              "        async function convertToInteractive(key) {\n",
              "          const element = document.querySelector('#df-f231d5a0-c4af-4876-9f34-cf02710e04e1');\n",
              "          const dataTable =\n",
              "            await google.colab.kernel.invokeFunction('convertToInteractive',\n",
              "                                                     [key], {});\n",
              "          if (!dataTable) return;\n",
              "\n",
              "          const docLinkHtml = 'Like what you see? Visit the ' +\n",
              "            '<a target=\"_blank\" href=https://colab.research.google.com/notebooks/data_table.ipynb>data table notebook</a>'\n",
              "            + ' to learn more about interactive tables.';\n",
              "          element.innerHTML = '';\n",
              "          dataTable['output_type'] = 'display_data';\n",
              "          await google.colab.output.renderOutput(dataTable, element);\n",
              "          const docLink = document.createElement('div');\n",
              "          docLink.innerHTML = docLinkHtml;\n",
              "          element.appendChild(docLink);\n",
              "        }\n",
              "      </script>\n",
              "    </div>\n",
              "  </div>\n",
              "  "
            ],
            "text/plain": [
              "            Image Index Finding Labels  ...  Fibrosis  Nothing\n",
              "12760  00005539_007.png   Pneumothorax  ...         0        0\n",
              "\n",
              "[1 rows x 28 columns]"
            ]
          },
          "metadata": {},
          "execution_count": 9
        }
      ],
      "source": [
        "from sklearn.model_selection import train_test_split\n",
        "raw_train_df, test_valid_df = train_test_split(more_balanced_df, \n",
        "                                   test_size = 0.30, \n",
        "                                   random_state = 2018,\n",
        "                                   stratify = more_balanced_df[['Pneumothorax']])\n",
        "valid_df, test_df = train_test_split(test_valid_df, \n",
        "                                   test_size = 0.40, \n",
        "                                   random_state = 2018,\n",
        "                                   stratify = test_valid_df[['Pneumothorax']])\n",
        "print('train', raw_train_df.shape[0], 'validation', valid_df.shape[0], 'test', test_df.shape[0])\n",
        "print('train', raw_train_df['Pneumothorax'].value_counts())\n",
        "print('test', test_df['Pneumothorax'].value_counts())\n",
        "raw_train_df.sample(1)"
      ]
    },
    {
      "cell_type": "code",
      "execution_count": null,
      "metadata": {
        "colab": {
          "base_uri": "https://localhost:8080/"
        },
        "id": "Tlg5SEXx3u4_",
        "outputId": "24d86935-31e2-4efc-ec2e-83bd00348e0e"
      },
      "outputs": [
        {
          "output_type": "stream",
          "name": "stdout",
          "text": [
            "New Data Size: 4000 Old Size: 11134\n"
          ]
        }
      ],
      "source": [
        "train_df = raw_train_df.groupby(['Pneumothorax']).apply(lambda x: x.sample(2000, replace = True)\n",
        "                                                      ).reset_index(drop = True)\n",
        "print('New Data Size:', train_df.shape[0], 'Old Size:', raw_train_df.shape[0])"
      ]
    },
    {
      "cell_type": "code",
      "execution_count": null,
      "metadata": {
        "id": "OrKEe7GL3u5A"
      },
      "outputs": [],
      "source": [
        "from keras.preprocessing.image import ImageDataGenerator\n",
        "idg = ImageDataGenerator(zoom_range=0.2,\n",
        "                           fill_mode='nearest',\n",
        "                           rotation_range=25,  \n",
        "                           width_shift_range=0.25,  \n",
        "                           height_shift_range=0.25,  \n",
        "                           vertical_flip=False, \n",
        "                           horizontal_flip=True,\n",
        "                           shear_range = 0.2,\n",
        "                           samplewise_center=False, \n",
        "                           samplewise_std_normalization=False)\n"
      ]
    },
    {
      "cell_type": "code",
      "execution_count": null,
      "metadata": {
        "id": "i38kYwsB3u5B"
      },
      "outputs": [],
      "source": [
        "SEED= 10\n",
        "IMG_SIZE = (128, 128) \n",
        "####\n",
        "def flow_from_dataframe(imgDatGen, df, batch_size, seed, img_size):\n",
        "    #gc.collect()\n",
        "    gen_img = imgDatGen.flow_from_dataframe(dataframe=more_balanced_df,\n",
        "        x_col='path', y_col='Pneumothorax',\n",
        "        batch_size=batch_size, seed=seed, shuffle=True, class_mode='other',\n",
        "        target_size=img_size, color_mode='grayscale',\n",
        "        drop_duplicates=False)\n",
        "\n",
        "    \n",
        "        \n",
        "    while True:\n",
        "        X1i = gen_img.next()\n",
        "        #X2i = gen_img.next()\n",
        "        #gc.collect()\n",
        "        yield [X1i[0], X1i[1]]"
      ]
    },
    {
      "cell_type": "code",
      "execution_count": null,
      "metadata": {
        "id": "exRNe6Lu3u5C"
      },
      "outputs": [],
      "source": [
        "flow = flow_from_dataframe(idg, more_balanced_df, 7151, SEED, IMG_SIZE)"
      ]
    },
    {
      "cell_type": "code",
      "execution_count": null,
      "metadata": {
        "colab": {
          "base_uri": "https://localhost:8080/"
        },
        "id": "TYBMJIyv3u5C",
        "outputId": "2bf6dd6b-7631-452e-b9fc-4aea6ab5a31c"
      },
      "outputs": [
        {
          "output_type": "stream",
          "name": "stderr",
          "text": [
            "--- Logging error ---\n",
            "Traceback (most recent call last):\n",
            "  File \"/usr/lib/python3.7/logging/__init__.py\", line 1025, in emit\n",
            "    msg = self.format(record)\n",
            "  File \"/usr/lib/python3.7/logging/__init__.py\", line 869, in format\n",
            "    return fmt.format(record)\n",
            "  File \"/usr/lib/python3.7/logging/__init__.py\", line 608, in format\n",
            "    record.message = record.getMessage()\n",
            "  File \"/usr/lib/python3.7/logging/__init__.py\", line 369, in getMessage\n",
            "    msg = msg % self.args\n",
            "TypeError: not all arguments converted during string formatting\n",
            "Call stack:\n",
            "  File \"/usr/lib/python3.7/runpy.py\", line 193, in _run_module_as_main\n",
            "    \"__main__\", mod_spec)\n",
            "  File \"/usr/lib/python3.7/runpy.py\", line 85, in _run_code\n",
            "    exec(code, run_globals)\n",
            "  File \"/usr/local/lib/python3.7/dist-packages/ipykernel_launcher.py\", line 16, in <module>\n",
            "    app.launch_new_instance()\n",
            "  File \"/usr/local/lib/python3.7/dist-packages/traitlets/config/application.py\", line 846, in launch_instance\n",
            "    app.start()\n",
            "  File \"/usr/local/lib/python3.7/dist-packages/ipykernel/kernelapp.py\", line 499, in start\n",
            "    self.io_loop.start()\n",
            "  File \"/usr/local/lib/python3.7/dist-packages/tornado/platform/asyncio.py\", line 132, in start\n",
            "    self.asyncio_loop.run_forever()\n",
            "  File \"/usr/lib/python3.7/asyncio/base_events.py\", line 541, in run_forever\n",
            "    self._run_once()\n",
            "  File \"/usr/lib/python3.7/asyncio/base_events.py\", line 1786, in _run_once\n",
            "    handle._run()\n",
            "  File \"/usr/lib/python3.7/asyncio/events.py\", line 88, in _run\n",
            "    self._context.run(self._callback, *self._args)\n",
            "  File \"/usr/local/lib/python3.7/dist-packages/tornado/platform/asyncio.py\", line 122, in _handle_events\n",
            "    handler_func(fileobj, events)\n",
            "  File \"/usr/local/lib/python3.7/dist-packages/tornado/stack_context.py\", line 300, in null_wrapper\n",
            "    return fn(*args, **kwargs)\n",
            "  File \"/usr/local/lib/python3.7/dist-packages/zmq/eventloop/zmqstream.py\", line 452, in _handle_events\n",
            "    self._handle_recv()\n",
            "  File \"/usr/local/lib/python3.7/dist-packages/zmq/eventloop/zmqstream.py\", line 481, in _handle_recv\n",
            "    self._run_callback(callback, msg)\n",
            "  File \"/usr/local/lib/python3.7/dist-packages/zmq/eventloop/zmqstream.py\", line 431, in _run_callback\n",
            "    callback(*args, **kwargs)\n",
            "  File \"/usr/local/lib/python3.7/dist-packages/tornado/stack_context.py\", line 300, in null_wrapper\n",
            "    return fn(*args, **kwargs)\n",
            "  File \"/usr/local/lib/python3.7/dist-packages/ipykernel/kernelbase.py\", line 283, in dispatcher\n",
            "    return self.dispatch_shell(stream, msg)\n",
            "  File \"/usr/local/lib/python3.7/dist-packages/ipykernel/kernelbase.py\", line 233, in dispatch_shell\n",
            "    handler(stream, idents, msg)\n",
            "  File \"/usr/local/lib/python3.7/dist-packages/ipykernel/kernelbase.py\", line 399, in execute_request\n",
            "    user_expressions, allow_stdin)\n",
            "  File \"/usr/local/lib/python3.7/dist-packages/ipykernel/ipkernel.py\", line 208, in do_execute\n",
            "    res = shell.run_cell(code, store_history=store_history, silent=silent)\n",
            "  File \"/usr/local/lib/python3.7/dist-packages/ipykernel/zmqshell.py\", line 537, in run_cell\n",
            "    return super(ZMQInteractiveShell, self).run_cell(*args, **kwargs)\n",
            "  File \"/usr/local/lib/python3.7/dist-packages/IPython/core/interactiveshell.py\", line 2718, in run_cell\n",
            "    interactivity=interactivity, compiler=compiler, result=result)\n",
            "  File \"/usr/local/lib/python3.7/dist-packages/IPython/core/interactiveshell.py\", line 2822, in run_ast_nodes\n",
            "    if self.run_code(code, result):\n",
            "  File \"/usr/local/lib/python3.7/dist-packages/IPython/core/interactiveshell.py\", line 2882, in run_code\n",
            "    exec(code_obj, self.user_global_ns, self.user_ns)\n",
            "  File \"<ipython-input-14-710bbcbe35c6>\", line 1, in <module>\n",
            "    t,y= next(flow)\n",
            "  File \"<ipython-input-12-8cad9e65623d>\", line 10, in flow_from_dataframe\n",
            "    drop_duplicates=False)\n",
            "  File \"/usr/local/lib/python3.7/dist-packages/keras/preprocessing/image.py\", line 1109, in flow_from_dataframe\n",
            "    '`class_mode` \"raw\".', DeprecationWarning)\n",
            "  File \"/usr/local/lib/python3.7/dist-packages/tensorflow/python/platform/tf_logging.py\", line 178, in warning\n",
            "    get_logger().warning(msg, *args, **kwargs)\n",
            "Message: '`class_mode` \"other\" is deprecated, please use `class_mode` \"raw\".'\n",
            "Arguments: (<class 'DeprecationWarning'>,)\n",
            "--- Logging error ---\n",
            "Traceback (most recent call last):\n",
            "  File \"/usr/lib/python3.7/logging/__init__.py\", line 1025, in emit\n",
            "    msg = self.format(record)\n",
            "  File \"/usr/lib/python3.7/logging/__init__.py\", line 869, in format\n",
            "    return fmt.format(record)\n",
            "  File \"/usr/lib/python3.7/logging/__init__.py\", line 608, in format\n",
            "    record.message = record.getMessage()\n",
            "  File \"/usr/lib/python3.7/logging/__init__.py\", line 369, in getMessage\n",
            "    msg = msg % self.args\n",
            "TypeError: not all arguments converted during string formatting\n",
            "Call stack:\n",
            "  File \"/usr/lib/python3.7/runpy.py\", line 193, in _run_module_as_main\n",
            "    \"__main__\", mod_spec)\n",
            "  File \"/usr/lib/python3.7/runpy.py\", line 85, in _run_code\n",
            "    exec(code, run_globals)\n",
            "  File \"/usr/local/lib/python3.7/dist-packages/ipykernel_launcher.py\", line 16, in <module>\n",
            "    app.launch_new_instance()\n",
            "  File \"/usr/local/lib/python3.7/dist-packages/traitlets/config/application.py\", line 846, in launch_instance\n",
            "    app.start()\n",
            "  File \"/usr/local/lib/python3.7/dist-packages/ipykernel/kernelapp.py\", line 499, in start\n",
            "    self.io_loop.start()\n",
            "  File \"/usr/local/lib/python3.7/dist-packages/tornado/platform/asyncio.py\", line 132, in start\n",
            "    self.asyncio_loop.run_forever()\n",
            "  File \"/usr/lib/python3.7/asyncio/base_events.py\", line 541, in run_forever\n",
            "    self._run_once()\n",
            "  File \"/usr/lib/python3.7/asyncio/base_events.py\", line 1786, in _run_once\n",
            "    handle._run()\n",
            "  File \"/usr/lib/python3.7/asyncio/events.py\", line 88, in _run\n",
            "    self._context.run(self._callback, *self._args)\n",
            "  File \"/usr/local/lib/python3.7/dist-packages/tornado/platform/asyncio.py\", line 122, in _handle_events\n",
            "    handler_func(fileobj, events)\n",
            "  File \"/usr/local/lib/python3.7/dist-packages/tornado/stack_context.py\", line 300, in null_wrapper\n",
            "    return fn(*args, **kwargs)\n",
            "  File \"/usr/local/lib/python3.7/dist-packages/zmq/eventloop/zmqstream.py\", line 452, in _handle_events\n",
            "    self._handle_recv()\n",
            "  File \"/usr/local/lib/python3.7/dist-packages/zmq/eventloop/zmqstream.py\", line 481, in _handle_recv\n",
            "    self._run_callback(callback, msg)\n",
            "  File \"/usr/local/lib/python3.7/dist-packages/zmq/eventloop/zmqstream.py\", line 431, in _run_callback\n",
            "    callback(*args, **kwargs)\n",
            "  File \"/usr/local/lib/python3.7/dist-packages/tornado/stack_context.py\", line 300, in null_wrapper\n",
            "    return fn(*args, **kwargs)\n",
            "  File \"/usr/local/lib/python3.7/dist-packages/ipykernel/kernelbase.py\", line 283, in dispatcher\n",
            "    return self.dispatch_shell(stream, msg)\n",
            "  File \"/usr/local/lib/python3.7/dist-packages/ipykernel/kernelbase.py\", line 233, in dispatch_shell\n",
            "    handler(stream, idents, msg)\n",
            "  File \"/usr/local/lib/python3.7/dist-packages/ipykernel/kernelbase.py\", line 399, in execute_request\n",
            "    user_expressions, allow_stdin)\n",
            "  File \"/usr/local/lib/python3.7/dist-packages/ipykernel/ipkernel.py\", line 208, in do_execute\n",
            "    res = shell.run_cell(code, store_history=store_history, silent=silent)\n",
            "  File \"/usr/local/lib/python3.7/dist-packages/ipykernel/zmqshell.py\", line 537, in run_cell\n",
            "    return super(ZMQInteractiveShell, self).run_cell(*args, **kwargs)\n",
            "  File \"/usr/local/lib/python3.7/dist-packages/IPython/core/interactiveshell.py\", line 2718, in run_cell\n",
            "    interactivity=interactivity, compiler=compiler, result=result)\n",
            "  File \"/usr/local/lib/python3.7/dist-packages/IPython/core/interactiveshell.py\", line 2822, in run_ast_nodes\n",
            "    if self.run_code(code, result):\n",
            "  File \"/usr/local/lib/python3.7/dist-packages/IPython/core/interactiveshell.py\", line 2882, in run_code\n",
            "    exec(code_obj, self.user_global_ns, self.user_ns)\n",
            "  File \"<ipython-input-14-710bbcbe35c6>\", line 1, in <module>\n",
            "    t,y= next(flow)\n",
            "  File \"<ipython-input-12-8cad9e65623d>\", line 10, in flow_from_dataframe\n",
            "    drop_duplicates=False)\n",
            "  File \"/usr/local/lib/python3.7/dist-packages/keras/preprocessing/image.py\", line 1115, in flow_from_dataframe\n",
            "    DeprecationWarning)\n",
            "  File \"/usr/local/lib/python3.7/dist-packages/tensorflow/python/platform/tf_logging.py\", line 178, in warning\n",
            "    get_logger().warning(msg, *args, **kwargs)\n",
            "Message: 'drop_duplicates is deprecated, you can drop duplicates by using the pandas.DataFrame.drop_duplicates method.'\n",
            "Arguments: (<class 'DeprecationWarning'>,)\n"
          ]
        },
        {
          "output_type": "stream",
          "name": "stdout",
          "text": [
            "Found 15906 validated image filenames.\n"
          ]
        }
      ],
      "source": [
        "t,y= next(flow)"
      ]
    },
    {
      "cell_type": "code",
      "execution_count": null,
      "metadata": {
        "id": "c5-87ixT3u5D"
      },
      "outputs": [],
      "source": [
        "from sklearn.model_selection import train_test_split\n",
        "X_train, X_test, y_train, y_test = train_test_split(t,y, \n",
        "                                   test_size = 0.30, \n",
        "                                   random_state = 2018)\n"
      ]
    },
    {
      "cell_type": "code",
      "execution_count": null,
      "metadata": {
        "colab": {
          "base_uri": "https://localhost:8080/"
        },
        "id": "2mdWarDA3u5E",
        "outputId": "54c06b52-25b3-4d37-f36b-a56d7c53e331"
      },
      "outputs": [
        {
          "output_type": "stream",
          "name": "stdout",
          "text": [
            "Model: \"sequential\"\n",
            "_________________________________________________________________\n",
            " Layer (type)                Output Shape              Param #   \n",
            "=================================================================\n",
            " mobilenet_1.00_128 (Functio  (None, 4, 4, 1024)       3228288   \n",
            " nal)                                                            \n",
            "                                                                 \n",
            " global_average_pooling2d (G  (None, 1024)             0         \n",
            " lobalAveragePooling2D)                                          \n",
            "                                                                 \n",
            " dropout (Dropout)           (None, 1024)              0         \n",
            "                                                                 \n",
            " dense (Dense)               (None, 512)               524800    \n",
            "                                                                 \n",
            " dropout_1 (Dropout)         (None, 512)               0         \n",
            "                                                                 \n",
            " dense_1 (Dense)             (None, 1)                 513       \n",
            "                                                                 \n",
            "=================================================================\n",
            "Total params: 3,753,601\n",
            "Trainable params: 3,731,713\n",
            "Non-trainable params: 21,888\n",
            "_________________________________________________________________\n"
          ]
        }
      ],
      "source": [
        "from keras.applications.mobilenet import MobileNet\n",
        "from keras.layers import GlobalAveragePooling2D, Dense, Dropout, Flatten\n",
        "from keras.models import Sequential\n",
        "mobilenet_model = MobileNet(input_shape =  X_train.shape[1:], \n",
        "                                 include_top = False, weights = None)\n",
        "mobilenet_GAP_model = Sequential()\n",
        "mobilenet_GAP_model.add(mobilenet_model)\n",
        "mobilenet_GAP_model.add(GlobalAveragePooling2D())\n",
        "mobilenet_GAP_model.add(Dropout(0.5))\n",
        "mobilenet_GAP_model.add(Dense(512))\n",
        "mobilenet_GAP_model.add(Dropout(0.5))\n",
        "mobilenet_GAP_model.add(Dense(1, activation = 'sigmoid'))\n",
        "mobilenet_GAP_model.compile(optimizer = 'adam', loss = 'binary_crossentropy',\n",
        "                           metrics = ['binary_accuracy', 'mae'])\n",
        "mobilenet_GAP_model.summary()"
      ]
    },
    {
      "cell_type": "code",
      "execution_count": null,
      "metadata": {
        "id": "kNg1i3g43u5F"
      },
      "outputs": [],
      "source": [
        "from keras.callbacks import ModelCheckpoint, LearningRateScheduler, EarlyStopping, ReduceLROnPlateau\n",
        "weight_path=\"{}_weights.best.hdf5\".format('xray_class')\n",
        "\n",
        "checkpoint = ModelCheckpoint(weight_path, monitor='val_loss', verbose=1, \n",
        "                             save_best_only=True, mode='min', save_weights_only = True)\n",
        "\n",
        "early = EarlyStopping(monitor=\"val_loss\", \n",
        "                      mode=\"min\", \n",
        "                      patience=3)\n",
        "callbacks_list = [checkpoint, early]"
      ]
    },
    {
      "cell_type": "code",
      "execution_count": null,
      "metadata": {
        "colab": {
          "base_uri": "https://localhost:8080/"
        },
        "id": "Gp4WwJ833u5F",
        "outputId": "72400421-6f96-4c53-8bbc-86b4af0777e3"
      },
      "outputs": [
        {
          "output_type": "stream",
          "name": "stdout",
          "text": [
            "Epoch 1/10\n",
            "10/10 [==============================] - ETA: 0s - loss: 1.6290 - binary_accuracy: 0.5996 - mae: 0.4074 \n",
            "Epoch 00001: val_loss improved from inf to 0.68735, saving model to xray_class_weights.best.hdf5\n",
            "10/10 [==============================] - 370s 37s/step - loss: 1.6290 - binary_accuracy: 0.5996 - mae: 0.4074 - val_loss: 0.6874 - val_binary_accuracy: 0.6738 - val_mae: 0.4970\n",
            "Epoch 2/10\n",
            "10/10 [==============================] - ETA: 0s - loss: 0.9128 - binary_accuracy: 0.5838 - mae: 0.4300 \n",
            "Epoch 00002: val_loss did not improve from 0.68735\n",
            "10/10 [==============================] - 369s 37s/step - loss: 0.9128 - binary_accuracy: 0.5838 - mae: 0.4300 - val_loss: 0.7084 - val_binary_accuracy: 0.3262 - val_mae: 0.5072\n",
            "Epoch 3/10\n",
            "10/10 [==============================] - ETA: 0s - loss: 0.7613 - binary_accuracy: 0.6014 - mae: 0.4293 \n",
            "Epoch 00003: val_loss did not improve from 0.68735\n",
            "10/10 [==============================] - 362s 36s/step - loss: 0.7613 - binary_accuracy: 0.6014 - mae: 0.4293 - val_loss: 0.7046 - val_binary_accuracy: 0.3262 - val_mae: 0.5055\n",
            "Epoch 4/10\n",
            "10/10 [==============================] - ETA: 0s - loss: 0.7081 - binary_accuracy: 0.6350 - mae: 0.4140 \n",
            "Epoch 00004: val_loss did not improve from 0.68735\n",
            "10/10 [==============================] - 368s 37s/step - loss: 0.7081 - binary_accuracy: 0.6350 - mae: 0.4140 - val_loss: 0.6985 - val_binary_accuracy: 0.3262 - val_mae: 0.5026\n"
          ]
        }
      ],
      "source": [
        "history_mobilenet_GAP = mobilenet_GAP_model.fit(X_train,y_train,\n",
        "                                  steps_per_epoch=10,\n",
        "                                  validation_data = (X_test, y_test), \n",
        "                                  epochs = 10, \n",
        "                                  callbacks = callbacks_list)"
      ]
    },
    {
      "cell_type": "code",
      "execution_count": null,
      "metadata": {
        "colab": {
          "base_uri": "https://localhost:8080/"
        },
        "id": "pUQvLKq73u5G",
        "outputId": "199d9e9f-99c6-4a4c-e772-382519330d88"
      },
      "outputs": [
        {
          "output_type": "stream",
          "name": "stdout",
          "text": [
            "68/68 [==============================] - 25s 354ms/step\n"
          ]
        }
      ],
      "source": [
        "pred_Y = mobilenet_GAP_model.predict(X_test, \n",
        "                          batch_size = 32, \n",
        "                          verbose = True)"
      ]
    },
    {
      "cell_type": "code",
      "execution_count": null,
      "metadata": {
        "colab": {
          "base_uri": "https://localhost:8080/"
        },
        "id": "vKPCrVg-3u5H",
        "outputId": "c6cab47b-73a1-4f08-bcc3-21ab54a889b7"
      },
      "outputs": [
        {
          "output_type": "execute_result",
          "data": {
            "text/plain": [
              "array([[0.50759625],\n",
              "       [0.50759625],\n",
              "       [0.50759625],\n",
              "       ...,\n",
              "       [0.50759625],\n",
              "       [0.50759625],\n",
              "       [0.50759625]], dtype=float32)"
            ]
          },
          "metadata": {},
          "execution_count": 20
        }
      ],
      "source": [
        "pred_Y"
      ]
    },
    {
      "cell_type": "code",
      "execution_count": null,
      "metadata": {
        "colab": {
          "base_uri": "https://localhost:8080/"
        },
        "id": "MVpBerP93u5H",
        "outputId": "c1711ee6-89a0-4a49-e5de-c8ed5fc4d0ea"
      },
      "outputs": [
        {
          "output_type": "execute_result",
          "data": {
            "text/plain": [
              "array([0.50759625], dtype=float32)"
            ]
          },
          "metadata": {},
          "execution_count": 21
        }
      ],
      "source": [
        "min(pred_Y)"
      ]
    },
    {
      "cell_type": "code",
      "execution_count": null,
      "metadata": {
        "colab": {
          "base_uri": "https://localhost:8080/"
        },
        "id": "A7GptyFx3u5I",
        "outputId": "74b810ec-0293-4dd2-bd40-90c549d2d439"
      },
      "outputs": [
        {
          "output_type": "stream",
          "name": "stdout",
          "text": [
            "test accuracy =  0.32618826627731323\n"
          ]
        }
      ],
      "source": [
        "print('test accuracy = ',mobilenet_GAP_model.evaluate(X_test,y_test, verbose=0)[1])"
      ]
    },
    {
      "cell_type": "code",
      "execution_count": null,
      "metadata": {
        "colab": {
          "base_uri": "https://localhost:8080/"
        },
        "id": "YZRlgFuB3u5J",
        "outputId": "a60fac92-ee09-4936-c672-e79f6fdde8e8"
      },
      "outputs": [
        {
          "output_type": "stream",
          "name": "stdout",
          "text": [
            "roc score =  0.501519462556807\n"
          ]
        }
      ],
      "source": [
        "from sklearn.metrics import roc_auc_score\n",
        "print('roc score = ',roc_auc_score(y_test.astype(int), pred_Y))"
      ]
    },
    {
      "cell_type": "code",
      "execution_count": null,
      "metadata": {
        "colab": {
          "base_uri": "https://localhost:8080/",
          "height": 430
        },
        "id": "IhzzwTXX3u5J",
        "outputId": "82a177b6-4566-437a-921a-a5c5bf497b5c"
      },
      "outputs": [
        {
          "output_type": "stream",
          "name": "stdout",
          "text": [
            "                 precision    recall  f1-score   support\n",
            "\n",
            "No Pneumothorax       0.67      0.99      0.80      1446\n",
            "   Pneumothorax       0.43      0.01      0.02       700\n",
            "\n",
            "       accuracy                           0.67      2146\n",
            "      macro avg       0.55      0.50      0.41      2146\n",
            "   weighted avg       0.59      0.67      0.55      2146\n",
            "\n"
          ]
        },
        {
          "output_type": "display_data",
          "data": {
            "image/png": "[encoded data removed]",
            "text/plain": [
              "<Figure size 288x288 with 1 Axes>"
            ]
          },
          "metadata": {}
        }
      ],
      "source": [
        "from sklearn.metrics import classification_report, confusion_matrix\n",
        "plt.matshow(confusion_matrix(y_test, pred_Y>0.50759625))\n",
        "print(classification_report(y_test, pred_Y>0.50759625, target_names = ['No Pneumothorax', 'Pneumothorax']))"
      ]
    }
  ],
  "metadata": {
    "colab": {
      "collapsed_sections": [],
      "name": "Random_Undersampling.ipynb",
      "provenance": []
    },
    "kernelspec": {
      "display_name": "Python 3",
      "name": "python3"
    },
    "language_info": {
      "name": "python"
    }
  },
  "nbformat": 4,
  "nbformat_minor": 0
}